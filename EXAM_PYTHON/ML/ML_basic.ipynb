{
 "cells": [
  {
   "attachments": {},
   "cell_type": "markdown",
   "metadata": {},
   "source": [
    "#### 딥러닝 기초 개념\n",
    "\n",
    "- w : weight(가중치)\n",
    "- b : bias(편향)\n",
    "- neural network : hidden layer 존재\n",
    "- feature extraction(특성 추출) : 프로그램이 알아서 특성을 추출함\n",
    "- node : 숫자 = X(연결된 노드의 값) * w(가중치)\n",
    "- 오차 : predict - real\n",
    "- loss function(오차 계산): sum((오차)^2)/n 사용"
   ]
  },
  {
   "cell_type": "code",
   "execution_count": null,
   "metadata": {},
   "outputs": [],
   "source": []
  }
 ],
 "metadata": {
  "kernelspec": {
   "display_name": "base",
   "language": "python",
   "name": "python3"
  },
  "language_info": {
   "codemirror_mode": {
    "name": "ipython",
    "version": 3
   },
   "file_extension": ".py",
   "mimetype": "text/x-python",
   "name": "python",
   "nbconvert_exporter": "python",
   "pygments_lexer": "ipython3",
   "version": "3.9.15"
  },
  "orig_nbformat": 4,
  "vscode": {
   "interpreter": {
    "hash": "ad2bdc8ecc057115af97d19610ffacc2b4e99fae6737bb82f5d7fb13d2f2c186"
   }
  }
 },
 "nbformat": 4,
 "nbformat_minor": 2
}
