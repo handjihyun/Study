{
 "cells": [
  {
   "attachments": {},
   "cell_type": "markdown",
   "metadata": {},
   "source": [
    "#### 딥러닝 기초 개념\n",
    "\n",
    "- w : weight(가중치)\n",
    "- b : bias(편향)\n",
    "- neural network : hidden layer 존재\n",
    "- feature extraction(특성 추출) : 프로그램이 알아서 특성을 추출함\n",
    "- node : 숫자 = X(연결된 노드의 값) * w(가중치)\n",
    "- 오차 : predict - real\n",
    "- loss function(오차 계산) : sum(오차^2)/n 사용  => 최소화!"
   ]
  },
  {
   "attachments": {},
   "cell_type": "markdown",
   "metadata": {},
   "source": [
    "#### -------------------------------------------------------------------------\n",
    "##### 활성함수 (activation function)\n",
    "* 시그모이드 함수(sigmoid function)\n",
    "* 탄젠트 함수 (tangent function)\n",
    "* --> 비선형 예측 (non-linearity)"
   ]
  },
  {
   "attachments": {},
   "cell_type": "markdown",
   "metadata": {},
   "source": [
    "#### -------------------------------------------------------------------------\n",
    "##### 최적의 w 찾기\n",
    "* 첫번 째 w는 랜덤\n",
    "* 경사하강법 (Gradient Descent) : w - w의 접선의 기울기(w1이 총손실에 미치는 영향)\n",
    "* 극소점이 아닌 점(local minima)을 찾을 경우가 존재 ==> w - (기울기 * learning rate)\n",
    "* learning rate(alpha) optimizer : Momentum(가속도 유지), AdaGrad(자주 변하는 w 작게, 자주 변하면 크게), ★Adam"
   ]
  },
  {
   "cell_type": "markdown",
   "metadata": {},
   "source": []
  }
 ],
 "metadata": {
  "kernelspec": {
   "display_name": "base",
   "language": "python",
   "name": "python3"
  },
  "language_info": {
   "codemirror_mode": {
    "name": "ipython",
    "version": 3
   },
   "file_extension": ".py",
   "mimetype": "text/x-python",
   "name": "python",
   "nbconvert_exporter": "python",
   "pygments_lexer": "ipython3",
   "version": "3.9.15"
  },
  "orig_nbformat": 4,
  "vscode": {
   "interpreter": {
    "hash": "ad2bdc8ecc057115af97d19610ffacc2b4e99fae6737bb82f5d7fb13d2f2c186"
   }
  }
 },
 "nbformat": 4,
 "nbformat_minor": 2
}
