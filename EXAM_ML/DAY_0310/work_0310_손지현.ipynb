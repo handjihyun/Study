{
 "cells": [
  {
   "attachments": {},
   "cell_type": "markdown",
   "metadata": {},
   "source": [
    "#### [실습] auto-mpg 데이터 실습🚗\n",
    "1. mpg : 연비\n",
    "2. cylinders : 실린더 갯수\n",
    "3. displacement : 배기량\n",
    "4. horsepower : 마력\n",
    "5. weught : 무게\n",
    "6. acceleration : 엔진이 초당 얻을 수 있는 가속력\n",
    "7. model year : 출시연도\n",
    "8. origin : 제조 장소 (1 : 미국 USA, 2 : 유럽 EU, 3 : 일본 JPN)\n",
    "9. car name : 자동차 이름"
   ]
  },
  {
   "cell_type": "code",
   "execution_count": 732,
   "metadata": {},
   "outputs": [],
   "source": [
    "# 모듈 로딩\n",
    "import pandas as pd\n",
    "import matplotlib.pyplot as plt"
   ]
  },
  {
   "cell_type": "code",
   "execution_count": 733,
   "metadata": {},
   "outputs": [
    {
     "data": {
      "text/html": [
       "<div>\n",
       "<style scoped>\n",
       "    .dataframe tbody tr th:only-of-type {\n",
       "        vertical-align: middle;\n",
       "    }\n",
       "\n",
       "    .dataframe tbody tr th {\n",
       "        vertical-align: top;\n",
       "    }\n",
       "\n",
       "    .dataframe thead th {\n",
       "        text-align: right;\n",
       "    }\n",
       "</style>\n",
       "<table border=\"1\" class=\"dataframe\">\n",
       "  <thead>\n",
       "    <tr style=\"text-align: right;\">\n",
       "      <th></th>\n",
       "      <th>mpg</th>\n",
       "      <th>cylinders</th>\n",
       "      <th>displacement</th>\n",
       "      <th>horsepower</th>\n",
       "      <th>weight</th>\n",
       "      <th>acceleration</th>\n",
       "      <th>model year</th>\n",
       "      <th>origin</th>\n",
       "      <th>car name</th>\n",
       "    </tr>\n",
       "  </thead>\n",
       "  <tbody>\n",
       "    <tr>\n",
       "      <th>0</th>\n",
       "      <td>18.0</td>\n",
       "      <td>8</td>\n",
       "      <td>307.0</td>\n",
       "      <td>130</td>\n",
       "      <td>3504</td>\n",
       "      <td>12.0</td>\n",
       "      <td>70</td>\n",
       "      <td>1</td>\n",
       "      <td>chevrolet chevelle malibu</td>\n",
       "    </tr>\n",
       "    <tr>\n",
       "      <th>1</th>\n",
       "      <td>15.0</td>\n",
       "      <td>8</td>\n",
       "      <td>350.0</td>\n",
       "      <td>165</td>\n",
       "      <td>3693</td>\n",
       "      <td>11.5</td>\n",
       "      <td>70</td>\n",
       "      <td>1</td>\n",
       "      <td>buick skylark 320</td>\n",
       "    </tr>\n",
       "    <tr>\n",
       "      <th>2</th>\n",
       "      <td>18.0</td>\n",
       "      <td>8</td>\n",
       "      <td>318.0</td>\n",
       "      <td>150</td>\n",
       "      <td>3436</td>\n",
       "      <td>11.0</td>\n",
       "      <td>70</td>\n",
       "      <td>1</td>\n",
       "      <td>plymouth satellite</td>\n",
       "    </tr>\n",
       "    <tr>\n",
       "      <th>3</th>\n",
       "      <td>16.0</td>\n",
       "      <td>8</td>\n",
       "      <td>304.0</td>\n",
       "      <td>150</td>\n",
       "      <td>3433</td>\n",
       "      <td>12.0</td>\n",
       "      <td>70</td>\n",
       "      <td>1</td>\n",
       "      <td>amc rebel sst</td>\n",
       "    </tr>\n",
       "    <tr>\n",
       "      <th>4</th>\n",
       "      <td>17.0</td>\n",
       "      <td>8</td>\n",
       "      <td>302.0</td>\n",
       "      <td>140</td>\n",
       "      <td>3449</td>\n",
       "      <td>10.5</td>\n",
       "      <td>70</td>\n",
       "      <td>1</td>\n",
       "      <td>ford torino</td>\n",
       "    </tr>\n",
       "    <tr>\n",
       "      <th>...</th>\n",
       "      <td>...</td>\n",
       "      <td>...</td>\n",
       "      <td>...</td>\n",
       "      <td>...</td>\n",
       "      <td>...</td>\n",
       "      <td>...</td>\n",
       "      <td>...</td>\n",
       "      <td>...</td>\n",
       "      <td>...</td>\n",
       "    </tr>\n",
       "    <tr>\n",
       "      <th>393</th>\n",
       "      <td>27.0</td>\n",
       "      <td>4</td>\n",
       "      <td>140.0</td>\n",
       "      <td>86</td>\n",
       "      <td>2790</td>\n",
       "      <td>15.6</td>\n",
       "      <td>82</td>\n",
       "      <td>1</td>\n",
       "      <td>ford mustang gl</td>\n",
       "    </tr>\n",
       "    <tr>\n",
       "      <th>394</th>\n",
       "      <td>44.0</td>\n",
       "      <td>4</td>\n",
       "      <td>97.0</td>\n",
       "      <td>52</td>\n",
       "      <td>2130</td>\n",
       "      <td>24.6</td>\n",
       "      <td>82</td>\n",
       "      <td>2</td>\n",
       "      <td>vw pickup</td>\n",
       "    </tr>\n",
       "    <tr>\n",
       "      <th>395</th>\n",
       "      <td>32.0</td>\n",
       "      <td>4</td>\n",
       "      <td>135.0</td>\n",
       "      <td>84</td>\n",
       "      <td>2295</td>\n",
       "      <td>11.6</td>\n",
       "      <td>82</td>\n",
       "      <td>1</td>\n",
       "      <td>dodge rampage</td>\n",
       "    </tr>\n",
       "    <tr>\n",
       "      <th>396</th>\n",
       "      <td>28.0</td>\n",
       "      <td>4</td>\n",
       "      <td>120.0</td>\n",
       "      <td>79</td>\n",
       "      <td>2625</td>\n",
       "      <td>18.6</td>\n",
       "      <td>82</td>\n",
       "      <td>1</td>\n",
       "      <td>ford ranger</td>\n",
       "    </tr>\n",
       "    <tr>\n",
       "      <th>397</th>\n",
       "      <td>31.0</td>\n",
       "      <td>4</td>\n",
       "      <td>119.0</td>\n",
       "      <td>82</td>\n",
       "      <td>2720</td>\n",
       "      <td>19.4</td>\n",
       "      <td>82</td>\n",
       "      <td>1</td>\n",
       "      <td>chevy s-10</td>\n",
       "    </tr>\n",
       "  </tbody>\n",
       "</table>\n",
       "<p>398 rows × 9 columns</p>\n",
       "</div>"
      ],
      "text/plain": [
       "      mpg  cylinders  displacement horsepower  weight  acceleration  \\\n",
       "0    18.0          8         307.0        130    3504          12.0   \n",
       "1    15.0          8         350.0        165    3693          11.5   \n",
       "2    18.0          8         318.0        150    3436          11.0   \n",
       "3    16.0          8         304.0        150    3433          12.0   \n",
       "4    17.0          8         302.0        140    3449          10.5   \n",
       "..    ...        ...           ...        ...     ...           ...   \n",
       "393  27.0          4         140.0         86    2790          15.6   \n",
       "394  44.0          4          97.0         52    2130          24.6   \n",
       "395  32.0          4         135.0         84    2295          11.6   \n",
       "396  28.0          4         120.0         79    2625          18.6   \n",
       "397  31.0          4         119.0         82    2720          19.4   \n",
       "\n",
       "     model year  origin                   car name  \n",
       "0            70       1  chevrolet chevelle malibu  \n",
       "1            70       1          buick skylark 320  \n",
       "2            70       1         plymouth satellite  \n",
       "3            70       1              amc rebel sst  \n",
       "4            70       1                ford torino  \n",
       "..          ...     ...                        ...  \n",
       "393          82       1            ford mustang gl  \n",
       "394          82       2                  vw pickup  \n",
       "395          82       1              dodge rampage  \n",
       "396          82       1                ford ranger  \n",
       "397          82       1                 chevy s-10  \n",
       "\n",
       "[398 rows x 9 columns]"
      ]
     },
     "execution_count": 733,
     "metadata": {},
     "output_type": "execute_result"
    }
   ],
   "source": [
    "# 데이터 불러오기\n",
    "data = pd.read_csv('auto-mpg.csv')\n",
    "data"
   ]
  },
  {
   "cell_type": "code",
   "execution_count": 734,
   "metadata": {},
   "outputs": [
    {
     "name": "stdout",
     "output_type": "stream",
     "text": [
      "<class 'pandas.core.frame.DataFrame'>\n",
      "RangeIndex: 398 entries, 0 to 397\n",
      "Data columns (total 9 columns):\n",
      " #   Column        Non-Null Count  Dtype  \n",
      "---  ------        --------------  -----  \n",
      " 0   mpg           398 non-null    float64\n",
      " 1   cylinders     398 non-null    int64  \n",
      " 2   displacement  398 non-null    float64\n",
      " 3   horsepower    398 non-null    object \n",
      " 4   weight        398 non-null    int64  \n",
      " 5   acceleration  398 non-null    float64\n",
      " 6   model year    398 non-null    int64  \n",
      " 7   origin        398 non-null    int64  \n",
      " 8   car name      398 non-null    object \n",
      "dtypes: float64(3), int64(4), object(2)\n",
      "memory usage: 28.1+ KB\n"
     ]
    }
   ],
   "source": [
    "# 데이터 확인\n",
    "data.info()"
   ]
  },
  {
   "cell_type": "code",
   "execution_count": 735,
   "metadata": {},
   "outputs": [
    {
     "data": {
      "text/plain": [
       "array(['130', '165', '150', '140', '198', '220', '215', '225', '190',\n",
       "       '170', '160', '95', '97', '85', '88', '46', '87', '90', '113',\n",
       "       '200', '210', '193', '?', '100', '105', '175', '153', '180', '110',\n",
       "       '72', '86', '70', '76', '65', '69', '60', '80', '54', '208', '155',\n",
       "       '112', '92', '145', '137', '158', '167', '94', '107', '230', '49',\n",
       "       '75', '91', '122', '67', '83', '78', '52', '61', '93', '148',\n",
       "       '129', '96', '71', '98', '115', '53', '81', '79', '120', '152',\n",
       "       '102', '108', '68', '58', '149', '89', '63', '48', '66', '139',\n",
       "       '103', '125', '133', '138', '135', '142', '77', '62', '132', '84',\n",
       "       '64', '74', '116', '82'], dtype=object)"
      ]
     },
     "execution_count": 735,
     "metadata": {},
     "output_type": "execute_result"
    }
   ],
   "source": [
    "# horsepower의 고유값 출력\n",
    "data.horsepower.unique()"
   ]
  },
  {
   "cell_type": "code",
   "execution_count": 736,
   "metadata": {},
   "outputs": [
    {
     "data": {
      "text/plain": [
       "array([130, 165, 150, 140, 198, 220, 215, 225, 190, 170, 160,  95,  97,\n",
       "        85,  88,  46,  87,  90, 113, 200, 210, 193, 100, 105, 175, 153,\n",
       "       180, 110,  72,  86,  70,  76,  65,  69,  60,  80,  54, 208, 155,\n",
       "       112,  92, 145, 137, 158, 167,  94, 107, 230,  49,  75,  91, 122,\n",
       "        67,  83,  78,  52,  61,  93, 148, 129,  96,  71,  98, 115,  53,\n",
       "        81,  79, 120, 152, 102, 108,  68,  58, 149,  89,  63,  48,  66,\n",
       "       139, 103, 125, 133, 138, 135, 142,  77,  62, 132,  84,  64,  74,\n",
       "       116,  82], dtype=int64)"
      ]
     },
     "execution_count": 736,
     "metadata": {},
     "output_type": "execute_result"
    }
   ],
   "source": [
    "# horsepower의 '?' 값 제거\n",
    "data.drop(data[data['horsepower'] == '?'].index, inplace=True)\n",
    "data.horsepower = data.horsepower.astype('int64')\n",
    "data.horsepower.unique()"
   ]
  },
  {
   "cell_type": "code",
   "execution_count": 737,
   "metadata": {},
   "outputs": [
    {
     "data": {
      "text/html": [
       "<div>\n",
       "<style scoped>\n",
       "    .dataframe tbody tr th:only-of-type {\n",
       "        vertical-align: middle;\n",
       "    }\n",
       "\n",
       "    .dataframe tbody tr th {\n",
       "        vertical-align: top;\n",
       "    }\n",
       "\n",
       "    .dataframe thead th {\n",
       "        text-align: right;\n",
       "    }\n",
       "</style>\n",
       "<table border=\"1\" class=\"dataframe\">\n",
       "  <thead>\n",
       "    <tr style=\"text-align: right;\">\n",
       "      <th></th>\n",
       "      <th>mpg</th>\n",
       "      <th>cylinders</th>\n",
       "      <th>displacement</th>\n",
       "      <th>horsepower</th>\n",
       "      <th>weight</th>\n",
       "      <th>acceleration</th>\n",
       "      <th>model year</th>\n",
       "      <th>origin</th>\n",
       "    </tr>\n",
       "  </thead>\n",
       "  <tbody>\n",
       "    <tr>\n",
       "      <th>0</th>\n",
       "      <td>18.0</td>\n",
       "      <td>8</td>\n",
       "      <td>307.0</td>\n",
       "      <td>130</td>\n",
       "      <td>3504</td>\n",
       "      <td>12.0</td>\n",
       "      <td>70</td>\n",
       "      <td>1</td>\n",
       "    </tr>\n",
       "    <tr>\n",
       "      <th>1</th>\n",
       "      <td>15.0</td>\n",
       "      <td>8</td>\n",
       "      <td>350.0</td>\n",
       "      <td>165</td>\n",
       "      <td>3693</td>\n",
       "      <td>11.5</td>\n",
       "      <td>70</td>\n",
       "      <td>1</td>\n",
       "    </tr>\n",
       "    <tr>\n",
       "      <th>2</th>\n",
       "      <td>18.0</td>\n",
       "      <td>8</td>\n",
       "      <td>318.0</td>\n",
       "      <td>150</td>\n",
       "      <td>3436</td>\n",
       "      <td>11.0</td>\n",
       "      <td>70</td>\n",
       "      <td>1</td>\n",
       "    </tr>\n",
       "    <tr>\n",
       "      <th>3</th>\n",
       "      <td>16.0</td>\n",
       "      <td>8</td>\n",
       "      <td>304.0</td>\n",
       "      <td>150</td>\n",
       "      <td>3433</td>\n",
       "      <td>12.0</td>\n",
       "      <td>70</td>\n",
       "      <td>1</td>\n",
       "    </tr>\n",
       "    <tr>\n",
       "      <th>4</th>\n",
       "      <td>17.0</td>\n",
       "      <td>8</td>\n",
       "      <td>302.0</td>\n",
       "      <td>140</td>\n",
       "      <td>3449</td>\n",
       "      <td>10.5</td>\n",
       "      <td>70</td>\n",
       "      <td>1</td>\n",
       "    </tr>\n",
       "    <tr>\n",
       "      <th>...</th>\n",
       "      <td>...</td>\n",
       "      <td>...</td>\n",
       "      <td>...</td>\n",
       "      <td>...</td>\n",
       "      <td>...</td>\n",
       "      <td>...</td>\n",
       "      <td>...</td>\n",
       "      <td>...</td>\n",
       "    </tr>\n",
       "    <tr>\n",
       "      <th>387</th>\n",
       "      <td>27.0</td>\n",
       "      <td>4</td>\n",
       "      <td>140.0</td>\n",
       "      <td>86</td>\n",
       "      <td>2790</td>\n",
       "      <td>15.6</td>\n",
       "      <td>82</td>\n",
       "      <td>1</td>\n",
       "    </tr>\n",
       "    <tr>\n",
       "      <th>388</th>\n",
       "      <td>44.0</td>\n",
       "      <td>4</td>\n",
       "      <td>97.0</td>\n",
       "      <td>52</td>\n",
       "      <td>2130</td>\n",
       "      <td>24.6</td>\n",
       "      <td>82</td>\n",
       "      <td>2</td>\n",
       "    </tr>\n",
       "    <tr>\n",
       "      <th>389</th>\n",
       "      <td>32.0</td>\n",
       "      <td>4</td>\n",
       "      <td>135.0</td>\n",
       "      <td>84</td>\n",
       "      <td>2295</td>\n",
       "      <td>11.6</td>\n",
       "      <td>82</td>\n",
       "      <td>1</td>\n",
       "    </tr>\n",
       "    <tr>\n",
       "      <th>390</th>\n",
       "      <td>28.0</td>\n",
       "      <td>4</td>\n",
       "      <td>120.0</td>\n",
       "      <td>79</td>\n",
       "      <td>2625</td>\n",
       "      <td>18.6</td>\n",
       "      <td>82</td>\n",
       "      <td>1</td>\n",
       "    </tr>\n",
       "    <tr>\n",
       "      <th>391</th>\n",
       "      <td>31.0</td>\n",
       "      <td>4</td>\n",
       "      <td>119.0</td>\n",
       "      <td>82</td>\n",
       "      <td>2720</td>\n",
       "      <td>19.4</td>\n",
       "      <td>82</td>\n",
       "      <td>1</td>\n",
       "    </tr>\n",
       "  </tbody>\n",
       "</table>\n",
       "<p>392 rows × 8 columns</p>\n",
       "</div>"
      ],
      "text/plain": [
       "      mpg  cylinders  displacement  horsepower  weight  acceleration  \\\n",
       "0    18.0          8         307.0         130    3504          12.0   \n",
       "1    15.0          8         350.0         165    3693          11.5   \n",
       "2    18.0          8         318.0         150    3436          11.0   \n",
       "3    16.0          8         304.0         150    3433          12.0   \n",
       "4    17.0          8         302.0         140    3449          10.5   \n",
       "..    ...        ...           ...         ...     ...           ...   \n",
       "387  27.0          4         140.0          86    2790          15.6   \n",
       "388  44.0          4          97.0          52    2130          24.6   \n",
       "389  32.0          4         135.0          84    2295          11.6   \n",
       "390  28.0          4         120.0          79    2625          18.6   \n",
       "391  31.0          4         119.0          82    2720          19.4   \n",
       "\n",
       "     model year  origin  \n",
       "0            70       1  \n",
       "1            70       1  \n",
       "2            70       1  \n",
       "3            70       1  \n",
       "4            70       1  \n",
       "..          ...     ...  \n",
       "387          82       1  \n",
       "388          82       2  \n",
       "389          82       1  \n",
       "390          82       1  \n",
       "391          82       1  \n",
       "\n",
       "[392 rows x 8 columns]"
      ]
     },
     "execution_count": 737,
     "metadata": {},
     "output_type": "execute_result"
    }
   ],
   "source": [
    "data.drop(['car name'],axis = 1, inplace=True)\n",
    "data.origin.astype('int64')\n",
    "data = data.reset_index(drop=True)\n",
    "data"
   ]
  },
  {
   "cell_type": "code",
   "execution_count": 738,
   "metadata": {},
   "outputs": [
    {
     "data": {
      "text/html": [
       "<div>\n",
       "<style scoped>\n",
       "    .dataframe tbody tr th:only-of-type {\n",
       "        vertical-align: middle;\n",
       "    }\n",
       "\n",
       "    .dataframe tbody tr th {\n",
       "        vertical-align: top;\n",
       "    }\n",
       "\n",
       "    .dataframe thead th {\n",
       "        text-align: right;\n",
       "    }\n",
       "</style>\n",
       "<table border=\"1\" class=\"dataframe\">\n",
       "  <thead>\n",
       "    <tr style=\"text-align: right;\">\n",
       "      <th></th>\n",
       "      <th>mpg</th>\n",
       "      <th>cylinders</th>\n",
       "      <th>displacement</th>\n",
       "      <th>horsepower</th>\n",
       "      <th>weight</th>\n",
       "      <th>acceleration</th>\n",
       "      <th>model year</th>\n",
       "      <th>origin</th>\n",
       "    </tr>\n",
       "  </thead>\n",
       "  <tbody>\n",
       "    <tr>\n",
       "      <th>mpg</th>\n",
       "      <td>1.000000</td>\n",
       "      <td>-0.777618</td>\n",
       "      <td>-0.805127</td>\n",
       "      <td>-0.778427</td>\n",
       "      <td>-0.832244</td>\n",
       "      <td>0.423329</td>\n",
       "      <td>0.580541</td>\n",
       "      <td>0.565209</td>\n",
       "    </tr>\n",
       "    <tr>\n",
       "      <th>cylinders</th>\n",
       "      <td>-0.777618</td>\n",
       "      <td>1.000000</td>\n",
       "      <td>0.950823</td>\n",
       "      <td>0.842983</td>\n",
       "      <td>0.897527</td>\n",
       "      <td>-0.504683</td>\n",
       "      <td>-0.345647</td>\n",
       "      <td>-0.568932</td>\n",
       "    </tr>\n",
       "    <tr>\n",
       "      <th>displacement</th>\n",
       "      <td>-0.805127</td>\n",
       "      <td>0.950823</td>\n",
       "      <td>1.000000</td>\n",
       "      <td>0.897257</td>\n",
       "      <td>0.932994</td>\n",
       "      <td>-0.543800</td>\n",
       "      <td>-0.369855</td>\n",
       "      <td>-0.614535</td>\n",
       "    </tr>\n",
       "    <tr>\n",
       "      <th>horsepower</th>\n",
       "      <td>-0.778427</td>\n",
       "      <td>0.842983</td>\n",
       "      <td>0.897257</td>\n",
       "      <td>1.000000</td>\n",
       "      <td>0.864538</td>\n",
       "      <td>-0.689196</td>\n",
       "      <td>-0.416361</td>\n",
       "      <td>-0.455171</td>\n",
       "    </tr>\n",
       "    <tr>\n",
       "      <th>weight</th>\n",
       "      <td>-0.832244</td>\n",
       "      <td>0.897527</td>\n",
       "      <td>0.932994</td>\n",
       "      <td>0.864538</td>\n",
       "      <td>1.000000</td>\n",
       "      <td>-0.416839</td>\n",
       "      <td>-0.309120</td>\n",
       "      <td>-0.585005</td>\n",
       "    </tr>\n",
       "    <tr>\n",
       "      <th>acceleration</th>\n",
       "      <td>0.423329</td>\n",
       "      <td>-0.504683</td>\n",
       "      <td>-0.543800</td>\n",
       "      <td>-0.689196</td>\n",
       "      <td>-0.416839</td>\n",
       "      <td>1.000000</td>\n",
       "      <td>0.290316</td>\n",
       "      <td>0.212746</td>\n",
       "    </tr>\n",
       "    <tr>\n",
       "      <th>model year</th>\n",
       "      <td>0.580541</td>\n",
       "      <td>-0.345647</td>\n",
       "      <td>-0.369855</td>\n",
       "      <td>-0.416361</td>\n",
       "      <td>-0.309120</td>\n",
       "      <td>0.290316</td>\n",
       "      <td>1.000000</td>\n",
       "      <td>0.181528</td>\n",
       "    </tr>\n",
       "    <tr>\n",
       "      <th>origin</th>\n",
       "      <td>0.565209</td>\n",
       "      <td>-0.568932</td>\n",
       "      <td>-0.614535</td>\n",
       "      <td>-0.455171</td>\n",
       "      <td>-0.585005</td>\n",
       "      <td>0.212746</td>\n",
       "      <td>0.181528</td>\n",
       "      <td>1.000000</td>\n",
       "    </tr>\n",
       "  </tbody>\n",
       "</table>\n",
       "</div>"
      ],
      "text/plain": [
       "                   mpg  cylinders  displacement  horsepower    weight  \\\n",
       "mpg           1.000000  -0.777618     -0.805127   -0.778427 -0.832244   \n",
       "cylinders    -0.777618   1.000000      0.950823    0.842983  0.897527   \n",
       "displacement -0.805127   0.950823      1.000000    0.897257  0.932994   \n",
       "horsepower   -0.778427   0.842983      0.897257    1.000000  0.864538   \n",
       "weight       -0.832244   0.897527      0.932994    0.864538  1.000000   \n",
       "acceleration  0.423329  -0.504683     -0.543800   -0.689196 -0.416839   \n",
       "model year    0.580541  -0.345647     -0.369855   -0.416361 -0.309120   \n",
       "origin        0.565209  -0.568932     -0.614535   -0.455171 -0.585005   \n",
       "\n",
       "              acceleration  model year    origin  \n",
       "mpg               0.423329    0.580541  0.565209  \n",
       "cylinders        -0.504683   -0.345647 -0.568932  \n",
       "displacement     -0.543800   -0.369855 -0.614535  \n",
       "horsepower       -0.689196   -0.416361 -0.455171  \n",
       "weight           -0.416839   -0.309120 -0.585005  \n",
       "acceleration      1.000000    0.290316  0.212746  \n",
       "model year        0.290316    1.000000  0.181528  \n",
       "origin            0.212746    0.181528  1.000000  "
      ]
     },
     "execution_count": 738,
     "metadata": {},
     "output_type": "execute_result"
    }
   ],
   "source": [
    "# 상관계수\n",
    "corr_df = data.corr()\n",
    "corr_df"
   ]
  },
  {
   "cell_type": "code",
   "execution_count": 739,
   "metadata": {},
   "outputs": [
    {
     "data": {
      "text/plain": [
       "mpg     mpg             1.000000\n",
       "        cylinders      -0.777618\n",
       "        displacement   -0.805127\n",
       "        horsepower     -0.778427\n",
       "        weight         -0.832244\n",
       "                          ...   \n",
       "origin  horsepower     -0.455171\n",
       "        weight         -0.585005\n",
       "        acceleration    0.212746\n",
       "        model year      0.181528\n",
       "        origin          1.000000\n",
       "Length: 64, dtype: float64"
      ]
     },
     "execution_count": 739,
     "metadata": {},
     "output_type": "execute_result"
    }
   ],
   "source": [
    "s = corr_df.unstack()\n",
    "s"
   ]
  },
  {
   "cell_type": "code",
   "execution_count": 740,
   "metadata": {},
   "outputs": [
    {
     "data": {
      "text/html": [
       "<style type=\"text/css\">\n",
       "#T_1f366_row0_col0, #T_1f366_row1_col0 {\n",
       "  background-color: #08306b;\n",
       "  color: #f1f1f1;\n",
       "}\n",
       "#T_1f366_row2_col0, #T_1f366_row3_col0 {\n",
       "  background-color: #08326e;\n",
       "  color: #f1f1f1;\n",
       "}\n",
       "#T_1f366_row4_col0, #T_1f366_row5_col0, #T_1f366_row6_col0, #T_1f366_row7_col0 {\n",
       "  background-color: #083776;\n",
       "  color: #f1f1f1;\n",
       "}\n",
       "#T_1f366_row8_col0, #T_1f366_row9_col0 {\n",
       "  background-color: #083c7d;\n",
       "  color: #f1f1f1;\n",
       "}\n",
       "#T_1f366_row10_col0, #T_1f366_row11_col0 {\n",
       "  background-color: #084082;\n",
       "  color: #f1f1f1;\n",
       "}\n",
       "#T_1f366_row12_col0, #T_1f366_row13_col0 {\n",
       "  background-color: #1966ad;\n",
       "  color: #f1f1f1;\n",
       "}\n",
       "#T_1f366_row14_col0, #T_1f366_row15_col0 {\n",
       "  background-color: #1a68ae;\n",
       "  color: #f1f1f1;\n",
       "}\n",
       "#T_1f366_row16_col0, #T_1f366_row17_col0 {\n",
       "  background-color: #2d7dbb;\n",
       "  color: #f1f1f1;\n",
       "}\n",
       "#T_1f366_row18_col0, #T_1f366_row19_col0 {\n",
       "  background-color: #4090c5;\n",
       "  color: #f1f1f1;\n",
       "}\n",
       "#T_1f366_row20_col0, #T_1f366_row21_col0 {\n",
       "  background-color: #4e9acb;\n",
       "  color: #f1f1f1;\n",
       "}\n",
       "#T_1f366_row22_col0, #T_1f366_row23_col0 {\n",
       "  background-color: #549fcd;\n",
       "  color: #f1f1f1;\n",
       "}\n",
       "#T_1f366_row24_col0, #T_1f366_row25_col0 {\n",
       "  background-color: #b8d5ea;\n",
       "  color: #000000;\n",
       "}\n",
       "#T_1f366_row26_col0, #T_1f366_row27_col0 {\n",
       "  background-color: #bfd8ed;\n",
       "  color: #000000;\n",
       "}\n",
       "#T_1f366_row28_col0, #T_1f366_row29_col0 {\n",
       "  background-color: #c3daee;\n",
       "  color: #000000;\n",
       "}\n",
       "#T_1f366_row30_col0, #T_1f366_row31_col0, #T_1f366_row32_col0, #T_1f366_row33_col0 {\n",
       "  background-color: #caddf0;\n",
       "  color: #000000;\n",
       "}\n",
       "#T_1f366_row34_col0, #T_1f366_row35_col0 {\n",
       "  background-color: #cde0f1;\n",
       "  color: #000000;\n",
       "}\n",
       "#T_1f366_row36_col0, #T_1f366_row37_col0 {\n",
       "  background-color: #d3e3f3;\n",
       "  color: #000000;\n",
       "}\n",
       "#T_1f366_row38_col0, #T_1f366_row39_col0 {\n",
       "  background-color: #d7e6f5;\n",
       "  color: #000000;\n",
       "}\n",
       "#T_1f366_row40_col0, #T_1f366_row41_col0 {\n",
       "  background-color: #dae8f6;\n",
       "  color: #000000;\n",
       "}\n",
       "#T_1f366_row42_col0, #T_1f366_row43_col0 {\n",
       "  background-color: #dce9f6;\n",
       "  color: #000000;\n",
       "}\n",
       "#T_1f366_row44_col0, #T_1f366_row45_col0 {\n",
       "  background-color: #dfebf7;\n",
       "  color: #000000;\n",
       "}\n",
       "#T_1f366_row46_col0, #T_1f366_row47_col0 {\n",
       "  background-color: #e7f1fa;\n",
       "  color: #000000;\n",
       "}\n",
       "#T_1f366_row48_col0, #T_1f366_row49_col0, #T_1f366_row50_col0, #T_1f366_row51_col0 {\n",
       "  background-color: #f2f7fd;\n",
       "  color: #000000;\n",
       "}\n",
       "#T_1f366_row52_col0, #T_1f366_row53_col0 {\n",
       "  background-color: #f5f9fe;\n",
       "  color: #000000;\n",
       "}\n",
       "#T_1f366_row54_col0, #T_1f366_row55_col0 {\n",
       "  background-color: #f7fbff;\n",
       "  color: #000000;\n",
       "}\n",
       "</style>\n",
       "<table id=\"T_1f366\">\n",
       "  <thead>\n",
       "    <tr>\n",
       "      <th class=\"blank\" >&nbsp;</th>\n",
       "      <th class=\"blank level0\" >&nbsp;</th>\n",
       "      <th id=\"T_1f366_level0_col0\" class=\"col_heading level0 col0\" >corr</th>\n",
       "    </tr>\n",
       "  </thead>\n",
       "  <tbody>\n",
       "    <tr>\n",
       "      <th id=\"T_1f366_level0_row0\" class=\"row_heading level0 row0\" >displacement</th>\n",
       "      <th id=\"T_1f366_level1_row0\" class=\"row_heading level1 row0\" >cylinders</th>\n",
       "      <td id=\"T_1f366_row0_col0\" class=\"data row0 col0\" >0.950823</td>\n",
       "    </tr>\n",
       "    <tr>\n",
       "      <th id=\"T_1f366_level0_row1\" class=\"row_heading level0 row1\" >cylinders</th>\n",
       "      <th id=\"T_1f366_level1_row1\" class=\"row_heading level1 row1\" >displacement</th>\n",
       "      <td id=\"T_1f366_row1_col0\" class=\"data row1 col0\" >0.950823</td>\n",
       "    </tr>\n",
       "    <tr>\n",
       "      <th id=\"T_1f366_level0_row2\" class=\"row_heading level0 row2\" >displacement</th>\n",
       "      <th id=\"T_1f366_level1_row2\" class=\"row_heading level1 row2\" >weight</th>\n",
       "      <td id=\"T_1f366_row2_col0\" class=\"data row2 col0\" >0.932994</td>\n",
       "    </tr>\n",
       "    <tr>\n",
       "      <th id=\"T_1f366_level0_row3\" class=\"row_heading level0 row3\" >weight</th>\n",
       "      <th id=\"T_1f366_level1_row3\" class=\"row_heading level1 row3\" >displacement</th>\n",
       "      <td id=\"T_1f366_row3_col0\" class=\"data row3 col0\" >0.932994</td>\n",
       "    </tr>\n",
       "    <tr>\n",
       "      <th id=\"T_1f366_level0_row4\" class=\"row_heading level0 row4\" >cylinders</th>\n",
       "      <th id=\"T_1f366_level1_row4\" class=\"row_heading level1 row4\" >weight</th>\n",
       "      <td id=\"T_1f366_row4_col0\" class=\"data row4 col0\" >0.897527</td>\n",
       "    </tr>\n",
       "    <tr>\n",
       "      <th id=\"T_1f366_level0_row5\" class=\"row_heading level0 row5\" >weight</th>\n",
       "      <th id=\"T_1f366_level1_row5\" class=\"row_heading level1 row5\" >cylinders</th>\n",
       "      <td id=\"T_1f366_row5_col0\" class=\"data row5 col0\" >0.897527</td>\n",
       "    </tr>\n",
       "    <tr>\n",
       "      <th id=\"T_1f366_level0_row6\" class=\"row_heading level0 row6\" >horsepower</th>\n",
       "      <th id=\"T_1f366_level1_row6\" class=\"row_heading level1 row6\" >displacement</th>\n",
       "      <td id=\"T_1f366_row6_col0\" class=\"data row6 col0\" >0.897257</td>\n",
       "    </tr>\n",
       "    <tr>\n",
       "      <th id=\"T_1f366_level0_row7\" class=\"row_heading level0 row7\" >displacement</th>\n",
       "      <th id=\"T_1f366_level1_row7\" class=\"row_heading level1 row7\" >horsepower</th>\n",
       "      <td id=\"T_1f366_row7_col0\" class=\"data row7 col0\" >0.897257</td>\n",
       "    </tr>\n",
       "    <tr>\n",
       "      <th id=\"T_1f366_level0_row8\" class=\"row_heading level0 row8\" >weight</th>\n",
       "      <th id=\"T_1f366_level1_row8\" class=\"row_heading level1 row8\" >horsepower</th>\n",
       "      <td id=\"T_1f366_row8_col0\" class=\"data row8 col0\" >0.864538</td>\n",
       "    </tr>\n",
       "    <tr>\n",
       "      <th id=\"T_1f366_level0_row9\" class=\"row_heading level0 row9\" rowspan=\"2\">horsepower</th>\n",
       "      <th id=\"T_1f366_level1_row9\" class=\"row_heading level1 row9\" >weight</th>\n",
       "      <td id=\"T_1f366_row9_col0\" class=\"data row9 col0\" >0.864538</td>\n",
       "    </tr>\n",
       "    <tr>\n",
       "      <th id=\"T_1f366_level1_row10\" class=\"row_heading level1 row10\" >cylinders</th>\n",
       "      <td id=\"T_1f366_row10_col0\" class=\"data row10 col0\" >0.842983</td>\n",
       "    </tr>\n",
       "    <tr>\n",
       "      <th id=\"T_1f366_level0_row11\" class=\"row_heading level0 row11\" >cylinders</th>\n",
       "      <th id=\"T_1f366_level1_row11\" class=\"row_heading level1 row11\" >horsepower</th>\n",
       "      <td id=\"T_1f366_row11_col0\" class=\"data row11 col0\" >0.842983</td>\n",
       "    </tr>\n",
       "    <tr>\n",
       "      <th id=\"T_1f366_level0_row12\" class=\"row_heading level0 row12\" >mpg</th>\n",
       "      <th id=\"T_1f366_level1_row12\" class=\"row_heading level1 row12\" >model year</th>\n",
       "      <td id=\"T_1f366_row12_col0\" class=\"data row12 col0\" >0.580541</td>\n",
       "    </tr>\n",
       "    <tr>\n",
       "      <th id=\"T_1f366_level0_row13\" class=\"row_heading level0 row13\" >model year</th>\n",
       "      <th id=\"T_1f366_level1_row13\" class=\"row_heading level1 row13\" >mpg</th>\n",
       "      <td id=\"T_1f366_row13_col0\" class=\"data row13 col0\" >0.580541</td>\n",
       "    </tr>\n",
       "    <tr>\n",
       "      <th id=\"T_1f366_level0_row14\" class=\"row_heading level0 row14\" >mpg</th>\n",
       "      <th id=\"T_1f366_level1_row14\" class=\"row_heading level1 row14\" >origin</th>\n",
       "      <td id=\"T_1f366_row14_col0\" class=\"data row14 col0\" >0.565209</td>\n",
       "    </tr>\n",
       "    <tr>\n",
       "      <th id=\"T_1f366_level0_row15\" class=\"row_heading level0 row15\" >origin</th>\n",
       "      <th id=\"T_1f366_level1_row15\" class=\"row_heading level1 row15\" >mpg</th>\n",
       "      <td id=\"T_1f366_row15_col0\" class=\"data row15 col0\" >0.565209</td>\n",
       "    </tr>\n",
       "    <tr>\n",
       "      <th id=\"T_1f366_level0_row16\" class=\"row_heading level0 row16\" >acceleration</th>\n",
       "      <th id=\"T_1f366_level1_row16\" class=\"row_heading level1 row16\" >mpg</th>\n",
       "      <td id=\"T_1f366_row16_col0\" class=\"data row16 col0\" >0.423329</td>\n",
       "    </tr>\n",
       "    <tr>\n",
       "      <th id=\"T_1f366_level0_row17\" class=\"row_heading level0 row17\" >mpg</th>\n",
       "      <th id=\"T_1f366_level1_row17\" class=\"row_heading level1 row17\" >acceleration</th>\n",
       "      <td id=\"T_1f366_row17_col0\" class=\"data row17 col0\" >0.423329</td>\n",
       "    </tr>\n",
       "    <tr>\n",
       "      <th id=\"T_1f366_level0_row18\" class=\"row_heading level0 row18\" >acceleration</th>\n",
       "      <th id=\"T_1f366_level1_row18\" class=\"row_heading level1 row18\" >model year</th>\n",
       "      <td id=\"T_1f366_row18_col0\" class=\"data row18 col0\" >0.290316</td>\n",
       "    </tr>\n",
       "    <tr>\n",
       "      <th id=\"T_1f366_level0_row19\" class=\"row_heading level0 row19\" >model year</th>\n",
       "      <th id=\"T_1f366_level1_row19\" class=\"row_heading level1 row19\" >acceleration</th>\n",
       "      <td id=\"T_1f366_row19_col0\" class=\"data row19 col0\" >0.290316</td>\n",
       "    </tr>\n",
       "    <tr>\n",
       "      <th id=\"T_1f366_level0_row20\" class=\"row_heading level0 row20\" >acceleration</th>\n",
       "      <th id=\"T_1f366_level1_row20\" class=\"row_heading level1 row20\" >origin</th>\n",
       "      <td id=\"T_1f366_row20_col0\" class=\"data row20 col0\" >0.212746</td>\n",
       "    </tr>\n",
       "    <tr>\n",
       "      <th id=\"T_1f366_level0_row21\" class=\"row_heading level0 row21\" >origin</th>\n",
       "      <th id=\"T_1f366_level1_row21\" class=\"row_heading level1 row21\" >acceleration</th>\n",
       "      <td id=\"T_1f366_row21_col0\" class=\"data row21 col0\" >0.212746</td>\n",
       "    </tr>\n",
       "    <tr>\n",
       "      <th id=\"T_1f366_level0_row22\" class=\"row_heading level0 row22\" >model year</th>\n",
       "      <th id=\"T_1f366_level1_row22\" class=\"row_heading level1 row22\" >origin</th>\n",
       "      <td id=\"T_1f366_row22_col0\" class=\"data row22 col0\" >0.181528</td>\n",
       "    </tr>\n",
       "    <tr>\n",
       "      <th id=\"T_1f366_level0_row23\" class=\"row_heading level0 row23\" >origin</th>\n",
       "      <th id=\"T_1f366_level1_row23\" class=\"row_heading level1 row23\" >model year</th>\n",
       "      <td id=\"T_1f366_row23_col0\" class=\"data row23 col0\" >0.181528</td>\n",
       "    </tr>\n",
       "    <tr>\n",
       "      <th id=\"T_1f366_level0_row24\" class=\"row_heading level0 row24\" >weight</th>\n",
       "      <th id=\"T_1f366_level1_row24\" class=\"row_heading level1 row24\" >model year</th>\n",
       "      <td id=\"T_1f366_row24_col0\" class=\"data row24 col0\" >-0.309120</td>\n",
       "    </tr>\n",
       "    <tr>\n",
       "      <th id=\"T_1f366_level0_row25\" class=\"row_heading level0 row25\" rowspan=\"2\">model year</th>\n",
       "      <th id=\"T_1f366_level1_row25\" class=\"row_heading level1 row25\" >weight</th>\n",
       "      <td id=\"T_1f366_row25_col0\" class=\"data row25 col0\" >-0.309120</td>\n",
       "    </tr>\n",
       "    <tr>\n",
       "      <th id=\"T_1f366_level1_row26\" class=\"row_heading level1 row26\" >cylinders</th>\n",
       "      <td id=\"T_1f366_row26_col0\" class=\"data row26 col0\" >-0.345647</td>\n",
       "    </tr>\n",
       "    <tr>\n",
       "      <th id=\"T_1f366_level0_row27\" class=\"row_heading level0 row27\" >cylinders</th>\n",
       "      <th id=\"T_1f366_level1_row27\" class=\"row_heading level1 row27\" >model year</th>\n",
       "      <td id=\"T_1f366_row27_col0\" class=\"data row27 col0\" >-0.345647</td>\n",
       "    </tr>\n",
       "    <tr>\n",
       "      <th id=\"T_1f366_level0_row28\" class=\"row_heading level0 row28\" >model year</th>\n",
       "      <th id=\"T_1f366_level1_row28\" class=\"row_heading level1 row28\" >displacement</th>\n",
       "      <td id=\"T_1f366_row28_col0\" class=\"data row28 col0\" >-0.369855</td>\n",
       "    </tr>\n",
       "    <tr>\n",
       "      <th id=\"T_1f366_level0_row29\" class=\"row_heading level0 row29\" >displacement</th>\n",
       "      <th id=\"T_1f366_level1_row29\" class=\"row_heading level1 row29\" >model year</th>\n",
       "      <td id=\"T_1f366_row29_col0\" class=\"data row29 col0\" >-0.369855</td>\n",
       "    </tr>\n",
       "    <tr>\n",
       "      <th id=\"T_1f366_level0_row30\" class=\"row_heading level0 row30\" >horsepower</th>\n",
       "      <th id=\"T_1f366_level1_row30\" class=\"row_heading level1 row30\" >model year</th>\n",
       "      <td id=\"T_1f366_row30_col0\" class=\"data row30 col0\" >-0.416361</td>\n",
       "    </tr>\n",
       "    <tr>\n",
       "      <th id=\"T_1f366_level0_row31\" class=\"row_heading level0 row31\" >model year</th>\n",
       "      <th id=\"T_1f366_level1_row31\" class=\"row_heading level1 row31\" >horsepower</th>\n",
       "      <td id=\"T_1f366_row31_col0\" class=\"data row31 col0\" >-0.416361</td>\n",
       "    </tr>\n",
       "    <tr>\n",
       "      <th id=\"T_1f366_level0_row32\" class=\"row_heading level0 row32\" >weight</th>\n",
       "      <th id=\"T_1f366_level1_row32\" class=\"row_heading level1 row32\" >acceleration</th>\n",
       "      <td id=\"T_1f366_row32_col0\" class=\"data row32 col0\" >-0.416839</td>\n",
       "    </tr>\n",
       "    <tr>\n",
       "      <th id=\"T_1f366_level0_row33\" class=\"row_heading level0 row33\" >acceleration</th>\n",
       "      <th id=\"T_1f366_level1_row33\" class=\"row_heading level1 row33\" >weight</th>\n",
       "      <td id=\"T_1f366_row33_col0\" class=\"data row33 col0\" >-0.416839</td>\n",
       "    </tr>\n",
       "    <tr>\n",
       "      <th id=\"T_1f366_level0_row34\" class=\"row_heading level0 row34\" >horsepower</th>\n",
       "      <th id=\"T_1f366_level1_row34\" class=\"row_heading level1 row34\" >origin</th>\n",
       "      <td id=\"T_1f366_row34_col0\" class=\"data row34 col0\" >-0.455171</td>\n",
       "    </tr>\n",
       "    <tr>\n",
       "      <th id=\"T_1f366_level0_row35\" class=\"row_heading level0 row35\" >origin</th>\n",
       "      <th id=\"T_1f366_level1_row35\" class=\"row_heading level1 row35\" >horsepower</th>\n",
       "      <td id=\"T_1f366_row35_col0\" class=\"data row35 col0\" >-0.455171</td>\n",
       "    </tr>\n",
       "    <tr>\n",
       "      <th id=\"T_1f366_level0_row36\" class=\"row_heading level0 row36\" >cylinders</th>\n",
       "      <th id=\"T_1f366_level1_row36\" class=\"row_heading level1 row36\" >acceleration</th>\n",
       "      <td id=\"T_1f366_row36_col0\" class=\"data row36 col0\" >-0.504683</td>\n",
       "    </tr>\n",
       "    <tr>\n",
       "      <th id=\"T_1f366_level0_row37\" class=\"row_heading level0 row37\" rowspan=\"2\">acceleration</th>\n",
       "      <th id=\"T_1f366_level1_row37\" class=\"row_heading level1 row37\" >cylinders</th>\n",
       "      <td id=\"T_1f366_row37_col0\" class=\"data row37 col0\" >-0.504683</td>\n",
       "    </tr>\n",
       "    <tr>\n",
       "      <th id=\"T_1f366_level1_row38\" class=\"row_heading level1 row38\" >displacement</th>\n",
       "      <td id=\"T_1f366_row38_col0\" class=\"data row38 col0\" >-0.543800</td>\n",
       "    </tr>\n",
       "    <tr>\n",
       "      <th id=\"T_1f366_level0_row39\" class=\"row_heading level0 row39\" >displacement</th>\n",
       "      <th id=\"T_1f366_level1_row39\" class=\"row_heading level1 row39\" >acceleration</th>\n",
       "      <td id=\"T_1f366_row39_col0\" class=\"data row39 col0\" >-0.543800</td>\n",
       "    </tr>\n",
       "    <tr>\n",
       "      <th id=\"T_1f366_level0_row40\" class=\"row_heading level0 row40\" >origin</th>\n",
       "      <th id=\"T_1f366_level1_row40\" class=\"row_heading level1 row40\" >cylinders</th>\n",
       "      <td id=\"T_1f366_row40_col0\" class=\"data row40 col0\" >-0.568932</td>\n",
       "    </tr>\n",
       "    <tr>\n",
       "      <th id=\"T_1f366_level0_row41\" class=\"row_heading level0 row41\" >cylinders</th>\n",
       "      <th id=\"T_1f366_level1_row41\" class=\"row_heading level1 row41\" >origin</th>\n",
       "      <td id=\"T_1f366_row41_col0\" class=\"data row41 col0\" >-0.568932</td>\n",
       "    </tr>\n",
       "    <tr>\n",
       "      <th id=\"T_1f366_level0_row42\" class=\"row_heading level0 row42\" >weight</th>\n",
       "      <th id=\"T_1f366_level1_row42\" class=\"row_heading level1 row42\" >origin</th>\n",
       "      <td id=\"T_1f366_row42_col0\" class=\"data row42 col0\" >-0.585005</td>\n",
       "    </tr>\n",
       "    <tr>\n",
       "      <th id=\"T_1f366_level0_row43\" class=\"row_heading level0 row43\" rowspan=\"2\">origin</th>\n",
       "      <th id=\"T_1f366_level1_row43\" class=\"row_heading level1 row43\" >weight</th>\n",
       "      <td id=\"T_1f366_row43_col0\" class=\"data row43 col0\" >-0.585005</td>\n",
       "    </tr>\n",
       "    <tr>\n",
       "      <th id=\"T_1f366_level1_row44\" class=\"row_heading level1 row44\" >displacement</th>\n",
       "      <td id=\"T_1f366_row44_col0\" class=\"data row44 col0\" >-0.614535</td>\n",
       "    </tr>\n",
       "    <tr>\n",
       "      <th id=\"T_1f366_level0_row45\" class=\"row_heading level0 row45\" >displacement</th>\n",
       "      <th id=\"T_1f366_level1_row45\" class=\"row_heading level1 row45\" >origin</th>\n",
       "      <td id=\"T_1f366_row45_col0\" class=\"data row45 col0\" >-0.614535</td>\n",
       "    </tr>\n",
       "    <tr>\n",
       "      <th id=\"T_1f366_level0_row46\" class=\"row_heading level0 row46\" >acceleration</th>\n",
       "      <th id=\"T_1f366_level1_row46\" class=\"row_heading level1 row46\" >horsepower</th>\n",
       "      <td id=\"T_1f366_row46_col0\" class=\"data row46 col0\" >-0.689196</td>\n",
       "    </tr>\n",
       "    <tr>\n",
       "      <th id=\"T_1f366_level0_row47\" class=\"row_heading level0 row47\" >horsepower</th>\n",
       "      <th id=\"T_1f366_level1_row47\" class=\"row_heading level1 row47\" >acceleration</th>\n",
       "      <td id=\"T_1f366_row47_col0\" class=\"data row47 col0\" >-0.689196</td>\n",
       "    </tr>\n",
       "    <tr>\n",
       "      <th id=\"T_1f366_level0_row48\" class=\"row_heading level0 row48\" >mpg</th>\n",
       "      <th id=\"T_1f366_level1_row48\" class=\"row_heading level1 row48\" >cylinders</th>\n",
       "      <td id=\"T_1f366_row48_col0\" class=\"data row48 col0\" >-0.777618</td>\n",
       "    </tr>\n",
       "    <tr>\n",
       "      <th id=\"T_1f366_level0_row49\" class=\"row_heading level0 row49\" >cylinders</th>\n",
       "      <th id=\"T_1f366_level1_row49\" class=\"row_heading level1 row49\" >mpg</th>\n",
       "      <td id=\"T_1f366_row49_col0\" class=\"data row49 col0\" >-0.777618</td>\n",
       "    </tr>\n",
       "    <tr>\n",
       "      <th id=\"T_1f366_level0_row50\" class=\"row_heading level0 row50\" >horsepower</th>\n",
       "      <th id=\"T_1f366_level1_row50\" class=\"row_heading level1 row50\" >mpg</th>\n",
       "      <td id=\"T_1f366_row50_col0\" class=\"data row50 col0\" >-0.778427</td>\n",
       "    </tr>\n",
       "    <tr>\n",
       "      <th id=\"T_1f366_level0_row51\" class=\"row_heading level0 row51\" rowspan=\"2\">mpg</th>\n",
       "      <th id=\"T_1f366_level1_row51\" class=\"row_heading level1 row51\" >horsepower</th>\n",
       "      <td id=\"T_1f366_row51_col0\" class=\"data row51 col0\" >-0.778427</td>\n",
       "    </tr>\n",
       "    <tr>\n",
       "      <th id=\"T_1f366_level1_row52\" class=\"row_heading level1 row52\" >displacement</th>\n",
       "      <td id=\"T_1f366_row52_col0\" class=\"data row52 col0\" >-0.805127</td>\n",
       "    </tr>\n",
       "    <tr>\n",
       "      <th id=\"T_1f366_level0_row53\" class=\"row_heading level0 row53\" >displacement</th>\n",
       "      <th id=\"T_1f366_level1_row53\" class=\"row_heading level1 row53\" >mpg</th>\n",
       "      <td id=\"T_1f366_row53_col0\" class=\"data row53 col0\" >-0.805127</td>\n",
       "    </tr>\n",
       "    <tr>\n",
       "      <th id=\"T_1f366_level0_row54\" class=\"row_heading level0 row54\" >mpg</th>\n",
       "      <th id=\"T_1f366_level1_row54\" class=\"row_heading level1 row54\" >weight</th>\n",
       "      <td id=\"T_1f366_row54_col0\" class=\"data row54 col0\" >-0.832244</td>\n",
       "    </tr>\n",
       "    <tr>\n",
       "      <th id=\"T_1f366_level0_row55\" class=\"row_heading level0 row55\" >weight</th>\n",
       "      <th id=\"T_1f366_level1_row55\" class=\"row_heading level1 row55\" >mpg</th>\n",
       "      <td id=\"T_1f366_row55_col0\" class=\"data row55 col0\" >-0.832244</td>\n",
       "    </tr>\n",
       "  </tbody>\n",
       "</table>\n"
      ],
      "text/plain": [
       "<pandas.io.formats.style.Styler at 0x1cc13458850>"
      ]
     },
     "execution_count": 740,
     "metadata": {},
     "output_type": "execute_result"
    }
   ],
   "source": [
    "# 상관계수가 높은 순부터 정렬 ( 자기 자신과의 관계인 1 제외 )\n",
    "corr_DF = pd.DataFrame(s[s < 1].sort_values(ascending=False), columns=['corr'])\n",
    "corr_DF.style.background_gradient(cmap = 'Blues')"
   ]
  },
  {
   "cell_type": "code",
   "execution_count": 741,
   "metadata": {},
   "outputs": [
    {
     "data": {
      "image/png": "[encoded data removed]",
      "text/plain": [
       "<Figure size 640x480 with 2 Axes>"
      ]
     },
     "metadata": {},
     "output_type": "display_data"
    }
   ],
   "source": [
    "import seaborn as sns\n",
    "\n",
    "ax = sns.heatmap(corr_df, annot=True, annot_kws=dict(color='black'), cmap='Blues')\n",
    "plt.show()"
   ]
  },
  {
   "cell_type": "code",
   "execution_count": 742,
   "metadata": {},
   "outputs": [
    {
     "data": {
      "image/png": "[encoded data removed]",
      "text/plain": [
       "<Figure size 1000x1000 with 6 Axes>"
      ]
     },
     "metadata": {},
     "output_type": "display_data"
    }
   ],
   "source": [
    "# 히스토그램\n",
    "plt.figure(figsize=(10,10))\n",
    "\n",
    "for i in range(1, len(data.columns)-1):\n",
    "    plt.subplot(3, 3, i)\n",
    "    plt.hist(data[data.columns[i]])\n",
    "    plt.title(data.columns[i])"
   ]
  },
  {
   "cell_type": "code",
   "execution_count": 743,
   "metadata": {},
   "outputs": [
    {
     "data": {
      "text/html": [
       "<div>\n",
       "<style scoped>\n",
       "    .dataframe tbody tr th:only-of-type {\n",
       "        vertical-align: middle;\n",
       "    }\n",
       "\n",
       "    .dataframe tbody tr th {\n",
       "        vertical-align: top;\n",
       "    }\n",
       "\n",
       "    .dataframe thead th {\n",
       "        text-align: right;\n",
       "    }\n",
       "</style>\n",
       "<table border=\"1\" class=\"dataframe\">\n",
       "  <thead>\n",
       "    <tr style=\"text-align: right;\">\n",
       "      <th></th>\n",
       "      <th>cylinders</th>\n",
       "      <th>displacement</th>\n",
       "      <th>horsepower</th>\n",
       "      <th>weight</th>\n",
       "      <th>acceleration</th>\n",
       "      <th>model year</th>\n",
       "    </tr>\n",
       "  </thead>\n",
       "  <tbody>\n",
       "    <tr>\n",
       "      <th>0</th>\n",
       "      <td>1.483947</td>\n",
       "      <td>1.077290</td>\n",
       "      <td>0.664133</td>\n",
       "      <td>0.620540</td>\n",
       "      <td>-1.285258</td>\n",
       "      <td>-1.625315</td>\n",
       "    </tr>\n",
       "    <tr>\n",
       "      <th>1</th>\n",
       "      <td>1.483947</td>\n",
       "      <td>1.488732</td>\n",
       "      <td>1.574594</td>\n",
       "      <td>0.843334</td>\n",
       "      <td>-1.466724</td>\n",
       "      <td>-1.625315</td>\n",
       "    </tr>\n",
       "    <tr>\n",
       "      <th>2</th>\n",
       "      <td>1.483947</td>\n",
       "      <td>1.182542</td>\n",
       "      <td>1.184397</td>\n",
       "      <td>0.540382</td>\n",
       "      <td>-1.648189</td>\n",
       "      <td>-1.625315</td>\n",
       "    </tr>\n",
       "    <tr>\n",
       "      <th>3</th>\n",
       "      <td>1.483947</td>\n",
       "      <td>1.048584</td>\n",
       "      <td>1.184397</td>\n",
       "      <td>0.536845</td>\n",
       "      <td>-1.285258</td>\n",
       "      <td>-1.625315</td>\n",
       "    </tr>\n",
       "    <tr>\n",
       "      <th>4</th>\n",
       "      <td>1.483947</td>\n",
       "      <td>1.029447</td>\n",
       "      <td>0.924265</td>\n",
       "      <td>0.555706</td>\n",
       "      <td>-1.829655</td>\n",
       "      <td>-1.625315</td>\n",
       "    </tr>\n",
       "    <tr>\n",
       "      <th>...</th>\n",
       "      <td>...</td>\n",
       "      <td>...</td>\n",
       "      <td>...</td>\n",
       "      <td>...</td>\n",
       "      <td>...</td>\n",
       "      <td>...</td>\n",
       "    </tr>\n",
       "    <tr>\n",
       "      <th>387</th>\n",
       "      <td>-0.864014</td>\n",
       "      <td>-0.520637</td>\n",
       "      <td>-0.480448</td>\n",
       "      <td>-0.221125</td>\n",
       "      <td>0.021294</td>\n",
       "      <td>1.636410</td>\n",
       "    </tr>\n",
       "    <tr>\n",
       "      <th>388</th>\n",
       "      <td>-0.864014</td>\n",
       "      <td>-0.932079</td>\n",
       "      <td>-1.364896</td>\n",
       "      <td>-0.999134</td>\n",
       "      <td>3.287676</td>\n",
       "      <td>1.636410</td>\n",
       "    </tr>\n",
       "    <tr>\n",
       "      <th>389</th>\n",
       "      <td>-0.864014</td>\n",
       "      <td>-0.568479</td>\n",
       "      <td>-0.532474</td>\n",
       "      <td>-0.804632</td>\n",
       "      <td>-1.430430</td>\n",
       "      <td>1.636410</td>\n",
       "    </tr>\n",
       "    <tr>\n",
       "      <th>390</th>\n",
       "      <td>-0.864014</td>\n",
       "      <td>-0.712005</td>\n",
       "      <td>-0.662540</td>\n",
       "      <td>-0.415627</td>\n",
       "      <td>1.110088</td>\n",
       "      <td>1.636410</td>\n",
       "    </tr>\n",
       "    <tr>\n",
       "      <th>391</th>\n",
       "      <td>-0.864014</td>\n",
       "      <td>-0.721574</td>\n",
       "      <td>-0.584501</td>\n",
       "      <td>-0.303641</td>\n",
       "      <td>1.400433</td>\n",
       "      <td>1.636410</td>\n",
       "    </tr>\n",
       "  </tbody>\n",
       "</table>\n",
       "<p>392 rows × 6 columns</p>\n",
       "</div>"
      ],
      "text/plain": [
       "     cylinders  displacement  horsepower    weight  acceleration  model year\n",
       "0     1.483947      1.077290    0.664133  0.620540     -1.285258   -1.625315\n",
       "1     1.483947      1.488732    1.574594  0.843334     -1.466724   -1.625315\n",
       "2     1.483947      1.182542    1.184397  0.540382     -1.648189   -1.625315\n",
       "3     1.483947      1.048584    1.184397  0.536845     -1.285258   -1.625315\n",
       "4     1.483947      1.029447    0.924265  0.555706     -1.829655   -1.625315\n",
       "..         ...           ...         ...       ...           ...         ...\n",
       "387  -0.864014     -0.520637   -0.480448 -0.221125      0.021294    1.636410\n",
       "388  -0.864014     -0.932079   -1.364896 -0.999134      3.287676    1.636410\n",
       "389  -0.864014     -0.568479   -0.532474 -0.804632     -1.430430    1.636410\n",
       "390  -0.864014     -0.712005   -0.662540 -0.415627      1.110088    1.636410\n",
       "391  -0.864014     -0.721574   -0.584501 -0.303641      1.400433    1.636410\n",
       "\n",
       "[392 rows x 6 columns]"
      ]
     },
     "execution_count": 743,
     "metadata": {},
     "output_type": "execute_result"
    }
   ],
   "source": [
    "# 정규화\n",
    "# StandardScaler\n",
    "from sklearn.preprocessing import StandardScaler\n",
    "\n",
    "scaler = StandardScaler()\n",
    "df_std = scaler.fit_transform(data.iloc[:, 1:7])\n",
    "\n",
    "DF_std = pd.DataFrame(df_std, columns=data.columns[1:7])\n",
    "DF_std"
   ]
  },
  {
   "cell_type": "code",
   "execution_count": 744,
   "metadata": {},
   "outputs": [
    {
     "data": {
      "image/png": "[encoded data removed]",
      "text/plain": [
       "<Figure size 1000x1000 with 6 Axes>"
      ]
     },
     "metadata": {},
     "output_type": "display_data"
    }
   ],
   "source": [
    "plt.figure(figsize=(10, 10))\n",
    "\n",
    "for i in range(len(DF_std.columns)):\n",
    "    plt.subplot(3, 3, i+1)\n",
    "    plt.hist(DF_std[DF_std.columns[i]])\n",
    "    plt.title(DF_std.columns[i])"
   ]
  },
  {
   "cell_type": "code",
   "execution_count": 745,
   "metadata": {},
   "outputs": [
    {
     "data": {
      "text/html": [
       "<div>\n",
       "<style scoped>\n",
       "    .dataframe tbody tr th:only-of-type {\n",
       "        vertical-align: middle;\n",
       "    }\n",
       "\n",
       "    .dataframe tbody tr th {\n",
       "        vertical-align: top;\n",
       "    }\n",
       "\n",
       "    .dataframe thead th {\n",
       "        text-align: right;\n",
       "    }\n",
       "</style>\n",
       "<table border=\"1\" class=\"dataframe\">\n",
       "  <thead>\n",
       "    <tr style=\"text-align: right;\">\n",
       "      <th></th>\n",
       "      <th>cylinders</th>\n",
       "      <th>displacement</th>\n",
       "      <th>horsepower</th>\n",
       "      <th>weight</th>\n",
       "      <th>acceleration</th>\n",
       "      <th>model year</th>\n",
       "    </tr>\n",
       "  </thead>\n",
       "  <tbody>\n",
       "    <tr>\n",
       "      <th>0</th>\n",
       "      <td>1.0</td>\n",
       "      <td>0.913616</td>\n",
       "      <td>0.715686</td>\n",
       "      <td>0.504138</td>\n",
       "      <td>-1.076923</td>\n",
       "      <td>-1.0</td>\n",
       "    </tr>\n",
       "    <tr>\n",
       "      <th>1</th>\n",
       "      <td>1.0</td>\n",
       "      <td>1.165447</td>\n",
       "      <td>1.401961</td>\n",
       "      <td>0.640158</td>\n",
       "      <td>-1.230769</td>\n",
       "      <td>-1.0</td>\n",
       "    </tr>\n",
       "    <tr>\n",
       "      <th>2</th>\n",
       "      <td>1.0</td>\n",
       "      <td>0.978038</td>\n",
       "      <td>1.107843</td>\n",
       "      <td>0.455200</td>\n",
       "      <td>-1.384615</td>\n",
       "      <td>-1.0</td>\n",
       "    </tr>\n",
       "    <tr>\n",
       "      <th>3</th>\n",
       "      <td>1.0</td>\n",
       "      <td>0.896047</td>\n",
       "      <td>1.107843</td>\n",
       "      <td>0.453041</td>\n",
       "      <td>-1.076923</td>\n",
       "      <td>-1.0</td>\n",
       "    </tr>\n",
       "    <tr>\n",
       "      <th>4</th>\n",
       "      <td>1.0</td>\n",
       "      <td>0.884334</td>\n",
       "      <td>0.911765</td>\n",
       "      <td>0.464556</td>\n",
       "      <td>-1.538462</td>\n",
       "      <td>-1.0</td>\n",
       "    </tr>\n",
       "    <tr>\n",
       "      <th>...</th>\n",
       "      <td>...</td>\n",
       "      <td>...</td>\n",
       "      <td>...</td>\n",
       "      <td>...</td>\n",
       "      <td>...</td>\n",
       "      <td>...</td>\n",
       "    </tr>\n",
       "    <tr>\n",
       "      <th>387</th>\n",
       "      <td>0.0</td>\n",
       "      <td>-0.064422</td>\n",
       "      <td>-0.147059</td>\n",
       "      <td>-0.009716</td>\n",
       "      <td>0.030769</td>\n",
       "      <td>1.0</td>\n",
       "    </tr>\n",
       "    <tr>\n",
       "      <th>388</th>\n",
       "      <td>0.0</td>\n",
       "      <td>-0.316252</td>\n",
       "      <td>-0.813725</td>\n",
       "      <td>-0.484707</td>\n",
       "      <td>2.800000</td>\n",
       "      <td>1.0</td>\n",
       "    </tr>\n",
       "    <tr>\n",
       "      <th>389</th>\n",
       "      <td>0.0</td>\n",
       "      <td>-0.093704</td>\n",
       "      <td>-0.186275</td>\n",
       "      <td>-0.365959</td>\n",
       "      <td>-1.200000</td>\n",
       "      <td>1.0</td>\n",
       "    </tr>\n",
       "    <tr>\n",
       "      <th>390</th>\n",
       "      <td>0.0</td>\n",
       "      <td>-0.181552</td>\n",
       "      <td>-0.284314</td>\n",
       "      <td>-0.128463</td>\n",
       "      <td>0.953846</td>\n",
       "      <td>1.0</td>\n",
       "    </tr>\n",
       "    <tr>\n",
       "      <th>391</th>\n",
       "      <td>0.0</td>\n",
       "      <td>-0.187408</td>\n",
       "      <td>-0.225490</td>\n",
       "      <td>-0.060094</td>\n",
       "      <td>1.200000</td>\n",
       "      <td>1.0</td>\n",
       "    </tr>\n",
       "  </tbody>\n",
       "</table>\n",
       "<p>392 rows × 6 columns</p>\n",
       "</div>"
      ],
      "text/plain": [
       "     cylinders  displacement  horsepower    weight  acceleration  model year\n",
       "0          1.0      0.913616    0.715686  0.504138     -1.076923        -1.0\n",
       "1          1.0      1.165447    1.401961  0.640158     -1.230769        -1.0\n",
       "2          1.0      0.978038    1.107843  0.455200     -1.384615        -1.0\n",
       "3          1.0      0.896047    1.107843  0.453041     -1.076923        -1.0\n",
       "4          1.0      0.884334    0.911765  0.464556     -1.538462        -1.0\n",
       "..         ...           ...         ...       ...           ...         ...\n",
       "387        0.0     -0.064422   -0.147059 -0.009716      0.030769         1.0\n",
       "388        0.0     -0.316252   -0.813725 -0.484707      2.800000         1.0\n",
       "389        0.0     -0.093704   -0.186275 -0.365959     -1.200000         1.0\n",
       "390        0.0     -0.181552   -0.284314 -0.128463      0.953846         1.0\n",
       "391        0.0     -0.187408   -0.225490 -0.060094      1.200000         1.0\n",
       "\n",
       "[392 rows x 6 columns]"
      ]
     },
     "execution_count": 745,
     "metadata": {},
     "output_type": "execute_result"
    }
   ],
   "source": [
    "# 정규화 RobustScaler\n",
    "from sklearn.preprocessing import RobustScaler\n",
    "\n",
    "scaler = RobustScaler()\n",
    "df_robust = scaler.fit_transform(data.iloc[:, 1:7])\n",
    "\n",
    "DF_robust = pd.DataFrame(df_robust, columns=data.columns[1:7])\n",
    "DF_robust"
   ]
  },
  {
   "cell_type": "code",
   "execution_count": 746,
   "metadata": {},
   "outputs": [
    {
     "data": {
      "image/png": "[encoded data removed]",
      "text/plain": [
       "<Figure size 1000x1000 with 6 Axes>"
      ]
     },
     "metadata": {},
     "output_type": "display_data"
    }
   ],
   "source": [
    "plt.figure(figsize=(10, 10))\n",
    "\n",
    "for i in range(len(DF_robust.columns)):\n",
    "    plt.subplot(3, 3, i+1)\n",
    "    plt.hist(DF_robust[DF_robust.columns[i]])\n",
    "    plt.title(DF_robust.columns[i])"
   ]
  },
  {
   "cell_type": "code",
   "execution_count": 747,
   "metadata": {},
   "outputs": [],
   "source": [
    "# origin 인코딩\n",
    "from sklearn.preprocessing import OneHotEncoder\n",
    "\n",
    "ohe = OneHotEncoder(sparse=False)"
   ]
  },
  {
   "cell_type": "code",
   "execution_count": 748,
   "metadata": {},
   "outputs": [],
   "source": [
    "label = data.origin"
   ]
  },
  {
   "cell_type": "code",
   "execution_count": 749,
   "metadata": {},
   "outputs": [
    {
     "data": {
      "text/plain": [
       "(392, 1)"
      ]
     },
     "execution_count": 749,
     "metadata": {},
     "output_type": "execute_result"
    }
   ],
   "source": [
    "label.values.reshape(-1, 1).shape"
   ]
  },
  {
   "cell_type": "code",
   "execution_count": 750,
   "metadata": {},
   "outputs": [
    {
     "data": {
      "text/plain": [
       "OneHotEncoder(sparse=False)"
      ]
     },
     "execution_count": 750,
     "metadata": {},
     "output_type": "execute_result"
    }
   ],
   "source": [
    "ohe.fit(label.values.reshape(-1, 1))"
   ]
  },
  {
   "cell_type": "code",
   "execution_count": 751,
   "metadata": {},
   "outputs": [
    {
     "data": {
      "text/plain": [
       "array([[1., 0., 0.],\n",
       "       [1., 0., 0.],\n",
       "       [1., 0., 0.],\n",
       "       ...,\n",
       "       [1., 0., 0.],\n",
       "       [1., 0., 0.],\n",
       "       [1., 0., 0.]])"
      ]
     },
     "execution_count": 751,
     "metadata": {},
     "output_type": "execute_result"
    }
   ],
   "source": [
    "one_hot = ohe.transform(label.values.reshape(-1, 1))\n",
    "one_hot"
   ]
  },
  {
   "cell_type": "code",
   "execution_count": 752,
   "metadata": {},
   "outputs": [
    {
     "data": {
      "text/html": [
       "<div>\n",
       "<style scoped>\n",
       "    .dataframe tbody tr th:only-of-type {\n",
       "        vertical-align: middle;\n",
       "    }\n",
       "\n",
       "    .dataframe tbody tr th {\n",
       "        vertical-align: top;\n",
       "    }\n",
       "\n",
       "    .dataframe thead th {\n",
       "        text-align: right;\n",
       "    }\n",
       "</style>\n",
       "<table border=\"1\" class=\"dataframe\">\n",
       "  <thead>\n",
       "    <tr style=\"text-align: right;\">\n",
       "      <th></th>\n",
       "      <th>USA</th>\n",
       "      <th>EU</th>\n",
       "      <th>JPN</th>\n",
       "    </tr>\n",
       "  </thead>\n",
       "  <tbody>\n",
       "    <tr>\n",
       "      <th>0</th>\n",
       "      <td>1.0</td>\n",
       "      <td>0.0</td>\n",
       "      <td>0.0</td>\n",
       "    </tr>\n",
       "    <tr>\n",
       "      <th>1</th>\n",
       "      <td>1.0</td>\n",
       "      <td>0.0</td>\n",
       "      <td>0.0</td>\n",
       "    </tr>\n",
       "    <tr>\n",
       "      <th>2</th>\n",
       "      <td>1.0</td>\n",
       "      <td>0.0</td>\n",
       "      <td>0.0</td>\n",
       "    </tr>\n",
       "    <tr>\n",
       "      <th>3</th>\n",
       "      <td>1.0</td>\n",
       "      <td>0.0</td>\n",
       "      <td>0.0</td>\n",
       "    </tr>\n",
       "    <tr>\n",
       "      <th>4</th>\n",
       "      <td>1.0</td>\n",
       "      <td>0.0</td>\n",
       "      <td>0.0</td>\n",
       "    </tr>\n",
       "    <tr>\n",
       "      <th>...</th>\n",
       "      <td>...</td>\n",
       "      <td>...</td>\n",
       "      <td>...</td>\n",
       "    </tr>\n",
       "    <tr>\n",
       "      <th>387</th>\n",
       "      <td>1.0</td>\n",
       "      <td>0.0</td>\n",
       "      <td>0.0</td>\n",
       "    </tr>\n",
       "    <tr>\n",
       "      <th>388</th>\n",
       "      <td>0.0</td>\n",
       "      <td>1.0</td>\n",
       "      <td>0.0</td>\n",
       "    </tr>\n",
       "    <tr>\n",
       "      <th>389</th>\n",
       "      <td>1.0</td>\n",
       "      <td>0.0</td>\n",
       "      <td>0.0</td>\n",
       "    </tr>\n",
       "    <tr>\n",
       "      <th>390</th>\n",
       "      <td>1.0</td>\n",
       "      <td>0.0</td>\n",
       "      <td>0.0</td>\n",
       "    </tr>\n",
       "    <tr>\n",
       "      <th>391</th>\n",
       "      <td>1.0</td>\n",
       "      <td>0.0</td>\n",
       "      <td>0.0</td>\n",
       "    </tr>\n",
       "  </tbody>\n",
       "</table>\n",
       "<p>392 rows × 3 columns</p>\n",
       "</div>"
      ],
      "text/plain": [
       "     USA   EU  JPN\n",
       "0    1.0  0.0  0.0\n",
       "1    1.0  0.0  0.0\n",
       "2    1.0  0.0  0.0\n",
       "3    1.0  0.0  0.0\n",
       "4    1.0  0.0  0.0\n",
       "..   ...  ...  ...\n",
       "387  1.0  0.0  0.0\n",
       "388  0.0  1.0  0.0\n",
       "389  1.0  0.0  0.0\n",
       "390  1.0  0.0  0.0\n",
       "391  1.0  0.0  0.0\n",
       "\n",
       "[392 rows x 3 columns]"
      ]
     },
     "execution_count": 752,
     "metadata": {},
     "output_type": "execute_result"
    }
   ],
   "source": [
    "ohe_df = pd.DataFrame(one_hot, columns = ['USA', 'EU', \"JPN\"])\n",
    "ohe_df"
   ]
  },
  {
   "cell_type": "code",
   "execution_count": 753,
   "metadata": {},
   "outputs": [
    {
     "data": {
      "text/html": [
       "<div>\n",
       "<style scoped>\n",
       "    .dataframe tbody tr th:only-of-type {\n",
       "        vertical-align: middle;\n",
       "    }\n",
       "\n",
       "    .dataframe tbody tr th {\n",
       "        vertical-align: top;\n",
       "    }\n",
       "\n",
       "    .dataframe thead th {\n",
       "        text-align: right;\n",
       "    }\n",
       "</style>\n",
       "<table border=\"1\" class=\"dataframe\">\n",
       "  <thead>\n",
       "    <tr style=\"text-align: right;\">\n",
       "      <th></th>\n",
       "      <th>mpg</th>\n",
       "      <th>cylinders</th>\n",
       "      <th>displacement</th>\n",
       "      <th>horsepower</th>\n",
       "      <th>weight</th>\n",
       "      <th>acceleration</th>\n",
       "      <th>model year</th>\n",
       "      <th>USA</th>\n",
       "      <th>EU</th>\n",
       "      <th>JPN</th>\n",
       "    </tr>\n",
       "  </thead>\n",
       "  <tbody>\n",
       "    <tr>\n",
       "      <th>0</th>\n",
       "      <td>18.0</td>\n",
       "      <td>1.0</td>\n",
       "      <td>0.913616</td>\n",
       "      <td>0.715686</td>\n",
       "      <td>0.504138</td>\n",
       "      <td>-1.076923</td>\n",
       "      <td>-1.0</td>\n",
       "      <td>1.0</td>\n",
       "      <td>0.0</td>\n",
       "      <td>0.0</td>\n",
       "    </tr>\n",
       "    <tr>\n",
       "      <th>1</th>\n",
       "      <td>15.0</td>\n",
       "      <td>1.0</td>\n",
       "      <td>1.165447</td>\n",
       "      <td>1.401961</td>\n",
       "      <td>0.640158</td>\n",
       "      <td>-1.230769</td>\n",
       "      <td>-1.0</td>\n",
       "      <td>1.0</td>\n",
       "      <td>0.0</td>\n",
       "      <td>0.0</td>\n",
       "    </tr>\n",
       "    <tr>\n",
       "      <th>2</th>\n",
       "      <td>18.0</td>\n",
       "      <td>1.0</td>\n",
       "      <td>0.978038</td>\n",
       "      <td>1.107843</td>\n",
       "      <td>0.455200</td>\n",
       "      <td>-1.384615</td>\n",
       "      <td>-1.0</td>\n",
       "      <td>1.0</td>\n",
       "      <td>0.0</td>\n",
       "      <td>0.0</td>\n",
       "    </tr>\n",
       "    <tr>\n",
       "      <th>3</th>\n",
       "      <td>16.0</td>\n",
       "      <td>1.0</td>\n",
       "      <td>0.896047</td>\n",
       "      <td>1.107843</td>\n",
       "      <td>0.453041</td>\n",
       "      <td>-1.076923</td>\n",
       "      <td>-1.0</td>\n",
       "      <td>1.0</td>\n",
       "      <td>0.0</td>\n",
       "      <td>0.0</td>\n",
       "    </tr>\n",
       "    <tr>\n",
       "      <th>4</th>\n",
       "      <td>17.0</td>\n",
       "      <td>1.0</td>\n",
       "      <td>0.884334</td>\n",
       "      <td>0.911765</td>\n",
       "      <td>0.464556</td>\n",
       "      <td>-1.538462</td>\n",
       "      <td>-1.0</td>\n",
       "      <td>1.0</td>\n",
       "      <td>0.0</td>\n",
       "      <td>0.0</td>\n",
       "    </tr>\n",
       "    <tr>\n",
       "      <th>...</th>\n",
       "      <td>...</td>\n",
       "      <td>...</td>\n",
       "      <td>...</td>\n",
       "      <td>...</td>\n",
       "      <td>...</td>\n",
       "      <td>...</td>\n",
       "      <td>...</td>\n",
       "      <td>...</td>\n",
       "      <td>...</td>\n",
       "      <td>...</td>\n",
       "    </tr>\n",
       "    <tr>\n",
       "      <th>387</th>\n",
       "      <td>27.0</td>\n",
       "      <td>0.0</td>\n",
       "      <td>-0.064422</td>\n",
       "      <td>-0.147059</td>\n",
       "      <td>-0.009716</td>\n",
       "      <td>0.030769</td>\n",
       "      <td>1.0</td>\n",
       "      <td>1.0</td>\n",
       "      <td>0.0</td>\n",
       "      <td>0.0</td>\n",
       "    </tr>\n",
       "    <tr>\n",
       "      <th>388</th>\n",
       "      <td>44.0</td>\n",
       "      <td>0.0</td>\n",
       "      <td>-0.316252</td>\n",
       "      <td>-0.813725</td>\n",
       "      <td>-0.484707</td>\n",
       "      <td>2.800000</td>\n",
       "      <td>1.0</td>\n",
       "      <td>0.0</td>\n",
       "      <td>1.0</td>\n",
       "      <td>0.0</td>\n",
       "    </tr>\n",
       "    <tr>\n",
       "      <th>389</th>\n",
       "      <td>32.0</td>\n",
       "      <td>0.0</td>\n",
       "      <td>-0.093704</td>\n",
       "      <td>-0.186275</td>\n",
       "      <td>-0.365959</td>\n",
       "      <td>-1.200000</td>\n",
       "      <td>1.0</td>\n",
       "      <td>1.0</td>\n",
       "      <td>0.0</td>\n",
       "      <td>0.0</td>\n",
       "    </tr>\n",
       "    <tr>\n",
       "      <th>390</th>\n",
       "      <td>28.0</td>\n",
       "      <td>0.0</td>\n",
       "      <td>-0.181552</td>\n",
       "      <td>-0.284314</td>\n",
       "      <td>-0.128463</td>\n",
       "      <td>0.953846</td>\n",
       "      <td>1.0</td>\n",
       "      <td>1.0</td>\n",
       "      <td>0.0</td>\n",
       "      <td>0.0</td>\n",
       "    </tr>\n",
       "    <tr>\n",
       "      <th>391</th>\n",
       "      <td>31.0</td>\n",
       "      <td>0.0</td>\n",
       "      <td>-0.187408</td>\n",
       "      <td>-0.225490</td>\n",
       "      <td>-0.060094</td>\n",
       "      <td>1.200000</td>\n",
       "      <td>1.0</td>\n",
       "      <td>1.0</td>\n",
       "      <td>0.0</td>\n",
       "      <td>0.0</td>\n",
       "    </tr>\n",
       "  </tbody>\n",
       "</table>\n",
       "<p>392 rows × 10 columns</p>\n",
       "</div>"
      ],
      "text/plain": [
       "      mpg  cylinders  displacement  horsepower    weight  acceleration  \\\n",
       "0    18.0        1.0      0.913616    0.715686  0.504138     -1.076923   \n",
       "1    15.0        1.0      1.165447    1.401961  0.640158     -1.230769   \n",
       "2    18.0        1.0      0.978038    1.107843  0.455200     -1.384615   \n",
       "3    16.0        1.0      0.896047    1.107843  0.453041     -1.076923   \n",
       "4    17.0        1.0      0.884334    0.911765  0.464556     -1.538462   \n",
       "..    ...        ...           ...         ...       ...           ...   \n",
       "387  27.0        0.0     -0.064422   -0.147059 -0.009716      0.030769   \n",
       "388  44.0        0.0     -0.316252   -0.813725 -0.484707      2.800000   \n",
       "389  32.0        0.0     -0.093704   -0.186275 -0.365959     -1.200000   \n",
       "390  28.0        0.0     -0.181552   -0.284314 -0.128463      0.953846   \n",
       "391  31.0        0.0     -0.187408   -0.225490 -0.060094      1.200000   \n",
       "\n",
       "     model year  USA   EU  JPN  \n",
       "0          -1.0  1.0  0.0  0.0  \n",
       "1          -1.0  1.0  0.0  0.0  \n",
       "2          -1.0  1.0  0.0  0.0  \n",
       "3          -1.0  1.0  0.0  0.0  \n",
       "4          -1.0  1.0  0.0  0.0  \n",
       "..          ...  ...  ...  ...  \n",
       "387         1.0  1.0  0.0  0.0  \n",
       "388         1.0  0.0  1.0  0.0  \n",
       "389         1.0  1.0  0.0  0.0  \n",
       "390         1.0  1.0  0.0  0.0  \n",
       "391         1.0  1.0  0.0  0.0  \n",
       "\n",
       "[392 rows x 10 columns]"
      ]
     },
     "execution_count": 753,
     "metadata": {},
     "output_type": "execute_result"
    }
   ],
   "source": [
    "dataset = pd.concat([data['mpg'], DF_robust, ohe_df], axis=1)\n",
    "dataset"
   ]
  },
  {
   "attachments": {},
   "cell_type": "markdown",
   "metadata": {},
   "source": [
    "##### 1. 회귀 기반 모델링 - 회귀 (예측)"
   ]
  },
  {
   "attachments": {},
   "cell_type": "markdown",
   "metadata": {},
   "source": [
    "LinearRegression"
   ]
  },
  {
   "cell_type": "code",
   "execution_count": 754,
   "metadata": {},
   "outputs": [],
   "source": [
    "from sklearn.model_selection import train_test_split\n",
    "from sklearn.linear_model import LinearRegression\n",
    "from sklearn.metrics import mean_squared_error, r2_score"
   ]
  },
  {
   "cell_type": "code",
   "execution_count": 755,
   "metadata": {},
   "outputs": [],
   "source": [
    "y = dataset.pop('mpg')\n",
    "X = dataset"
   ]
  },
  {
   "cell_type": "code",
   "execution_count": 756,
   "metadata": {},
   "outputs": [],
   "source": [
    "X_train, X_test, y_train, y_test = train_test_split(X, y, test_size = 0.3, random_state=1)"
   ]
  },
  {
   "cell_type": "code",
   "execution_count": 757,
   "metadata": {},
   "outputs": [
    {
     "data": {
      "text/plain": [
       "(274, 274, 118, 118)"
      ]
     },
     "execution_count": 757,
     "metadata": {},
     "output_type": "execute_result"
    }
   ],
   "source": [
    "len(X_train), len(y_train), len(X_test), len(y_test)"
   ]
  },
  {
   "cell_type": "code",
   "execution_count": 758,
   "metadata": {},
   "outputs": [
    {
     "data": {
      "text/plain": [
       "LinearRegression()"
      ]
     },
     "execution_count": 758,
     "metadata": {},
     "output_type": "execute_result"
    }
   ],
   "source": [
    "lr = LinearRegression()\n",
    "lr.fit(X_train, y_train)"
   ]
  },
  {
   "cell_type": "code",
   "execution_count": 759,
   "metadata": {},
   "outputs": [],
   "source": [
    "y_pred = lr.predict(X_test)"
   ]
  },
  {
   "cell_type": "code",
   "execution_count": 760,
   "metadata": {},
   "outputs": [
    {
     "data": {
      "text/plain": [
       "(11.686647647209726, 0.8242172817490034)"
      ]
     },
     "execution_count": 760,
     "metadata": {},
     "output_type": "execute_result"
    }
   ],
   "source": [
    "mean_squared_error(y_pred, y_test), r2_score(y_test, y_pred)"
   ]
  },
  {
   "attachments": {},
   "cell_type": "markdown",
   "metadata": {},
   "source": [
    "PolynomialFeatures"
   ]
  },
  {
   "cell_type": "code",
   "execution_count": 761,
   "metadata": {},
   "outputs": [],
   "source": [
    "from sklearn.preprocessing import PolynomialFeatures"
   ]
  },
  {
   "cell_type": "code",
   "execution_count": 762,
   "metadata": {},
   "outputs": [],
   "source": [
    "poly = PolynomialFeatures(degree=2, interaction_only=True)\n",
    "X_train2 = poly.fit_transform(X_train)\n",
    "X_test2 = poly.fit_transform(X_test)"
   ]
  },
  {
   "cell_type": "code",
   "execution_count": 763,
   "metadata": {},
   "outputs": [],
   "source": [
    "poly_reg = LinearRegression()"
   ]
  },
  {
   "cell_type": "code",
   "execution_count": 764,
   "metadata": {},
   "outputs": [
    {
     "data": {
      "text/plain": [
       "LinearRegression()"
      ]
     },
     "execution_count": 764,
     "metadata": {},
     "output_type": "execute_result"
    }
   ],
   "source": [
    "poly_reg.fit(X_train2, y_train)"
   ]
  },
  {
   "cell_type": "code",
   "execution_count": 765,
   "metadata": {},
   "outputs": [],
   "source": [
    "y_pred2 = poly_reg.predict(X_test2)"
   ]
  },
  {
   "cell_type": "code",
   "execution_count": 766,
   "metadata": {},
   "outputs": [
    {
     "data": {
      "text/plain": [
       "(140.88554687500002, -1.1191059352147557)"
      ]
     },
     "execution_count": 766,
     "metadata": {},
     "output_type": "execute_result"
    }
   ],
   "source": [
    "mean_squared_error(y_pred2, y_test), r2_score(y_test, y_pred2)"
   ]
  },
  {
   "attachments": {},
   "cell_type": "markdown",
   "metadata": {},
   "source": [
    "Ridge"
   ]
  },
  {
   "cell_type": "code",
   "execution_count": 767,
   "metadata": {},
   "outputs": [],
   "source": [
    "from sklearn.linear_model import Ridge"
   ]
  },
  {
   "cell_type": "code",
   "execution_count": 768,
   "metadata": {},
   "outputs": [
    {
     "data": {
      "text/plain": [
       "Ridge(alpha=10)"
      ]
     },
     "execution_count": 768,
     "metadata": {},
     "output_type": "execute_result"
    }
   ],
   "source": [
    "ridge = Ridge(alpha = 10)\n",
    "ridge.fit(X_train, y_train)"
   ]
  },
  {
   "cell_type": "code",
   "execution_count": 769,
   "metadata": {},
   "outputs": [],
   "source": [
    "y_pred3 = ridge.predict(X_test)"
   ]
  },
  {
   "cell_type": "code",
   "execution_count": 770,
   "metadata": {},
   "outputs": [
    {
     "data": {
      "text/plain": [
       "(12.184234074359011, 0.816732920333351)"
      ]
     },
     "execution_count": 770,
     "metadata": {},
     "output_type": "execute_result"
    }
   ],
   "source": [
    "mean_squared_error(y_pred3, y_test), r2_score(y_test, y_pred3)"
   ]
  },
  {
   "attachments": {},
   "cell_type": "markdown",
   "metadata": {},
   "source": [
    "Lasso"
   ]
  },
  {
   "cell_type": "code",
   "execution_count": 771,
   "metadata": {},
   "outputs": [],
   "source": [
    "from sklearn.linear_model import Lasso"
   ]
  },
  {
   "cell_type": "code",
   "execution_count": 772,
   "metadata": {},
   "outputs": [
    {
     "data": {
      "text/plain": [
       "Lasso(alpha=0.1)"
      ]
     },
     "execution_count": 772,
     "metadata": {},
     "output_type": "execute_result"
    }
   ],
   "source": [
    "lasso = Lasso(alpha = 0.1)\n",
    "lasso.fit(X_train, y_train)"
   ]
  },
  {
   "cell_type": "code",
   "execution_count": 773,
   "metadata": {},
   "outputs": [],
   "source": [
    "y_pred4 = lasso.predict(X_test)"
   ]
  },
  {
   "cell_type": "code",
   "execution_count": 774,
   "metadata": {},
   "outputs": [
    {
     "data": {
      "text/plain": [
       "(11.72701463903556, 0.823610108523202)"
      ]
     },
     "execution_count": 774,
     "metadata": {},
     "output_type": "execute_result"
    }
   ],
   "source": [
    "mean_squared_error(y_pred4, y_test), r2_score(y_test, y_pred4)"
   ]
  },
  {
   "attachments": {},
   "cell_type": "markdown",
   "metadata": {},
   "source": [
    "##### 2. 회귀 기반 모델링 - 분류"
   ]
  },
  {
   "attachments": {},
   "cell_type": "markdown",
   "metadata": {},
   "source": [
    "LogisticRegression"
   ]
  },
  {
   "cell_type": "code",
   "execution_count": 775,
   "metadata": {},
   "outputs": [],
   "source": [
    "from sklearn.linear_model import LogisticRegression"
   ]
  },
  {
   "cell_type": "code",
   "execution_count": 776,
   "metadata": {},
   "outputs": [],
   "source": [
    "dataset2 = pd.concat([DF_robust, data.origin], axis = 1)"
   ]
  },
  {
   "cell_type": "code",
   "execution_count": 777,
   "metadata": {},
   "outputs": [],
   "source": [
    "y = dataset2.pop('origin')\n",
    "X = dataset2"
   ]
  },
  {
   "cell_type": "code",
   "execution_count": 778,
   "metadata": {},
   "outputs": [],
   "source": [
    "X_train, X_test, y_train, y_test = train_test_split(X, y, test_size = 0.3, random_state = 1)"
   ]
  },
  {
   "cell_type": "code",
   "execution_count": 779,
   "metadata": {},
   "outputs": [],
   "source": [
    "lr_clf = LogisticRegression()"
   ]
  },
  {
   "cell_type": "code",
   "execution_count": 780,
   "metadata": {},
   "outputs": [
    {
     "data": {
      "text/plain": [
       "LogisticRegression()"
      ]
     },
     "execution_count": 780,
     "metadata": {},
     "output_type": "execute_result"
    }
   ],
   "source": [
    "lr_clf.fit(X_train, y_train)"
   ]
  },
  {
   "cell_type": "code",
   "execution_count": 781,
   "metadata": {},
   "outputs": [],
   "source": [
    "lr_preds = lr_clf.predict(X_test)"
   ]
  },
  {
   "cell_type": "code",
   "execution_count": 782,
   "metadata": {},
   "outputs": [],
   "source": [
    "from sklearn.metrics import accuracy_score"
   ]
  },
  {
   "cell_type": "code",
   "execution_count": 783,
   "metadata": {},
   "outputs": [
    {
     "data": {
      "text/plain": [
       "0.7966101694915254"
      ]
     },
     "execution_count": 783,
     "metadata": {},
     "output_type": "execute_result"
    }
   ],
   "source": [
    "accuracy_score(y_test, lr_preds)"
   ]
  },
  {
   "cell_type": "code",
   "execution_count": 786,
   "metadata": {},
   "outputs": [
    {
     "name": "stdout",
     "output_type": "stream",
     "text": [
      "solver:lbfgs, accuracy: 0.797\n",
      "solver:liblinear, accuracy: 0.797\n",
      "solver:newton-cg, accuracy: 0.797\n",
      "solver:sag, accuracy: 0.797\n",
      "solver:saga, accuracy: 0.797\n"
     ]
    }
   ],
   "source": [
    "solvers = ['lbfgs', 'liblinear', 'newton-cg', 'sag', 'saga']\n",
    "\n",
    "for solver in solvers:\n",
    "    lr_clf_ = LogisticRegression(solver=solver, max_iter=600)\n",
    "    lr_clf_.fit(X_train, y_train)\n",
    "    lr_preds_ = lr_clf_.predict(X_test)\n",
    "\n",
    "    print('solver:{0}, accuracy: {1:.3f}'.format(solver, accuracy_score(y_test, lr_preds_)))"
   ]
  },
  {
   "cell_type": "code",
   "execution_count": null,
   "metadata": {},
   "outputs": [],
   "source": []
  }
 ],
 "metadata": {
  "kernelspec": {
   "display_name": "base",
   "language": "python",
   "name": "python3"
  },
  "language_info": {
   "codemirror_mode": {
    "name": "ipython",
    "version": 3
   },
   "file_extension": ".py",
   "mimetype": "text/x-python",
   "name": "python",
   "nbconvert_exporter": "python",
   "pygments_lexer": "ipython3",
   "version": "3.9.15"
  },
  "orig_nbformat": 4
 },
 "nbformat": 4,
 "nbformat_minor": 2
}
