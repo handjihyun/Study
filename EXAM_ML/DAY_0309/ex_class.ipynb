{
 "cells": [
  {
   "cell_type": "code",
   "execution_count": 10,
   "id": "be0a7a1f",
   "metadata": {},
   "outputs": [],
   "source": [
    "class MyClass:\n",
    "    \n",
    "    # 클래스 변수\n",
    "    loc = 'Daegu'\n",
    "    \n",
    "    def __init__(self, name):\n",
    "        self.name = name\n",
    "        \n",
    "    def display(self):\n",
    "        print(f'당신의 이름은 {self.name}이군요.')\n",
    "        print(f'당신의 고향은 {self.loc}이군요.')\n",
    "        \n",
    "    def check():\n",
    "        print(f'당신의 고향은 {MyClass.loc}이군요.')"
   ]
  },
  {
   "cell_type": "code",
   "execution_count": 11,
   "id": "79c8480c",
   "metadata": {},
   "outputs": [],
   "source": [
    "# 객체 생성\n",
    "me = MyClass('Hong')"
   ]
  },
  {
   "cell_type": "code",
   "execution_count": 13,
   "id": "b9162dbf",
   "metadata": {},
   "outputs": [
    {
     "name": "stdout",
     "output_type": "stream",
     "text": [
      "당신의 이름은 Hong이군요.\n",
      "당신의 고향은 Daegu이군요.\n"
     ]
    }
   ],
   "source": [
    "me.display()"
   ]
  },
  {
   "cell_type": "code",
   "execution_count": 15,
   "id": "91522a5c",
   "metadata": {},
   "outputs": [
    {
     "name": "stdout",
     "output_type": "stream",
     "text": [
      "당신의 고향은 Daegu이군요.\n"
     ]
    }
   ],
   "source": [
    "# 객체 생성 없이 사용하는 함수\n",
    "MyClass.check()"
   ]
  },
  {
   "cell_type": "code",
   "execution_count": 16,
   "id": "0c4aadd6",
   "metadata": {},
   "outputs": [
    {
     "data": {
      "text/plain": [
       "'Daegu'"
      ]
     },
     "execution_count": 16,
     "metadata": {},
     "output_type": "execute_result"
    }
   ],
   "source": [
    "MyClass.loc"
   ]
  },
  {
   "cell_type": "code",
   "execution_count": 18,
   "id": "ccbca6f6",
   "metadata": {},
   "outputs": [],
   "source": [
    "# MyClass.name      # Error!"
   ]
  },
  {
   "cell_type": "code",
   "execution_count": 20,
   "id": "2714fa07",
   "metadata": {},
   "outputs": [],
   "source": [
    "# enum 타입\n",
    "from enum import Enum"
   ]
  },
  {
   "cell_type": "code",
   "execution_count": 22,
   "id": "d033f7ce",
   "metadata": {},
   "outputs": [],
   "source": [
    "# Enum('season', {'spring', 'summer', 'fall', 'winter'})\n",
    "#                   1         2        3        4\n",
    "\n",
    "class Season(Enum):\n",
    "    spring = 1\n",
    "    summer = 2\n",
    "    fall = 3\n",
    "    winter = 4"
   ]
  },
  {
   "cell_type": "code",
   "execution_count": null,
   "id": "51e78d12",
   "metadata": {},
   "outputs": [],
   "source": []
  }
 ],
 "metadata": {
  "kernelspec": {
   "display_name": "Python 3 (ipykernel)",
   "language": "python",
   "name": "python3"
  },
  "language_info": {
   "codemirror_mode": {
    "name": "ipython",
    "version": 3
   },
   "file_extension": ".py",
   "mimetype": "text/x-python",
   "name": "python",
   "nbconvert_exporter": "python",
   "pygments_lexer": "ipython3",
   "version": "3.9.15"
  }
 },
 "nbformat": 4,
 "nbformat_minor": 5
}
