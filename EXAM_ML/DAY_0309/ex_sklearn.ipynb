{
 "cells": [
  {
   "cell_type": "markdown",
   "id": "7ad68f73",
   "metadata": {},
   "source": [
    "✔️ 하이퍼 파라미터 (Hyper Parameter)\n",
    "\n",
    ": 모델 성능에 영향을 미치며 수동 조절\n",
    "\n",
    "✔️ 모델 파라미터 (Model Parameter)\n",
    "\n",
    ": 모델 구성 변수들 즉 회귀계수, 가중치 학습으로 새로운 샘플에 대한 예측을 하기 위해 사용"
   ]
  },
  {
   "cell_type": "code",
   "execution_count": 1,
   "id": "33f24b84",
   "metadata": {},
   "outputs": [],
   "source": [
    "def add(a, b):\n",
    "    return a + b\n",
    "\n",
    "# a, b : parameter (매개변수)"
   ]
  },
  {
   "cell_type": "code",
   "execution_count": 2,
   "id": "679111e6",
   "metadata": {},
   "outputs": [
    {
     "name": "stdout",
     "output_type": "stream",
     "text": [
      "9\n"
     ]
    }
   ],
   "source": [
    "print(add(4, 5))\n",
    "\n",
    "# 4, 5 : argument (인자)"
   ]
  },
  {
   "cell_type": "markdown",
   "id": "130a9ad8",
   "metadata": {},
   "source": [
    "### 모델 성능 향상 위한 튜닝 (Tuning)\n",
    "✔️ 하이퍼파라미터의 값을 변경해 모델 성능 평가를 향상시키는 것\n",
    "\n",
    "✔️ 하이퍼파라미터는 학습 모델 마다 다름‼️\n",
    "\n",
    "✔️ sklearn에서는 자동화 함수로 GridSearchCV() 함수 제공"
   ]
  },
  {
   "cell_type": "code",
   "execution_count": 3,
   "id": "f6940021",
   "metadata": {},
   "outputs": [],
   "source": [
    "from sklearn.svm import SVC\n",
    "from sklearn.model_selection import GridSearchCV"
   ]
  },
  {
   "cell_type": "code",
   "execution_count": 4,
   "id": "47661aad",
   "metadata": {},
   "outputs": [],
   "source": [
    "model = SVC()"
   ]
  },
  {
   "cell_type": "code",
   "execution_count": 5,
   "id": "33b4d554",
   "metadata": {},
   "outputs": [
    {
     "data": {
      "text/plain": [
       "SVC(C=0.1, kernel='linear')"
      ]
     },
     "execution_count": 5,
     "metadata": {},
     "output_type": "execute_result"
    }
   ],
   "source": [
    "SVC(C = 0.1, kernel = 'linear')"
   ]
  },
  {
   "cell_type": "code",
   "execution_count": 6,
   "id": "fb356f8d",
   "metadata": {},
   "outputs": [
    {
     "data": {
      "text/plain": [
       "SVC(C=0.1)"
      ]
     },
     "execution_count": 6,
     "metadata": {},
     "output_type": "execute_result"
    }
   ],
   "source": [
    "SVC(C = 0.1, kernel = 'rbf')"
   ]
  },
  {
   "cell_type": "code",
   "execution_count": 7,
   "id": "6680dd8d",
   "metadata": {},
   "outputs": [
    {
     "data": {
      "text/plain": [
       "['mean_fit_time',\n",
       " 'mean_score_time',\n",
       " 'mean_test_score',\n",
       " 'mean_train_score',\n",
       " 'param_C',\n",
       " 'param_kernel',\n",
       " 'params',\n",
       " 'rank_test_score',\n",
       " 'split0_test_score',\n",
       " 'split0_train_score',\n",
       " 'split1_test_score',\n",
       " 'split1_train_score',\n",
       " 'split2_test_score',\n",
       " 'split2_train_score',\n",
       " 'split3_test_score',\n",
       " 'split3_train_score',\n",
       " 'split4_test_score',\n",
       " 'split4_train_score',\n",
       " 'std_fit_time',\n",
       " 'std_score_time',\n",
       " 'std_test_score',\n",
       " 'std_train_score']"
      ]
     },
     "execution_count": 7,
     "metadata": {},
     "output_type": "execute_result"
    }
   ],
   "source": [
    "from sklearn import svm, datasets\n",
    "from sklearn.model_selection import GridSearchCV\n",
    "iris = datasets.load_iris()\n",
    "parameters = {'kernel':('linear', 'rbf'), 'C':[1, 10]}\n",
    "svc = svm.SVC()\n",
    "clf = GridSearchCV(svc, parameters, return_train_score = True)\n",
    "clf.fit(iris.data, iris.target)\n",
    "\n",
    "sorted(clf.cv_results_.keys())"
   ]
  },
  {
   "cell_type": "code",
   "execution_count": 20,
   "id": "7350ad4e",
   "metadata": {
    "scrolled": true
   },
   "outputs": [
    {
     "data": {
      "text/plain": [
       "({'mean_fit_time': array([0.00039983, 0.00019979, 0.        , 0.        ]),\n",
       "  'std_fit_time': array([0.00048973, 0.00039959, 0.        , 0.        ]),\n",
       "  'mean_score_time': array([0.00031133, 0.00060153, 0.0001049 , 0.0005022 ]),\n",
       "  'std_score_time': array([0.00041773, 0.00049126, 0.00020981, 0.00063596]),\n",
       "  'param_C': masked_array(data=[1, 1, 10, 10],\n",
       "               mask=[False, False, False, False],\n",
       "         fill_value='?',\n",
       "              dtype=object),\n",
       "  'param_kernel': masked_array(data=['linear', 'rbf', 'linear', 'rbf'],\n",
       "               mask=[False, False, False, False],\n",
       "         fill_value='?',\n",
       "              dtype=object),\n",
       "  'params': [{'C': 1, 'kernel': 'linear'},\n",
       "   {'C': 1, 'kernel': 'rbf'},\n",
       "   {'C': 10, 'kernel': 'linear'},\n",
       "   {'C': 10, 'kernel': 'rbf'}],\n",
       "  'split0_test_score': array([0.96666667, 0.96666667, 1.        , 0.96666667]),\n",
       "  'split1_test_score': array([1.        , 0.96666667, 1.        , 1.        ]),\n",
       "  'split2_test_score': array([0.96666667, 0.96666667, 0.9       , 0.96666667]),\n",
       "  'split3_test_score': array([0.96666667, 0.93333333, 0.96666667, 0.96666667]),\n",
       "  'split4_test_score': array([1., 1., 1., 1.]),\n",
       "  'mean_test_score': array([0.98      , 0.96666667, 0.97333333, 0.98      ]),\n",
       "  'std_test_score': array([0.01632993, 0.02108185, 0.03887301, 0.01632993]),\n",
       "  'rank_test_score': array([1, 4, 3, 1]),\n",
       "  'split0_train_score': array([0.975     , 0.98333333, 0.96666667, 0.975     ]),\n",
       "  'split1_train_score': array([0.975     , 0.95833333, 0.96666667, 0.98333333]),\n",
       "  'split2_train_score': array([0.99166667, 0.98333333, 0.99166667, 0.99166667]),\n",
       "  'split3_train_score': array([0.98333333, 0.98333333, 0.99166667, 0.99166667]),\n",
       "  'split4_train_score': array([0.98333333, 0.95833333, 0.975     , 0.98333333]),\n",
       "  'mean_train_score': array([0.98166667, 0.97333333, 0.97833333, 0.985     ]),\n",
       "  'std_train_score': array([0.0062361 , 0.01224745, 0.01130388, 0.0062361 ])},\n",
       " {'C': 1, 'kernel': 'linear'},\n",
       " 0.9800000000000001)"
      ]
     },
     "execution_count": 20,
     "metadata": {},
     "output_type": "execute_result"
    }
   ],
   "source": [
    "# 결과 => GridSearchCV의 속성에 존재\n",
    "clf.cv_results_, clf.best_params_, clf.best_score_"
   ]
  },
  {
   "cell_type": "code",
   "execution_count": 10,
   "id": "320081f8",
   "metadata": {},
   "outputs": [],
   "source": [
    "# CV 결과를 데이터프레임으로 변환\n",
    "import pandas as pd\n",
    "\n",
    "cvDF = pd.DataFrame(clf.cv_results_)"
   ]
  },
  {
   "cell_type": "code",
   "execution_count": 23,
   "id": "a265f294",
   "metadata": {},
   "outputs": [
    {
     "data": {
      "text/html": [
       "<div>\n",
       "<style scoped>\n",
       "    .dataframe tbody tr th:only-of-type {\n",
       "        vertical-align: middle;\n",
       "    }\n",
       "\n",
       "    .dataframe tbody tr th {\n",
       "        vertical-align: top;\n",
       "    }\n",
       "\n",
       "    .dataframe thead th {\n",
       "        text-align: right;\n",
       "    }\n",
       "</style>\n",
       "<table border=\"1\" class=\"dataframe\">\n",
       "  <thead>\n",
       "    <tr style=\"text-align: right;\">\n",
       "      <th></th>\n",
       "      <th>mean_fit_time</th>\n",
       "      <th>std_fit_time</th>\n",
       "      <th>mean_score_time</th>\n",
       "      <th>std_score_time</th>\n",
       "      <th>param_C</th>\n",
       "      <th>param_kernel</th>\n",
       "      <th>params</th>\n",
       "      <th>split0_test_score</th>\n",
       "      <th>split1_test_score</th>\n",
       "      <th>split2_test_score</th>\n",
       "      <th>...</th>\n",
       "      <th>mean_test_score</th>\n",
       "      <th>std_test_score</th>\n",
       "      <th>rank_test_score</th>\n",
       "      <th>split0_train_score</th>\n",
       "      <th>split1_train_score</th>\n",
       "      <th>split2_train_score</th>\n",
       "      <th>split3_train_score</th>\n",
       "      <th>split4_train_score</th>\n",
       "      <th>mean_train_score</th>\n",
       "      <th>std_train_score</th>\n",
       "    </tr>\n",
       "  </thead>\n",
       "  <tbody>\n",
       "    <tr>\n",
       "      <th>0</th>\n",
       "      <td>0.0004</td>\n",
       "      <td>0.00049</td>\n",
       "      <td>0.000311</td>\n",
       "      <td>0.000418</td>\n",
       "      <td>1</td>\n",
       "      <td>linear</td>\n",
       "      <td>{'C': 1, 'kernel': 'linear'}</td>\n",
       "      <td>0.966667</td>\n",
       "      <td>1.000000</td>\n",
       "      <td>0.966667</td>\n",
       "      <td>...</td>\n",
       "      <td>0.980000</td>\n",
       "      <td>0.016330</td>\n",
       "      <td>1</td>\n",
       "      <td>0.975000</td>\n",
       "      <td>0.975000</td>\n",
       "      <td>0.991667</td>\n",
       "      <td>0.983333</td>\n",
       "      <td>0.983333</td>\n",
       "      <td>0.981667</td>\n",
       "      <td>0.006236</td>\n",
       "    </tr>\n",
       "    <tr>\n",
       "      <th>1</th>\n",
       "      <td>0.0002</td>\n",
       "      <td>0.00040</td>\n",
       "      <td>0.000602</td>\n",
       "      <td>0.000491</td>\n",
       "      <td>1</td>\n",
       "      <td>rbf</td>\n",
       "      <td>{'C': 1, 'kernel': 'rbf'}</td>\n",
       "      <td>0.966667</td>\n",
       "      <td>0.966667</td>\n",
       "      <td>0.966667</td>\n",
       "      <td>...</td>\n",
       "      <td>0.966667</td>\n",
       "      <td>0.021082</td>\n",
       "      <td>4</td>\n",
       "      <td>0.983333</td>\n",
       "      <td>0.958333</td>\n",
       "      <td>0.983333</td>\n",
       "      <td>0.983333</td>\n",
       "      <td>0.958333</td>\n",
       "      <td>0.973333</td>\n",
       "      <td>0.012247</td>\n",
       "    </tr>\n",
       "    <tr>\n",
       "      <th>2</th>\n",
       "      <td>0.0000</td>\n",
       "      <td>0.00000</td>\n",
       "      <td>0.000105</td>\n",
       "      <td>0.000210</td>\n",
       "      <td>10</td>\n",
       "      <td>linear</td>\n",
       "      <td>{'C': 10, 'kernel': 'linear'}</td>\n",
       "      <td>1.000000</td>\n",
       "      <td>1.000000</td>\n",
       "      <td>0.900000</td>\n",
       "      <td>...</td>\n",
       "      <td>0.973333</td>\n",
       "      <td>0.038873</td>\n",
       "      <td>3</td>\n",
       "      <td>0.966667</td>\n",
       "      <td>0.966667</td>\n",
       "      <td>0.991667</td>\n",
       "      <td>0.991667</td>\n",
       "      <td>0.975000</td>\n",
       "      <td>0.978333</td>\n",
       "      <td>0.011304</td>\n",
       "    </tr>\n",
       "    <tr>\n",
       "      <th>3</th>\n",
       "      <td>0.0000</td>\n",
       "      <td>0.00000</td>\n",
       "      <td>0.000502</td>\n",
       "      <td>0.000636</td>\n",
       "      <td>10</td>\n",
       "      <td>rbf</td>\n",
       "      <td>{'C': 10, 'kernel': 'rbf'}</td>\n",
       "      <td>0.966667</td>\n",
       "      <td>1.000000</td>\n",
       "      <td>0.966667</td>\n",
       "      <td>...</td>\n",
       "      <td>0.980000</td>\n",
       "      <td>0.016330</td>\n",
       "      <td>1</td>\n",
       "      <td>0.975000</td>\n",
       "      <td>0.983333</td>\n",
       "      <td>0.991667</td>\n",
       "      <td>0.991667</td>\n",
       "      <td>0.983333</td>\n",
       "      <td>0.985000</td>\n",
       "      <td>0.006236</td>\n",
       "    </tr>\n",
       "  </tbody>\n",
       "</table>\n",
       "<p>4 rows × 22 columns</p>\n",
       "</div>"
      ],
      "text/plain": [
       "   mean_fit_time  std_fit_time  mean_score_time  std_score_time param_C  \\\n",
       "0         0.0004       0.00049         0.000311        0.000418       1   \n",
       "1         0.0002       0.00040         0.000602        0.000491       1   \n",
       "2         0.0000       0.00000         0.000105        0.000210      10   \n",
       "3         0.0000       0.00000         0.000502        0.000636      10   \n",
       "\n",
       "  param_kernel                         params  split0_test_score  \\\n",
       "0       linear   {'C': 1, 'kernel': 'linear'}           0.966667   \n",
       "1          rbf      {'C': 1, 'kernel': 'rbf'}           0.966667   \n",
       "2       linear  {'C': 10, 'kernel': 'linear'}           1.000000   \n",
       "3          rbf     {'C': 10, 'kernel': 'rbf'}           0.966667   \n",
       "\n",
       "   split1_test_score  split2_test_score  ...  mean_test_score  std_test_score  \\\n",
       "0           1.000000           0.966667  ...         0.980000        0.016330   \n",
       "1           0.966667           0.966667  ...         0.966667        0.021082   \n",
       "2           1.000000           0.900000  ...         0.973333        0.038873   \n",
       "3           1.000000           0.966667  ...         0.980000        0.016330   \n",
       "\n",
       "   rank_test_score  split0_train_score  split1_train_score  \\\n",
       "0                1            0.975000            0.975000   \n",
       "1                4            0.983333            0.958333   \n",
       "2                3            0.966667            0.966667   \n",
       "3                1            0.975000            0.983333   \n",
       "\n",
       "   split2_train_score  split3_train_score  split4_train_score  \\\n",
       "0            0.991667            0.983333            0.983333   \n",
       "1            0.983333            0.983333            0.958333   \n",
       "2            0.991667            0.991667            0.975000   \n",
       "3            0.991667            0.991667            0.983333   \n",
       "\n",
       "   mean_train_score  std_train_score  \n",
       "0          0.981667         0.006236  \n",
       "1          0.973333         0.012247  \n",
       "2          0.978333         0.011304  \n",
       "3          0.985000         0.006236  \n",
       "\n",
       "[4 rows x 22 columns]"
      ]
     },
     "execution_count": 23,
     "metadata": {},
     "output_type": "execute_result"
    }
   ],
   "source": [
    "cvDF"
   ]
  },
  {
   "cell_type": "code",
   "execution_count": 12,
   "id": "0ae0bd77",
   "metadata": {},
   "outputs": [
    {
     "data": {
      "text/plain": [
       "{'C': 1, 'kernel': 'linear'}"
      ]
     },
     "execution_count": 12,
     "metadata": {},
     "output_type": "execute_result"
    }
   ],
   "source": [
    "clf.best_params_"
   ]
  },
  {
   "cell_type": "code",
   "execution_count": 13,
   "id": "317c5479",
   "metadata": {},
   "outputs": [
    {
     "data": {
      "text/plain": [
       "0.9800000000000001"
      ]
     },
     "execution_count": 13,
     "metadata": {},
     "output_type": "execute_result"
    }
   ],
   "source": [
    "clf.best_score_"
   ]
  },
  {
   "cell_type": "code",
   "execution_count": 24,
   "id": "e5dd221d",
   "metadata": {},
   "outputs": [],
   "source": [
    "# 최적의 하이퍼파라미터 적용된 모델\n",
    "svc = clf.best_estimator_"
   ]
  },
  {
   "cell_type": "code",
   "execution_count": 25,
   "id": "f337fb6f",
   "metadata": {},
   "outputs": [
    {
     "data": {
      "text/plain": [
       "SVC(C=1, kernel='linear')"
      ]
     },
     "execution_count": 25,
     "metadata": {},
     "output_type": "execute_result"
    }
   ],
   "source": [
    "svc"
   ]
  },
  {
   "cell_type": "code",
   "execution_count": 16,
   "id": "50aa95a3",
   "metadata": {},
   "outputs": [],
   "source": [
    "parameters = {'kernel':('linear', 'rbf'), 'C':[1, 10]}\n",
    "svc1 = svm.SVC(kernel = 'linear', C = 10)"
   ]
  },
  {
   "cell_type": "code",
   "execution_count": 17,
   "id": "5782f273",
   "metadata": {},
   "outputs": [],
   "source": [
    "svc2 = svm.SVC(kernel = 'linear', C = 3)"
   ]
  },
  {
   "cell_type": "code",
   "execution_count": 18,
   "id": "8f8cf476",
   "metadata": {},
   "outputs": [],
   "source": [
    "svc3 = svm.SVC(kernel = 'rbf', C = 10)"
   ]
  },
  {
   "cell_type": "code",
   "execution_count": null,
   "id": "a893d98f",
   "metadata": {},
   "outputs": [],
   "source": []
  }
 ],
 "metadata": {
  "kernelspec": {
   "display_name": "Python 3 (ipykernel)",
   "language": "python",
   "name": "python3"
  },
  "language_info": {
   "codemirror_mode": {
    "name": "ipython",
    "version": 3
   },
   "file_extension": ".py",
   "mimetype": "text/x-python",
   "name": "python",
   "nbconvert_exporter": "python",
   "pygments_lexer": "ipython3",
   "version": "3.9.15"
  }
 },
 "nbformat": 4,
 "nbformat_minor": 5
}
