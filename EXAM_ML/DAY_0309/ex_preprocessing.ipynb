{
 "cells": [
  {
   "cell_type": "markdown",
   "id": "306a01c9",
   "metadata": {},
   "source": [
    "### 데이터 전처리\n",
    "\n",
    "✔️ 데이터 분석\n",
    "   - 결측치 체크 및 처리\n",
    "   - 중복 체크 및 처리\n",
    "   - 이상치 체크 및 처리\n",
    "   - 데이터 타입 정리  => (실제 값 2.39              --- string 데이터 타입)\n",
    "   - 데이터 타입 변환 => (실제 값 32, 21, 9, 3, ... --- 범주형 데이터 타입)\n",
    "   - 데이터 인코딩 처리 => (문자형 데이터 ---> 숫자형)\n",
    "   - 데이터 스케일링 처리 => ( 수치형 데이터 ---> 값의 범위 일치)"
   ]
  },
  {
   "cell_type": "code",
   "execution_count": 1,
   "id": "980987fc",
   "metadata": {},
   "outputs": [],
   "source": [
    "# Module Loading\n",
    "import pandas as pd\n",
    "from numpy import nan"
   ]
  },
  {
   "cell_type": "code",
   "execution_count": 2,
   "id": "8c1adacd",
   "metadata": {},
   "outputs": [],
   "source": [
    "# Create Data\n",
    "names = ['홍길동', '이나영', '마징가', '변사또', '원더우먼', '원빈', '현빈', '박보검', '김상민', '김한림']\n",
    "ages = [0, 4, 21, 20, 38, 100, 40, 61, 11, 23]\n",
    "genders = ['M', 'F', 'M', 'M', 'F', 'M', 'M', 'M', 'M', 'M']"
   ]
  },
  {
   "cell_type": "code",
   "execution_count": 3,
   "id": "27419785",
   "metadata": {},
   "outputs": [],
   "source": [
    "personDF = pd.DataFrame({'name':names, 'age':ages, 'gender':genders})"
   ]
  },
  {
   "cell_type": "code",
   "execution_count": 4,
   "id": "badf7cc3",
   "metadata": {},
   "outputs": [
    {
     "data": {
      "text/html": [
       "<div>\n",
       "<style scoped>\n",
       "    .dataframe tbody tr th:only-of-type {\n",
       "        vertical-align: middle;\n",
       "    }\n",
       "\n",
       "    .dataframe tbody tr th {\n",
       "        vertical-align: top;\n",
       "    }\n",
       "\n",
       "    .dataframe thead th {\n",
       "        text-align: right;\n",
       "    }\n",
       "</style>\n",
       "<table border=\"1\" class=\"dataframe\">\n",
       "  <thead>\n",
       "    <tr style=\"text-align: right;\">\n",
       "      <th></th>\n",
       "      <th>name</th>\n",
       "      <th>age</th>\n",
       "      <th>gender</th>\n",
       "    </tr>\n",
       "  </thead>\n",
       "  <tbody>\n",
       "    <tr>\n",
       "      <th>0</th>\n",
       "      <td>홍길동</td>\n",
       "      <td>0</td>\n",
       "      <td>M</td>\n",
       "    </tr>\n",
       "    <tr>\n",
       "      <th>1</th>\n",
       "      <td>이나영</td>\n",
       "      <td>4</td>\n",
       "      <td>F</td>\n",
       "    </tr>\n",
       "    <tr>\n",
       "      <th>2</th>\n",
       "      <td>마징가</td>\n",
       "      <td>21</td>\n",
       "      <td>M</td>\n",
       "    </tr>\n",
       "  </tbody>\n",
       "</table>\n",
       "</div>"
      ],
      "text/plain": [
       "  name  age gender\n",
       "0  홍길동    0      M\n",
       "1  이나영    4      F\n",
       "2  마징가   21      M"
      ]
     },
     "execution_count": 4,
     "metadata": {},
     "output_type": "execute_result"
    }
   ],
   "source": [
    "personDF.head(3)"
   ]
  },
  {
   "cell_type": "code",
   "execution_count": 5,
   "id": "8c1e59b7",
   "metadata": {},
   "outputs": [
    {
     "data": {
      "text/plain": [
       "name      object\n",
       "age        int64\n",
       "gender    object\n",
       "dtype: object"
      ]
     },
     "execution_count": 5,
     "metadata": {},
     "output_type": "execute_result"
    }
   ],
   "source": [
    "personDF.dtypes"
   ]
  },
  {
   "cell_type": "markdown",
   "id": "639b7d3c",
   "metadata": {},
   "source": [
    "#### [데이터 전처리]\n",
    "(1) 데이터 타입 체크 및 처리\n",
    "\n",
    "✔️ astype('데이터 타입') : 반드시 원본 저장해야 적용 됨. inplace 매개변수 ❌"
   ]
  },
  {
   "cell_type": "code",
   "execution_count": 6,
   "id": "e069bdef",
   "metadata": {},
   "outputs": [],
   "source": [
    "## \"gender\" columns (object ===> category)\n",
    "personDF.gender = personDF.gender.astype('category')"
   ]
  },
  {
   "cell_type": "markdown",
   "id": "5c2abed3",
   "metadata": {},
   "source": [
    "(2) 연속형 데이터 => 범주형 데이터로 변환\n",
    "- astype('데이터타입') => 대량 범주형 생성 ❗문제❗\n",
    "- cut(데이터, 구간정보, 구간라벨) => 범위 즉 구간 설정 => 범주로 변경"
   ]
  },
  {
   "cell_type": "code",
   "execution_count": 7,
   "id": "cd89723f",
   "metadata": {},
   "outputs": [],
   "source": [
    "# personDF.age ----> 연령대 범주형\n",
    "# 아동기, 청년, 중년, 장년, 노년"
   ]
  },
  {
   "cell_type": "markdown",
   "id": "9d8d7c74",
   "metadata": {},
   "source": [
    "- pd.cut() default result\n",
    "```\n",
    "✔️ a < ~ <= b\n",
    "```"
   ]
  },
  {
   "cell_type": "code",
   "execution_count": 8,
   "id": "ceff72ac",
   "metadata": {},
   "outputs": [],
   "source": [
    "_bins = [0, 20, 40, 60, 80, 100]\n",
    "ret1, bins = pd.cut(personDF.age, bins = _bins, labels = ['아동기', '청년', '중년', '장년', '노년'],\n",
    "             right = True, retbins = True, include_lowest = True)"
   ]
  },
  {
   "cell_type": "markdown",
   "id": "f081dddc",
   "metadata": {},
   "source": [
    "✔️include_lowest = True\n",
    "```\n",
    "0 <= ~ <= 20\n",
    "\n",
    "20 < ~ <= 40\n",
    "\n",
    "    .\n",
    "    .\n",
    "    .\n",
    "```"
   ]
  },
  {
   "cell_type": "code",
   "execution_count": 9,
   "id": "c89b04b5",
   "metadata": {},
   "outputs": [
    {
     "data": {
      "text/plain": [
       "0    아동기\n",
       "1    아동기\n",
       "2     청년\n",
       "3    아동기\n",
       "4     청년\n",
       "5     노년\n",
       "6     청년\n",
       "7     장년\n",
       "8    아동기\n",
       "9     청년\n",
       "Name: age, dtype: category\n",
       "Categories (5, object): ['아동기' < '청년' < '중년' < '장년' < '노년']"
      ]
     },
     "execution_count": 9,
     "metadata": {},
     "output_type": "execute_result"
    }
   ],
   "source": [
    "ret1\n",
    "# ages = [0, 4, 21, 20, 38, 100, 40, 61, 11, 23]"
   ]
  },
  {
   "cell_type": "code",
   "execution_count": 10,
   "id": "b9a52997",
   "metadata": {},
   "outputs": [],
   "source": [
    "# 나이 카테고리 컬럼 추가\n",
    "personDF['cate_age'] = ret1"
   ]
  },
  {
   "cell_type": "code",
   "execution_count": 11,
   "id": "f26a68c0",
   "metadata": {
    "scrolled": true
   },
   "outputs": [
    {
     "data": {
      "text/plain": [
       "array([  0,  20,  40,  60,  80, 100])"
      ]
     },
     "execution_count": 11,
     "metadata": {},
     "output_type": "execute_result"
    }
   ],
   "source": [
    "bins"
   ]
  },
  {
   "cell_type": "code",
   "execution_count": 12,
   "id": "85ee29a2",
   "metadata": {},
   "outputs": [
    {
     "data": {
      "text/html": [
       "<div>\n",
       "<style scoped>\n",
       "    .dataframe tbody tr th:only-of-type {\n",
       "        vertical-align: middle;\n",
       "    }\n",
       "\n",
       "    .dataframe tbody tr th {\n",
       "        vertical-align: top;\n",
       "    }\n",
       "\n",
       "    .dataframe thead th {\n",
       "        text-align: right;\n",
       "    }\n",
       "</style>\n",
       "<table border=\"1\" class=\"dataframe\">\n",
       "  <thead>\n",
       "    <tr style=\"text-align: right;\">\n",
       "      <th></th>\n",
       "      <th>name</th>\n",
       "      <th>age</th>\n",
       "      <th>gender</th>\n",
       "      <th>cate_age</th>\n",
       "    </tr>\n",
       "  </thead>\n",
       "  <tbody>\n",
       "    <tr>\n",
       "      <th>0</th>\n",
       "      <td>홍길동</td>\n",
       "      <td>0</td>\n",
       "      <td>M</td>\n",
       "      <td>아동기</td>\n",
       "    </tr>\n",
       "    <tr>\n",
       "      <th>1</th>\n",
       "      <td>이나영</td>\n",
       "      <td>4</td>\n",
       "      <td>F</td>\n",
       "      <td>아동기</td>\n",
       "    </tr>\n",
       "    <tr>\n",
       "      <th>2</th>\n",
       "      <td>마징가</td>\n",
       "      <td>21</td>\n",
       "      <td>M</td>\n",
       "      <td>청년</td>\n",
       "    </tr>\n",
       "  </tbody>\n",
       "</table>\n",
       "</div>"
      ],
      "text/plain": [
       "  name  age gender cate_age\n",
       "0  홍길동    0      M      아동기\n",
       "1  이나영    4      F      아동기\n",
       "2  마징가   21      M       청년"
      ]
     },
     "execution_count": 12,
     "metadata": {},
     "output_type": "execute_result"
    }
   ],
   "source": [
    "personDF.head(3)"
   ]
  },
  {
   "cell_type": "code",
   "execution_count": 13,
   "id": "6328f872",
   "metadata": {},
   "outputs": [
    {
     "data": {
      "text/plain": [
       "name          object\n",
       "age            int64\n",
       "gender      category\n",
       "cate_age    category\n",
       "dtype: object"
      ]
     },
     "execution_count": 13,
     "metadata": {},
     "output_type": "execute_result"
    }
   ],
   "source": [
    "personDF.dtypes"
   ]
  },
  {
   "cell_type": "markdown",
   "id": "e2868055",
   "metadata": {},
   "source": [
    "### One-Hot-Encoding으로 변환\n",
    "- 범주형 데이터를 0과 1로 구성된 패턴으로 인코딩\n",
    "- 범주형 데이터 수만큼 자릿수 생성\n",
    "- 해당 값에만 1을 세팅\n",
    "- 함수 : pandas.get_dummies()"
   ]
  },
  {
   "cell_type": "code",
   "execution_count": 35,
   "id": "401b87ad",
   "metadata": {},
   "outputs": [
    {
     "data": {
      "text/html": [
       "<div>\n",
       "<style scoped>\n",
       "    .dataframe tbody tr th:only-of-type {\n",
       "        vertical-align: middle;\n",
       "    }\n",
       "\n",
       "    .dataframe tbody tr th {\n",
       "        vertical-align: top;\n",
       "    }\n",
       "\n",
       "    .dataframe thead th {\n",
       "        text-align: right;\n",
       "    }\n",
       "</style>\n",
       "<table border=\"1\" class=\"dataframe\">\n",
       "  <thead>\n",
       "    <tr style=\"text-align: right;\">\n",
       "      <th></th>\n",
       "      <th>아동기</th>\n",
       "      <th>청년</th>\n",
       "      <th>중년</th>\n",
       "      <th>장년</th>\n",
       "      <th>노년</th>\n",
       "    </tr>\n",
       "  </thead>\n",
       "  <tbody>\n",
       "    <tr>\n",
       "      <th>0</th>\n",
       "      <td>1</td>\n",
       "      <td>0</td>\n",
       "      <td>0</td>\n",
       "      <td>0</td>\n",
       "      <td>0</td>\n",
       "    </tr>\n",
       "    <tr>\n",
       "      <th>1</th>\n",
       "      <td>1</td>\n",
       "      <td>0</td>\n",
       "      <td>0</td>\n",
       "      <td>0</td>\n",
       "      <td>0</td>\n",
       "    </tr>\n",
       "    <tr>\n",
       "      <th>2</th>\n",
       "      <td>0</td>\n",
       "      <td>1</td>\n",
       "      <td>0</td>\n",
       "      <td>0</td>\n",
       "      <td>0</td>\n",
       "    </tr>\n",
       "  </tbody>\n",
       "</table>\n",
       "</div>"
      ],
      "text/plain": [
       "   아동기  청년  중년  장년  노년\n",
       "0    1   0   0   0   0\n",
       "1    1   0   0   0   0\n",
       "2    0   1   0   0   0"
      ]
     },
     "execution_count": 35,
     "metadata": {},
     "output_type": "execute_result"
    }
   ],
   "source": [
    "p1 = pd.get_dummies(personDF.cate_age)\n",
    "p1.head(3)"
   ]
  },
  {
   "cell_type": "code",
   "execution_count": 34,
   "id": "2f0cd8a3",
   "metadata": {},
   "outputs": [
    {
     "data": {
      "text/html": [
       "<div>\n",
       "<style scoped>\n",
       "    .dataframe tbody tr th:only-of-type {\n",
       "        vertical-align: middle;\n",
       "    }\n",
       "\n",
       "    .dataframe tbody tr th {\n",
       "        vertical-align: top;\n",
       "    }\n",
       "\n",
       "    .dataframe thead th {\n",
       "        text-align: right;\n",
       "    }\n",
       "</style>\n",
       "<table border=\"1\" class=\"dataframe\">\n",
       "  <thead>\n",
       "    <tr style=\"text-align: right;\">\n",
       "      <th></th>\n",
       "      <th>name</th>\n",
       "      <th>age</th>\n",
       "      <th>gender</th>\n",
       "      <th>cate_age</th>\n",
       "      <th>아동기</th>\n",
       "      <th>청년</th>\n",
       "      <th>중년</th>\n",
       "      <th>장년</th>\n",
       "      <th>노년</th>\n",
       "    </tr>\n",
       "  </thead>\n",
       "  <tbody>\n",
       "    <tr>\n",
       "      <th>0</th>\n",
       "      <td>홍길동</td>\n",
       "      <td>0</td>\n",
       "      <td>M</td>\n",
       "      <td>아동기</td>\n",
       "      <td>1</td>\n",
       "      <td>0</td>\n",
       "      <td>0</td>\n",
       "      <td>0</td>\n",
       "      <td>0</td>\n",
       "    </tr>\n",
       "    <tr>\n",
       "      <th>1</th>\n",
       "      <td>이나영</td>\n",
       "      <td>4</td>\n",
       "      <td>F</td>\n",
       "      <td>아동기</td>\n",
       "      <td>1</td>\n",
       "      <td>0</td>\n",
       "      <td>0</td>\n",
       "      <td>0</td>\n",
       "      <td>0</td>\n",
       "    </tr>\n",
       "    <tr>\n",
       "      <th>2</th>\n",
       "      <td>마징가</td>\n",
       "      <td>21</td>\n",
       "      <td>M</td>\n",
       "      <td>청년</td>\n",
       "      <td>0</td>\n",
       "      <td>1</td>\n",
       "      <td>0</td>\n",
       "      <td>0</td>\n",
       "      <td>0</td>\n",
       "    </tr>\n",
       "  </tbody>\n",
       "</table>\n",
       "</div>"
      ],
      "text/plain": [
       "  name  age gender cate_age  아동기  청년  중년  장년  노년\n",
       "0  홍길동    0      M      아동기    1   0   0   0   0\n",
       "1  이나영    4      F      아동기    1   0   0   0   0\n",
       "2  마징가   21      M       청년    0   1   0   0   0"
      ]
     },
     "execution_count": 34,
     "metadata": {},
     "output_type": "execute_result"
    }
   ],
   "source": [
    "p2 = pd.concat([personDF, p1], axis=1)\n",
    "p2.head(3)"
   ]
  },
  {
   "cell_type": "code",
   "execution_count": 30,
   "id": "84827999",
   "metadata": {},
   "outputs": [],
   "source": [
    "sel = p2.loc[0, '아동기':]"
   ]
  },
  {
   "cell_type": "code",
   "execution_count": 31,
   "id": "b0575708",
   "metadata": {},
   "outputs": [
    {
     "data": {
      "text/plain": [
       "[1, 0, 0, 0, 0]"
      ]
     },
     "execution_count": 31,
     "metadata": {},
     "output_type": "execute_result"
    }
   ],
   "source": [
    "sel.to_list()"
   ]
  },
  {
   "cell_type": "code",
   "execution_count": 32,
   "id": "efa29131",
   "metadata": {},
   "outputs": [
    {
     "data": {
      "text/plain": [
       "array([1, 0, 0, 0, 0], dtype=object)"
      ]
     },
     "execution_count": 32,
     "metadata": {},
     "output_type": "execute_result"
    }
   ],
   "source": [
    "sel.to_numpy()"
   ]
  },
  {
   "cell_type": "markdown",
   "id": "fc61ed5b",
   "metadata": {},
   "source": [
    "### scikit-learn 사용 문자열 범주형 인코딩"
   ]
  },
  {
   "cell_type": "code",
   "execution_count": 36,
   "id": "a9776446",
   "metadata": {},
   "outputs": [],
   "source": [
    "from sklearn.preprocessing import LabelEncoder, OneHotEncoder, OrdinalEncoder"
   ]
  },
  {
   "cell_type": "code",
   "execution_count": 37,
   "id": "da885526",
   "metadata": {},
   "outputs": [],
   "source": [
    "# Encoder 객체 생성\n",
    "le = LabelEncoder()"
   ]
  },
  {
   "cell_type": "code",
   "execution_count": 38,
   "id": "8a814669",
   "metadata": {},
   "outputs": [
    {
     "data": {
      "text/plain": [
       "LabelEncoder()"
      ]
     },
     "execution_count": 38,
     "metadata": {},
     "output_type": "execute_result"
    }
   ],
   "source": [
    "# 전달된 데이터 확인 후 라벨 생성\n",
    "le.fit(personDF.cate_age)"
   ]
  },
  {
   "cell_type": "code",
   "execution_count": 39,
   "id": "c04992d8",
   "metadata": {},
   "outputs": [
    {
     "data": {
      "text/plain": [
       "array(['노년', '아동기', '장년', '청년'], dtype=object)"
      ]
     },
     "execution_count": 39,
     "metadata": {},
     "output_type": "execute_result"
    }
   ],
   "source": [
    "le.classes_"
   ]
  },
  {
   "cell_type": "code",
   "execution_count": 44,
   "id": "3be27e76",
   "metadata": {},
   "outputs": [
    {
     "data": {
      "text/plain": [
       "array([1, 1, 3, 1, 3, 0, 3, 2, 1, 3])"
      ]
     },
     "execution_count": 44,
     "metadata": {},
     "output_type": "execute_result"
    }
   ],
   "source": [
    "# 정수로 인코딩\n",
    "en_age = le.transform(personDF.cate_age)\n",
    "en_age"
   ]
  },
  {
   "cell_type": "code",
   "execution_count": 53,
   "id": "6be03808",
   "metadata": {},
   "outputs": [
    {
     "data": {
      "text/plain": [
       "array(['아동기', '아동기', '청년', '아동기', '청년', '노년', '청년', '장년', '아동기', '청년'],\n",
       "      dtype=object)"
      ]
     },
     "execution_count": 53,
     "metadata": {},
     "output_type": "execute_result"
    }
   ],
   "source": [
    "# 정수 => 문자열 되돌리기\n",
    "le.inverse_transform(en_age)"
   ]
  },
  {
   "cell_type": "code",
   "execution_count": 54,
   "id": "24b612c3",
   "metadata": {},
   "outputs": [],
   "source": [
    "## One-Hot-Encoder로 변환\n",
    "ohe = OneHotEncoder(sparse = True)"
   ]
  },
  {
   "cell_type": "code",
   "execution_count": 55,
   "id": "190d16b6",
   "metadata": {},
   "outputs": [
    {
     "data": {
      "text/plain": [
       "OneHotEncoder()"
      ]
     },
     "execution_count": 55,
     "metadata": {},
     "output_type": "execute_result"
    }
   ],
   "source": [
    "ohe.fit(personDF.cate_age.to_numpy().reshape(-1, 1))\n",
    "        # 2차원 형태!"
   ]
  },
  {
   "cell_type": "code",
   "execution_count": 56,
   "id": "bc729123",
   "metadata": {},
   "outputs": [
    {
     "data": {
      "text/plain": [
       "<10x4 sparse matrix of type '<class 'numpy.float64'>'\n",
       "\twith 10 stored elements in Compressed Sparse Row format>"
      ]
     },
     "execution_count": 56,
     "metadata": {},
     "output_type": "execute_result"
    }
   ],
   "source": [
    "ohe.transform(personDF.cate_age.to_numpy().reshape(-1, 1)) #.toarrayay()"
   ]
  },
  {
   "cell_type": "code",
   "execution_count": null,
   "id": "ae2152b0",
   "metadata": {},
   "outputs": [],
   "source": []
  }
 ],
 "metadata": {
  "kernelspec": {
   "display_name": "Python 3 (ipykernel)",
   "language": "python",
   "name": "python3"
  },
  "language_info": {
   "codemirror_mode": {
    "name": "ipython",
    "version": 3
   },
   "file_extension": ".py",
   "mimetype": "text/x-python",
   "name": "python",
   "nbconvert_exporter": "python",
   "pygments_lexer": "ipython3",
   "version": "3.9.15"
  }
 },
 "nbformat": 4,
 "nbformat_minor": 5
}
