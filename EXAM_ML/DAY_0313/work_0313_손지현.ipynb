{
 "cells": [
  {
   "attachments": {},
   "cell_type": "markdown",
   "metadata": {},
   "source": [
    "#### ML Sklearn 과제\n",
    "#### [데이터]\n",
    "- 데이터 : ab_data.csv\n",
    "#### [구현]\n",
    "1. KNN기반 모델링 - 분류\n",
    "    - 최적의 K 찾기"
   ]
  },
  {
   "cell_type": "code",
   "execution_count": 15,
   "metadata": {},
   "outputs": [],
   "source": [
    "import pandas as pd\n",
    "import matplotlib.pyplot as plt\n",
    "\n",
    "from sklearn.preprocessing import StandardScaler\n",
    "from sklearn.model_selection import train_test_split\n",
    "from sklearn.neighbors import KNeighborsClassifier\n",
    "from sklearn.metrics import accuracy_score"
   ]
  },
  {
   "attachments": {},
   "cell_type": "markdown",
   "metadata": {},
   "source": [
    "📌 데이터 준비"
   ]
  },
  {
   "cell_type": "code",
   "execution_count": 3,
   "metadata": {},
   "outputs": [
    {
     "data": {
      "text/html": [
       "<div>\n",
       "<style scoped>\n",
       "    .dataframe tbody tr th:only-of-type {\n",
       "        vertical-align: middle;\n",
       "    }\n",
       "\n",
       "    .dataframe tbody tr th {\n",
       "        vertical-align: top;\n",
       "    }\n",
       "\n",
       "    .dataframe thead th {\n",
       "        text-align: right;\n",
       "    }\n",
       "</style>\n",
       "<table border=\"1\" class=\"dataframe\">\n",
       "  <thead>\n",
       "    <tr style=\"text-align: right;\">\n",
       "      <th></th>\n",
       "      <th>Weight</th>\n",
       "      <th>Length</th>\n",
       "      <th>Species</th>\n",
       "    </tr>\n",
       "  </thead>\n",
       "  <tbody>\n",
       "    <tr>\n",
       "      <th>0</th>\n",
       "      <td>242</td>\n",
       "      <td>25.4</td>\n",
       "      <td>A</td>\n",
       "    </tr>\n",
       "    <tr>\n",
       "      <th>1</th>\n",
       "      <td>290</td>\n",
       "      <td>26.3</td>\n",
       "      <td>A</td>\n",
       "    </tr>\n",
       "    <tr>\n",
       "      <th>2</th>\n",
       "      <td>340</td>\n",
       "      <td>26.5</td>\n",
       "      <td>A</td>\n",
       "    </tr>\n",
       "  </tbody>\n",
       "</table>\n",
       "</div>"
      ],
      "text/plain": [
       "   Weight  Length Species\n",
       "0     242    25.4       A\n",
       "1     290    26.3       A\n",
       "2     340    26.5       A"
      ]
     },
     "execution_count": 3,
     "metadata": {},
     "output_type": "execute_result"
    }
   ],
   "source": [
    "abDF = pd.read_csv('ab_data.csv')\n",
    "abDF.head(3)"
   ]
  },
  {
   "cell_type": "code",
   "execution_count": 4,
   "metadata": {},
   "outputs": [
    {
     "name": "stdout",
     "output_type": "stream",
     "text": [
      "<class 'pandas.core.frame.DataFrame'>\n",
      "RangeIndex: 55 entries, 0 to 54\n",
      "Data columns (total 3 columns):\n",
      " #   Column   Non-Null Count  Dtype  \n",
      "---  ------   --------------  -----  \n",
      " 0   Weight   55 non-null     int64  \n",
      " 1   Length   55 non-null     float64\n",
      " 2   Species  55 non-null     object \n",
      "dtypes: float64(1), int64(1), object(1)\n",
      "memory usage: 1.4+ KB\n"
     ]
    }
   ],
   "source": [
    "abDF.info()"
   ]
  },
  {
   "attachments": {},
   "cell_type": "markdown",
   "metadata": {},
   "source": [
    "📌 데이터 전처리"
   ]
  },
  {
   "cell_type": "code",
   "execution_count": 7,
   "metadata": {},
   "outputs": [
    {
     "data": {
      "text/html": [
       "<div>\n",
       "<style scoped>\n",
       "    .dataframe tbody tr th:only-of-type {\n",
       "        vertical-align: middle;\n",
       "    }\n",
       "\n",
       "    .dataframe tbody tr th {\n",
       "        vertical-align: top;\n",
       "    }\n",
       "\n",
       "    .dataframe thead th {\n",
       "        text-align: right;\n",
       "    }\n",
       "</style>\n",
       "<table border=\"1\" class=\"dataframe\">\n",
       "  <thead>\n",
       "    <tr style=\"text-align: right;\">\n",
       "      <th></th>\n",
       "      <th>min</th>\n",
       "      <th>max</th>\n",
       "    </tr>\n",
       "  </thead>\n",
       "  <tbody>\n",
       "    <tr>\n",
       "      <th>Weight</th>\n",
       "      <td>0.0</td>\n",
       "      <td>1000.0</td>\n",
       "    </tr>\n",
       "    <tr>\n",
       "      <th>Length</th>\n",
       "      <td>14.1</td>\n",
       "      <td>41.0</td>\n",
       "    </tr>\n",
       "  </tbody>\n",
       "</table>\n",
       "</div>"
      ],
      "text/plain": [
       "         min     max\n",
       "Weight   0.0  1000.0\n",
       "Length  14.1    41.0"
      ]
     },
     "execution_count": 7,
     "metadata": {},
     "output_type": "execute_result"
    }
   ],
   "source": [
    "# 특성 데이터의 범위 확인\n",
    "abDF.describe().T[['min', 'max']]"
   ]
  },
  {
   "cell_type": "code",
   "execution_count": 8,
   "metadata": {},
   "outputs": [
    {
     "data": {
      "text/plain": [
       "Weight    1000.0\n",
       "Length      26.9\n",
       "dtype: float64"
      ]
     },
     "execution_count": 8,
     "metadata": {},
     "output_type": "execute_result"
    }
   ],
   "source": [
    "abDF.describe().T['max'] - abDF.describe().T['min']"
   ]
  },
  {
   "cell_type": "code",
   "execution_count": 10,
   "metadata": {},
   "outputs": [],
   "source": [
    "# 수치형 특성 데이터 스케일링\n",
    "st = StandardScaler()\n",
    "st_data = st.fit_transform(abDF[abDF.columns[:-1]])"
   ]
  },
  {
   "cell_type": "code",
   "execution_count": 12,
   "metadata": {},
   "outputs": [
    {
     "data": {
      "text/plain": [
       "(55, 2)"
      ]
     },
     "execution_count": 12,
     "metadata": {},
     "output_type": "execute_result"
    }
   ],
   "source": [
    "st_data.shape"
   ]
  },
  {
   "cell_type": "code",
   "execution_count": 13,
   "metadata": {},
   "outputs": [],
   "source": [
    "# 데이터, 타겟 분리\n",
    "data = abDF[abDF.columns[:-1]]\n",
    "target = abDF[abDF.columns[-1]]"
   ]
  },
  {
   "cell_type": "code",
   "execution_count": 14,
   "metadata": {},
   "outputs": [
    {
     "data": {
      "text/plain": [
       "((55, 2), (55,))"
      ]
     },
     "execution_count": 14,
     "metadata": {},
     "output_type": "execute_result"
    }
   ],
   "source": [
    "data.shape, target.shape"
   ]
  },
  {
   "attachments": {},
   "cell_type": "markdown",
   "metadata": {},
   "source": [
    "📌 학습용, 테스트용 데이터 준비"
   ]
  },
  {
   "cell_type": "code",
   "execution_count": 16,
   "metadata": {},
   "outputs": [],
   "source": [
    "X_train, X_test, y_train, y_test = train_test_split(data, target, random_state = 11)"
   ]
  },
  {
   "cell_type": "code",
   "execution_count": 17,
   "metadata": {},
   "outputs": [
    {
     "data": {
      "text/plain": [
       "(41, 14, 41, 14)"
      ]
     },
     "execution_count": 17,
     "metadata": {},
     "output_type": "execute_result"
    }
   ],
   "source": [
    "len(X_train), len(X_test), len(y_train), len(y_test)"
   ]
  },
  {
   "attachments": {},
   "cell_type": "markdown",
   "metadata": {},
   "source": [
    "📌 학습 모델 객체 생성 및 학습"
   ]
  },
  {
   "cell_type": "code",
   "execution_count": 6,
   "metadata": {},
   "outputs": [],
   "source": [
    "# KNN 학습 모델 객체 생성\n",
    "knn = KNeighborsClassifier()"
   ]
  },
  {
   "cell_type": "code",
   "execution_count": 18,
   "metadata": {},
   "outputs": [
    {
     "name": "stdout",
     "output_type": "stream",
     "text": [
      "[1] : score : 1.0\n",
      "[2] : score : 0.9512195121951219\n",
      "[3] : score : 0.9512195121951219\n",
      "[4] : score : 0.9512195121951219\n",
      "[5] : score : 0.926829268292683\n",
      "[6] : score : 0.926829268292683\n",
      "[7] : score : 0.926829268292683\n",
      "[8] : score : 0.926829268292683\n",
      "[9] : score : 0.926829268292683\n",
      "[10] : score : 0.926829268292683\n",
      "[11] : score : 0.926829268292683\n",
      "[12] : score : 0.926829268292683\n",
      "[13] : score : 0.926829268292683\n",
      "[14] : score : 0.926829268292683\n",
      "[15] : score : 0.926829268292683\n",
      "[16] : score : 0.926829268292683\n",
      "[17] : score : 0.926829268292683\n",
      "[18] : score : 0.926829268292683\n",
      "[19] : score : 0.926829268292683\n",
      "[20] : score : 0.926829268292683\n",
      "[21] : score : 0.926829268292683\n",
      "[22] : score : 0.926829268292683\n",
      "[23] : score : 0.926829268292683\n",
      "[24] : score : 0.926829268292683\n",
      "[25] : score : 0.926829268292683\n",
      "[26] : score : 0.6829268292682927\n",
      "[27] : score : 0.6829268292682927\n",
      "[28] : score : 0.6829268292682927\n",
      "[29] : score : 0.6829268292682927\n",
      "[30] : score : 0.6829268292682927\n",
      "[31] : score : 0.6829268292682927\n",
      "[32] : score : 0.6829268292682927\n",
      "[33] : score : 0.6829268292682927\n",
      "[34] : score : 0.6829268292682927\n",
      "[35] : score : 0.6829268292682927\n",
      "[36] : score : 0.6829268292682927\n",
      "[37] : score : 0.6829268292682927\n",
      "[38] : score : 0.6829268292682927\n",
      "[39] : score : 0.6829268292682927\n",
      "[40] : score : 0.6829268292682927\n"
     ]
    }
   ],
   "source": [
    "scores = []\n",
    "\n",
    "for n in range(1, X_train.shape[0]):\n",
    "    knn.n_neighbors = n\n",
    "    knn.fit(X_train, y_train)\n",
    "    sc = knn.score(X_train, y_train)\n",
    "    print(f'[{n}] : score : {sc}')\n",
    "    scores.append(sc)"
   ]
  },
  {
   "cell_type": "code",
   "execution_count": 19,
   "metadata": {},
   "outputs": [
    {
     "data": {
      "image/png": "[encoded data removed]",
      "text/plain": [
       "<Figure size 432x288 with 1 Axes>"
      ]
     },
     "metadata": {
      "needs_background": "light"
     },
     "output_type": "display_data"
    }
   ],
   "source": [
    "plt.plot(scores)\n",
    "plt.xlabel('n_neighbors')\n",
    "plt.ylabel('score')\n",
    "plt.show()"
   ]
  },
  {
   "cell_type": "code",
   "execution_count": 20,
   "metadata": {},
   "outputs": [],
   "source": [
    "from sklearn.model_selection import GridSearchCV"
   ]
  },
  {
   "cell_type": "code",
   "execution_count": 21,
   "metadata": {},
   "outputs": [],
   "source": [
    "model = KNeighborsClassifier()\n",
    "params = {'n_neighbors':[2, 3, 4], 'p':[1, 2], 'weights':['uniform', 'distance']}\n",
    "\n",
    "grid = GridSearchCV(model, param_grid=params, scoring='accuracy', cv = 3)"
   ]
  },
  {
   "cell_type": "code",
   "execution_count": 22,
   "metadata": {},
   "outputs": [
    {
     "data": {
      "text/plain": [
       "GridSearchCV(cv=3, estimator=KNeighborsClassifier(),\n",
       "             param_grid={'n_neighbors': [2, 3, 4], 'p': [1, 2],\n",
       "                         'weights': ['uniform', 'distance']},\n",
       "             scoring='accuracy')"
      ]
     },
     "execution_count": 22,
     "metadata": {},
     "output_type": "execute_result"
    }
   ],
   "source": [
    "grid.fit(X_train, y_train)"
   ]
  },
  {
   "cell_type": "code",
   "execution_count": 23,
   "metadata": {},
   "outputs": [
    {
     "data": {
      "text/plain": [
       "{'mean_fit_time': array([0.00300288, 0.00233539, 0.00200216, 0.00233571, 0.00166821,\n",
       "        0.00300209, 0.00200192, 0.002002  , 0.00200176, 0.00100128,\n",
       "        0.00166814, 0.00166845]),\n",
       " 'std_fit_time': array([1.94667955e-07, 4.71988518e-04, 2.97360213e-07, 4.71763815e-04,\n",
       "        4.71876126e-04, 8.17313410e-04, 6.83651389e-07, 1.94667955e-07,\n",
       "        1.94667955e-07, 4.05233662e-07, 4.72157135e-04, 4.71707689e-04]),\n",
       " 'mean_score_time': array([0.00266886, 0.004004  , 0.0026687 , 0.00166798, 0.002002  ,\n",
       "        0.0023361 , 0.00266862, 0.0010008 , 0.00100088, 0.00133419,\n",
       "        0.00133443, 0.00100064]),\n",
       " 'std_score_time': array([4.71876126e-04, 2.83125670e-03, 4.72269848e-04, 4.71707529e-04,\n",
       "        3.89335909e-07, 4.71482745e-04, 4.72550556e-04, 4.05233662e-07,\n",
       "        3.37174788e-07, 4.71707569e-04, 4.72044743e-04, 3.37174788e-07]),\n",
       " 'param_n_neighbors': masked_array(data=[2, 2, 2, 2, 3, 3, 3, 3, 4, 4, 4, 4],\n",
       "              mask=[False, False, False, False, False, False, False, False,\n",
       "                    False, False, False, False],\n",
       "        fill_value='?',\n",
       "             dtype=object),\n",
       " 'param_p': masked_array(data=[1, 1, 2, 2, 1, 1, 2, 2, 1, 1, 2, 2],\n",
       "              mask=[False, False, False, False, False, False, False, False,\n",
       "                    False, False, False, False],\n",
       "        fill_value='?',\n",
       "             dtype=object),\n",
       " 'param_weights': masked_array(data=['uniform', 'distance', 'uniform', 'distance',\n",
       "                    'uniform', 'distance', 'uniform', 'distance',\n",
       "                    'uniform', 'distance', 'uniform', 'distance'],\n",
       "              mask=[False, False, False, False, False, False, False, False,\n",
       "                    False, False, False, False],\n",
       "        fill_value='?',\n",
       "             dtype=object),\n",
       " 'params': [{'n_neighbors': 2, 'p': 1, 'weights': 'uniform'},\n",
       "  {'n_neighbors': 2, 'p': 1, 'weights': 'distance'},\n",
       "  {'n_neighbors': 2, 'p': 2, 'weights': 'uniform'},\n",
       "  {'n_neighbors': 2, 'p': 2, 'weights': 'distance'},\n",
       "  {'n_neighbors': 3, 'p': 1, 'weights': 'uniform'},\n",
       "  {'n_neighbors': 3, 'p': 1, 'weights': 'distance'},\n",
       "  {'n_neighbors': 3, 'p': 2, 'weights': 'uniform'},\n",
       "  {'n_neighbors': 3, 'p': 2, 'weights': 'distance'},\n",
       "  {'n_neighbors': 4, 'p': 1, 'weights': 'uniform'},\n",
       "  {'n_neighbors': 4, 'p': 1, 'weights': 'distance'},\n",
       "  {'n_neighbors': 4, 'p': 2, 'weights': 'uniform'},\n",
       "  {'n_neighbors': 4, 'p': 2, 'weights': 'distance'}],\n",
       " 'split0_test_score': array([0.92857143, 0.85714286, 0.92857143, 0.85714286, 0.85714286,\n",
       "        0.85714286, 0.85714286, 0.85714286, 0.85714286, 0.85714286,\n",
       "        0.85714286, 0.85714286]),\n",
       " 'split1_test_score': array([1.        , 0.92857143, 1.        , 0.92857143, 1.        ,\n",
       "        0.92857143, 1.        , 0.92857143, 1.        , 0.92857143,\n",
       "        1.        , 0.92857143]),\n",
       " 'split2_test_score': array([0.92307692, 0.84615385, 0.92307692, 0.84615385, 0.92307692,\n",
       "        0.84615385, 0.92307692, 0.84615385, 0.92307692, 0.84615385,\n",
       "        0.92307692, 0.84615385]),\n",
       " 'mean_test_score': array([0.95054945, 0.87728938, 0.95054945, 0.87728938, 0.92673993,\n",
       "        0.87728938, 0.92673993, 0.87728938, 0.92673993, 0.87728938,\n",
       "        0.92673993, 0.87728938]),\n",
       " 'std_test_score': array([0.03503869, 0.03653835, 0.03503869, 0.03653835, 0.05837867,\n",
       "        0.03653835, 0.05837867, 0.03653835, 0.05837867, 0.03653835,\n",
       "        0.05837867, 0.03653835]),\n",
       " 'rank_test_score': array([1, 7, 1, 7, 3, 7, 3, 7, 3, 7, 3, 7])}"
      ]
     },
     "execution_count": 23,
     "metadata": {},
     "output_type": "execute_result"
    }
   ],
   "source": [
    "grid.cv_results_"
   ]
  },
  {
   "cell_type": "code",
   "execution_count": 24,
   "metadata": {},
   "outputs": [
    {
     "data": {
      "text/plain": [
       "({'n_neighbors': 2, 'p': 1, 'weights': 'uniform'}, 0.9505494505494506)"
      ]
     },
     "execution_count": 24,
     "metadata": {},
     "output_type": "execute_result"
    }
   ],
   "source": [
    "grid.best_params_, grid.best_score_"
   ]
  },
  {
   "cell_type": "code",
   "execution_count": 25,
   "metadata": {},
   "outputs": [],
   "source": [
    "model = grid.best_estimator_"
   ]
  },
  {
   "cell_type": "code",
   "execution_count": null,
   "metadata": {},
   "outputs": [],
   "source": []
  }
 ],
 "metadata": {
  "kernelspec": {
   "display_name": "base",
   "language": "python",
   "name": "python3"
  },
  "language_info": {
   "codemirror_mode": {
    "name": "ipython",
    "version": 3
   },
   "file_extension": ".py",
   "mimetype": "text/x-python",
   "name": "python",
   "nbconvert_exporter": "python",
   "pygments_lexer": "ipython3",
   "version": "3.8.8"
  },
  "orig_nbformat": 4
 },
 "nbformat": 4,
 "nbformat_minor": 2
}
