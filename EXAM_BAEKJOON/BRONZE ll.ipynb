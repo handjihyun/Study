{
 "cells": [
  {
   "attachments": {},
   "cell_type": "markdown",
   "metadata": {},
   "source": [
    "##### BRONZE ll"
   ]
  },
  {
   "cell_type": "code",
   "execution_count": null,
   "metadata": {},
   "outputs": [],
   "source": [
    "# 1009번. 분산처리\n",
    "# import sys\n",
    "# n = int(sys.stdin.readline())\n",
    "\n",
    "# result = []\n",
    "# for i in range(n):\n",
    "#     a, b = [int(x) for x in sys.stdin.readline().split()]\n",
    "#     result.append(a**b%10)\n",
    "\n",
    "# for i in result:\n",
    "#     print(i)\n",
    "\n",
    "# -----------------------------------------------------------\n",
    "n = int(input())\n",
    "\n",
    "result = []\n",
    "for i in range(n):\n",
    "    a, b = map(int, input().split())\n",
    "    \n",
    "    new_b = b % 4\n",
    "    if new_b == 0: new_b = 4\n",
    "\n",
    "    number = a ** new_b\n",
    "    if number % 10 == 0:\n",
    "        result.append(10)\n",
    "    else:\n",
    "        result.append(number % 10)\n",
    "\n",
    "for i in result:\n",
    "    print(i)"
   ]
  },
  {
   "cell_type": "code",
   "execution_count": null,
   "metadata": {},
   "outputs": [],
   "source": [
    "# 1075번. 나누기\n",
    "n = []\n",
    "for i in range(2):\n",
    "    n.append(input())\n",
    "\n",
    "a = int(n[0][:-2] + '00')\n",
    "\n",
    "while True:\n",
    "    if a % int(n[1]) == 0:\n",
    "        break\n",
    "    a += 1\n",
    "print(str(a)[-2:])"
   ]
  },
  {
   "cell_type": "code",
   "execution_count": null,
   "metadata": {},
   "outputs": [],
   "source": [
    "# 1076번. 저항\n",
    "color = {'black':'0', 'brown':'1', 'red':'2', 'orange':'3', 'yellow':'4', 'green':'5', 'blue':'6' ,'violet':'7', 'grey':'8', 'white':'9'}\n",
    "\n",
    "l = []\n",
    "for i in range(3):\n",
    "    l.append(input())\n",
    "\n",
    "print(int(color[l[0]] + color[l[1]]) * (10 ** int(color[l[2]])))"
   ]
  },
  {
   "cell_type": "code",
   "execution_count": null,
   "metadata": {},
   "outputs": [],
   "source": [
    "# 1100번. 하얀 칸\n",
    "total = 0\n",
    "\n",
    "for i in range(8):\n",
    "    horse = list(input())\n",
    "    \n",
    "    if i % 2 == 0:\n",
    "        for i in range(0, 8, 2):\n",
    "            if horse[i] == 'F':\n",
    "                total += 1\n",
    "    else:\n",
    "        for i in range(1, 8, 2):\n",
    "            if horse[i] == 'F':\n",
    "                total += 1\n",
    "print(total)"
   ]
  },
  {
   "cell_type": "code",
   "execution_count": null,
   "metadata": {},
   "outputs": [],
   "source": [
    "# 1152번. 단어의 개수\n",
    "str = input().split()\n",
    "print(len(str))"
   ]
  },
  {
   "cell_type": "code",
   "execution_count": 21,
   "metadata": {},
   "outputs": [
    {
     "name": "stdout",
     "output_type": "stream",
     "text": [
      "PREDAJA\n"
     ]
    }
   ],
   "source": [
    "# 1159번. 농구 경기💣\n",
    "# n = int(input())\n",
    "# l_name = {}\n",
    "\n",
    "# for i in range(n):\n",
    "#     name = input()\n",
    "#     if name[0] in l_name.keys():\n",
    "#         l_name[name[0]] += 1\n",
    "#     else:\n",
    "#         l_name[name[0]] = 1\n",
    "\n",
    "# new = {v:k for k,v in l_name.items()}\n",
    "\n",
    "# for i in l_name.values():\n",
    "#     if i >= 5:\n",
    "#         print(new.get(i), end='')\n",
    "#     elif max(l_name.values()) < 5:\n",
    "#         print('PREDAJA')\n",
    "#         break\n",
    "\n",
    "arr = []\n",
    "for i in range(int(input())):\n",
    "    arr.append(list(input())[0])\n",
    "\n",
    "arr2 = []\n",
    "for i in arr:\n",
    "    if arr.count(i) >= 5:\n",
    "        arr2.append(i)\n",
    "\n",
    "if len(arr2) > 0:\n",
    "    print(*sorted(list(set(arr2))), sep='')\n",
    "else:\n",
    "    print('PREDAJA')"
   ]
  },
  {
   "cell_type": "code",
   "execution_count": 25,
   "metadata": {},
   "outputs": [
    {
     "name": "stdout",
     "output_type": "stream",
     "text": [
      "10\n"
     ]
    }
   ],
   "source": [
    "# 1173번. 운동💣\n",
    "N, m, M, T, R = map(int, input().split())\n",
    "\n",
    "time = total = 0\n",
    "heart = m\n",
    "if m + T > M:\n",
    "    print(-1)\n",
    "else:\n",
    "    while time < N:\n",
    "        if heart + T <= M:\n",
    "            heart += T\n",
    "            time += 1\n",
    "            total += 1\n",
    "        else:\n",
    "            heart -= R\n",
    "            if heart < m:\n",
    "                heart = m\n",
    "            total += 1\n",
    "    print(total)"
   ]
  },
  {
   "cell_type": "code",
   "execution_count": null,
   "metadata": {},
   "outputs": [],
   "source": []
  }
 ],
 "metadata": {
  "kernelspec": {
   "display_name": "Python 3",
   "language": "python",
   "name": "python3"
  },
  "language_info": {
   "codemirror_mode": {
    "name": "ipython",
    "version": 3
   },
   "file_extension": ".py",
   "mimetype": "text/x-python",
   "name": "python",
   "nbconvert_exporter": "python",
   "pygments_lexer": "ipython3",
   "version": "3.9.6"
  },
  "orig_nbformat": 4
 },
 "nbformat": 4,
 "nbformat_minor": 2
}
