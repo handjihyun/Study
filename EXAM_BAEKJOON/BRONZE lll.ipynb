{
 "cells": [
  {
   "attachments": {},
   "cell_type": "markdown",
   "metadata": {},
   "source": [
    "##### BRONZE lll"
   ]
  },
  {
   "cell_type": "code",
   "execution_count": null,
   "metadata": {},
   "outputs": [],
   "source": [
    "# Q1085. 직사각형에서 탈출\n",
    "x, y, w, h = map(int, input().split())\n",
    "\n",
    "print(min(abs(w - x), abs(h - y), x, y))"
   ]
  },
  {
   "cell_type": "code",
   "execution_count": null,
   "metadata": {},
   "outputs": [],
   "source": [
    "# Q1247. 부호\n",
    "nums = []\n",
    "\n",
    "for i in range(3):\n",
    "    N = int(input())\n",
    "\n",
    "    j = 0\n",
    "    while j < N:\n",
    "        nums.append(int(input()))\n",
    "        j += 1\n",
    "\n",
    "l_sum = [sum(nums[0:3]), sum(nums[3:13]), sum(nums[13:])]\n",
    "\n",
    "for i in l_sum:\n",
    "    if i == 0: print('0')\n",
    "    elif i < 0 : print('-')\n",
    "    else: print('+')\n",
    "\n",
    "from sys import stdin\n",
    "\n",
    "for i in range(3):\n",
    "    N = int(stdin.readline())\n",
    "    nums = [int(stdin.readline()) for i in range(N)]\n",
    "\n",
    "    if sum(nums) == 0:\n",
    "        print(\"0\")\n",
    "    elif sum(nums) > 0:\n",
    "        print('+')\n",
    "    else:\n",
    "        print('-')"
   ]
  },
  {
   "cell_type": "code",
   "execution_count": null,
   "metadata": {},
   "outputs": [],
   "source": [
    "# Q.1267 핸드폰 요금\n",
    "N = int(input())\n",
    "time = list(map(int, input().split()))\n",
    "\n",
    "y, m = 0, 0\n",
    "\n",
    "for i in time:\n",
    "    y += i // 30 * 10 + 10\n",
    "    m += i // 60 * 15 + 15\n",
    "\n",
    "if y < m:\n",
    "    print('Y', y)\n",
    "elif y > m:\n",
    "    print('M', m)\n",
    "else:\n",
    "    print('Y', 'M', y)"
   ]
  },
  {
   "cell_type": "code",
   "execution_count": null,
   "metadata": {},
   "outputs": [],
   "source": [
    "# Q.1284 집 주소\n",
    "addr = []\n",
    "\n",
    "while True:\n",
    "    num = input()\n",
    "    addr.append(num)\n",
    "    if num == \"0\": break\n",
    "\n",
    "for i in addr[:-1]:\n",
    "    total = 2 + len(i) -1\n",
    "    \n",
    "    for j in i: \n",
    "        if int(j) == 1:\n",
    "            total += 2\n",
    "        elif int(j) == 0:\n",
    "            total += 4\n",
    "        else:\n",
    "            total += 3\n",
    "    print(total)"
   ]
  },
  {
   "cell_type": "code",
   "execution_count": null,
   "metadata": {},
   "outputs": [],
   "source": [
    "# Q.1547 공\n",
    "N = int(input())\n",
    "\n",
    "ball = 1\n",
    "for i in range(N):\n",
    "    a, b = map(int, input().split())\n",
    "\n",
    "    if a == ball:\n",
    "        ball = b\n",
    "        continue\n",
    "\n",
    "    if b == ball:\n",
    "        ball = a\n",
    "        continue\n",
    "\n",
    "print(ball)"
   ]
  },
  {
   "cell_type": "code",
   "execution_count": null,
   "metadata": {},
   "outputs": [],
   "source": [
    "# Q.1598 꼬리를 무는 숫자 나열\n",
    "a, b = map(int, input().split())\n",
    "\n",
    "a, b = a - 1, b - 1\n",
    "print(abs(b // 4-a // 4) + abs(b % 4-a % 4))"
   ]
  },
  {
   "cell_type": "code",
   "execution_count": null,
   "metadata": {},
   "outputs": [],
   "source": [
    "# Q.1703 생장점\n",
    "l_leaf = []\n",
    "\n",
    "while True:\n",
    "    leaf = input().split()\n",
    "    if leaf[0] == '0': break\n",
    "    else:\n",
    "        l_leaf.append(leaf)\n",
    "\n",
    "for i in l_leaf:\n",
    "    total = 1\n",
    "    for j in range(1, len(i)):\n",
    "        if j % 2 != 0:\n",
    "            total *= int(i[j])\n",
    "        else:\n",
    "            total -= int(i[j])\n",
    "    print(total)"
   ]
  },
  {
   "cell_type": "code",
   "execution_count": null,
   "metadata": {},
   "outputs": [],
   "source": [
    "# Q.1837 암호제작\n",
    "# p, k = map(int, input().split())\n",
    "\n",
    "# m = 2\n",
    "# while True:\n",
    "#     if p % m != 0:\n",
    "#         m += 1\n",
    "#     else:\n",
    "#         break\n",
    "\n",
    "# if max(p//m, m) < k:\n",
    "#     print('BAD', min(p//m, m))\n",
    "# else:\n",
    "#     print('GOOD')\n",
    "\n",
    "# --------------------------------\n",
    "p, k = map(int, input().split())\n",
    "\n",
    "a = True\n",
    "for i in range(2, k):\n",
    "    if p % i == 0:\n",
    "        print('BAD', i)\n",
    "        a = False\n",
    "        break\n",
    "\n",
    "if a:\n",
    "    print('GOOD')"
   ]
  },
  {
   "cell_type": "code",
   "execution_count": null,
   "metadata": {},
   "outputs": [],
   "source": [
    "# Q.2010 플러그\n",
    "import sys\n",
    "n = int(sys.stdin.readline())\n",
    "\n",
    "total = 0\n",
    "for i in range(n):\n",
    "    plug = int(sys.stdin.readline())\n",
    "    total += plug\n",
    "\n",
    "    # total += int(sys.stdin.readline())\n",
    "\n",
    "print(total - (n - 1))"
   ]
  },
  {
   "cell_type": "code",
   "execution_count": null,
   "metadata": {},
   "outputs": [],
   "source": [
    "# Q.2441 별 찍기 - 4\n",
    "n = int(input())\n",
    "\n",
    "for i in range(n):\n",
    "    print(((n - i) * '*').rjust(n))"
   ]
  },
  {
   "cell_type": "code",
   "execution_count": null,
   "metadata": {},
   "outputs": [],
   "source": [
    "# Q.2460 지능형 기차 2\n",
    "num, train = 0, []\n",
    "\n",
    "for i in range(10):\n",
    "    a, b = map(int, input().split())\n",
    "    num -= a\n",
    "    num += b\n",
    "    train.append(num)\n",
    "\n",
    "print(max(train))"
   ]
  },
  {
   "cell_type": "code",
   "execution_count": 2,
   "metadata": {},
   "outputs": [
    {
     "name": "stdout",
     "output_type": "stream",
     "text": [
      "12000\n"
     ]
    }
   ],
   "source": [
    "# Q.2476 주사위 게임\n",
    "n = int(input())\n",
    "max_dice = 0\n",
    "\n",
    "for i in range(n):\n",
    "    a, b, c = map(int, input().split())\n",
    "\n",
    "    if a == b == c:\n",
    "        dice = 10000 + a * 1000\n",
    "    elif (a == b) | (a == c):\n",
    "        dice = 1000 + a * 100\n",
    "    elif b == c:\n",
    "        dice = 1000 + b * 100\n",
    "    else:\n",
    "        dice = max(a, b, c) * 100\n",
    "\n",
    "    if max_dice < dice:\n",
    "        max_dice = dice\n",
    "print(max_dice)"
   ]
  },
  {
   "cell_type": "code",
   "execution_count": 17,
   "metadata": {},
   "outputs": [
    {
     "name": "stdout",
     "output_type": "stream",
     "text": [
      "B\n",
      "A\n",
      "B\n"
     ]
    }
   ],
   "source": [
    "#Q.2490 윷놀이\n",
    "for i in range(3):\n",
    "    nums = list(map(int, input().split()))\n",
    "    game = nums.count(0)\n",
    "\n",
    "    if game == 1:\n",
    "        print('A')\n",
    "    elif game == 2:\n",
    "        print('B')\n",
    "    elif game == 3:\n",
    "        print('C')\n",
    "    elif game == 4:\n",
    "        print('D')\n",
    "    else:\n",
    "        print('E')"
   ]
  },
  {
   "cell_type": "code",
   "execution_count": 16,
   "metadata": {},
   "outputs": [
    {
     "name": "stdout",
     "output_type": "stream",
     "text": [
      "3\n"
     ]
    }
   ],
   "source": [
    "#Q.2501 약수 구하기\n",
    "n, k = map(int, input().split())\n",
    "l = [i for i in range(1, n+1) if n % i == 0]\n",
    "\n",
    "if len(l) < k:\n",
    "    print(0)\n",
    "else:\n",
    "    print(l[k-1])"
   ]
  },
  {
   "cell_type": "code",
   "execution_count": 23,
   "metadata": {},
   "outputs": [
    {
     "name": "stdout",
     "output_type": "stream",
     "text": [
      "10\n"
     ]
    }
   ],
   "source": [
    "#Q.2506 점수계산\n",
    "n = int(input())\n",
    "total, num = 0, 1\n",
    "\n",
    "score = list(map(int, input().split()))\n",
    "\n",
    "for i in score:\n",
    "    if i == 1:\n",
    "        total += num\n",
    "        num += 1\n",
    "    else:\n",
    "        num = 1\n",
    "print(total)"
   ]
  },
  {
   "cell_type": "code",
   "execution_count": null,
   "metadata": {},
   "outputs": [],
   "source": []
  }
 ],
 "metadata": {
  "kernelspec": {
   "display_name": "Python 3",
   "language": "python",
   "name": "python3"
  },
  "language_info": {
   "codemirror_mode": {
    "name": "ipython",
    "version": 3
   },
   "file_extension": ".py",
   "mimetype": "text/x-python",
   "name": "python",
   "nbconvert_exporter": "python",
   "pygments_lexer": "ipython3",
   "version": "3.9.6"
  },
  "orig_nbformat": 4
 },
 "nbformat": 4,
 "nbformat_minor": 2
}
