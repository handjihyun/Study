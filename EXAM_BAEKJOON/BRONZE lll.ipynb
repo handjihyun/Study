{
 "cells": [
  {
   "attachments": {},
   "cell_type": "markdown",
   "metadata": {},
   "source": [
    "##### BRONZE lll"
   ]
  },
  {
   "cell_type": "code",
   "execution_count": null,
   "metadata": {},
   "outputs": [],
   "source": [
    "# Q1085. 직사각형에서 탈출\n",
    "x, y, w, h = map(int, input().split())\n",
    "\n",
    "print(min(abs(w - x), abs(h - y), x, y))"
   ]
  },
  {
   "cell_type": "code",
   "execution_count": null,
   "metadata": {},
   "outputs": [],
   "source": [
    "# Q1247. 부호\n",
    "nums = []\n",
    "\n",
    "for i in range(3):\n",
    "    N = int(input())\n",
    "\n",
    "    j = 0\n",
    "    while j < N:\n",
    "        nums.append(int(input()))\n",
    "        j += 1\n",
    "\n",
    "l_sum = [sum(nums[0:3]), sum(nums[3:13]), sum(nums[13:])]\n",
    "\n",
    "for i in l_sum:\n",
    "    if i == 0: print('0')\n",
    "    elif i < 0 : print('-')\n",
    "    else: print('+')\n",
    "\n",
    "from sys import stdin\n",
    "\n",
    "for i in range(3):\n",
    "    N = int(stdin.readline())\n",
    "    nums = [int(stdin.readline()) for i in range(N)]\n",
    "\n",
    "    if sum(nums) == 0:\n",
    "        print(\"0\")\n",
    "    elif sum(nums) > 0:\n",
    "        print('+')\n",
    "    else:\n",
    "        print('-')"
   ]
  },
  {
   "cell_type": "code",
   "execution_count": null,
   "metadata": {},
   "outputs": [],
   "source": [
    "# Q.1267 핸드폰 요금\n",
    "N = int(input())\n",
    "time = list(map(int, input().split()))\n",
    "\n",
    "y, m = 0, 0\n",
    "\n",
    "for i in time:\n",
    "    y += i // 30 * 10 + 10\n",
    "    m += i // 60 * 15 + 15\n",
    "\n",
    "if y < m:\n",
    "    print('Y', y)\n",
    "elif y > m:\n",
    "    print('M', m)\n",
    "else:\n",
    "    print('Y', 'M', y)"
   ]
  },
  {
   "cell_type": "code",
   "execution_count": null,
   "metadata": {},
   "outputs": [],
   "source": [
    "# Q.1284 집 주소\n",
    "addr = []\n",
    "\n",
    "while True:\n",
    "    num = input()\n",
    "    addr.append(num)\n",
    "    if num == \"0\": break\n",
    "\n",
    "for i in addr[:-1]:\n",
    "    total = 2 + len(i) -1\n",
    "    \n",
    "    for j in i: \n",
    "        if int(j) == 1:\n",
    "            total += 2\n",
    "        elif int(j) == 0:\n",
    "            total += 4\n",
    "        else:\n",
    "            total += 3\n",
    "    print(total)"
   ]
  },
  {
   "cell_type": "code",
   "execution_count": null,
   "metadata": {},
   "outputs": [],
   "source": [
    "# Q.1547 공\n",
    "N = int(input())\n",
    "\n",
    "ball = 1\n",
    "for i in range(N):\n",
    "    a, b = map(int, input().split())\n",
    "\n",
    "    if a == ball:\n",
    "        ball = b\n",
    "        continue\n",
    "\n",
    "    if b == ball:\n",
    "        ball = a\n",
    "        continue\n",
    "\n",
    "print(ball)"
   ]
  },
  {
   "cell_type": "code",
   "execution_count": null,
   "metadata": {},
   "outputs": [],
   "source": [
    "# Q.1598 꼬리를 무는 숫자 나열\n",
    "a, b = map(int, input().split())\n",
    "\n",
    "a, b = a - 1, b - 1\n",
    "print(abs(b // 4-a // 4) + abs(b % 4-a % 4))"
   ]
  },
  {
   "cell_type": "code",
   "execution_count": null,
   "metadata": {},
   "outputs": [],
   "source": [
    "# Q.1703 생장점\n",
    "l_leaf = []\n",
    "\n",
    "while True:\n",
    "    leaf = input().split()\n",
    "    if leaf[0] == '0': break\n",
    "    else:\n",
    "        l_leaf.append(leaf)\n",
    "\n",
    "for i in l_leaf:\n",
    "    total = 1\n",
    "    for j in range(1, len(i)):\n",
    "        if j % 2 != 0:\n",
    "            total *= int(i[j])\n",
    "        else:\n",
    "            total -= int(i[j])\n",
    "    print(total)"
   ]
  },
  {
   "cell_type": "code",
   "execution_count": null,
   "metadata": {},
   "outputs": [],
   "source": [
    "# Q.1837 암호제작\n",
    "# p, k = map(int, input().split())\n",
    "\n",
    "# m = 2\n",
    "# while True:\n",
    "#     if p % m != 0:\n",
    "#         m += 1\n",
    "#     else:\n",
    "#         break\n",
    "\n",
    "# if max(p//m, m) < k:\n",
    "#     print('BAD', min(p//m, m))\n",
    "# else:\n",
    "#     print('GOOD')\n",
    "\n",
    "# --------------------------------\n",
    "p, k = map(int, input().split())\n",
    "\n",
    "a = True\n",
    "for i in range(2, k):\n",
    "    if p % i == 0:\n",
    "        print('BAD', i)\n",
    "        a = False\n",
    "        break\n",
    "\n",
    "if a:\n",
    "    print('GOOD')"
   ]
  },
  {
   "cell_type": "code",
   "execution_count": null,
   "metadata": {},
   "outputs": [],
   "source": [
    "# Q.2010 플러그\n",
    "import sys\n",
    "n = int(sys.stdin.readline())\n",
    "\n",
    "total = 0\n",
    "for i in range(n):\n",
    "    plug = int(sys.stdin.readline())\n",
    "    total += plug\n",
    "\n",
    "    # total += int(sys.stdin.readline())\n",
    "\n",
    "print(total - (n - 1))"
   ]
  },
  {
   "cell_type": "code",
   "execution_count": null,
   "metadata": {},
   "outputs": [],
   "source": [
    "# Q.2441 별 찍기 - 4\n",
    "n = int(input())\n",
    "\n",
    "for i in range(n):\n",
    "    print(((n - i) * '*').rjust(n))"
   ]
  },
  {
   "cell_type": "code",
   "execution_count": null,
   "metadata": {},
   "outputs": [],
   "source": [
    "# Q.2460 지능형 기차 2\n",
    "num, train = 0, []\n",
    "\n",
    "for i in range(10):\n",
    "    a, b = map(int, input().split())\n",
    "    num -= a\n",
    "    num += b\n",
    "    train.append(num)\n",
    "\n",
    "print(max(train))"
   ]
  },
  {
   "cell_type": "code",
   "execution_count": null,
   "metadata": {},
   "outputs": [],
   "source": []
  }
 ],
 "metadata": {
  "language_info": {
   "name": "python"
  },
  "orig_nbformat": 4
 },
 "nbformat": 4,
 "nbformat_minor": 2
}
