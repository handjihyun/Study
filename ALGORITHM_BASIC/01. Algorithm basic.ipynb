{
 "cells": [
  {
   "attachments": {},
   "cell_type": "markdown",
   "metadata": {},
   "source": [
    "#### 01. 알고리즘 기초\n",
    "01-1 알고리즘이란?\n",
    "\n",
    "실습 1-1"
   ]
  },
  {
   "cell_type": "code",
   "execution_count": 1,
   "metadata": {},
   "outputs": [
    {
     "name": "stdout",
     "output_type": "stream",
     "text": [
      "세 정수의 최댓값을 구합니다.\n",
      "최댓값은 3입니다.\n"
     ]
    }
   ],
   "source": [
    "# 세 정수를 입력받아 최댓값 구하기\n",
    "\n",
    "print('세 정수의 최댓값을 구합니다.')\n",
    "a = int(input('정수 a의 값을 입력하세요.: '))\n",
    "b = int(input('정수 b의 값을 입력하세요.: '))\n",
    "c = int(input('정수 c의 값을 입력하세요.: '))\n",
    "\n",
    "# sequential structure\n",
    "maximum = a\n",
    "# select structure\n",
    "if b > maximum: maximum = b\n",
    "if c > maximum: maximum = c\n",
    "\n",
    "print(f'최댓값은 {maximum}입니다.')"
   ]
  },
  {
   "attachments": {},
   "cell_type": "markdown",
   "metadata": {},
   "source": [
    "보충수업 1-1) 문자열과 숫자 입력받기"
   ]
  },
  {
   "cell_type": "code",
   "execution_count": 2,
   "metadata": {},
   "outputs": [
    {
     "name": "stdout",
     "output_type": "stream",
     "text": [
      "이름을 입력하세요.: 안녕하세요? 손지현 님.\n"
     ]
    }
   ],
   "source": [
    "# 이름을 입력받아 인사하기\n",
    "print('이름을 입력하세요.: ', end='')\n",
    "name = input()\n",
    "print(f'안녕하세요? {name} 님.')"
   ]
  },
  {
   "cell_type": "code",
   "execution_count": 4,
   "metadata": {},
   "outputs": [
    {
     "name": "stdout",
     "output_type": "stream",
     "text": [
      "17\n",
      "6\n",
      "61\n",
      "13\n",
      "63\n",
      "3.14\n"
     ]
    }
   ],
   "source": [
    "# 문자열을 정수로 형 변환\n",
    "print(int('17'))        # 10진수 문자열 -> 10진수 정수형\n",
    "print(int('0b110', 2))  # 2진수 문자열  -> 10진수 정수형\n",
    "print(int('0o75', 8))   # 8진수 문자열  -> 10진수 정수형\n",
    "print(int('13', 10))    # 10진수 문자열 -> 10진수 정수형\n",
    "print(int('0x3F', 16))  # 16진수 문자열 -> 10진수 정수형\n",
    "print(float('3.14'))    # 문자열        -> 실수형"
   ]
  },
  {
   "cell_type": "code",
   "execution_count": 5,
   "metadata": {},
   "outputs": [],
   "source": [
    "# 세 정수의 최댓값 구하기\n",
    "def max3(a, b, c):\n",
    "    maximum = a\n",
    "    if b > maximum: maximum = b\n",
    "    if c > maximum: maximum = c\n",
    "    return maximum"
   ]
  },
  {
   "cell_type": "code",
   "execution_count": 8,
   "metadata": {},
   "outputs": [
    {
     "name": "stdout",
     "output_type": "stream",
     "text": [
      "max3(3, 2, 1) = 3\n",
      "max3(3, 2, 2) = 3\n",
      "max3(3, 1, 2) = 3\n",
      "max3(3, 2, 3) = 3\n",
      "max3(2, 1, 3) = 3\n",
      "max3(3, 3, 2) = 3\n",
      "max3(3, 3, 3) = 3\n",
      "max3(2, 2, 3) = 3\n",
      "max3(2, 3, 1) = 3\n",
      "max3(2, 3, 2) = 3\n",
      "max3(1, 3, 2) = 3\n",
      "max3(2, 3, 3) = 3\n",
      "max3(1, 2, 3) = 3\n"
     ]
    }
   ],
   "source": [
    "print(f'max3(3, 2, 1) = {max3(3, 2, 1)}')\n",
    "print(f'max3(3, 2, 2) = {max3(3, 2, 2)}')\n",
    "print(f'max3(3, 1, 2) = {max3(3, 1, 2)}')\n",
    "print(f'max3(3, 2, 3) = {max3(3, 2, 3)}')\n",
    "print(f'max3(2, 1, 3) = {max3(2, 1, 3)}')\n",
    "print(f'max3(3, 3, 2) = {max3(3, 3, 2)}')\n",
    "print(f'max3(3, 3, 3) = {max3(3, 3, 3)}')\n",
    "print(f'max3(2, 2, 3) = {max3(2, 2, 3)}')\n",
    "print(f'max3(2, 3, 1) = {max3(2, 3, 1)}')\n",
    "print(f'max3(2, 3, 2) = {max3(2, 3, 2)}')\n",
    "print(f'max3(1, 3, 2) = {max3(1, 3, 2)}')\n",
    "print(f'max3(2, 3, 3) = {max3(2, 3, 3)}')\n",
    "print(f'max3(1, 2, 3) = {max3(1, 2, 3)}')"
   ]
  },
  {
   "attachments": {},
   "cell_type": "markdown",
   "metadata": {},
   "source": [
    "보충 수업 1-4) 복합문을 작성할 때 지켜야 할 규칙"
   ]
  },
  {
   "cell_type": "code",
   "execution_count": 9,
   "metadata": {},
   "outputs": [],
   "source": [
    "if a < b:\n",
    "    min2 = a    # 들여쓰기!\n",
    "    max2 = b"
   ]
  },
  {
   "cell_type": "code",
   "execution_count": 10,
   "metadata": {},
   "outputs": [],
   "source": [
    "if a < b: min2 = a\n",
    "if a < b: min2 = a; max2 = b\n",
    "if a < b: min2 = a; max2 = b;"
   ]
  },
  {
   "attachments": {},
   "cell_type": "markdown",
   "metadata": {},
   "source": [
    "실습 1C-2"
   ]
  },
  {
   "cell_type": "code",
   "execution_count": 11,
   "metadata": {},
   "outputs": [],
   "source": [
    "# 세 정수를 입력받아 중앙값 구하기1\n",
    "\n",
    "def med3(a, b, c):\n",
    "    if a >= b:\n",
    "        if b >= c:\n",
    "            return b\n",
    "        elif a <= c:\n",
    "            return a\n",
    "        else:\n",
    "            return c\n",
    "    elif a > c:\n",
    "        return a\n",
    "    elif b > c:\n",
    "        return c\n",
    "    else:\n",
    "        return b"
   ]
  },
  {
   "cell_type": "code",
   "execution_count": 14,
   "metadata": {},
   "outputs": [
    {
     "name": "stdout",
     "output_type": "stream",
     "text": [
      "세 정수의 중앙값을 구합니다.\n",
      "중앙값은 2입니다.\n"
     ]
    }
   ],
   "source": [
    "print('세 정수의 중앙값을 구합니다.')\n",
    "a = int(input('정수 a의 값을 입력하세요.: '))\n",
    "b = int(input('정수 b의 값을 입력하세요.: '))\n",
    "c = int(input('정수 c의 값을 입력하세요.: '))\n",
    "\n",
    "print(f'중앙값은 {med3(a, b, c)}입니다.')"
   ]
  },
  {
   "cell_type": "code",
   "execution_count": 15,
   "metadata": {},
   "outputs": [],
   "source": [
    "# 세 정수를 입력받아 중앙값 구하기 2\n",
    "def med3(a, b, c):\n",
    "    if (b >= a and c <= a) or (b <= a and c >= a):\n",
    "        return a\n",
    "    elif (a > b and c < b) or (a < b and c > b):\n",
    "        return b\n",
    "    return c"
   ]
  },
  {
   "cell_type": "code",
   "execution_count": 16,
   "metadata": {},
   "outputs": [
    {
     "name": "stdout",
     "output_type": "stream",
     "text": [
      "세 정수의 중앙값을 구합니다.\n",
      "중앙값은 2입니다.\n"
     ]
    }
   ],
   "source": [
    "print('세 정수의 중앙값을 구합니다.')\n",
    "a = int(input('정수 a의 값을 입력하세요.: '))\n",
    "b = int(input('정수 b의 값을 입력하세요.: '))\n",
    "c = int(input('정수 c의 값을 입력하세요.: '))\n",
    "\n",
    "print(f'중앙값은 {med3(a, b, c)}입니다.')"
   ]
  },
  {
   "attachments": {},
   "cell_type": "markdown",
   "metadata": {},
   "source": [
    "실습 1-3"
   ]
  },
  {
   "cell_type": "code",
   "execution_count": 1,
   "metadata": {},
   "outputs": [
    {
     "name": "stdout",
     "output_type": "stream",
     "text": [
      "이 수는 양수입니다.\n"
     ]
    }
   ],
   "source": [
    "# 입력받은 정수의 부호(양수, 음수, 0) 출력하기\n",
    "n = int(input('정수를 입력하세요.: '))\n",
    "\n",
    "if n > 0:\n",
    "    print('이 수는 양수입니다.')\n",
    "elif n < 0:\n",
    "    print('이 수는 음수입니다.')\n",
    "else:\n",
    "    print('이 수는 0입니다.')"
   ]
  },
  {
   "attachments": {},
   "cell_type": "markdown",
   "metadata": {},
   "source": [
    "실습 1-4"
   ]
  },
  {
   "cell_type": "code",
   "execution_count": 2,
   "metadata": {},
   "outputs": [
    {
     "name": "stdout",
     "output_type": "stream",
     "text": [
      "C\n"
     ]
    }
   ],
   "source": [
    "# 3개로 분기하는 조건문\n",
    "n = int(input('정수를 입력하세요.: '))\n",
    "\n",
    "if n == 1:\n",
    "    print('A')\n",
    "elif n == 2:\n",
    "    print('B')\n",
    "else:\n",
    "    print('C')"
   ]
  },
  {
   "attachments": {},
   "cell_type": "markdown",
   "metadata": {},
   "source": [
    "실습 1-5"
   ]
  },
  {
   "cell_type": "code",
   "execution_count": 3,
   "metadata": {},
   "outputs": [],
   "source": [
    "# 4개로 분기하는 조건문\n",
    "n = int(input('정수를 입력하세요.: '))\n",
    "\n",
    "if n == 1:\n",
    "    print('A')\n",
    "elif n == 2:\n",
    "    print('B')\n",
    "elif n == 3:\n",
    "    print('C')"
   ]
  },
  {
   "attachments": {},
   "cell_type": "markdown",
   "metadata": {},
   "source": [
    "실습 1-6"
   ]
  },
  {
   "cell_type": "code",
   "execution_count": 5,
   "metadata": {},
   "outputs": [],
   "source": [
    "# 실습 1-5의 원래 모습\n",
    "n = int(input('정수를 입력하세요.'))\n",
    "\n",
    "if n == 1:\n",
    "    print('A')\n",
    "elif n == 2:\n",
    "    print('B')\n",
    "elif n == 3:\n",
    "    print('C')\n",
    "else:\n",
    "    pass"
   ]
  },
  {
   "attachments": {},
   "cell_type": "markdown",
   "metadata": {},
   "source": [
    "#### 01-2 반복하는 알고리즘"
   ]
  },
  {
   "attachments": {},
   "cell_type": "markdown",
   "metadata": {},
   "source": [
    "실습 1-7"
   ]
  },
  {
   "cell_type": "code",
   "execution_count": 7,
   "metadata": {},
   "outputs": [
    {
     "name": "stdout",
     "output_type": "stream",
     "text": [
      "1부터 n까지 정수의 합을 구합니다.\n",
      "1부터 5까지 정수의 합은 15입니다.\n",
      "i값은 6입니다.\n"
     ]
    }
   ],
   "source": [
    "# 1부터 n까지 정수의 합 구하기 1 (while 문)\n",
    "print('1부터 n까지 정수의 합을 구합니다.')\n",
    "n = int(input('n값을 입력하세요.: '))\n",
    "\n",
    "sum = 0\n",
    "# 카운터용 변수\n",
    "i = 1\n",
    "\n",
    "# 판단 반복 구조\n",
    "while i <= n:\n",
    "    sum += i\n",
    "    i += 1\n",
    "\n",
    "print(f'1부터 {n}까지 정수의 합은 {sum}입니다.')\n",
    "print(f'i값은 {i}입니다.')"
   ]
  },
  {
   "attachments": {},
   "cell_type": "markdown",
   "metadata": {},
   "source": [
    "실습 1-8"
   ]
  },
  {
   "cell_type": "code",
   "execution_count": 22,
   "metadata": {},
   "outputs": [
    {
     "name": "stdout",
     "output_type": "stream",
     "text": [
      "1부터 n까지 정수의 합을 구합니다.\n",
      "1부터 5까지 정수의 합은 15입니다.\n"
     ]
    }
   ],
   "source": [
    "# 1부터 n까지 정수의 합 구하기 2 (for 문)\n",
    "\n",
    "print('1부터 n까지 정수의 합을 구합니다.')\n",
    "n = int(input('n값을 입력하세요.: '))\n",
    "\n",
    "sum = 0\n",
    "for i in range(1, n+1):\n",
    "    sum += i\n",
    "\n",
    "print(f'1부터 {n}까지 정수의 합은 {sum}입니다.')"
   ]
  },
  {
   "attachments": {},
   "cell_type": "markdown",
   "metadata": {},
   "source": [
    "* range( ) 함수로 이터러블 객체 생성하기\n",
    "    * 이터러블 객체 => `반복할 수 있는 객체`\n",
    "    - range(n)          : 0 이상 n 미만인 수를 차례로 나열하는 수열\n",
    "    - range(a, b)       : a 이상 b 미만인 수를 차례로 나열하는 수열\n",
    "    - range(a, b, step) : a 이상 b 미만인 수를 step 간격으로 나열하는 수열"
   ]
  },
  {
   "cell_type": "code",
   "execution_count": 10,
   "metadata": {},
   "outputs": [
    {
     "name": "stdout",
     "output_type": "stream",
     "text": [
      "1부터 n까지 정수의 합을 구합니다.\n",
      "1부터 5까지 정수의 합은 15입니다.\n"
     ]
    }
   ],
   "source": [
    "# 가우스의 덧셈\n",
    "print('1부터 n까지 정수의 합을 구합니다.')\n",
    "n = int(input('n값을 입력하세요.: '))\n",
    "\n",
    "sum = n * (n + 1) // 2\n",
    "print(f'1부터 {n}까지 정수의 합은 {sum}입니다.')"
   ]
  },
  {
   "attachments": {},
   "cell_type": "markdown",
   "metadata": {},
   "source": [
    "실습 1-9"
   ]
  },
  {
   "cell_type": "code",
   "execution_count": 12,
   "metadata": {},
   "outputs": [
    {
     "name": "stdout",
     "output_type": "stream",
     "text": [
      "a부터 b까지 정수의 합을 구합니다.\n",
      "3부터 8까지 정수의 합은 33입니다.\n"
     ]
    }
   ],
   "source": [
    "# a부터 b까지 정수의 합 구하기 (for 문)\n",
    "print('a부터 b까지 정수의 합을 구합니다.')\n",
    "a = int(input('정수 a를 입력하세요.: '))\n",
    "b = int(input('정수 b를 입력하세요.: '))\n",
    "\n",
    "if a > b:\n",
    "    a, b = b, a  # a와 b를 오름차순으로 정렬\n",
    "\n",
    "sum = 0\n",
    "for i in range(a, b+1):\n",
    "    sum += i\n",
    "\n",
    "print(f'{a}부터 {b}까지 정수의 합은 {sum}입니다.')"
   ]
  },
  {
   "attachments": {},
   "cell_type": "markdown",
   "metadata": {},
   "source": [
    "실습 1-10"
   ]
  },
  {
   "cell_type": "code",
   "execution_count": 15,
   "metadata": {},
   "outputs": [
    {
     "name": "stdout",
     "output_type": "stream",
     "text": [
      "a부터 b까지 정수의 합을 구합니다.\n",
      "3 + 4 + 5 + 6 + 7 = 25\n"
     ]
    }
   ],
   "source": [
    "# a부터 b까지 정수의 합 구하기 1\n",
    "\n",
    "print('a부터 b까지 정수의 합을 구합니다.')\n",
    "a = int(input('정수 a를 입력하세요.: '))\n",
    "b = int(input('정수 b를 입력하세요.: '))\n",
    "\n",
    "if a > b:\n",
    "    a, b = b, a\n",
    "\n",
    "sum = 0\n",
    "for i in range(a, b+1):\n",
    "    if i < b:               # i가 b보다 작으면 합을 구하는 과정 출력\n",
    "        print(f'{i} + ', end = '')\n",
    "    else:                   # i가 b보다 크거나 같으면 최종값 출력\n",
    "        print(f'{i} = ', end = '')\n",
    "    sum += i\n",
    "\n",
    "print(sum)"
   ]
  },
  {
   "cell_type": "code",
   "execution_count": 16,
   "metadata": {},
   "outputs": [
    {
     "name": "stdout",
     "output_type": "stream",
     "text": [
      "a부터 b까지 정수의 합을 구합니다.\n",
      "3 + 4 + 5 + 6 + 7 = 25\n"
     ]
    }
   ],
   "source": [
    "# a부터 b까지 정수의 합 구하기 2\n",
    "# -> a가 1이고 b가 10,000이면, 위 코드 13행이 9,999번 실행되고\n",
    "#    마지막 10,000번은 거짓이므로 15번 행은 1번만 실행\n",
    "#    for문 안에 있는 if 문을 제외!\n",
    "\n",
    "print('a부터 b까지 정수의 합을 구합니다.')\n",
    "a = int(input('정수 a를 입력하세요.: '))\n",
    "b = int(input('정수 b를 입력하세요.: '))\n",
    "\n",
    "if a > b:\n",
    "    a, b = b, a\n",
    "\n",
    "sum = 0\n",
    "for i in range(a, b):\n",
    "    print(f'{i} + ', end = '')\n",
    "    sum += i\n",
    "\n",
    "print(f'{b} = ', end = '')\n",
    "sum += b\n",
    "\n",
    "print(sum)"
   ]
  },
  {
   "attachments": {},
   "cell_type": "markdown",
   "metadata": {},
   "source": [
    "실습 1-12"
   ]
  },
  {
   "cell_type": "code",
   "execution_count": 17,
   "metadata": {},
   "outputs": [
    {
     "name": "stdout",
     "output_type": "stream",
     "text": [
      "+와 -를 번갈아 출력합니다.\n",
      "+-+-+-+-+-+-"
     ]
    }
   ],
   "source": [
    "# +와 -를 번갈아 출력하기 1\n",
    "print('+와 -를 번갈아 출력합니다.')\n",
    "n = int(input('몇 개를 출력할까요?: '))\n",
    "\n",
    "for i in range(n):\n",
    "    if i % 2:                   # 홀수 : - 출력\n",
    "        print('-', end = '')\n",
    "    else:                       # 짝수 : + 출력\n",
    "        print('+', end = '')"
   ]
  },
  {
   "attachments": {},
   "cell_type": "markdown",
   "metadata": {},
   "source": [
    "실습 1-13"
   ]
  },
  {
   "cell_type": "code",
   "execution_count": 18,
   "metadata": {},
   "outputs": [
    {
     "name": "stdout",
     "output_type": "stream",
     "text": [
      "+와 -를 번갈아 출력합니다.\n",
      "+-+-+-+-+-+-\n"
     ]
    }
   ],
   "source": [
    "# 위 코드에서 n이 50,000이라면 if문도 50,000번 수행됨\n",
    "# + 와 - 를 번갈아 출력하기 2\n",
    "\n",
    "print('+와 -를 번갈아 출력합니다.')\n",
    "n = int(input('몇 개를 출력할까요?: '))\n",
    "\n",
    "for _ in range(n // 2):\n",
    "    print('+-', end = '')\n",
    "\n",
    "if n % 2:\n",
    "    print('+', end = '')\n",
    "\n",
    "print()"
   ]
  },
  {
   "attachments": {},
   "cell_type": "markdown",
   "metadata": {},
   "source": [
    "실습 1-14"
   ]
  },
  {
   "cell_type": "code",
   "execution_count": 19,
   "metadata": {},
   "outputs": [
    {
     "name": "stdout",
     "output_type": "stream",
     "text": [
      "*를 출력합니다.\n",
      "*****\n",
      "*****\n",
      "****\n"
     ]
    }
   ],
   "source": [
    "# *를 n개 출력하되 w개마다 줄바꿈하기 1\n",
    "\n",
    "print('*를 출력합니다.')\n",
    "n = int(input('몇 개를 출력할까요?: '))\n",
    "w = int(input('몇 개마다 줄바꿈할까요?: '))\n",
    "\n",
    "for i in range(n):          # n번 반복\n",
    "    print('*', end = '')\n",
    "    if i % w == w - 1:      # n번 판단\n",
    "        print()             # 줄바꿈\n",
    "\n",
    "if n % w:                   # 1번 판단\n",
    "    print()                 # 줄바꿈"
   ]
  },
  {
   "attachments": {},
   "cell_type": "markdown",
   "metadata": {},
   "source": [
    "실습 1-15"
   ]
  },
  {
   "cell_type": "code",
   "execution_count": 20,
   "metadata": {},
   "outputs": [
    {
     "name": "stdout",
     "output_type": "stream",
     "text": [
      "*를 출력합니다.\n",
      "*****\n",
      "*****\n",
      "****\n"
     ]
    }
   ],
   "source": [
    "# *를 n개 출력하되 w개마다 줄바꿈하기 2\n",
    "\n",
    "print('*를 출력합니다.')\n",
    "n = int(input('몇 개를 출력할까요?: '))\n",
    "w = int(input('몇 개마다 줄바꿈할까요?: '))\n",
    "\n",
    "for _ in range(n // w):\n",
    "    print('*' * w)\n",
    "\n",
    "rest = n % w\n",
    "if rest:\n",
    "    print('*' * rest)"
   ]
  },
  {
   "attachments": {},
   "cell_type": "markdown",
   "metadata": {},
   "source": [
    "실습 1-16"
   ]
  },
  {
   "cell_type": "code",
   "execution_count": 24,
   "metadata": {},
   "outputs": [
    {
     "name": "stdout",
     "output_type": "stream",
     "text": [
      "1부터 n까지 정수의 합을 구합시다.\n",
      "1부터 10까지 정수의 합은 55입니다.\n"
     ]
    }
   ],
   "source": [
    "# 실습 1-8에서 -5를 입력하면 이상한 결괏값 출력 => n값을 양수로 한정\n",
    "# 1부터 n까지 정수의 합 구하기 (n값은 양수만 입력받음)\n",
    "\n",
    "print('1부터 n까지 정수의 합을 구합시다.')\n",
    "\n",
    "while True:     # 무한루프\n",
    "    n = int(input('n값을 입력하세요.: '))\n",
    "    if n > 0:\n",
    "        break   # n이 0보다 커질 때까지 반복\n",
    "\n",
    "sum = 0\n",
    "i = 1\n",
    "\n",
    "for i in range(1, n+1):\n",
    "    sum += i\n",
    "    i += 1\n",
    "\n",
    "print(f'1부터 {n}까지 정수의 합은 {sum}입니다.')"
   ]
  },
  {
   "attachments": {},
   "cell_type": "markdown",
   "metadata": {},
   "source": [
    "실습 1-17"
   ]
  },
  {
   "cell_type": "code",
   "execution_count": 25,
   "metadata": {},
   "outputs": [
    {
     "name": "stdout",
     "output_type": "stream",
     "text": [
      "1 x 32\n",
      "2 x 16\n",
      "4 x 8\n"
     ]
    }
   ],
   "source": [
    "# 가로, 세로 길이가 정수이고 넓이가 area인 직사각형에서 변의 길이 나열하기\n",
    "\n",
    "area = int(input('직사각형의 넓이를 입력하세요.: '))\n",
    "\n",
    "for i in range(1, area + 1):\n",
    "    if i * i > area: break\n",
    "    if area % i: continue\n",
    "    print(f'{i} x {area // i}')"
   ]
  },
  {
   "attachments": {},
   "cell_type": "markdown",
   "metadata": {},
   "source": [
    "실습 1-18"
   ]
  },
  {
   "cell_type": "code",
   "execution_count": 60,
   "metadata": {},
   "outputs": [
    {
     "name": "stdout",
     "output_type": "stream",
     "text": [
      "86 43 28 13 \n",
      "프로그램을 중단합니다.\n"
     ]
    }
   ],
   "source": [
    "# 10 ~ 99 사이의 난수 n개 생성하기 (13이 나오면 중단)\n",
    "\n",
    "import random\n",
    "\n",
    "n = int(input('난수의 개수를 입력하세요.: '))\n",
    "\n",
    "for _ in range(n):\n",
    "    r = random.randint(10, 99)\n",
    "    print(r, end = ' ')\n",
    "    if r == 13:\n",
    "        print('\\n프로그램을 중단합니다.')\n",
    "        break\n",
    "else:\n",
    "    print('\\n난수 생성을 종료합니다.')"
   ]
  },
  {
   "attachments": {},
   "cell_type": "markdown",
   "metadata": {},
   "source": [
    "실습 1-19"
   ]
  },
  {
   "cell_type": "code",
   "execution_count": 61,
   "metadata": {},
   "outputs": [
    {
     "name": "stdout",
     "output_type": "stream",
     "text": [
      "1 2 3 4 5 6 7 9 10 11 12 \n"
     ]
    }
   ],
   "source": [
    "# 1 ~ 12까지 8을 건너뛰고 출력하기 1\n",
    "\n",
    "for i in range(1, 13):\n",
    "    if i == 8:\n",
    "        continue\n",
    "    print(i, end = ' ')\n",
    "\n",
    "print()"
   ]
  },
  {
   "attachments": {},
   "cell_type": "markdown",
   "metadata": {},
   "source": [
    "실습 1-20"
   ]
  },
  {
   "cell_type": "code",
   "execution_count": 62,
   "metadata": {},
   "outputs": [
    {
     "name": "stdout",
     "output_type": "stream",
     "text": [
      "1 2 3 4 5 6 7 9 10 11 12 \n"
     ]
    }
   ],
   "source": [
    "# 위의 프로그램에서 숫자를 100,000까지 출력하는 경우 숫자를 1개만 건너뛰도록\n",
    "# if, continue 문을 사용한다면 판단을 10만번 해야 함\n",
    "# 1부터 12까지 8을 건너뛰고 출력하기 2\n",
    "\n",
    "for i in list(range(1, 8)) + list(range(9, 13)):\n",
    "    print(i, end = ' ')\n",
    "print()"
   ]
  },
  {
   "attachments": {},
   "cell_type": "markdown",
   "metadata": {},
   "source": [
    "보충 수업 1-11) 비교 연산자를 연속으로 사용하는 방법과 드모르간의 법칙\n",
    "\n",
    "실습 1C-3"
   ]
  },
  {
   "cell_type": "code",
   "execution_count": 63,
   "metadata": {},
   "outputs": [
    {
     "name": "stdout",
     "output_type": "stream",
     "text": [
      "2자리 양수를 입력하세요.\n",
      "입력받은 양수는 57입니다.\n"
     ]
    }
   ],
   "source": [
    "# 2자리 양수(10 ~ 99) 입력받기\n",
    "\n",
    "print('2자리 양수를 입력하세요.')\n",
    "\n",
    "while True:\n",
    "    no = int(input('값을 입력하세요.: '))\n",
    "    if no >= 10 and no <= 99:\n",
    "  # if not(no < 10 or no > 99)\n",
    "        break\n",
    "\n",
    "print(f'입력받은 양수는 {no}입니다.')"
   ]
  },
  {
   "attachments": {},
   "cell_type": "markdown",
   "metadata": {},
   "source": [
    "실습 1-21"
   ]
  },
  {
   "cell_type": "code",
   "execution_count": 64,
   "metadata": {},
   "outputs": [
    {
     "name": "stdout",
     "output_type": "stream",
     "text": [
      "---------------------------\n",
      "  1  2  3  4  5  6  7  8  9\n",
      "  2  4  6  8 10 12 14 16 18\n",
      "  3  6  9 12 15 18 21 24 27\n",
      "  4  8 12 16 20 24 28 32 36\n",
      "  5 10 15 20 25 30 35 40 45\n",
      "  6 12 18 24 30 36 42 48 54\n",
      "  7 14 21 28 35 42 49 56 63\n",
      "  8 16 24 32 40 48 56 64 72\n",
      "  9 18 27 36 45 54 63 72 81\n",
      "---------------------------\n"
     ]
    }
   ],
   "source": [
    "# 다중 루프 알아보기\n",
    "# 구구단 곱셈표 출력하기\n",
    "\n",
    "print('-' * 27)\n",
    "for i in range(1, 10):          # 세로 방향의 반복문\n",
    "    for j in range(1, 10):      # 가로 방향의 반복\n",
    "        print(f'{i * j:3}', end = '')\n",
    "    print()\n",
    "print('-' * 27)"
   ]
  },
  {
   "attachments": {},
   "cell_type": "markdown",
   "metadata": {},
   "source": [
    "실습 1-22"
   ]
  },
  {
   "cell_type": "code",
   "execution_count": 65,
   "metadata": {},
   "outputs": [
    {
     "name": "stdout",
     "output_type": "stream",
     "text": [
      "왼쪽 아래가 직각인 이등변 삼각형을 출력합니다.\n",
      "*\n",
      "**\n",
      "***\n",
      "****\n",
      "*****\n"
     ]
    }
   ],
   "source": [
    "# 직각 이등변 삼각형으로 출력하기\n",
    "# 왼쪽 아래가 직각인 이등변 삼각형으로 * 출력하기\n",
    "\n",
    "print('왼쪽 아래가 직각인 이등변 삼각형을 출력합니다.')\n",
    "n = int(input('짧은 변의 길이를 입력하세요.: '))\n",
    "\n",
    "for i in range(n):          # 세로 방향의 반복문\n",
    "    for j in range(i+1):    # 가로 방향의 반복문\n",
    "        print('*', end = '')\n",
    "    print()"
   ]
  },
  {
   "attachments": {},
   "cell_type": "markdown",
   "metadata": {},
   "source": [
    "실습 1-23"
   ]
  },
  {
   "cell_type": "code",
   "execution_count": 66,
   "metadata": {},
   "outputs": [
    {
     "name": "stdout",
     "output_type": "stream",
     "text": [
      "오른쪽 아래가 직각인 이등변 삼각형을 출력합니다.\n",
      "    *\n",
      "   **\n",
      "  ***\n",
      " ****\n",
      "*****\n"
     ]
    }
   ],
   "source": [
    "# 오른쪽 아래가 직각인 이등변 삼각형으로 * 출력하기\n",
    "\n",
    "print('오른쪽 아래가 직각인 이등변 삼각형을 출력합니다.')\n",
    "n = int(input('짧은 변의 길이를 입력하세요.: '))\n",
    "\n",
    "for i in range(n):\n",
    "    for j in range(n - i - 1):\n",
    "        print(' ', end = '')    # 공백 출력\n",
    "    for _ in range(i+1):\n",
    "        print('*', end = '')    # i + 1개의 * 출력\n",
    "    print()"
   ]
  },
  {
   "attachments": {},
   "cell_type": "markdown",
   "metadata": {},
   "source": [
    "보충 수업 1-13) 파이썬의 변수 알아보기\n",
    "\n",
    "``` 파이썬의 변수는 값을 갖지 않는다! ```\n",
    "\n",
    "-> 모든 객체는 메모리를 차지하고, 자료형뿐만 아니라 식별 번호(identitiy)를 가진다."
   ]
  },
  {
   "cell_type": "code",
   "execution_count": 67,
   "metadata": {},
   "outputs": [
    {
     "name": "stdout",
     "output_type": "stream",
     "text": [
      "1232081546032\n",
      "1232081546032\n"
     ]
    }
   ],
   "source": [
    "# 정수 리터럴 17의 식별 번호와 n의 식별 번호가 같다\n",
    "n = 17\n",
    "print(id(17))\n",
    "print(id(n))"
   ]
  },
  {
   "attachments": {},
   "cell_type": "markdown",
   "metadata": {},
   "source": [
    "실습 1C-4"
   ]
  },
  {
   "cell_type": "code",
   "execution_count": 68,
   "metadata": {},
   "outputs": [
    {
     "name": "stdout",
     "output_type": "stream",
     "text": [
      "id(1) = 1232081545520\n",
      "id(n) = 1232081545520\n",
      "id(x) = 1232081545520\n"
     ]
    }
   ],
   "source": [
    "# 함수 내부, 외부에서 정의한 변수와 객체의 식별 번호를 출력하기\n",
    "\n",
    "n = 1           # 전역 변수(함수 내부, 외부에서 사용)\n",
    "def put_id():\n",
    "    x = 1       # 지역 변수(함수 내부에서만 사용)\n",
    "    print(f'id(x) = {id(x)}')\n",
    "\n",
    "print(f'id(1) = {id(1)}')\n",
    "print(f'id(n) = {id(n)}')\n",
    "put_id()"
   ]
  },
  {
   "attachments": {},
   "cell_type": "markdown",
   "metadata": {},
   "source": [
    "실습 1C-5"
   ]
  },
  {
   "cell_type": "code",
   "execution_count": 69,
   "metadata": {},
   "outputs": [
    {
     "name": "stdout",
     "output_type": "stream",
     "text": [
      "i =   1  id(i) = 1232081545520\n",
      "i =   2  id(i) = 1232081545552\n",
      "i =   3  id(i) = 1232081545584\n",
      "i =   4  id(i) = 1232081545616\n",
      "i =   5  id(i) = 1232081545648\n",
      "i =   6  id(i) = 1232081545680\n",
      "i =   7  id(i) = 1232081545712\n",
      "i =   8  id(i) = 1232081545744\n",
      "i =   9  id(i) = 1232081545776\n",
      "i =  10  id(i) = 1232081545808\n",
      "i =  11  id(i) = 1232081545840\n",
      "i =  12  id(i) = 1232081545872\n",
      "i =  13  id(i) = 1232081545904\n",
      "i =  14  id(i) = 1232081545936\n",
      "i =  15  id(i) = 1232081545968\n",
      "i =  16  id(i) = 1232081546000\n",
      "i =  17  id(i) = 1232081546032\n",
      "i =  18  id(i) = 1232081546064\n",
      "i =  19  id(i) = 1232081546096\n",
      "i =  20  id(i) = 1232081546128\n",
      "i =  21  id(i) = 1232081546160\n",
      "i =  22  id(i) = 1232081546192\n",
      "i =  23  id(i) = 1232081546224\n",
      "i =  24  id(i) = 1232081546256\n",
      "i =  25  id(i) = 1232081546288\n",
      "i =  26  id(i) = 1232081546320\n",
      "i =  27  id(i) = 1232081546352\n",
      "i =  28  id(i) = 1232081546384\n",
      "i =  29  id(i) = 1232081546416\n",
      "i =  30  id(i) = 1232081546448\n",
      "i =  31  id(i) = 1232081546480\n",
      "i =  32  id(i) = 1232081546512\n",
      "i =  33  id(i) = 1232081546544\n",
      "i =  34  id(i) = 1232081546576\n",
      "i =  35  id(i) = 1232081546608\n",
      "i =  36  id(i) = 1232081546640\n",
      "i =  37  id(i) = 1232081546672\n",
      "i =  38  id(i) = 1232081546704\n",
      "i =  39  id(i) = 1232081546736\n",
      "i =  40  id(i) = 1232081546768\n",
      "i =  41  id(i) = 1232081546800\n",
      "i =  42  id(i) = 1232081546832\n",
      "i =  43  id(i) = 1232081546864\n",
      "i =  44  id(i) = 1232081546896\n",
      "i =  45  id(i) = 1232081546928\n",
      "i =  46  id(i) = 1232081546960\n",
      "i =  47  id(i) = 1232081546992\n",
      "i =  48  id(i) = 1232081547024\n",
      "i =  49  id(i) = 1232081547056\n",
      "i =  50  id(i) = 1232081547088\n",
      "i =  51  id(i) = 1232081547120\n",
      "i =  52  id(i) = 1232081547152\n",
      "i =  53  id(i) = 1232081547184\n",
      "i =  54  id(i) = 1232081547216\n",
      "i =  55  id(i) = 1232081735728\n",
      "i =  56  id(i) = 1232081735760\n",
      "i =  57  id(i) = 1232081735792\n",
      "i =  58  id(i) = 1232081735824\n",
      "i =  59  id(i) = 1232081735856\n",
      "i =  60  id(i) = 1232081735888\n",
      "i =  61  id(i) = 1232081735920\n",
      "i =  62  id(i) = 1232081735952\n",
      "i =  63  id(i) = 1232081735984\n",
      "i =  64  id(i) = 1232081736016\n",
      "i =  65  id(i) = 1232081736048\n",
      "i =  66  id(i) = 1232081736080\n",
      "i =  67  id(i) = 1232081736112\n",
      "i =  68  id(i) = 1232081736144\n",
      "i =  69  id(i) = 1232081736176\n",
      "i =  70  id(i) = 1232081736208\n",
      "i =  71  id(i) = 1232081736240\n",
      "i =  72  id(i) = 1232081736272\n",
      "i =  73  id(i) = 1232081736304\n",
      "i =  74  id(i) = 1232081736336\n",
      "i =  75  id(i) = 1232081736368\n",
      "i =  76  id(i) = 1232081736400\n",
      "i =  77  id(i) = 1232081736432\n",
      "i =  78  id(i) = 1232081736464\n",
      "i =  79  id(i) = 1232081736496\n",
      "i =  80  id(i) = 1232081736528\n",
      "i =  81  id(i) = 1232081736560\n",
      "i =  82  id(i) = 1232081736592\n",
      "i =  83  id(i) = 1232081736624\n",
      "i =  84  id(i) = 1232081736656\n",
      "i =  85  id(i) = 1232081736688\n",
      "i =  86  id(i) = 1232081736720\n",
      "i =  87  id(i) = 1232081736752\n",
      "i =  88  id(i) = 1232081736784\n",
      "i =  89  id(i) = 1232081736816\n",
      "i =  90  id(i) = 1232081736848\n",
      "i =  91  id(i) = 1232081736880\n",
      "i =  92  id(i) = 1232081736912\n",
      "i =  93  id(i) = 1232081736944\n",
      "i =  94  id(i) = 1232081736976\n",
      "i =  95  id(i) = 1232081737008\n",
      "i =  96  id(i) = 1232081737040\n",
      "i =  97  id(i) = 1232081737072\n",
      "i =  98  id(i) = 1232081737104\n",
      "i =  99  id(i) = 1232081737136\n",
      "i = 100  id(i) = 1232081737168\n"
     ]
    }
   ],
   "source": [
    "# 1부터 100까지 반복하여 출력하기\n",
    "for i in range(1, 101):\n",
    "    print(f'i = {i:3}  id(i) = {id(i)}')"
   ]
  },
  {
   "cell_type": "code",
   "execution_count": null,
   "metadata": {},
   "outputs": [],
   "source": []
  }
 ],
 "metadata": {
  "kernelspec": {
   "display_name": "base",
   "language": "python",
   "name": "python3"
  },
  "language_info": {
   "codemirror_mode": {
    "name": "ipython",
    "version": 3
   },
   "file_extension": ".py",
   "mimetype": "text/x-python",
   "name": "python",
   "nbconvert_exporter": "python",
   "pygments_lexer": "ipython3",
   "version": "3.9.15"
  },
  "orig_nbformat": 4,
  "vscode": {
   "interpreter": {
    "hash": "ad2bdc8ecc057115af97d19610ffacc2b4e99fae6737bb82f5d7fb13d2f2c186"
   }
  }
 },
 "nbformat": 4,
 "nbformat_minor": 2
}
