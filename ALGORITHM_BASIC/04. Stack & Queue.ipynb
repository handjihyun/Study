{
 "cells": [
  {
   "attachments": {},
   "cell_type": "markdown",
   "metadata": {},
   "source": [
    "#### 04 스택과 큐\n",
    "##### 04-1 스택이란?\n",
    ":heavy_check_mark: 스택 알아보기\n",
    "\n",
    ":heavy_minus_sign: 스택 : 데이터를 임시 저장할 때 사용하는 자료구조, 후입선출(LIFO) 방식\n",
    "\n",
    ":heavy_minus_sign: 푸시(push) : 스택에 데이터를 넣는 작업\n",
    "\n",
    ":heavy_minus_sign: 팝(pop) : 스택에서 데이터를 꺼내는 작업\n",
    "\n",
    "<br>\n",
    "\n",
    ":heavy_check_mark: 스택 구현하기\n",
    "\n",
    ":heavy_minus_sign: 스택 배열 (stk) : 푸시한 데이터를 저장하는 스택 본체인 list형 배열\n",
    "\n",
    ":heavy_minus_sign: 스택 크기 (capacity) : 스택의 최대 크기를 나타내는 int형 정수\n",
    "\n",
    ":heavy_minus_sign: 스택 포인터 (ptr) : 스택에 쌓여 있는 데이터의 개수를 나타내는 정숫값\n",
    "\n",
    ":heavy_minus_sign: 예외 처리 클래스 (Empty) : pop()함수 또는 peek()함수를 호출할 때 스택이 비어 있는 경우\n",
    "\n",
    ":heavy_minus_sign: 예외 처리 클래스 (Full) : push() 함수를 호출할 때 스택이 가득 차 있는 경우\n",
    "\n",
    ":heavy_minus_sign: 초기화하는 _ _init_ _() 함수 : 스택 배열을 생성하는 등의 준비 작업 수행\n",
    "\n",
    ":heavy_minus_sign: 쌓여 있는 데이터 개수를 알아내는 _ _len_ _() 함수 : 스택에 쌓여 있는 데이터 개수 반환\n",
    "\n",
    ":heavy_minus_sign: is_empty() 함수 : 스택이 비어 있는지를 판단\n",
    "\n",
    ":heavy_minus_sign: is_full() 함수 : 스택이 가득 차 있는지를 판단"
   ]
  },
  {
   "attachments": {},
   "cell_type": "markdown",
   "metadata": {},
   "source": [
    "실습 4-1 [A]) 고정 길이 스택 클래스 FixedStack 구현하기"
   ]
  },
  {
   "cell_type": "code",
   "execution_count": 2,
   "metadata": {},
   "outputs": [],
   "source": [
    "from typing import Any\n",
    "\n",
    "class FixedStack:\n",
    "    ''' 고정 길이 스택 클래스 '''\n",
    "\n",
    "    class Empty(Exception):\n",
    "        ''' 비어 있는 FixedStack에 팝 또는 피크할 때 내보내는 예외 처리 '''\n",
    "        pass\n",
    "\n",
    "    class Full(Exception):\n",
    "        ''' 가득 찬 FixedStack에 팝 또는 피크할 때 내보내는 예외 처리'''\n",
    "        pass\n",
    "\n",
    "    def __init__(self, capacity:int = 256) -> None:\n",
    "        ''' 스택 초기화 '''\n",
    "        self.stk = [None] * capacity    # 스택 본체\n",
    "        self.capacity = capacity        # 스택의 크기\n",
    "        self.ptr = 0                    # 스택 포인터\n",
    "\n",
    "    def __len__(self) -> int:\n",
    "        ''' 스택에 쌓여 있는 데이터 개수를 반환 '''\n",
    "        return self.ptr\n",
    "    \n",
    "    def is_empty(self) -> bool:\n",
    "        ''' 스택이 비어 있는지 판단 '''\n",
    "        return self.ptr <= 0\n",
    "    \n",
    "    def is_full(self) -> bool:\n",
    "        ''' 스택이 가득 차 있는지 판단 '''\n",
    "        return self.ptr >= self.capacity"
   ]
  },
  {
   "attachments": {},
   "cell_type": "markdown",
   "metadata": {},
   "source": [
    ":heavy_minus_sign: 푸시(push) : 스택에 데이터를 넣는 작업\n",
    "\n",
    ":heavy_minus_sign: 팝(pop) : 스택에서 데이터를 꺼내는 작업\n",
    "\n",
    ":heavy_minus_sign: peek() 함수 : 스택의 꼭대기 데이터(다음에 pop하는 데이터)\n",
    "\n",
    ":heavy_minus_sign: clear() 함수 : 스택의 모든 데이터를 삭제\n",
    "\n",
    "실습 4-1 [B]"
   ]
  },
  {
   "cell_type": "code",
   "execution_count": 3,
   "metadata": {},
   "outputs": [],
   "source": [
    "def push(self, value: Any) -> None:\n",
    "    ''' 스택에 value를 푸시(데이터를 넣음) '''\n",
    "    if self.is_full():          # 스택이 가득 차 있는 경우\n",
    "        raise FixedStack.Full   # 예외 처리 발생\n",
    "    self.stk[self.ptr] = value\n",
    "    self.ptr += 1\n",
    "\n",
    "def pop(self) -> Any:\n",
    "    ''' 스택에서 데이터를 팝(꼭대기 데이터를 꺼냄) '''\n",
    "    if self.is_empty():\n",
    "        raise FixedStack.Empty\n",
    "    self.ptr -= 1\n",
    "    return self.stk[self.ptr]\n",
    "\n",
    "def peek(self) -> Any:\n",
    "    ''' 스택에서 데이터를 피크(꼭대기 데이터를 들여다봄) '''\n",
    "    if self.is_empty():\n",
    "        raise FixedStack.Empty\n",
    "    return self.stk[self.ptr - 1]\n",
    "\n",
    "def clear(self) -> None:\n",
    "    ''' 스택을 비움(모든 데이터 삭제) '''\n",
    "    self.ptr = 0"
   ]
  },
  {
   "attachments": {},
   "cell_type": "markdown",
   "metadata": {},
   "source": [
    ":heavy_check_mark: raise 에러\n",
    "\n",
    ":heavy_minus_sign: 프로그램이 의도하지 않게 돌아가는 것을 방지하기 위해 일부러 에러를 발생시킴\n",
    "1. raise\n",
    "2. raise + 예외처리 이름\n",
    "3. raise Exception('메시지')\n",
    "4. 파이썬 예외처리 try + raise + except"
   ]
  },
  {
   "attachments": {},
   "cell_type": "markdown",
   "metadata": {},
   "source": [
    ":heavy_minus_sign: find() 함수 : 데이터를 검색\n",
    "\n",
    ":heavy_minus_sign: count() 함수 : 데이터 개수를 셈\n",
    "\n",
    ":heavy_minus_sign: _ _contains_ _() 함수 : 데이터가 포함되어 있는지 판단\n",
    "\n",
    ":heavy_minus_sign: dump() 함수 : 스택의 모든 데이터를 출력\n",
    "\n",
    "실습 4-1 [C]"
   ]
  },
  {
   "cell_type": "code",
   "execution_count": 4,
   "metadata": {},
   "outputs": [],
   "source": [
    "def find(self, value: Any) -> Any:\n",
    "    ''' 스택에서 value를 찾아 인덱스를 반환(없으면 -1을 반환) '''\n",
    "    for i in range(self.ptr - 1, -1, -1):   # 꼭대기 쪽부터 선형 검색\n",
    "        if self.stk[i] == value:\n",
    "            return i        # 검색 성공\n",
    "        return -1           # 검색 실패\n",
    "    \n",
    "def count(self, value: Any) -> int:\n",
    "    ''' 스택에 있는 value의 개수를 반환 '''\n",
    "    c = 0\n",
    "    for i in range(self.ptr):\n",
    "        if self.stk[i] == value:\n",
    "            c += 1\n",
    "        return c\n",
    "    \n",
    "def __contains__(self, value: Any) -> bool:\n",
    "    ''' 스택에 value가 있는지 판단 '''\n",
    "    return self.count(value) > 0\n",
    "\n",
    "def dump(self) -> None:\n",
    "    ''' 덤프(스택 안의 모든 데이터를 바닥부터 꼭대기 순으로 출력) '''\n",
    "    if self.is_empty():     # 스택이 비어 있음\n",
    "        print('스택이 비어 있습니다.')\n",
    "    else:\n",
    "        print(self.stk[:self.ptr])"
   ]
  },
  {
   "attachments": {},
   "cell_type": "markdown",
   "metadata": {},
   "source": [
    ":heavy_check_mark: 스택 프로그램 만들기\n",
    "\n",
    "실습 4-2) 고정 길이 스택 클래스(FixedStack)를 사용하기"
   ]
  },
  {
   "cell_type": "code",
   "execution_count": 6,
   "metadata": {},
   "outputs": [],
   "source": [
    "from enum import Enum"
   ]
  },
  {
   "cell_type": "code",
   "execution_count": 8,
   "metadata": {},
   "outputs": [
    {
     "name": "stdout",
     "output_type": "stream",
     "text": [
      "현재 데이터 개수: 0 / 64\n",
      "(1)푸시   (2)팝   (3)피크   (4)검색   (5)덤프   (6)종료"
     ]
    },
    {
     "ename": "NameError",
     "evalue": "name 'menu' is not defined",
     "output_type": "error",
     "traceback": [
      "\u001b[1;31m---------------------------------------------------------------------------\u001b[0m",
      "\u001b[1;31mNameError\u001b[0m                                 Traceback (most recent call last)",
      "\u001b[1;32m~\\AppData\\Local\\Temp\\ipykernel_22256\\1625012261.py\u001b[0m in \u001b[0;36m<module>\u001b[1;34m\u001b[0m\n\u001b[0;32m     16\u001b[0m \u001b[1;32mwhile\u001b[0m \u001b[1;32mTrue\u001b[0m\u001b[1;33m:\u001b[0m\u001b[1;33m\u001b[0m\u001b[1;33m\u001b[0m\u001b[0m\n\u001b[0;32m     17\u001b[0m     \u001b[0mprint\u001b[0m\u001b[1;33m(\u001b[0m\u001b[1;34mf'현재 데이터 개수: {len(s)} / {s.capacity}'\u001b[0m\u001b[1;33m)\u001b[0m\u001b[1;33m\u001b[0m\u001b[1;33m\u001b[0m\u001b[0m\n\u001b[1;32m---> 18\u001b[1;33m     \u001b[0mmenu\u001b[0m \u001b[1;33m=\u001b[0m \u001b[0mselect_menu\u001b[0m\u001b[1;33m(\u001b[0m\u001b[1;33m)\u001b[0m    \u001b[1;31m# 메뉴 선택\u001b[0m\u001b[1;33m\u001b[0m\u001b[1;33m\u001b[0m\u001b[0m\n\u001b[0m\u001b[0;32m     19\u001b[0m \u001b[1;33m\u001b[0m\u001b[0m\n\u001b[0;32m     20\u001b[0m     \u001b[1;32mif\u001b[0m \u001b[0mmenu\u001b[0m \u001b[1;33m==\u001b[0m \u001b[0mMenu\u001b[0m\u001b[1;33m.\u001b[0m\u001b[0m푸시\u001b[0m\u001b[1;33m:\u001b[0m\u001b[1;33m\u001b[0m\u001b[1;33m\u001b[0m\u001b[0m\n",
      "\u001b[1;32m~\\AppData\\Local\\Temp\\ipykernel_22256\\1625012261.py\u001b[0m in \u001b[0;36mselect_menu\u001b[1;34m()\u001b[0m\n\u001b[0;32m     10\u001b[0m         \u001b[0mn\u001b[0m \u001b[1;33m=\u001b[0m \u001b[0mint\u001b[0m\u001b[1;33m(\u001b[0m\u001b[0minput\u001b[0m\u001b[1;33m(\u001b[0m\u001b[1;34m': '\u001b[0m\u001b[1;33m)\u001b[0m\u001b[1;33m)\u001b[0m\u001b[1;33m\u001b[0m\u001b[1;33m\u001b[0m\u001b[0m\n\u001b[0;32m     11\u001b[0m         \u001b[1;32mif\u001b[0m \u001b[1;36m1\u001b[0m \u001b[1;33m<=\u001b[0m \u001b[0mn\u001b[0m \u001b[1;33m<=\u001b[0m \u001b[0mlen\u001b[0m\u001b[1;33m(\u001b[0m\u001b[0mMenu\u001b[0m\u001b[1;33m)\u001b[0m\u001b[1;33m:\u001b[0m\u001b[1;33m\u001b[0m\u001b[1;33m\u001b[0m\u001b[0m\n\u001b[1;32m---> 12\u001b[1;33m             \u001b[1;32mreturn\u001b[0m \u001b[0mmenu\u001b[0m\u001b[1;33m(\u001b[0m\u001b[0mn\u001b[0m\u001b[1;33m)\u001b[0m\u001b[1;33m\u001b[0m\u001b[1;33m\u001b[0m\u001b[0m\n\u001b[0m\u001b[0;32m     13\u001b[0m \u001b[1;33m\u001b[0m\u001b[0m\n\u001b[0;32m     14\u001b[0m \u001b[0ms\u001b[0m \u001b[1;33m=\u001b[0m \u001b[0mFixedStack\u001b[0m\u001b[1;33m(\u001b[0m\u001b[1;36m64\u001b[0m\u001b[1;33m)\u001b[0m      \u001b[1;31m# 최대 64개를 푸시할 수 있는 스택\u001b[0m\u001b[1;33m\u001b[0m\u001b[1;33m\u001b[0m\u001b[0m\n",
      "\u001b[1;31mNameError\u001b[0m: name 'menu' is not defined"
     ]
    }
   ],
   "source": [
    "Menu = Enum('Menu', ['푸시', '팝', '피크', '검색', '덤프', '종료'])\n",
    "\n",
    "def select_menu() -> Menu:\n",
    "    ''' 메뉴 선택 '''\n",
    "    s = [f'({m.value}){m.name}' for m in Menu]\n",
    "    \n",
    "    while True:\n",
    "        print(*s, sep = '   ', end='')\n",
    "        \n",
    "        n = int(input(': '))\n",
    "        if 1 <= n <= len(Menu):\n",
    "            return menu(n)\n",
    "    \n",
    "s = FixedStack(64)      # 최대 64개를 푸시할 수 있는 스택\n",
    "\n",
    "while True:\n",
    "    print(f'현재 데이터 개수: {len(s)} / {s.capacity}')\n",
    "    menu = select_menu()    # 메뉴 선택\n",
    "    \n",
    "    if menu == Menu.푸시:\n",
    "        x = int(input('데이터를 입력하세요.: '))\n",
    "        try:\n",
    "            s.push(x)\n",
    "        except FixedStack.Full:\n",
    "            print('스택이 가득 차 있습니다.')\n",
    "    elif menu == Menu.팝:\n",
    "        try:\n",
    "            x = s.pop()\n",
    "            print(f'팝한 데이터는 {x}입니다.')\n",
    "        except FixedStack.Empty:\n",
    "            print('스택이 비어 있습니다.')\n",
    "    elif menu == Menu.피크:\n",
    "        try:\n",
    "            x = s.peek()\n",
    "            print(f'피크한 데이터는 {x}입니다.')\n",
    "        except FixedStack.Empty:\n",
    "            print('스택이 비어 있습니다.')\n",
    "    elif menu == Menu.검색:\n",
    "        x = int(input('검색할 값을 입력하세요.: '))\n",
    "        if x in s:\n",
    "            print(f'{s.count(x)}개 포함되고, 맨 앞의 위치는 {s.find(x)}입니다.')\n",
    "        else:\n",
    "            print('검색값을 찾을 수 없습니다.')\n",
    "    elif menu == Menu.덤프:\n",
    "        s.dump()\n",
    "    \n",
    "    else:\n",
    "        break"
   ]
  },
  {
   "attachments": {},
   "cell_type": "markdown",
   "metadata": {},
   "source": [
    "❗Enum 예제 ❗"
   ]
  },
  {
   "cell_type": "code",
   "execution_count": null,
   "metadata": {},
   "outputs": [],
   "source": [
    "# enum 타입\n",
    "from enum import Enum"
   ]
  },
  {
   "cell_type": "code",
   "execution_count": null,
   "metadata": {},
   "outputs": [],
   "source": [
    "# Enum('season', {'spring', 'summer', 'fall', 'winter'})\n",
    "#                   1         2        3        4\n",
    "\n",
    "class Season(Enum):\n",
    "    spring = 1\n",
    "    summer = 2\n",
    "    fall = 3\n",
    "    winter = 4"
   ]
  }
 ],
 "metadata": {
  "kernelspec": {
   "display_name": "base",
   "language": "python",
   "name": "python3"
  },
  "language_info": {
   "codemirror_mode": {
    "name": "ipython",
    "version": 3
   },
   "file_extension": ".py",
   "mimetype": "text/x-python",
   "name": "python",
   "nbconvert_exporter": "python",
   "pygments_lexer": "ipython3",
   "version": "3.9.15"
  },
  "orig_nbformat": 4
 },
 "nbformat": 4,
 "nbformat_minor": 2
}
