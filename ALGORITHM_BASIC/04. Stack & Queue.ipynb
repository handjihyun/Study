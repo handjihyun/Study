{
 "cells": [
  {
   "attachments": {},
   "cell_type": "markdown",
   "metadata": {},
   "source": [
    "#### 04 스택과 큐\n",
    "##### 04-1 스택이란?\n",
    ":heavy_check_mark: 스택 알아보기\n",
    "\n",
    ":heavy_minus_sign: 스택 : 데이터를 임시 저장할 때 사용하는 자료구조, 후입선출(LIFO) 방식\n",
    "\n",
    ":heavy_minus_sign: 푸시(push) : 스택에 데이터를 넣는 작업\n",
    "\n",
    ":heavy_minus_sign: 팝(pop) : 스택에서 데이터를 꺼내는 작업\n",
    "\n",
    "<br>\n",
    "\n",
    ":heavy_check_mark: 스택 구현하기\n",
    "\n",
    ":heavy_minus_sign: 스택 배열 (stk) : 푸시한 데이터를 저장하는 스택 본체인 list형 배열\n",
    "\n",
    ":heavy_minus_sign: 스택 크기 (capacity) : 스택의 최대 크기를 나타내는 int형 정수\n",
    "\n",
    ":heavy_minus_sign: 스택 포인터 (ptr) : 스택에 쌓여 있는 데이터의 개수를 나타내는 정숫값\n",
    "\n",
    ":heavy_minus_sign: 예외 처리 클래스 (Empty) : pop()함수 또는 peek()함수를 호출할 때 스택이 비어 있는 경우\n",
    "\n",
    ":heavy_minus_sign: 예외 처리 클래스 (Full) : push() 함수를 호출할 때 스택이 가득 차 있는 경우\n",
    "\n",
    ":heavy_minus_sign: 초기화하는 _ _init_ _() 함수 : 스택 배열을 생성하는 등의 준비 작업 수행\n",
    "\n",
    ":heavy_minus_sign: 쌓여 있는 데이터 개수를 알아내는 _ _len_ _() 함수 : 스택에 쌓여 있는 데이터 개수 반환\n",
    "\n",
    ":heavy_minus_sign: is_empty() 함수 : 스택이 비어 있는지를 판단\n",
    "\n",
    ":heavy_minus_sign: is_full() 함수 : 스택이 가득 차 있는지를 판단"
   ]
  },
  {
   "attachments": {},
   "cell_type": "markdown",
   "metadata": {},
   "source": [
    "실습 4-1 [A]) 고정 길이 스택 클래스 FixedStack 구현하기"
   ]
  },
  {
   "cell_type": "code",
   "execution_count": 1,
   "metadata": {},
   "outputs": [],
   "source": [
    "from typing import Any\n",
    "\n",
    "class FixedStack:\n",
    "    ''' 고정 길이 스택 클래스 '''\n",
    "\n",
    "    class Empty(Exception):\n",
    "        ''' 비어 있는 FixedStack에 팝 또는 피크할 때 내보내는 예외 처리 '''\n",
    "        pass\n",
    "\n",
    "    class Full(Exception):\n",
    "        ''' 가득 찬 FixedStack에 팝 또는 피크할 때 내보내는 예외 처리'''\n",
    "        pass\n",
    "\n",
    "    def __init__(self, capacity:int = 256) -> None:\n",
    "        ''' 스택 초기화 '''\n",
    "        self.stk = [None] * capacity    # 스택 본체\n",
    "        self.capacity = capacity        # 스택의 크기\n",
    "        self.ptr = 0                    # 스택 포인터\n",
    "\n",
    "    def __len__(self) -> int:\n",
    "        ''' 스택에 쌓여 있는 데이터 개수를 반환 '''\n",
    "        return self.ptr\n",
    "    \n",
    "    def is_empty(self) -> bool:\n",
    "        ''' 스택이 비어 있는지 판단 '''\n",
    "        return self.ptr <= 0\n",
    "    \n",
    "    def is_full(self) -> bool:\n",
    "        ''' 스택이 가득 차 있는지 판단 '''\n",
    "        return self.ptr >= self.capacity"
   ]
  },
  {
   "attachments": {},
   "cell_type": "markdown",
   "metadata": {},
   "source": [
    ":heavy_minus_sign: 푸시(push) : 스택에 데이터를 넣는 작업\n",
    "\n",
    ":heavy_minus_sign: 팝(pop) : 스택에서 데이터를 꺼내는 작업\n",
    "\n",
    ":heavy_minus_sign: peek() 함수 : 스택의 꼭대기 데이터(다음에 pop하는 데이터)\n",
    "\n",
    ":heavy_minus_sign: clear() 함수 : 스택의 모든 데이터를 삭제\n",
    "\n",
    "실습 4-1 [B]"
   ]
  },
  {
   "cell_type": "code",
   "execution_count": 3,
   "metadata": {},
   "outputs": [],
   "source": [
    "def push(self, value: Any) -> None:\n",
    "    ''' 스택에 value를 푸시(데이터를 넣음) '''\n",
    "    if self.is_full():          # 스택이 가득 차 있는 경우\n",
    "        raise FixedStack.Full   # 예외 처리 발생\n",
    "    self.stk[self.ptr] = value\n",
    "    self.ptr += 1\n",
    "\n",
    "def pop(self) -> Any:\n",
    "    ''' 스택에서 데이터를 팝(꼭대기 데이터를 꺼냄) '''\n",
    "    if self.is_empty():\n",
    "        raise FixedStack.Empty\n",
    "    self.ptr -= 1\n",
    "    return self.stk[self.ptr]\n",
    "\n",
    "def peek(self) -> Any:\n",
    "    ''' 스택에서 데이터를 피크(꼭대기 데이터를 들여다봄) '''\n",
    "    if self.is_empty():\n",
    "        raise FixedStack.Empty\n",
    "    return self.stk[self.ptr - 1]\n",
    "\n",
    "def clear(self) -> None:\n",
    "    ''' 스택을 비움(모든 데이터 삭제) '''\n",
    "    self.ptr = 0"
   ]
  },
  {
   "attachments": {},
   "cell_type": "markdown",
   "metadata": {},
   "source": [
    ":heavy_check_mark: raise 에러\n",
    "\n",
    ":heavy_minus_sign: 프로그램이 의도하지 않게 돌아가는 것을 방지하기 위해 일부러 에러를 발생시킴\n",
    "1. raise\n",
    "2. raise + 예외처리 이름\n",
    "3. raise Exception('메시지')\n",
    "4. 파이썬 예외처리 try + raise + except"
   ]
  },
  {
   "cell_type": "markdown",
   "metadata": {},
   "source": []
  }
 ],
 "metadata": {
  "kernelspec": {
   "display_name": "base",
   "language": "python",
   "name": "python3"
  },
  "language_info": {
   "codemirror_mode": {
    "name": "ipython",
    "version": 3
   },
   "file_extension": ".py",
   "mimetype": "text/x-python",
   "name": "python",
   "nbconvert_exporter": "python",
   "pygments_lexer": "ipython3",
   "version": "3.9.15"
  },
  "orig_nbformat": 4
 },
 "nbformat": 4,
 "nbformat_minor": 2
}
