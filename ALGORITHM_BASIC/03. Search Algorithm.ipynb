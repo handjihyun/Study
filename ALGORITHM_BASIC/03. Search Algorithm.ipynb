{
 "cells": [
  {
   "attachments": {},
   "cell_type": "markdown",
   "metadata": {},
   "source": [
    "#### 03. 검색 알고리즘\n",
    "03-1 검색 알고리즘이란?"
   ]
  },
  {
   "attachments": {},
   "cell_type": "markdown",
   "metadata": {},
   "source": [
    "##### 검색과 키\n",
    "- 키(Key) : 주목하고 있는 항목, 데이터의 일부\n",
    "\n",
    "##### 검색의 종류\n",
    "- 배열 검색\n",
    "- 연결 리스트 검색\n",
    "- 이진 검색 트리 검색"
   ]
  },
  {
   "attachments": {},
   "cell_type": "markdown",
   "metadata": {},
   "source": [
    "03-2 선형 검색\n",
    "\n",
    "선형 검색\n",
    "\n",
    "- 직선 모양(선형)으로 늘어선 배열에서 검색하는 경우에 원하는 키값을 가진 원소를 찾을 때까지 맨 앞부터 스캔하여 순서대로 검색"
   ]
  },
  {
   "attachments": {},
   "cell_type": "markdown",
   "metadata": {},
   "source": [
    "실습 3-1) while 문으로 작성한 선형 검색 알고리즘"
   ]
  },
  {
   "cell_type": "code",
   "execution_count": 4,
   "metadata": {},
   "outputs": [
    {
     "name": "stdout",
     "output_type": "stream",
     "text": [
      "검색값은 x[3]에 있습니다.\n"
     ]
    }
   ],
   "source": [
    "from typing import Any, Sequence\n",
    "\n",
    "def seq_search(a:Sequence, key:Any) -> int:\n",
    "    i = 0\n",
    "\n",
    "    while True:\n",
    "        if i == len(a):\n",
    "            return -1\n",
    "        if a[i] == key:\n",
    "            return i\n",
    "        i += 1\n",
    "\n",
    "if __name__ == '__main__':\n",
    "    num = int(input('원소 수를 입력하세요.: '))     # num값을 입력받음\n",
    "    x = [None] * num                               # 원소 수가 num인 배열을 생성\n",
    "\n",
    "    for i in range(num):\n",
    "        x[i] = int(input(f'x[{i}]: '))            # 리스트 만들기\n",
    "\n",
    "    ky = int(input('검색할 값을 입력하세요.: '))    # 검색할 키를 입력받음\n",
    "\n",
    "    idx = seq_search(x, ky)\n",
    "\n",
    "    if idx == -1:\n",
    "        print('검색값을 갖는 원소가 존재하지 않습니다.')\n",
    "    else:\n",
    "        print(f'검색값은 x[{idx}]에 있습니다.')"
   ]
  },
  {
   "attachments": {},
   "cell_type": "markdown",
   "metadata": {},
   "source": [
    "실습 3-2) for 문으로 작성한 선형 검색 알고리즘"
   ]
  },
  {
   "cell_type": "code",
   "execution_count": 5,
   "metadata": {},
   "outputs": [
    {
     "name": "stdout",
     "output_type": "stream",
     "text": [
      "검색값은 x[3]에 있습니다.\n"
     ]
    }
   ],
   "source": [
    "from typing import Any, Sequence\n",
    "\n",
    "def seq_search(a:Sequence, key: Any) -> int:\n",
    "    for i in range(len(a)):\n",
    "        if a[i] == key:\n",
    "            return i\n",
    "    return -1\n",
    "\n",
    "if __name__ == '__main__':\n",
    "    num = int(input('원소 수를 입력하세요.: '))     # num값을 입력받음\n",
    "    x = [None] * num                               # 원소 수가 num인 배열을 생성\n",
    "\n",
    "    for i in range(num):\n",
    "        x[i] = int(input(f'x[{i}]: '))            # 리스트 만들기\n",
    "\n",
    "    ky = int(input('검색할 값을 입력하세요.: '))    # 검색할 키를 입력받음\n",
    "\n",
    "    idx = seq_search(x, ky)\n",
    "\n",
    "    if idx == -1:\n",
    "        print('검색값을 갖는 원소가 존재하지 않습니다.')\n",
    "    else:\n",
    "        print(f'검색값은 x[{idx}]에 있습니다.')"
   ]
  },
  {
   "attachments": {},
   "cell_type": "markdown",
   "metadata": {},
   "source": [
    "실습 3C-1) seq_search() 함수를 사용하여 실수 검색하기"
   ]
  },
  {
   "cell_type": "code",
   "execution_count": 2,
   "metadata": {},
   "outputs": [
    {
     "name": "stdout",
     "output_type": "stream",
     "text": [
      "실수를 검색합니다.\n",
      "주의: \"End\"를 입력하면 종료합니다.\n",
      "검색값은 x[2]에 있습니다.\n"
     ]
    }
   ],
   "source": [
    "from ssearch_while import seq_search\n",
    "\n",
    "print('실수를 검색합니다.')\n",
    "print('주의: \"End\"를 입력하면 종료합니다.')\n",
    "\n",
    "number = 0\n",
    "x = []\n",
    "\n",
    "while True:\n",
    "    s = input(f'x[{number}]: ')\n",
    "    if s == 'End':\n",
    "        break\n",
    "    x.append(float(s))\n",
    "    number += 1\n",
    "\n",
    "ky = float(input('검색할 값을 입력하세요.: '))\n",
    "\n",
    "idx = seq_search(x, ky)\n",
    "if idx == -1:\n",
    "    print('검색값을 갖는 원소가 존재하지 않습니다.')\n",
    "else:\n",
    "    print(f'검색값은 x[{idx}]에 있습니다.')"
   ]
  },
  {
   "attachments": {},
   "cell_type": "markdown",
   "metadata": {},
   "source": [
    "실습 3C-2) seq_search() 함수를 사용하여 특정 인덱스 검색하기"
   ]
  },
  {
   "cell_type": "code",
   "execution_count": 3,
   "metadata": {},
   "outputs": [
    {
     "name": "stdout",
     "output_type": "stream",
     "text": [
      "(4, 7, 5.6, 2, 3.14, 1)에서 5.6의 인덱스는 2입니다.\n",
      "string에서 5.6의 인덱스는 4입니다.\n",
      "['DTS', 'AAC', 'FLAC']에서 5.6의 인덱스는 0입니다.\n"
     ]
    }
   ],
   "source": [
    "from ssearch_while import seq_search\n",
    "\n",
    "t = (4, 7, 5.6, 2, 3.14, 1)\n",
    "s = 'string'\n",
    "a = ['DTS', 'AAC', 'FLAC']\n",
    "\n",
    "print(f'{t}에서 5.6의 인덱스는 {seq_search(t, 5.6)}입니다.')\n",
    "print(f'{s}에서 5.6의 인덱스는 {seq_search(s, \"n\")}입니다.')\n",
    "print(f'{a}에서 5.6의 인덱스는 {seq_search(a, \"DTS\")}입니다.')"
   ]
  },
  {
   "attachments": {},
   "cell_type": "markdown",
   "metadata": {},
   "source": [
    "보초법\n",
    "- 검색하고자 하는 키값을 배열의 맨 끝에 저장\n",
    "- 선형 검색의 종료 조건(검색할 값을 찾지 못하고 배열의 맨 끝을 지나갔습니까?)은 판단할 필요가 없음"
   ]
  },
  {
   "attachments": {},
   "cell_type": "markdown",
   "metadata": {},
   "source": [
    "실습 3-3) 선형 검색 알고리즘(실습 3-1)을 보초법으로 수정"
   ]
  },
  {
   "cell_type": "code",
   "execution_count": 4,
   "metadata": {},
   "outputs": [
    {
     "name": "stdout",
     "output_type": "stream",
     "text": [
      "검색값은 x[3]에 있습니다.\n"
     ]
    }
   ],
   "source": [
    "from typing import Any, Sequence\n",
    "import copy\n",
    "\n",
    "def seq_search(seq: Sequence, key:Any) -> int:\n",
    "    a = copy.deepcopy(seq)  # seq를 복사\n",
    "    a.append(key)           # 보초 key를 추가\n",
    "\n",
    "    i = 0\n",
    "    while True:\n",
    "        if a[i] == key:\n",
    "            break           # 검색에 성공하면 while 문을 종료\n",
    "        i += 1\n",
    "    return -1 if i == len(seq) else i\n",
    "\n",
    "if __name__ == '__main__':\n",
    "    num = int(input('원소 수를 입력하세요.: '))\n",
    "    x = [None] * num\n",
    "\n",
    "    for i in range(num):\n",
    "        x[i] = int(input(f'x[{i}]: '))\n",
    "\n",
    "    ky = int(input('검색할 값을 입력하세요.: '))\n",
    "\n",
    "    idx = seq_search(x, ky)\n",
    "\n",
    "    if idx == -1:\n",
    "        print('검색값을 갖는 원소가 존재하지 않습니다.')\n",
    "    else:\n",
    "        print(f'검색값은 x[{idx}]에 있습니다.')"
   ]
  },
  {
   "attachments": {},
   "cell_type": "markdown",
   "metadata": {},
   "source": [
    "03-3 이진 검색\n",
    "- 배열의 데이터가 정렬되어 있어야 함\n",
    "- 선형 검색보다 빠르게 검색 가능\n",
    "- 검색 범위를 절반으로 좁힘"
   ]
  },
  {
   "attachments": {},
   "cell_type": "markdown",
   "metadata": {},
   "source": [
    "실습 3-4) 이진 검색 알고리즘"
   ]
  },
  {
   "cell_type": "code",
   "execution_count": 6,
   "metadata": {},
   "outputs": [
    {
     "name": "stdout",
     "output_type": "stream",
     "text": [
      "배열 데이터를 오름차순으로 입력하세요.\n",
      "검색값은 x[3]에 있습니다.\n"
     ]
    }
   ],
   "source": [
    "from typing import Any, Sequence\n",
    "\n",
    "def bin_search(a:Sequence, key:Any) -> int:\n",
    "    pl = 0              # 검색 범위 맨 앞 원소의 인덱스\n",
    "    pr = len(a) - 1     # 검색 범위 맨 끝 원소의 인덱스\n",
    "\n",
    "    while True:\n",
    "        pc = (pl + pr) // 2     # 중앙 원소의 인덱스\n",
    "        if a[pc] == key:\n",
    "            return pc           # 검색 성공\n",
    "        elif a[pc] < key:\n",
    "            pl = pc + 1         # 검색 범위를 뒤쪽 절반으로 좁힘\n",
    "        else:\n",
    "            pr = pc - 1         # 검색 범위를 앞쪽 절반으로 좁힘\n",
    "        if pl > pr:\n",
    "            break\n",
    "    return -1\n",
    "\n",
    "if __name__ == '__main__':\n",
    "    num = int(input('원소 수를 입력하세요.: '))\n",
    "    x = [None] * num\n",
    "\n",
    "    print('배열 데이터를 오름차순으로 입력하세요.')\n",
    "\n",
    "    x[0] = int(input('x[0]: '))\n",
    "\n",
    "    for i in range(1, num):\n",
    "        while True:\n",
    "            x[i] = int(input(f'x[{i}]: '))\n",
    "            if x[i] >= x[i-1]:\n",
    "                break\n",
    "\n",
    "    ky = int(input('검색할 값을 입력하세요.: '))\n",
    "\n",
    "    idx = bin_search(x, ky)\n",
    "    \n",
    "    if idx == -1:\n",
    "        print('검색값을 갖는 원소가 존재하지 않습니다.')\n",
    "    else:\n",
    "        print(f'검색값은 x[{idx}]에 있습니다.')"
   ]
  },
  {
   "attachments": {},
   "cell_type": "markdown",
   "metadata": {},
   "source": [
    "복잡도\n",
    "- 알고리즘의 성능을 객관적으로 평가하는 기준\n",
    "    - 시간 복잡도 : 실행하는 데 필요한 시간을 평가합니다.\n",
    "    - 공간 복잡도 : 메모리(기억 공간)와 파일 공간이 얼마나 필요한지를 평가합니다."
   ]
  },
  {
   "attachments": {},
   "cell_type": "markdown",
   "metadata": {},
   "source": [
    "실습 3C-3) 이진 검색 알고리즘의 실행 과정을 출력"
   ]
  },
  {
   "cell_type": "code",
   "execution_count": 9,
   "metadata": {},
   "outputs": [
    {
     "name": "stdout",
     "output_type": "stream",
     "text": [
      "배열 데이터를 오름차순으로 입력하세요.\n",
      "  |   0   1   2   3   4   5   6   7   8   9  10\n",
      "---+----------------------------------------------\n",
      "  | <-                    +                  ->\n",
      "  5|   1   2   3   4   5   6   7   8   9  10  11\n",
      "  |\n",
      "  |                         <-        +      ->\n",
      "  8|   1   2   3   4   5   6   7   8   9  10  11\n",
      "  |\n",
      "  |                         <+  ->\n",
      "  6|   1   2   3   4   5   6   7   8   9  10  11\n",
      "  |\n",
      "  |                             <+->\n",
      "  7|   1   2   3   4   5   6   7   8   9  10  11\n",
      "  |\n",
      "검색값은 x[7]에 있습니다.\n"
     ]
    }
   ],
   "source": [
    "from typing import Any, Sequence\n",
    "\n",
    "def bin_search(a:Sequence, key:Any) -> int:\n",
    "    pl = 0\n",
    "    pr = len(a) - 1\n",
    "\n",
    "    print('  |', end='')\n",
    "    for i in range(len(a)):\n",
    "        print(f'{i : 4}', end='')\n",
    "    print()\n",
    "    print('---+' + (4 * len(a) + 2) * '-')\n",
    "\n",
    "    while True:\n",
    "        pc = (pl + pr) // 2\n",
    "\n",
    "        print('  |', end='')\n",
    "        if pl != pc:\n",
    "            print((pl * 4 + 1) * ' ' + '<-' + ((pc - pl) * 4) * ' ' + '+', end='')\n",
    "        else:\n",
    "            print((pc * 4 + 1) * ' ' + '<+', end='')\n",
    "        if pc != pr:\n",
    "            print(((pr - pc) * 4 -2) * ' ' + '->')\n",
    "        else:\n",
    "            print('->')\n",
    "        print(f'{pc:3}|', end='')\n",
    "        for i in range(len(a)):\n",
    "            print(f'{a[i]:4}', end='')\n",
    "        print('\\n  |')\n",
    "\n",
    "        if a[pc] == key:\n",
    "            return pc           # 검색 성공\n",
    "        elif a[pc] < key:\n",
    "            pl = pc + 1         # 검색 범위를 뒤쪽 절반으로 좁힘\n",
    "        else:\n",
    "            pr = pc - 1         # 검색 범위를 앞쪽 절반으로 좁힘\n",
    "        if pl > pr:\n",
    "            break\n",
    "    return -1\n",
    "\n",
    "if __name__ == '__main__':\n",
    "    num = int(input('원소 수를 입력하세요.: '))\n",
    "    x = [None] * num\n",
    "\n",
    "    print('배열 데이터를 오름차순으로 입력하세요.')\n",
    "\n",
    "    x[0] = int(input('x[0]: '))\n",
    "\n",
    "    for i in range(1, num):\n",
    "        while True:\n",
    "            x[i] = int(input(f'x[{i}]: '))\n",
    "            if x[i] >= x[i-1]:\n",
    "                break\n",
    "\n",
    "    ky = int(input('검색할 값을 입력하세요.: '))\n",
    "\n",
    "    idx = bin_search(x, ky)\n",
    "    \n",
    "    if idx == -1:\n",
    "        print('검색값을 갖는 원소가 존재하지 않습니다.')\n",
    "    else:\n",
    "        print(f'검색값은 x[{idx}]에 있습니다.')"
   ]
  },
  {
   "cell_type": "code",
   "execution_count": null,
   "metadata": {},
   "outputs": [],
   "source": []
  }
 ],
 "metadata": {
  "kernelspec": {
   "display_name": "base",
   "language": "python",
   "name": "python3"
  },
  "language_info": {
   "codemirror_mode": {
    "name": "ipython",
    "version": 3
   },
   "file_extension": ".py",
   "mimetype": "text/x-python",
   "name": "python",
   "nbconvert_exporter": "python",
   "pygments_lexer": "ipython3",
   "version": "3.9.15"
  },
  "orig_nbformat": 4,
  "vscode": {
   "interpreter": {
    "hash": "ad2bdc8ecc057115af97d19610ffacc2b4e99fae6737bb82f5d7fb13d2f2c186"
   }
  }
 },
 "nbformat": 4,
 "nbformat_minor": 2
}
