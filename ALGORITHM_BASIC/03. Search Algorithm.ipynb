{
 "cells": [
  {
   "attachments": {},
   "cell_type": "markdown",
   "metadata": {},
   "source": [
    "#### 03. 검색 알고리즘\n",
    "03-1 검색 알고리즘이란?"
   ]
  },
  {
   "attachments": {},
   "cell_type": "markdown",
   "metadata": {},
   "source": [
    "##### 검색과 키\n",
    "- 키(Key) : 주목하고 있는 항목, 데이터의 일부\n",
    "\n",
    "##### 검색의 종류\n",
    "- 배열 검색\n",
    "- 연결 리스트 검색\n",
    "- 이진 검색 트리 검색"
   ]
  },
  {
   "attachments": {},
   "cell_type": "markdown",
   "metadata": {},
   "source": [
    "03-2 선형 검색\n",
    "\n",
    "선형 검색\n",
    "\n",
    "- 직선 모양(선형)으로 늘어선 배열에서 검색하는 경우에 원하는 키값을 가진 원소를 찾을 때까지 맨 앞부터 스캔하여 순서대로 검색"
   ]
  },
  {
   "attachments": {},
   "cell_type": "markdown",
   "metadata": {},
   "source": [
    "실습 3-1) while 문으로 작성한 선형 검색 알고리즘"
   ]
  },
  {
   "cell_type": "code",
   "execution_count": 5,
   "metadata": {},
   "outputs": [
    {
     "name": "stdout",
     "output_type": "stream",
     "text": [
      "검색값은 x[3]에 있습니다.\n"
     ]
    }
   ],
   "source": [
    "from typing import Any, Sequence\n",
    "\n",
    "def seq_search(a:Sequence, key:Any) -> int:\n",
    "    i = 0\n",
    "\n",
    "    while True:\n",
    "        if i == len(a):\n",
    "            return -1\n",
    "        if a[i] == key:\n",
    "            return i\n",
    "        i += 1\n",
    "\n",
    "if __name__ == '__main__':\n",
    "    num = int(input('원소 수를 입력하세요.: '))     # num값을 입력받음\n",
    "    x = [None] * num                               # 원소 수가 num인 배열을 생성\n",
    "\n",
    "    for i in range(num):\n",
    "        x[i] = int(input(f'x[{i}]: '))            # 리스트 만들기\n",
    "\n",
    "    ky = int(input('검색할 값을 입력하세요.: '))    # 검색할 키를 입력받음\n",
    "\n",
    "    idx = seq_search(x, ky)\n",
    "\n",
    "    if idx == -1:\n",
    "        print('검색값을 갖는 원소가 존재하지 않습니다.')\n",
    "    else:\n",
    "        print(f'검색값은 x[{idx}]에 있습니다.')"
   ]
  },
  {
   "attachments": {},
   "cell_type": "markdown",
   "metadata": {},
   "source": [
    "실습 3-2) for 문으로 작성한 선형 검색 알고리즘"
   ]
  },
  {
   "cell_type": "code",
   "execution_count": 5,
   "metadata": {},
   "outputs": [
    {
     "name": "stdout",
     "output_type": "stream",
     "text": [
      "검색값은 x[3]에 있습니다.\n"
     ]
    }
   ],
   "source": [
    "from typing import Any, Sequence\n",
    "\n",
    "def seq_search(a:Sequence, key: Any) -> int:\n",
    "    for i in range(len(a)):\n",
    "        if a[i] == key:\n",
    "            return i\n",
    "    return -1\n",
    "\n",
    "if __name__ == '__main__':\n",
    "    num = int(input('원소 수를 입력하세요.: '))     # num값을 입력받음\n",
    "    x = [None] * num                               # 원소 수가 num인 배열을 생성\n",
    "\n",
    "    for i in range(num):\n",
    "        x[i] = int(input(f'x[{i}]: '))            # 리스트 만들기\n",
    "\n",
    "    ky = int(input('검색할 값을 입력하세요.: '))    # 검색할 키를 입력받음\n",
    "\n",
    "    idx = seq_search(x, ky)\n",
    "\n",
    "    if idx == -1:\n",
    "        print('검색값을 갖는 원소가 존재하지 않습니다.')\n",
    "    else:\n",
    "        print(f'검색값은 x[{idx}]에 있습니다.')"
   ]
  },
  {
   "attachments": {},
   "cell_type": "markdown",
   "metadata": {},
   "source": [
    "실습 3C-1) seq_search() 함수를 사용하여 실수 검색하기"
   ]
  },
  {
   "cell_type": "code",
   "execution_count": 2,
   "metadata": {},
   "outputs": [
    {
     "name": "stdout",
     "output_type": "stream",
     "text": [
      "실수를 검색합니다.\n",
      "주의: \"End\"를 입력하면 종료합니다.\n",
      "검색값은 x[2]에 있습니다.\n"
     ]
    }
   ],
   "source": [
    "from ssearch_while import seq_search\n",
    "\n",
    "print('실수를 검색합니다.')\n",
    "print('주의: \"End\"를 입력하면 종료합니다.')\n",
    "\n",
    "number = 0\n",
    "x = []\n",
    "\n",
    "while True:\n",
    "    s = input(f'x[{number}]: ')\n",
    "    if s == 'End':\n",
    "        break\n",
    "    x.append(float(s))\n",
    "    number += 1\n",
    "\n",
    "ky = float(input('검색할 값을 입력하세요.: '))\n",
    "\n",
    "idx = seq_search(x, ky)\n",
    "if idx == -1:\n",
    "    print('검색값을 갖는 원소가 존재하지 않습니다.')\n",
    "else:\n",
    "    print(f'검색값은 x[{idx}]에 있습니다.')"
   ]
  },
  {
   "attachments": {},
   "cell_type": "markdown",
   "metadata": {},
   "source": [
    "실습 3C-2) seq_search() 함수를 사용하여 특정 인덱스 검색하기"
   ]
  },
  {
   "cell_type": "code",
   "execution_count": 3,
   "metadata": {},
   "outputs": [
    {
     "name": "stdout",
     "output_type": "stream",
     "text": [
      "(4, 7, 5.6, 2, 3.14, 1)에서 5.6의 인덱스는 2입니다.\n",
      "string에서 5.6의 인덱스는 4입니다.\n",
      "['DTS', 'AAC', 'FLAC']에서 5.6의 인덱스는 0입니다.\n"
     ]
    }
   ],
   "source": [
    "from ssearch_while import seq_search\n",
    "\n",
    "t = (4, 7, 5.6, 2, 3.14, 1)\n",
    "s = 'string'\n",
    "a = ['DTS', 'AAC', 'FLAC']\n",
    "\n",
    "print(f'{t}에서 5.6의 인덱스는 {seq_search(t, 5.6)}입니다.')\n",
    "print(f'{s}에서 5.6의 인덱스는 {seq_search(s, \"n\")}입니다.')\n",
    "print(f'{a}에서 5.6의 인덱스는 {seq_search(a, \"DTS\")}입니다.')"
   ]
  },
  {
   "attachments": {},
   "cell_type": "markdown",
   "metadata": {},
   "source": [
    "보초법\n",
    "- 검색하고자 하는 키값을 배열의 맨 끝에 저장\n",
    "- 선형 검색의 종료 조건(검색할 값을 찾지 못하고 배열의 맨 끝을 지나갔습니까?)은 판단할 필요가 없음"
   ]
  },
  {
   "attachments": {},
   "cell_type": "markdown",
   "metadata": {},
   "source": [
    "실습 3-3) 선형 검색 알고리즘(실습 3-1)을 보초법으로 수정"
   ]
  },
  {
   "cell_type": "code",
   "execution_count": 4,
   "metadata": {},
   "outputs": [
    {
     "name": "stdout",
     "output_type": "stream",
     "text": [
      "검색값은 x[3]에 있습니다.\n"
     ]
    }
   ],
   "source": [
    "from typing import Any, Sequence\n",
    "import copy\n",
    "\n",
    "def seq_search(seq: Sequence, key:Any) -> int:\n",
    "    a = copy.deepcopy(seq)  # seq를 복사\n",
    "    a.append(key)           # 보초 key를 추가\n",
    "\n",
    "    i = 0\n",
    "    while True:\n",
    "        if a[i] == key:\n",
    "            break           # 검색에 성공하면 while 문을 종료\n",
    "        i += 1\n",
    "    return -1 if i == len(seq) else i\n",
    "\n",
    "if __name__ == '__main__':\n",
    "    num = int(input('원소 수를 입력하세요.: '))\n",
    "    x = [None] * num\n",
    "\n",
    "    for i in range(num):\n",
    "        x[i] = int(input(f'x[{i}]: '))\n",
    "\n",
    "    ky = int(input('검색할 값을 입력하세요.: '))\n",
    "\n",
    "    idx = seq_search(x, ky)\n",
    "\n",
    "    if idx == -1:\n",
    "        print('검색값을 갖는 원소가 존재하지 않습니다.')\n",
    "    else:\n",
    "        print(f'검색값은 x[{idx}]에 있습니다.')"
   ]
  },
  {
   "attachments": {},
   "cell_type": "markdown",
   "metadata": {},
   "source": [
    "03-3 이진 검색\n",
    "- 배열의 데이터가 정렬되어 있어야 함\n",
    "- 선형 검색보다 빠르게 검색 가능\n",
    "- 검색 범위를 절반으로 좁힘"
   ]
  },
  {
   "attachments": {},
   "cell_type": "markdown",
   "metadata": {},
   "source": [
    "실습 3-4) 이진 검색 알고리즘"
   ]
  },
  {
   "cell_type": "code",
   "execution_count": 6,
   "metadata": {},
   "outputs": [
    {
     "name": "stdout",
     "output_type": "stream",
     "text": [
      "배열 데이터를 오름차순으로 입력하세요.\n",
      "검색값은 x[3]에 있습니다.\n"
     ]
    }
   ],
   "source": [
    "from typing import Any, Sequence\n",
    "\n",
    "def bin_search(a:Sequence, key:Any) -> int:\n",
    "    pl = 0              # 검색 범위 맨 앞 원소의 인덱스\n",
    "    pr = len(a) - 1     # 검색 범위 맨 끝 원소의 인덱스\n",
    "\n",
    "    while True:\n",
    "        pc = (pl + pr) // 2     # 중앙 원소의 인덱스\n",
    "        if a[pc] == key:\n",
    "            return pc           # 검색 성공\n",
    "        elif a[pc] < key:\n",
    "            pl = pc + 1         # 검색 범위를 뒤쪽 절반으로 좁힘\n",
    "        else:\n",
    "            pr = pc - 1         # 검색 범위를 앞쪽 절반으로 좁힘\n",
    "        if pl > pr:\n",
    "            break\n",
    "    return -1\n",
    "\n",
    "if __name__ == '__main__':\n",
    "    num = int(input('원소 수를 입력하세요.: '))\n",
    "    x = [None] * num\n",
    "\n",
    "    print('배열 데이터를 오름차순으로 입력하세요.')\n",
    "\n",
    "    x[0] = int(input('x[0]: '))\n",
    "\n",
    "    for i in range(1, num):\n",
    "        while True:\n",
    "            x[i] = int(input(f'x[{i}]: '))\n",
    "            if x[i] >= x[i-1]:\n",
    "                break\n",
    "\n",
    "    ky = int(input('검색할 값을 입력하세요.: '))\n",
    "\n",
    "    idx = bin_search(x, ky)\n",
    "    \n",
    "    if idx == -1:\n",
    "        print('검색값을 갖는 원소가 존재하지 않습니다.')\n",
    "    else:\n",
    "        print(f'검색값은 x[{idx}]에 있습니다.')"
   ]
  },
  {
   "attachments": {},
   "cell_type": "markdown",
   "metadata": {},
   "source": [
    "복잡도\n",
    "- 알고리즘의 성능을 객관적으로 평가하는 기준\n",
    "    - 시간 복잡도 : 실행하는 데 필요한 시간을 평가합니다.\n",
    "    - 공간 복잡도 : 메모리(기억 공간)와 파일 공간이 얼마나 필요한지를 평가합니다."
   ]
  },
  {
   "attachments": {},
   "cell_type": "markdown",
   "metadata": {},
   "source": [
    "실습 3C-3) 이진 검색 알고리즘의 실행 과정을 출력"
   ]
  },
  {
   "cell_type": "code",
   "execution_count": 3,
   "metadata": {},
   "outputs": [
    {
     "ename": "ValueError",
     "evalue": "invalid literal for int() with base 10: ''",
     "output_type": "error",
     "traceback": [
      "\u001b[1;31m---------------------------------------------------------------------------\u001b[0m",
      "\u001b[1;31mValueError\u001b[0m                                Traceback (most recent call last)",
      "\u001b[1;32m~\\AppData\\Local\\Temp\\ipykernel_7840\\1048434487.py\u001b[0m in \u001b[0;36m<module>\u001b[1;34m\u001b[0m\n\u001b[0;32m     39\u001b[0m \u001b[1;33m\u001b[0m\u001b[0m\n\u001b[0;32m     40\u001b[0m \u001b[1;32mif\u001b[0m \u001b[0m__name__\u001b[0m \u001b[1;33m==\u001b[0m \u001b[1;34m'__main__'\u001b[0m\u001b[1;33m:\u001b[0m\u001b[1;33m\u001b[0m\u001b[1;33m\u001b[0m\u001b[0m\n\u001b[1;32m---> 41\u001b[1;33m     \u001b[0mnum\u001b[0m \u001b[1;33m=\u001b[0m \u001b[0mint\u001b[0m\u001b[1;33m(\u001b[0m\u001b[0minput\u001b[0m\u001b[1;33m(\u001b[0m\u001b[1;34m'원소 수를 입력하세요.: '\u001b[0m\u001b[1;33m)\u001b[0m\u001b[1;33m)\u001b[0m\u001b[1;33m\u001b[0m\u001b[1;33m\u001b[0m\u001b[0m\n\u001b[0m\u001b[0;32m     42\u001b[0m     \u001b[0mx\u001b[0m \u001b[1;33m=\u001b[0m \u001b[1;33m[\u001b[0m\u001b[1;32mNone\u001b[0m\u001b[1;33m]\u001b[0m \u001b[1;33m*\u001b[0m \u001b[0mnum\u001b[0m\u001b[1;33m\u001b[0m\u001b[1;33m\u001b[0m\u001b[0m\n\u001b[0;32m     43\u001b[0m \u001b[1;33m\u001b[0m\u001b[0m\n",
      "\u001b[1;31mValueError\u001b[0m: invalid literal for int() with base 10: ''"
     ]
    }
   ],
   "source": [
    "from typing import Any, Sequence\n",
    "\n",
    "def bin_search(a:Sequence, key:Any) -> int:\n",
    "    pl = 0\n",
    "    pr = len(a) - 1\n",
    "\n",
    "    print('  |', end='')\n",
    "    for i in range(len(a)):\n",
    "        print(f'{i : 4}', end='')\n",
    "    print()\n",
    "    print('---+' + (4 * len(a) + 2) * '-')\n",
    "\n",
    "    while True:\n",
    "        pc = (pl + pr) // 2\n",
    "\n",
    "        print('  |', end='')\n",
    "        if pl != pc:\n",
    "            print((pl * 4 + 1) * ' ' + '<-' + ((pc - pl) * 4) * ' ' + '+', end='')\n",
    "        else:\n",
    "            print((pc * 4 + 1) * ' ' + '<+', end='')\n",
    "        if pc != pr:\n",
    "            print(((pr - pc) * 4 -2) * ' ' + '->')\n",
    "        else:\n",
    "            print('->')\n",
    "        print(f'{pc:3}|', end='')\n",
    "        for i in range(len(a)):\n",
    "            print(f'{a[i]:4}', end='')\n",
    "        print('\\n  |')\n",
    "\n",
    "        if a[pc] == key:\n",
    "            return pc           # 검색 성공\n",
    "        elif a[pc] < key:\n",
    "            pl = pc + 1         # 검색 범위를 뒤쪽 절반으로 좁힘\n",
    "        else:\n",
    "            pr = pc - 1         # 검색 범위를 앞쪽 절반으로 좁힘\n",
    "        if pl > pr:\n",
    "            break\n",
    "    return -1\n",
    "\n",
    "if __name__ == '__main__':\n",
    "    num = int(input('원소 수를 입력하세요.: '))\n",
    "    x = [None] * num\n",
    "\n",
    "    print('배열 데이터를 오름차순으로 입력하세요.')\n",
    "\n",
    "    x[0] = int(input('x[0]: '))\n",
    "\n",
    "    for i in range(1, num):\n",
    "        while True:\n",
    "            x[i] = int(input(f'x[{i}]: '))\n",
    "            if x[i] >= x[i-1]:\n",
    "                break\n",
    "\n",
    "    ky = int(input('검색할 값을 입력하세요.: '))\n",
    "\n",
    "    idx = bin_search(x, ky)\n",
    "    \n",
    "    if idx == -1:\n",
    "        print('검색값을 갖는 원소가 존재하지 않습니다.')\n",
    "    else:\n",
    "        print(f'검색값은 x[{idx}]에 있습니다.')"
   ]
  },
  {
   "attachments": {},
   "cell_type": "markdown",
   "metadata": {},
   "source": [
    "03-4 해시법\n",
    "\n",
    "해시법\n",
    "###### ☑️ 데이터를 저장할 위치 = 인덱스\n",
    "###### ☑️ 원소의 검색뿐 아니라 추가, 삭제도 효율적으로 수행할 수 있음\n",
    "###### ☑️ 해시값 : 배열의 키(원소의 값)를 원소 개수로 나눈 나머지\n",
    "###### ☑️ 해시테이블 : 해시값을 인덱스로 하여 원소를 새로 저장한 배열\n",
    "###### ☑️ 해시함수 : 키를 해시값으로 변환하는 과정\n",
    "###### ☑️ 버킷 : 해시 테이블에서 만들어진 원소\n",
    "\n",
    "해시 충돌\n",
    "###### ☑️ 해시테이블에 새로운 값을 추가할 때, 버킷에 이미 값이 들어있는 경우\n",
    "\n",
    "체인법\n",
    "###### ☑️ 해시값이 같은 데이터를 체인 모양의 연결 리스트로 연결(오픈 해시법)"
   ]
  },
  {
   "attachments": {},
   "cell_type": "markdown",
   "metadata": {},
   "source": [
    "실습 3-5 [A]) 체인법으로 해시 함수 구현하기"
   ]
  },
  {
   "cell_type": "code",
   "execution_count": 2,
   "metadata": {},
   "outputs": [],
   "source": [
    "from __future__ import annotations\n",
    "from typing import Any, Type\n",
    "import hashlib\n",
    "\n",
    "class Node:\n",
    "    def __init__(self, key:Any, value:Any, next:Node) -> None:\n",
    "        self.key = key      # 키(임의의 자료형)\n",
    "        self.value = value  # 값(임의의 자료형)\n",
    "        self.next = next    # 뒤쪽 노드를 참조(Node형)"
   ]
  },
  {
   "cell_type": "markdown",
   "metadata": {},
   "source": [
    "실습 3-5[B]) 체인법으로 해시 클래스 구현"
   ]
  },
  {
   "cell_type": "code",
   "execution_count": 3,
   "metadata": {},
   "outputs": [],
   "source": [
    "class ChainedHash:\n",
    "    def __init__(self, capacity:int) -> None:\n",
    "        self.capacity = capacity                # 해시 테이블의 크기를 지정\n",
    "        self.table = [None] * self.capacity     # 해시 테이블(리스트)을 선언\n",
    "\n",
    "    def hash_value(self, key:Any) -> int:\n",
    "        ''' 해시값을 구함 '''\n",
    "        if isinstance(key, int):\n",
    "            return key % self.capacity\n",
    "        return(int(hashlib.sha256(str(key).encode()).hexdigest(), 16) % self.capacity)"
   ]
  },
  {
   "attachments": {},
   "cell_type": "markdown",
   "metadata": {},
   "source": [
    "☑️ search()함수가 원소를 검색하는 과정\n",
    "1. 해시 함수를 사용하여 키를 해시값으로 반환\n",
    "2. 해시값을 인덱스로 하는 버킷에 주목\n",
    "3. 버킷이 참조하는 연결 리스트를 맨 앞부터 차례로 스캔, 키와 같은 값이 발견되면 검색에 성공, 원소의 맨 끝까지 스캔해서 발견되지 않으면 검색에 실패\n",
    "\n",
    "실습 3-5 [C]) 키가 key인 원소를 검색하여 값을 반환"
   ]
  },
  {
   "cell_type": "code",
   "execution_count": 4,
   "metadata": {},
   "outputs": [],
   "source": [
    "def search(self, key:Any) -> Any:\n",
    "    hash = self.hash_value(key)     # 검색하는 키의 해시값\n",
    "    p = self.table[hash]            # 노드를 주목\n",
    "\n",
    "    while p is not None:\n",
    "        if p.key == key:\n",
    "            return p.value\n",
    "        \n",
    "    return None                     # 검색 실패\n",
    "\n",
    "def add(self, key:Any, value:Any) -> bool:\n",
    "    hash = self.hash_value(key)     # 추가하는 key의 해시값\n",
    "    p = self.table[hash]\n",
    "\n",
    "    while p is not None:\n",
    "        if p.key == key:\n",
    "            return False            # 추가 실패\n",
    "        p = p.next                  # 뒤쪽 노드를 주목\n",
    "\n",
    "    temp = Node(key, value, self.table[hash])\n",
    "    self.table[hash] = temp\n",
    "    return True"
   ]
  },
  {
   "attachments": {},
   "cell_type": "markdown",
   "metadata": {},
   "source": [
    "실습 3-5[D]) remove() 함수 : 키가 key인 원소를 삭제"
   ]
  },
  {
   "cell_type": "code",
   "execution_count": 5,
   "metadata": {},
   "outputs": [],
   "source": [
    "def remove(self, key:Any) -> bool:\n",
    "    hash = self.hash_value(key)\n",
    "    p = self.table[hash]\n",
    "    pp = None\n",
    "\n",
    "    while p is not None:\n",
    "        if p.key == key:\n",
    "            if pp is None:\n",
    "                self.table[hash] = p.next\n",
    "            else:\n",
    "                pp.next = p.next\n",
    "            return True\n",
    "        pp = p\n",
    "        p = p.next\n",
    "    return False\n",
    "\n",
    "# 해시 테이블을 덤프 : 해시 테이블의 내용을 한꺼번에 출력\n",
    "def dump(self) -> None:\n",
    "    for i in range(self.capacity):\n",
    "        p = self.table[i]\n",
    "        print(i, end='')\n",
    "        while p is not None:\n",
    "            print(f' -> {p.key} ({p.value})', end='')\n",
    "            p = p.next\n",
    "        print()"
   ]
  },
  {
   "attachments": {},
   "cell_type": "markdown",
   "metadata": {},
   "source": [
    "실습 3-6) 체인법을 구현하는 해시 클래스 ChainedHash의 사용"
   ]
  },
  {
   "cell_type": "code",
   "execution_count": 4,
   "metadata": {},
   "outputs": [
    {
     "name": "stdout",
     "output_type": "stream",
     "text": [
      "(1)추가   (2)삭제   (3)검색   (4)덤프   (5)종료\n",
      "(1)추가   (2)삭제   (3)검색   (4)덤프   (5)종료\n",
      "0\n",
      "1 -> 1 (수연)\n",
      "2\n",
      "3\n",
      "4\n",
      "5\n",
      "6\n",
      "7\n",
      "8\n",
      "9\n",
      "10\n",
      "11\n",
      "12\n",
      "(1)추가   (2)삭제   (3)검색   (4)덤프   (5)종료\n",
      "(1)추가   (2)삭제   (3)검색   (4)덤프   (5)종료\n",
      "(1)추가   (2)삭제   (3)검색   (4)덤프   (5)종료\n",
      "(1)추가   (2)삭제   (3)검색   (4)덤프   (5)종료\n",
      "(1)추가   (2)삭제   (3)검색   (4)덤프   (5)종료\n",
      "검색한 키를 갖는 값은 동혁입니다.\n",
      "(1)추가   (2)삭제   (3)검색   (4)덤프   (5)종료\n",
      "0\n",
      "1 -> 14 (민서) -> 1 (수연)\n",
      "2\n",
      "3\n",
      "4\n",
      "5 -> 5 (동혁)\n",
      "6\n",
      "7\n",
      "8\n",
      "9\n",
      "10 -> 10 (예지)\n",
      "11\n",
      "12 -> 12 (원준)\n",
      "(1)추가   (2)삭제   (3)검색   (4)덤프   (5)종료\n",
      "(1)추가   (2)삭제   (3)검색   (4)덤프   (5)종료\n",
      "0\n",
      "1 -> 1 (수연)\n",
      "2\n",
      "3\n",
      "4\n",
      "5 -> 5 (동혁)\n",
      "6\n",
      "7\n",
      "8\n",
      "9\n",
      "10 -> 10 (예지)\n",
      "11\n",
      "12 -> 12 (원준)\n",
      "(1)추가   (2)삭제   (3)검색   (4)덤프   (5)종료\n"
     ]
    }
   ],
   "source": [
    "from enum import Enum\n",
    "from chained_hash import ChainedHash\n",
    "\n",
    "Menu = Enum('Menu', ['추가', '삭제', '검색', '덤프', '종료'])\n",
    "\n",
    "def select_menu() -> Menu:\n",
    "    s = [f'({m.value}){m.name}' for m in Menu]\n",
    "    while True:\n",
    "        print(*s, sep='  ', end='')\n",
    "        n = int(input(': '))\n",
    "        if 1 <= n <= len(Menu):\n",
    "            return Menu(n)\n",
    "        \n",
    "hash = ChainedHash(13)\n",
    "\n",
    "while True:\n",
    "    menu = select_menu()\n",
    "\n",
    "    if menu == Menu.추가:\n",
    "        key = int(input('추가할 키를 입력하세요.: '))\n",
    "        val = input('추가할 값을 입력하세요.: ')\n",
    "        if not hash.add(key, val):\n",
    "            print('추가를 실패했습니다!')\n",
    "\n",
    "    elif menu == Menu.삭제:\n",
    "        key = int(input('삭제할 키를 입력하세요.: '))\n",
    "        if not hash.remove(key):\n",
    "            print('삭제를 실패했습니다!')\n",
    "    \n",
    "    elif menu == Menu.검색:\n",
    "        key = int(input('검색할 키를 입력하세요.: '))\n",
    "        t = hash.search(key)\n",
    "        if t is not None:\n",
    "            print(f'검색한 키를 갖는 값은 {t}입니다.')\n",
    "        else:\n",
    "            print('검색할 데이터가 없습니다.')\n",
    "    elif menu == Menu.덤프:\n",
    "        hash.dump()\n",
    "    \n",
    "    else:\n",
    "        break"
   ]
  },
  {
   "attachments": {},
   "cell_type": "markdown",
   "metadata": {},
   "source": [
    "오픈 주소법\n",
    "\n",
    "☑️ 재해시를 수행하여 빈 버킷을 찾는 방법\n",
    "\n",
    "1. 원소 추가하기\n",
    "    - 빈 버킷이 나올 때까지 재해시를 반봅 => 선형 탐사\n",
    "2. 원소 삭제하기\n",
    "    - 해시값이 같은 숫자를 검색할 때 해시값이 n인 데이터는 존재하지 않는다고 착각 => 실패\n",
    "    - 오류 방지 : 비어 있음(-), 삭제 완료(★)"
   ]
  },
  {
   "cell_type": "code",
   "execution_count": null,
   "metadata": {},
   "outputs": [],
   "source": []
  },
  {
   "cell_type": "markdown",
   "metadata": {},
   "source": []
  }
 ],
 "metadata": {
  "kernelspec": {
   "display_name": "base",
   "language": "python",
   "name": "python3"
  },
  "language_info": {
   "codemirror_mode": {
    "name": "ipython",
    "version": 3
   },
   "file_extension": ".py",
   "mimetype": "text/x-python",
   "name": "python",
   "nbconvert_exporter": "python",
   "pygments_lexer": "ipython3",
   "version": "3.9.15"
  },
  "orig_nbformat": 4,
  "vscode": {
   "interpreter": {
    "hash": "ad2bdc8ecc057115af97d19610ffacc2b4e99fae6737bb82f5d7fb13d2f2c186"
   }
  }
 },
 "nbformat": 4,
 "nbformat_minor": 2
}
