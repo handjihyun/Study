{
 "cells": [
  {
   "cell_type": "markdown",
   "metadata": {},
   "source": [
    "#### 02. 기본 자료구조와 배열\n",
    "02-1 자료구조와 배열\n",
    "\n",
    "실습 2-1) 배열 개념 알아보기"
   ]
  },
  {
   "cell_type": "code",
   "execution_count": null,
   "metadata": {},
   "outputs": [],
   "source": [
    "# 학생 5명의 시험 점수를 입력받아 합계와 평균을 출력하기\n",
    "\n",
    "print('학생 그룹 점수의 합계와 평균을 구합니다.')\n",
    "\n",
    "score1 = int(input('1번 학생의 점수를 입력하세요.: '))\n",
    "score2 = int(input('2번 학생의 점수를 입력하세요.: '))\n",
    "score3 = int(input('3번 학생의 점수를 입력하세요.: '))\n",
    "score4 = int(input('4번 학생의 점수를 입력하세요.: '))\n",
    "score5 = int(input('5번 학생의 점수를 입력하세요.: '))\n",
    "\n",
    "total = 0\n",
    "total += score1\n",
    "total += score2\n",
    "total += score3\n",
    "total += score4\n",
    "total += score5\n",
    "\n",
    "print(f'합계는 {total}점입니다.')\n",
    "print(f'평균은 {total / 5}점입니다.')"
   ]
  },
  {
   "cell_type": "markdown",
   "metadata": {},
   "source": [
    "리스트와 튜플 알아보기"
   ]
  },
  {
   "cell_type": "code",
   "execution_count": null,
   "metadata": {},
   "outputs": [],
   "source": [
    "# 리스트의 기초\n",
    "list01 = []                 # [] 빈 리스트\n",
    "list02 = [1, 2, 3]\n",
    "list03 = ['A', 'B', 'C']"
   ]
  },
  {
   "cell_type": "code",
   "execution_count": null,
   "metadata": {},
   "outputs": [],
   "source": [
    "list04 = list()\n",
    "list05 = list('ABC')\n",
    "list06 = list([1, 2, 3])\n",
    "list07 = list((1, 2, 3))\n",
    "list08 = list({1, 2, 3})"
   ]
  },
  {
   "cell_type": "code",
   "execution_count": null,
   "metadata": {},
   "outputs": [],
   "source": [
    "list09 = list(range(7))\n",
    "list10 = list(range(3, 8))\n",
    "list11 = list(range(3, 13, 2))\n",
    "\n",
    "print(list09, list10, list11, sep='\\n')"
   ]
  },
  {
   "cell_type": "code",
   "execution_count": null,
   "metadata": {},
   "outputs": [],
   "source": [
    "list12 = [None] * 5\n",
    "\n",
    "print(list12)"
   ]
  },
  {
   "cell_type": "markdown",
   "metadata": {},
   "source": [
    "튜플의 기초\n",
    "\n",
    "- immutable : 원소를 변경할 수 없는 자료형(수, 문자열, 튜플, ...)"
   ]
  },
  {
   "cell_type": "code",
   "execution_count": null,
   "metadata": {},
   "outputs": [],
   "source": [
    "tuple01 = ()    # 빈 튜플\n",
    "tuple02 = 1,\n",
    "tuple03 = (1,)\n",
    "\n",
    "print(tuple01, tuple02, tuple03, sep='\\n')"
   ]
  },
  {
   "cell_type": "code",
   "execution_count": null,
   "metadata": {},
   "outputs": [],
   "source": [
    "tuple04 = 1, 2, 3\n",
    "tuple05 = 1, 2, 3,\n",
    "tuple06 = (1, 2, 3)\n",
    "tuple07 = (1, 2, 3, )\n",
    "tuple08 = 'A', 'B', 'C',\n",
    "\n",
    "print(tuple04, tuple05, tuple06, tuple07, tuple08, sep='\\n')"
   ]
  },
  {
   "cell_type": "code",
   "execution_count": null,
   "metadata": {},
   "outputs": [],
   "source": [
    "v01 = 1     # 1 튜플이 아닌 하나의 값을 가진 int형 변수\n",
    "v02 = (1)   # 1 튜플이 아닌 하나의 값을 가진 int형 변수 -> ',(쉼표)' 존재 X"
   ]
  },
  {
   "cell_type": "code",
   "execution_count": null,
   "metadata": {},
   "outputs": [
    {
     "name": "stdout",
     "output_type": "stream",
     "text": [
      "()\n",
      "('A', 'B', 'C')\n",
      "(1, 2, 3)\n",
      "(1, 2, 3)\n"
     ]
    }
   ],
   "source": [
    "tuple09 = tuple()\n",
    "tuple10 = tuple('ABC')\n",
    "tuple11 = tuple([1, 2, 3])\n",
    "tuple12 = tuple({1, 2, 3})\n",
    "\n",
    "print(tuple09, tuple10, tuple11, tuple12, sep='\\n')"
   ]
  },
  {
   "cell_type": "code",
   "execution_count": null,
   "metadata": {},
   "outputs": [],
   "source": [
    "tuple13 = tuple(range(7))\n",
    "tuple14 = tuple(range(3, 8))\n",
    "tuple15 = tuple(range(3, 13, 2))\n",
    "\n",
    "print(tuple13, tuple14, tuple15, sep='\\n')"
   ]
  },
  {
   "cell_type": "markdown",
   "metadata": {},
   "source": [
    "리스트와 튜플 풀어내기\n",
    "- unpack : 리스트나 튜플의 원솟값들을 풀어 여러 변수에 대입"
   ]
  },
  {
   "cell_type": "code",
   "execution_count": null,
   "metadata": {},
   "outputs": [],
   "source": [
    "x = [1, 2, 3]\n",
    "a, b, c = x\n",
    "a, b, c"
   ]
  },
  {
   "cell_type": "markdown",
   "metadata": {},
   "source": [
    "인덱스로 원소에 접근하기"
   ]
  },
  {
   "cell_type": "code",
   "execution_count": null,
   "metadata": {},
   "outputs": [],
   "source": [
    "# 인덱스식 사용하기\n",
    "x = [11, 22, 33, 44, 55, 66, 77]"
   ]
  },
  {
   "cell_type": "code",
   "execution_count": null,
   "metadata": {},
   "outputs": [],
   "source": [
    "x[2]"
   ]
  },
  {
   "cell_type": "code",
   "execution_count": null,
   "metadata": {},
   "outputs": [],
   "source": [
    "x[-3]"
   ]
  },
  {
   "cell_type": "code",
   "execution_count": null,
   "metadata": {},
   "outputs": [],
   "source": [
    "x[-4] = 3.14"
   ]
  },
  {
   "cell_type": "code",
   "execution_count": null,
   "metadata": {},
   "outputs": [],
   "source": [
    "x"
   ]
  },
  {
   "cell_type": "code",
   "execution_count": null,
   "metadata": {},
   "outputs": [],
   "source": [
    "# x[7]          # 존재하지 않는 인덱스         -> Error\n",
    "# x[7] = 3.14   # x[7]에는 값을 대입할 수 없음 -> Error"
   ]
  },
  {
   "cell_type": "markdown",
   "metadata": {},
   "source": [
    "슬라이스식으로 원소에 접근하기"
   ]
  },
  {
   "cell_type": "code",
   "execution_count": null,
   "metadata": {},
   "outputs": [],
   "source": [
    "s = [11, 22, 33, 44, 55, 66, 77]"
   ]
  },
  {
   "cell_type": "code",
   "execution_count": null,
   "metadata": {},
   "outputs": [],
   "source": [
    "s[0:6]"
   ]
  },
  {
   "cell_type": "code",
   "execution_count": null,
   "metadata": {},
   "outputs": [],
   "source": [
    "s[0:7]"
   ]
  },
  {
   "cell_type": "code",
   "execution_count": null,
   "metadata": {},
   "outputs": [],
   "source": [
    "s[0:7:2]"
   ]
  },
  {
   "cell_type": "code",
   "execution_count": null,
   "metadata": {},
   "outputs": [],
   "source": [
    "s[-4:-2]"
   ]
  },
  {
   "cell_type": "code",
   "execution_count": null,
   "metadata": {},
   "outputs": [],
   "source": [
    "s[3:1]"
   ]
  },
  {
   "cell_type": "markdown",
   "metadata": {},
   "source": [
    "보충 수업2-1) mutable(리스트, 딕셔너리, 집합, ...)과 immutable의 대입"
   ]
  },
  {
   "cell_type": "code",
   "execution_count": null,
   "metadata": {},
   "outputs": [],
   "source": [
    "n = 5\n",
    "id(n)"
   ]
  },
  {
   "cell_type": "code",
   "execution_count": null,
   "metadata": {},
   "outputs": [],
   "source": [
    "n = 'ABC'\n",
    "id(n)       # 함수 식별 번호 변경! (값 변경 X)"
   ]
  },
  {
   "cell_type": "code",
   "execution_count": null,
   "metadata": {},
   "outputs": [],
   "source": [
    "a, b, c = 1, 2, 3\n",
    "\n",
    "print(a)\n",
    "print(b)\n",
    "print(c)"
   ]
  },
  {
   "cell_type": "code",
   "execution_count": null,
   "metadata": {},
   "outputs": [],
   "source": [
    "x = 6\n",
    "y = 2\n",
    "x, y = y + 2, x + 3\n",
    "\n",
    "print(x)\n",
    "print(y)"
   ]
  },
  {
   "cell_type": "markdown",
   "metadata": {},
   "source": [
    "VS"
   ]
  },
  {
   "cell_type": "code",
   "execution_count": null,
   "metadata": {},
   "outputs": [],
   "source": [
    "x, y = 6, 2\n",
    "x = y + 2\n",
    "y = x + 3\n",
    "\n",
    "print(x, y, sep='\\n')"
   ]
  },
  {
   "cell_type": "code",
   "execution_count": null,
   "metadata": {},
   "outputs": [],
   "source": [
    "n = 12\n",
    "id(n)"
   ]
  },
  {
   "cell_type": "code",
   "execution_count": null,
   "metadata": {},
   "outputs": [],
   "source": [
    "n += 1\n",
    "print(id(n))   # 누적 변수 n을 1만큼 증가 -> 식별 번호 변경\n",
    "\n",
    "print(n)"
   ]
  },
  {
   "cell_type": "code",
   "execution_count": null,
   "metadata": {},
   "outputs": [],
   "source": [
    "x = 0\n",
    "type(x + 17)\n",
    "\n",
    "# type(x = 17)\n",
    "# x = 17은 식(expression)이 아니라 문(statement)이므로 자료형을 확인할 수 없음"
   ]
  },
  {
   "cell_type": "code",
   "execution_count": null,
   "metadata": {},
   "outputs": [],
   "source": [
    "a = b = 1\n",
    "# a = (b = 1)\n",
    "# '='를 오른쪽 결합 연산자로 볼 것이라 착각 -> Error"
   ]
  },
  {
   "cell_type": "markdown",
   "metadata": {},
   "source": [
    "자료구조의 개념 알아보기\n",
    "- 자료구조 : 데이터 단위와 데이터 자체 사이의 물리적 또는 논리적인 관계( 데이터가 모여있는 구조)\n",
    "\n",
    "보충 수업 2-2) 리스트와 튜플 1"
   ]
  },
  {
   "cell_type": "code",
   "execution_count": null,
   "metadata": {},
   "outputs": [],
   "source": [
    "# len() 함수로 배열의 원소 수 구하기\n",
    "x = [15, 64, 7, 3.14, [32, 55], 'ABC']\n",
    "len(x)"
   ]
  },
  {
   "cell_type": "code",
   "execution_count": null,
   "metadata": {},
   "outputs": [],
   "source": [
    "# 빈 배열 판단하기\n",
    "if x:\n",
    "    print(True)\n",
    "else:\n",
    "    print(False)"
   ]
  },
  {
   "cell_type": "code",
   "execution_count": null,
   "metadata": {},
   "outputs": [],
   "source": [
    "# 비교연산자로 배열의 대소 또는 등가 관계 판단하기\n",
    "print([1, 2, 3] == [1, 2, 3])\n",
    "print([1, 2, 3] < [1, 2, 4])\n",
    "print([1, 2, 3, 4] <= [1, 2, 3, 4])\n",
    "print([1, 2, 3] < [1, 2, 3, 5])         # 원소 수가 다른 경우 원소 수가 많은 배열이 더 크다고 판단\n",
    "print([1, 2, 3] < [1, 2, 3, 5] < [1, 2, 3, 5, 6])"
   ]
  },
  {
   "cell_type": "markdown",
   "metadata": {},
   "source": [
    "조금만 더!) 내포 표기 생성이란?"
   ]
  },
  {
   "cell_type": "code",
   "execution_count": null,
   "metadata": {},
   "outputs": [],
   "source": [
    "numbers = [1, 2, 3, 4, 5]\n",
    "twise = [num * 2 for num in numbers if num % 2 == 1]\n",
    "print(twise)"
   ]
  },
  {
   "cell_type": "markdown",
   "metadata": {},
   "source": [
    "#### 02-2 배열이란?\n",
    "배열 원소의 최댓값 구하기"
   ]
  },
  {
   "cell_type": "code",
   "execution_count": null,
   "metadata": {},
   "outputs": [],
   "source": [
    "a = [22, 57, 11, 91, 32]\n",
    "\n",
    "def max_of(a):\n",
    "    maximum = a[0]\n",
    "\n",
    "    for i in range(1, len(a)):\n",
    "        if a[i] > maximum:\n",
    "            maximum = a[i]\n",
    "    return maximum\n",
    "\n",
    "max_of(a)"
   ]
  },
  {
   "cell_type": "markdown",
   "metadata": {},
   "source": [
    "실습 2-2) 시퀀스 원소의 최댓값 출력하기"
   ]
  },
  {
   "cell_type": "code",
   "execution_count": null,
   "metadata": {},
   "outputs": [],
   "source": [
    "from typing import Any, Sequence\n",
    "\n",
    "def max_of(a: Sequence) -> Any:\n",
    "    '''시퀀스형 a 원소의 최댓값을 반환'''\n",
    "    maximum = a[0]\n",
    "    for i in range(1, len(a)):\n",
    "        if a[i] > maximum:\n",
    "            maximum = a[i]\n",
    "    return maximum\n",
    "\n",
    "if __name__ == '__main__':\n",
    "    print('배열의 최댓값을 구합니다.')\n",
    "    num = int(input('원소의 수를 입력하세요.: '))\n",
    "    x = [None] * num\n",
    "\n",
    "    for i in range(num):\n",
    "        x[i] = int(input(f'x[{i}]값을 입력하세요.: '))\n",
    "\n",
    "    print(f'최댓값은 {max_of(x)}입니다.')"
   ]
  },
  {
   "cell_type": "markdown",
   "metadata": {},
   "source": [
    "주석과 자료형 힌트\n",
    "- Any : 제약이 없는 임의의 자료형\n",
    "- Sequence : 값이 연속적으로 이어진 자료(list, bytearray, str, tuple, bytes)"
   ]
  },
  {
   "cell_type": "markdown",
   "metadata": {},
   "source": [
    "재사용할 수 있는 모듈 작성하기\n",
    "- 모듈 : 하나의 스크립트 프로그램\n",
    "    - 스크립트 프로그램이 직접 실행될 때 변수 `__name__`은 `__main__`이다.\n",
    "    - 스크립트 프로그램이 import될 때 변수 `__name__`은 원래의 모듈 이름이다."
   ]
  },
  {
   "cell_type": "markdown",
   "metadata": {},
   "source": [
    "모듈 데스트하기\n",
    "\n",
    "실습 2-3) 입력받을 때 원소 수를 결정하기"
   ]
  },
  {
   "cell_type": "code",
   "execution_count": null,
   "metadata": {},
   "outputs": [],
   "source": [
    "# 배열 원소의 최댓값을 구해서 출력하기(원솟값을 입력받음)\n",
    "\n",
    "from max import max_of\n",
    "\n",
    "print('배열의 최댓값을 구합니다.')\n",
    "print('주의: \"End\"를 입력하면 종료합니다.')\n",
    "\n",
    "number = 0\n",
    "x = []\n",
    "\n",
    "while True:\n",
    "    s = input(f'x[{number}]값을 입력하세요.: ')\n",
    "    if s == 'End':\n",
    "        break\n",
    "    x.append(int(s))\n",
    "    number += 1\n",
    "\n",
    "print(f'{number}개를 입력했습니다.')\n",
    "print(f'최댓값은 {max_of(x)}입니다.')"
   ]
  },
  {
   "cell_type": "markdown",
   "metadata": {},
   "source": [
    "실습 2-4) 배열의 원솟값을 난수로 결정하기"
   ]
  },
  {
   "cell_type": "code",
   "execution_count": null,
   "metadata": {},
   "outputs": [],
   "source": [
    "import random\n",
    "from max import max_of\n",
    "\n",
    "print('난수의 최댓값을 구합니다.')\n",
    "num = int(input('난수의 개수를 입력하세요.: '))\n",
    "lo = int(input('난수의 최솟값을 입력하세요.: '))\n",
    "hi = int(input('난수의 최댓값을 입력하세요.: '))\n",
    "x = [None] * num\n",
    "\n",
    "for i in range(num):\n",
    "    x[i] = random.randint(lo, hi)\n",
    "\n",
    "print(f'{(x)}')\n",
    "print(f'이 가운데 최댓값은 {max_of(x)}입니다.')"
   ]
  },
  {
   "cell_type": "markdown",
   "metadata": {},
   "source": [
    "실습 2-5) 튜플, 문자열, 문자열 리스트의 최댓값 구하기"
   ]
  },
  {
   "cell_type": "code",
   "execution_count": null,
   "metadata": {},
   "outputs": [],
   "source": [
    "from max import max_of\n",
    "\n",
    "t = (4, 7, 5.6, 2, 3.14, 1)\n",
    "s = 'string'\n",
    "a = ['DTS', 'AAC', 'FLAC']\n",
    "\n",
    "print(f'{t}의 최댓값은 {max_of(t)}입니다.')\n",
    "print(f'{s}의 최댓값은 {max_of(s)}입니다.')\n",
    "print(f'{a}의 최댓값은 {max_of(a)}입니다.')"
   ]
  },
  {
   "cell_type": "markdown",
   "metadata": {},
   "source": [
    "실습 2C-1"
   ]
  },
  {
   "cell_type": "code",
   "execution_count": null,
   "metadata": {},
   "outputs": [],
   "source": [
    "# 리스트의 모든 원소 스캔하기\n",
    "x = ['John', 'George', 'Paul', 'Ringo']\n",
    "\n",
    "for i in range(len(x)):\n",
    "    print(f'x[{i}] = {x[i]}')"
   ]
  },
  {
   "cell_type": "markdown",
   "metadata": {},
   "source": [
    "실습 2C-2"
   ]
  },
  {
   "cell_type": "code",
   "execution_count": null,
   "metadata": {},
   "outputs": [],
   "source": [
    "# 리스트의 모든 원소를 enumerate()함수로 스캔하기\n",
    "x = ['John', 'George', 'Paul', 'Ringo']\n",
    "\n",
    "for i, name in enumerate(x):\n",
    "    print(f'x[{i}] = {name}')"
   ]
  },
  {
   "cell_type": "markdown",
   "metadata": {},
   "source": [
    "☆실습 2C-3"
   ]
  },
  {
   "cell_type": "code",
   "execution_count": null,
   "metadata": {},
   "outputs": [],
   "source": [
    "# 리스트의 모든 원소를 enumerate()함수로 스캔하기 (1부터 카운트)\n",
    "x = ['John', 'George', 'Paul', 'Ringo']\n",
    "\n",
    "for i, name in enumerate(x, 1):\n",
    "    print(f'{i}번째 = {name}')"
   ]
  },
  {
   "cell_type": "markdown",
   "metadata": {},
   "source": [
    "실습 2C-4"
   ]
  },
  {
   "cell_type": "code",
   "execution_count": null,
   "metadata": {},
   "outputs": [],
   "source": [
    "# 리스트의 모든 원소를 스캔하기(인덱스 값을 사용하지 않음)\n",
    "x = ['John', 'George', 'Paul', 'Ringo']\n",
    "\n",
    "for i in x:\n",
    "    print(i)"
   ]
  },
  {
   "cell_type": "markdown",
   "metadata": {},
   "source": [
    "실습 2-6) mutable 시퀀스 원소를 역순으로 정렬"
   ]
  },
  {
   "cell_type": "code",
   "execution_count": null,
   "metadata": {},
   "outputs": [],
   "source": [
    "from typing import Any, MutableSequence\n",
    "\n",
    "def reverse_array(a:MutableSequence) -> None:\n",
    "    n = len(a)\n",
    "    for i in range(n // 2):\n",
    "        a[i], a[n - i - 1] = a[n - i - 1], a[i]\n",
    "\n",
    "if __name__ == '__main__':\n",
    "    print('배열 원소를 역순으로 정렬합니다.')\n",
    "    nx = int(input('원소 수를 입력하세요.: '))\n",
    "    x = [None] * nx\n",
    "\n",
    "    for i in range(nx):\n",
    "        x[i] = int(input(f'x[{i}]값을 입력하세요.: '))\n",
    "\n",
    "    reverse_array(x)\n",
    "\n",
    "    print('배열 원소를 역순으로 정렬했습니다.')\n",
    "    for i in range(nx):\n",
    "        print(f'x[{i}] = {x[i]}')"
   ]
  },
  {
   "cell_type": "markdown",
   "metadata": {},
   "source": [
    "실습 2-7 [A]) 10진수 정숫값을 입력받아 2 ~ 36진수로 변환하여 출력하기"
   ]
  },
  {
   "cell_type": "code",
   "execution_count": null,
   "metadata": {},
   "outputs": [],
   "source": [
    "def card_conv(x: int, r:int) -> str:\n",
    "    '''정숫값 x를 r진수로 변환한 뒤 그 수를 나타내는 문자열을 반환'''\n",
    "\n",
    "    d = ''\n",
    "    dchar = '0123456789ABCDEFGHIJKLMNOPQRSTUVWXYZ'\n",
    "\n",
    "    while x > 0:\n",
    "        d += dchar[x % r]\n",
    "        x //= r\n",
    "    \n",
    "    return d[::-1]"
   ]
  },
  {
   "cell_type": "markdown",
   "metadata": {},
   "source": [
    "실습 2-7 [B]"
   ]
  },
  {
   "cell_type": "code",
   "execution_count": null,
   "metadata": {},
   "outputs": [],
   "source": [
    "if __name__ == '__main__':\n",
    "    print('10진수를 n진수로 변환합니다.')\n",
    "\n",
    "    while True:\n",
    "        while True:\n",
    "            no = int(input('변환할 값으로 음이 아닌 정수를 입력하세요.: '))\n",
    "            if no > 0:\n",
    "                break\n",
    "        while True:\n",
    "            cd = int(input('어떤 진수로 변환할까요?: '))\n",
    "            if 2 <= cd <= 36:\n",
    "                break\n",
    "        \n",
    "        print(f'{cd}진수로는 {card_conv(no, cd)}입니다.')\n",
    "\n",
    "        retry = input('한 번 더 변환할까요?(Y ... 예 / N ... 아니요): ')\n",
    "        if retry in {'N', 'n'}:\n",
    "            break"
   ]
  },
  {
   "cell_type": "markdown",
   "metadata": {},
   "source": [
    "실습 2-7 [A] 수정"
   ]
  },
  {
   "cell_type": "code",
   "execution_count": null,
   "metadata": {},
   "outputs": [],
   "source": [
    "def card_conv(x: int, r:int) -> str:\n",
    "    '''정숫값 x를 r진수로 변환한 뒤 그 수를 나타내는 문자열을 반환'''\n",
    "\n",
    "    d = ''\n",
    "    dchar = '0123456789ABCDEFGHIJKLMNOPQRSTUVWXYZ'\n",
    "    n = len(str(x))\n",
    "\n",
    "    print(f'{r:2} | {x:{n}d}')\n",
    "    while x > 0:\n",
    "        print('  +' + (n + 2) * '-')\n",
    "        if x // r:\n",
    "            print(f'{r:2} | {x // r:{n}d} ... {x % r}')\n",
    "        else:\n",
    "            print(f'     {x // r:{n}d} ... {x % r}')\n",
    "        d += dchar [x % r]\n",
    "        x //= r\n",
    "\n",
    "    return d[::-1]\n",
    "\n",
    "if __name__ == '__main__':\n",
    "    print('10진수를 n진수로 변환합니다.')\n",
    "\n",
    "    while True:\n",
    "        while True:\n",
    "            no = int(input('변환할 값으로 음이 아닌 정수를 입력하세요.: '))\n",
    "            if no > 0:\n",
    "                break\n",
    "        while True:\n",
    "            cd = int(input('어떤 진수로 변환할까요?: '))\n",
    "            if 2 <= cd <= 36:\n",
    "                break\n",
    "        \n",
    "        print(f'{cd}진수로는 {card_conv(no, cd)}입니다.')\n",
    "\n",
    "        retry = input('한 번 더 변환할까요?(Y ... 예 / N ... 아니요): ')\n",
    "        if retry in {'N', 'n'}:\n",
    "            break"
   ]
  },
  {
   "cell_type": "markdown",
   "metadata": {},
   "source": [
    "보충 수업 2-6) 함수 사이에 인수 주고받기\n",
    "\n",
    "실습 2C-5☆"
   ]
  },
  {
   "cell_type": "code",
   "execution_count": null,
   "metadata": {},
   "outputs": [],
   "source": [
    "# 1부터 n까지 정수의 합 구하기\n",
    "def sum_1ton(n):\n",
    "    s = 0\n",
    "    while n > 0:\n",
    "        s += n\n",
    "        n -= 1\n",
    "    return s\n",
    "\n",
    "x = int(input('x의 값을 입력하세요.: '))\n",
    "print(f'1부터 {x}까지 정수의 합은 {sum_1ton(x)}입니다.')"
   ]
  },
  {
   "cell_type": "markdown",
   "metadata": {},
   "source": [
    "실습 2C-6) 리스트에서 임의의 원솟값을 업데이트하기"
   ]
  },
  {
   "cell_type": "code",
   "execution_count": null,
   "metadata": {},
   "outputs": [],
   "source": [
    "def change(lst, idx, val):\n",
    "    lst[idx] =  val\n",
    "\n",
    "x = [11, 22, 33, 44, 55]\n",
    "print('x = ', x)\n",
    "\n",
    "index = int(input('업데이트할 인덱스를 선택하세요.: '))\n",
    "value = int(input('새로운 값을 입력하세요.: '))\n",
    "\n",
    "change(x, index, value)\n",
    "print(f'x = {x}')"
   ]
  },
  {
   "cell_type": "markdown",
   "metadata": {},
   "source": [
    "소수 나열하기\n",
    "\n",
    "실습 2-8"
   ]
  },
  {
   "cell_type": "code",
   "execution_count": null,
   "metadata": {},
   "outputs": [],
   "source": [
    "# 1,000 이하의 소수를 나열하기\n",
    "\n",
    "counter = 0\n",
    "\n",
    "for n in range(2, 1001):\n",
    "    for i in range(2, n):\n",
    "        counter += 1\n",
    "        if n % i == 0:\n",
    "            break\n",
    "    else:\n",
    "        print(n)\n",
    "\n",
    "print(f'나눗셈을 실행한 횟수: {counter}')"
   ]
  },
  {
   "cell_type": "markdown",
   "metadata": {},
   "source": [
    "실습 2-9"
   ]
  },
  {
   "cell_type": "code",
   "execution_count": null,
   "metadata": {},
   "outputs": [],
   "source": [
    "counter = 0\n",
    "ptr = 0\n",
    "prime = [None] * 500\n",
    "\n",
    "prime[ptr] = 2      # 2는 소수이므로 초깃값으로 지정\n",
    "ptr += 1\n",
    "\n",
    "for n in range(3, 1001, 2):\n",
    "    for i in range(1, ptr):\n",
    "        counter += 1\n",
    "        if n % prime[i] == 0:\n",
    "            break\n",
    "    else:\n",
    "        prime[ptr] = n\n",
    "        ptr += 1\n",
    "\n",
    "for i in range(ptr):\n",
    "    print(prime[i])\n",
    "print(f'나눗셈을 실행한 횟수: {counter}')"
   ]
  },
  {
   "cell_type": "code",
   "execution_count": null,
   "metadata": {},
   "outputs": [],
   "source": [
    "a = [1, 2, 3]\n",
    "\n",
    "print(*a, sep='\\n')"
   ]
  },
  {
   "cell_type": "markdown",
   "metadata": {},
   "source": [
    "실습 2-10"
   ]
  },
  {
   "cell_type": "code",
   "execution_count": null,
   "metadata": {},
   "outputs": [],
   "source": [
    "counter = 0\n",
    "ptr = 0\n",
    "prime = [None] * 500\n",
    "\n",
    "prime[ptr] = 2\n",
    "ptr += 1\n",
    "\n",
    "prime[ptr] = 3\n",
    "ptr += 1\n",
    "\n",
    "for n in range(5, 1001, 2):\n",
    "    i = 1\n",
    "    while prime[i] * prime[i] <= n:\n",
    "        counter += 2\n",
    "        if n % prime[i] == 0:   # 나누어 떨어지므로 소수가 아님\n",
    "            break               # 반복 중단\n",
    "        i += 1\n",
    "    else:                       # 끝까지 나누어 떨어지지 않았다면\n",
    "        prime[ptr] = n          # 소수로 배열에 등록\n",
    "        ptr += 1\n",
    "        counter += 1\n",
    "\n",
    "for i in range(ptr):\n",
    "    print(prime[i])\n",
    "print(f'곱셈과 나눗셈을 실행한 횟수: {counter}')"
   ]
  },
  {
   "cell_type": "markdown",
   "metadata": {},
   "source": [
    "보충 수업 2-7\n",
    "\n",
    "실습 2C-7) 리스트의 원소와 복사"
   ]
  },
  {
   "cell_type": "code",
   "execution_count": null,
   "metadata": {},
   "outputs": [],
   "source": [
    "# 자료형을 정하지 않은 리스트 원소 확인하기\n",
    "x = [15, 64, 7, 3.14, [32, 55], 'ABC']\n",
    "for i in range(len(x)):\n",
    "    print(f'x[{i}] = {x[i]}')"
   ]
  },
  {
   "cell_type": "code",
   "execution_count": null,
   "metadata": {},
   "outputs": [],
   "source": [
    "x = [[1, 2, 3], [4, 5, 6]]\n",
    "y = x.copy()    # x를 y로 얕은 복사\n",
    "x[0][1] = 9\n",
    "print(x, y, sep='\\n')"
   ]
  },
  {
   "cell_type": "code",
   "execution_count": null,
   "metadata": {},
   "outputs": [],
   "source": [
    "import copy\n",
    "x = [[1, 2, 3], [4, 5, 6]]\n",
    "y = copy.deepcopy(x)    # x를 y로 깊은 복사\n",
    "x[0][1] = 9\n",
    "print(x)                # 대입된 9가 출력됨\n",
    "print(y)                # y 배열은 영향을 받지 않음"
   ]
  },
  {
   "cell_type": "code",
   "execution_count": null,
   "metadata": {},
   "outputs": [],
   "source": []
  }
 ],
 "metadata": {
  "kernelspec": {
   "display_name": "base",
   "language": "python",
   "name": "python3"
  },
  "language_info": {
   "name": "python",
   "version": "3.9.15"
  },
  "orig_nbformat": 4,
  "vscode": {
   "interpreter": {
    "hash": "ad2bdc8ecc057115af97d19610ffacc2b4e99fae6737bb82f5d7fb13d2f2c186"
   }
  }
 },
 "nbformat": 4,
 "nbformat_minor": 2
}
