{
 "cells": [
  {
   "attachments": {},
   "cell_type": "markdown",
   "metadata": {},
   "source": [
    "### 06 정렬 알고리즘\n",
    "#### 06-1 정렬 알고리즘\n",
    "📌 정렬이란?\n",
    "- 이름, 학번, 학점 등의 키를 항목값의 대소 관계에 따라 데이터 집합을 일정한 순서로 바꾸어 늘어놓는 작업\n",
    "\n",
    "    - 오름차순 : 작은 데이터를 앞쪽에 늘어놓는 것\n",
    "\n",
    "    - 내림차순 : 큰 데이터를 앞쪽에 늘어놓는 것\n",
    "\n",
    "📌 정렬 알고리즘의 안정성\n",
    "- 안정적인 알고리즘은 값이 같은 원소의 순서가 정렬한 후에도 유지됨\n",
    "\n",
    "📌 내부 정렬과 외부 정렬\n",
    "- 내부 정렬 : 정렬할 모든 데이터를 하나의 배열에 저장할 수 있는 경우\n",
    "- 외부 정렬 : 정렬할 데이터가 많아서 하나의 배열에 저장할 수 없는 경우\n",
    "\n",
    "#### 06-2 버블 정렬\n",
    "📌 버블 정렬\n",
    "- 이웃한 두 원소의 대소 관계를 비교하여 필요에 따라 교환을 반복하는 알고리즘 (단순 교환 정렬)\n",
    "\n",
    "실습 6-1) 버블 정렬 알고리즘 구현하기"
   ]
  },
  {
   "cell_type": "code",
   "execution_count": 6,
   "metadata": {},
   "outputs": [
    {
     "name": "stdout",
     "output_type": "stream",
     "text": [
      "버블 정렬을 수행합니다.\n",
      "오름차순으로 정렬했습니다.\n",
      "x[0] = 1\n",
      "x[1] = 3\n",
      "x[2] = 4\n",
      "x[3] = 6\n",
      "x[4] = 7\n",
      "x[5] = 8\n",
      "x[6] = 9\n"
     ]
    }
   ],
   "source": [
    "# i값을 0부터 n-2까지 1씩 증가시키고, 패스를 n-1번 수행\n",
    "from typing import MutableSequence\n",
    "\n",
    "def bubble_sort(a: MutableSequence) -> None:\n",
    "    n = len(a)\n",
    "    for i in range(n-1):\n",
    "        for j in range(n-1, i, -1):\n",
    "            if a[j-1] > a[j]:\n",
    "                a[j-1], a[j] = a[j], a[j-1]\n",
    "\n",
    "if __name__ == '__main__':\n",
    "    print('버블 정렬을 수행합니다.')\n",
    "    num = int(input('원소 수를 입력하세요.: '))\n",
    "    x = [None] * num\n",
    "\n",
    "    for i in range(num):\n",
    "        x[i] = int(input(f'x[{i}]: '))\n",
    "\n",
    "    bubble_sort(x)\n",
    "\n",
    "    print('오름차순으로 정렬했습니다.')\n",
    "    for i in range(num):\n",
    "        print(f'x[{i}] = {x[i]}')"
   ]
  },
  {
   "attachments": {},
   "cell_type": "markdown",
   "metadata": {},
   "source": [
    "실습 6-2) 버블 정렬 알고리즘 구현하기 (정렬 과정을 출력)"
   ]
  },
  {
   "cell_type": "code",
   "execution_count": 8,
   "metadata": {},
   "outputs": [
    {
     "name": "stdout",
     "output_type": "stream",
     "text": [
      "버블 정렬을 수행합니다.\n",
      "패스 1\n",
      " 6  4  3  7  1  9 + 8\n",
      " 6  4  3  7  1 - 8  9\n",
      " 6  4  3  7 + 1  8  9\n",
      " 6  4  3 + 1  7  8  9\n",
      " 6  4 + 1  3  7  8  9\n",
      " 6 + 1  4  3  7  8  9\n",
      " 1   6   4   3   7   8   9\n",
      "패스 2\n",
      " 1  6  4  3  7  8 - 9\n",
      " 1  6  4  3  7 - 8  9\n",
      " 1  6  4  3 - 7  8  9\n",
      " 1  6  4 + 3  7  8  9\n",
      " 1  6 + 3  4  7  8  9\n",
      " 1   3   6   4   7   8   9\n",
      "패스 3\n",
      " 1  3  6  4  7  8 - 9\n",
      " 1  3  6  4  7 - 8  9\n",
      " 1  3  6  4 - 7  8  9\n",
      " 1  3  6 + 4  7  8  9\n",
      " 1   3   4   6   7   8   9\n",
      "패스 4\n",
      " 1  3  4  6  7  8 - 9\n",
      " 1  3  4  6  7 - 8  9\n",
      " 1  3  4  6 - 7  8  9\n",
      " 1   3   4   6   7   8   9\n",
      "패스 5\n",
      " 1  3  4  6  7  8 - 9\n",
      " 1  3  4  6  7 - 8  9\n",
      " 1   3   4   6   7   8   9\n",
      "패스 6\n",
      " 1  3  4  6  7  8 - 9\n",
      " 1   3   4   6   7   8   9\n",
      "비교를 21번 했습니다.\n",
      "교환을 16번 했습니다.\n",
      "오름차순으로 정렬했습니다.\n",
      "x[0] = 1\n",
      "x[1] = 3\n",
      "x[2] = 4\n",
      "x[3] = 6\n",
      "x[4] = 7\n",
      "x[5] = 8\n",
      "x[6] = 9\n"
     ]
    }
   ],
   "source": [
    "from typing import MutableSequence\n",
    "\n",
    "def bubble_sort_verbose(a: MutableSequence) -> None:\n",
    "    ccnt = 0    # 비교 횟수\n",
    "    scnt = 0    # 교환 횟수\n",
    "    n = len(a)\n",
    "    for i in range(n-1):\n",
    "        print(f'패스 {i+1}')\n",
    "        for j in range(n-1, i, -1):\n",
    "            for m in range(0, n-1):\n",
    "                print(f'{a[m]:2}' + (' ' if m != j-1 else\n",
    "                                     \" +\" if a[j-1] > a[j] else ' -'),\n",
    "                                     end='')\n",
    "            print(f'{a[n-1]:2}')\n",
    "            ccnt += 1\n",
    "            if a[j - 1] > a[j]:\n",
    "                scnt += 1\n",
    "                if a[j-1] > a[j]:\n",
    "                    scnt += 1\n",
    "                    a[j-1], a[j] = a[j], a[j-1]\n",
    "        for m in range(0, n-1):\n",
    "            print(f'{a[m]:2}', end='  ')\n",
    "        print(f'{a[n-1]:2}')\n",
    "    print(f'비교를 {ccnt}번 했습니다.')\n",
    "    print(f'교환을 {scnt}번 했습니다.')\n",
    "\n",
    "if __name__ == '__main__':\n",
    "    print('버블 정렬을 수행합니다.')\n",
    "    num = int(input('원소 수를 입력하세요.: '))\n",
    "    x = [None] * num\n",
    "\n",
    "    for i in range(num):\n",
    "        x[i] = int(input(f'x[{i}]: '))\n",
    "\n",
    "    bubble_sort_verbose(x)\n",
    "\n",
    "    print('오름차순으로 정렬했습니다.')\n",
    "    for i in range(num):\n",
    "        print(f'x[{i}] = {x[i]}')"
   ]
  },
  {
   "cell_type": "code",
   "execution_count": null,
   "metadata": {},
   "outputs": [],
   "source": []
  }
 ],
 "metadata": {
  "kernelspec": {
   "display_name": "base",
   "language": "python",
   "name": "python3"
  },
  "language_info": {
   "codemirror_mode": {
    "name": "ipython",
    "version": 3
   },
   "file_extension": ".py",
   "mimetype": "text/x-python",
   "name": "python",
   "nbconvert_exporter": "python",
   "pygments_lexer": "ipython3",
   "version": "3.9.15"
  },
  "orig_nbformat": 4
 },
 "nbformat": 4,
 "nbformat_minor": 2
}
