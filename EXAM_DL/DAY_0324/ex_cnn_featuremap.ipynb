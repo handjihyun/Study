{
 "cells": [
  {
   "attachments": {},
   "cell_type": "markdown",
   "metadata": {},
   "source": [
    "#### CNN\n",
    "- 학습시간이 줄었음\n",
    "- 2차원 데이터를 그대로 추출\n",
    "- 특성 데이터 추출"
   ]
  },
  {
   "cell_type": "code",
   "execution_count": 176,
   "metadata": {},
   "outputs": [],
   "source": [
    "# module loading\n",
    "import tensorflow as tf\n",
    "from tensorflow.keras.models import Sequential, Model\n",
    "from tensorflow.keras.layers import Conv2D, MaxPooling2D, Flatten, Dropout, Input, Dense\n",
    "from tensorflow.keras.callbacks import EarlyStopping\n",
    "from tensorflow.keras.datasets.mnist import load_data\n",
    "\n",
    "import numpy as np\n",
    "import matplotlib.pyplot as plt"
   ]
  },
  {
   "attachments": {},
   "cell_type": "markdown",
   "metadata": {},
   "source": [
    "#### 데이터 준비\n",
    "- setting dimension shape\n",
    "- scaling => 0.0 ~ 1.0"
   ]
  },
  {
   "attachments": {},
   "cell_type": "markdown",
   "metadata": {},
   "source": [
    "[1] 데이터 로딩"
   ]
  },
  {
   "cell_type": "code",
   "execution_count": 177,
   "metadata": {},
   "outputs": [],
   "source": [
    "(X_train, y_train), (X_test, y_test) = load_data()"
   ]
  },
  {
   "attachments": {},
   "cell_type": "markdown",
   "metadata": {},
   "source": [
    "[2] 차원 처리\n",
    "- Conv => ( row, col, channel ) 또는 ( channel, row, col )"
   ]
  },
  {
   "cell_type": "code",
   "execution_count": 178,
   "metadata": {},
   "outputs": [
    {
     "data": {
      "text/plain": [
       "((60000, 28, 28), (10000, 28, 28))"
      ]
     },
     "execution_count": 178,
     "metadata": {},
     "output_type": "execute_result"
    }
   ],
   "source": [
    "X_train.shape, X_test.shape"
   ]
  },
  {
   "cell_type": "code",
   "execution_count": 179,
   "metadata": {},
   "outputs": [],
   "source": [
    "# Use np.reshape\n",
    "X_train_in = np.reshape(X_train, (-1, 28, 28, 1))\n",
    "X_test_in = np.reshape(X_test, (-1, 28, 28, 1))"
   ]
  },
  {
   "cell_type": "code",
   "execution_count": 180,
   "metadata": {},
   "outputs": [
    {
     "data": {
      "text/plain": [
       "((60000, 28, 28, 1), (10000, 28, 28, 1))"
      ]
     },
     "execution_count": 180,
     "metadata": {},
     "output_type": "execute_result"
    }
   ],
   "source": [
    "X_train_in.shape, X_test_in.shape"
   ]
  },
  {
   "cell_type": "code",
   "execution_count": 181,
   "metadata": {},
   "outputs": [],
   "source": [
    "# TF 텐서 형태(shape) 변형 관련\n",
    "# tf.squeeze()        # 1로 설정된 행 / 열 / 차원을 제거\n",
    "# tf.expand_dims()    # 지정된 위치에 행 / 열 / 차원을 1 추가"
   ]
  },
  {
   "cell_type": "code",
   "execution_count": 182,
   "metadata": {},
   "outputs": [],
   "source": [
    "X_train_in2 = tf.expand_dims(X_train, -1)\n",
    "X_train_in3 = tf.expand_dims(X_train, 0)    # 0번 인덱스 자리에 1 추가\n",
    "X_train_in4 = tf.expand_dims(X_train_in3, 0)"
   ]
  },
  {
   "cell_type": "code",
   "execution_count": 183,
   "metadata": {},
   "outputs": [
    {
     "data": {
      "text/plain": [
       "(TensorShape([60000, 28, 28, 1]),\n",
       " TensorShape([1, 60000, 28, 28]),\n",
       " TensorShape([1, 1, 60000, 28, 28]))"
      ]
     },
     "execution_count": 183,
     "metadata": {},
     "output_type": "execute_result"
    }
   ],
   "source": [
    "X_train_in2.shape, X_train_in3.shape, X_train_in4.shape"
   ]
  },
  {
   "cell_type": "code",
   "execution_count": 184,
   "metadata": {},
   "outputs": [],
   "source": [
    "# 1이 있는 축 삭제\n",
    "# 만약 1이 여러 개라면 인덱스를 지정해 원하는 축만 삭제\n",
    "X_train_in22 = tf.squeeze(X_train_in2)\n",
    "X_train_in33 = tf.squeeze(X_train_in3)\n",
    "X_train_in44 = tf.squeeze(X_train_in4, 1)   # 1번 인덱스의 축 삭제"
   ]
  },
  {
   "cell_type": "code",
   "execution_count": 185,
   "metadata": {},
   "outputs": [
    {
     "data": {
      "text/plain": [
       "(TensorShape([60000, 28, 28]),\n",
       " TensorShape([60000, 28, 28]),\n",
       " TensorShape([1, 60000, 28, 28]))"
      ]
     },
     "execution_count": 185,
     "metadata": {},
     "output_type": "execute_result"
    }
   ],
   "source": [
    "X_train_in22.shape, X_train_in33.shape, X_train_in44.shape"
   ]
  },
  {
   "attachments": {},
   "cell_type": "markdown",
   "metadata": {},
   "source": [
    "[3] 전처리"
   ]
  },
  {
   "cell_type": "code",
   "execution_count": 186,
   "metadata": {},
   "outputs": [],
   "source": [
    "# X_train_sc = tf.cast(X_train, tf.float32) / 255"
   ]
  },
  {
   "cell_type": "code",
   "execution_count": 187,
   "metadata": {},
   "outputs": [],
   "source": [
    "X_train_in = X_train_in / X_train_in.max()\n",
    "X_test_in = X_test_in / X_test_in.max()"
   ]
  },
  {
   "cell_type": "code",
   "execution_count": 188,
   "metadata": {},
   "outputs": [
    {
     "data": {
      "text/plain": [
       "((0.0, 1.0), (0.0, 1.0))"
      ]
     },
     "execution_count": 188,
     "metadata": {},
     "output_type": "execute_result"
    }
   ],
   "source": [
    "(X_train_in.min(), X_train_in.max()), (X_test_in.min(), X_test_in.max())"
   ]
  },
  {
   "attachments": {},
   "cell_type": "markdown",
   "metadata": {},
   "source": [
    "#### Mode 설계"
   ]
  },
  {
   "attachments": {},
   "cell_type": "markdown",
   "metadata": {},
   "source": [
    "[1] Sequential 방식\n",
    "- 특징맵 추출 파트\n",
    "    * 입력층 => Input\n",
    "    * 은닉층 => Conv2D\n",
    "    * 은닉층 => Conv2D\n",
    "    * 은닉층 => Pooling\n",
    "<br>\n",
    "<br>\n",
    "- 분류 파트\n",
    "    * 1차원 변환 층 ==> Flatten\n",
    "    * 출력층 ==> Dense()"
   ]
  },
  {
   "attachments": {},
   "cell_type": "markdown",
   "metadata": {},
   "source": [
    "[1-1] 모델 설계"
   ]
  },
  {
   "cell_type": "code",
   "execution_count": 189,
   "metadata": {},
   "outputs": [],
   "source": [
    "model = Sequential()\n",
    "model.add(Input(shape=(28, 28, 1)))\n",
    "model.add(Conv2D(20, (3, 3), activation = 'leaky_relu'))\n",
    "model.add(Conv2D(20, (3, 3), activation = 'leaky_relu'))\n",
    "model.add(MaxPooling2D(pool_size = (3, 3)))\n",
    "model.add(Flatten())\n",
    "model.add(Dense(10, activation='softmax'))"
   ]
  },
  {
   "cell_type": "code",
   "execution_count": 190,
   "metadata": {},
   "outputs": [
    {
     "name": "stdout",
     "output_type": "stream",
     "text": [
      "Model: \"sequential_9\"\n",
      "_________________________________________________________________\n",
      "Layer (type)                 Output Shape              Param #   \n",
      "=================================================================\n",
      "conv2d_16 (Conv2D)           (None, 26, 26, 20)        200       \n",
      "_________________________________________________________________\n",
      "conv2d_17 (Conv2D)           (None, 24, 24, 20)        3620      \n",
      "_________________________________________________________________\n",
      "max_pooling2d_8 (MaxPooling2 (None, 8, 8, 20)          0         \n",
      "_________________________________________________________________\n",
      "flatten_8 (Flatten)          (None, 1280)              0         \n",
      "_________________________________________________________________\n",
      "dense_6 (Dense)              (None, 10)                12810     \n",
      "=================================================================\n",
      "Total params: 16,630\n",
      "Trainable params: 16,630\n",
      "Non-trainable params: 0\n",
      "_________________________________________________________________\n"
     ]
    }
   ],
   "source": [
    "model.summary()"
   ]
  },
  {
   "cell_type": "code",
   "execution_count": 191,
   "metadata": {},
   "outputs": [],
   "source": [
    "early_stopping = EarlyStopping(monitor='val_acc', patience=1)"
   ]
  },
  {
   "cell_type": "code",
   "execution_count": 192,
   "metadata": {},
   "outputs": [],
   "source": [
    "model.compile(optimizer = 'adam',\n",
    "loss = 'sparse_categorical_crossentropy',\n",
    "metrics = ['acc'])"
   ]
  },
  {
   "cell_type": "code",
   "execution_count": 193,
   "metadata": {},
   "outputs": [
    {
     "name": "stdout",
     "output_type": "stream",
     "text": [
      "Epoch 1/20\n",
      "1500/1500 [==============================] - 46s 31ms/step - loss: 0.2284 - acc: 0.9328 - val_loss: 0.0944 - val_acc: 0.9707\n",
      "Epoch 2/20\n",
      "1500/1500 [==============================] - 35s 23ms/step - loss: 0.0747 - acc: 0.9773 - val_loss: 0.0701 - val_acc: 0.9800\n",
      "Epoch 3/20\n",
      "1500/1500 [==============================] - 42s 28ms/step - loss: 0.0538 - acc: 0.9839 - val_loss: 0.0594 - val_acc: 0.9819\n",
      "Epoch 4/20\n",
      "1500/1500 [==============================] - 52s 35ms/step - loss: 0.0426 - acc: 0.9869 - val_loss: 0.0558 - val_acc: 0.9854\n",
      "Epoch 5/20\n",
      "1500/1500 [==============================] - 34s 23ms/step - loss: 0.0363 - acc: 0.9884 - val_loss: 0.0511 - val_acc: 0.9852\n"
     ]
    }
   ],
   "source": [
    "history = model.fit(X_train_in, y_train,\n",
    "epochs = 20,\n",
    "validation_split = 0.2,\n",
    "callbacks = [early_stopping])"
   ]
  },
  {
   "cell_type": "code",
   "execution_count": 196,
   "metadata": {},
   "outputs": [
    {
     "data": {
      "text/html": [
       "<div>\n",
       "<style scoped>\n",
       "    .dataframe tbody tr th:only-of-type {\n",
       "        vertical-align: middle;\n",
       "    }\n",
       "\n",
       "    .dataframe tbody tr th {\n",
       "        vertical-align: top;\n",
       "    }\n",
       "\n",
       "    .dataframe thead th {\n",
       "        text-align: right;\n",
       "    }\n",
       "</style>\n",
       "<table border=\"1\" class=\"dataframe\">\n",
       "  <thead>\n",
       "    <tr style=\"text-align: right;\">\n",
       "      <th></th>\n",
       "      <th>loss</th>\n",
       "      <th>acc</th>\n",
       "      <th>val_loss</th>\n",
       "      <th>val_acc</th>\n",
       "    </tr>\n",
       "  </thead>\n",
       "  <tbody>\n",
       "    <tr>\n",
       "      <th>0</th>\n",
       "      <td>0.228382</td>\n",
       "      <td>0.932792</td>\n",
       "      <td>0.094416</td>\n",
       "      <td>0.970667</td>\n",
       "    </tr>\n",
       "    <tr>\n",
       "      <th>1</th>\n",
       "      <td>0.074715</td>\n",
       "      <td>0.977292</td>\n",
       "      <td>0.070145</td>\n",
       "      <td>0.980000</td>\n",
       "    </tr>\n",
       "    <tr>\n",
       "      <th>2</th>\n",
       "      <td>0.053849</td>\n",
       "      <td>0.983875</td>\n",
       "      <td>0.059392</td>\n",
       "      <td>0.981917</td>\n",
       "    </tr>\n",
       "    <tr>\n",
       "      <th>3</th>\n",
       "      <td>0.042607</td>\n",
       "      <td>0.986854</td>\n",
       "      <td>0.055842</td>\n",
       "      <td>0.985417</td>\n",
       "    </tr>\n",
       "    <tr>\n",
       "      <th>4</th>\n",
       "      <td>0.036342</td>\n",
       "      <td>0.988396</td>\n",
       "      <td>0.051079</td>\n",
       "      <td>0.985250</td>\n",
       "    </tr>\n",
       "  </tbody>\n",
       "</table>\n",
       "</div>"
      ],
      "text/plain": [
       "       loss       acc  val_loss   val_acc\n",
       "0  0.228382  0.932792  0.094416  0.970667\n",
       "1  0.074715  0.977292  0.070145  0.980000\n",
       "2  0.053849  0.983875  0.059392  0.981917\n",
       "3  0.042607  0.986854  0.055842  0.985417\n",
       "4  0.036342  0.988396  0.051079  0.985250"
      ]
     },
     "execution_count": 196,
     "metadata": {},
     "output_type": "execute_result"
    }
   ],
   "source": [
    "import pandas as pd\n",
    "df = pd.DataFrame(history.history)\n",
    "df"
   ]
  },
  {
   "cell_type": "code",
   "execution_count": 203,
   "metadata": {},
   "outputs": [
    {
     "data": {
      "image/png": "[encoded data removed]",
      "text/plain": [
       "<Figure size 720x504 with 1 Axes>"
      ]
     },
     "metadata": {
      "needs_background": "light"
     },
     "output_type": "display_data"
    }
   ],
   "source": [
    "df.plot(figsize=(10, 7))\n",
    "plt.title('loss & accuracy')\n",
    "plt.xlabel('EPOCHS')\n",
    "plt.show()"
   ]
  },
  {
   "attachments": {},
   "cell_type": "markdown",
   "metadata": {},
   "source": [
    "모델의 층별 제어"
   ]
  },
  {
   "cell_type": "code",
   "execution_count": 235,
   "metadata": {},
   "outputs": [
    {
     "data": {
      "text/plain": [
       "[<keras.layers.convolutional.Conv2D at 0x1e172754f60>,\n",
       " <keras.layers.convolutional.Conv2D at 0x1e1728a4a58>,\n",
       " <keras.layers.pooling.MaxPooling2D at 0x1e172702f98>,\n",
       " <keras.layers.core.Flatten at 0x1e1728a49e8>,\n",
       " <keras.layers.core.Dense at 0x1e17271d0f0>]"
      ]
     },
     "execution_count": 235,
     "metadata": {},
     "output_type": "execute_result"
    }
   ],
   "source": [
    "# 현재 모델의 층 객체 리스트에 담겨서 나옴\n",
    "model.layers"
   ]
  },
  {
   "cell_type": "code",
   "execution_count": 236,
   "metadata": {},
   "outputs": [
    {
     "data": {
      "text/plain": [
       "<KerasTensor: shape=(None, 28, 28, 1) dtype=float32 (created by layer 'input_10')>"
      ]
     },
     "execution_count": 236,
     "metadata": {},
     "output_type": "execute_result"
    }
   ],
   "source": [
    "# 현재 모델의 입력 객체 반환\n",
    "model.input"
   ]
  },
  {
   "cell_type": "code",
   "execution_count": 237,
   "metadata": {},
   "outputs": [
    {
     "data": {
      "text/plain": [
       "<KerasTensor: shape=(None, 10) dtype=float32 (created by layer 'dense_6')>"
      ]
     },
     "execution_count": 237,
     "metadata": {},
     "output_type": "execute_result"
    }
   ],
   "source": [
    "# 현재 모델의 출력 객체\n",
    "model.output"
   ]
  },
  {
   "attachments": {},
   "cell_type": "markdown",
   "metadata": {},
   "source": [
    "##### 레이어별 가중치 및 속성 확인"
   ]
  },
  {
   "cell_type": "code",
   "execution_count": 248,
   "metadata": {},
   "outputs": [
    {
     "data": {
      "text/plain": [
       "'conv2d_17'"
      ]
     },
     "execution_count": 248,
     "metadata": {},
     "output_type": "execute_result"
    }
   ],
   "source": [
    "model.layers[1].name"
   ]
  },
  {
   "cell_type": "code",
   "execution_count": 249,
   "metadata": {},
   "outputs": [],
   "source": [
    "conv1 = model.get_layer('conv2d_17')"
   ]
  },
  {
   "cell_type": "code",
   "execution_count": 250,
   "metadata": {},
   "outputs": [],
   "source": [
    "np.set_printoptions(floatmode = 'fixed', suppress = True)"
   ]
  },
  {
   "cell_type": "code",
   "execution_count": 251,
   "metadata": {},
   "outputs": [
    {
     "data": {
      "text/plain": [
       "[<tf.Variable 'conv2d_17/kernel:0' shape=(3, 3, 20, 20) dtype=float32, numpy=\n",
       " array([[[[ 0.04474513, -0.16629377,  0.02950069, ...,  0.03234716,\n",
       "            0.07825299, -0.06288128],\n",
       "          [-0.15608187,  0.00688631,  0.05825831, ...,  0.33552724,\n",
       "            0.07310000, -0.25749624],\n",
       "          [-0.03165846,  0.08904796,  0.31260756, ...,  0.00354776,\n",
       "            0.04919489, -0.00131781],\n",
       "          ...,\n",
       "          [ 0.13336374,  0.12997535, -0.29286245, ..., -0.25314772,\n",
       "           -0.01509587, -0.07457234],\n",
       "          [ 0.12809108,  0.16619028, -0.05275886, ..., -0.15879005,\n",
       "           -0.08571949, -0.09152397],\n",
       "          [-0.21581742, -0.07215239, -0.09912653, ..., -0.35092971,\n",
       "            0.02216159, -0.00886280]],\n",
       " \n",
       "         [[-0.32433307, -0.01930718, -0.15012754, ..., -0.25972128,\n",
       "           -0.12884755,  0.03974699],\n",
       "          [-0.24871096,  0.08830073, -0.14023259, ..., -0.17820279,\n",
       "           -0.11560114, -0.35363007],\n",
       "          [-0.27694327, -0.10291758,  0.15349251, ...,  0.07296077,\n",
       "           -0.11193371,  0.02872586],\n",
       "          ...,\n",
       "          [-0.03680160,  0.12105101,  0.11014038, ..., -0.00660376,\n",
       "            0.05486279, -0.16843659],\n",
       "          [ 0.07868817,  0.08392955,  0.20742413, ..., -0.05005733,\n",
       "           -0.00743190, -0.08263365],\n",
       "          [ 0.09851182, -0.36587307, -0.22066747, ..., -0.30374449,\n",
       "           -0.06053672,  0.07819748]],\n",
       " \n",
       "         [[-0.49200881, -0.17703871, -0.07576521, ..., -0.39938012,\n",
       "           -0.01250859,  0.05010232],\n",
       "          [-0.12955424, -0.04248187, -0.25314340, ..., -0.58142221,\n",
       "            0.04359801, -0.18468583],\n",
       "          [-0.45196745, -0.06605250, -0.13567390, ..., -0.19663656,\n",
       "            0.03157912, -0.03553670],\n",
       "          ...,\n",
       "          [-0.30725941, -0.09488392,  0.32105511, ...,  0.06939038,\n",
       "           -0.17605582, -0.01467775],\n",
       "          [-0.13598835, -0.14572315,  0.05926827, ...,  0.09482256,\n",
       "            0.03162078,  0.10978743],\n",
       "          [ 0.14484902, -0.32818380, -0.52996349, ..., -0.25188512,\n",
       "           -0.10815744,  0.01088183]]],\n",
       " \n",
       " \n",
       "        [[[-0.07194901, -0.19118248,  0.00567957, ...,  0.11703749,\n",
       "           -0.02829269, -0.04087190],\n",
       "          [-0.07810128, -0.16166127, -0.17851424, ...,  0.25254512,\n",
       "            0.01756264,  0.01276193],\n",
       "          [ 0.09452471,  0.03775627,  0.01241468, ..., -0.04079099,\n",
       "           -0.07277266, -0.30761597],\n",
       "          ...,\n",
       "          [ 0.11826695,  0.11132814,  0.23452775, ..., -0.18770319,\n",
       "            0.01557997, -0.17926501],\n",
       "          [ 0.06649386,  0.17240407,  0.06733814, ..., -0.09865107,\n",
       "            0.04376410, -0.12588125],\n",
       "          [-0.26745084, -0.31139007, -0.45171800, ..., -0.49101999,\n",
       "            0.00400359, -0.27698579]],\n",
       " \n",
       "         [[-0.42648298,  0.03716229, -0.27512261, ..., -0.04265056,\n",
       "            0.01938227,  0.17828563],\n",
       "          [-0.24933164,  0.03533252, -0.39265236, ..., -0.05206878,\n",
       "           -0.07425515,  0.00468269],\n",
       "          [-0.13870874,  0.09660970, -0.24034761, ..., -0.03580637,\n",
       "            0.12320701, -0.03744986],\n",
       "          ...,\n",
       "          [ 0.03209854, -0.12048142,  0.28193936, ..., -0.08336148,\n",
       "           -0.00282174, -0.37613678],\n",
       "          [ 0.09146857, -0.05326409,  0.09546564, ..., -0.20364532,\n",
       "            0.06731378, -0.00084425],\n",
       "          [-0.23973638, -0.39892972, -0.28847975, ..., -0.24327415,\n",
       "           -0.09705437,  0.03162469]],\n",
       " \n",
       "         [[-0.34648472,  0.21136348, -0.06602155, ..., -0.08911550,\n",
       "           -0.09427886,  0.08543210],\n",
       "          [-0.20424719,  0.00651913, -0.14499497, ..., -0.61845618,\n",
       "           -0.01396155, -0.21916366],\n",
       "          [-0.50932258,  0.01689659, -0.12679458, ..., -0.19901139,\n",
       "            0.16421552,  0.12855190],\n",
       "          ...,\n",
       "          [-0.23570432, -0.27547309, -0.10462363, ..., -0.15468512,\n",
       "           -0.10550510, -0.09884539],\n",
       "          [-0.12342183, -0.23509745, -0.01679801, ...,  0.16665068,\n",
       "           -0.00528679, -0.11722604],\n",
       "          [-0.21871555, -0.11013304, -0.22026722, ...,  0.12241121,\n",
       "           -0.17477512,  0.01365260]]],\n",
       " \n",
       " \n",
       "        [[[-0.13094187, -0.35252464, -0.06924845, ...,  0.14810608,\n",
       "           -0.00848622, -0.18094805],\n",
       "          [-0.25653586, -0.29189774, -0.07263932, ...,  0.35860887,\n",
       "           -0.04494415, -0.02927182],\n",
       "          [-0.03451753, -0.13505989,  0.02372944, ...,  0.06178919,\n",
       "            0.07824210, -0.19677629],\n",
       "          ...,\n",
       "          [ 0.10284786, -0.04482789,  0.07850935, ..., -0.03916608,\n",
       "           -0.08878790, -0.02936212],\n",
       "          [ 0.18893009,  0.04891558,  0.13037354, ..., -0.08706890,\n",
       "           -0.06779671, -0.02199917],\n",
       "          [-0.22068417, -0.34545377, -0.44391340, ..., -0.61125916,\n",
       "           -0.10941219, -0.08389721]],\n",
       " \n",
       "         [[-0.30375943, -0.18764584, -0.14031582, ...,  0.07688771,\n",
       "           -0.07125576, -0.10943395],\n",
       "          [-0.17373875,  0.09287116, -0.20396407, ..., -0.03685767,\n",
       "           -0.06888659,  0.06920471],\n",
       "          [-0.32077792, -0.04039499, -0.20696156, ..., -0.18157887,\n",
       "            0.03931874, -0.20556949],\n",
       "          ...,\n",
       "          [ 0.00165156,  0.10144174, -0.20357358, ..., -0.30605876,\n",
       "           -0.00034130, -0.05876929],\n",
       "          [ 0.14327814, -0.06080369,  0.04699592, ..., -0.13172626,\n",
       "            0.13887508, -0.05829940],\n",
       "          [-0.19968390, -0.41023603,  0.04375741, ..., -0.29721788,\n",
       "           -0.04459167, -0.12965341]],\n",
       " \n",
       "         [[-0.38190451,  0.27554974,  0.18433686, ...,  0.02696451,\n",
       "           -0.12073663,  0.03039416],\n",
       "          [ 0.03226752,  0.21540365, -0.17106071, ..., -0.30540574,\n",
       "           -0.25928262, -0.02731024],\n",
       "          [-0.43280041,  0.10781598,  0.23345993, ...,  0.08537566,\n",
       "           -0.02856743,  0.13076082],\n",
       "          ...,\n",
       "          [-0.27664831, -0.24594150, -0.39024922, ..., -0.22035465,\n",
       "            0.04684947, -0.11359561],\n",
       "          [-0.23240599, -0.09384631,  0.02949473, ...,  0.17097713,\n",
       "            0.07260348,  0.13505572],\n",
       "          [-0.32365510, -0.42315012,  0.20448911, ...,  0.20535293,\n",
       "           -0.18993710,  0.08562283]]]], dtype=float32)>,\n",
       " <tf.Variable 'conv2d_17/bias:0' shape=(20,) dtype=float32, numpy=\n",
       " array([ 0.02404044, -0.07390041, -0.04102416,  0.00191451, -0.05530526,\n",
       "        -0.04731790, -0.06837267, -0.05449538, -0.05488573, -0.00281105,\n",
       "        -0.05316432,  0.04422406, -0.05080190, -0.04563070, -0.08427986,\n",
       "        -0.09568906, -0.10677850, -0.13186170, -0.02241916, -0.09480731],\n",
       "       dtype=float32)>]"
      ]
     },
     "execution_count": 251,
     "metadata": {},
     "output_type": "execute_result"
    }
   ],
   "source": [
    "conv1.weights"
   ]
  },
  {
   "cell_type": "code",
   "execution_count": 252,
   "metadata": {},
   "outputs": [
    {
     "data": {
      "text/plain": [
       "<KerasTensor: shape=(None, 24, 24, 20) dtype=float32 (created by layer 'conv2d_17')>"
      ]
     },
     "execution_count": 252,
     "metadata": {},
     "output_type": "execute_result"
    }
   ],
   "source": [
    "conv1.output"
   ]
  },
  {
   "cell_type": "code",
   "execution_count": 253,
   "metadata": {},
   "outputs": [
    {
     "data": {
      "text/plain": [
       "TensorShape([None, 24, 24, 20])"
      ]
     },
     "execution_count": 253,
     "metadata": {},
     "output_type": "execute_result"
    }
   ],
   "source": [
    "conv1.output.shape"
   ]
  },
  {
   "attachments": {},
   "cell_type": "markdown",
   "metadata": {},
   "source": [
    "##### 특성맵 추출"
   ]
  },
  {
   "cell_type": "code",
   "execution_count": 254,
   "metadata": {},
   "outputs": [],
   "source": [
    "mapModel = Model(inputs = model.input, outputs = [conv1.output])"
   ]
  },
  {
   "cell_type": "code",
   "execution_count": 256,
   "metadata": {},
   "outputs": [
    {
     "data": {
      "text/plain": [
       "(28, 28, 1)"
      ]
     },
     "execution_count": 256,
     "metadata": {},
     "output_type": "execute_result"
    }
   ],
   "source": [
    "X_train_in[0].shape"
   ]
  },
  {
   "cell_type": "code",
   "execution_count": 264,
   "metadata": {},
   "outputs": [
    {
     "data": {
      "text/plain": [
       "array([[[[-0.07194646, -0.13833603, -0.24519949, ..., -0.26097962,\n",
       "          -0.11110697, -0.12565166],\n",
       "         [-0.07194646, -0.13833603, -0.24519949, ..., -0.26097962,\n",
       "          -0.11110697, -0.12565166],\n",
       "         [-0.07194646, -0.13833603, -0.24519949, ..., -0.26097962,\n",
       "          -0.11110697, -0.12565166],\n",
       "         ...,\n",
       "         [-0.07194646, -0.13833603, -0.24519949, ..., -0.26097962,\n",
       "          -0.11110697, -0.12565166],\n",
       "         [-0.07194646, -0.13833603, -0.24519949, ..., -0.26097962,\n",
       "          -0.11110697, -0.12565166],\n",
       "         [-0.07194646, -0.13833603, -0.24519949, ..., -0.26097962,\n",
       "          -0.11110697, -0.12565166]],\n",
       "\n",
       "        [[-0.07194646, -0.13833603, -0.24519949, ..., -0.26097962,\n",
       "          -0.11110697, -0.12565166],\n",
       "         [-0.07194646, -0.13833603, -0.24519949, ..., -0.26097962,\n",
       "          -0.11110697, -0.12565166],\n",
       "         [-0.07194646, -0.13833603, -0.24519949, ..., -0.26097962,\n",
       "          -0.11110697, -0.12565166],\n",
       "         ...,\n",
       "         [-0.05947010, -0.37716088, -0.06635236, ..., -0.43341842,\n",
       "          -0.10142273, -0.37273908],\n",
       "         [ 0.10598002, -0.17655604, -0.13901423, ..., -0.43526348,\n",
       "          -0.10418629, -0.27815038],\n",
       "         [-0.03439072, -0.13000081, -0.21758008, ..., -0.32272664,\n",
       "          -0.10856273, -0.15981251]],\n",
       "\n",
       "        [[-0.07194646, -0.13833603, -0.24519949, ..., -0.26097962,\n",
       "          -0.11110697, -0.12565166],\n",
       "         [-0.07194646, -0.13833603, -0.24519949, ..., -0.26097962,\n",
       "          -0.11110697, -0.12565166],\n",
       "         [-0.07194646, -0.13833603, -0.24519949, ..., -0.26097962,\n",
       "          -0.11110697, -0.12565166],\n",
       "         ...,\n",
       "         [ 0.45589739, -0.56752574, -0.09485532, ..., -0.64670557,\n",
       "          -0.17421871, -0.67452139],\n",
       "         [ 0.69391394, -0.19098572, -0.12274375, ..., -0.72224408,\n",
       "          -0.15317068, -0.49715900],\n",
       "         [-0.00676508, -0.10963451, -0.21385597, ..., -0.43689796,\n",
       "          -0.12291676, -0.22944355]],\n",
       "\n",
       "        ...,\n",
       "\n",
       "        [[-0.22380407, -0.03145892, -0.25187317, ..., -0.32205531,\n",
       "          -0.11711418, -0.09459709],\n",
       "         [-0.63248819,  0.35647109, -0.44622847, ..., -0.46609783,\n",
       "          -0.12040813, -0.06731005],\n",
       "         [-0.96680701, -0.02285542, -0.77413863, ..., -0.37169418,\n",
       "          -0.07581979, -0.05552442],\n",
       "         ...,\n",
       "         [-0.07194646, -0.13833603, -0.24519949, ..., -0.26097962,\n",
       "          -0.11110697, -0.12565166],\n",
       "         [-0.07194646, -0.13833603, -0.24519949, ..., -0.26097962,\n",
       "          -0.11110697, -0.12565166],\n",
       "         [-0.07194646, -0.13833603, -0.24519949, ..., -0.26097962,\n",
       "          -0.11110697, -0.12565166]],\n",
       "\n",
       "        [[-0.27603677, -0.11713705, -0.34089366, ..., -0.44792658,\n",
       "          -0.08545934, -0.13193795],\n",
       "         [-0.69008201, -0.05786115, -0.63782138, ..., -0.77568883,\n",
       "          -0.06460996, -0.19867781],\n",
       "         [-0.83210868, -0.09325225, -0.81138116, ..., -0.72266448,\n",
       "          -0.05795325, -0.23043147],\n",
       "         ...,\n",
       "         [-0.07194646, -0.13833603, -0.24519949, ..., -0.26097962,\n",
       "          -0.11110697, -0.12565166],\n",
       "         [-0.07194646, -0.13833603, -0.24519949, ..., -0.26097962,\n",
       "          -0.11110697, -0.12565166],\n",
       "         [-0.07194646, -0.13833603, -0.24519949, ..., -0.26097962,\n",
       "          -0.11110697, -0.12565166]],\n",
       "\n",
       "        [[-0.23697205, -0.16972867, -0.28914955, ..., -0.39639822,\n",
       "          -0.07171989, -0.16633235],\n",
       "         [-0.52357829, -0.15226035, -0.31262168, ..., -0.59759367,\n",
       "          -0.06504907, -0.31296265],\n",
       "         [-0.58420914, -0.08472109, -0.14875035, ..., -0.56963742,\n",
       "          -0.09072842, -0.47738662],\n",
       "         ...,\n",
       "         [-0.07194646, -0.13833603, -0.24519949, ..., -0.26097962,\n",
       "          -0.11110697, -0.12565166],\n",
       "         [-0.07194646, -0.13833603, -0.24519949, ..., -0.26097962,\n",
       "          -0.11110697, -0.12565166],\n",
       "         [-0.07194646, -0.13833603, -0.24519949, ..., -0.26097962,\n",
       "          -0.11110697, -0.12565166]]]], dtype=float32)"
      ]
     },
     "execution_count": 264,
     "metadata": {},
     "output_type": "execute_result"
    }
   ],
   "source": [
    "mapModel.predict(X_train_in[0][tf.newaxis])"
   ]
  },
  {
   "attachments": {},
   "cell_type": "markdown",
   "metadata": {},
   "source": [
    "##### 시각화"
   ]
  },
  {
   "cell_type": "code",
   "execution_count": 210,
   "metadata": {},
   "outputs": [
    {
     "data": {
      "image/png": "[encoded data removed]",
      "text/plain": [
       "<Figure size 432x288 with 1 Axes>"
      ]
     },
     "metadata": {
      "needs_background": "light"
     },
     "output_type": "display_data"
    }
   ],
   "source": [
    "plt.imshow(X_test[0], cmap='binary')\n",
    "plt.axis('off')\n",
    "plt.show()"
   ]
  },
  {
   "cell_type": "code",
   "execution_count": 216,
   "metadata": {},
   "outputs": [],
   "source": [
    "new_data = X_test[0].reshape(-1, 28, 28, 1)"
   ]
  },
  {
   "cell_type": "code",
   "execution_count": 219,
   "metadata": {},
   "outputs": [
    {
     "data": {
      "text/plain": [
       "7"
      ]
     },
     "execution_count": 219,
     "metadata": {},
     "output_type": "execute_result"
    }
   ],
   "source": [
    "model.predict(new_data).argmax()"
   ]
  },
  {
   "cell_type": "code",
   "execution_count": 234,
   "metadata": {},
   "outputs": [
    {
     "data": {
      "image/png": "[encoded data removed]",
      "text/plain": [
       "<Figure size 1440x360 with 10 Axes>"
      ]
     },
     "metadata": {},
     "output_type": "display_data"
    }
   ],
   "source": [
    "fig = plt.figure(figsize=(20, 5))\n",
    "for i in range(10):\n",
    "    new_data = X_test[i].reshape(-1, 28, 28, 1)\n",
    "\n",
    "    ax = fig.add_subplot(1, 10, i+1, xticks=[], yticks=[])\n",
    "    plt.title(f'origin : predict : {model.predict(new_data).argmax()}')\n",
    "    ax.imshow(X_test[i], cmap='binary')\n",
    "    ax.axis('off')"
   ]
  },
  {
   "cell_type": "code",
   "execution_count": null,
   "metadata": {},
   "outputs": [],
   "source": []
  }
 ],
 "metadata": {
  "kernelspec": {
   "display_name": "DL",
   "language": "python",
   "name": "python3"
  },
  "language_info": {
   "codemirror_mode": {
    "name": "ipython",
    "version": 3
   },
   "file_extension": ".py",
   "mimetype": "text/x-python",
   "name": "python",
   "nbconvert_exporter": "python",
   "pygments_lexer": "ipython3",
   "version": "3.6.13"
  },
  "orig_nbformat": 4
 },
 "nbformat": 4,
 "nbformat_minor": 2
}
