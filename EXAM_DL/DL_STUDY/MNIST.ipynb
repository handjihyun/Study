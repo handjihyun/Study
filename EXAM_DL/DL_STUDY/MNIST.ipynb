{
 "cells": [
  {
   "cell_type": "markdown",
   "id": "cafb279e",
   "metadata": {},
   "source": [
    "### 📌MNIST 데이터셋을 활용한 손글씨 숫자 인식"
   ]
  },
  {
   "cell_type": "code",
   "execution_count": 1,
   "id": "5310315c",
   "metadata": {},
   "outputs": [],
   "source": [
    "from tensorflow.keras.datasets.mnist import load_data"
   ]
  },
  {
   "cell_type": "code",
   "execution_count": 2,
   "id": "fc94c995",
   "metadata": {},
   "outputs": [
    {
     "data": {
      "text/plain": [
       "((array([[[0, 0, 0, ..., 0, 0, 0],\n",
       "          [0, 0, 0, ..., 0, 0, 0],\n",
       "          [0, 0, 0, ..., 0, 0, 0],\n",
       "          ...,\n",
       "          [0, 0, 0, ..., 0, 0, 0],\n",
       "          [0, 0, 0, ..., 0, 0, 0],\n",
       "          [0, 0, 0, ..., 0, 0, 0]],\n",
       "  \n",
       "         [[0, 0, 0, ..., 0, 0, 0],\n",
       "          [0, 0, 0, ..., 0, 0, 0],\n",
       "          [0, 0, 0, ..., 0, 0, 0],\n",
       "          ...,\n",
       "          [0, 0, 0, ..., 0, 0, 0],\n",
       "          [0, 0, 0, ..., 0, 0, 0],\n",
       "          [0, 0, 0, ..., 0, 0, 0]],\n",
       "  \n",
       "         [[0, 0, 0, ..., 0, 0, 0],\n",
       "          [0, 0, 0, ..., 0, 0, 0],\n",
       "          [0, 0, 0, ..., 0, 0, 0],\n",
       "          ...,\n",
       "          [0, 0, 0, ..., 0, 0, 0],\n",
       "          [0, 0, 0, ..., 0, 0, 0],\n",
       "          [0, 0, 0, ..., 0, 0, 0]],\n",
       "  \n",
       "         ...,\n",
       "  \n",
       "         [[0, 0, 0, ..., 0, 0, 0],\n",
       "          [0, 0, 0, ..., 0, 0, 0],\n",
       "          [0, 0, 0, ..., 0, 0, 0],\n",
       "          ...,\n",
       "          [0, 0, 0, ..., 0, 0, 0],\n",
       "          [0, 0, 0, ..., 0, 0, 0],\n",
       "          [0, 0, 0, ..., 0, 0, 0]],\n",
       "  \n",
       "         [[0, 0, 0, ..., 0, 0, 0],\n",
       "          [0, 0, 0, ..., 0, 0, 0],\n",
       "          [0, 0, 0, ..., 0, 0, 0],\n",
       "          ...,\n",
       "          [0, 0, 0, ..., 0, 0, 0],\n",
       "          [0, 0, 0, ..., 0, 0, 0],\n",
       "          [0, 0, 0, ..., 0, 0, 0]],\n",
       "  \n",
       "         [[0, 0, 0, ..., 0, 0, 0],\n",
       "          [0, 0, 0, ..., 0, 0, 0],\n",
       "          [0, 0, 0, ..., 0, 0, 0],\n",
       "          ...,\n",
       "          [0, 0, 0, ..., 0, 0, 0],\n",
       "          [0, 0, 0, ..., 0, 0, 0],\n",
       "          [0, 0, 0, ..., 0, 0, 0]]], dtype=uint8),\n",
       "  array([5, 0, 4, ..., 5, 6, 8], dtype=uint8)),\n",
       " (array([[[0, 0, 0, ..., 0, 0, 0],\n",
       "          [0, 0, 0, ..., 0, 0, 0],\n",
       "          [0, 0, 0, ..., 0, 0, 0],\n",
       "          ...,\n",
       "          [0, 0, 0, ..., 0, 0, 0],\n",
       "          [0, 0, 0, ..., 0, 0, 0],\n",
       "          [0, 0, 0, ..., 0, 0, 0]],\n",
       "  \n",
       "         [[0, 0, 0, ..., 0, 0, 0],\n",
       "          [0, 0, 0, ..., 0, 0, 0],\n",
       "          [0, 0, 0, ..., 0, 0, 0],\n",
       "          ...,\n",
       "          [0, 0, 0, ..., 0, 0, 0],\n",
       "          [0, 0, 0, ..., 0, 0, 0],\n",
       "          [0, 0, 0, ..., 0, 0, 0]],\n",
       "  \n",
       "         [[0, 0, 0, ..., 0, 0, 0],\n",
       "          [0, 0, 0, ..., 0, 0, 0],\n",
       "          [0, 0, 0, ..., 0, 0, 0],\n",
       "          ...,\n",
       "          [0, 0, 0, ..., 0, 0, 0],\n",
       "          [0, 0, 0, ..., 0, 0, 0],\n",
       "          [0, 0, 0, ..., 0, 0, 0]],\n",
       "  \n",
       "         ...,\n",
       "  \n",
       "         [[0, 0, 0, ..., 0, 0, 0],\n",
       "          [0, 0, 0, ..., 0, 0, 0],\n",
       "          [0, 0, 0, ..., 0, 0, 0],\n",
       "          ...,\n",
       "          [0, 0, 0, ..., 0, 0, 0],\n",
       "          [0, 0, 0, ..., 0, 0, 0],\n",
       "          [0, 0, 0, ..., 0, 0, 0]],\n",
       "  \n",
       "         [[0, 0, 0, ..., 0, 0, 0],\n",
       "          [0, 0, 0, ..., 0, 0, 0],\n",
       "          [0, 0, 0, ..., 0, 0, 0],\n",
       "          ...,\n",
       "          [0, 0, 0, ..., 0, 0, 0],\n",
       "          [0, 0, 0, ..., 0, 0, 0],\n",
       "          [0, 0, 0, ..., 0, 0, 0]],\n",
       "  \n",
       "         [[0, 0, 0, ..., 0, 0, 0],\n",
       "          [0, 0, 0, ..., 0, 0, 0],\n",
       "          [0, 0, 0, ..., 0, 0, 0],\n",
       "          ...,\n",
       "          [0, 0, 0, ..., 0, 0, 0],\n",
       "          [0, 0, 0, ..., 0, 0, 0],\n",
       "          [0, 0, 0, ..., 0, 0, 0]]], dtype=uint8),\n",
       "  array([7, 2, 1, ..., 4, 5, 6], dtype=uint8)))"
      ]
     },
     "execution_count": 2,
     "metadata": {},
     "output_type": "execute_result"
    }
   ],
   "source": [
    "mnist = load_data()\n",
    "mnist"
   ]
  },
  {
   "cell_type": "code",
   "execution_count": 3,
   "id": "bf2cef08",
   "metadata": {},
   "outputs": [],
   "source": [
    "(X_train, y_train), (X_test, y_test) = mnist"
   ]
  },
  {
   "cell_type": "code",
   "execution_count": 4,
   "id": "a5b09c73",
   "metadata": {},
   "outputs": [
    {
     "data": {
      "text/plain": [
       "((60000, 28, 28), (10000, 28, 28), (60000,), (10000,))"
      ]
     },
     "execution_count": 4,
     "metadata": {},
     "output_type": "execute_result"
    }
   ],
   "source": [
    "X_train.shape, X_test.shape, y_train.shape, y_test.shape"
   ]
  },
  {
   "cell_type": "code",
   "execution_count": 5,
   "id": "e8d0f655",
   "metadata": {},
   "outputs": [],
   "source": [
    "X_train = X_train / 255\n",
    "X_test = X_test / 255"
   ]
  },
  {
   "cell_type": "code",
   "execution_count": 6,
   "id": "b265dd2e",
   "metadata": {},
   "outputs": [],
   "source": [
    "import matplotlib.pyplot as plt"
   ]
  },
  {
   "cell_type": "code",
   "execution_count": 7,
   "id": "dec20c87",
   "metadata": {},
   "outputs": [
    {
     "data": {
      "image/png": "[encoded data removed]",
      "text/plain": [
       "<Figure size 200x200 with 1 Axes>"
      ]
     },
     "metadata": {},
     "output_type": "display_data"
    }
   ],
   "source": [
    "plt.figure(figsize=(2, 2))\n",
    "plt.imshow(X_train[0])\n",
    "plt.axis('off')\n",
    "plt.show()"
   ]
  },
  {
   "cell_type": "code",
   "execution_count": 8,
   "id": "78ce684c",
   "metadata": {},
   "outputs": [],
   "source": [
    "from tensorflow.keras.models import Sequential\n",
    "from tensorflow.keras.layers import Flatten, Dense"
   ]
  },
  {
   "cell_type": "code",
   "execution_count": 9,
   "id": "a030c570",
   "metadata": {},
   "outputs": [],
   "source": [
    "model = Sequential()"
   ]
  },
  {
   "cell_type": "code",
   "execution_count": 10,
   "id": "e980b9f2",
   "metadata": {},
   "outputs": [],
   "source": [
    "model.add(Flatten(input_shape=(28, 28)))\n",
    "model.add(Dense(64, activation = 'relu'))\n",
    "model.add(Dense(32, activation = 'relu'))\n",
    "model.add(Dense(10, activation = 'softmax'))"
   ]
  },
  {
   "cell_type": "code",
   "execution_count": 11,
   "id": "529bf3f0",
   "metadata": {},
   "outputs": [
    {
     "name": "stdout",
     "output_type": "stream",
     "text": [
      "Model: \"sequential\"\n",
      "_________________________________________________________________\n",
      " Layer (type)                Output Shape              Param #   \n",
      "=================================================================\n",
      " flatten (Flatten)           (None, 784)               0         \n",
      "                                                                 \n",
      " dense (Dense)               (None, 64)                50240     \n",
      "                                                                 \n",
      " dense_1 (Dense)             (None, 32)                2080      \n",
      "                                                                 \n",
      " dense_2 (Dense)             (None, 10)                330       \n",
      "                                                                 \n",
      "=================================================================\n",
      "Total params: 52,650\n",
      "Trainable params: 52,650\n",
      "Non-trainable params: 0\n",
      "_________________________________________________________________\n"
     ]
    }
   ],
   "source": [
    "model.summary()"
   ]
  },
  {
   "cell_type": "code",
   "execution_count": 12,
   "id": "2c8693b7",
   "metadata": {},
   "outputs": [],
   "source": [
    "model.compile(optimizer = 'adam',\n",
    "             metrics = ['acc'],\n",
    "             loss = 'sparse_categorical_crossentropy')"
   ]
  },
  {
   "cell_type": "code",
   "execution_count": 13,
   "id": "2baebc41",
   "metadata": {},
   "outputs": [
    {
     "name": "stdout",
     "output_type": "stream",
     "text": [
      "Epoch 1/10\n",
      "1500/1500 [==============================] - 2s 1ms/step - loss: 0.3256 - acc: 0.9069 - val_loss: 0.1630 - val_acc: 0.9538\n",
      "Epoch 2/10\n",
      "1500/1500 [==============================] - 2s 993us/step - loss: 0.1439 - acc: 0.9577 - val_loss: 0.1257 - val_acc: 0.9618\n",
      "Epoch 3/10\n",
      "1500/1500 [==============================] - 1s 988us/step - loss: 0.1043 - acc: 0.9691 - val_loss: 0.1162 - val_acc: 0.9656\n",
      "Epoch 4/10\n",
      "1500/1500 [==============================] - 1s 995us/step - loss: 0.0816 - acc: 0.9759 - val_loss: 0.1046 - val_acc: 0.9696\n",
      "Epoch 5/10\n",
      "1500/1500 [==============================] - 2s 999us/step - loss: 0.0673 - acc: 0.9794 - val_loss: 0.1027 - val_acc: 0.9697\n",
      "Epoch 6/10\n",
      "1500/1500 [==============================] - 1s 990us/step - loss: 0.0538 - acc: 0.9833 - val_loss: 0.1120 - val_acc: 0.9668\n",
      "Epoch 7/10\n",
      "1500/1500 [==============================] - 2s 1ms/step - loss: 0.0451 - acc: 0.9859 - val_loss: 0.0965 - val_acc: 0.9722\n",
      "Epoch 8/10\n",
      "1500/1500 [==============================] - 2s 1ms/step - loss: 0.0391 - acc: 0.9871 - val_loss: 0.0972 - val_acc: 0.9741\n",
      "Epoch 9/10\n",
      "1500/1500 [==============================] - 2s 1ms/step - loss: 0.0326 - acc: 0.9899 - val_loss: 0.1061 - val_acc: 0.9727\n",
      "Epoch 10/10\n",
      "1500/1500 [==============================] - 2s 1ms/step - loss: 0.0286 - acc: 0.9906 - val_loss: 0.1110 - val_acc: 0.9712\n"
     ]
    }
   ],
   "source": [
    "history = model.fit(X_train, y_train,\n",
    "          validation_split=0.2,\n",
    "         epochs = 10)"
   ]
  },
  {
   "cell_type": "code",
   "execution_count": 14,
   "id": "34998df8",
   "metadata": {},
   "outputs": [],
   "source": [
    "import pandas as pd"
   ]
  },
  {
   "cell_type": "code",
   "execution_count": 15,
   "id": "ec95f8a5",
   "metadata": {},
   "outputs": [
    {
     "data": {
      "text/html": [
       "<div>\n",
       "<style scoped>\n",
       "    .dataframe tbody tr th:only-of-type {\n",
       "        vertical-align: middle;\n",
       "    }\n",
       "\n",
       "    .dataframe tbody tr th {\n",
       "        vertical-align: top;\n",
       "    }\n",
       "\n",
       "    .dataframe thead th {\n",
       "        text-align: right;\n",
       "    }\n",
       "</style>\n",
       "<table border=\"1\" class=\"dataframe\">\n",
       "  <thead>\n",
       "    <tr style=\"text-align: right;\">\n",
       "      <th></th>\n",
       "      <th>loss</th>\n",
       "      <th>acc</th>\n",
       "      <th>val_loss</th>\n",
       "      <th>val_acc</th>\n",
       "    </tr>\n",
       "  </thead>\n",
       "  <tbody>\n",
       "    <tr>\n",
       "      <th>0</th>\n",
       "      <td>0.325621</td>\n",
       "      <td>0.906875</td>\n",
       "      <td>0.162973</td>\n",
       "      <td>0.953750</td>\n",
       "    </tr>\n",
       "    <tr>\n",
       "      <th>1</th>\n",
       "      <td>0.143882</td>\n",
       "      <td>0.957687</td>\n",
       "      <td>0.125718</td>\n",
       "      <td>0.961833</td>\n",
       "    </tr>\n",
       "    <tr>\n",
       "      <th>2</th>\n",
       "      <td>0.104297</td>\n",
       "      <td>0.969083</td>\n",
       "      <td>0.116179</td>\n",
       "      <td>0.965583</td>\n",
       "    </tr>\n",
       "    <tr>\n",
       "      <th>3</th>\n",
       "      <td>0.081621</td>\n",
       "      <td>0.975917</td>\n",
       "      <td>0.104647</td>\n",
       "      <td>0.969583</td>\n",
       "    </tr>\n",
       "    <tr>\n",
       "      <th>4</th>\n",
       "      <td>0.067257</td>\n",
       "      <td>0.979437</td>\n",
       "      <td>0.102683</td>\n",
       "      <td>0.969750</td>\n",
       "    </tr>\n",
       "    <tr>\n",
       "      <th>5</th>\n",
       "      <td>0.053795</td>\n",
       "      <td>0.983271</td>\n",
       "      <td>0.111992</td>\n",
       "      <td>0.966750</td>\n",
       "    </tr>\n",
       "    <tr>\n",
       "      <th>6</th>\n",
       "      <td>0.045128</td>\n",
       "      <td>0.985854</td>\n",
       "      <td>0.096544</td>\n",
       "      <td>0.972250</td>\n",
       "    </tr>\n",
       "    <tr>\n",
       "      <th>7</th>\n",
       "      <td>0.039132</td>\n",
       "      <td>0.987083</td>\n",
       "      <td>0.097233</td>\n",
       "      <td>0.974083</td>\n",
       "    </tr>\n",
       "    <tr>\n",
       "      <th>8</th>\n",
       "      <td>0.032612</td>\n",
       "      <td>0.989875</td>\n",
       "      <td>0.106073</td>\n",
       "      <td>0.972667</td>\n",
       "    </tr>\n",
       "    <tr>\n",
       "      <th>9</th>\n",
       "      <td>0.028558</td>\n",
       "      <td>0.990583</td>\n",
       "      <td>0.110996</td>\n",
       "      <td>0.971167</td>\n",
       "    </tr>\n",
       "  </tbody>\n",
       "</table>\n",
       "</div>"
      ],
      "text/plain": [
       "       loss       acc  val_loss   val_acc\n",
       "0  0.325621  0.906875  0.162973  0.953750\n",
       "1  0.143882  0.957687  0.125718  0.961833\n",
       "2  0.104297  0.969083  0.116179  0.965583\n",
       "3  0.081621  0.975917  0.104647  0.969583\n",
       "4  0.067257  0.979437  0.102683  0.969750\n",
       "5  0.053795  0.983271  0.111992  0.966750\n",
       "6  0.045128  0.985854  0.096544  0.972250\n",
       "7  0.039132  0.987083  0.097233  0.974083\n",
       "8  0.032612  0.989875  0.106073  0.972667\n",
       "9  0.028558  0.990583  0.110996  0.971167"
      ]
     },
     "execution_count": 15,
     "metadata": {},
     "output_type": "execute_result"
    }
   ],
   "source": [
    "history_df = pd.DataFrame(history.history)\n",
    "history_df"
   ]
  },
  {
   "cell_type": "code",
   "execution_count": 16,
   "id": "20c7ef5f",
   "metadata": {},
   "outputs": [
    {
     "data": {
      "image/png": "[encoded data removed]",
      "text/plain": [
       "<Figure size 640x480 with 2 Axes>"
      ]
     },
     "metadata": {},
     "output_type": "display_data"
    }
   ],
   "source": [
    "plt.subplot(1, 2, 1)\n",
    "plt.plot(history_df['loss'])\n",
    "plt.plot(history_df['val_loss'])\n",
    "plt.title('LOSS')\n",
    "plt.legend(['Train', 'Valid'])\n",
    "\n",
    "plt.subplot(1, 2, 2)\n",
    "plt.plot(history_df['acc'])\n",
    "plt.plot(history_df['val_acc'])\n",
    "plt.title('Accuracy')\n",
    "plt.legend(['Train', 'Valid'])\n",
    "plt.show()"
   ]
  },
  {
   "cell_type": "code",
   "execution_count": 17,
   "id": "54148784",
   "metadata": {
    "scrolled": true
   },
   "outputs": [
    {
     "name": "stdout",
     "output_type": "stream",
     "text": [
      "313/313 [==============================] - 0s 548us/step\n"
     ]
    },
    {
     "data": {
      "text/plain": [
       "array([[3.7727929e-08, 2.2838745e-07, 9.7588122e-07, ..., 9.9990630e-01,\n",
       "        1.5341510e-06, 1.7223066e-06],\n",
       "       [5.0137308e-09, 8.9262849e-06, 9.9999082e-01, ..., 6.8325448e-09,\n",
       "        2.8039357e-10, 3.0819455e-19],\n",
       "       [3.2870965e-05, 9.9759102e-01, 7.5935357e-05, ..., 9.8119467e-04,\n",
       "        5.3405523e-04, 3.0775944e-04],\n",
       "       ...,\n",
       "       [1.0346430e-12, 2.9921197e-09, 1.3665333e-13, ..., 1.6050318e-08,\n",
       "        1.4118280e-09, 7.5036747e-05],\n",
       "       [7.8243273e-11, 3.8911239e-11, 6.7889033e-14, ..., 2.4460512e-13,\n",
       "        4.1845936e-08, 1.3471265e-11],\n",
       "       [1.0643130e-09, 7.0789370e-13, 8.8296246e-14, ..., 4.2401659e-16,\n",
       "        7.9976505e-14, 3.7138532e-13]], dtype=float32)"
      ]
     },
     "execution_count": 17,
     "metadata": {},
     "output_type": "execute_result"
    }
   ],
   "source": [
    "y_pre = model.predict(X_test)\n",
    "y_pre"
   ]
  },
  {
   "cell_type": "code",
   "execution_count": 19,
   "id": "89e5d391",
   "metadata": {},
   "outputs": [],
   "source": [
    "import numpy as np"
   ]
  },
  {
   "cell_type": "code",
   "execution_count": 20,
   "id": "a25bef47",
   "metadata": {},
   "outputs": [
    {
     "data": {
      "image/png": "[encoded data removed]",
      "text/plain": [
       "<Figure size 2000x500 with 10 Axes>"
      ]
     },
     "metadata": {},
     "output_type": "display_data"
    }
   ],
   "source": [
    "fig = plt.figure(figsize=(20, 5))\n",
    "\n",
    "for i in range(10):\n",
    "    ax = fig.add_subplot(2, 5, i+1, xticks=[], yticks=[])\n",
    "    ax.imshow(X_test[i])\n",
    "    plt.title(f'real : {y_test[i]}\\n predict : {np.argmax(y_pre[i])}')"
   ]
  },
  {
   "cell_type": "markdown",
   "id": "6b942b22",
   "metadata": {},
   "source": [
    "### 📌합성곱 신경망 모델"
   ]
  },
  {
   "cell_type": "code",
   "execution_count": 21,
   "id": "538eed44",
   "metadata": {},
   "outputs": [],
   "source": [
    "import tensorflow as tf"
   ]
  },
  {
   "cell_type": "code",
   "execution_count": 22,
   "id": "f3a615ca",
   "metadata": {},
   "outputs": [
    {
     "name": "stdout",
     "output_type": "stream",
     "text": [
      "0.0 1.0\n",
      "0.0 1.0\n"
     ]
    }
   ],
   "source": [
    "print(X_train.min(), X_train.max())\n",
    "print(X_test.min(), X_test.max())"
   ]
  },
  {
   "cell_type": "code",
   "execution_count": 23,
   "id": "f3c52185",
   "metadata": {},
   "outputs": [
    {
     "name": "stdout",
     "output_type": "stream",
     "text": [
      "(60000, 28, 28) (10000, 28, 28)\n",
      "(60000, 28, 28, 1) (10000, 28, 28, 1)\n"
     ]
    }
   ],
   "source": [
    "# mnist 데이터 셋에 채널 추가\n",
    "print(X_train.shape, X_test.shape)\n",
    "\n",
    "X_train_in = X_train[..., tf.newaxis]\n",
    "X_test_in = X_test[..., tf.newaxis]\n",
    "\n",
    "print(X_train_in.shape, X_test_in.shape)"
   ]
  },
  {
   "cell_type": "code",
   "execution_count": 24,
   "id": "18dc87fb",
   "metadata": {},
   "outputs": [],
   "source": [
    "from tensorflow.keras.layers import Conv2D, MaxPool2D"
   ]
  },
  {
   "cell_type": "code",
   "execution_count": 25,
   "id": "acc58921",
   "metadata": {},
   "outputs": [],
   "source": [
    "model = Sequential()"
   ]
  },
  {
   "cell_type": "code",
   "execution_count": 26,
   "id": "275cd2fe",
   "metadata": {},
   "outputs": [],
   "source": [
    "model.add(Conv2D(32, (3, 3), activation = 'relu', input_shape = (28, 28, 1)))\n",
    "model.add(MaxPool2D((2, 2)))\n",
    "model.add(Flatten())\n",
    "model.add(Dense(10, activation = 'softmax'))"
   ]
  },
  {
   "cell_type": "code",
   "execution_count": 27,
   "id": "aed0a430",
   "metadata": {},
   "outputs": [
    {
     "name": "stdout",
     "output_type": "stream",
     "text": [
      "Model: \"sequential_1\"\n",
      "_________________________________________________________________\n",
      " Layer (type)                Output Shape              Param #   \n",
      "=================================================================\n",
      " conv2d (Conv2D)             (None, 26, 26, 32)        320       \n",
      "                                                                 \n",
      " max_pooling2d (MaxPooling2D  (None, 13, 13, 32)       0         \n",
      " )                                                               \n",
      "                                                                 \n",
      " flatten_1 (Flatten)         (None, 5408)              0         \n",
      "                                                                 \n",
      " dense_3 (Dense)             (None, 10)                54090     \n",
      "                                                                 \n",
      "=================================================================\n",
      "Total params: 54,410\n",
      "Trainable params: 54,410\n",
      "Non-trainable params: 0\n",
      "_________________________________________________________________\n"
     ]
    }
   ],
   "source": [
    "model.summary()"
   ]
  },
  {
   "cell_type": "code",
   "execution_count": 28,
   "id": "a562fe99",
   "metadata": {},
   "outputs": [
    {
     "data": {
      "text/plain": [
       "<KerasTensor: shape=(None, 28, 28, 1) dtype=float32 (created by layer 'conv2d_input')>"
      ]
     },
     "execution_count": 28,
     "metadata": {},
     "output_type": "execute_result"
    }
   ],
   "source": [
    "model.input"
   ]
  },
  {
   "cell_type": "code",
   "execution_count": 29,
   "id": "00c55a5d",
   "metadata": {},
   "outputs": [
    {
     "data": {
      "text/plain": [
       "<KerasTensor: shape=(None, 10) dtype=float32 (created by layer 'dense_3')>"
      ]
     },
     "execution_count": 29,
     "metadata": {},
     "output_type": "execute_result"
    }
   ],
   "source": [
    "model.output"
   ]
  },
  {
   "cell_type": "code",
   "execution_count": 30,
   "id": "3ffa26d9",
   "metadata": {},
   "outputs": [
    {
     "data": {
      "text/plain": [
       "[<keras.layers.convolutional.conv2d.Conv2D at 0x1acceb2ea00>,\n",
       " <keras.layers.pooling.max_pooling2d.MaxPooling2D at 0x1acceb2e0a0>,\n",
       " <keras.layers.reshaping.flatten.Flatten at 0x1acdb289ee0>,\n",
       " <keras.layers.core.dense.Dense at 0x1acceb37700>]"
      ]
     },
     "execution_count": 30,
     "metadata": {},
     "output_type": "execute_result"
    }
   ],
   "source": [
    "model.layers"
   ]
  },
  {
   "cell_type": "code",
   "execution_count": 31,
   "id": "947da1ca",
   "metadata": {},
   "outputs": [],
   "source": [
    "model.compile(optimizer='adam',\n",
    "             metrics=['acc'],\n",
    "             loss='sparse_categorical_crossentropy')"
   ]
  },
  {
   "cell_type": "code",
   "execution_count": 32,
   "id": "9d100d10",
   "metadata": {},
   "outputs": [
    {
     "name": "stdout",
     "output_type": "stream",
     "text": [
      "Epoch 1/10\n",
      "1500/1500 [==============================] - 7s 5ms/step - loss: 0.2307 - acc: 0.9344 - val_loss: 0.0976 - val_acc: 0.9738\n",
      "Epoch 2/10\n",
      "1500/1500 [==============================] - 7s 5ms/step - loss: 0.0812 - acc: 0.9764 - val_loss: 0.0806 - val_acc: 0.9768\n",
      "Epoch 3/10\n",
      "1500/1500 [==============================] - 7s 5ms/step - loss: 0.0629 - acc: 0.9810 - val_loss: 0.0668 - val_acc: 0.9812\n",
      "Epoch 4/10\n",
      "1500/1500 [==============================] - 8s 5ms/step - loss: 0.0515 - acc: 0.9844 - val_loss: 0.0692 - val_acc: 0.9800\n",
      "Epoch 5/10\n",
      "1500/1500 [==============================] - 8s 5ms/step - loss: 0.0439 - acc: 0.9865 - val_loss: 0.0679 - val_acc: 0.9808\n",
      "Epoch 6/10\n",
      "1500/1500 [==============================] - 8s 5ms/step - loss: 0.0385 - acc: 0.9883 - val_loss: 0.0669 - val_acc: 0.9818\n",
      "Epoch 7/10\n",
      "1500/1500 [==============================] - 8s 5ms/step - loss: 0.0322 - acc: 0.9901 - val_loss: 0.0653 - val_acc: 0.9807\n",
      "Epoch 8/10\n",
      "1500/1500 [==============================] - 8s 5ms/step - loss: 0.0279 - acc: 0.9910 - val_loss: 0.0666 - val_acc: 0.9829\n",
      "Epoch 9/10\n",
      "1500/1500 [==============================] - 8s 5ms/step - loss: 0.0233 - acc: 0.9933 - val_loss: 0.0690 - val_acc: 0.9819\n",
      "Epoch 10/10\n",
      "1500/1500 [==============================] - 8s 5ms/step - loss: 0.0210 - acc: 0.9935 - val_loss: 0.0681 - val_acc: 0.9819\n"
     ]
    }
   ],
   "source": [
    "history = model.fit(X_train, y_train,\n",
    "         epochs=10,\n",
    "         validation_split=0.2)"
   ]
  },
  {
   "cell_type": "code",
   "execution_count": 33,
   "id": "35afa818",
   "metadata": {},
   "outputs": [
    {
     "name": "stdout",
     "output_type": "stream",
     "text": [
      "313/313 [==============================] - 1s 2ms/step - loss: 0.0596 - acc: 0.9831\n"
     ]
    },
    {
     "data": {
      "text/plain": [
       "[0.059599634259939194, 0.9830999970436096]"
      ]
     },
     "execution_count": 33,
     "metadata": {},
     "output_type": "execute_result"
    }
   ],
   "source": [
    "model.evaluate(X_test, y_test)"
   ]
  },
  {
   "cell_type": "code",
   "execution_count": 34,
   "id": "7731d3ba",
   "metadata": {},
   "outputs": [
    {
     "data": {
      "text/html": [
       "<div>\n",
       "<style scoped>\n",
       "    .dataframe tbody tr th:only-of-type {\n",
       "        vertical-align: middle;\n",
       "    }\n",
       "\n",
       "    .dataframe tbody tr th {\n",
       "        vertical-align: top;\n",
       "    }\n",
       "\n",
       "    .dataframe thead th {\n",
       "        text-align: right;\n",
       "    }\n",
       "</style>\n",
       "<table border=\"1\" class=\"dataframe\">\n",
       "  <thead>\n",
       "    <tr style=\"text-align: right;\">\n",
       "      <th></th>\n",
       "      <th>loss</th>\n",
       "      <th>acc</th>\n",
       "      <th>val_loss</th>\n",
       "      <th>val_acc</th>\n",
       "    </tr>\n",
       "  </thead>\n",
       "  <tbody>\n",
       "    <tr>\n",
       "      <th>0</th>\n",
       "      <td>0.230740</td>\n",
       "      <td>0.934354</td>\n",
       "      <td>0.097605</td>\n",
       "      <td>0.973833</td>\n",
       "    </tr>\n",
       "    <tr>\n",
       "      <th>1</th>\n",
       "      <td>0.081217</td>\n",
       "      <td>0.976438</td>\n",
       "      <td>0.080598</td>\n",
       "      <td>0.976833</td>\n",
       "    </tr>\n",
       "    <tr>\n",
       "      <th>2</th>\n",
       "      <td>0.062948</td>\n",
       "      <td>0.981021</td>\n",
       "      <td>0.066793</td>\n",
       "      <td>0.981250</td>\n",
       "    </tr>\n",
       "    <tr>\n",
       "      <th>3</th>\n",
       "      <td>0.051451</td>\n",
       "      <td>0.984417</td>\n",
       "      <td>0.069186</td>\n",
       "      <td>0.980000</td>\n",
       "    </tr>\n",
       "    <tr>\n",
       "      <th>4</th>\n",
       "      <td>0.043883</td>\n",
       "      <td>0.986521</td>\n",
       "      <td>0.067908</td>\n",
       "      <td>0.980750</td>\n",
       "    </tr>\n",
       "    <tr>\n",
       "      <th>5</th>\n",
       "      <td>0.038458</td>\n",
       "      <td>0.988292</td>\n",
       "      <td>0.066936</td>\n",
       "      <td>0.981833</td>\n",
       "    </tr>\n",
       "    <tr>\n",
       "      <th>6</th>\n",
       "      <td>0.032182</td>\n",
       "      <td>0.990125</td>\n",
       "      <td>0.065262</td>\n",
       "      <td>0.980667</td>\n",
       "    </tr>\n",
       "    <tr>\n",
       "      <th>7</th>\n",
       "      <td>0.027934</td>\n",
       "      <td>0.990958</td>\n",
       "      <td>0.066643</td>\n",
       "      <td>0.982917</td>\n",
       "    </tr>\n",
       "    <tr>\n",
       "      <th>8</th>\n",
       "      <td>0.023259</td>\n",
       "      <td>0.993292</td>\n",
       "      <td>0.069023</td>\n",
       "      <td>0.981917</td>\n",
       "    </tr>\n",
       "    <tr>\n",
       "      <th>9</th>\n",
       "      <td>0.020989</td>\n",
       "      <td>0.993479</td>\n",
       "      <td>0.068128</td>\n",
       "      <td>0.981917</td>\n",
       "    </tr>\n",
       "  </tbody>\n",
       "</table>\n",
       "</div>"
      ],
      "text/plain": [
       "       loss       acc  val_loss   val_acc\n",
       "0  0.230740  0.934354  0.097605  0.973833\n",
       "1  0.081217  0.976438  0.080598  0.976833\n",
       "2  0.062948  0.981021  0.066793  0.981250\n",
       "3  0.051451  0.984417  0.069186  0.980000\n",
       "4  0.043883  0.986521  0.067908  0.980750\n",
       "5  0.038458  0.988292  0.066936  0.981833\n",
       "6  0.032182  0.990125  0.065262  0.980667\n",
       "7  0.027934  0.990958  0.066643  0.982917\n",
       "8  0.023259  0.993292  0.069023  0.981917\n",
       "9  0.020989  0.993479  0.068128  0.981917"
      ]
     },
     "execution_count": 34,
     "metadata": {},
     "output_type": "execute_result"
    }
   ],
   "source": [
    "history_df = pd.DataFrame(history.history)\n",
    "history_df"
   ]
  },
  {
   "cell_type": "code",
   "execution_count": 35,
   "id": "af112252",
   "metadata": {},
   "outputs": [
    {
     "data": {
      "image/png": "[encoded data removed]",
      "text/plain": [
       "<Figure size 640x480 with 2 Axes>"
      ]
     },
     "metadata": {},
     "output_type": "display_data"
    }
   ],
   "source": [
    "plt.subplot(1, 2, 1)\n",
    "plt.plot(history_df.loss)\n",
    "plt.plot(history_df.val_loss)\n",
    "plt.legend(['Train', 'Valid'])\n",
    "\n",
    "plt.subplot(1, 2, 2)\n",
    "plt.plot(history_df.acc)\n",
    "plt.plot(history_df.val_acc)\n",
    "plt.legend(['Train', 'Valid'])\n",
    "\n",
    "plt.show()"
   ]
  },
  {
   "cell_type": "markdown",
   "id": "5d9b5d6e",
   "metadata": {},
   "source": [
    "### 📌홀수짝수 판별"
   ]
  },
  {
   "cell_type": "code",
   "execution_count": 36,
   "id": "1e408e83",
   "metadata": {},
   "outputs": [],
   "source": [
    "y_train_odd = []\n",
    "for i in y_train:\n",
    "    if i % 2 != 0:\n",
    "        y_train_odd.append(1)\n",
    "    else:\n",
    "        y_train_odd.append(0)"
   ]
  },
  {
   "cell_type": "code",
   "execution_count": 37,
   "id": "199c78f9",
   "metadata": {},
   "outputs": [],
   "source": [
    "y_train_odd = np.array(y_train_odd)"
   ]
  },
  {
   "cell_type": "code",
   "execution_count": 38,
   "id": "d0cdf3f3",
   "metadata": {},
   "outputs": [
    {
     "data": {
      "text/plain": [
       "(60000,)"
      ]
     },
     "execution_count": 38,
     "metadata": {},
     "output_type": "execute_result"
    }
   ],
   "source": [
    "y_train_odd.shape"
   ]
  },
  {
   "cell_type": "code",
   "execution_count": 39,
   "id": "dc7d037e",
   "metadata": {},
   "outputs": [
    {
     "name": "stdout",
     "output_type": "stream",
     "text": [
      "[5 0 4 1 9 2 1 3 1 4]\n",
      "[1 0 0 1 1 0 1 1 1 0]\n"
     ]
    }
   ],
   "source": [
    "print(y_train[:10])\n",
    "print(y_train_odd[:10])"
   ]
  },
  {
   "cell_type": "code",
   "execution_count": 40,
   "id": "cc3af028",
   "metadata": {},
   "outputs": [],
   "source": [
    "y_test_odd = []\n",
    "for i in y_test:\n",
    "    if i % 2 == 0:\n",
    "        y_test_odd.append(0)\n",
    "    else:\n",
    "        y_test_odd.append(1)"
   ]
  },
  {
   "cell_type": "code",
   "execution_count": 41,
   "id": "046f406c",
   "metadata": {},
   "outputs": [],
   "source": [
    "y_test_odd = np.array(y_test_odd)"
   ]
  },
  {
   "cell_type": "code",
   "execution_count": 42,
   "id": "47324e23",
   "metadata": {},
   "outputs": [
    {
     "data": {
      "text/plain": [
       "(10000,)"
      ]
     },
     "execution_count": 42,
     "metadata": {},
     "output_type": "execute_result"
    }
   ],
   "source": [
    "y_test_odd.shape"
   ]
  },
  {
   "cell_type": "code",
   "execution_count": 43,
   "id": "a163f46c",
   "metadata": {},
   "outputs": [],
   "source": [
    "from tensorflow.keras.models import Model\n",
    "from tensorflow.keras.layers import Input, Concatenate"
   ]
  },
  {
   "cell_type": "code",
   "execution_count": 44,
   "id": "77b35771",
   "metadata": {},
   "outputs": [],
   "source": [
    "inputs = Input(shape = (28, 28, 1))\n",
    "\n",
    "conv = Conv2D(32, (3, 3), activation='relu')(inputs)\n",
    "pool = MaxPool2D((2, 2))(conv)\n",
    "flat = Flatten()(pool)\n",
    "\n",
    "flat_inputs = Flatten()(inputs)\n",
    "concat = Concatenate()([flat, flat_inputs])\n",
    "outputs = Dense(10, activation='softmax')(concat)\n",
    "\n",
    "model = Model(inputs, outputs)"
   ]
  },
  {
   "cell_type": "code",
   "execution_count": 45,
   "id": "daa07afb",
   "metadata": {},
   "outputs": [
    {
     "name": "stdout",
     "output_type": "stream",
     "text": [
      "Model: \"model\"\n",
      "__________________________________________________________________________________________________\n",
      " Layer (type)                   Output Shape         Param #     Connected to                     \n",
      "==================================================================================================\n",
      " input_1 (InputLayer)           [(None, 28, 28, 1)]  0           []                               \n",
      "                                                                                                  \n",
      " conv2d_1 (Conv2D)              (None, 26, 26, 32)   320         ['input_1[0][0]']                \n",
      "                                                                                                  \n",
      " max_pooling2d_1 (MaxPooling2D)  (None, 13, 13, 32)  0           ['conv2d_1[0][0]']               \n",
      "                                                                                                  \n",
      " flatten_2 (Flatten)            (None, 5408)         0           ['max_pooling2d_1[0][0]']        \n",
      "                                                                                                  \n",
      " flatten_3 (Flatten)            (None, 784)          0           ['input_1[0][0]']                \n",
      "                                                                                                  \n",
      " concatenate (Concatenate)      (None, 6192)         0           ['flatten_2[0][0]',              \n",
      "                                                                  'flatten_3[0][0]']              \n",
      "                                                                                                  \n",
      " dense_4 (Dense)                (None, 10)           61930       ['concatenate[0][0]']            \n",
      "                                                                                                  \n",
      "==================================================================================================\n",
      "Total params: 62,250\n",
      "Trainable params: 62,250\n",
      "Non-trainable params: 0\n",
      "__________________________________________________________________________________________________\n"
     ]
    }
   ],
   "source": [
    "model.summary()"
   ]
  },
  {
   "cell_type": "code",
   "execution_count": 46,
   "id": "d93ce570",
   "metadata": {},
   "outputs": [
    {
     "data": {
      "image/png": "[encoded data removed]",
      "text/plain": [
       "<IPython.core.display.Image object>"
      ]
     },
     "execution_count": 46,
     "metadata": {},
     "output_type": "execute_result"
    }
   ],
   "source": [
    "from tensorflow.keras.utils import plot_model\n",
    "plot_model(model, show_shapes=True, show_layer_names=True, to_file='functional_cnn.png')"
   ]
  },
  {
   "cell_type": "code",
   "execution_count": 47,
   "id": "0bb4e051",
   "metadata": {},
   "outputs": [],
   "source": [
    "model.compile(optimizer='adam',\n",
    "             metrics=['acc'],\n",
    "             loss='sparse_categorical_crossentropy')"
   ]
  },
  {
   "cell_type": "code",
   "execution_count": 48,
   "id": "c16b6937",
   "metadata": {},
   "outputs": [
    {
     "name": "stdout",
     "output_type": "stream",
     "text": [
      "Epoch 1/10\n",
      "1500/1500 [==============================] - 8s 5ms/step - loss: 0.2253 - acc: 0.9350 - val_loss: 0.1037 - val_acc: 0.9704\n",
      "Epoch 2/10\n",
      "1500/1500 [==============================] - 8s 5ms/step - loss: 0.0857 - acc: 0.9749 - val_loss: 0.0800 - val_acc: 0.9765\n",
      "Epoch 3/10\n",
      "1500/1500 [==============================] - 8s 5ms/step - loss: 0.0635 - acc: 0.9815 - val_loss: 0.0719 - val_acc: 0.9801\n",
      "Epoch 4/10\n",
      "1500/1500 [==============================] - 8s 5ms/step - loss: 0.0525 - acc: 0.9839 - val_loss: 0.0726 - val_acc: 0.9790\n",
      "Epoch 5/10\n",
      "1500/1500 [==============================] - 8s 5ms/step - loss: 0.0437 - acc: 0.9868 - val_loss: 0.0686 - val_acc: 0.9807\n",
      "Epoch 6/10\n",
      "1500/1500 [==============================] - 8s 5ms/step - loss: 0.0374 - acc: 0.9887 - val_loss: 0.0725 - val_acc: 0.9788\n",
      "Epoch 7/10\n",
      "1500/1500 [==============================] - 9s 6ms/step - loss: 0.0314 - acc: 0.9900 - val_loss: 0.0680 - val_acc: 0.9815\n",
      "Epoch 8/10\n",
      "1500/1500 [==============================] - 9s 6ms/step - loss: 0.0262 - acc: 0.9916 - val_loss: 0.0722 - val_acc: 0.9800\n",
      "Epoch 9/10\n",
      "1500/1500 [==============================] - 9s 6ms/step - loss: 0.0231 - acc: 0.9929 - val_loss: 0.0701 - val_acc: 0.9815\n",
      "Epoch 10/10\n",
      "1500/1500 [==============================] - 9s 6ms/step - loss: 0.0195 - acc: 0.9935 - val_loss: 0.0695 - val_acc: 0.9814\n"
     ]
    }
   ],
   "source": [
    "history = model.fit(X_train, y_train,\n",
    "         validation_split=0.2,\n",
    "         epochs=10)"
   ]
  },
  {
   "cell_type": "code",
   "execution_count": 49,
   "id": "f08450b2",
   "metadata": {},
   "outputs": [
    {
     "name": "stdout",
     "output_type": "stream",
     "text": [
      "313/313 [==============================] - 1s 2ms/step - loss: 0.0626 - acc: 0.9827\n"
     ]
    },
    {
     "data": {
      "text/plain": [
       "[0.06260299682617188, 0.982699990272522]"
      ]
     },
     "execution_count": 49,
     "metadata": {},
     "output_type": "execute_result"
    }
   ],
   "source": [
    "model.evaluate(X_test, y_test)"
   ]
  },
  {
   "cell_type": "code",
   "execution_count": 86,
   "id": "f344e0c4",
   "metadata": {},
   "outputs": [],
   "source": [
    "# 다중출력\n",
    "inputs = Input(shape = (28, 28, 1), name='inputs')\n",
    "\n",
    "conv = Conv2D(32, (3, 3), activation='relu', name='conv2d_layer')(inputs)\n",
    "pool = MaxPool2D((2, 2), name='maxpool_layer')(conv)\n",
    "flat = Flatten(name='flatten_layer')(pool)\n",
    "\n",
    "flat_inputs = Flatten()(inputs)\n",
    "concat = Concatenate()([flat, flat_inputs])\n",
    "digits_outputs = Dense(10, activation='softmax', name='digit_dense')(concat)\n",
    "\n",
    "odd_outputs = Dense(1, activation='sigmoid', name='odd_dense')(flat_inputs)\n",
    "\n",
    "model = Model(inputs, outputs=[digits_outputs, odd_outputs])"
   ]
  },
  {
   "cell_type": "code",
   "execution_count": 60,
   "id": "820c5dbb",
   "metadata": {},
   "outputs": [
    {
     "name": "stdout",
     "output_type": "stream",
     "text": [
      "Model: \"model_2\"\n",
      "__________________________________________________________________________________________________\n",
      " Layer (type)                   Output Shape         Param #     Connected to                     \n",
      "==================================================================================================\n",
      " inputs (InputLayer)            [(None, 28, 28, 1)]  0           []                               \n",
      "                                                                                                  \n",
      " conv2d_3 (Conv2D)              (None, 26, 26, 32)   320         ['inputs[0][0]']                 \n",
      "                                                                                                  \n",
      " max_pooling2d_3 (MaxPooling2D)  (None, 13, 13, 32)  0           ['conv2d_3[0][0]']               \n",
      "                                                                                                  \n",
      " flatten_6 (Flatten)            (None, 5408)         0           ['max_pooling2d_3[0][0]']        \n",
      "                                                                                                  \n",
      " flatten_7 (Flatten)            (None, 784)          0           ['inputs[0][0]']                 \n",
      "                                                                                                  \n",
      " concatenate_2 (Concatenate)    (None, 6192)         0           ['flatten_6[0][0]',              \n",
      "                                                                  'flatten_7[0][0]']              \n",
      "                                                                                                  \n",
      " digit_dense (Dense)            (None, 10)           61930       ['concatenate_2[0][0]']          \n",
      "                                                                                                  \n",
      " odd_dense (Dense)              (None, 1)            785         ['flatten_7[0][0]']              \n",
      "                                                                                                  \n",
      "==================================================================================================\n",
      "Total params: 63,035\n",
      "Trainable params: 63,035\n",
      "Non-trainable params: 0\n",
      "__________________________________________________________________________________________________\n"
     ]
    }
   ],
   "source": [
    "model.summary()"
   ]
  },
  {
   "cell_type": "code",
   "execution_count": 61,
   "id": "37eaad85",
   "metadata": {},
   "outputs": [
    {
     "data": {
      "text/plain": [
       "<KerasTensor: shape=(None, 28, 28, 1) dtype=float32 (created by layer 'inputs')>"
      ]
     },
     "execution_count": 61,
     "metadata": {},
     "output_type": "execute_result"
    }
   ],
   "source": [
    "model.input"
   ]
  },
  {
   "cell_type": "code",
   "execution_count": 62,
   "id": "54008300",
   "metadata": {},
   "outputs": [
    {
     "data": {
      "text/plain": [
       "[<KerasTensor: shape=(None, 10) dtype=float32 (created by layer 'digit_dense')>,\n",
       " <KerasTensor: shape=(None, 1) dtype=float32 (created by layer 'odd_dense')>]"
      ]
     },
     "execution_count": 62,
     "metadata": {},
     "output_type": "execute_result"
    }
   ],
   "source": [
    "model.output"
   ]
  },
  {
   "cell_type": "code",
   "execution_count": 63,
   "id": "e454527c",
   "metadata": {},
   "outputs": [
    {
     "data": {
      "image/png": "[encoded data removed]",
      "text/plain": [
       "<IPython.core.display.Image object>"
      ]
     },
     "execution_count": 63,
     "metadata": {},
     "output_type": "execute_result"
    }
   ],
   "source": [
    "plot_model(model, show_shapes=True, show_layer_names=True)"
   ]
  },
  {
   "cell_type": "code",
   "execution_count": 64,
   "id": "707a058c",
   "metadata": {},
   "outputs": [],
   "source": [
    "model.compile(optimizer='adam',\n",
    "             loss={'digit_dense':'sparse_categorical_crossentropy', 'odd_dense':'binary_crossentropy'},\n",
    "             metrics = ['acc'],\n",
    "             loss_weights = {'digit_dense':1, 'odd_dense':0.5})"
   ]
  },
  {
   "cell_type": "code",
   "execution_count": 65,
   "id": "9a66871f",
   "metadata": {},
   "outputs": [
    {
     "data": {
      "text/plain": [
       "((60000, 28, 28, 1), (10000, 28, 28, 1))"
      ]
     },
     "execution_count": 65,
     "metadata": {},
     "output_type": "execute_result"
    }
   ],
   "source": [
    "X_train_in.shape, X_test_in.shape"
   ]
  },
  {
   "cell_type": "code",
   "execution_count": 66,
   "id": "ac10bd36",
   "metadata": {},
   "outputs": [
    {
     "data": {
      "text/plain": [
       "((60000,), (10000,))"
      ]
     },
     "execution_count": 66,
     "metadata": {},
     "output_type": "execute_result"
    }
   ],
   "source": [
    "y_train_odd.shape, y_test_odd.shape"
   ]
  },
  {
   "cell_type": "code",
   "execution_count": 67,
   "id": "05d18539",
   "metadata": {},
   "outputs": [
    {
     "name": "stdout",
     "output_type": "stream",
     "text": [
      "Epoch 1/10\n",
      "1875/1875 [==============================] - 10s 5ms/step - loss: 0.3713 - digit_dense_loss: 0.2075 - odd_dense_loss: 0.3275 - digit_dense_acc: 0.9400 - odd_dense_acc: 0.8617 - val_loss: 0.2397 - val_digit_dense_loss: 0.1017 - val_odd_dense_loss: 0.2760 - val_digit_dense_acc: 0.9699 - val_odd_dense_acc: 0.8905\n",
      "Epoch 2/10\n",
      "1875/1875 [==============================] - 9s 5ms/step - loss: 0.2126 - digit_dense_loss: 0.0766 - odd_dense_loss: 0.2720 - digit_dense_acc: 0.9776 - odd_dense_acc: 0.8905 - val_loss: 0.1967 - val_digit_dense_loss: 0.0649 - val_odd_dense_loss: 0.2637 - val_digit_dense_acc: 0.9782 - val_odd_dense_acc: 0.8968\n",
      "Epoch 3/10\n",
      "1875/1875 [==============================] - 10s 5ms/step - loss: 0.1879 - digit_dense_loss: 0.0564 - odd_dense_loss: 0.2630 - digit_dense_acc: 0.9835 - odd_dense_acc: 0.8954 - val_loss: 0.1875 - val_digit_dense_loss: 0.0575 - val_odd_dense_loss: 0.2601 - val_digit_dense_acc: 0.9806 - val_odd_dense_acc: 0.8973\n",
      "Epoch 4/10\n",
      "1875/1875 [==============================] - 10s 5ms/step - loss: 0.1765 - digit_dense_loss: 0.0469 - odd_dense_loss: 0.2591 - digit_dense_acc: 0.9858 - odd_dense_acc: 0.8977 - val_loss: 0.1900 - val_digit_dense_loss: 0.0608 - val_odd_dense_loss: 0.2584 - val_digit_dense_acc: 0.9808 - val_odd_dense_acc: 0.9000\n",
      "Epoch 5/10\n",
      "1875/1875 [==============================] - 10s 5ms/step - loss: 0.1679 - digit_dense_loss: 0.0394 - odd_dense_loss: 0.2570 - digit_dense_acc: 0.9881 - odd_dense_acc: 0.8992 - val_loss: 0.1808 - val_digit_dense_loss: 0.0514 - val_odd_dense_loss: 0.2588 - val_digit_dense_acc: 0.9834 - val_odd_dense_acc: 0.9012\n",
      "Epoch 6/10\n",
      "1875/1875 [==============================] - 10s 5ms/step - loss: 0.1615 - digit_dense_loss: 0.0336 - odd_dense_loss: 0.2557 - digit_dense_acc: 0.9899 - odd_dense_acc: 0.9000 - val_loss: 0.1921 - val_digit_dense_loss: 0.0621 - val_odd_dense_loss: 0.2600 - val_digit_dense_acc: 0.9813 - val_odd_dense_acc: 0.8981\n",
      "Epoch 7/10\n",
      "1875/1875 [==============================] - 10s 5ms/step - loss: 0.1564 - digit_dense_loss: 0.0290 - odd_dense_loss: 0.2547 - digit_dense_acc: 0.9908 - odd_dense_acc: 0.8997 - val_loss: 0.1848 - val_digit_dense_loss: 0.0569 - val_odd_dense_loss: 0.2557 - val_digit_dense_acc: 0.9817 - val_odd_dense_acc: 0.9015\n",
      "Epoch 8/10\n",
      "1875/1875 [==============================] - 10s 5ms/step - loss: 0.1503 - digit_dense_loss: 0.0233 - odd_dense_loss: 0.2540 - digit_dense_acc: 0.9928 - odd_dense_acc: 0.9003 - val_loss: 0.1864 - val_digit_dense_loss: 0.0582 - val_odd_dense_loss: 0.2563 - val_digit_dense_acc: 0.9836 - val_odd_dense_acc: 0.9016\n",
      "Epoch 9/10\n",
      "1875/1875 [==============================] - 10s 5ms/step - loss: 0.1473 - digit_dense_loss: 0.0205 - odd_dense_loss: 0.2537 - digit_dense_acc: 0.9937 - odd_dense_acc: 0.9007 - val_loss: 0.1935 - val_digit_dense_loss: 0.0655 - val_odd_dense_loss: 0.2560 - val_digit_dense_acc: 0.9826 - val_odd_dense_acc: 0.9000\n",
      "Epoch 10/10\n",
      "1875/1875 [==============================] - 10s 6ms/step - loss: 0.1439 - digit_dense_loss: 0.0174 - odd_dense_loss: 0.2531 - digit_dense_acc: 0.9945 - odd_dense_acc: 0.9009 - val_loss: 0.1868 - val_digit_dense_loss: 0.0590 - val_odd_dense_loss: 0.2555 - val_digit_dense_acc: 0.9843 - val_odd_dense_acc: 0.9032\n"
     ]
    }
   ],
   "source": [
    "history = model.fit({'inputs':X_train_in}, {'digit_dense':y_train,'odd_dense':y_train_odd},\n",
    "                   validation_data = ({'inputs':X_test_in}, {'digit_dense':y_test, 'odd_dense':y_test_odd}),\n",
    "                    epochs=10)"
   ]
  },
  {
   "cell_type": "code",
   "execution_count": 68,
   "id": "28b0ded8",
   "metadata": {},
   "outputs": [
    {
     "name": "stdout",
     "output_type": "stream",
     "text": [
      "313/313 [==============================] - 1s 2ms/step - loss: 0.1868 - digit_dense_loss: 0.0590 - odd_dense_loss: 0.2555 - digit_dense_acc: 0.9843 - odd_dense_acc: 0.9032\n"
     ]
    },
    {
     "data": {
      "text/plain": [
       "[0.18679428100585938,\n",
       " 0.0590280219912529,\n",
       " 0.25553253293037415,\n",
       " 0.9843000173568726,\n",
       " 0.9031999707221985]"
      ]
     },
     "execution_count": 68,
     "metadata": {},
     "output_type": "execute_result"
    }
   ],
   "source": [
    "model.evaluate({'inputs':X_test_in}, {'digit_dense':y_test, 'odd_dense':y_test_odd})"
   ]
  },
  {
   "cell_type": "code",
   "execution_count": 72,
   "id": "c18f7485",
   "metadata": {},
   "outputs": [
    {
     "name": "stdout",
     "output_type": "stream",
     "text": [
      "313/313 [==============================] - 1s 2ms/step\n",
      "[3.7321849e-13 1.7008718e-10 2.3214985e-09 9.1540505e-07 2.9577698e-11\n",
      " 2.5195010e-13 1.1200071e-20 9.9999905e-01 7.3361534e-10 8.1847000e-09]\n",
      "[0.9996434]\n"
     ]
    }
   ],
   "source": [
    "digits_pred, odd_pred = model.predict(X_test_in)\n",
    "print(digits_pred[0])\n",
    "print(odd_pred[0])"
   ]
  },
  {
   "cell_type": "code",
   "execution_count": 75,
   "id": "7a47b3b6",
   "metadata": {},
   "outputs": [
    {
     "data": {
      "text/plain": [
       "array([7, 2, 1, 0, 4, 1, 4, 9, 6, 9], dtype=int64)"
      ]
     },
     "execution_count": 75,
     "metadata": {},
     "output_type": "execute_result"
    }
   ],
   "source": [
    "digits_labels = np.argmax(digits_pred, axis=-1)\n",
    "digits_labels[:10]"
   ]
  },
  {
   "cell_type": "code",
   "execution_count": 79,
   "id": "4996567d",
   "metadata": {},
   "outputs": [
    {
     "name": "stderr",
     "output_type": "stream",
     "text": [
      "C:\\Users\\user\\AppData\\Local\\Temp\\ipykernel_18976\\961566613.py:2: DeprecationWarning: `np.int` is a deprecated alias for the builtin `int`. To silence this warning, use `int` by itself. Doing this will not modify any behavior and is safe. When replacing `np.int`, you may wish to use e.g. `np.int64` or `np.int32` to specify the precision. If you wish to review your current use, check the release note link for additional information.\n",
      "Deprecated in NumPy 1.20; for more details and guidance: https://numpy.org/devdocs/release/1.20.0-notes.html#deprecations\n",
      "  odd_labels = (odd_pred > 0.5).astype(np.int).reshape(1, -1)[0]\n"
     ]
    },
    {
     "data": {
      "text/plain": [
       "array([1, 0, 1, 0, 0, 1, 0, 1, 0, 1])"
      ]
     },
     "execution_count": 79,
     "metadata": {},
     "output_type": "execute_result"
    }
   ],
   "source": [
    "# 0.5 이상인 경우 홀수로 분류\n",
    "odd_labels = (odd_pred > 0.5).astype(np.int).reshape(1, -1)[0]\n",
    "odd_labels[0:10]"
   ]
  },
  {
   "cell_type": "code",
   "execution_count": 83,
   "id": "a37a3425",
   "metadata": {},
   "outputs": [
    {
     "data": {
      "image/png": "[encoded data removed]",
      "text/plain": [
       "<Figure size 2000x800 with 10 Axes>"
      ]
     },
     "metadata": {},
     "output_type": "display_data"
    }
   ],
   "source": [
    "fig = plt.figure(figsize=(20, 8))\n",
    "\n",
    "for i in range(10):\n",
    "    ax = fig.add_subplot(2, 5, i+1, xticks=[], yticks=[])\n",
    "    ax.imshow(X_test_in[i])\n",
    "    plt.title(f'real : {y_test[i]}\\n predict : {digits_labels[i]}\\n odd : {odd_labels[i]}')"
   ]
  },
  {
   "cell_type": "markdown",
   "id": "659e17cb",
   "metadata": {},
   "source": [
    "### 📌전이학습(Transfer Learning)"
   ]
  },
  {
   "cell_type": "code",
   "execution_count": 87,
   "id": "86c1f6fb",
   "metadata": {},
   "outputs": [],
   "source": [
    "# 앞의 모델에서 flatten_layer 출력 추출\n",
    "base_model_output = model.get_layer('flatten_layer').output"
   ]
  },
  {
   "cell_type": "code",
   "execution_count": 88,
   "id": "80838adf",
   "metadata": {},
   "outputs": [],
   "source": [
    "# 앞의 출력을 출력으로 하는 모델 정의\n",
    "base_model = Model(inputs = model.input, outputs=base_model_output, name='base')"
   ]
  },
  {
   "cell_type": "code",
   "execution_count": 89,
   "id": "8cd7ac15",
   "metadata": {},
   "outputs": [
    {
     "name": "stdout",
     "output_type": "stream",
     "text": [
      "Model: \"base\"\n",
      "_________________________________________________________________\n",
      " Layer (type)                Output Shape              Param #   \n",
      "=================================================================\n",
      " inputs (InputLayer)         [(None, 28, 28, 1)]       0         \n",
      "                                                                 \n",
      " conv2d_layer (Conv2D)       (None, 26, 26, 32)        320       \n",
      "                                                                 \n",
      " maxpool_layer (MaxPooling2D  (None, 13, 13, 32)       0         \n",
      " )                                                               \n",
      "                                                                 \n",
      " flatten_layer (Flatten)     (None, 5408)              0         \n",
      "                                                                 \n",
      "=================================================================\n",
      "Total params: 320\n",
      "Trainable params: 320\n",
      "Non-trainable params: 0\n",
      "_________________________________________________________________\n"
     ]
    }
   ],
   "source": [
    "base_model.summary()"
   ]
  },
  {
   "cell_type": "code",
   "execution_count": 90,
   "id": "fbe77dae",
   "metadata": {},
   "outputs": [
    {
     "data": {
      "text/plain": [
       "5408"
      ]
     },
     "execution_count": 90,
     "metadata": {},
     "output_type": "execute_result"
    }
   ],
   "source": [
    "13*13*32"
   ]
  },
  {
   "cell_type": "code",
   "execution_count": 93,
   "id": "844ea953",
   "metadata": {},
   "outputs": [
    {
     "data": {
      "image/png": "[encoded data removed]",
      "text/plain": [
       "<IPython.core.display.Image object>"
      ]
     },
     "execution_count": 93,
     "metadata": {},
     "output_type": "execute_result"
    }
   ],
   "source": [
    "plot_model(base_model, show_shapes=True, show_layer_names=True)"
   ]
  },
  {
   "cell_type": "code",
   "execution_count": 95,
   "id": "21491f9c",
   "metadata": {},
   "outputs": [],
   "source": [
    "# base_model + 최종 분류기 Dense\n",
    "digit_model = Sequential([\n",
    "    base_model,\n",
    "    Dense(10, activation='softmax')\n",
    "])"
   ]
  },
  {
   "cell_type": "code",
   "execution_count": 96,
   "id": "8a1a75e0",
   "metadata": {},
   "outputs": [
    {
     "name": "stdout",
     "output_type": "stream",
     "text": [
      "Model: \"sequential_2\"\n",
      "_________________________________________________________________\n",
      " Layer (type)                Output Shape              Param #   \n",
      "=================================================================\n",
      " base (Functional)           (None, 5408)              320       \n",
      "                                                                 \n",
      " dense_5 (Dense)             (None, 10)                54090     \n",
      "                                                                 \n",
      "=================================================================\n",
      "Total params: 54,410\n",
      "Trainable params: 54,410\n",
      "Non-trainable params: 0\n",
      "_________________________________________________________________\n"
     ]
    }
   ],
   "source": [
    "digit_model.summary()"
   ]
  },
  {
   "cell_type": "code",
   "execution_count": 98,
   "id": "20f57235",
   "metadata": {},
   "outputs": [
    {
     "data": {
      "image/png": "[encoded data removed]",
      "text/plain": [
       "<IPython.core.display.Image object>"
      ]
     },
     "execution_count": 98,
     "metadata": {},
     "output_type": "execute_result"
    }
   ],
   "source": [
    "plot_model(digit_model, show_shapes=True, show_layer_names=True)"
   ]
  },
  {
   "cell_type": "code",
   "execution_count": 99,
   "id": "cc253b2e",
   "metadata": {},
   "outputs": [],
   "source": [
    "digit_model.compile(optimizer='adam',\n",
    "                   metrics=['acc'],\n",
    "                   loss='sparse_categorical_crossentropy')"
   ]
  },
  {
   "cell_type": "code",
   "execution_count": 100,
   "id": "0bf55904",
   "metadata": {},
   "outputs": [
    {
     "name": "stdout",
     "output_type": "stream",
     "text": [
      "Epoch 1/10\n",
      "1875/1875 [==============================] - 9s 4ms/step - loss: 0.2173 - acc: 0.9392 - val_loss: 0.0983 - val_acc: 0.9705\n",
      "Epoch 2/10\n",
      "1875/1875 [==============================] - 8s 4ms/step - loss: 0.0802 - acc: 0.9769 - val_loss: 0.0643 - val_acc: 0.9791\n",
      "Epoch 3/10\n",
      "1875/1875 [==============================] - 9s 5ms/step - loss: 0.0593 - acc: 0.9821 - val_loss: 0.0681 - val_acc: 0.9785\n",
      "Epoch 4/10\n",
      "1875/1875 [==============================] - 9s 5ms/step - loss: 0.0481 - acc: 0.9858 - val_loss: 0.0562 - val_acc: 0.9824\n",
      "Epoch 5/10\n",
      "1875/1875 [==============================] - 9s 5ms/step - loss: 0.0410 - acc: 0.9873 - val_loss: 0.0559 - val_acc: 0.9826\n",
      "Epoch 6/10\n",
      "1875/1875 [==============================] - 9s 5ms/step - loss: 0.0335 - acc: 0.9898 - val_loss: 0.0543 - val_acc: 0.9827\n",
      "Epoch 7/10\n",
      "1875/1875 [==============================] - 9s 5ms/step - loss: 0.0295 - acc: 0.9910 - val_loss: 0.0528 - val_acc: 0.9832\n",
      "Epoch 8/10\n",
      "1875/1875 [==============================] - 9s 5ms/step - loss: 0.0254 - acc: 0.9921 - val_loss: 0.0561 - val_acc: 0.9841\n",
      "Epoch 9/10\n",
      "1875/1875 [==============================] - 9s 5ms/step - loss: 0.0221 - acc: 0.9932 - val_loss: 0.0584 - val_acc: 0.9848\n",
      "Epoch 10/10\n",
      "1875/1875 [==============================] - 10s 5ms/step - loss: 0.0188 - acc: 0.9942 - val_loss: 0.0605 - val_acc: 0.9827\n"
     ]
    }
   ],
   "source": [
    "history = digit_model.fit(X_train_in, y_train,\n",
    "                         validation_data = (X_test_in, y_test),\n",
    "                         epochs=10)"
   ]
  },
  {
   "cell_type": "code",
   "execution_count": 101,
   "id": "f798bd75",
   "metadata": {
    "scrolled": true
   },
   "outputs": [
    {
     "name": "stdout",
     "output_type": "stream",
     "text": [
      "Model: \"base_frozen\"\n",
      "_________________________________________________________________\n",
      " Layer (type)                Output Shape              Param #   \n",
      "=================================================================\n",
      " inputs (InputLayer)         [(None, 28, 28, 1)]       0         \n",
      "                                                                 \n",
      " conv2d_layer (Conv2D)       (None, 26, 26, 32)        320       \n",
      "                                                                 \n",
      " maxpool_layer (MaxPooling2D  (None, 13, 13, 32)       0         \n",
      " )                                                               \n",
      "                                                                 \n",
      " flatten_layer (Flatten)     (None, 5408)              0         \n",
      "                                                                 \n",
      "=================================================================\n",
      "Total params: 320\n",
      "Trainable params: 0\n",
      "Non-trainable params: 320\n",
      "_________________________________________________________________\n"
     ]
    }
   ],
   "source": [
    "# 베이스 모델 전체의 가중치 고정 ==> 원래 있던 모델의 가중치 사용\n",
    "base_model_frozen = Model(inputs=model.input,\n",
    "                         outputs=base_model_output,\n",
    "                         name='base_frozen')\n",
    "base_model_frozen.trainable = False\n",
    "base_model_frozen.summary()\n",
    "# 훈련가능한 parameter의 수 = 0 (320개의 파라미터는 훈련이 불가능)"
   ]
  },
  {
   "cell_type": "code",
   "execution_count": 103,
   "id": "41c57fce",
   "metadata": {},
   "outputs": [
    {
     "data": {
      "text/plain": [
       "<KerasTensor: shape=(None, 28, 28, 1) dtype=float32 (created by layer 'inputs')>"
      ]
     },
     "execution_count": 103,
     "metadata": {},
     "output_type": "execute_result"
    }
   ],
   "source": [
    "base_model_frozen.input"
   ]
  },
  {
   "cell_type": "code",
   "execution_count": 102,
   "id": "3274a3a2",
   "metadata": {},
   "outputs": [
    {
     "data": {
      "text/plain": [
       "<KerasTensor: shape=(None, 5408) dtype=float32 (created by layer 'flatten_layer')>"
      ]
     },
     "execution_count": 102,
     "metadata": {},
     "output_type": "execute_result"
    }
   ],
   "source": [
    "base_model_frozen.output"
   ]
  },
  {
   "cell_type": "code",
   "execution_count": 111,
   "id": "43fb42bb",
   "metadata": {},
   "outputs": [
    {
     "name": "stdout",
     "output_type": "stream",
     "text": [
      "Model: \"model_7\"\n",
      "_________________________________________________________________\n",
      " Layer (type)                Output Shape              Param #   \n",
      "=================================================================\n",
      " inputs (InputLayer)         [(None, 28, 28, 1)]       0         \n",
      "                                                                 \n",
      " conv2d_layer (Conv2D)       (None, 26, 26, 32)        320       \n",
      "                                                                 \n",
      " maxpool_layer (MaxPooling2D  (None, 13, 13, 32)       0         \n",
      " )                                                               \n",
      "                                                                 \n",
      " flatten_layer (Flatten)     (None, 5408)              0         \n",
      "                                                                 \n",
      " dense_8 (Dense)             (None, 10)                54090     \n",
      "                                                                 \n",
      "=================================================================\n",
      "Total params: 54,410\n",
      "Trainable params: 54,090\n",
      "Non-trainable params: 320\n",
      "_________________________________________________________________\n"
     ]
    }
   ],
   "source": [
    "dense_output = Dense(10, activation='softmax')(base_model_frozen.output)\n",
    "digit_model_frozen = Model(inputs=base_model_frozen.input, outputs=dense_output)\n",
    "digit_model_frozen.summary()"
   ]
  },
  {
   "cell_type": "code",
   "execution_count": 112,
   "id": "e6e02b1e",
   "metadata": {},
   "outputs": [],
   "source": [
    "digit_model_frozen.compile(optimizer='adam',\n",
    "                          metrics=['acc'],\n",
    "                          loss='sparse_categorical_crossentropy')"
   ]
  },
  {
   "cell_type": "code",
   "execution_count": 113,
   "id": "491ddc97",
   "metadata": {},
   "outputs": [
    {
     "name": "stdout",
     "output_type": "stream",
     "text": [
      "Epoch 1/10\n",
      "1875/1875 [==============================] - 5s 2ms/step - loss: 0.1347 - acc: 0.9647 - val_loss: 0.0625 - val_acc: 0.9806\n",
      "Epoch 2/10\n",
      "1875/1875 [==============================] - 4s 2ms/step - loss: 0.0561 - acc: 0.9838 - val_loss: 0.0508 - val_acc: 0.9845\n",
      "Epoch 3/10\n",
      "1875/1875 [==============================] - 4s 2ms/step - loss: 0.0424 - acc: 0.9873 - val_loss: 0.0487 - val_acc: 0.9854\n",
      "Epoch 4/10\n",
      "1875/1875 [==============================] - 4s 2ms/step - loss: 0.0343 - acc: 0.9900 - val_loss: 0.0561 - val_acc: 0.9827\n",
      "Epoch 5/10\n",
      "1875/1875 [==============================] - 5s 2ms/step - loss: 0.0289 - acc: 0.9912 - val_loss: 0.0542 - val_acc: 0.9837\n",
      "Epoch 6/10\n",
      "1875/1875 [==============================] - 5s 3ms/step - loss: 0.0238 - acc: 0.9930 - val_loss: 0.0534 - val_acc: 0.9835\n",
      "Epoch 7/10\n",
      "1875/1875 [==============================] - 5s 3ms/step - loss: 0.0212 - acc: 0.9937 - val_loss: 0.0513 - val_acc: 0.9843\n",
      "Epoch 8/10\n",
      "1875/1875 [==============================] - 5s 3ms/step - loss: 0.0172 - acc: 0.9953 - val_loss: 0.0541 - val_acc: 0.9848\n",
      "Epoch 9/10\n",
      "1875/1875 [==============================] - 5s 3ms/step - loss: 0.0154 - acc: 0.9957 - val_loss: 0.0512 - val_acc: 0.9857\n",
      "Epoch 10/10\n",
      "1875/1875 [==============================] - 5s 3ms/step - loss: 0.0133 - acc: 0.9963 - val_loss: 0.0544 - val_acc: 0.9852\n"
     ]
    },
    {
     "data": {
      "text/plain": [
       "<keras.callbacks.History at 0x1acd4d34100>"
      ]
     },
     "execution_count": 113,
     "metadata": {},
     "output_type": "execute_result"
    }
   ],
   "source": [
    "digit_model_frozen.fit(X_train_in, y_train, \n",
    "                       validation_data=(X_test_in, y_test),\n",
    "                       epochs=10)"
   ]
  },
  {
   "cell_type": "code",
   "execution_count": 117,
   "id": "24048e45",
   "metadata": {},
   "outputs": [
    {
     "name": "stdout",
     "output_type": "stream",
     "text": [
      "Model: \"base_frozen2\"\n",
      "_________________________________________________________________\n",
      " Layer (type)                Output Shape              Param #   \n",
      "=================================================================\n",
      " inputs (InputLayer)         [(None, 28, 28, 1)]       0         \n",
      "                                                                 \n",
      " conv2d_layer (Conv2D)       (None, 26, 26, 32)        320       \n",
      "                                                                 \n",
      " maxpool_layer (MaxPooling2D  (None, 13, 13, 32)       0         \n",
      " )                                                               \n",
      "                                                                 \n",
      " flatten_layer (Flatten)     (None, 5408)              0         \n",
      "                                                                 \n",
      "=================================================================\n",
      "Total params: 320\n",
      "Trainable params: 0\n",
      "Non-trainable params: 320\n",
      "_________________________________________________________________\n"
     ]
    }
   ],
   "source": [
    "# 특정 레이어의 가중치 고정\n",
    "# 베이스 모델의 Conv2D 레이어의 가중치 고정\n",
    "base_model_frozen2 = Model(inputs=model.input, outputs=base_model.output,\n",
    "                          name='base_frozen2')\n",
    "base_model_frozen2.get_layer('conv2d_layer').trainable = False\n",
    "base_model_frozen2.summary()"
   ]
  },
  {
   "cell_type": "code",
   "execution_count": 118,
   "id": "8f28298d",
   "metadata": {},
   "outputs": [],
   "source": [
    "dense_output2 = Dense(10, activation='softmax')(base_model_frozen2.output)"
   ]
  },
  {
   "cell_type": "code",
   "execution_count": 119,
   "id": "8cb3e4d2",
   "metadata": {},
   "outputs": [
    {
     "name": "stdout",
     "output_type": "stream",
     "text": [
      "Model: \"model_8\"\n",
      "_________________________________________________________________\n",
      " Layer (type)                Output Shape              Param #   \n",
      "=================================================================\n",
      " inputs (InputLayer)         [(None, 28, 28, 1)]       0         \n",
      "                                                                 \n",
      " conv2d_layer (Conv2D)       (None, 26, 26, 32)        320       \n",
      "                                                                 \n",
      " maxpool_layer (MaxPooling2D  (None, 13, 13, 32)       0         \n",
      " )                                                               \n",
      "                                                                 \n",
      " flatten_layer (Flatten)     (None, 5408)              0         \n",
      "                                                                 \n",
      " dense_9 (Dense)             (None, 10)                54090     \n",
      "                                                                 \n",
      "=================================================================\n",
      "Total params: 54,410\n",
      "Trainable params: 54,090\n",
      "Non-trainable params: 320\n",
      "_________________________________________________________________\n"
     ]
    }
   ],
   "source": [
    "digit_model_frozen2 = Model(inputs=base_model_frozen2.input, outputs=dense_output2)\n",
    "digit_model_frozen2.summary()"
   ]
  },
  {
   "cell_type": "code",
   "execution_count": 120,
   "id": "db27ba9d",
   "metadata": {},
   "outputs": [],
   "source": [
    "digit_model_frozen2.compile(optimizer='adam',\n",
    "                           metrics=['acc'],\n",
    "                           loss='sparse_categorical_crossentropy')"
   ]
  },
  {
   "cell_type": "code",
   "execution_count": 121,
   "id": "74de5be5",
   "metadata": {},
   "outputs": [
    {
     "name": "stdout",
     "output_type": "stream",
     "text": [
      "Epoch 1/10\n",
      "1875/1875 [==============================] - 5s 2ms/step - loss: 0.1339 - acc: 0.9647 - val_loss: 0.0627 - val_acc: 0.9804\n",
      "Epoch 2/10\n",
      "1875/1875 [==============================] - 4s 2ms/step - loss: 0.0548 - acc: 0.9844 - val_loss: 0.0525 - val_acc: 0.9831\n",
      "Epoch 3/10\n",
      "1875/1875 [==============================] - 4s 2ms/step - loss: 0.0426 - acc: 0.9873 - val_loss: 0.0515 - val_acc: 0.9827\n",
      "Epoch 4/10\n",
      "1875/1875 [==============================] - 4s 2ms/step - loss: 0.0350 - acc: 0.9897 - val_loss: 0.0489 - val_acc: 0.9838\n",
      "Epoch 5/10\n",
      "1875/1875 [==============================] - 4s 2ms/step - loss: 0.0278 - acc: 0.9915 - val_loss: 0.0471 - val_acc: 0.9848\n",
      "Epoch 6/10\n",
      "1875/1875 [==============================] - 5s 2ms/step - loss: 0.0239 - acc: 0.9925 - val_loss: 0.0500 - val_acc: 0.9844\n",
      "Epoch 7/10\n",
      "1875/1875 [==============================] - 5s 3ms/step - loss: 0.0210 - acc: 0.9938 - val_loss: 0.0510 - val_acc: 0.9846\n",
      "Epoch 8/10\n",
      "1875/1875 [==============================] - 5s 3ms/step - loss: 0.0173 - acc: 0.9955 - val_loss: 0.0568 - val_acc: 0.9832\n",
      "Epoch 9/10\n",
      "1875/1875 [==============================] - 5s 3ms/step - loss: 0.0156 - acc: 0.9955 - val_loss: 0.0512 - val_acc: 0.9849\n",
      "Epoch 10/10\n",
      "1875/1875 [==============================] - 5s 3ms/step - loss: 0.0129 - acc: 0.9966 - val_loss: 0.0607 - val_acc: 0.9835\n"
     ]
    },
    {
     "data": {
      "text/plain": [
       "<keras.callbacks.History at 0x1acd96ab760>"
      ]
     },
     "execution_count": 121,
     "metadata": {},
     "output_type": "execute_result"
    }
   ],
   "source": [
    "digit_model_frozen2.fit(X_train_in, y_train,\n",
    "                       validation_data=(X_test_in, y_test),\n",
    "                       epochs=10)"
   ]
  },
  {
   "cell_type": "code",
   "execution_count": null,
   "id": "f13cae27",
   "metadata": {},
   "outputs": [],
   "source": []
  }
 ],
 "metadata": {
  "kernelspec": {
   "display_name": "Python 3 (ipykernel)",
   "language": "python",
   "name": "python3"
  },
  "language_info": {
   "codemirror_mode": {
    "name": "ipython",
    "version": 3
   },
   "file_extension": ".py",
   "mimetype": "text/x-python",
   "name": "python",
   "nbconvert_exporter": "python",
   "pygments_lexer": "ipython3",
   "version": "3.9.15"
  }
 },
 "nbformat": 4,
 "nbformat_minor": 5
}
