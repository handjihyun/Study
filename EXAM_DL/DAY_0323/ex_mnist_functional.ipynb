{
 "cells": [
  {
   "attachments": {},
   "cell_type": "markdown",
   "metadata": {},
   "source": [
    "#### Model based on Functional API\n",
    "- 복잡한 구조의 모델 생성\n",
    "- Subclass가 어려운 경우 해당 방법으로 모델 생성\n",
    "- 기본 동작\n",
    "    * 함수 호출과 인자 전달 방식\n",
    "    * 인자 --- Layer Instance\n",
    "    * Model() 생성자에 인자로 전달\n",
    "        - inputs : 입력층에 해당하는 Layer Instance 지정\n",
    "        - outputs : 출력층에 해당하는 Layer Instance 지정"
   ]
  },
  {
   "cell_type": "code",
   "execution_count": 2,
   "metadata": {},
   "outputs": [],
   "source": [
    "from tensorflow.keras.models import Model\n",
    "from tensorflow.keras.layers import Input, Dense, Flatten, Dropout\n",
    "from tensorflow.keras.datasets.mnist import load_data\n",
    "\n",
    "import numpy as np\n",
    "import matplotlib.pyplot as plt"
   ]
  },
  {
   "attachments": {},
   "cell_type": "markdown",
   "metadata": {},
   "source": [
    "[1] 데이터 로딩 및 준비"
   ]
  },
  {
   "cell_type": "code",
   "execution_count": 3,
   "metadata": {},
   "outputs": [],
   "source": [
    "(X_train, y_train), (X_test, y_test) = load_data()"
   ]
  },
  {
   "attachments": {},
   "cell_type": "markdown",
   "metadata": {},
   "source": [
    "[2] 모델 생성"
   ]
  },
  {
   "attachments": {},
   "cell_type": "markdown",
   "metadata": {},
   "source": [
    "[2-1] 모델 설계"
   ]
  },
  {
   "cell_type": "code",
   "execution_count": 30,
   "metadata": {},
   "outputs": [],
   "source": [
    "# 입력 객체 생성\n",
    "input = Input(shape=(28, 28), name='data_input')"
   ]
  },
  {
   "cell_type": "code",
   "execution_count": 31,
   "metadata": {},
   "outputs": [],
   "source": [
    "# 은닉층 객체 생성\n",
    "flat_layer = Flatten(name='flat_layer')(input)"
   ]
  },
  {
   "cell_type": "code",
   "execution_count": 32,
   "metadata": {},
   "outputs": [],
   "source": [
    "# 출력층 객체 생성 : 퍼셉트론 10개, 활성화함수 softmax\n",
    "output = Dense(10, activation='softmax')(flat_layer)"
   ]
  },
  {
   "cell_type": "code",
   "execution_count": 33,
   "metadata": {},
   "outputs": [],
   "source": [
    "# 모델 객체 생성\n",
    "funcModel = Model(inputs=input, outputs=output, name='Func_Model')"
   ]
  },
  {
   "cell_type": "code",
   "execution_count": 34,
   "metadata": {},
   "outputs": [
    {
     "name": "stdout",
     "output_type": "stream",
     "text": [
      "Model: \"Func_Model\"\n",
      "_________________________________________________________________\n",
      "Layer (type)                 Output Shape              Param #   \n",
      "=================================================================\n",
      "data_input (InputLayer)      [(None, 28, 28)]          0         \n",
      "_________________________________________________________________\n",
      "flat_layer (Flatten)         (None, 784)               0         \n",
      "_________________________________________________________________\n",
      "dense_7 (Dense)              (None, 10)                7850      \n",
      "=================================================================\n",
      "Total params: 7,850\n",
      "Trainable params: 7,850\n",
      "Non-trainable params: 0\n",
      "_________________________________________________________________\n"
     ]
    }
   ],
   "source": [
    "# 모델 정보 확인\n",
    "funcModel.summary()"
   ]
  },
  {
   "attachments": {},
   "cell_type": "markdown",
   "metadata": {},
   "source": [
    "#### 서브클래스 방식 모델"
   ]
  },
  {
   "cell_type": "code",
   "execution_count": 75,
   "metadata": {},
   "outputs": [],
   "source": [
    "class MMModel(Model):\n",
    "    \n",
    "    # 생성자 메서드 정의\n",
    "    def __init__(self, hidden_unit, output_unit, hidden_nums):\n",
    "        # 부모 클래스 생성\n",
    "        super(MMModel, self).__init__()\n",
    "\n",
    "        # 속성\n",
    "        self.flatten_layer = Flatten()      # shape 지정 X\n",
    "        self.hidden_layers = []\n",
    "        for n in range(hidden_nums):\n",
    "            self.hidden_layers.append(Dense(hidden_unit, activation = 'relu',\n",
    "            name = f'dense_{n}'))\n",
    "        self.out_layer = Dense(output_unit, activation = 'softmax')\n",
    "    \n",
    "    # 실행함수 정의\n",
    "    def call(self, x):\n",
    "        print('MMModel의 call()')\n",
    "        ret = self.flatten_layer(x)\n",
    "        for i in self.hidden_layers:\n",
    "            ret = i(ret)\n",
    "        return self.out_layer(ret)"
   ]
  },
  {
   "cell_type": "code",
   "execution_count": 76,
   "metadata": {},
   "outputs": [],
   "source": [
    "mm_Model2 = MMModel(52, 10, 1)"
   ]
  },
  {
   "cell_type": "code",
   "execution_count": 77,
   "metadata": {},
   "outputs": [
    {
     "name": "stdout",
     "output_type": "stream",
     "text": [
      "MMModel의 call()\n"
     ]
    },
    {
     "data": {
      "text/plain": [
       "<KerasTensor: shape=(None, 10) dtype=float32 (created by layer 'mm_model_8')>"
      ]
     },
     "execution_count": 77,
     "metadata": {},
     "output_type": "execute_result"
    }
   ],
   "source": [
    "mm_Model2(Input(shape=(28, 28)))"
   ]
  },
  {
   "cell_type": "code",
   "execution_count": 78,
   "metadata": {},
   "outputs": [
    {
     "name": "stdout",
     "output_type": "stream",
     "text": [
      "Model: \"mm_model_8\"\n",
      "_________________________________________________________________\n",
      "Layer (type)                 Output Shape              Param #   \n",
      "=================================================================\n",
      "flatten_9 (Flatten)          multiple                  0         \n",
      "_________________________________________________________________\n",
      "dense_0 (Dense)              multiple                  40820     \n",
      "_________________________________________________________________\n",
      "dense_20 (Dense)             multiple                  530       \n",
      "=================================================================\n",
      "Total params: 41,350\n",
      "Trainable params: 41,350\n",
      "Non-trainable params: 0\n",
      "_________________________________________________________________\n"
     ]
    }
   ],
   "source": [
    "mm_Model2.summary()"
   ]
  },
  {
   "cell_type": "code",
   "execution_count": 85,
   "metadata": {},
   "outputs": [],
   "source": [
    "mm_Model3 = MMModel(52, 10, 1)"
   ]
  },
  {
   "cell_type": "code",
   "execution_count": 86,
   "metadata": {},
   "outputs": [
    {
     "name": "stdout",
     "output_type": "stream",
     "text": [
      "MMModel의 call()\n"
     ]
    },
    {
     "data": {
      "text/plain": [
       "<KerasTensor: shape=(None, 10) dtype=float32 (created by layer 'mm_model_11')>"
      ]
     },
     "execution_count": 86,
     "metadata": {},
     "output_type": "execute_result"
    }
   ],
   "source": [
    "mm_Model3(Input(shape=(36, 36)))"
   ]
  },
  {
   "cell_type": "code",
   "execution_count": 87,
   "metadata": {},
   "outputs": [
    {
     "name": "stdout",
     "output_type": "stream",
     "text": [
      "Model: \"mm_model_11\"\n",
      "_________________________________________________________________\n",
      "Layer (type)                 Output Shape              Param #   \n",
      "=================================================================\n",
      "flatten_12 (Flatten)         multiple                  0         \n",
      "_________________________________________________________________\n",
      "dense_0 (Dense)              multiple                  67444     \n",
      "_________________________________________________________________\n",
      "dense_23 (Dense)             multiple                  530       \n",
      "=================================================================\n",
      "Total params: 67,974\n",
      "Trainable params: 67,974\n",
      "Non-trainable params: 0\n",
      "_________________________________________________________________\n"
     ]
    }
   ],
   "source": [
    "mm_Model3.summary()"
   ]
  },
  {
   "attachments": {},
   "cell_type": "markdown",
   "metadata": {},
   "source": [
    "[2-2] 모델 생성"
   ]
  },
  {
   "cell_type": "code",
   "execution_count": 35,
   "metadata": {},
   "outputs": [],
   "source": [
    "funcModel.compile(optimizer='adam',\n",
    "loss='sparse_categorical_crossentropy',\n",
    "metrics=['acc'])"
   ]
  },
  {
   "cell_type": "code",
   "execution_count": null,
   "metadata": {},
   "outputs": [],
   "source": [
    "mm_Model3.compile()"
   ]
  },
  {
   "attachments": {},
   "cell_type": "markdown",
   "metadata": {},
   "source": [
    "### ================================================================\n",
    "클래스 ( CLASS )"
   ]
  },
  {
   "cell_type": "code",
   "execution_count": 49,
   "metadata": {},
   "outputs": [],
   "source": [
    "class A:\n",
    "\n",
    "    def __init__(self, age):\n",
    "        print('A init()')\n",
    "        self.age = age"
   ]
  },
  {
   "cell_type": "code",
   "execution_count": 50,
   "metadata": {},
   "outputs": [
    {
     "name": "stdout",
     "output_type": "stream",
     "text": [
      "A init()\n",
      "A init()\n",
      "A init()\n"
     ]
    }
   ],
   "source": [
    "a1 = A(5)\n",
    "a2 = A(7)\n",
    "a3 = A(15)"
   ]
  },
  {
   "cell_type": "code",
   "execution_count": 51,
   "metadata": {},
   "outputs": [
    {
     "data": {
      "text/plain": [
       "(5, 7, 15)"
      ]
     },
     "execution_count": 51,
     "metadata": {},
     "output_type": "execute_result"
    }
   ],
   "source": [
    "a1.age, a2.age, a3.age"
   ]
  },
  {
   "cell_type": "code",
   "execution_count": null,
   "metadata": {},
   "outputs": [],
   "source": []
  }
 ],
 "metadata": {
  "kernelspec": {
   "display_name": "DL",
   "language": "python",
   "name": "python3"
  },
  "language_info": {
   "codemirror_mode": {
    "name": "ipython",
    "version": 3
   },
   "file_extension": ".py",
   "mimetype": "text/x-python",
   "name": "python",
   "nbconvert_exporter": "python",
   "pygments_lexer": "ipython3",
   "version": "3.6.13"
  },
  "orig_nbformat": 4
 },
 "nbformat": 4,
 "nbformat_minor": 2
}
