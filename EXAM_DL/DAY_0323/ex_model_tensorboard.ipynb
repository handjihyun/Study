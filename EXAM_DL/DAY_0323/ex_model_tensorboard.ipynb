{
 "cells": [
  {
   "attachments": {},
   "cell_type": "markdown",
   "metadata": {},
   "source": [
    "#### 모델과 텐서보드\n",
    "- 텐서보드 기능 활용하여 학습 과정 확인"
   ]
  },
  {
   "attachments": {},
   "cell_type": "markdown",
   "metadata": {},
   "source": [
    "[1] 데이터 준비 및 확인"
   ]
  },
  {
   "cell_type": "code",
   "execution_count": 3,
   "metadata": {},
   "outputs": [],
   "source": [
    "from tensorflow.keras.models import Sequential\n",
    "from tensorflow.keras.layers import Dense, Flatten, Dropout\n",
    "from tensorflow.keras.callbacks import TensorBoard\n",
    "from tensorflow.keras.datasets.mnist import load_data\n",
    "\n",
    "from sklearn.model_selection import train_test_split\n",
    "\n",
    "import numpy as np\n",
    "import matplotlib.pyplot as plt"
   ]
  },
  {
   "cell_type": "code",
   "execution_count": 5,
   "metadata": {},
   "outputs": [],
   "source": [
    "(X_train, y_train), (X_test, y_test) = load_data()"
   ]
  },
  {
   "cell_type": "code",
   "execution_count": 6,
   "metadata": {},
   "outputs": [
    {
     "data": {
      "text/plain": [
       "((60000, 28, 28), (60000,), (10000, 28, 28), (10000,))"
      ]
     },
     "execution_count": 6,
     "metadata": {},
     "output_type": "execute_result"
    }
   ],
   "source": [
    "X_train.shape, y_train.shape, X_test.shape, y_test.shape"
   ]
  },
  {
   "attachments": {},
   "cell_type": "markdown",
   "metadata": {},
   "source": [
    "[2] 모델 생성"
   ]
  },
  {
   "attachments": {},
   "cell_type": "markdown",
   "metadata": {},
   "source": [
    "[2-1] 모델 설계\n",
    "- 입력 데이터 형태 => rank-1, 1-Dim\n",
    "- 입력층 : Flatten => input_shape=(28, 28)\n",
    "\n",
    "                784 입력\n",
    "- 은닉층 : Dense => 32, activation => relu\n",
    "\n",
    "                32 입력\n",
    "- 출력층 : Dense => 10, activation => softmax"
   ]
  },
  {
   "cell_type": "code",
   "execution_count": 17,
   "metadata": {},
   "outputs": [],
   "source": [
    "# Layer를 담는 객체, 모델의 역할 (즉, 학습, 평가 ...) 수행 객체\n",
    "model = Sequential(name = 'MM-MODEL')"
   ]
  },
  {
   "cell_type": "code",
   "execution_count": 18,
   "metadata": {},
   "outputs": [],
   "source": [
    "# 입력층 : 2차원 데이터 => 1차원으로 변형 후 전달\n",
    "model.add(Flatten(input_shape=(28, 28), name = 'InputFlat'))"
   ]
  },
  {
   "cell_type": "code",
   "execution_count": 19,
   "metadata": {},
   "outputs": [],
   "source": [
    "# 은닉층 : 입력 - 784개, 출력 - 32개, 퍼셉트론(뉴런, 노드, 유닛) - 32개\n",
    "model.add(Dense(32, activation='relu'))"
   ]
  },
  {
   "cell_type": "code",
   "execution_count": 20,
   "metadata": {},
   "outputs": [],
   "source": [
    "# 출력층 : 입력 - 32개, 출력 - 10개 (0 ~ 9), 퍼셉트론(뉴런, 노드, 유닛) - 10개, softmax\n",
    "model.add(Dense(10, activation='softmax'))"
   ]
  },
  {
   "attachments": {},
   "cell_type": "markdown",
   "metadata": {},
   "source": [
    "🔹모델 설계 확인"
   ]
  },
  {
   "cell_type": "code",
   "execution_count": 21,
   "metadata": {},
   "outputs": [
    {
     "name": "stdout",
     "output_type": "stream",
     "text": [
      "Model: \"MM-MODEL\"\n",
      "_________________________________________________________________\n",
      "Layer (type)                 Output Shape              Param #   \n",
      "=================================================================\n",
      "InputFlat (Flatten)          (None, 784)               0         \n",
      "_________________________________________________________________\n",
      "dense_2 (Dense)              (None, 32)                25120     \n",
      "_________________________________________________________________\n",
      "dense_3 (Dense)              (None, 10)                330       \n",
      "=================================================================\n",
      "Total params: 25,450\n",
      "Trainable params: 25,450\n",
      "Non-trainable params: 0\n",
      "_________________________________________________________________\n"
     ]
    }
   ],
   "source": [
    "model.summary()"
   ]
  },
  {
   "cell_type": "code",
   "execution_count": 22,
   "metadata": {},
   "outputs": [],
   "source": [
    "from tensorflow.keras.utils import plot_model"
   ]
  },
  {
   "cell_type": "code",
   "execution_count": 25,
   "metadata": {},
   "outputs": [
    {
     "data": {
      "image/png": "[encoded data removed]",
      "text/plain": [
       "<IPython.core.display.Image object>"
      ]
     },
     "execution_count": 25,
     "metadata": {},
     "output_type": "execute_result"
    }
   ],
   "source": [
    "plot_model(model, show_dtype=True, show_shapes=True, show_layer_names=True)"
   ]
  },
  {
   "attachments": {},
   "cell_type": "markdown",
   "metadata": {},
   "source": [
    "[2-2] 모델 생성\n",
    "- 최적화 방법 : optimizer = 최적화명 / 최적화 객체\n",
    "- 손실함수 : loss = 함수명 / 객체\n",
    "- 평가지표 : metrics=[]"
   ]
  },
  {
   "cell_type": "code",
   "execution_count": 27,
   "metadata": {},
   "outputs": [],
   "source": [
    "model.compile(optimizer='adam',\n",
    "loss='sparse_categorical_crossentropy',\n",
    "metrics=['acc'])"
   ]
  },
  {
   "attachments": {},
   "cell_type": "markdown",
   "metadata": {},
   "source": [
    "[3] 학습\n",
    "- 학습 횟수 (처음부터 ~ 끝까지 : 1번) epochs : 10\n",
    "- 학습 분량 (전체 데이터에서 나눈 분량) batch_size : (default) 32 ==> W, b 업데이트\n",
    "- 검증 설정 validation_split = 비율, validation_data = (데이터, 라벨) ===> 학습 시에 검증에 대한 loss, 평가\n",
    "- 자동화 기능 callbacks=[__]\n",
    "    * 불필요한 학습 제어 => EarlyStop 조기종료 기능\n",
    "    * 모델 및 가중치 백업 제어 => 조건에 따른 모델 저장 ModelCheckPoint\n",
    "    * 학습률 제어 => 전체 학습 횟수별로 `학습률` 설정   LearningRate\n",
    "    * 학습과정 시각화 ==> 텐서보드 활용 Tensorboard"
   ]
  },
  {
   "attachments": {},
   "cell_type": "markdown",
   "metadata": {},
   "source": [
    "[3-1] 콜백관련 작업"
   ]
  },
  {
   "cell_type": "code",
   "execution_count": 28,
   "metadata": {},
   "outputs": [],
   "source": [
    "# 로그 파일을 저장하기 위한 폴더 생성\n",
    "%mkdir logs"
   ]
  },
  {
   "cell_type": "code",
   "execution_count": 29,
   "metadata": {},
   "outputs": [
    {
     "name": "stdout",
     "output_type": "stream",
     "text": [
      " D ����̺��� ����: DNA\n",
      " ���� �Ϸ� ��ȣ: 8440-6C9E\n",
      "\n",
      " d:\\Study\\EXAM_DL\\DAY_0323 ���͸�\n",
      "\n",
      "2023-03-23  ���� 10:02    <DIR>          .\n",
      "2023-03-23  ���� 10:02    <DIR>          ..\n",
      "2023-03-23  ���� 10:26            27,549 ex_model_tensorboard.ipynb\n",
      "2023-03-23  ���� 10:42    <DIR>          logs\n",
      "2023-03-23  ���� 10:28            17,702 model.png\n",
      "               2�� ����              45,251 ����Ʈ\n",
      "               3�� ���͸�   1,390,288,896 ����Ʈ ����\n"
     ]
    }
   ],
   "source": [
    "# 폴더 생성 확인\n",
    "%ls"
   ]
  },
  {
   "cell_type": "code",
   "execution_count": 30,
   "metadata": {},
   "outputs": [],
   "source": [
    "# 텐서보드 콜백객체 생성\n",
    "tensorboard_CB = TensorBoard(log_dir='./logs')"
   ]
  },
  {
   "attachments": {},
   "cell_type": "markdown",
   "metadata": {},
   "source": [
    "[3-2] 학습 진행"
   ]
  },
  {
   "cell_type": "code",
   "execution_count": 32,
   "metadata": {},
   "outputs": [],
   "source": [
    "EPOCHS = 10"
   ]
  },
  {
   "cell_type": "markdown",
   "metadata": {},
   "source": [
    "🔹학습 진행"
   ]
  },
  {
   "cell_type": "code",
   "execution_count": 33,
   "metadata": {},
   "outputs": [
    {
     "name": "stderr",
     "output_type": "stream",
     "text": [
      "c:\\ProgramData\\Anaconda3\\envs\\DL\\lib\\importlib\\_bootstrap.py:219: RuntimeWarning: numpy.ufunc size changed, may indicate binary incompatibility. Expected 192 from C header, got 216 from PyObject\n",
      "  return f(*args, **kwds)\n"
     ]
    },
    {
     "name": "stdout",
     "output_type": "stream",
     "text": [
      "Epoch 1/10\n",
      "1875/1875 [==============================] - 3s 1ms/step - loss: 2.3130 - acc: 0.5317\n",
      "Epoch 2/10\n",
      "1875/1875 [==============================] - 2s 1ms/step - loss: 0.8620 - acc: 0.7349\n",
      "Epoch 3/10\n",
      "1875/1875 [==============================] - 3s 1ms/step - loss: 0.5668 - acc: 0.8507\n",
      "Epoch 4/10\n",
      "1875/1875 [==============================] - 3s 1ms/step - loss: 0.4479 - acc: 0.8857\n",
      "Epoch 5/10\n",
      "1875/1875 [==============================] - 3s 2ms/step - loss: 0.3706 - acc: 0.9053\n",
      "Epoch 6/10\n",
      "1875/1875 [==============================] - 3s 2ms/step - loss: 0.3276 - acc: 0.9164\n",
      "Epoch 7/10\n",
      "1875/1875 [==============================] - 3s 2ms/step - loss: 0.3011 - acc: 0.9234\n",
      "Epoch 8/10\n",
      "1875/1875 [==============================] - 3s 2ms/step - loss: 0.2879 - acc: 0.9265\n",
      "Epoch 9/10\n",
      "1875/1875 [==============================] - 3s 2ms/step - loss: 0.2713 - acc: 0.9300\n",
      "Epoch 10/10\n",
      "1875/1875 [==============================] - 3s 2ms/step - loss: 0.2654 - acc: 0.9324A: 1s -\n"
     ]
    },
    {
     "data": {
      "text/plain": [
       "<keras.callbacks.History at 0x28a63eeecc0>"
      ]
     },
     "execution_count": 33,
     "metadata": {},
     "output_type": "execute_result"
    }
   ],
   "source": [
    "model.fit(X_train, y_train, epochs=EPOCHS, callbacks=[tensorboard_CB])"
   ]
  },
  {
   "cell_type": "code",
   "execution_count": 35,
   "metadata": {},
   "outputs": [
    {
     "name": "stdout",
     "output_type": "stream",
     "text": [
      "Epoch 1/10\n",
      "1500/1500 [==============================] - 6s 4ms/step - loss: 0.2196 - acc: 0.9444 - val_loss: 0.2748 - val_acc: 0.9340ss: 0.2184 \n",
      "Epoch 2/10\n",
      "1500/1500 [==============================] - 5s 3ms/step - loss: 0.2287 - acc: 0.9424 - val_loss: 0.2948 - val_acc: 0.9352\n",
      "Epoch 3/10\n",
      "1500/1500 [==============================] - 9s 6ms/step - loss: 0.2174 - acc: 0.9452 - val_loss: 0.3123 - val_acc: 0.9297\n",
      "Epoch 4/10\n",
      "1500/1500 [==============================] - 5s 3ms/step - loss: 0.2179 - acc: 0.9454 - val_loss: 0.3095 - val_acc: 0.9357\n",
      "Epoch 5/10\n",
      "1500/1500 [==============================] - 6s 4ms/step - loss: 0.2157 - acc: 0.9466 - val_loss: 0.3436 - val_acc: 0.9321\n",
      "Epoch 6/10\n",
      "1500/1500 [==============================] - 5s 4ms/step - loss: 0.2210 - acc: 0.9455 - val_loss: 0.3162 - val_acc: 0.9293 1s - l\n",
      "Epoch 7/10\n",
      "1500/1500 [==============================] - 6s 4ms/step - loss: 0.2133 - acc: 0.9462 - val_loss: 0.2842 - val_acc: 0.9385\n",
      "Epoch 8/10\n",
      "1500/1500 [==============================] - 5s 4ms/step - loss: 0.2162 - acc: 0.9471 - val_loss: 0.3046 - val_acc: 0.9385\n",
      "Epoch 9/10\n",
      "1500/1500 [==============================] - 4s 3ms/step - loss: 0.2083 - acc: 0.9476 - val_loss: 0.3783 - val_acc: 0.9317\n",
      "Epoch 10/10\n",
      "1500/1500 [==============================] - 4s 3ms/step - loss: 0.2091 - acc: 0.9471 - val_loss: 0.2870 - val_acc: 0.9386\n"
     ]
    }
   ],
   "source": [
    "history = model.fit(X_train, y_train, epochs=EPOCHS,\n",
    "validation_split = 0.2,\n",
    "callbacks=[tensorboard_CB])"
   ]
  },
  {
   "attachments": {},
   "cell_type": "markdown",
   "metadata": {},
   "source": [
    "🔹학습 결과 시각화"
   ]
  },
  {
   "cell_type": "code",
   "execution_count": 39,
   "metadata": {},
   "outputs": [
    {
     "data": {
      "text/html": [
       "<div>\n",
       "<style scoped>\n",
       "    .dataframe tbody tr th:only-of-type {\n",
       "        vertical-align: middle;\n",
       "    }\n",
       "\n",
       "    .dataframe tbody tr th {\n",
       "        vertical-align: top;\n",
       "    }\n",
       "\n",
       "    .dataframe thead th {\n",
       "        text-align: right;\n",
       "    }\n",
       "</style>\n",
       "<table border=\"1\" class=\"dataframe\">\n",
       "  <thead>\n",
       "    <tr style=\"text-align: right;\">\n",
       "      <th></th>\n",
       "      <th>loss</th>\n",
       "      <th>acc</th>\n",
       "      <th>val_loss</th>\n",
       "      <th>val_acc</th>\n",
       "    </tr>\n",
       "  </thead>\n",
       "  <tbody>\n",
       "    <tr>\n",
       "      <th>0</th>\n",
       "      <td>0.219621</td>\n",
       "      <td>0.944396</td>\n",
       "      <td>0.274772</td>\n",
       "      <td>0.934000</td>\n",
       "    </tr>\n",
       "    <tr>\n",
       "      <th>1</th>\n",
       "      <td>0.228730</td>\n",
       "      <td>0.942417</td>\n",
       "      <td>0.294752</td>\n",
       "      <td>0.935250</td>\n",
       "    </tr>\n",
       "    <tr>\n",
       "      <th>2</th>\n",
       "      <td>0.217363</td>\n",
       "      <td>0.945208</td>\n",
       "      <td>0.312276</td>\n",
       "      <td>0.929667</td>\n",
       "    </tr>\n",
       "    <tr>\n",
       "      <th>3</th>\n",
       "      <td>0.217950</td>\n",
       "      <td>0.945437</td>\n",
       "      <td>0.309465</td>\n",
       "      <td>0.935667</td>\n",
       "    </tr>\n",
       "    <tr>\n",
       "      <th>4</th>\n",
       "      <td>0.215705</td>\n",
       "      <td>0.946646</td>\n",
       "      <td>0.343624</td>\n",
       "      <td>0.932083</td>\n",
       "    </tr>\n",
       "    <tr>\n",
       "      <th>5</th>\n",
       "      <td>0.220965</td>\n",
       "      <td>0.945458</td>\n",
       "      <td>0.316221</td>\n",
       "      <td>0.929250</td>\n",
       "    </tr>\n",
       "    <tr>\n",
       "      <th>6</th>\n",
       "      <td>0.213296</td>\n",
       "      <td>0.946208</td>\n",
       "      <td>0.284212</td>\n",
       "      <td>0.938500</td>\n",
       "    </tr>\n",
       "    <tr>\n",
       "      <th>7</th>\n",
       "      <td>0.216250</td>\n",
       "      <td>0.947062</td>\n",
       "      <td>0.304604</td>\n",
       "      <td>0.938500</td>\n",
       "    </tr>\n",
       "    <tr>\n",
       "      <th>8</th>\n",
       "      <td>0.208269</td>\n",
       "      <td>0.947646</td>\n",
       "      <td>0.378304</td>\n",
       "      <td>0.931750</td>\n",
       "    </tr>\n",
       "    <tr>\n",
       "      <th>9</th>\n",
       "      <td>0.209104</td>\n",
       "      <td>0.947062</td>\n",
       "      <td>0.287018</td>\n",
       "      <td>0.938583</td>\n",
       "    </tr>\n",
       "  </tbody>\n",
       "</table>\n",
       "</div>"
      ],
      "text/plain": [
       "       loss       acc  val_loss   val_acc\n",
       "0  0.219621  0.944396  0.274772  0.934000\n",
       "1  0.228730  0.942417  0.294752  0.935250\n",
       "2  0.217363  0.945208  0.312276  0.929667\n",
       "3  0.217950  0.945437  0.309465  0.935667\n",
       "4  0.215705  0.946646  0.343624  0.932083\n",
       "5  0.220965  0.945458  0.316221  0.929250\n",
       "6  0.213296  0.946208  0.284212  0.938500\n",
       "7  0.216250  0.947062  0.304604  0.938500\n",
       "8  0.208269  0.947646  0.378304  0.931750\n",
       "9  0.209104  0.947062  0.287018  0.938583"
      ]
     },
     "execution_count": 39,
     "metadata": {},
     "output_type": "execute_result"
    }
   ],
   "source": [
    "# 학습 진행 결과 ==> fit() 결과 반환값 History 객체 사용\n",
    "import pandas as pd\n",
    "history_df = pd.DataFrame(history.history)\n",
    "history_df"
   ]
  },
  {
   "cell_type": "code",
   "execution_count": 46,
   "metadata": {},
   "outputs": [
    {
     "data": {
      "image/png": "[encoded data removed]",
      "text/plain": [
       "<Figure size 720x360 with 1 Axes>"
      ]
     },
     "metadata": {
      "needs_background": "light"
     },
     "output_type": "display_data"
    }
   ],
   "source": [
    "# 검증 데이터의 정확도와 학습 데이터의 정확도\n",
    "plt.figure(figsize=(10, 5))\n",
    "plt.plot(range(1, EPOCHS+1), round(history_df.acc, 3), 'ob-')\n",
    "plt.plot(range(1, EPOCHS+1), round(history_df.val_acc, 3), 'or-')\n",
    "plt.xlabel('EPOCHS')\n",
    "plt.ylabel('ACCURACY')\n",
    "plt.show()"
   ]
  },
  {
   "attachments": {},
   "cell_type": "markdown",
   "metadata": {},
   "source": [
    "🔹브라우저 텐서보드 연결"
   ]
  },
  {
   "cell_type": "code",
   "execution_count": null,
   "metadata": {},
   "outputs": [],
   "source": [
    "# python -m tensorboard.main --logdir=./logs"
   ]
  },
  {
   "attachments": {},
   "cell_type": "markdown",
   "metadata": {},
   "source": [
    "[3-3] 학습 결과 확인"
   ]
  },
  {
   "attachments": {},
   "cell_type": "markdown",
   "metadata": {},
   "source": [
    "[4] 평가"
   ]
  },
  {
   "attachments": {},
   "cell_type": "markdown",
   "metadata": {},
   "source": [
    "[5] 테스트"
   ]
  },
  {
   "attachments": {},
   "cell_type": "markdown",
   "metadata": {},
   "source": [
    "[6] 모델 저장\n",
    "- 지정한 평가지표 기준 이상인 경우 모델 저장\n",
    "- 모델 저장\n",
    "    * hdf5 포맷 ==> 저장명.h5\n",
    "    * SavedModel 포맷 ==> 저장명"
   ]
  },
  {
   "attachments": {},
   "cell_type": "markdown",
   "metadata": {},
   "source": [
    "[6-1] 모델 저장"
   ]
  },
  {
   "cell_type": "code",
   "execution_count": 48,
   "metadata": {},
   "outputs": [],
   "source": [
    "model.save('./mm_model.h5')"
   ]
  },
  {
   "cell_type": "code",
   "execution_count": 49,
   "metadata": {},
   "outputs": [
    {
     "name": "stdout",
     "output_type": "stream",
     "text": [
      " D ����̺��� ����: DNA\n",
      " ���� �Ϸ� ��ȣ: 8440-6C9E\n",
      "\n",
      " d:\\Study\\EXAM_DL\\DAY_0323 ���͸�\n",
      "\n",
      "2023-03-23  ���� 10:02    <DIR>          .\n",
      "2023-03-23  ���� 10:02    <DIR>          ..\n",
      "2023-03-23  ���� 11:05            67,070 ex_model_tensorboard.ipynb\n",
      "2023-03-23  ���� 10:42    <DIR>          logs\n",
      "2023-03-23  ���� 11:16           332,464 mm_model.h5\n",
      "2023-03-23  ���� 10:28            17,702 model.png\n",
      "               3�� ����             417,236 ����Ʈ\n",
      "               3�� ���͸�   1,389,588,480 ����Ʈ ����\n"
     ]
    }
   ],
   "source": [
    "%ls"
   ]
  },
  {
   "cell_type": "code",
   "execution_count": 50,
   "metadata": {},
   "outputs": [],
   "source": [
    "model.save_weights('./mm_model_weights.h5')"
   ]
  },
  {
   "cell_type": "code",
   "execution_count": 51,
   "metadata": {},
   "outputs": [
    {
     "name": "stdout",
     "output_type": "stream",
     "text": [
      " D ����̺��� ����: DNA\n",
      " ���� �Ϸ� ��ȣ: 8440-6C9E\n",
      "\n",
      " d:\\Study\\EXAM_DL\\DAY_0323 ���͸�\n",
      "\n",
      "2023-03-23  ���� 10:02    <DIR>          .\n",
      "2023-03-23  ���� 10:02    <DIR>          ..\n",
      "2023-03-23  ���� 11:05            67,070 ex_model_tensorboard.ipynb\n",
      "2023-03-23  ���� 10:42    <DIR>          logs\n",
      "2023-03-23  ���� 11:16           332,464 mm_model.h5\n",
      "2023-03-23  ���� 11:17           114,536 mm_model_weights.h5\n",
      "2023-03-23  ���� 10:28            17,702 model.png\n",
      "               4�� ����             531,772 ����Ʈ\n",
      "               3�� ���͸�   1,389,473,792 ����Ʈ ����\n"
     ]
    }
   ],
   "source": [
    "%ls"
   ]
  },
  {
   "attachments": {},
   "cell_type": "markdown",
   "metadata": {},
   "source": [
    "[6-2] 모델 읽기"
   ]
  },
  {
   "cell_type": "code",
   "execution_count": 52,
   "metadata": {},
   "outputs": [],
   "source": [
    "from tensorflow.keras.models import load_model"
   ]
  },
  {
   "cell_type": "code",
   "execution_count": 62,
   "metadata": {},
   "outputs": [],
   "source": [
    "mm_model = load_model('./mm_model.h5')"
   ]
  },
  {
   "cell_type": "code",
   "execution_count": 65,
   "metadata": {},
   "outputs": [
    {
     "name": "stdout",
     "output_type": "stream",
     "text": [
      "1/1 [==============================] - 0s 31ms/step - loss: 0.0000e+00 - acc: 0.0000e+00\n"
     ]
    },
    {
     "data": {
      "text/plain": [
       "[0.0, 0.0]"
      ]
     },
     "execution_count": 65,
     "metadata": {},
     "output_type": "execute_result"
    }
   ],
   "source": [
    "mm_model.evaluate(X_test[0].reshape(-1, 784))"
   ]
  },
  {
   "cell_type": "code",
   "execution_count": 73,
   "metadata": {},
   "outputs": [
    {
     "data": {
      "text/plain": [
       "<tf.Variable 'dense_3/kernel:0' shape=(32, 10) dtype=float32, numpy=\n",
       "array([[-0.03291122, -0.05874482, -0.03185597, -0.0461194 , -0.02961025,\n",
       "        -0.04353568, -0.01630242, -0.06639528, -0.05850935, -0.07557848],\n",
       "       [ 0.22069791,  0.30485305, -0.1284076 , -0.20331417,  0.15714754,\n",
       "        -0.04791515, -0.10944206,  0.01126216, -0.35720703,  0.26519793],\n",
       "       [ 0.2658643 , -0.27265102,  0.36438814, -0.18355641,  0.02944966,\n",
       "         0.1467828 ,  0.02003237, -0.12549883, -0.13370925, -0.33223024],\n",
       "       [-0.3825439 ,  0.0512494 , -0.03506518, -0.00247266,  0.01976822,\n",
       "        -0.00914656,  0.01583952,  0.02295892,  0.00396969, -0.00340517],\n",
       "       [-0.24987188, -0.11780499, -0.23158106, -0.11410543, -0.13061732,\n",
       "         0.06553189,  0.27361166,  0.17817318, -0.2645552 , -0.12072902],\n",
       "       [ 0.23848134,  0.18571545,  0.20456882,  0.18845262,  0.2115696 ,\n",
       "         0.20174079,  0.21660899,  0.19161254,  0.17437775,  0.20429909],\n",
       "       [ 0.1531417 ,  0.01261277, -0.03557692,  0.07026957,  0.21031763,\n",
       "        -0.17524093, -0.16519886,  0.08358272,  0.00980649,  0.20712513],\n",
       "       [ 0.20109822,  0.29755247,  0.2721037 , -0.05965127,  0.3285903 ,\n",
       "         0.2693978 , -0.17745745, -0.01773126, -0.2262108 , -0.05261771],\n",
       "       [ 0.1772588 , -0.3275222 , -0.2186037 ,  0.03059029,  0.26176772,\n",
       "         0.23328167,  0.17238508,  0.29515702,  0.32480752, -0.13879582],\n",
       "       [ 0.07677613,  0.21485707,  0.24026297, -0.31064928,  0.27636138,\n",
       "         0.23952232,  0.22694401, -0.01011007,  0.15791693,  0.05342877],\n",
       "       [-0.7994222 ,  0.11521138,  0.08641359,  0.0253761 ,  0.07598441,\n",
       "         0.04950255,  0.08227541,  0.07673518,  0.0502642 ,  0.06559964],\n",
       "       [-0.21851163, -0.14908567,  0.2558189 , -0.10596208, -0.37648776,\n",
       "        -0.3538555 ,  0.3257922 , -0.14228635, -0.24531269, -0.14068352],\n",
       "       [ 0.14892672,  0.18264744,  0.17766117,  0.2008721 ,  0.1738554 ,\n",
       "         0.18150026,  0.09416497,  0.18011315,  0.15464796,  0.18375498],\n",
       "       [ 0.1324321 ,  0.15392455,  0.12166548,  0.16184075,  0.0955388 ,\n",
       "         0.19019067,  0.18166421,  0.14661066,  0.15965566,  0.16285896],\n",
       "       [ 0.10750487,  0.15989116,  0.17787606,  0.17138809,  0.12343287,\n",
       "         0.11907931,  0.12318525,  0.09652821,  0.09829486, -0.12445707],\n",
       "       [ 0.24368954,  0.24943683,  0.24156043,  0.23950228,  0.22481717,\n",
       "         0.25765654,  0.23120463,  0.2650609 ,  0.18804488,  0.22662705],\n",
       "       [-0.48255455, -0.11104451,  0.08157462, -0.04134381, -0.31046864,\n",
       "        -0.0588534 , -0.05093873, -0.04110454, -0.19379397, -0.12371492],\n",
       "       [-0.36072427, -0.30937934,  0.09528105,  0.2172372 ,  0.30787072,\n",
       "         0.20389116,  0.2815913 , -0.30432323,  0.04121346, -0.05730697],\n",
       "       [-0.09943189, -0.04313624, -0.02275508, -0.03859668, -0.1138465 ,\n",
       "        -0.05926864, -0.08966777, -0.02770841, -0.06866514, -0.10680076],\n",
       "       [ 0.05615272, -0.33689943,  0.31333262, -0.06712877,  0.14604454,\n",
       "         0.06988619, -0.25536025, -0.01274589, -0.24359646, -0.03579576],\n",
       "       [ 0.12608244,  0.14314082,  0.1463825 ,  0.13039935,  0.17223406,\n",
       "         0.13780294,  0.12483734,  0.14065184,  0.13849223,  0.13616984],\n",
       "       [ 0.0135362 ,  0.21512397,  0.11785138,  0.27455124,  0.22697107,\n",
       "         0.21550299,  0.11242873,  0.20220385,  0.0728049 ,  0.22336121],\n",
       "       [ 0.20674382, -0.32170898, -0.08531863, -0.08195598, -0.16066527,\n",
       "         0.16065781, -0.15722232, -0.2836152 , -0.3419451 ,  0.33954453],\n",
       "       [-0.13640313, -0.31244802, -0.26231182,  0.12928572,  0.34341776,\n",
       "        -0.1386979 , -0.25301784,  0.06662567,  0.31205654,  0.33511403],\n",
       "       [-0.26094496, -0.36327153,  0.0013899 , -0.23211694, -0.26355967,\n",
       "        -0.02402617,  0.21423756, -0.28825316,  0.06638473, -0.2270878 ],\n",
       "       [ 0.05405866,  0.06237384,  0.05593399,  0.06908668,  0.08330781,\n",
       "         0.05882332,  0.04604203,  0.08836969,  0.03917848,  0.09529399],\n",
       "       [-0.03082527, -0.14980897, -0.22733441, -0.07361247, -0.11172471,\n",
       "        -0.00789104, -0.0514999 , -0.12695155, -0.0787574 , -0.0927579 ],\n",
       "       [-0.19725968,  0.10360696, -0.05063895, -0.2763378 , -0.19836684,\n",
       "        -0.29615283, -0.35205418, -0.20426883, -0.18968366, -0.2594674 ],\n",
       "       [-0.03000647, -0.03632354, -0.05751103, -0.2286953 ,  0.10340448,\n",
       "        -0.02872065, -0.35491166, -0.04284426, -0.02485193, -0.22137018],\n",
       "       [ 0.20303315, -0.05271871,  0.25252438, -0.18648145,  0.32122317,\n",
       "        -0.16807736,  0.1483564 ,  0.02495635, -0.01145179,  0.18938895],\n",
       "       [ 0.17795111,  0.14804465,  0.17093046,  0.07560924,  0.15702438,\n",
       "         0.16783036,  0.21032046,  0.07902853,  0.10979214,  0.04668735],\n",
       "       [-0.03655466, -0.23645091, -0.5288104 , -0.15663022, -0.00755209,\n",
       "        -0.18754101, -0.06108299,  0.05635654, -0.11540282, -0.08933438]],\n",
       "      dtype=float32)>"
      ]
     },
     "execution_count": 73,
     "metadata": {},
     "output_type": "execute_result"
    }
   ],
   "source": [
    "mm_model.get_layer('dense_3').kernel"
   ]
  },
  {
   "cell_type": "code",
   "execution_count": null,
   "metadata": {},
   "outputs": [],
   "source": []
  }
 ],
 "metadata": {
  "kernelspec": {
   "display_name": "DL",
   "language": "python",
   "name": "python3"
  },
  "language_info": {
   "codemirror_mode": {
    "name": "ipython",
    "version": 3
   },
   "file_extension": ".py",
   "mimetype": "text/x-python",
   "name": "python",
   "nbconvert_exporter": "python",
   "pygments_lexer": "ipython3",
   "version": "3.6.13"
  },
  "orig_nbformat": 4
 },
 "nbformat": 4,
 "nbformat_minor": 2
}
