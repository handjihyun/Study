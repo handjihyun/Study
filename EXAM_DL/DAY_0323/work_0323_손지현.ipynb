{
 "cells": [
  {
   "cell_type": "code",
   "execution_count": 30,
   "metadata": {},
   "outputs": [],
   "source": [
    "from tensorflow.keras.datasets.cifar10 import load_data\n",
    "from tensorflow.keras.models import Sequential\n",
    "from tensorflow.keras.layers import Dense, Flatten, Conv2D, MaxPooling2D\n",
    "\n",
    "import matplotlib.pyplot as plt"
   ]
  },
  {
   "cell_type": "code",
   "execution_count": 2,
   "metadata": {},
   "outputs": [
    {
     "name": "stdout",
     "output_type": "stream",
     "text": [
      "Downloading data from https://www.cs.toronto.edu/~kriz/cifar-10-python.tar.gz\n",
      "170500096/170498071 [==============================] - 78s 0us/step\n",
      "170508288/170498071 [==============================] - 78s 0us/step\n"
     ]
    }
   ],
   "source": [
    "(X_train, y_train), (X_test, y_test) = load_data()"
   ]
  },
  {
   "cell_type": "code",
   "execution_count": 39,
   "metadata": {},
   "outputs": [
    {
     "data": {
      "text/plain": [
       "((50000, 32, 32, 3), (50000, 1))"
      ]
     },
     "execution_count": 39,
     "metadata": {},
     "output_type": "execute_result"
    }
   ],
   "source": [
    "X_train.shape, y_train.shape"
   ]
  },
  {
   "cell_type": "code",
   "execution_count": 40,
   "metadata": {},
   "outputs": [
    {
     "data": {
      "text/plain": [
       "((10000, 32, 32, 3), (10000, 1))"
      ]
     },
     "execution_count": 40,
     "metadata": {},
     "output_type": "execute_result"
    }
   ],
   "source": [
    "X_test.shape, y_test.shape"
   ]
  },
  {
   "cell_type": "code",
   "execution_count": 57,
   "metadata": {},
   "outputs": [],
   "source": [
    "model = Sequential(name='MY_MODEL')\n",
    "model.add(Conv2D(3, (3, 3), input_shape=(32, 32, 3)))\n",
    "model.add(MaxPooling2D())\n",
    "model.add(Conv2D(1, (3, 3)))\n",
    "model.add(Flatten())\n",
    "model.add(Dense(10, activation='softmax'))"
   ]
  },
  {
   "cell_type": "code",
   "execution_count": 58,
   "metadata": {},
   "outputs": [
    {
     "name": "stdout",
     "output_type": "stream",
     "text": [
      "Model: \"MY_MODEL\"\n",
      "_________________________________________________________________\n",
      "Layer (type)                 Output Shape              Param #   \n",
      "=================================================================\n",
      "conv2d_11 (Conv2D)           (None, 30, 30, 3)         84        \n",
      "_________________________________________________________________\n",
      "max_pooling2d_11 (MaxPooling (None, 15, 15, 3)         0         \n",
      "_________________________________________________________________\n",
      "conv2d_12 (Conv2D)           (None, 13, 13, 1)         28        \n",
      "_________________________________________________________________\n",
      "flatten_5 (Flatten)          (None, 169)               0         \n",
      "_________________________________________________________________\n",
      "dense_6 (Dense)              (None, 10)                1700      \n",
      "=================================================================\n",
      "Total params: 1,812\n",
      "Trainable params: 1,812\n",
      "Non-trainable params: 0\n",
      "_________________________________________________________________\n"
     ]
    }
   ],
   "source": [
    "model.summary()"
   ]
  },
  {
   "cell_type": "code",
   "execution_count": 59,
   "metadata": {},
   "outputs": [],
   "source": [
    "model.compile(optimizer='adam',\n",
    "loss = 'sparse_categorical_crossentropy',\n",
    "metrics = ['acc'])"
   ]
  },
  {
   "cell_type": "code",
   "execution_count": 60,
   "metadata": {},
   "outputs": [
    {
     "name": "stdout",
     "output_type": "stream",
     "text": [
      "Epoch 1/10\n",
      "1250/1250 [==============================] - 21s 16ms/step - loss: 13.6114 - acc: 0.1698 - val_loss: 3.4099 - val_acc: 0.1790\n",
      "Epoch 2/10\n",
      "1250/1250 [==============================] - 12s 9ms/step - loss: 2.4912 - acc: 0.2193 - val_loss: 2.1351 - val_acc: 0.2303\n",
      "Epoch 3/10\n",
      "1250/1250 [==============================] - 12s 10ms/step - loss: 2.0375 - acc: 0.2670 - val_loss: 1.9821 - val_acc: 0.2867\n",
      "Epoch 4/10\n",
      "1250/1250 [==============================] - 12s 10ms/step - loss: 1.9567 - acc: 0.2961 - val_loss: 1.9406 - val_acc: 0.3037\n",
      "Epoch 5/10\n",
      "1250/1250 [==============================] - 13s 11ms/step - loss: 1.9172 - acc: 0.3133 - val_loss: 1.9233 - val_acc: 0.3190\n",
      "Epoch 6/10\n",
      "1250/1250 [==============================] - 14s 12ms/step - loss: 1.9019 - acc: 0.3171 - val_loss: 1.8830 - val_acc: 0.3328\n",
      "Epoch 7/10\n",
      "1250/1250 [==============================] - 16s 13ms/step - loss: 1.8872 - acc: 0.3257 - val_loss: 1.8659 - val_acc: 0.3350\n",
      "Epoch 8/10\n",
      "1250/1250 [==============================] - 17s 14ms/step - loss: 1.8737 - acc: 0.3327 - val_loss: 1.9054 - val_acc: 0.3251\n",
      "Epoch 9/10\n",
      "1250/1250 [==============================] - 18s 14ms/step - loss: 1.8695 - acc: 0.3358 - val_loss: 1.8741 - val_acc: 0.3328\n",
      "Epoch 10/10\n",
      "1250/1250 [==============================] - 17s 14ms/step - loss: 1.8611 - acc: 0.3388 - val_loss: 1.8894 - val_acc: 0.3284\n"
     ]
    }
   ],
   "source": [
    "history = model.fit(X_train, y_train,\n",
    "epochs = 10,\n",
    "validation_split = 0.2)"
   ]
  },
  {
   "cell_type": "code",
   "execution_count": 61,
   "metadata": {},
   "outputs": [
    {
     "data": {
      "text/plain": [
       "(32, 32, 3)"
      ]
     },
     "execution_count": 61,
     "metadata": {},
     "output_type": "execute_result"
    }
   ],
   "source": [
    "X_test[0].shape"
   ]
  },
  {
   "cell_type": "code",
   "execution_count": 63,
   "metadata": {},
   "outputs": [
    {
     "data": {
      "image/png": "[encoded data removed]",
      "text/plain": [
       "<Figure size 432x288 with 1 Axes>"
      ]
     },
     "metadata": {
      "needs_background": "light"
     },
     "output_type": "display_data"
    }
   ],
   "source": [
    "plt.imshow(X_test[1])\n",
    "plt.axis('off')\n",
    "plt.show()"
   ]
  },
  {
   "cell_type": "code",
   "execution_count": 64,
   "metadata": {},
   "outputs": [],
   "source": [
    "class_names = ['airplane', 'automobile', 'bird', 'cat', 'deer', 'dog', 'frog', 'horse', 'ship', 'truck']"
   ]
  },
  {
   "cell_type": "code",
   "execution_count": 68,
   "metadata": {},
   "outputs": [
    {
     "data": {
      "text/plain": [
       "array([[0.13747771, 0.11018405, 0.09455278, 0.04007316, 0.02103548,\n",
       "        0.0163151 , 0.01072499, 0.04914116, 0.23110268, 0.28939286]],\n",
       "      dtype=float32)"
      ]
     },
     "execution_count": 68,
     "metadata": {},
     "output_type": "execute_result"
    }
   ],
   "source": [
    "y_pre = model.predict(X_test[1].reshape(1, 32, 32, 3))\n",
    "y_pre"
   ]
  },
  {
   "cell_type": "code",
   "execution_count": 69,
   "metadata": {},
   "outputs": [],
   "source": [
    "index = y_pre.argmax()"
   ]
  },
  {
   "cell_type": "code",
   "execution_count": 70,
   "metadata": {},
   "outputs": [
    {
     "data": {
      "text/plain": [
       "'truck'"
      ]
     },
     "execution_count": 70,
     "metadata": {},
     "output_type": "execute_result"
    }
   ],
   "source": [
    "class_names[index]"
   ]
  },
  {
   "cell_type": "code",
   "execution_count": null,
   "metadata": {},
   "outputs": [],
   "source": []
  }
 ],
 "metadata": {
  "kernelspec": {
   "display_name": "DL",
   "language": "python",
   "name": "python3"
  },
  "language_info": {
   "codemirror_mode": {
    "name": "ipython",
    "version": 3
   },
   "file_extension": ".py",
   "mimetype": "text/x-python",
   "name": "python",
   "nbconvert_exporter": "python",
   "pygments_lexer": "ipython3",
   "version": "3.6.13"
  },
  "orig_nbformat": 4
 },
 "nbformat": 4,
 "nbformat_minor": 2
}
