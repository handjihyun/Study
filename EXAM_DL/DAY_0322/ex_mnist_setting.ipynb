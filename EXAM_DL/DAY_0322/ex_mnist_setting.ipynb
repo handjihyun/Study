{
 "cells": [
  {
   "attachments": {},
   "cell_type": "markdown",
   "metadata": {},
   "source": [
    "#### Model 설정\n",
    "- 가중치(weight), 절편(bias) => 초기값 설정\n",
    "- 규제 => L1 norm, L2 norm\n",
    "- 층 => 일부 퍼셉트론을 비활성화 시켜주는 층 ==> Dropout Layer\n",
    "    * 학습때만 지정된 비율의 퍼셉트론을 비활성화\n",
    "    * 예측때는 모든 퍼셉트론 활성화\n",
    "- fit() 학습 시 학습 분량 조절 => 배치 사이즈 (batch_size)\n",
    "    * 학습 직전에 지정된 학습분량 데이터를 정규화\n",
    "- 최적화 방법\n",
    "    * compile()함수의 optimizer 설정"
   ]
  },
  {
   "attachments": {},
   "cell_type": "markdown",
   "metadata": {},
   "source": [
    "##### [1] 데이터 준비 및 확인\n",
    "[1-1] 데이터 로딩"
   ]
  },
  {
   "cell_type": "code",
   "execution_count": 106,
   "metadata": {},
   "outputs": [],
   "source": [
    "from tensorflow.keras.models import Sequential\n",
    "from tensorflow.keras.layers import Dense, Dropout, Flatten\n",
    "from tensorflow.keras.datasets.mnist import load_data\n",
    "\n",
    "import numpy as np\n",
    "import matplotlib.pyplot as plt"
   ]
  },
  {
   "cell_type": "code",
   "execution_count": 107,
   "metadata": {},
   "outputs": [],
   "source": [
    "# 과학적표기법 사용X\n",
    "np.set_printoptions(floatmode='fixed', suppress=True)"
   ]
  },
  {
   "cell_type": "code",
   "execution_count": 108,
   "metadata": {},
   "outputs": [],
   "source": [
    "(X_tr, y_tr), (X_te, y_te) = load_data()"
   ]
  },
  {
   "cell_type": "code",
   "execution_count": 109,
   "metadata": {},
   "outputs": [
    {
     "data": {
      "text/plain": [
       "((60000, 28, 28), (60000,), (10000, 28, 28), (10000,))"
      ]
     },
     "execution_count": 109,
     "metadata": {},
     "output_type": "execute_result"
    }
   ],
   "source": [
    "X_tr.shape, y_tr.shape, X_te.shape, y_te.shape"
   ]
  },
  {
   "attachments": {},
   "cell_type": "markdown",
   "metadata": {},
   "source": [
    "[1-2] 데이터 전처리\n",
    "- 픽셀값 0 ~ 255 ---> 0.0 ~ 1.0"
   ]
  },
  {
   "cell_type": "code",
   "execution_count": 110,
   "metadata": {},
   "outputs": [],
   "source": [
    "X_tr = X_tr / X_tr.max()"
   ]
  },
  {
   "cell_type": "code",
   "execution_count": 111,
   "metadata": {},
   "outputs": [],
   "source": [
    "X_te = X_te / X_te.max()"
   ]
  },
  {
   "attachments": {},
   "cell_type": "markdown",
   "metadata": {},
   "source": [
    "##### [2] 모델 생성"
   ]
  },
  {
   "attachments": {},
   "cell_type": "markdown",
   "metadata": {},
   "source": [
    "[2-1] 모델 설계\n",
    "- 입력층 : Flatten\n",
    "- 은닉층 : Dense, 120, relu     <-- w, b 초기화? 기본 | 사용자 설정 'he_normal', 'ones'\n",
    "- 출력층 : Dense , 10, softmax  <-- w, b 초기화? 기본 | 사용자 설정 'lecun_uniform', 'ones'"
   ]
  },
  {
   "cell_type": "code",
   "execution_count": 112,
   "metadata": {},
   "outputs": [],
   "source": [
    "model = Sequential(name='My_MNIST')"
   ]
  },
  {
   "cell_type": "code",
   "execution_count": 113,
   "metadata": {},
   "outputs": [],
   "source": [
    "# 입력층 : (28, 28) ===> (784, ) 다음 Layer 전달\n",
    "model.add(Flatten(input_shape=(28, 28)))"
   ]
  },
  {
   "cell_type": "code",
   "execution_count": 114,
   "metadata": {},
   "outputs": [],
   "source": [
    "# 은닉층 : (784, ) ===> 50 다음 Layer 전달\n",
    "model.add(Dense(50,\n",
    "                kernel_initializer = 'he_normal',\n",
    "                kernel_regularizer = 'l1',\n",
    "                bias_initializer='ones',\n",
    "                activation='relu'))"
   ]
  },
  {
   "cell_type": "code",
   "execution_count": 115,
   "metadata": {},
   "outputs": [],
   "source": [
    "# 은닉층 : 지정된 비율의 퍼셉트론 비활성화\n",
    "model.add(Dropout(.3))"
   ]
  },
  {
   "cell_type": "code",
   "execution_count": 116,
   "metadata": {},
   "outputs": [],
   "source": [
    "# 출력층 : 50 ===> 10 출력\n",
    "model.add(Dense(10,\n",
    "                kernel_initializer='lecun_uniform',\n",
    "                kernel_regularizer = 'l2',\n",
    "                activation='softmax'))"
   ]
  },
  {
   "cell_type": "code",
   "execution_count": 117,
   "metadata": {},
   "outputs": [
    {
     "name": "stdout",
     "output_type": "stream",
     "text": [
      "Model: \"My_MNIST\"\n",
      "_________________________________________________________________\n",
      "Layer (type)                 Output Shape              Param #   \n",
      "=================================================================\n",
      "flatten_5 (Flatten)          (None, 784)               0         \n",
      "_________________________________________________________________\n",
      "dense_10 (Dense)             (None, 50)                39250     \n",
      "_________________________________________________________________\n",
      "dropout_5 (Dropout)          (None, 50)                0         \n",
      "_________________________________________________________________\n",
      "dense_11 (Dense)             (None, 10)                510       \n",
      "=================================================================\n",
      "Total params: 39,760\n",
      "Trainable params: 39,760\n",
      "Non-trainable params: 0\n",
      "_________________________________________________________________\n"
     ]
    }
   ],
   "source": [
    "model.summary()"
   ]
  },
  {
   "attachments": {},
   "cell_type": "markdown",
   "metadata": {},
   "source": [
    "[2-2] 모델 생성"
   ]
  },
  {
   "cell_type": "code",
   "execution_count": 118,
   "metadata": {},
   "outputs": [],
   "source": [
    "model.compile(loss='sparse_categorical_crossentropy', metrics='acc')"
   ]
  },
  {
   "attachments": {},
   "cell_type": "markdown",
   "metadata": {},
   "source": [
    "##### [3] 학습\n",
    "- 학습횟수 => epochs\n",
    "- 학습분량 => batch_size\n",
    "- 검증여부 => validation_data, validation_split\n",
    "- 학습 모니터링 => callbacks"
   ]
  },
  {
   "attachments": {},
   "cell_type": "markdown",
   "metadata": {},
   "source": [
    "[3-1] 콜백 객체들 생성\n",
    "- 모델체크 : 성능 좋은 모델 저장, 가중치만 저장\n",
    "- 조기종료 : 성능 개선이 없는 경우 학습 중단\n",
    "- 학습률체크 : 반복 학습 시 학습률 조정"
   ]
  },
  {
   "cell_type": "code",
   "execution_count": 119,
   "metadata": {},
   "outputs": [],
   "source": [
    "from tensorflow.keras.callbacks import ModelCheckpoint, EarlyStopping, LearningRateScheduler"
   ]
  },
  {
   "cell_type": "code",
   "execution_count": 120,
   "metadata": {},
   "outputs": [],
   "source": [
    "from datetime import datetime"
   ]
  },
  {
   "cell_type": "code",
   "execution_count": 121,
   "metadata": {},
   "outputs": [
    {
     "data": {
      "text/plain": [
       "'Wed Mar 22 17:41:10 2023'"
      ]
     },
     "execution_count": 121,
     "metadata": {},
     "output_type": "execute_result"
    }
   ],
   "source": [
    "datetime.now().ctime()"
   ]
  },
  {
   "cell_type": "code",
   "execution_count": 122,
   "metadata": {},
   "outputs": [],
   "source": [
    "FILEPATH = f'./save_model_{datetime.now().ctime()}.ckp'\n",
    "# FILEPATH = './save_model.ckp'\n",
    "modelCB = ModelCheckpoint(filepath=FILEPATH, monitor='val_accuracy', save_best_only=True)"
   ]
  },
  {
   "cell_type": "code",
   "execution_count": 123,
   "metadata": {},
   "outputs": [],
   "source": [
    "stopCB = EarlyStopping(monitor='val_accuracy', patience=2)"
   ]
  },
  {
   "cell_type": "code",
   "execution_count": 124,
   "metadata": {},
   "outputs": [
    {
     "name": "stdout",
     "output_type": "stream",
     "text": [
      "Epoch 1/10\n",
      "1500/1500 [==============================] - 2s 845us/step - loss: 2.5201 - acc: 0.6237 - val_loss: 1.8403 - val_acc: 0.8075\n",
      "WARNING:tensorflow:Can save best model only with val_accuracy available, skipping.\n",
      "WARNING:tensorflow:Early stopping conditioned on metric `val_accuracy` which is not available. Available metrics are: loss,acc,val_loss,val_acc\n",
      "Epoch 2/10\n",
      "1500/1500 [==============================] - 1s 780us/step - loss: 1.9998 - acc: 0.6906 - val_loss: 1.7854 - val_acc: 0.8313\n",
      "WARNING:tensorflow:Can save best model only with val_accuracy available, skipping.\n",
      "WARNING:tensorflow:Early stopping conditioned on metric `val_accuracy` which is not available. Available metrics are: loss,acc,val_loss,val_acc\n",
      "Epoch 3/10\n",
      "1500/1500 [==============================] - 1s 758us/step - loss: 1.9728 - acc: 0.7021 - val_loss: 1.8108 - val_acc: 0.8269\n",
      "WARNING:tensorflow:Can save best model only with val_accuracy available, skipping.\n",
      "WARNING:tensorflow:Early stopping conditioned on metric `val_accuracy` which is not available. Available metrics are: loss,acc,val_loss,val_acc\n",
      "Epoch 4/10\n",
      "1500/1500 [==============================] - 1s 868us/step - loss: 1.9588 - acc: 0.7092 - val_loss: 1.7564 - val_acc: 0.8355\n",
      "WARNING:tensorflow:Can save best model only with val_accuracy available, skipping.\n",
      "WARNING:tensorflow:Early stopping conditioned on metric `val_accuracy` which is not available. Available metrics are: loss,acc,val_loss,val_acc\n",
      "Epoch 5/10\n",
      "1500/1500 [==============================] - 1s 945us/step - loss: 1.9501 - acc: 0.7088 - val_loss: 1.7411 - val_acc: 0.8407\n",
      "WARNING:tensorflow:Can save best model only with val_accuracy available, skipping.\n",
      "WARNING:tensorflow:Early stopping conditioned on metric `val_accuracy` which is not available. Available metrics are: loss,acc,val_loss,val_acc\n",
      "Epoch 6/10\n",
      "1500/1500 [==============================] - 1s 851us/step - loss: 1.9431 - acc: 0.7083 - val_loss: 1.7543 - val_acc: 0.8379\n",
      "WARNING:tensorflow:Can save best model only with val_accuracy available, skipping.\n",
      "WARNING:tensorflow:Early stopping conditioned on metric `val_accuracy` which is not available. Available metrics are: loss,acc,val_loss,val_acc\n",
      "Epoch 7/10\n",
      "1500/1500 [==============================] - 1s 902us/step - loss: 1.9350 - acc: 0.7118 - val_loss: 1.7291 - val_acc: 0.8431\n",
      "WARNING:tensorflow:Can save best model only with val_accuracy available, skipping.\n",
      "WARNING:tensorflow:Early stopping conditioned on metric `val_accuracy` which is not available. Available metrics are: loss,acc,val_loss,val_acc\n",
      "Epoch 8/10\n",
      "1500/1500 [==============================] - 1s 965us/step - loss: 1.9306 - acc: 0.7153 - val_loss: 1.7347 - val_acc: 0.8431\n",
      "WARNING:tensorflow:Can save best model only with val_accuracy available, skipping.\n",
      "WARNING:tensorflow:Early stopping conditioned on metric `val_accuracy` which is not available. Available metrics are: loss,acc,val_loss,val_acc\n",
      "Epoch 9/10\n",
      "1500/1500 [==============================] - 1s 963us/step - loss: 1.9278 - acc: 0.7142 - val_loss: 1.7379 - val_acc: 0.8369\n",
      "WARNING:tensorflow:Can save best model only with val_accuracy available, skipping.\n",
      "WARNING:tensorflow:Early stopping conditioned on metric `val_accuracy` which is not available. Available metrics are: loss,acc,val_loss,val_acc\n",
      "Epoch 10/10\n",
      "1500/1500 [==============================] - 1s 958us/step - loss: 1.9295 - acc: 0.7125 - val_loss: 1.7413 - val_acc: 0.8457\n",
      "WARNING:tensorflow:Can save best model only with val_accuracy available, skipping.\n",
      "WARNING:tensorflow:Early stopping conditioned on metric `val_accuracy` which is not available. Available metrics are: loss,acc,val_loss,val_acc\n"
     ]
    },
    {
     "data": {
      "text/plain": [
       "<keras.callbacks.History at 0x2b2e5e89f28>"
      ]
     },
     "execution_count": 124,
     "metadata": {},
     "output_type": "execute_result"
    }
   ],
   "source": [
    "model.fit(X_tr, y_tr,\n",
    "          epochs=10,\n",
    "          validation_split=0.2,\n",
    "          callbacks=[modelCB, stopCB])"
   ]
  },
  {
   "cell_type": "code",
   "execution_count": null,
   "metadata": {},
   "outputs": [],
   "source": []
  }
 ],
 "metadata": {
  "kernelspec": {
   "display_name": "DL",
   "language": "python",
   "name": "python3"
  },
  "language_info": {
   "codemirror_mode": {
    "name": "ipython",
    "version": 3
   },
   "file_extension": ".py",
   "mimetype": "text/x-python",
   "name": "python",
   "nbconvert_exporter": "python",
   "pygments_lexer": "ipython3",
   "version": "3.6.13"
  },
  "orig_nbformat": 4
 },
 "nbformat": 4,
 "nbformat_minor": 2
}
