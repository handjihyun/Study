{
 "cells": [
  {
   "attachments": {},
   "cell_type": "markdown",
   "metadata": {},
   "source": [
    "#### [ Fashion MNIST 실습 ]"
   ]
  },
  {
   "attachments": {},
   "cell_type": "markdown",
   "metadata": {},
   "source": [
    "##### [1] 데이터 준비 및 확인\n",
    "[1-1] 데이터 로딩"
   ]
  },
  {
   "cell_type": "code",
   "execution_count": 2,
   "metadata": {},
   "outputs": [],
   "source": [
    "from tensorflow.keras.datasets.fashion_mnist import load_data\n",
    "\n",
    "import numpy as np"
   ]
  },
  {
   "cell_type": "code",
   "execution_count": 3,
   "metadata": {},
   "outputs": [],
   "source": [
    "np.set_printoptions(floatmode='fixed', suppress=True)"
   ]
  },
  {
   "cell_type": "code",
   "execution_count": 4,
   "metadata": {},
   "outputs": [],
   "source": [
    "(X_tr, y_tr), (X_te, y_te) = load_data()"
   ]
  },
  {
   "cell_type": "code",
   "execution_count": 5,
   "metadata": {},
   "outputs": [
    {
     "data": {
      "text/plain": [
       "((60000, 28, 28), (60000,), (10000, 28, 28), (10000,))"
      ]
     },
     "execution_count": 5,
     "metadata": {},
     "output_type": "execute_result"
    }
   ],
   "source": [
    "X_tr.shape, y_tr.shape, X_te.shape, y_te.shape"
   ]
  },
  {
   "attachments": {},
   "cell_type": "markdown",
   "metadata": {},
   "source": [
    "[1-2] 데이터 전처리\n",
    "- 픽셀값 0 ~ 255 --> 0.0 ~ 1.0"
   ]
  },
  {
   "cell_type": "code",
   "execution_count": 6,
   "metadata": {},
   "outputs": [],
   "source": [
    "X_tr = X_tr / X_tr.max()"
   ]
  },
  {
   "cell_type": "code",
   "execution_count": 7,
   "metadata": {},
   "outputs": [],
   "source": [
    "X_te = X_te / X_te.max()"
   ]
  },
  {
   "attachments": {},
   "cell_type": "markdown",
   "metadata": {},
   "source": [
    "##### [2] 모델 생성"
   ]
  },
  {
   "attachments": {},
   "cell_type": "markdown",
   "metadata": {},
   "source": [
    "[2-1] 모델 설계"
   ]
  },
  {
   "cell_type": "code",
   "execution_count": 8,
   "metadata": {},
   "outputs": [],
   "source": [
    "from tensorflow.keras.models import Sequential\n",
    "from tensorflow.keras.layers import Dense, Dropout, Flatten"
   ]
  },
  {
   "cell_type": "code",
   "execution_count": 9,
   "metadata": {},
   "outputs": [],
   "source": [
    "model = Sequential(name='My_model')"
   ]
  },
  {
   "cell_type": "code",
   "execution_count": 10,
   "metadata": {},
   "outputs": [],
   "source": [
    "# 입력층\n",
    "model.add(Flatten(input_shape=(28, 28)))"
   ]
  },
  {
   "cell_type": "code",
   "execution_count": 11,
   "metadata": {},
   "outputs": [],
   "source": [
    "# 은닉층\n",
    "model.add(Dense(50, activation='relu'))"
   ]
  },
  {
   "cell_type": "code",
   "execution_count": 12,
   "metadata": {},
   "outputs": [],
   "source": [
    "# 출력층\n",
    "model.add(Dense(10,\n",
    "                activation='softmax'))"
   ]
  },
  {
   "cell_type": "code",
   "execution_count": 13,
   "metadata": {},
   "outputs": [
    {
     "name": "stdout",
     "output_type": "stream",
     "text": [
      "Model: \"My_model\"\n",
      "_________________________________________________________________\n",
      "Layer (type)                 Output Shape              Param #   \n",
      "=================================================================\n",
      "flatten (Flatten)            (None, 784)               0         \n",
      "_________________________________________________________________\n",
      "dense (Dense)                (None, 50)                39250     \n",
      "_________________________________________________________________\n",
      "dense_1 (Dense)              (None, 10)                510       \n",
      "=================================================================\n",
      "Total params: 39,760\n",
      "Trainable params: 39,760\n",
      "Non-trainable params: 0\n",
      "_________________________________________________________________\n"
     ]
    }
   ],
   "source": [
    "model.summary()"
   ]
  },
  {
   "attachments": {},
   "cell_type": "markdown",
   "metadata": {},
   "source": [
    "[2-2] 모델 설계"
   ]
  },
  {
   "cell_type": "code",
   "execution_count": 14,
   "metadata": {},
   "outputs": [],
   "source": [
    "model.compile(loss='sparse_categorical_crossentropy',\n",
    "              metrics='acc')"
   ]
  },
  {
   "attachments": {},
   "cell_type": "markdown",
   "metadata": {},
   "source": [
    "##### [3] 학습"
   ]
  },
  {
   "cell_type": "code",
   "execution_count": 15,
   "metadata": {},
   "outputs": [],
   "source": [
    "from tensorflow.keras.callbacks import ModelCheckpoint, EarlyStopping"
   ]
  },
  {
   "cell_type": "code",
   "execution_count": 16,
   "metadata": {},
   "outputs": [],
   "source": [
    "from datetime import datetime"
   ]
  },
  {
   "cell_type": "code",
   "execution_count": 17,
   "metadata": {},
   "outputs": [],
   "source": [
    "FILEPATH = f'./save_model_{datetime.now().ctime()}.ckp'"
   ]
  },
  {
   "cell_type": "code",
   "execution_count": 18,
   "metadata": {},
   "outputs": [],
   "source": [
    "modelCB = ModelCheckpoint(filepath=FILEPATH, monitor='val_accuracy', save_best_only=True)"
   ]
  },
  {
   "cell_type": "code",
   "execution_count": 19,
   "metadata": {},
   "outputs": [],
   "source": [
    "stopCB = EarlyStopping(monitor='val_accuracy', patience=2)"
   ]
  },
  {
   "cell_type": "code",
   "execution_count": 20,
   "metadata": {},
   "outputs": [
    {
     "name": "stdout",
     "output_type": "stream",
     "text": [
      "Epoch 1/10\n",
      "1500/1500 [==============================] - 2s 1ms/step - loss: 0.5518 - acc: 0.8078 - val_loss: 0.4962 - val_acc: 0.8211\n",
      "WARNING:tensorflow:Can save best model only with val_accuracy available, skipping.\n",
      "WARNING:tensorflow:Early stopping conditioned on metric `val_accuracy` which is not available. Available metrics are: loss,acc,val_loss,val_acc\n",
      "Epoch 2/10\n",
      "1500/1500 [==============================] - 2s 1ms/step - loss: 0.4117 - acc: 0.8522 - val_loss: 0.4324 - val_acc: 0.8436\n",
      "WARNING:tensorflow:Can save best model only with val_accuracy available, skipping.\n",
      "WARNING:tensorflow:Early stopping conditioned on metric `val_accuracy` which is not available. Available metrics are: loss,acc,val_loss,val_acc\n",
      "Epoch 3/10\n",
      "1500/1500 [==============================] - 2s 1ms/step - loss: 0.3734 - acc: 0.8660 - val_loss: 0.3920 - val_acc: 0.8658\n",
      "WARNING:tensorflow:Can save best model only with val_accuracy available, skipping.\n",
      "WARNING:tensorflow:Early stopping conditioned on metric `val_accuracy` which is not available. Available metrics are: loss,acc,val_loss,val_acc\n",
      "Epoch 4/10\n",
      "1500/1500 [==============================] - 2s 1ms/step - loss: 0.3521 - acc: 0.8738 - val_loss: 0.3971 - val_acc: 0.8651\n",
      "WARNING:tensorflow:Can save best model only with val_accuracy available, skipping.\n",
      "WARNING:tensorflow:Early stopping conditioned on metric `val_accuracy` which is not available. Available metrics are: loss,acc,val_loss,val_acc\n",
      "Epoch 5/10\n",
      "1500/1500 [==============================] - 2s 1ms/step - loss: 0.3380 - acc: 0.8786 - val_loss: 0.3604 - val_acc: 0.8724\n",
      "WARNING:tensorflow:Can save best model only with val_accuracy available, skipping.\n",
      "WARNING:tensorflow:Early stopping conditioned on metric `val_accuracy` which is not available. Available metrics are: loss,acc,val_loss,val_acc\n",
      "Epoch 6/10\n",
      "1500/1500 [==============================] - 2s 1ms/step - loss: 0.3253 - acc: 0.8845 - val_loss: 0.3636 - val_acc: 0.8733\n",
      "WARNING:tensorflow:Can save best model only with val_accuracy available, skipping.\n",
      "WARNING:tensorflow:Early stopping conditioned on metric `val_accuracy` which is not available. Available metrics are: loss,acc,val_loss,val_acc\n",
      "Epoch 7/10\n",
      "1500/1500 [==============================] - 2s 1ms/step - loss: 0.3163 - acc: 0.8880 - val_loss: 0.3835 - val_acc: 0.8713\n",
      "WARNING:tensorflow:Can save best model only with val_accuracy available, skipping.\n",
      "WARNING:tensorflow:Early stopping conditioned on metric `val_accuracy` which is not available. Available metrics are: loss,acc,val_loss,val_acc\n",
      "Epoch 8/10\n",
      "1500/1500 [==============================] - 2s 1ms/step - loss: 0.3083 - acc: 0.8898 - val_loss: 0.3643 - val_acc: 0.8788\n",
      "WARNING:tensorflow:Can save best model only with val_accuracy available, skipping.\n",
      "WARNING:tensorflow:Early stopping conditioned on metric `val_accuracy` which is not available. Available metrics are: loss,acc,val_loss,val_acc\n",
      "Epoch 9/10\n",
      "1500/1500 [==============================] - 2s 1ms/step - loss: 0.2993 - acc: 0.8931 - val_loss: 0.3664 - val_acc: 0.8780\n",
      "WARNING:tensorflow:Can save best model only with val_accuracy available, skipping.\n",
      "WARNING:tensorflow:Early stopping conditioned on metric `val_accuracy` which is not available. Available metrics are: loss,acc,val_loss,val_acc\n",
      "Epoch 10/10\n",
      "1500/1500 [==============================] - 2s 1ms/step - loss: 0.2937 - acc: 0.8956 - val_loss: 0.3682 - val_acc: 0.8780\n",
      "WARNING:tensorflow:Can save best model only with val_accuracy available, skipping.\n",
      "WARNING:tensorflow:Early stopping conditioned on metric `val_accuracy` which is not available. Available metrics are: loss,acc,val_loss,val_acc\n"
     ]
    },
    {
     "data": {
      "text/plain": [
       "<keras.callbacks.History at 0x155a6491860>"
      ]
     },
     "execution_count": 20,
     "metadata": {},
     "output_type": "execute_result"
    }
   ],
   "source": [
    "model.fit(X_tr, y_tr,\n",
    "          epochs=10,\n",
    "          validation_split=0.2,\n",
    "          callbacks=[modelCB, stopCB])"
   ]
  },
  {
   "attachments": {},
   "cell_type": "markdown",
   "metadata": {},
   "source": [
    "### ============================================================================="
   ]
  },
  {
   "cell_type": "code",
   "execution_count": 85,
   "metadata": {},
   "outputs": [],
   "source": [
    "import tensorflow as tf\n",
    "from tensorflow import keras\n",
    "\n",
    "import matplotlib.pyplot as plt"
   ]
  },
  {
   "cell_type": "code",
   "execution_count": 86,
   "metadata": {},
   "outputs": [],
   "source": [
    "fashion_mnist = keras.datasets.fashion_mnist"
   ]
  },
  {
   "cell_type": "code",
   "execution_count": 87,
   "metadata": {},
   "outputs": [],
   "source": [
    "(X_tr, y_tr), (X_te, y_te) = fashion_mnist.load_data()"
   ]
  },
  {
   "cell_type": "code",
   "execution_count": 88,
   "metadata": {},
   "outputs": [
    {
     "data": {
      "text/plain": [
       "(60000, 28, 28)"
      ]
     },
     "execution_count": 88,
     "metadata": {},
     "output_type": "execute_result"
    }
   ],
   "source": [
    "X_tr.shape"
   ]
  },
  {
   "cell_type": "code",
   "execution_count": 89,
   "metadata": {},
   "outputs": [
    {
     "data": {
      "text/plain": [
       "(60000,)"
      ]
     },
     "execution_count": 89,
     "metadata": {},
     "output_type": "execute_result"
    }
   ],
   "source": [
    "y_tr.shape"
   ]
  },
  {
   "cell_type": "code",
   "execution_count": 90,
   "metadata": {},
   "outputs": [
    {
     "data": {
      "text/plain": [
       "array([9, 0, 0, ..., 3, 0, 5], dtype=uint8)"
      ]
     },
     "execution_count": 90,
     "metadata": {},
     "output_type": "execute_result"
    }
   ],
   "source": [
    "y_tr"
   ]
  },
  {
   "cell_type": "code",
   "execution_count": 91,
   "metadata": {},
   "outputs": [],
   "source": [
    "X_val, X_tr = X_tr[:5000] / 255., X_tr[5000:] / 255.\n",
    "y_val, y_tr = y_tr[:5000], y_tr[5000:]\n",
    "X_te = X_te / 255."
   ]
  },
  {
   "cell_type": "code",
   "execution_count": 92,
   "metadata": {},
   "outputs": [
    {
     "data": {
      "text/plain": [
       "(28, 28)"
      ]
     },
     "execution_count": 92,
     "metadata": {},
     "output_type": "execute_result"
    }
   ],
   "source": [
    "X_tr[0].shape"
   ]
  },
  {
   "cell_type": "code",
   "execution_count": 93,
   "metadata": {},
   "outputs": [
    {
     "data": {
      "text/plain": [
       "array([[[0.00000000, 0.00000000, 0.00000000, ..., 0.00000000,\n",
       "         0.00000000, 0.00000000],\n",
       "        [0.00000000, 0.00000000, 0.00000000, ..., 0.00000000,\n",
       "         0.00000000, 0.00000000],\n",
       "        [0.00000000, 0.00000000, 0.00000000, ..., 0.00000000,\n",
       "         0.00000000, 0.00000000],\n",
       "        ...,\n",
       "        [0.00000000, 0.00000000, 0.00000000, ..., 0.00000000,\n",
       "         0.00000000, 0.00000000],\n",
       "        [0.00000000, 0.00000000, 0.00000000, ..., 0.00000000,\n",
       "         0.00000000, 0.00000000],\n",
       "        [0.00000000, 0.00000000, 0.00000000, ..., 0.00000000,\n",
       "         0.00000000, 0.00000000]],\n",
       "\n",
       "       [[0.00000000, 0.00000000, 0.00000000, ..., 0.00000000,\n",
       "         0.00000000, 0.00000000],\n",
       "        [0.00000000, 0.00000000, 0.00000000, ..., 0.00000000,\n",
       "         0.00000000, 0.00000000],\n",
       "        [0.00000000, 0.00000000, 0.00000000, ..., 0.00000000,\n",
       "         0.00000000, 0.00000000],\n",
       "        ...,\n",
       "        [0.00000000, 0.00000000, 0.00000000, ..., 0.00000000,\n",
       "         0.00000000, 0.00000000],\n",
       "        [0.00000000, 0.00000000, 0.00000000, ..., 0.00000000,\n",
       "         0.00000000, 0.00000000],\n",
       "        [0.00000000, 0.00000000, 0.00000000, ..., 0.00000000,\n",
       "         0.00000000, 0.00000000]],\n",
       "\n",
       "       [[0.00000000, 0.00000000, 0.00000000, ..., 0.00000000,\n",
       "         0.00000000, 0.00000000],\n",
       "        [0.00000000, 0.00000000, 0.00000000, ..., 0.00000000,\n",
       "         0.00000000, 0.00000000],\n",
       "        [0.00000000, 0.00000000, 0.00000000, ..., 0.00000000,\n",
       "         0.00000000, 0.00000000],\n",
       "        ...,\n",
       "        [0.00000000, 0.00000000, 0.00000000, ..., 0.00000000,\n",
       "         0.00000000, 0.00000000],\n",
       "        [0.00000000, 0.00000000, 0.00000000, ..., 0.00000000,\n",
       "         0.00000000, 0.00000000],\n",
       "        [0.00000000, 0.00000000, 0.00000000, ..., 0.00000000,\n",
       "         0.00000000, 0.00000000]],\n",
       "\n",
       "       ...,\n",
       "\n",
       "       [[0.00000000, 0.00000000, 0.00000000, ..., 0.00000000,\n",
       "         0.00000000, 0.00000000],\n",
       "        [0.00000000, 0.00000000, 0.00000000, ..., 0.00000000,\n",
       "         0.00000000, 0.00000000],\n",
       "        [0.00000000, 0.00000000, 0.00000000, ..., 0.00000000,\n",
       "         0.00000000, 0.00000000],\n",
       "        ...,\n",
       "        [0.00000000, 0.00000000, 0.00000000, ..., 0.00000000,\n",
       "         0.00000000, 0.00000000],\n",
       "        [0.00000000, 0.00000000, 0.00000000, ..., 0.00000000,\n",
       "         0.00000000, 0.00000000],\n",
       "        [0.00000000, 0.00000000, 0.00000000, ..., 0.00000000,\n",
       "         0.00000000, 0.00000000]],\n",
       "\n",
       "       [[0.00000000, 0.00000000, 0.00000000, ..., 0.00000000,\n",
       "         0.00000000, 0.00000000],\n",
       "        [0.00000000, 0.00000000, 0.00000000, ..., 0.00000000,\n",
       "         0.00000000, 0.00000000],\n",
       "        [0.00000000, 0.00000000, 0.00000000, ..., 0.00000000,\n",
       "         0.00000000, 0.00000000],\n",
       "        ...,\n",
       "        [0.00000000, 0.00000000, 0.00000000, ..., 0.00000000,\n",
       "         0.00000000, 0.00000000],\n",
       "        [0.00000000, 0.00000000, 0.00000000, ..., 0.00000000,\n",
       "         0.00000000, 0.00000000],\n",
       "        [0.00000000, 0.00000000, 0.00000000, ..., 0.00000000,\n",
       "         0.00000000, 0.00000000]],\n",
       "\n",
       "       [[0.00000000, 0.00000000, 0.00000000, ..., 0.00000000,\n",
       "         0.00000000, 0.00000000],\n",
       "        [0.00000000, 0.00000000, 0.00000000, ..., 0.00000000,\n",
       "         0.00000000, 0.00000000],\n",
       "        [0.00000000, 0.00000000, 0.00000000, ..., 0.00000000,\n",
       "         0.00000000, 0.00000000],\n",
       "        ...,\n",
       "        [0.00000000, 0.00000000, 0.00000000, ..., 0.00000000,\n",
       "         0.00000000, 0.00000000],\n",
       "        [0.00000000, 0.00000000, 0.00000000, ..., 0.00000000,\n",
       "         0.00000000, 0.00000000],\n",
       "        [0.00000000, 0.00000000, 0.00000000, ..., 0.00000000,\n",
       "         0.00000000, 0.00000000]]])"
      ]
     },
     "execution_count": 93,
     "metadata": {},
     "output_type": "execute_result"
    }
   ],
   "source": [
    "X_tr"
   ]
  },
  {
   "cell_type": "code",
   "execution_count": 29,
   "metadata": {},
   "outputs": [
    {
     "data": {
      "image/png": "[encoded data removed]",
      "text/plain": [
       "<Figure size 432x288 with 1 Axes>"
      ]
     },
     "metadata": {
      "needs_background": "light"
     },
     "output_type": "display_data"
    }
   ],
   "source": [
    "plt.imshow(X_tr[0], cmap='binary')\n",
    "plt.axis('off')\n",
    "plt.show()"
   ]
  },
  {
   "cell_type": "code",
   "execution_count": 30,
   "metadata": {},
   "outputs": [
    {
     "data": {
      "text/plain": [
       "array([4, 0, 7, ..., 3, 0, 5], dtype=uint8)"
      ]
     },
     "execution_count": 30,
     "metadata": {},
     "output_type": "execute_result"
    }
   ],
   "source": [
    "y_tr"
   ]
  },
  {
   "cell_type": "code",
   "execution_count": 31,
   "metadata": {},
   "outputs": [],
   "source": [
    "class_names = ['T-shirt/top', 'Trouser', 'Pullover', 'Dress', 'Coat',\n",
    "               'Sandal', 'Shirt', 'Sneaker', 'Bag', 'Ankle boot']"
   ]
  },
  {
   "cell_type": "code",
   "execution_count": 32,
   "metadata": {},
   "outputs": [],
   "source": [
    "model = Sequential()\n",
    "model.add(Flatten(input_shape=(28, 28)))\n",
    "model.add(Dense(300, activation='relu'))\n",
    "model.add(Dense(100, activation='relu'))\n",
    "model.add(Dense(10, activation='softmax'))"
   ]
  },
  {
   "cell_type": "code",
   "execution_count": 33,
   "metadata": {},
   "outputs": [
    {
     "data": {
      "text/plain": [
       "[<keras.layers.core.Flatten at 0x155bff04048>,\n",
       " <keras.layers.core.Dense at 0x155a2c78a90>,\n",
       " <keras.layers.core.Dense at 0x155bff0a438>,\n",
       " <keras.layers.core.Dense at 0x155bff0ab38>]"
      ]
     },
     "execution_count": 33,
     "metadata": {},
     "output_type": "execute_result"
    }
   ],
   "source": [
    "model.layers"
   ]
  },
  {
   "cell_type": "code",
   "execution_count": 34,
   "metadata": {},
   "outputs": [
    {
     "name": "stdout",
     "output_type": "stream",
     "text": [
      "Model: \"sequential\"\n",
      "_________________________________________________________________\n",
      "Layer (type)                 Output Shape              Param #   \n",
      "=================================================================\n",
      "flatten_1 (Flatten)          (None, 784)               0         \n",
      "_________________________________________________________________\n",
      "dense_2 (Dense)              (None, 300)               235500    \n",
      "_________________________________________________________________\n",
      "dense_3 (Dense)              (None, 100)               30100     \n",
      "_________________________________________________________________\n",
      "dense_4 (Dense)              (None, 10)                1010      \n",
      "=================================================================\n",
      "Total params: 266,610\n",
      "Trainable params: 266,610\n",
      "Non-trainable params: 0\n",
      "_________________________________________________________________\n"
     ]
    }
   ],
   "source": [
    "model.summary()"
   ]
  },
  {
   "cell_type": "code",
   "execution_count": 35,
   "metadata": {},
   "outputs": [
    {
     "data": {
      "text/plain": [
       "(1, 28, 28)"
      ]
     },
     "execution_count": 35,
     "metadata": {},
     "output_type": "execute_result"
    }
   ],
   "source": [
    "X_tr[:1, :, :].shape"
   ]
  },
  {
   "cell_type": "code",
   "execution_count": 36,
   "metadata": {},
   "outputs": [
    {
     "data": {
      "text/plain": [
       "TensorShape([1, 784])"
      ]
     },
     "execution_count": 36,
     "metadata": {},
     "output_type": "execute_result"
    }
   ],
   "source": [
    "flattend = model.get_layer(index=0)(X_tr[:1, :, :])\n",
    "flattend.shape"
   ]
  },
  {
   "cell_type": "code",
   "execution_count": 37,
   "metadata": {},
   "outputs": [
    {
     "data": {
      "text/plain": [
       "TensorShape([1, 300])"
      ]
     },
     "execution_count": 37,
     "metadata": {},
     "output_type": "execute_result"
    }
   ],
   "source": [
    "output1 = model.layers[1](flattend)\n",
    "output1.shape"
   ]
  },
  {
   "cell_type": "code",
   "execution_count": 38,
   "metadata": {},
   "outputs": [
    {
     "data": {
      "text/plain": [
       "TensorShape([1, 100])"
      ]
     },
     "execution_count": 38,
     "metadata": {},
     "output_type": "execute_result"
    }
   ],
   "source": [
    "output2 = model.layers[2](output1)\n",
    "output2.shape"
   ]
  },
  {
   "cell_type": "code",
   "execution_count": 39,
   "metadata": {},
   "outputs": [
    {
     "data": {
      "text/plain": [
       "<tf.Tensor: shape=(1, 10), dtype=float32, numpy=\n",
       "array([[0.12987210, 0.03252400, 0.21425821, 0.13287789, 0.10925955,\n",
       "        0.03510861, 0.07772137, 0.15131408, 0.04955889, 0.06750521]],\n",
       "      dtype=float32)>"
      ]
     },
     "execution_count": 39,
     "metadata": {},
     "output_type": "execute_result"
    }
   ],
   "source": [
    "# 마지막 dense layer 를 통과하면 최종 출력은 10개의 값\n",
    "output3 = model.layers[3](output2)\n",
    "output3"
   ]
  },
  {
   "cell_type": "code",
   "execution_count": 40,
   "metadata": {},
   "outputs": [
    {
     "data": {
      "image/png": "[encoded data removed]",
      "text/plain": [
       "<IPython.core.display.Image object>"
      ]
     },
     "execution_count": 40,
     "metadata": {},
     "output_type": "execute_result"
    }
   ],
   "source": [
    "keras.utils.plot_model(model, 'My_fashion_mnist_model.png', show_shapes=True)"
   ]
  },
  {
   "cell_type": "code",
   "execution_count": 41,
   "metadata": {},
   "outputs": [],
   "source": [
    "model.compile(loss='sparse_categorical_crossentropy',\n",
    "              optimizer='sgd',\n",
    "              metrics=['accuracy'])"
   ]
  },
  {
   "cell_type": "code",
   "execution_count": 42,
   "metadata": {},
   "outputs": [
    {
     "name": "stdout",
     "output_type": "stream",
     "text": [
      "Epoch 1/30\n",
      "1719/1719 [==============================] - 4s 2ms/step - loss: 0.7252 - accuracy: 0.7606 - val_loss: 0.5021 - val_accuracy: 0.8288\n",
      "Epoch 2/30\n",
      "1719/1719 [==============================] - 3s 2ms/step - loss: 0.4899 - accuracy: 0.8301 - val_loss: 0.4392 - val_accuracy: 0.8512\n",
      "Epoch 3/30\n",
      "1719/1719 [==============================] - 3s 2ms/step - loss: 0.4452 - accuracy: 0.8442 - val_loss: 0.4202 - val_accuracy: 0.8570\n",
      "Epoch 4/30\n",
      "1719/1719 [==============================] - 3s 2ms/step - loss: 0.4179 - accuracy: 0.8546 - val_loss: 0.4080 - val_accuracy: 0.8640\n",
      "Epoch 5/30\n",
      "1719/1719 [==============================] - 3s 2ms/step - loss: 0.3969 - accuracy: 0.8615 - val_loss: 0.3943 - val_accuracy: 0.8664\n",
      "Epoch 6/30\n",
      "1719/1719 [==============================] - 3s 2ms/step - loss: 0.3806 - accuracy: 0.8665 - val_loss: 0.3892 - val_accuracy: 0.8636\n",
      "Epoch 7/30\n",
      "1719/1719 [==============================] - 3s 2ms/step - loss: 0.3682 - accuracy: 0.8698 - val_loss: 0.3553 - val_accuracy: 0.8786\n",
      "Epoch 8/30\n",
      "1719/1719 [==============================] - 3s 2ms/step - loss: 0.3546 - accuracy: 0.8748 - val_loss: 0.3513 - val_accuracy: 0.8778\n",
      "Epoch 9/30\n",
      "1719/1719 [==============================] - 4s 2ms/step - loss: 0.3455 - accuracy: 0.8764 - val_loss: 0.3435 - val_accuracy: 0.8796\n",
      "Epoch 10/30\n",
      "1719/1719 [==============================] - 4s 2ms/step - loss: 0.3350 - accuracy: 0.8802 - val_loss: 0.3656 - val_accuracy: 0.8718\n",
      "Epoch 11/30\n",
      "1719/1719 [==============================] - 3s 2ms/step - loss: 0.3264 - accuracy: 0.8841 - val_loss: 0.3335 - val_accuracy: 0.8820\n",
      "Epoch 12/30\n",
      "1719/1719 [==============================] - 3s 2ms/step - loss: 0.3191 - accuracy: 0.8851 - val_loss: 0.3299 - val_accuracy: 0.8858\n",
      "Epoch 13/30\n",
      "1719/1719 [==============================] - 3s 2ms/step - loss: 0.3106 - accuracy: 0.8885 - val_loss: 0.3314 - val_accuracy: 0.8802\n",
      "Epoch 14/30\n",
      "1719/1719 [==============================] - 3s 2ms/step - loss: 0.3038 - accuracy: 0.8908 - val_loss: 0.3294 - val_accuracy: 0.8832\n",
      "Epoch 15/30\n",
      "1719/1719 [==============================] - 4s 2ms/step - loss: 0.2976 - accuracy: 0.8925 - val_loss: 0.3201 - val_accuracy: 0.8868\n",
      "Epoch 16/30\n",
      "1719/1719 [==============================] - 4s 2ms/step - loss: 0.2907 - accuracy: 0.8962 - val_loss: 0.3444 - val_accuracy: 0.8796\n",
      "Epoch 17/30\n",
      "1719/1719 [==============================] - 4s 2ms/step - loss: 0.2852 - accuracy: 0.8977 - val_loss: 0.3249 - val_accuracy: 0.8878\n",
      "Epoch 18/30\n",
      "1719/1719 [==============================] - 3s 2ms/step - loss: 0.2796 - accuracy: 0.8995 - val_loss: 0.3155 - val_accuracy: 0.8864\n",
      "Epoch 19/30\n",
      "1719/1719 [==============================] - 4s 2ms/step - loss: 0.2734 - accuracy: 0.9019 - val_loss: 0.3212 - val_accuracy: 0.8816\n",
      "Epoch 20/30\n",
      "1719/1719 [==============================] - 4s 2ms/step - loss: 0.2693 - accuracy: 0.9028 - val_loss: 0.3005 - val_accuracy: 0.8918\n",
      "Epoch 21/30\n",
      "1719/1719 [==============================] - 4s 2ms/step - loss: 0.2645 - accuracy: 0.9047 - val_loss: 0.3127 - val_accuracy: 0.8904\n",
      "Epoch 22/30\n",
      "1719/1719 [==============================] - 4s 2ms/step - loss: 0.2595 - accuracy: 0.9064 - val_loss: 0.3323 - val_accuracy: 0.8854\n",
      "Epoch 23/30\n",
      "1719/1719 [==============================] - 4s 2ms/step - loss: 0.2553 - accuracy: 0.9075 - val_loss: 0.3033 - val_accuracy: 0.8896\n",
      "Epoch 24/30\n",
      "1719/1719 [==============================] - 4s 2ms/step - loss: 0.2508 - accuracy: 0.9100 - val_loss: 0.2984 - val_accuracy: 0.8914\n",
      "Epoch 25/30\n",
      "1719/1719 [==============================] - 4s 3ms/step - loss: 0.2462 - accuracy: 0.9109 - val_loss: 0.3150 - val_accuracy: 0.8868\n",
      "Epoch 26/30\n",
      "1719/1719 [==============================] - 5s 3ms/step - loss: 0.2429 - accuracy: 0.9123 - val_loss: 0.3015 - val_accuracy: 0.8924\n",
      "Epoch 27/30\n",
      "1719/1719 [==============================] - 4s 3ms/step - loss: 0.2377 - accuracy: 0.9160 - val_loss: 0.2955 - val_accuracy: 0.8960\n",
      "Epoch 28/30\n",
      "1719/1719 [==============================] - 4s 3ms/step - loss: 0.2341 - accuracy: 0.9155 - val_loss: 0.3038 - val_accuracy: 0.8896\n",
      "Epoch 29/30\n",
      "1719/1719 [==============================] - 4s 3ms/step - loss: 0.2304 - accuracy: 0.9165 - val_loss: 0.3089 - val_accuracy: 0.8852\n",
      "Epoch 30/30\n",
      "1719/1719 [==============================] - 4s 3ms/step - loss: 0.2257 - accuracy: 0.9198 - val_loss: 0.2878 - val_accuracy: 0.8978\n"
     ]
    }
   ],
   "source": [
    "# 신경망 훈련\n",
    "history = model.fit(X_tr, y_tr, epochs=30,\n",
    "                    validation_data=(X_val, y_val))"
   ]
  },
  {
   "cell_type": "code",
   "execution_count": 44,
   "metadata": {},
   "outputs": [
    {
     "data": {
      "text/html": [
       "<div>\n",
       "<style scoped>\n",
       "    .dataframe tbody tr th:only-of-type {\n",
       "        vertical-align: middle;\n",
       "    }\n",
       "\n",
       "    .dataframe tbody tr th {\n",
       "        vertical-align: top;\n",
       "    }\n",
       "\n",
       "    .dataframe thead th {\n",
       "        text-align: right;\n",
       "    }\n",
       "</style>\n",
       "<table border=\"1\" class=\"dataframe\">\n",
       "  <thead>\n",
       "    <tr style=\"text-align: right;\">\n",
       "      <th></th>\n",
       "      <th>loss</th>\n",
       "      <th>accuracy</th>\n",
       "      <th>val_loss</th>\n",
       "      <th>val_accuracy</th>\n",
       "    </tr>\n",
       "  </thead>\n",
       "  <tbody>\n",
       "    <tr>\n",
       "      <th>0</th>\n",
       "      <td>0.725172</td>\n",
       "      <td>0.760582</td>\n",
       "      <td>0.502077</td>\n",
       "      <td>0.8288</td>\n",
       "    </tr>\n",
       "    <tr>\n",
       "      <th>1</th>\n",
       "      <td>0.489902</td>\n",
       "      <td>0.830055</td>\n",
       "      <td>0.439208</td>\n",
       "      <td>0.8512</td>\n",
       "    </tr>\n",
       "    <tr>\n",
       "      <th>2</th>\n",
       "      <td>0.445155</td>\n",
       "      <td>0.844164</td>\n",
       "      <td>0.420166</td>\n",
       "      <td>0.8570</td>\n",
       "    </tr>\n",
       "    <tr>\n",
       "      <th>3</th>\n",
       "      <td>0.417869</td>\n",
       "      <td>0.854600</td>\n",
       "      <td>0.408045</td>\n",
       "      <td>0.8640</td>\n",
       "    </tr>\n",
       "    <tr>\n",
       "      <th>4</th>\n",
       "      <td>0.396946</td>\n",
       "      <td>0.861473</td>\n",
       "      <td>0.394343</td>\n",
       "      <td>0.8664</td>\n",
       "    </tr>\n",
       "    <tr>\n",
       "      <th>5</th>\n",
       "      <td>0.380564</td>\n",
       "      <td>0.866473</td>\n",
       "      <td>0.389206</td>\n",
       "      <td>0.8636</td>\n",
       "    </tr>\n",
       "    <tr>\n",
       "      <th>6</th>\n",
       "      <td>0.368156</td>\n",
       "      <td>0.869764</td>\n",
       "      <td>0.355276</td>\n",
       "      <td>0.8786</td>\n",
       "    </tr>\n",
       "    <tr>\n",
       "      <th>7</th>\n",
       "      <td>0.354645</td>\n",
       "      <td>0.874782</td>\n",
       "      <td>0.351254</td>\n",
       "      <td>0.8778</td>\n",
       "    </tr>\n",
       "    <tr>\n",
       "      <th>8</th>\n",
       "      <td>0.345532</td>\n",
       "      <td>0.876382</td>\n",
       "      <td>0.343516</td>\n",
       "      <td>0.8796</td>\n",
       "    </tr>\n",
       "    <tr>\n",
       "      <th>9</th>\n",
       "      <td>0.335019</td>\n",
       "      <td>0.880236</td>\n",
       "      <td>0.365575</td>\n",
       "      <td>0.8718</td>\n",
       "    </tr>\n",
       "    <tr>\n",
       "      <th>10</th>\n",
       "      <td>0.326424</td>\n",
       "      <td>0.884145</td>\n",
       "      <td>0.333501</td>\n",
       "      <td>0.8820</td>\n",
       "    </tr>\n",
       "    <tr>\n",
       "      <th>11</th>\n",
       "      <td>0.319110</td>\n",
       "      <td>0.885073</td>\n",
       "      <td>0.329864</td>\n",
       "      <td>0.8858</td>\n",
       "    </tr>\n",
       "    <tr>\n",
       "      <th>12</th>\n",
       "      <td>0.310640</td>\n",
       "      <td>0.888473</td>\n",
       "      <td>0.331380</td>\n",
       "      <td>0.8802</td>\n",
       "    </tr>\n",
       "    <tr>\n",
       "      <th>13</th>\n",
       "      <td>0.303772</td>\n",
       "      <td>0.890800</td>\n",
       "      <td>0.329432</td>\n",
       "      <td>0.8832</td>\n",
       "    </tr>\n",
       "    <tr>\n",
       "      <th>14</th>\n",
       "      <td>0.297567</td>\n",
       "      <td>0.892491</td>\n",
       "      <td>0.320132</td>\n",
       "      <td>0.8868</td>\n",
       "    </tr>\n",
       "    <tr>\n",
       "      <th>15</th>\n",
       "      <td>0.290697</td>\n",
       "      <td>0.896164</td>\n",
       "      <td>0.344398</td>\n",
       "      <td>0.8796</td>\n",
       "    </tr>\n",
       "    <tr>\n",
       "      <th>16</th>\n",
       "      <td>0.285213</td>\n",
       "      <td>0.897655</td>\n",
       "      <td>0.324903</td>\n",
       "      <td>0.8878</td>\n",
       "    </tr>\n",
       "    <tr>\n",
       "      <th>17</th>\n",
       "      <td>0.279649</td>\n",
       "      <td>0.899491</td>\n",
       "      <td>0.315546</td>\n",
       "      <td>0.8864</td>\n",
       "    </tr>\n",
       "    <tr>\n",
       "      <th>18</th>\n",
       "      <td>0.273408</td>\n",
       "      <td>0.901891</td>\n",
       "      <td>0.321228</td>\n",
       "      <td>0.8816</td>\n",
       "    </tr>\n",
       "    <tr>\n",
       "      <th>19</th>\n",
       "      <td>0.269263</td>\n",
       "      <td>0.902818</td>\n",
       "      <td>0.300526</td>\n",
       "      <td>0.8918</td>\n",
       "    </tr>\n",
       "    <tr>\n",
       "      <th>20</th>\n",
       "      <td>0.264529</td>\n",
       "      <td>0.904691</td>\n",
       "      <td>0.312679</td>\n",
       "      <td>0.8904</td>\n",
       "    </tr>\n",
       "    <tr>\n",
       "      <th>21</th>\n",
       "      <td>0.259546</td>\n",
       "      <td>0.906418</td>\n",
       "      <td>0.332284</td>\n",
       "      <td>0.8854</td>\n",
       "    </tr>\n",
       "    <tr>\n",
       "      <th>22</th>\n",
       "      <td>0.255335</td>\n",
       "      <td>0.907455</td>\n",
       "      <td>0.303307</td>\n",
       "      <td>0.8896</td>\n",
       "    </tr>\n",
       "    <tr>\n",
       "      <th>23</th>\n",
       "      <td>0.250844</td>\n",
       "      <td>0.909982</td>\n",
       "      <td>0.298386</td>\n",
       "      <td>0.8914</td>\n",
       "    </tr>\n",
       "    <tr>\n",
       "      <th>24</th>\n",
       "      <td>0.246199</td>\n",
       "      <td>0.910891</td>\n",
       "      <td>0.314978</td>\n",
       "      <td>0.8868</td>\n",
       "    </tr>\n",
       "    <tr>\n",
       "      <th>25</th>\n",
       "      <td>0.242914</td>\n",
       "      <td>0.912345</td>\n",
       "      <td>0.301468</td>\n",
       "      <td>0.8924</td>\n",
       "    </tr>\n",
       "    <tr>\n",
       "      <th>26</th>\n",
       "      <td>0.237682</td>\n",
       "      <td>0.916000</td>\n",
       "      <td>0.295487</td>\n",
       "      <td>0.8960</td>\n",
       "    </tr>\n",
       "    <tr>\n",
       "      <th>27</th>\n",
       "      <td>0.234142</td>\n",
       "      <td>0.915509</td>\n",
       "      <td>0.303770</td>\n",
       "      <td>0.8896</td>\n",
       "    </tr>\n",
       "    <tr>\n",
       "      <th>28</th>\n",
       "      <td>0.230438</td>\n",
       "      <td>0.916473</td>\n",
       "      <td>0.308906</td>\n",
       "      <td>0.8852</td>\n",
       "    </tr>\n",
       "    <tr>\n",
       "      <th>29</th>\n",
       "      <td>0.225747</td>\n",
       "      <td>0.919782</td>\n",
       "      <td>0.287776</td>\n",
       "      <td>0.8978</td>\n",
       "    </tr>\n",
       "  </tbody>\n",
       "</table>\n",
       "</div>"
      ],
      "text/plain": [
       "        loss  accuracy  val_loss  val_accuracy\n",
       "0   0.725172  0.760582  0.502077        0.8288\n",
       "1   0.489902  0.830055  0.439208        0.8512\n",
       "2   0.445155  0.844164  0.420166        0.8570\n",
       "3   0.417869  0.854600  0.408045        0.8640\n",
       "4   0.396946  0.861473  0.394343        0.8664\n",
       "5   0.380564  0.866473  0.389206        0.8636\n",
       "6   0.368156  0.869764  0.355276        0.8786\n",
       "7   0.354645  0.874782  0.351254        0.8778\n",
       "8   0.345532  0.876382  0.343516        0.8796\n",
       "9   0.335019  0.880236  0.365575        0.8718\n",
       "10  0.326424  0.884145  0.333501        0.8820\n",
       "11  0.319110  0.885073  0.329864        0.8858\n",
       "12  0.310640  0.888473  0.331380        0.8802\n",
       "13  0.303772  0.890800  0.329432        0.8832\n",
       "14  0.297567  0.892491  0.320132        0.8868\n",
       "15  0.290697  0.896164  0.344398        0.8796\n",
       "16  0.285213  0.897655  0.324903        0.8878\n",
       "17  0.279649  0.899491  0.315546        0.8864\n",
       "18  0.273408  0.901891  0.321228        0.8816\n",
       "19  0.269263  0.902818  0.300526        0.8918\n",
       "20  0.264529  0.904691  0.312679        0.8904\n",
       "21  0.259546  0.906418  0.332284        0.8854\n",
       "22  0.255335  0.907455  0.303307        0.8896\n",
       "23  0.250844  0.909982  0.298386        0.8914\n",
       "24  0.246199  0.910891  0.314978        0.8868\n",
       "25  0.242914  0.912345  0.301468        0.8924\n",
       "26  0.237682  0.916000  0.295487        0.8960\n",
       "27  0.234142  0.915509  0.303770        0.8896\n",
       "28  0.230438  0.916473  0.308906        0.8852\n",
       "29  0.225747  0.919782  0.287776        0.8978"
      ]
     },
     "execution_count": 44,
     "metadata": {},
     "output_type": "execute_result"
    }
   ],
   "source": [
    "import pandas as pd\n",
    "pd.DataFrame(history.history)"
   ]
  },
  {
   "cell_type": "code",
   "execution_count": 48,
   "metadata": {},
   "outputs": [
    {
     "data": {
      "image/png": "[encoded data removed]",
      "text/plain": [
       "<Figure size 720x504 with 1 Axes>"
      ]
     },
     "metadata": {
      "needs_background": "light"
     },
     "output_type": "display_data"
    }
   ],
   "source": [
    "pd.DataFrame(history.history).plot(figsize=(10, 7))\n",
    "plt.grid(True)\n",
    "plt.gca().set_ylim(0, 1)\n",
    "plt.xlabel('epochs')\n",
    "plt.show()"
   ]
  },
  {
   "cell_type": "code",
   "execution_count": 49,
   "metadata": {},
   "outputs": [
    {
     "name": "stdout",
     "output_type": "stream",
     "text": [
      "313/313 [==============================] - 1s 3ms/step - loss: 0.3269 - accuracy: 0.8840\n"
     ]
    },
    {
     "data": {
      "text/plain": [
       "[0.326862633228302, 0.8840000033378601]"
      ]
     },
     "execution_count": 49,
     "metadata": {},
     "output_type": "execute_result"
    }
   ],
   "source": [
    "model.evaluate(X_te, y_te)"
   ]
  },
  {
   "cell_type": "code",
   "execution_count": 50,
   "metadata": {},
   "outputs": [
    {
     "data": {
      "text/plain": [
       "array([[0.00000000, 0.00000000, 0.00000000, 0.00000000, 0.00000000,\n",
       "        0.00000000, 0.00000000, 0.00000000, 0.00000000, 0.00000000,\n",
       "        0.00000000, 0.00000000, 0.00000000, 0.00000000, 0.00000000,\n",
       "        0.00000000, 0.00000000, 0.00000000, 0.00000000, 0.00000000,\n",
       "        0.00000000, 0.00000000, 0.00000000, 0.00000000, 0.00000000,\n",
       "        0.00000000, 0.00000000, 0.00000000],\n",
       "       [0.00000000, 0.00000000, 0.00000000, 0.00000000, 0.00000000,\n",
       "        0.00000000, 0.00000000, 0.00000000, 0.00000000, 0.00000000,\n",
       "        0.00000000, 0.00000000, 0.00000000, 0.00000000, 0.00000000,\n",
       "        0.00000000, 0.00000000, 0.00000000, 0.00000000, 0.00000000,\n",
       "        0.00000000, 0.00000000, 0.00000000, 0.00000000, 0.00000000,\n",
       "        0.00000000, 0.00000000, 0.00000000],\n",
       "       [0.00000000, 0.00000000, 0.00000000, 0.00000000, 0.00000000,\n",
       "        0.00000000, 0.00000000, 0.00000000, 0.00000000, 0.00000000,\n",
       "        0.00000000, 0.00000000, 0.00000000, 0.00000000, 0.00000000,\n",
       "        0.00000000, 0.00000000, 0.00000000, 0.00000000, 0.00000000,\n",
       "        0.00000000, 0.00000000, 0.00000000, 0.00000000, 0.00000000,\n",
       "        0.00000000, 0.00000000, 0.00000000],\n",
       "       [0.00000000, 0.00000000, 0.00000000, 0.00000000, 0.00000000,\n",
       "        0.00000000, 0.00000000, 0.00000000, 0.00000000, 0.00000000,\n",
       "        0.00000000, 0.00000000, 0.00000000, 0.00000000, 0.00000000,\n",
       "        0.00000000, 0.00000000, 0.00000000, 0.00000000, 0.00000000,\n",
       "        0.00000000, 0.00000000, 0.00000000, 0.00000000, 0.00000000,\n",
       "        0.00000000, 0.00000000, 0.00000000],\n",
       "       [0.00000000, 0.00000000, 0.00000000, 0.00000000, 0.00000000,\n",
       "        0.00000000, 0.00000000, 0.00000000, 0.00000000, 0.00000000,\n",
       "        0.00000000, 0.00000000, 0.00000000, 0.00000000, 0.00000000,\n",
       "        0.00000000, 0.00000000, 0.00000000, 0.00000000, 0.00000000,\n",
       "        0.00000000, 0.00000000, 0.00000000, 0.00000000, 0.00000000,\n",
       "        0.00000000, 0.00000000, 0.00000000],\n",
       "       [0.00000000, 0.00000000, 0.00000000, 0.00000000, 0.00000000,\n",
       "        0.00000000, 0.00000000, 0.00000000, 0.00000000, 0.00000000,\n",
       "        0.00000000, 0.00000000, 0.00000000, 0.00000000, 0.00000000,\n",
       "        0.00000000, 0.00000000, 0.00000000, 0.00000000, 0.00000000,\n",
       "        0.00000000, 0.00000000, 0.00000000, 0.00000000, 0.00000000,\n",
       "        0.00000000, 0.00000000, 0.00000000],\n",
       "       [0.00000000, 0.00000000, 0.00000000, 0.00000000, 0.00000000,\n",
       "        0.00000000, 0.00000000, 0.00000000, 0.00000000, 0.00000000,\n",
       "        0.00000000, 0.00000000, 0.00000000, 0.00000000, 0.00000000,\n",
       "        0.00000000, 0.00000000, 0.00000000, 0.00000000, 0.00000000,\n",
       "        0.00000000, 0.00000000, 0.00000000, 0.00000000, 0.00000000,\n",
       "        0.00000000, 0.00000000, 0.00000000],\n",
       "       [0.00000000, 0.00000000, 0.00000000, 0.00000000, 0.00000000,\n",
       "        0.00000000, 0.00000000, 0.00000000, 0.00000000, 0.00000000,\n",
       "        0.00000000, 0.00000000, 0.00000000, 0.00000000, 0.00000000,\n",
       "        0.00000000, 0.00000000, 0.00000000, 0.00000000, 0.01176471,\n",
       "        0.00392157, 0.00000000, 0.00000000, 0.02745098, 0.00000000,\n",
       "        0.14509804, 0.00000000, 0.00000000],\n",
       "       [0.00000000, 0.00000000, 0.00000000, 0.00000000, 0.00000000,\n",
       "        0.00000000, 0.00000000, 0.00000000, 0.00000000, 0.00000000,\n",
       "        0.00000000, 0.00000000, 0.00000000, 0.00392157, 0.00784314,\n",
       "        0.00000000, 0.10588235, 0.32941176, 0.04313725, 0.00000000,\n",
       "        0.00000000, 0.00000000, 0.00000000, 0.00000000, 0.00000000,\n",
       "        0.46666667, 0.00000000, 0.00000000],\n",
       "       [0.00000000, 0.00000000, 0.00000000, 0.00000000, 0.00000000,\n",
       "        0.00000000, 0.00000000, 0.00000000, 0.00000000, 0.00000000,\n",
       "        0.00000000, 0.00000000, 0.00000000, 0.00392157, 0.00000000,\n",
       "        0.00000000, 0.34509804, 0.56078431, 0.43137255, 0.00000000,\n",
       "        0.00000000, 0.00000000, 0.00000000, 0.08627451, 0.36470588,\n",
       "        0.41568627, 0.00000000, 0.00000000],\n",
       "       [0.00000000, 0.00000000, 0.00000000, 0.00000000, 0.00000000,\n",
       "        0.00000000, 0.00000000, 0.00000000, 0.00000000, 0.00000000,\n",
       "        0.00000000, 0.00000000, 0.00000000, 0.01568627, 0.00000000,\n",
       "        0.20784314, 0.50588235, 0.47058824, 0.57647059, 0.68627451,\n",
       "        0.61568627, 0.65098039, 0.52941176, 0.60392157, 0.65882353,\n",
       "        0.54901961, 0.00000000, 0.00000000],\n",
       "       [0.00000000, 0.00000000, 0.00000000, 0.00000000, 0.00000000,\n",
       "        0.00000000, 0.00000000, 0.00000000, 0.00000000, 0.00000000,\n",
       "        0.00000000, 0.00000000, 0.00784314, 0.00000000, 0.04313725,\n",
       "        0.53725490, 0.50980392, 0.50196078, 0.62745098, 0.69019608,\n",
       "        0.62352941, 0.65490196, 0.69803922, 0.58431373, 0.59215686,\n",
       "        0.56470588, 0.00000000, 0.00000000],\n",
       "       [0.00000000, 0.00000000, 0.00000000, 0.00000000, 0.00000000,\n",
       "        0.00000000, 0.00392157, 0.00000000, 0.00784314, 0.00392157,\n",
       "        0.00000000, 0.01176471, 0.00000000, 0.00000000, 0.45098039,\n",
       "        0.44705882, 0.41568627, 0.53725490, 0.65882353, 0.60000000,\n",
       "        0.61176471, 0.64705882, 0.65490196, 0.56078431, 0.61568627,\n",
       "        0.61960784, 0.04313725, 0.00000000],\n",
       "       [0.00000000, 0.00000000, 0.00000000, 0.00000000, 0.00392157,\n",
       "        0.00000000, 0.00000000, 0.00000000, 0.00000000, 0.00000000,\n",
       "        0.01176471, 0.00000000, 0.00000000, 0.34901961, 0.54509804,\n",
       "        0.35294118, 0.36862745, 0.60000000, 0.58431373, 0.51372549,\n",
       "        0.59215686, 0.66274510, 0.67450980, 0.56078431, 0.62352941,\n",
       "        0.66274510, 0.18823529, 0.00000000],\n",
       "       [0.00000000, 0.00000000, 0.00000000, 0.00000000, 0.00000000,\n",
       "        0.00000000, 0.00784314, 0.01568627, 0.00392157, 0.00000000,\n",
       "        0.00000000, 0.00000000, 0.38431373, 0.53333333, 0.43137255,\n",
       "        0.42745098, 0.43137255, 0.63529412, 0.52941176, 0.56470588,\n",
       "        0.58431373, 0.62352941, 0.65490196, 0.56470588, 0.61960784,\n",
       "        0.66274510, 0.46666667, 0.00000000],\n",
       "       [0.00000000, 0.00000000, 0.00784314, 0.00784314, 0.00392157,\n",
       "        0.00784314, 0.00000000, 0.00000000, 0.00000000, 0.00000000,\n",
       "        0.10196078, 0.42352941, 0.45882353, 0.38823529, 0.43529412,\n",
       "        0.45882353, 0.53333333, 0.61176471, 0.52549020, 0.60392157,\n",
       "        0.60392157, 0.61176471, 0.62745098, 0.55294118, 0.57647059,\n",
       "        0.61176471, 0.69803922, 0.00000000],\n",
       "       [0.01176471, 0.00000000, 0.00000000, 0.00000000, 0.00000000,\n",
       "        0.00000000, 0.00000000, 0.08235294, 0.20784314, 0.36078431,\n",
       "        0.45882353, 0.43529412, 0.40392157, 0.45098039, 0.50588235,\n",
       "        0.52549020, 0.56078431, 0.60392157, 0.64705882, 0.66666667,\n",
       "        0.60392157, 0.59215686, 0.60392157, 0.56078431, 0.54117647,\n",
       "        0.58823529, 0.64705882, 0.16862745],\n",
       "       [0.00000000, 0.00000000, 0.09019608, 0.21176471, 0.25490196,\n",
       "        0.29803922, 0.33333333, 0.46274510, 0.50196078, 0.48235294,\n",
       "        0.43529412, 0.44313725, 0.46274510, 0.49803922, 0.49019608,\n",
       "        0.54509804, 0.52156863, 0.53333333, 0.62745098, 0.54901961,\n",
       "        0.60784314, 0.63137255, 0.56470588, 0.60784314, 0.67450980,\n",
       "        0.63137255, 0.74117647, 0.24313725],\n",
       "       [0.00000000, 0.26666667, 0.36862745, 0.35294118, 0.43529412,\n",
       "        0.44705882, 0.43529412, 0.44705882, 0.45098039, 0.49803922,\n",
       "        0.52941176, 0.53333333, 0.56078431, 0.49411765, 0.49803922,\n",
       "        0.59215686, 0.60392157, 0.56078431, 0.58039216, 0.49019608,\n",
       "        0.63529412, 0.63529412, 0.56470588, 0.54117647, 0.60000000,\n",
       "        0.63529412, 0.76862745, 0.22745098],\n",
       "       [0.27450980, 0.66274510, 0.50588235, 0.40784314, 0.38431373,\n",
       "        0.39215686, 0.36862745, 0.38039216, 0.38431373, 0.40000000,\n",
       "        0.42352941, 0.41568627, 0.46666667, 0.47058824, 0.50588235,\n",
       "        0.58431373, 0.61176471, 0.65490196, 0.74509804, 0.74509804,\n",
       "        0.76862745, 0.77647059, 0.77647059, 0.73333333, 0.77254902,\n",
       "        0.74117647, 0.72156863, 0.14117647],\n",
       "       [0.06274510, 0.49411765, 0.67058824, 0.73725490, 0.73725490,\n",
       "        0.72156863, 0.67058824, 0.60000000, 0.52941176, 0.47058824,\n",
       "        0.49411765, 0.49803922, 0.57254902, 0.72549020, 0.76470588,\n",
       "        0.81960784, 0.81568627, 1.00000000, 0.81960784, 0.69411765,\n",
       "        0.96078431, 0.98823529, 0.98431373, 0.98431373, 0.96862745,\n",
       "        0.86274510, 0.80784314, 0.19215686],\n",
       "       [0.00000000, 0.00000000, 0.00000000, 0.04705882, 0.26274510,\n",
       "        0.41568627, 0.64313725, 0.72549020, 0.78039216, 0.82352941,\n",
       "        0.82745098, 0.82352941, 0.81568627, 0.74509804, 0.58823529,\n",
       "        0.32156863, 0.03137255, 0.00000000, 0.00000000, 0.00000000,\n",
       "        0.69803922, 0.81568627, 0.73725490, 0.68627451, 0.63529412,\n",
       "        0.61960784, 0.59215686, 0.04313725],\n",
       "       [0.00000000, 0.00000000, 0.00000000, 0.00000000, 0.00000000,\n",
       "        0.00000000, 0.00000000, 0.00000000, 0.00000000, 0.00000000,\n",
       "        0.00000000, 0.00000000, 0.00000000, 0.00000000, 0.00000000,\n",
       "        0.00000000, 0.00000000, 0.00000000, 0.00000000, 0.00000000,\n",
       "        0.00000000, 0.00000000, 0.00000000, 0.00000000, 0.00000000,\n",
       "        0.00000000, 0.00000000, 0.00000000],\n",
       "       [0.00000000, 0.00000000, 0.00000000, 0.00000000, 0.00000000,\n",
       "        0.00000000, 0.00000000, 0.00000000, 0.00000000, 0.00000000,\n",
       "        0.00000000, 0.00000000, 0.00000000, 0.00000000, 0.00000000,\n",
       "        0.00000000, 0.00000000, 0.00000000, 0.00000000, 0.00000000,\n",
       "        0.00000000, 0.00000000, 0.00000000, 0.00000000, 0.00000000,\n",
       "        0.00000000, 0.00000000, 0.00000000],\n",
       "       [0.00000000, 0.00000000, 0.00000000, 0.00000000, 0.00000000,\n",
       "        0.00000000, 0.00000000, 0.00000000, 0.00000000, 0.00000000,\n",
       "        0.00000000, 0.00000000, 0.00000000, 0.00000000, 0.00000000,\n",
       "        0.00000000, 0.00000000, 0.00000000, 0.00000000, 0.00000000,\n",
       "        0.00000000, 0.00000000, 0.00000000, 0.00000000, 0.00000000,\n",
       "        0.00000000, 0.00000000, 0.00000000],\n",
       "       [0.00000000, 0.00000000, 0.00000000, 0.00000000, 0.00000000,\n",
       "        0.00000000, 0.00000000, 0.00000000, 0.00000000, 0.00000000,\n",
       "        0.00000000, 0.00000000, 0.00000000, 0.00000000, 0.00000000,\n",
       "        0.00000000, 0.00000000, 0.00000000, 0.00000000, 0.00000000,\n",
       "        0.00000000, 0.00000000, 0.00000000, 0.00000000, 0.00000000,\n",
       "        0.00000000, 0.00000000, 0.00000000],\n",
       "       [0.00000000, 0.00000000, 0.00000000, 0.00000000, 0.00000000,\n",
       "        0.00000000, 0.00000000, 0.00000000, 0.00000000, 0.00000000,\n",
       "        0.00000000, 0.00000000, 0.00000000, 0.00000000, 0.00000000,\n",
       "        0.00000000, 0.00000000, 0.00000000, 0.00000000, 0.00000000,\n",
       "        0.00000000, 0.00000000, 0.00000000, 0.00000000, 0.00000000,\n",
       "        0.00000000, 0.00000000, 0.00000000],\n",
       "       [0.00000000, 0.00000000, 0.00000000, 0.00000000, 0.00000000,\n",
       "        0.00000000, 0.00000000, 0.00000000, 0.00000000, 0.00000000,\n",
       "        0.00000000, 0.00000000, 0.00000000, 0.00000000, 0.00000000,\n",
       "        0.00000000, 0.00000000, 0.00000000, 0.00000000, 0.00000000,\n",
       "        0.00000000, 0.00000000, 0.00000000, 0.00000000, 0.00000000,\n",
       "        0.00000000, 0.00000000, 0.00000000]])"
      ]
     },
     "execution_count": 50,
     "metadata": {},
     "output_type": "execute_result"
    }
   ],
   "source": [
    "X_te[0]"
   ]
  },
  {
   "cell_type": "code",
   "execution_count": 55,
   "metadata": {},
   "outputs": [
    {
     "data": {
      "text/plain": [
       "(3, 28, 28)"
      ]
     },
     "execution_count": 55,
     "metadata": {},
     "output_type": "execute_result"
    }
   ],
   "source": [
    "X_new = X_te[:3]\n",
    "X_new.shape"
   ]
  },
  {
   "cell_type": "code",
   "execution_count": 56,
   "metadata": {},
   "outputs": [
    {
     "data": {
      "text/plain": [
       "array([[0.00000000, 0.00000000, 0.00000000, 0.00000000, 0.00000000,\n",
       "        0.00000000, 0.00000000, 0.00000000, 0.00392157, 0.00000000,\n",
       "        0.26274510, 0.69411765, 0.50588235, 0.60000000, 0.45882353,\n",
       "        0.50588235, 0.57254902, 0.55294118, 0.68627451, 0.00000000,\n",
       "        0.00000000, 0.00000000, 0.00000000, 0.00000000, 0.00000000,\n",
       "        0.00000000, 0.00000000, 0.00000000],\n",
       "       [0.00000000, 0.00000000, 0.00000000, 0.00000000, 0.00000000,\n",
       "        0.00000000, 0.00000000, 0.00000000, 0.00784314, 0.00000000,\n",
       "        0.76862745, 1.00000000, 1.00000000, 1.00000000, 0.94509804,\n",
       "        0.98431373, 1.00000000, 0.96078431, 1.00000000, 0.29803922,\n",
       "        0.00000000, 0.00000000, 0.00000000, 0.00000000, 0.00000000,\n",
       "        0.00000000, 0.00000000, 0.00000000],\n",
       "       [0.00000000, 0.00000000, 0.00000000, 0.00000000, 0.00000000,\n",
       "        0.00000000, 0.00000000, 0.00000000, 0.00000000, 0.00000000,\n",
       "        0.95294118, 0.92941176, 0.85098039, 0.89411765, 0.90588235,\n",
       "        0.87058824, 0.85490196, 0.85882353, 1.00000000, 0.45490196,\n",
       "        0.00000000, 0.00000000, 0.00000000, 0.00000000, 0.00000000,\n",
       "        0.00000000, 0.00000000, 0.00000000],\n",
       "       [0.00000000, 0.00000000, 0.00000000, 0.00000000, 0.00000000,\n",
       "        0.00000000, 0.00000000, 0.00000000, 0.00000000, 0.00000000,\n",
       "        1.00000000, 0.92156863, 0.90588235, 0.91372549, 0.88627451,\n",
       "        0.88235294, 0.89803922, 0.87058824, 1.00000000, 0.56862745,\n",
       "        0.00000000, 0.00000000, 0.00000000, 0.00000000, 0.00000000,\n",
       "        0.00000000, 0.00000000, 0.00000000],\n",
       "       [0.00000000, 0.00000000, 0.00000000, 0.00000000, 0.00000000,\n",
       "        0.00000000, 0.00000000, 0.00000000, 0.00000000, 0.09019608,\n",
       "        1.00000000, 0.90196078, 0.89803922, 0.91372549, 0.89803922,\n",
       "        0.88235294, 0.89019608, 0.86666667, 0.94509804, 0.65490196,\n",
       "        0.00000000, 0.00000000, 0.00000000, 0.00000000, 0.00000000,\n",
       "        0.00000000, 0.00000000, 0.00000000],\n",
       "       [0.00000000, 0.00000000, 0.00000000, 0.00000000, 0.00000000,\n",
       "        0.00000000, 0.00000000, 0.00000000, 0.00000000, 0.26274510,\n",
       "        1.00000000, 0.88235294, 0.91764706, 0.90588235, 0.88627451,\n",
       "        0.89019608, 0.89411765, 0.87843137, 0.91764706, 0.73333333,\n",
       "        0.00000000, 0.00000000, 0.00000000, 0.00000000, 0.00000000,\n",
       "        0.00000000, 0.00000000, 0.00000000],\n",
       "       [0.00000000, 0.00000000, 0.00000000, 0.00000000, 0.00000000,\n",
       "        0.00000000, 0.00000000, 0.00000000, 0.00000000, 0.44705882,\n",
       "        0.97647059, 0.85098039, 0.92156863, 0.93333333, 0.96078431,\n",
       "        0.89019608, 0.89019608, 0.88235294, 0.94509804, 0.69019608,\n",
       "        0.00000000, 0.00000000, 0.00000000, 0.00000000, 0.00000000,\n",
       "        0.00000000, 0.00000000, 0.00000000],\n",
       "       [0.00000000, 0.00000000, 0.00000000, 0.00000000, 0.00000000,\n",
       "        0.00000000, 0.00000000, 0.00000000, 0.00000000, 0.65490196,\n",
       "        0.96862745, 0.89019608, 0.90588235, 0.98039216, 0.78431373,\n",
       "        0.97254902, 0.90588235, 0.87843137, 0.98431373, 0.57647059,\n",
       "        0.00000000, 0.00000000, 0.00000000, 0.00000000, 0.00000000,\n",
       "        0.00000000, 0.00000000, 0.00000000],\n",
       "       [0.00000000, 0.00000000, 0.00000000, 0.00000000, 0.00000000,\n",
       "        0.00000000, 0.00000000, 0.00000000, 0.00000000, 0.81568627,\n",
       "        0.94901961, 0.88235294, 0.95294118, 0.88235294, 0.00000000,\n",
       "        1.00000000, 0.91372549, 0.88627451, 1.00000000, 0.50588235,\n",
       "        0.00000000, 0.00000000, 0.00000000, 0.00000000, 0.00000000,\n",
       "        0.00000000, 0.00000000, 0.00000000],\n",
       "       [0.00000000, 0.00000000, 0.00000000, 0.00000000, 0.00000000,\n",
       "        0.00000000, 0.00000000, 0.00000000, 0.00000000, 0.87450980,\n",
       "        0.93333333, 0.87450980, 1.00000000, 0.63137255, 0.00000000,\n",
       "        1.00000000, 0.92549020, 0.87450980, 1.00000000, 0.52941176,\n",
       "        0.00000000, 0.00000000, 0.00000000, 0.00000000, 0.00000000,\n",
       "        0.00000000, 0.00000000, 0.00000000],\n",
       "       [0.00000000, 0.00000000, 0.00000000, 0.00000000, 0.00000000,\n",
       "        0.00000000, 0.00000000, 0.00000000, 0.00000000, 0.96078431,\n",
       "        0.92156863, 0.87058824, 1.00000000, 0.28235294, 0.00000000,\n",
       "        0.97254902, 0.99607843, 0.85098039, 1.00000000, 0.56862745,\n",
       "        0.00000000, 0.00000000, 0.00000000, 0.00000000, 0.00000000,\n",
       "        0.00000000, 0.00000000, 0.00000000],\n",
       "       [0.00000000, 0.00000000, 0.00000000, 0.00000000, 0.00000000,\n",
       "        0.00000000, 0.00000000, 0.00000000, 0.00000000, 1.00000000,\n",
       "        0.91372549, 0.88627451, 1.00000000, 0.02745098, 0.00000000,\n",
       "        0.74901961, 0.97254902, 0.86274510, 1.00000000, 0.49411765,\n",
       "        0.00000000, 0.00000000, 0.00000000, 0.00000000, 0.00000000,\n",
       "        0.00000000, 0.00000000, 0.00000000],\n",
       "       [0.00000000, 0.00000000, 0.00000000, 0.00000000, 0.00000000,\n",
       "        0.00000000, 0.00000000, 0.00000000, 0.00000000, 1.00000000,\n",
       "        0.91372549, 0.90588235, 0.98431373, 0.00000000, 0.00000000,\n",
       "        0.62352941, 0.98431373, 0.86666667, 1.00000000, 0.43529412,\n",
       "        0.00000000, 0.00000000, 0.00000000, 0.00000000, 0.00000000,\n",
       "        0.00000000, 0.00000000, 0.00000000],\n",
       "       [0.00000000, 0.00000000, 0.00000000, 0.00000000, 0.00000000,\n",
       "        0.00000000, 0.00000000, 0.00000000, 0.00000000, 1.00000000,\n",
       "        0.90980392, 0.92549020, 0.84705882, 0.00000000, 0.00000000,\n",
       "        0.51372549, 0.99215686, 0.86274510, 1.00000000, 0.43529412,\n",
       "        0.00000000, 0.00000000, 0.00000000, 0.00000000, 0.00000000,\n",
       "        0.00000000, 0.00000000, 0.00000000],\n",
       "       [0.00000000, 0.00000000, 0.00000000, 0.00000000, 0.00000000,\n",
       "        0.00000000, 0.00000000, 0.00000000, 0.00000000, 1.00000000,\n",
       "        0.89411765, 0.95294118, 0.67450980, 0.00000000, 0.00000000,\n",
       "        0.22352941, 0.97647059, 0.87058824, 1.00000000, 0.43529412,\n",
       "        0.00000000, 0.00000000, 0.00000000, 0.00000000, 0.00000000,\n",
       "        0.00000000, 0.00000000, 0.00000000],\n",
       "       [0.00000000, 0.00000000, 0.00000000, 0.00000000, 0.00000000,\n",
       "        0.00000000, 0.00000000, 0.00000000, 0.00000000, 1.00000000,\n",
       "        0.90196078, 0.95686275, 0.54509804, 0.00000000, 0.00000000,\n",
       "        0.03921569, 1.00000000, 0.89019608, 1.00000000, 0.39215686,\n",
       "        0.00000000, 0.00000000, 0.00000000, 0.00000000, 0.00000000,\n",
       "        0.00000000, 0.00000000, 0.00000000],\n",
       "       [0.00000000, 0.00000000, 0.00000000, 0.00000000, 0.00000000,\n",
       "        0.00000000, 0.00000000, 0.00000000, 0.00000000, 0.89019608,\n",
       "        0.92941176, 0.94901961, 0.44313725, 0.00000000, 0.00000000,\n",
       "        0.02352941, 1.00000000, 0.90196078, 1.00000000, 0.34901961,\n",
       "        0.00000000, 0.00000000, 0.00000000, 0.00000000, 0.00000000,\n",
       "        0.00000000, 0.00000000, 0.00000000],\n",
       "       [0.00000000, 0.00000000, 0.00000000, 0.00000000, 0.00000000,\n",
       "        0.00000000, 0.00000000, 0.00000000, 0.00000000, 0.80000000,\n",
       "        0.93725490, 0.96078431, 0.59215686, 0.00000000, 0.00000000,\n",
       "        0.00000000, 1.00000000, 0.89019608, 1.00000000, 0.38823529,\n",
       "        0.00000000, 0.00000000, 0.00000000, 0.00000000, 0.00000000,\n",
       "        0.00000000, 0.00000000, 0.00000000],\n",
       "       [0.00000000, 0.00000000, 0.00000000, 0.00000000, 0.00000000,\n",
       "        0.00000000, 0.00000000, 0.00000000, 0.00000000, 0.59215686,\n",
       "        0.96078431, 0.93333333, 0.77647059, 0.00000000, 0.00000000,\n",
       "        0.00000000, 1.00000000, 0.91764706, 1.00000000, 0.36078431,\n",
       "        0.00000000, 0.00000000, 0.00000000, 0.00000000, 0.00000000,\n",
       "        0.00000000, 0.00000000, 0.00000000],\n",
       "       [0.00000000, 0.00000000, 0.00000000, 0.00000000, 0.00000000,\n",
       "        0.00000000, 0.00000000, 0.00000000, 0.00000000, 0.34901961,\n",
       "        0.97254902, 0.91372549, 0.97254902, 0.00000000, 0.00000000,\n",
       "        0.00000000, 0.98823529, 0.92941176, 1.00000000, 0.35294118,\n",
       "        0.00000000, 0.00000000, 0.00000000, 0.00000000, 0.00000000,\n",
       "        0.00000000, 0.00000000, 0.00000000],\n",
       "       [0.00000000, 0.00000000, 0.00000000, 0.00000000, 0.00000000,\n",
       "        0.00000000, 0.00000000, 0.00000000, 0.00000000, 0.12156863,\n",
       "        0.94117647, 0.89803922, 0.88627451, 0.00000000, 0.00000000,\n",
       "        0.00000000, 0.93725490, 0.93333333, 1.00000000, 0.36078431,\n",
       "        0.00000000, 0.00000000, 0.00000000, 0.00000000, 0.00000000,\n",
       "        0.00000000, 0.00000000, 0.00000000],\n",
       "       [0.00000000, 0.00000000, 0.00000000, 0.00000000, 0.00000000,\n",
       "        0.00000000, 0.00000000, 0.00000000, 0.00000000, 0.00000000,\n",
       "        0.88627451, 0.91372549, 0.92941176, 0.13333333, 0.00000000,\n",
       "        0.00000000, 0.91764706, 0.93333333, 1.00000000, 0.37254902,\n",
       "        0.00000000, 0.00000000, 0.00000000, 0.00000000, 0.00000000,\n",
       "        0.00000000, 0.00000000, 0.00000000],\n",
       "       [0.00000000, 0.00000000, 0.00000000, 0.00000000, 0.00000000,\n",
       "        0.00000000, 0.00000000, 0.00000000, 0.00000000, 0.00000000,\n",
       "        0.91372549, 0.92549020, 0.95686275, 0.26666667, 0.00000000,\n",
       "        0.00000000, 0.81960784, 0.94509804, 0.92941176, 0.38431373,\n",
       "        0.00000000, 0.00000000, 0.00000000, 0.00000000, 0.00000000,\n",
       "        0.00000000, 0.00000000, 0.00000000],\n",
       "       [0.00000000, 0.00000000, 0.00000000, 0.00000000, 0.00000000,\n",
       "        0.00000000, 0.00000000, 0.00000000, 0.00392157, 0.00000000,\n",
       "        0.59607843, 0.94901961, 0.96078431, 0.50196078, 0.00000000,\n",
       "        0.00000000, 0.77647059, 0.94509804, 0.93333333, 0.31764706,\n",
       "        0.00000000, 0.00000000, 0.00000000, 0.00000000, 0.00000000,\n",
       "        0.00000000, 0.00000000, 0.00000000],\n",
       "       [0.00000000, 0.00000000, 0.00000000, 0.00000000, 0.00000000,\n",
       "        0.00000000, 0.00000000, 0.00000000, 0.00784314, 0.00000000,\n",
       "        0.28627451, 0.96470588, 0.94509804, 0.82745098, 0.00000000,\n",
       "        0.00000000, 0.79215686, 0.94117647, 0.92941176, 0.29019608,\n",
       "        0.00000000, 0.00000000, 0.00000000, 0.00000000, 0.00000000,\n",
       "        0.00000000, 0.00000000, 0.00000000],\n",
       "       [0.00000000, 0.00000000, 0.00000000, 0.00000000, 0.00000000,\n",
       "        0.00000000, 0.00000000, 0.00000000, 0.01568627, 0.00000000,\n",
       "        0.00000000, 0.89803922, 0.92549020, 0.81960784, 0.00000000,\n",
       "        0.00000000, 0.61960784, 0.96862745, 0.93333333, 0.38823529,\n",
       "        0.00000000, 0.00000000, 0.00000000, 0.00000000, 0.00000000,\n",
       "        0.00000000, 0.00000000, 0.00000000],\n",
       "       [0.00000000, 0.00000000, 0.00000000, 0.00000000, 0.00000000,\n",
       "        0.00000000, 0.00000000, 0.00000000, 0.00392157, 0.00000000,\n",
       "        0.00000000, 0.78039216, 1.00000000, 0.96862745, 0.22745098,\n",
       "        0.00000000, 0.63137255, 1.00000000, 0.98823529, 0.46666667,\n",
       "        0.00000000, 0.00000000, 0.00000000, 0.00000000, 0.00000000,\n",
       "        0.00000000, 0.00000000, 0.00000000],\n",
       "       [0.00000000, 0.00000000, 0.00000000, 0.00000000, 0.00000000,\n",
       "        0.00000000, 0.00000000, 0.00000000, 0.00000000, 0.00000000,\n",
       "        0.00000000, 0.38431373, 0.62352941, 0.27843137, 0.00000000,\n",
       "        0.00000000, 0.26666667, 0.69019608, 0.64313725, 0.22745098,\n",
       "        0.00000000, 0.00000000, 0.00000000, 0.00000000, 0.00000000,\n",
       "        0.00000000, 0.00000000, 0.00000000]])"
      ]
     },
     "execution_count": 56,
     "metadata": {},
     "output_type": "execute_result"
    }
   ],
   "source": [
    "X_new[2]"
   ]
  },
  {
   "cell_type": "code",
   "execution_count": 53,
   "metadata": {},
   "outputs": [
    {
     "data": {
      "image/png": "[encoded data removed]",
      "text/plain": [
       "<Figure size 432x288 with 1 Axes>"
      ]
     },
     "metadata": {
      "needs_background": "light"
     },
     "output_type": "display_data"
    }
   ],
   "source": [
    "plt.imshow(X_new[0], cmap='binary')\n",
    "plt.axis('off')\n",
    "plt.show()"
   ]
  },
  {
   "cell_type": "code",
   "execution_count": 57,
   "metadata": {},
   "outputs": [
    {
     "data": {
      "image/png": "[encoded data removed]",
      "text/plain": [
       "<Figure size 432x288 with 1 Axes>"
      ]
     },
     "metadata": {
      "needs_background": "light"
     },
     "output_type": "display_data"
    }
   ],
   "source": [
    "plt.imshow(X_new[1], cmap='binary')\n",
    "plt.axis('off')\n",
    "plt.show()"
   ]
  },
  {
   "cell_type": "code",
   "execution_count": 63,
   "metadata": {},
   "outputs": [
    {
     "data": {
      "image/png": "[encoded data removed]",
      "text/plain": [
       "<Figure size 432x288 with 1 Axes>"
      ]
     },
     "metadata": {
      "needs_background": "light"
     },
     "output_type": "display_data"
    }
   ],
   "source": [
    "plt.imshow(X_new[2], cmap='binary')\n",
    "plt.axis('off')\n",
    "plt.show()"
   ]
  },
  {
   "cell_type": "code",
   "execution_count": 59,
   "metadata": {},
   "outputs": [
    {
     "data": {
      "text/plain": [
       "array([[0.00000000, 0.00000000, 0.00000000, 0.00000000, 0.00000000,\n",
       "        0.00000000, 0.00000000, 0.02000000, 0.00000000, 0.98000002],\n",
       "       [0.00000000, 0.00000000, 1.00000000, 0.00000000, 0.00000000,\n",
       "        0.00000000, 0.00000000, 0.00000000, 0.00000000, 0.00000000],\n",
       "       [0.00000000, 1.00000000, 0.00000000, 0.00000000, 0.00000000,\n",
       "        0.00000000, 0.00000000, 0.00000000, 0.00000000, 0.00000000]],\n",
       "      dtype=float32)"
      ]
     },
     "execution_count": 59,
     "metadata": {},
     "output_type": "execute_result"
    }
   ],
   "source": [
    "y_proba = model.predict(X_new)\n",
    "y_proba.round(2)"
   ]
  },
  {
   "cell_type": "code",
   "execution_count": 60,
   "metadata": {},
   "outputs": [
    {
     "data": {
      "text/plain": [
       "array([9, 2, 1], dtype=int64)"
      ]
     },
     "execution_count": 60,
     "metadata": {},
     "output_type": "execute_result"
    }
   ],
   "source": [
    "y_pred = np.argmax(model.predict(X_new), axis=-1)\n",
    "y_pred"
   ]
  },
  {
   "cell_type": "code",
   "execution_count": 61,
   "metadata": {},
   "outputs": [
    {
     "data": {
      "text/plain": [
       "array(['Ankle boot', 'Pullover', 'Trouser'], dtype='<U11')"
      ]
     },
     "execution_count": 61,
     "metadata": {},
     "output_type": "execute_result"
    }
   ],
   "source": [
    "np.array(class_names)[y_pred]"
   ]
  },
  {
   "cell_type": "code",
   "execution_count": 65,
   "metadata": {},
   "outputs": [
    {
     "data": {
      "image/png": "[encoded data removed]",
      "text/plain": [
       "<Figure size 518.4x172.8 with 3 Axes>"
      ]
     },
     "metadata": {
      "needs_background": "light"
     },
     "output_type": "display_data"
    }
   ],
   "source": [
    "plt.figure(figsize=(7.2, 2.4))\n",
    "\n",
    "for index, image in enumerate(X_new):\n",
    "    plt.subplot(1, 3, index+1)\n",
    "    plt.imshow(image, cmap='binary', interpolation='nearest')\n",
    "    #                                  축 위치 간격 보정\n",
    "    plt.axis('off')\n",
    "    plt.title(class_names[y_te[index]], fontsize=12)\n",
    "\n",
    "# subplot 간격 조절\n",
    "plt.subplots_adjust(wspace=0.2, hspace=0.5)\n",
    "plt.show()"
   ]
  },
  {
   "attachments": {},
   "cell_type": "markdown",
   "metadata": {},
   "source": [
    "#### ✔️새로운 이미지 넣어서 예측하기"
   ]
  },
  {
   "cell_type": "code",
   "execution_count": 67,
   "metadata": {},
   "outputs": [],
   "source": [
    "from PIL import Image\n",
    "import os"
   ]
  },
  {
   "cell_type": "code",
   "execution_count": 113,
   "metadata": {},
   "outputs": [],
   "source": [
    "sample_folder_path = r'.\\image'\n",
    "file_list = os.listdir(sample_folder_path)"
   ]
  },
  {
   "cell_type": "code",
   "execution_count": 114,
   "metadata": {},
   "outputs": [
    {
     "data": {
      "text/plain": [
       "['bag.jfif']"
      ]
     },
     "execution_count": 114,
     "metadata": {},
     "output_type": "execute_result"
    }
   ],
   "source": [
    "file_list"
   ]
  },
  {
   "cell_type": "code",
   "execution_count": 115,
   "metadata": {},
   "outputs": [],
   "source": [
    "file_path = os.path.join(sample_folder_path, file_list[0])"
   ]
  },
  {
   "cell_type": "code",
   "execution_count": 116,
   "metadata": {},
   "outputs": [],
   "source": [
    "img = Image.open(file_path)"
   ]
  },
  {
   "cell_type": "code",
   "execution_count": 117,
   "metadata": {},
   "outputs": [],
   "source": [
    "img = img.resize((28, 28))"
   ]
  },
  {
   "cell_type": "code",
   "execution_count": 118,
   "metadata": {},
   "outputs": [],
   "source": [
    "# 흑백으로 변경\n",
    "img = img.convert('L')"
   ]
  },
  {
   "cell_type": "code",
   "execution_count": 119,
   "metadata": {},
   "outputs": [
    {
     "data": {
      "image/png": "[encoded data removed]",
      "text/plain": [
       "<PIL.Image.Image image mode=L size=28x28 at 0x155A7447978>"
      ]
     },
     "execution_count": 119,
     "metadata": {},
     "output_type": "execute_result"
    }
   ],
   "source": [
    "img"
   ]
  },
  {
   "cell_type": "code",
   "execution_count": 120,
   "metadata": {},
   "outputs": [],
   "source": [
    "img_array = np.array(img)"
   ]
  },
  {
   "cell_type": "code",
   "execution_count": 123,
   "metadata": {},
   "outputs": [],
   "source": [
    "img_array = np.invert(img_array)"
   ]
  },
  {
   "cell_type": "code",
   "execution_count": 124,
   "metadata": {},
   "outputs": [
    {
     "data": {
      "image/png": "[encoded data removed]",
      "text/plain": [
       "<Figure size 432x288 with 1 Axes>"
      ]
     },
     "metadata": {
      "needs_background": "light"
     },
     "output_type": "display_data"
    }
   ],
   "source": [
    "plt.imshow(img_array, cmap='binary')\n",
    "plt.show()"
   ]
  },
  {
   "cell_type": "code",
   "execution_count": 125,
   "metadata": {},
   "outputs": [],
   "source": [
    "img.close()"
   ]
  },
  {
   "cell_type": "code",
   "execution_count": 126,
   "metadata": {},
   "outputs": [],
   "source": [
    "img_array = img_array.astype(float) / 255"
   ]
  },
  {
   "cell_type": "code",
   "execution_count": 127,
   "metadata": {},
   "outputs": [],
   "source": [
    "flattend_arr = img_array.flatten()"
   ]
  },
  {
   "cell_type": "code",
   "execution_count": 130,
   "metadata": {},
   "outputs": [],
   "source": [
    "y_pre = model.predict(flattend_arr.reshape(-1, 784))"
   ]
  },
  {
   "cell_type": "code",
   "execution_count": 131,
   "metadata": {},
   "outputs": [
    {
     "data": {
      "text/plain": [
       "4"
      ]
     },
     "execution_count": 131,
     "metadata": {},
     "output_type": "execute_result"
    }
   ],
   "source": [
    "y_pre.argmax()"
   ]
  },
  {
   "cell_type": "code",
   "execution_count": null,
   "metadata": {},
   "outputs": [],
   "source": []
  }
 ],
 "metadata": {
  "kernelspec": {
   "display_name": "DL",
   "language": "python",
   "name": "python3"
  },
  "language_info": {
   "codemirror_mode": {
    "name": "ipython",
    "version": 3
   },
   "file_extension": ".py",
   "mimetype": "text/x-python",
   "name": "python",
   "nbconvert_exporter": "python",
   "pygments_lexer": "ipython3",
   "version": "3.6.13"
  },
  "orig_nbformat": 4
 },
 "nbformat": 4,
 "nbformat_minor": 2
}
