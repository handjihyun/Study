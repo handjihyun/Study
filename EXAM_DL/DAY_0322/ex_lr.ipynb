{
 "cells": [
  {
   "attachments": {},
   "cell_type": "markdown",
   "metadata": {},
   "source": [
    "#### 선형회귀 모델 구현"
   ]
  },
  {
   "cell_type": "code",
   "execution_count": 1,
   "metadata": {},
   "outputs": [],
   "source": [
    "import tensorflow as tf"
   ]
  },
  {
   "cell_type": "code",
   "execution_count": 3,
   "metadata": {},
   "outputs": [],
   "source": [
    "from tensorflow.keras.models import Sequential\n",
    "from tensorflow.keras.layers import Dense"
   ]
  },
  {
   "attachments": {},
   "cell_type": "markdown",
   "metadata": {},
   "source": [
    "##### [1] 데이터 준비"
   ]
  },
  {
   "cell_type": "code",
   "execution_count": 10,
   "metadata": {},
   "outputs": [],
   "source": [
    "# y = 3 * x + 2 대응하는 데이터 임의로 생성\n",
    "import numpy as np"
   ]
  },
  {
   "cell_type": "code",
   "execution_count": 11,
   "metadata": {},
   "outputs": [],
   "source": [
    "X = np.arange(1, 10)"
   ]
  },
  {
   "cell_type": "code",
   "execution_count": 12,
   "metadata": {},
   "outputs": [],
   "source": [
    "y = 3 * X + 2"
   ]
  },
  {
   "cell_type": "code",
   "execution_count": 6,
   "metadata": {},
   "outputs": [
    {
     "data": {
      "text/plain": [
       "array([1, 2, 3, 4, 5, 6, 7, 8, 9])"
      ]
     },
     "execution_count": 6,
     "metadata": {},
     "output_type": "execute_result"
    }
   ],
   "source": [
    "X"
   ]
  },
  {
   "cell_type": "code",
   "execution_count": 7,
   "metadata": {},
   "outputs": [
    {
     "data": {
      "text/plain": [
       "array([ 5,  8, 11, 14, 17, 20, 23, 26, 29])"
      ]
     },
     "execution_count": 7,
     "metadata": {},
     "output_type": "execute_result"
    }
   ],
   "source": [
    "y"
   ]
  },
  {
   "cell_type": "code",
   "execution_count": 8,
   "metadata": {},
   "outputs": [],
   "source": [
    "# 시각화로 데이터 분포 확인\n",
    "import matplotlib.pyplot as plt"
   ]
  },
  {
   "cell_type": "code",
   "execution_count": 9,
   "metadata": {},
   "outputs": [
    {
     "data": {
      "image/png": "[encoded data removed]",
      "text/plain": [
       "<Figure size 640x480 with 1 Axes>"
      ]
     },
     "metadata": {},
     "output_type": "display_data"
    }
   ],
   "source": [
    "plt.plot(X, y, 'bo-')\n",
    "plt.xlabel('X')\n",
    "plt.ylabel('Y')\n",
    "plt.show()"
   ]
  },
  {
   "attachments": {},
   "cell_type": "markdown",
   "metadata": {},
   "source": [
    "##### [2] 모델 구현\n",
    "- 모델 설계\n",
    "- 모델 생성\n",
    "- 학습\n",
    "- 평가"
   ]
  },
  {
   "attachments": {},
   "cell_type": "markdown",
   "metadata": {},
   "source": [
    "[2-1] 모델 설계 => 층 설정, 입력, 출력"
   ]
  },
  {
   "cell_type": "code",
   "execution_count": 4,
   "metadata": {},
   "outputs": [],
   "source": [
    "lrModel = Sequential()"
   ]
  },
  {
   "cell_type": "code",
   "execution_count": 5,
   "metadata": {},
   "outputs": [],
   "source": [
    "lrModel.add(Dense(1, input_shape=(1,)))\n",
    "\n",
    "# w matrix => 1 X 1, b 벡터 => 1"
   ]
  },
  {
   "cell_type": "code",
   "execution_count": 6,
   "metadata": {},
   "outputs": [
    {
     "name": "stdout",
     "output_type": "stream",
     "text": [
      "Model: \"sequential\"\n",
      "_________________________________________________________________\n",
      " Layer (type)                Output Shape              Param #   \n",
      "=================================================================\n",
      " dense (Dense)               (None, 1)                 2         \n",
      "                                                                 \n",
      "=================================================================\n",
      "Total params: 2\n",
      "Trainable params: 2\n",
      "Non-trainable params: 0\n",
      "_________________________________________________________________\n"
     ]
    }
   ],
   "source": [
    "# 설계한 모델 요약 정보 확인\n",
    "lrModel.summary()"
   ]
  },
  {
   "attachments": {},
   "cell_type": "markdown",
   "metadata": {},
   "source": [
    "##### [2-2] 모델 생성 => 최적화방법, 오차계산 함수, 평가지표설정\n",
    "- 케라스에서는 최적화, 손실함수, 평가지표를 문자열과 실제 함수/클래스와 맵핑되어 있음\n",
    "- tensorflow.keras.optimizer.AdamOptimizer\n",
    "- tensorflow.keras.losses.mean_squared_error\n",
    "- tensorflow.keras.metrics.mean_squared_error"
   ]
  },
  {
   "attachments": {},
   "cell_type": "markdown",
   "metadata": {},
   "source": [
    "🔹기본값 최적화 적용"
   ]
  },
  {
   "cell_type": "code",
   "execution_count": 7,
   "metadata": {},
   "outputs": [],
   "source": [
    "lrModel.compile(optimizer='adam', loss='mse', metrics=['mse', 'mae'])"
   ]
  },
  {
   "attachments": {},
   "cell_type": "markdown",
   "metadata": {},
   "source": [
    "🔹사용자 설정 최적화 적용"
   ]
  },
  {
   "cell_type": "code",
   "execution_count": null,
   "metadata": {},
   "outputs": [],
   "source": [
    "from tensorflow.keras.optimizers import Adam"
   ]
  },
  {
   "cell_type": "code",
   "execution_count": null,
   "metadata": {},
   "outputs": [],
   "source": [
    "my_adam = Adam(learning_rate=0.0005)"
   ]
  },
  {
   "cell_type": "code",
   "execution_count": null,
   "metadata": {},
   "outputs": [],
   "source": [
    "lrModel.compile(optimizer=my_adam, loss='mse', metrics=['mse', 'mae'])"
   ]
  },
  {
   "attachments": {},
   "cell_type": "markdown",
   "metadata": {},
   "source": [
    "##### [3] 학습\n",
    "- 매개변수 : 학습횟수, 검증데이터 설정, 학습중단설정, 학습과정출력여부\n",
    "- 반환값 : History 객체에 학습과정의 평가결과를 저장해서 반환"
   ]
  },
  {
   "cell_type": "code",
   "execution_count": 13,
   "metadata": {},
   "outputs": [
    {
     "name": "stdout",
     "output_type": "stream",
     "text": [
      "Epoch 1/10\n",
      "1/1 [==============================] - 1s 1s/step - loss: 282.7994 - mse: 282.7994 - mae: 15.3758 - val_loss: 826.0782 - val_mse: 826.0782 - val_mae: 28.7416\n",
      "Epoch 2/10\n",
      "1/1 [==============================] - 0s 119ms/step - loss: 282.5991 - mse: 282.5991 - mae: 15.3703 - val_loss: 825.5035 - val_mse: 825.5035 - val_mae: 28.7316\n",
      "Epoch 3/10\n",
      "1/1 [==============================] - 0s 238ms/step - loss: 282.3989 - mse: 282.3989 - mae: 15.3648 - val_loss: 824.9290 - val_mse: 824.9290 - val_mae: 28.7216\n",
      "Epoch 4/10\n",
      "1/1 [==============================] - 0s 80ms/step - loss: 282.1987 - mse: 282.1987 - mae: 15.3593 - val_loss: 824.3547 - val_mse: 824.3547 - val_mae: 28.7116\n",
      "Epoch 5/10\n",
      "1/1 [==============================] - 0s 65ms/step - loss: 281.9986 - mse: 281.9986 - mae: 15.3538 - val_loss: 823.7806 - val_mse: 823.7806 - val_mae: 28.7016\n",
      "Epoch 6/10\n",
      "1/1 [==============================] - 0s 70ms/step - loss: 281.7986 - mse: 281.7986 - mae: 15.3483 - val_loss: 823.2067 - val_mse: 823.2067 - val_mae: 28.6916\n",
      "Epoch 7/10\n",
      "1/1 [==============================] - 0s 222ms/step - loss: 281.5986 - mse: 281.5986 - mae: 15.3428 - val_loss: 822.6331 - val_mse: 822.6331 - val_mae: 28.6816\n",
      "Epoch 8/10\n",
      "1/1 [==============================] - 0s 106ms/step - loss: 281.3988 - mse: 281.3988 - mae: 15.3373 - val_loss: 822.0597 - val_mse: 822.0597 - val_mae: 28.6716\n",
      "Epoch 9/10\n",
      "1/1 [==============================] - 0s 123ms/step - loss: 281.1990 - mse: 281.1990 - mae: 15.3318 - val_loss: 821.4865 - val_mse: 821.4865 - val_mae: 28.6616\n",
      "Epoch 10/10\n",
      "1/1 [==============================] - 0s 101ms/step - loss: 280.9994 - mse: 280.9994 - mae: 15.3263 - val_loss: 820.9135 - val_mse: 820.9135 - val_mae: 28.6516\n"
     ]
    }
   ],
   "source": [
    "result = lrModel.fit(X, y, epochs=10, validation_split=0.1)"
   ]
  },
  {
   "cell_type": "code",
   "execution_count": 14,
   "metadata": {},
   "outputs": [
    {
     "data": {
      "text/plain": [
       "keras.callbacks.History"
      ]
     },
     "execution_count": 14,
     "metadata": {},
     "output_type": "execute_result"
    }
   ],
   "source": [
    "type(result)"
   ]
  },
  {
   "cell_type": "code",
   "execution_count": 15,
   "metadata": {},
   "outputs": [
    {
     "data": {
      "text/plain": [
       "{'loss': [282.79937744140625,\n",
       "  282.59912109375,\n",
       "  282.39886474609375,\n",
       "  282.19866943359375,\n",
       "  281.99859619140625,\n",
       "  281.798583984375,\n",
       "  281.5986328125,\n",
       "  281.3988037109375,\n",
       "  281.19903564453125,\n",
       "  280.9993591308594],\n",
       " 'mse': [282.79937744140625,\n",
       "  282.59912109375,\n",
       "  282.39886474609375,\n",
       "  282.19866943359375,\n",
       "  281.99859619140625,\n",
       "  281.798583984375,\n",
       "  281.5986328125,\n",
       "  281.3988037109375,\n",
       "  281.19903564453125,\n",
       "  280.9993591308594],\n",
       " 'mae': [15.375788688659668,\n",
       "  15.370288848876953,\n",
       "  15.364788055419922,\n",
       "  15.359288215637207,\n",
       "  15.353788375854492,\n",
       "  15.348288536071777,\n",
       "  15.342789649963379,\n",
       "  15.337291717529297,\n",
       "  15.331792831420898,\n",
       "  15.3262939453125],\n",
       " 'val_loss': [826.0782470703125,\n",
       "  825.5035400390625,\n",
       "  824.928955078125,\n",
       "  824.354736328125,\n",
       "  823.7805786132812,\n",
       "  823.2067260742188,\n",
       "  822.6331176757812,\n",
       "  822.0596923828125,\n",
       "  821.4864501953125,\n",
       "  820.9135131835938],\n",
       " 'val_mse': [826.0782470703125,\n",
       "  825.5035400390625,\n",
       "  824.928955078125,\n",
       "  824.354736328125,\n",
       "  823.7805786132812,\n",
       "  823.2067260742188,\n",
       "  822.6331176757812,\n",
       "  822.0596923828125,\n",
       "  821.4864501953125,\n",
       "  820.9135131835938],\n",
       " 'val_mae': [28.7415771484375,\n",
       "  28.731576919555664,\n",
       "  28.721576690673828,\n",
       "  28.711578369140625,\n",
       "  28.70157814025879,\n",
       "  28.691579818725586,\n",
       "  28.681581497192383,\n",
       "  28.67158317565918,\n",
       "  28.661584854125977,\n",
       "  28.651588439941406]}"
      ]
     },
     "execution_count": 15,
     "metadata": {},
     "output_type": "execute_result"
    }
   ],
   "source": [
    "result.history"
   ]
  },
  {
   "attachments": {},
   "cell_type": "markdown",
   "metadata": {},
   "source": [
    "[3-2] 학습 후 반환값 History로 확인"
   ]
  },
  {
   "cell_type": "code",
   "execution_count": 16,
   "metadata": {},
   "outputs": [],
   "source": [
    "import matplotlib.pyplot as plt"
   ]
  },
  {
   "cell_type": "code",
   "execution_count": 17,
   "metadata": {},
   "outputs": [
    {
     "data": {
      "text/plain": [
       "array([282.799, 282.599, 282.399, 282.199, 281.999, 281.799, 281.599,\n",
       "       281.399, 281.199, 280.999])"
      ]
     },
     "execution_count": 17,
     "metadata": {},
     "output_type": "execute_result"
    }
   ],
   "source": [
    "np.round(result.history['loss'], 3)"
   ]
  },
  {
   "cell_type": "code",
   "execution_count": 18,
   "metadata": {},
   "outputs": [
    {
     "ename": "",
     "evalue": "",
     "output_type": "error",
     "traceback": [
      "\u001b[1;31mCanceled future for execute_request message before replies were done"
     ]
    },
    {
     "ename": "",
     "evalue": "",
     "output_type": "error",
     "traceback": [
      "\u001b[1;31mThe Kernel crashed while executing code in the the current cell or a previous cell. Please review the code in the cell(s) to identify a possible cause of the failure. Click <a href='https://aka.ms/vscodeJupyterKernelCrash'>here</a> for more info. View Jupyter <a href='command:jupyter.viewOutput'>log</a> for further details."
     ]
    }
   ],
   "source": [
    "plt.plot(np.round(result.history['loss'], 3), 'bo-')\n",
    "plt.plot(np.round(result.history['val_loss'], 3), 'ro-')\n",
    "plt.show()"
   ]
  },
  {
   "attachments": {},
   "cell_type": "markdown",
   "metadata": {},
   "source": [
    "##### [4] 평가"
   ]
  },
  {
   "cell_type": "code",
   "execution_count": 1,
   "metadata": {},
   "outputs": [
    {
     "ename": "NameError",
     "evalue": "name 'lrModel' is not defined",
     "output_type": "error",
     "traceback": [
      "\u001b[1;31m---------------------------------------------------------------------------\u001b[0m",
      "\u001b[1;31mNameError\u001b[0m                                 Traceback (most recent call last)",
      "\u001b[1;32m~\\AppData\\Local\\Temp\\ipykernel_3568\\2948323882.py\u001b[0m in \u001b[0;36m<module>\u001b[1;34m\u001b[0m\n\u001b[1;32m----> 1\u001b[1;33m \u001b[0mlrModel\u001b[0m\u001b[1;33m.\u001b[0m\u001b[0mevaluate\u001b[0m\u001b[1;33m(\u001b[0m\u001b[0mX\u001b[0m\u001b[1;33m,\u001b[0m \u001b[0my\u001b[0m\u001b[1;33m)\u001b[0m\u001b[1;33m\u001b[0m\u001b[1;33m\u001b[0m\u001b[0m\n\u001b[0m",
      "\u001b[1;31mNameError\u001b[0m: name 'lrModel' is not defined"
     ]
    }
   ],
   "source": [
    "lrModel.evaluate(X, y)"
   ]
  },
  {
   "attachments": {},
   "cell_type": "markdown",
   "metadata": {},
   "source": [
    "##### [5] 예측"
   ]
  },
  {
   "cell_type": "code",
   "execution_count": null,
   "metadata": {},
   "outputs": [],
   "source": [
    "lrModel.predict([4])"
   ]
  }
 ],
 "metadata": {
  "kernelspec": {
   "display_name": "base",
   "language": "python",
   "name": "python3"
  },
  "language_info": {
   "codemirror_mode": {
    "name": "ipython",
    "version": 3
   },
   "file_extension": ".py",
   "mimetype": "text/x-python",
   "name": "python",
   "nbconvert_exporter": "python",
   "pygments_lexer": "ipython3",
   "version": "3.9.15"
  },
  "orig_nbformat": 4
 },
 "nbformat": 4,
 "nbformat_minor": 2
}
