{
 "cells": [
  {
   "attachments": {},
   "cell_type": "markdown",
   "metadata": {},
   "source": [
    "#### Chapter2 퍼셉트론"
   ]
  },
  {
   "attachments": {},
   "cell_type": "markdown",
   "metadata": {},
   "source": [
    "#### 2.1 퍼셉트론이란?\n",
    "##### ☑️퍼셉트론 : 다수의 신호(흐름)를 입력으로 받아 하나의 신호를 출력\n",
    " - 1 : 신호가 흐른다\n",
    "- 0 : 신호가 흐르지 않는다\n",
    "##### ☑️입력 신호사 뉴런에 보내질 때는 각각 고유한 `가중치`가 곱해짐\n",
    "##### ☑️`뉴런`에서 보내온 신호의 총합이 정해진 한계(`임계값`)를 넘어설 때만 1을 출력\n"
   ]
  },
  {
   "attachments": {},
   "cell_type": "markdown",
   "metadata": {},
   "source": [
    "#### 2.2 단순한 논리 회로\n",
    "☑️y = 0 (w1x1 + w2x2 <= $\\theta$)\n",
    "\n",
    "☑️y = 1 (w1x1 + w2x2 > $\\theta$)\n",
    "##### 2.2.1 AND 게이트\n",
    "- 두 입력이 모두 1일 때만 `1`을 출력\n",
    "- (w1, w2, $\\theta$) = (0.5, 0.5, 0.7)\n",
    "\n",
    "|x1|x2|y|\n",
    "|---|---|---|\n",
    "|0|0|0|\n",
    "|1|0|0|\n",
    "|0|1|0|\n",
    "|1|1|1|\n",
    "##### 2.2.2 NAND 게이트와 OR 게이트\n",
    "- NAND : 두 입력이 모두 1일 때만 `0`을 출력\n",
    "- (w1, w2, $\\theta$) = (-0.5, -0.5, -0.7)\n",
    "\n",
    "|x1|x2|y|\n",
    "|---|---|---|\n",
    "|0|0|1|\n",
    "|1|0|1|\n",
    "|0|1|1|\n",
    "|1|1|0|\n",
    "\n",
    "- OR : 하나 이상이 1이면 `1`을 출력\n",
    "- (w1, w2, $\\theta$) = (0.5, -0.5, 0.7)\n",
    "\n",
    "|x1|x2|y|\n",
    "|---|---|---|\n",
    "|0|0|0|\n",
    "|1|0|1|\n",
    "|0|1|1|\n",
    "|1|1|1|\n",
    "\n",
    "#### 2.3 퍼셉트론 구현하기\n",
    "##### 2.3.1 간단한 구현부터"
   ]
  },
  {
   "cell_type": "code",
   "execution_count": 9,
   "metadata": {},
   "outputs": [],
   "source": [
    "# x1과 x2를 인수로 받는 AND 함수\n",
    "def AND(x1, x2):\n",
    "    w1, w2, theta = 0.5, 0.5, 0.7\n",
    "    tmp = x1*w1 + x2*w2\n",
    "    if tmp <= theta:\n",
    "        return 0\n",
    "    else:\n",
    "        return 1"
   ]
  },
  {
   "cell_type": "code",
   "execution_count": 10,
   "metadata": {},
   "outputs": [
    {
     "name": "stdout",
     "output_type": "stream",
     "text": [
      "0\n",
      "0\n",
      "0\n",
      "1\n"
     ]
    }
   ],
   "source": [
    "print(AND(0, 0))\n",
    "print(AND(1, 0))\n",
    "print(AND(0, 1))\n",
    "print(AND(1, 1))"
   ]
  },
  {
   "attachments": {},
   "cell_type": "markdown",
   "metadata": {},
   "source": [
    "##### 2.3.2 가중치와 편향 도입\n",
    "- $\\theta$를 -b로 치환\n",
    "- b : 편향(bias)\n",
    "\n",
    "☑️y = 0 (b + w1x1 + w2x2 <= 0)\n",
    "\n",
    "☑️y = 1 (b + w1x1 + w2x2 > 0)"
   ]
  },
  {
   "cell_type": "code",
   "execution_count": 3,
   "metadata": {},
   "outputs": [],
   "source": [
    "import numpy as np"
   ]
  },
  {
   "cell_type": "code",
   "execution_count": 4,
   "metadata": {},
   "outputs": [],
   "source": [
    "x = np.array([0, 1])        # 입력\n",
    "w = np.array([0.5, 0.5])    # 가중치\n",
    "b = -0.7                    # 편향"
   ]
  },
  {
   "cell_type": "code",
   "execution_count": 8,
   "metadata": {},
   "outputs": [
    {
     "name": "stdout",
     "output_type": "stream",
     "text": [
      "[0.  0.5]\n",
      "0.5\n",
      "-0.19999999999999996\n"
     ]
    }
   ],
   "source": [
    "print(w * x)                \n",
    "print(np.sum(w * x))\n",
    "print(np.sum(w * x) + b)    # 약 -0.2"
   ]
  },
  {
   "attachments": {},
   "cell_type": "markdown",
   "metadata": {},
   "source": [
    "##### 2.3.3 가중치와 편향 구현하기"
   ]
  },
  {
   "cell_type": "code",
   "execution_count": 11,
   "metadata": {},
   "outputs": [],
   "source": [
    "# \"가중치와 편향을 도입\"한 AND 게이트\n",
    "def AND(x1, x2):\n",
    "    x = np.array([x1, x2])\n",
    "    w = np.array([0.5, 0.5])\n",
    "    b = -0.7\n",
    "    tmp = np.sum(w * x) + b\n",
    "    if tmp <= 0:\n",
    "        return 0\n",
    "    else:\n",
    "        return 1"
   ]
  },
  {
   "attachments": {},
   "cell_type": "markdown",
   "metadata": {},
   "source": [
    "- 가중치 : 입력 신호가 결과에 주는 영향력(중요도)을 조정하는 매개변수\n",
    "- 편  향 : 뉴런이 얼마나 쉽게 활성화(결과로 1을 출력)하느냐를 조정하는 매개변수"
   ]
  },
  {
   "cell_type": "code",
   "execution_count": 13,
   "metadata": {},
   "outputs": [],
   "source": [
    "# \"가중치와 편향을 도입\"한 NAND 게이트\n",
    "def NAND(x1, x2):\n",
    "    x = np.array([x1, x2])\n",
    "    w = np.array([-0.5, -0.5])  # AND와는 가중치(w, b)만 다르다!\n",
    "    b = 0.7\n",
    "    tmp = np.sum(w * x) + b\n",
    "    if tmp <= 0:\n",
    "        return 0\n",
    "    else:\n",
    "        return 1"
   ]
  },
  {
   "cell_type": "code",
   "execution_count": 14,
   "metadata": {},
   "outputs": [],
   "source": [
    "# \"가중치와 편향을 도입\"한 OR 게이트\n",
    "def OR(x1, x2):\n",
    "    x = np.array([x1, x2])\n",
    "    w = np.array([0.5, 0.5])\n",
    "    b = -0.2\n",
    "    tmp = np.sum(w * x) + b\n",
    "    if tmp <= 0:\n",
    "        return 0\n",
    "    else:\n",
    "        return 1"
   ]
  },
  {
   "attachments": {},
   "cell_type": "markdown",
   "metadata": {},
   "source": [
    "#### 2.4 퍼셉트론의 한계\n",
    "##### 2.4.1 도전! XOR 게이트\n",
    "☑️ 베타적 논리합\n",
    "- XOR : x1과 x2 중 한쪽이 1일 때만 `1`을 출력\n",
    "- 직선으로 구분할 수 없음!\n",
    "\n",
    "|x1|x2|y|\n",
    "|---|---|---|\n",
    "|0|0|0|\n",
    "|1|0|1|\n",
    "|0|1|1|\n",
    "|1|1|0|\n",
    "\n",
    "##### 2.4.2 선형과 비선형\n",
    "☑️ 선형 영역\n",
    "\n",
    "☑️ 비선형 영역\n",
    "\n",
    "#### 2.5 다층 퍼셉트론이 출동한다면\n",
    "☑️ \"층을 쌓아\" 다층 퍼셉트론을 만들 수 있다!\n",
    "\n",
    "##### 2.5.1 기존 게이트 조합하기\n",
    "☑️ NAND의 출력을 s1, OR의 출력을 s2\n",
    "\n",
    "|x1|x2|s1|s2|y\n",
    "|---|---|---|---|---|\n",
    "|0|0|1|0|0|\n",
    "|1|0|1|1|1|\n",
    "|0|1|1|1|1|\n",
    "|1|1|0|1|0|\n",
    "\n",
    "##### 2.5.2 XOR 게이트 구현하기"
   ]
  },
  {
   "cell_type": "code",
   "execution_count": 15,
   "metadata": {},
   "outputs": [],
   "source": [
    "def XOR(x1, x2):\n",
    "    s1 = NAND(x1, x2)\n",
    "    s2 = OR(x1, x2)\n",
    "    y = AND(s1, s2)\n",
    "    return y"
   ]
  },
  {
   "cell_type": "code",
   "execution_count": 16,
   "metadata": {},
   "outputs": [
    {
     "name": "stdout",
     "output_type": "stream",
     "text": [
      "0\n",
      "1\n",
      "1\n",
      "0\n"
     ]
    }
   ],
   "source": [
    "print(XOR(0, 0))\n",
    "print(XOR(0, 1))\n",
    "print(XOR(1, 0))\n",
    "print(XOR(1, 1))"
   ]
  }
 ],
 "metadata": {
  "kernelspec": {
   "display_name": "base",
   "language": "python",
   "name": "python3"
  },
  "language_info": {
   "codemirror_mode": {
    "name": "ipython",
    "version": 3
   },
   "file_extension": ".py",
   "mimetype": "text/x-python",
   "name": "python",
   "nbconvert_exporter": "python",
   "pygments_lexer": "ipython3",
   "version": "3.9.15"
  },
  "orig_nbformat": 4
 },
 "nbformat": 4,
 "nbformat_minor": 2
}
