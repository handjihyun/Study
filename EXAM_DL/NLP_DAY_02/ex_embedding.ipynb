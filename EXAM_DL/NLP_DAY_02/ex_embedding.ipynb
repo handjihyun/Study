{
 "cells": [
  {
   "attachments": {},
   "cell_type": "markdown",
   "metadata": {},
   "source": [
    "### 임베딩 : Embedding\n",
    "- 텍스트를 유사도 기준으로 수치화 ==> 밀집행렬\n",
    "- 토큰화 실행 후 커진 희소행렬을 밀집행렬 ==> 축소"
   ]
  },
  {
   "cell_type": "code",
   "execution_count": 50,
   "metadata": {},
   "outputs": [],
   "source": [
    "from tensorflow.keras.layers import Embedding\n",
    "from tensorflow.keras.layers import SimpleRNN, RNN, LSTM, GRU, Input, Dense, Bidirectional\n",
    "from tensorflow.keras.models import Sequential\n",
    "from tensorflow.keras.preprocessing.text import Tokenizer\n",
    "from tensorflow.keras.preprocessing.sequence import pad_sequences"
   ]
  },
  {
   "cell_type": "code",
   "execution_count": 2,
   "metadata": {},
   "outputs": [],
   "source": [
    "sentences = ['Today is a sunny day',\n",
    "              'Today is a rainy day',\n",
    "              'Is it sunny today?']"
   ]
  },
  {
   "attachments": {},
   "cell_type": "markdown",
   "metadata": {},
   "source": [
    "텍스트 전처리 ==> 토큰화 / 패딩"
   ]
  },
  {
   "cell_type": "code",
   "execution_count": 3,
   "metadata": {},
   "outputs": [],
   "source": [
    "# create tokenizer object\n",
    "NUM_WORDS = 1000    # word dictionary count of dataset\n",
    "OOV = '<UNK>'       # character that isn't in word dictionary\n",
    "\n",
    "tokenizer = Tokenizer(num_words = NUM_WORDS, oov_token = OOV)"
   ]
  },
  {
   "cell_type": "code",
   "execution_count": 4,
   "metadata": {},
   "outputs": [],
   "source": [
    "# make word dictionary based on \"sentences\" data\n",
    "tokenizer.fit_on_texts(sentences)"
   ]
  },
  {
   "cell_type": "code",
   "execution_count": 5,
   "metadata": {},
   "outputs": [
    {
     "data": {
      "text/plain": [
       "(OrderedDict([('today', 3),\n",
       "              ('is', 3),\n",
       "              ('a', 2),\n",
       "              ('sunny', 2),\n",
       "              ('day', 2),\n",
       "              ('rainy', 1),\n",
       "              ('it', 1)]),\n",
       " {'<UNK>': 1,\n",
       "  'today': 2,\n",
       "  'is': 3,\n",
       "  'a': 4,\n",
       "  'sunny': 5,\n",
       "  'day': 6,\n",
       "  'rainy': 7,\n",
       "  'it': 8})"
      ]
     },
     "execution_count": 5,
     "metadata": {},
     "output_type": "execute_result"
    }
   ],
   "source": [
    "tokenizer.word_counts, tokenizer.word_index"
   ]
  },
  {
   "cell_type": "code",
   "execution_count": 6,
   "metadata": {},
   "outputs": [
    {
     "data": {
      "text/plain": [
       "8"
      ]
     },
     "execution_count": 6,
     "metadata": {},
     "output_type": "execute_result"
    }
   ],
   "source": [
    "# whole words count\n",
    "word_index = len(tokenizer.word_index)\n",
    "word_index"
   ]
  },
  {
   "cell_type": "code",
   "execution_count": 8,
   "metadata": {},
   "outputs": [
    {
     "data": {
      "text/plain": [
       "[[2, 3, 4, 5, 6], [2, 3, 4, 7, 6], [3, 8, 5, 2]]"
      ]
     },
     "execution_count": 8,
     "metadata": {},
     "output_type": "execute_result"
    }
   ],
   "source": [
    "# convert sentence => number\n",
    "# sentences = ['Today is a sunny day',\n",
    "#               'Today is a rainy day',\n",
    "#               'Is it sunny today?']\n",
    "rets = tokenizer.texts_to_sequences(sentences)\n",
    "rets"
   ]
  },
  {
   "cell_type": "code",
   "execution_count": 10,
   "metadata": {},
   "outputs": [],
   "source": [
    "# Equalize length of whole words ==> padding\n",
    "lengths = [len(x) for x in rets]\n",
    "TOKEN_LENGTH = max(lengths)"
   ]
  },
  {
   "cell_type": "code",
   "execution_count": 12,
   "metadata": {},
   "outputs": [
    {
     "data": {
      "text/plain": [
       "(array([[2, 3, 4, 5, 6],\n",
       "        [2, 3, 4, 7, 6],\n",
       "        [3, 8, 5, 2, 0]]),\n",
       " (3, 5),\n",
       " 2)"
      ]
     },
     "execution_count": 12,
     "metadata": {},
     "output_type": "execute_result"
    }
   ],
   "source": [
    "rets2 = pad_sequences(rets, maxlen=TOKEN_LENGTH, padding='post', truncating='post')\n",
    "rets2, rets2.shape, rets2.ndim"
   ]
  },
  {
   "attachments": {},
   "cell_type": "markdown",
   "metadata": {},
   "source": [
    "### 모델에 적용\n",
    "- Embedding 층에 역할 확인"
   ]
  },
  {
   "cell_type": "code",
   "execution_count": 51,
   "metadata": {},
   "outputs": [],
   "source": [
    "model = Sequential()"
   ]
  },
  {
   "cell_type": "code",
   "execution_count": 45,
   "metadata": {},
   "outputs": [],
   "source": [
    "# 5개의 토큰이 하나의 문장 ==> 타입스템프\n",
    "# 단어 수만큼 컬럼을 가짐  ==> 2개로 변환\n",
    "# 토큰별 단어수만큼 행 1 X 9 =====> 1 X 2\n",
    "#                   input_dim, output_dim, input_length\n",
    "#                       고정       지정         고정\n",
    "# model.add(Embedding(word_index+1, 7, input_length=5))\n",
    "model.add(Input(shape=(3, 5)))\n",
    "model.add(SimpleRNN(4))\n",
    "model.add(Dense(1))"
   ]
  },
  {
   "cell_type": "code",
   "execution_count": 52,
   "metadata": {},
   "outputs": [],
   "source": [
    "model.add(Embedding(word_index+1, 7, input_length=5))\n",
    "model.add(Bidirectional(LSTM(16, return_sequences=True)))\n",
    "model.add(Dense(32, activation='softmax'))\n",
    "model.add(Dense(1, activation='sigmoid'))"
   ]
  },
  {
   "cell_type": "code",
   "execution_count": 53,
   "metadata": {},
   "outputs": [
    {
     "name": "stdout",
     "output_type": "stream",
     "text": [
      "Model: \"sequential_4\"\n",
      "_________________________________________________________________\n",
      " Layer (type)                Output Shape              Param #   \n",
      "=================================================================\n",
      " embedding_7 (Embedding)     (None, 5, 7)              63        \n",
      "                                                                 \n",
      " bidirectional (Bidirectiona  (None, 5, 32)            3072      \n",
      " l)                                                              \n",
      "                                                                 \n",
      " dense_3 (Dense)             (None, 5, 32)             1056      \n",
      "                                                                 \n",
      " dense_4 (Dense)             (None, 5, 1)              33        \n",
      "                                                                 \n",
      "=================================================================\n",
      "Total params: 4,224\n",
      "Trainable params: 4,224\n",
      "Non-trainable params: 0\n",
      "_________________________________________________________________\n"
     ]
    }
   ],
   "source": [
    "model.summary()"
   ]
  },
  {
   "attachments": {},
   "cell_type": "markdown",
   "metadata": {},
   "source": [
    "🔹parameter (18) = output_dim (2) * token count (9)"
   ]
  },
  {
   "cell_type": "code",
   "execution_count": 47,
   "metadata": {},
   "outputs": [],
   "source": [
    "#             default 'None'\n",
    "model.compile(loss='mse')"
   ]
  },
  {
   "cell_type": "code",
   "execution_count": 54,
   "metadata": {},
   "outputs": [],
   "source": [
    "model.compile(loss='binary_crossentropy', optimizer='adam', metrics=['acc'])"
   ]
  },
  {
   "cell_type": "code",
   "execution_count": 48,
   "metadata": {},
   "outputs": [
    {
     "name": "stdout",
     "output_type": "stream",
     "text": [
      "1/1 [==============================] - 0s 357ms/step\n"
     ]
    }
   ],
   "source": [
    "out = model.predict(rets2)"
   ]
  },
  {
   "cell_type": "code",
   "execution_count": 49,
   "metadata": {},
   "outputs": [
    {
     "data": {
      "text/plain": [
       "(3, 5)"
      ]
     },
     "execution_count": 49,
     "metadata": {},
     "output_type": "execute_result"
    }
   ],
   "source": [
    "rets2.shape"
   ]
  },
  {
   "cell_type": "code",
   "execution_count": 20,
   "metadata": {},
   "outputs": [
    {
     "data": {
      "text/plain": [
       "array([[2, 3, 4, 5, 6],\n",
       "       [2, 3, 4, 7, 6],\n",
       "       [3, 8, 5, 2, 0]])"
      ]
     },
     "execution_count": 20,
     "metadata": {},
     "output_type": "execute_result"
    }
   ],
   "source": [
    "rets2"
   ]
  },
  {
   "cell_type": "code",
   "execution_count": 21,
   "metadata": {},
   "outputs": [
    {
     "data": {
      "text/plain": [
       "(3, 5, 2)"
      ]
     },
     "execution_count": 21,
     "metadata": {},
     "output_type": "execute_result"
    }
   ],
   "source": [
    "# result after embedding\n",
    "out.shape"
   ]
  },
  {
   "cell_type": "code",
   "execution_count": 22,
   "metadata": {},
   "outputs": [
    {
     "data": {
      "text/plain": [
       "array([[[ 0.02840031,  0.04759468],\n",
       "        [ 0.00658851, -0.0191051 ],\n",
       "        [ 0.00370295,  0.01637696],\n",
       "        [ 0.02575673,  0.030749  ],\n",
       "        [ 0.00236554,  0.00055034]],\n",
       "\n",
       "       [[ 0.02840031,  0.04759468],\n",
       "        [ 0.00658851, -0.0191051 ],\n",
       "        [ 0.00370295,  0.01637696],\n",
       "        [ 0.02577429,  0.03535037],\n",
       "        [ 0.00236554,  0.00055034]],\n",
       "\n",
       "       [[ 0.00658851, -0.0191051 ],\n",
       "        [-0.01274029,  0.00075477],\n",
       "        [ 0.02575673,  0.030749  ],\n",
       "        [ 0.02840031,  0.04759468],\n",
       "        [ 0.0499277 , -0.00040925]]], dtype=float32)"
      ]
     },
     "execution_count": 22,
     "metadata": {},
     "output_type": "execute_result"
    }
   ],
   "source": [
    "out"
   ]
  },
  {
   "cell_type": "code",
   "execution_count": null,
   "metadata": {},
   "outputs": [],
   "source": []
  }
 ],
 "metadata": {
  "kernelspec": {
   "display_name": "DL",
   "language": "python",
   "name": "python3"
  },
  "language_info": {
   "codemirror_mode": {
    "name": "ipython",
    "version": 3
   },
   "file_extension": ".py",
   "mimetype": "text/x-python",
   "name": "python",
   "nbconvert_exporter": "python",
   "pygments_lexer": "ipython3",
   "version": "3.10.10"
  },
  "orig_nbformat": 4
 },
 "nbformat": 4,
 "nbformat_minor": 2
}
