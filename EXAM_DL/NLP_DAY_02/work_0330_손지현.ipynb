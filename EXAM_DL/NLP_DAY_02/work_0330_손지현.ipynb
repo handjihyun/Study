{
 "cells": [
  {
   "cell_type": "code",
   "execution_count": 30,
   "metadata": {},
   "outputs": [],
   "source": [
    "from tensorflow.keras.datasets import imdb\n",
    "from tensorflow.keras.preprocessing.sequence import pad_sequences\n",
    "from tensorflow.keras.models import Sequential\n",
    "from tensorflow.keras.layers import Dense, GRU, Embedding, LSTM, SimpleRNN\n",
    "from tensorflow.keras.callbacks import EarlyStopping, ModelCheckpoint\n",
    "from tensorflow.keras.models import load_model"
   ]
  },
  {
   "cell_type": "code",
   "execution_count": 13,
   "metadata": {},
   "outputs": [],
   "source": [
    "vocab_size = 10000\n",
    "max_len = 500"
   ]
  },
  {
   "cell_type": "code",
   "execution_count": 14,
   "metadata": {},
   "outputs": [],
   "source": [
    "(X_train, y_train), (X_test, y_test) = imdb.load_data(num_words=vocab_size)"
   ]
  },
  {
   "cell_type": "code",
   "execution_count": 15,
   "metadata": {},
   "outputs": [],
   "source": [
    "X_train = pad_sequences(X_train, maxlen=max_len)\n",
    "X_test = pad_sequences(X_test, maxlen=max_len)"
   ]
  },
  {
   "cell_type": "code",
   "execution_count": 16,
   "metadata": {},
   "outputs": [
    {
     "data": {
      "text/plain": [
       "array([[   0,    0,    0, ...,   19,  178,   32],\n",
       "       [   0,    0,    0, ...,   16,  145,   95],\n",
       "       [   0,    0,    0, ...,    7,  129,  113],\n",
       "       ...,\n",
       "       [   0,    0,    0, ...,    4, 3586,    2],\n",
       "       [   0,    0,    0, ...,   12,    9,   23],\n",
       "       [   0,    0,    0, ...,  204,  131,    9]])"
      ]
     },
     "execution_count": 16,
     "metadata": {},
     "output_type": "execute_result"
    }
   ],
   "source": [
    "X_train"
   ]
  },
  {
   "cell_type": "code",
   "execution_count": 17,
   "metadata": {},
   "outputs": [],
   "source": [
    "embedding_dim = 100\n",
    "hidden_units = 128"
   ]
  },
  {
   "cell_type": "code",
   "execution_count": 18,
   "metadata": {},
   "outputs": [],
   "source": [
    "model = Sequential()\n",
    "model.add(Embedding(vocab_size, embedding_dim))\n",
    "model.add(GRU(hidden_units))\n",
    "model.add(Dense(1, activation = 'sigmoid'))"
   ]
  },
  {
   "cell_type": "code",
   "execution_count": 19,
   "metadata": {},
   "outputs": [
    {
     "name": "stdout",
     "output_type": "stream",
     "text": [
      "Model: \"sequential_2\"\n",
      "_________________________________________________________________\n",
      " Layer (type)                Output Shape              Param #   \n",
      "=================================================================\n",
      " embedding_2 (Embedding)     (None, None, 100)         1000000   \n",
      "                                                                 \n",
      " gru_1 (GRU)                 (None, 128)               88320     \n",
      "                                                                 \n",
      " dense_2 (Dense)             (None, 1)                 129       \n",
      "                                                                 \n",
      "=================================================================\n",
      "Total params: 1,088,449\n",
      "Trainable params: 1,088,449\n",
      "Non-trainable params: 0\n",
      "_________________________________________________________________\n"
     ]
    }
   ],
   "source": [
    "model.summary()"
   ]
  },
  {
   "cell_type": "code",
   "execution_count": 20,
   "metadata": {},
   "outputs": [],
   "source": [
    "es = EarlyStopping(monitor = 'val_acc', patience = 4)"
   ]
  },
  {
   "cell_type": "code",
   "execution_count": 21,
   "metadata": {},
   "outputs": [],
   "source": [
    "model.compile(optimizer = 'rmsprop',\n",
    "loss = 'binary_crossentropy',\n",
    "metrics = ['acc'])"
   ]
  },
  {
   "cell_type": "code",
   "execution_count": 22,
   "metadata": {},
   "outputs": [
    {
     "name": "stdout",
     "output_type": "stream",
     "text": [
      "Epoch 1/15\n",
      "313/313 [==============================] - 247s 785ms/step - loss: 0.5168 - acc: 0.7574 - val_loss: 0.3471 - val_acc: 0.8492\n",
      "Epoch 2/15\n",
      "313/313 [==============================] - 301s 962ms/step - loss: 0.3214 - acc: 0.8699 - val_loss: 0.3791 - val_acc: 0.8366\n",
      "Epoch 3/15\n",
      "313/313 [==============================] - 325s 1s/step - loss: 0.2528 - acc: 0.9011 - val_loss: 0.2989 - val_acc: 0.8908\n",
      "Epoch 4/15\n",
      "313/313 [==============================] - 288s 919ms/step - loss: 0.2057 - acc: 0.9227 - val_loss: 0.2739 - val_acc: 0.8886\n",
      "Epoch 5/15\n",
      "313/313 [==============================] - 330s 1s/step - loss: 0.1613 - acc: 0.9428 - val_loss: 0.2743 - val_acc: 0.8852\n",
      "Epoch 6/15\n",
      "313/313 [==============================] - 331s 1s/step - loss: 0.1281 - acc: 0.9532 - val_loss: 0.2668 - val_acc: 0.9000\n",
      "Epoch 7/15\n",
      "313/313 [==============================] - 329s 1s/step - loss: 0.0969 - acc: 0.9664 - val_loss: 0.4809 - val_acc: 0.8664\n",
      "Epoch 8/15\n",
      "313/313 [==============================] - 330s 1s/step - loss: 0.0754 - acc: 0.9748 - val_loss: 0.3963 - val_acc: 0.8922\n",
      "Epoch 9/15\n",
      "313/313 [==============================] - 312s 999ms/step - loss: 0.0575 - acc: 0.9818 - val_loss: 0.4284 - val_acc: 0.8922\n",
      "Epoch 10/15\n",
      "313/313 [==============================] - 307s 982ms/step - loss: 0.0405 - acc: 0.9863 - val_loss: 0.4638 - val_acc: 0.8804\n"
     ]
    }
   ],
   "source": [
    "history = model.fit(X_train, y_train,\n",
    "epochs = 15,\n",
    "callbacks = [es],\n",
    "batch_size = 64,\n",
    "validation_split = 0.2)"
   ]
  },
  {
   "cell_type": "code",
   "execution_count": 23,
   "metadata": {},
   "outputs": [],
   "source": [
    "model_LSTM = Sequential()\n",
    "model_LSTM.add(Embedding(vocab_size, embedding_dim))\n",
    "model_LSTM.add(LSTM(hidden_units))\n",
    "model_LSTM.add(Dense(1, activation = 'sigmoid'))"
   ]
  },
  {
   "cell_type": "code",
   "execution_count": 25,
   "metadata": {},
   "outputs": [],
   "source": [
    "model_LSTM.compile(optimizer = 'rmsprop',\n",
    "loss = 'binary_crossentropy',\n",
    "metrics = ['acc'])"
   ]
  },
  {
   "cell_type": "code",
   "execution_count": 26,
   "metadata": {},
   "outputs": [
    {
     "name": "stdout",
     "output_type": "stream",
     "text": [
      "Epoch 1/15\n",
      "313/313 [==============================] - 374s 1s/step - loss: 0.4914 - acc: 0.7656 - val_loss: 0.3291 - val_acc: 0.8688\n",
      "Epoch 2/15\n",
      "313/313 [==============================] - 402s 1s/step - loss: 0.2950 - acc: 0.8855 - val_loss: 0.6433 - val_acc: 0.8196\n",
      "Epoch 3/15\n",
      "313/313 [==============================] - 366s 1s/step - loss: 0.2440 - acc: 0.9087 - val_loss: 0.2930 - val_acc: 0.8838\n",
      "Epoch 4/15\n",
      "313/313 [==============================] - 387s 1s/step - loss: 0.2023 - acc: 0.9258 - val_loss: 0.2992 - val_acc: 0.8700\n",
      "Epoch 5/15\n",
      "313/313 [==============================] - 324s 1s/step - loss: 0.1681 - acc: 0.9390 - val_loss: 0.4136 - val_acc: 0.8288\n",
      "Epoch 6/15\n",
      "313/313 [==============================] - 356s 1s/step - loss: 0.1475 - acc: 0.9495 - val_loss: 0.3261 - val_acc: 0.8766\n",
      "Epoch 7/15\n",
      "313/313 [==============================] - 348s 1s/step - loss: 0.1220 - acc: 0.9586 - val_loss: 0.4078 - val_acc: 0.8718\n"
     ]
    }
   ],
   "source": [
    "history = model_LSTM.fit(X_train, y_train,\n",
    "epochs = 15,\n",
    "callbacks = [es],\n",
    "batch_size = 64,\n",
    "validation_split = 0.2)"
   ]
  },
  {
   "cell_type": "code",
   "execution_count": 29,
   "metadata": {},
   "outputs": [],
   "source": [
    "model_SR = Sequential()"
   ]
  },
  {
   "cell_type": "code",
   "execution_count": 31,
   "metadata": {},
   "outputs": [],
   "source": [
    "model_SR.add(Embedding(vocab_size, embedding_dim))\n",
    "model_SR.add(SimpleRNN(4))\n",
    "model_SR.add(Dense(1))"
   ]
  },
  {
   "cell_type": "code",
   "execution_count": 32,
   "metadata": {},
   "outputs": [],
   "source": [
    "model_SR.compile(optimizer='rmsprop',\n",
    "                 loss='binary_crossentropy',\n",
    "                 metrics=['acc'])"
   ]
  },
  {
   "cell_type": "code",
   "execution_count": 33,
   "metadata": {},
   "outputs": [
    {
     "name": "stdout",
     "output_type": "stream",
     "text": [
      "Epoch 1/15\n",
      "313/313 [==============================] - 20s 60ms/step - loss: 0.7136 - acc: 0.7414 - val_loss: 0.6199 - val_acc: 0.7620\n",
      "Epoch 2/15\n",
      "313/313 [==============================] - 22s 69ms/step - loss: 0.5248 - acc: 0.8489 - val_loss: 0.9738 - val_acc: 0.6894\n",
      "Epoch 3/15\n",
      "313/313 [==============================] - 22s 71ms/step - loss: 0.4728 - acc: 0.8864 - val_loss: 0.7942 - val_acc: 0.8310\n",
      "Epoch 4/15\n",
      "313/313 [==============================] - 22s 71ms/step - loss: 0.3995 - acc: 0.9133 - val_loss: 0.8652 - val_acc: 0.8172\n",
      "Epoch 5/15\n",
      "313/313 [==============================] - 23s 73ms/step - loss: 0.3635 - acc: 0.9308 - val_loss: 1.0247 - val_acc: 0.8106\n",
      "Epoch 6/15\n",
      "313/313 [==============================] - 26s 82ms/step - loss: 0.3354 - acc: 0.9370 - val_loss: 1.0542 - val_acc: 0.8148\n",
      "Epoch 7/15\n",
      "313/313 [==============================] - 29s 92ms/step - loss: 0.3191 - acc: 0.9446 - val_loss: 1.2476 - val_acc: 0.8258\n"
     ]
    }
   ],
   "source": [
    "history = model_SR.fit(X_train, y_train,\n",
    "                       epochs = 15,\n",
    "                       callbacks = [es],\n",
    "                       batch_size = 64,\n",
    "                       validation_split = 0.2)"
   ]
  },
  {
   "cell_type": "code",
   "execution_count": null,
   "metadata": {},
   "outputs": [],
   "source": []
  }
 ],
 "metadata": {
  "kernelspec": {
   "display_name": "DL",
   "language": "python",
   "name": "python3"
  },
  "language_info": {
   "codemirror_mode": {
    "name": "ipython",
    "version": 3
   },
   "file_extension": ".py",
   "mimetype": "text/x-python",
   "name": "python",
   "nbconvert_exporter": "python",
   "pygments_lexer": "ipython3",
   "version": "3.10.10"
  },
  "orig_nbformat": 4
 },
 "nbformat": 4,
 "nbformat_minor": 2
}
