{
 "cells": [
  {
   "cell_type": "code",
   "execution_count": 23,
   "metadata": {},
   "outputs": [],
   "source": [
    "import pandas as pd\n",
    "import matplotlib.pyplot as plt"
   ]
  },
  {
   "cell_type": "code",
   "execution_count": 16,
   "metadata": {},
   "outputs": [
    {
     "data": {
      "text/html": [
       "<div>\n",
       "<style scoped>\n",
       "    .dataframe tbody tr th:only-of-type {\n",
       "        vertical-align: middle;\n",
       "    }\n",
       "\n",
       "    .dataframe tbody tr th {\n",
       "        vertical-align: top;\n",
       "    }\n",
       "\n",
       "    .dataframe thead th {\n",
       "        text-align: right;\n",
       "    }\n",
       "</style>\n",
       "<table border=\"1\" class=\"dataframe\">\n",
       "  <thead>\n",
       "    <tr style=\"text-align: right;\">\n",
       "      <th></th>\n",
       "      <th>전시명</th>\n",
       "      <th>장소</th>\n",
       "      <th>일정</th>\n",
       "    </tr>\n",
       "  </thead>\n",
       "  <tbody>\n",
       "    <tr>\n",
       "      <th>0</th>\n",
       "      <td>2023서울모빌리티쇼 (구_서울모터쇼)</td>\n",
       "      <td>킨텍스 (KINTEX) 제1전시장</td>\n",
       "      <td>2023-03-30 ~ 2023-04-09</td>\n",
       "    </tr>\n",
       "    <tr>\n",
       "      <th>1</th>\n",
       "      <td>제1회 국제콜드체인산업전</td>\n",
       "      <td>킨텍스 (KINTEX) 제1전시장</td>\n",
       "      <td>2023-04-18 ~ 2023-04-21</td>\n",
       "    </tr>\n",
       "    <tr>\n",
       "      <th>2</th>\n",
       "      <td>2023 월드IT쇼</td>\n",
       "      <td>코엑스 (COEX)</td>\n",
       "      <td>2023-04-19 ~ 2023-04-21</td>\n",
       "    </tr>\n",
       "    <tr>\n",
       "      <th>3</th>\n",
       "      <td>제31회 국제 방송·미디어·음향·조명 전시회(KOBA)</td>\n",
       "      <td>코엑스 (COEX) A,C,D홀 및 컨퍼런스센터</td>\n",
       "      <td>2023-05-16 ~ 2023-05-19</td>\n",
       "    </tr>\n",
       "    <tr>\n",
       "      <th>4</th>\n",
       "      <td>2023 자율생산 월드 콩그레스</td>\n",
       "      <td>코엑스 (COEX) 그랜드볼룸(1F)</td>\n",
       "      <td>2023-06-20 ~ 2023-06-21</td>\n",
       "    </tr>\n",
       "    <tr>\n",
       "      <th>5</th>\n",
       "      <td>2022 그린 &amp; 애그리테크 아시아(스마트농업기술전시회)</td>\n",
       "      <td>김대중컨벤션센터 (KDJ Center) 전시장, 다목적홀</td>\n",
       "      <td>2023-08-24 ~ 2023-08-26</td>\n",
       "    </tr>\n",
       "    <tr>\n",
       "      <th>6</th>\n",
       "      <td>AI TECH+ 2023</td>\n",
       "      <td>김대중컨벤션센터 (KDJ Center)</td>\n",
       "      <td>2023-08-30 ~ 2023-09-01</td>\n",
       "    </tr>\n",
       "    <tr>\n",
       "      <th>7</th>\n",
       "      <td>2023 스마트 워크 엑스포 코리아</td>\n",
       "      <td>aT센터 (aT Center) 3층 제2전시장</td>\n",
       "      <td>2023-09-06 ~ 2023-09-08</td>\n",
       "    </tr>\n",
       "    <tr>\n",
       "      <th>8</th>\n",
       "      <td>2023 스마트 컨택센터 엑스포 코리아</td>\n",
       "      <td>aT센터 (aT Center) 3층 제2전시장</td>\n",
       "      <td>2023-09-06 ~ 2023-09-08</td>\n",
       "    </tr>\n",
       "    <tr>\n",
       "      <th>9</th>\n",
       "      <td>2023 한국전기산업대전 한국발전산업전</td>\n",
       "      <td>코엑스 (COEX) A 홀</td>\n",
       "      <td>2023-10-18 ~ 2023-10-20</td>\n",
       "    </tr>\n",
       "    <tr>\n",
       "      <th>15</th>\n",
       "      <td>대한민국 소프트웨어 대전, 소프트웨이브 2023</td>\n",
       "      <td>코엑스 (COEX) A홀 전관</td>\n",
       "      <td>2023-11-29 ~ 2023-12-01</td>\n",
       "    </tr>\n",
       "  </tbody>\n",
       "</table>\n",
       "</div>"
      ],
      "text/plain": [
       "                                전시명                               장소  \\\n",
       "0             2023서울모빌리티쇼 (구_서울모터쇼)               킨텍스 (KINTEX) 제1전시장   \n",
       "1                     제1회 국제콜드체인산업전               킨텍스 (KINTEX) 제1전시장   \n",
       "2                        2023 월드IT쇼                      코엑스 (COEX)    \n",
       "3    제31회 국제 방송·미디어·음향·조명 전시회(KOBA)       코엑스 (COEX) A,C,D홀 및 컨퍼런스센터   \n",
       "4                 2023 자율생산 월드 콩그레스             코엑스 (COEX) 그랜드볼룸(1F)   \n",
       "5   2022 그린 & 애그리테크 아시아(스마트농업기술전시회)  김대중컨벤션센터 (KDJ Center) 전시장, 다목적홀   \n",
       "6                     AI TECH+ 2023           김대중컨벤션센터 (KDJ Center)    \n",
       "7               2023 스마트 워크 엑스포 코리아        aT센터 (aT Center) 3층 제2전시장   \n",
       "8             2023 스마트 컨택센터 엑스포 코리아        aT센터 (aT Center) 3층 제2전시장   \n",
       "9             2023 한국전기산업대전 한국발전산업전                   코엑스 (COEX) A 홀   \n",
       "15       대한민국 소프트웨어 대전, 소프트웨이브 2023                 코엑스 (COEX) A홀 전관   \n",
       "\n",
       "                         일정  \n",
       "0   2023-03-30 ~ 2023-04-09  \n",
       "1   2023-04-18 ~ 2023-04-21  \n",
       "2   2023-04-19 ~ 2023-04-21  \n",
       "3   2023-05-16 ~ 2023-05-19  \n",
       "4   2023-06-20 ~ 2023-06-21  \n",
       "5   2023-08-24 ~ 2023-08-26  \n",
       "6   2023-08-30 ~ 2023-09-01  \n",
       "7   2023-09-06 ~ 2023-09-08  \n",
       "8   2023-09-06 ~ 2023-09-08  \n",
       "9   2023-10-18 ~ 2023-10-20  \n",
       "15  2023-11-29 ~ 2023-12-01  "
      ]
     },
     "execution_count": 16,
     "metadata": {},
     "output_type": "execute_result"
    }
   ],
   "source": [
    "df1 = pd.read_csv('D:\\EXAM_WEBCRAWLING\\korea_data_fair.csv')\n",
    "df1.drop_duplicates().drop(index=([16, 17, 18, 19]))"
   ]
  },
  {
   "cell_type": "code",
   "execution_count": 19,
   "metadata": {},
   "outputs": [
    {
     "data": {
      "text/html": [
       "<div>\n",
       "<style scoped>\n",
       "    .dataframe tbody tr th:only-of-type {\n",
       "        vertical-align: middle;\n",
       "    }\n",
       "\n",
       "    .dataframe tbody tr th {\n",
       "        vertical-align: top;\n",
       "    }\n",
       "\n",
       "    .dataframe thead th {\n",
       "        text-align: right;\n",
       "    }\n",
       "</style>\n",
       "<table border=\"1\" class=\"dataframe\">\n",
       "  <thead>\n",
       "    <tr style=\"text-align: right;\">\n",
       "      <th></th>\n",
       "      <th>전시명</th>\n",
       "      <th>장소</th>\n",
       "      <th>일정</th>\n",
       "    </tr>\n",
       "  </thead>\n",
       "  <tbody>\n",
       "    <tr>\n",
       "      <th>0</th>\n",
       "      <td>2023 서울모빌리티쇼 자동차 이동체 소재부품장비 및 용품서비스전</td>\n",
       "      <td>킨텍스 (KINTEX) 제 1전시장 1층 Hall1~5</td>\n",
       "      <td>2023-04-03 ~ 2023-04-06</td>\n",
       "    </tr>\n",
       "    <tr>\n",
       "      <th>1</th>\n",
       "      <td>2023 국제인공지능대전</td>\n",
       "      <td>코엑스 (COEX) Hall D</td>\n",
       "      <td>2023-05-10 ~ 2023-05-12</td>\n",
       "    </tr>\n",
       "    <tr>\n",
       "      <th>2</th>\n",
       "      <td>제31회 국제 방송·미디어·음향·조명 전시회(KOBA)</td>\n",
       "      <td>코엑스 (COEX) A,C,D홀 및 컨퍼런스센터</td>\n",
       "      <td>2023-05-16 ~ 2023-05-19</td>\n",
       "    </tr>\n",
       "    <tr>\n",
       "      <th>3</th>\n",
       "      <td>2023 자율생산 월드 콩그레스</td>\n",
       "      <td>코엑스 (COEX) 그랜드볼룸(1F)</td>\n",
       "      <td>2023-06-20 ~ 2023-06-21</td>\n",
       "    </tr>\n",
       "    <tr>\n",
       "      <th>4</th>\n",
       "      <td>AI TECH+ 2023</td>\n",
       "      <td>김대중컨벤션센터 (KDJ Center)</td>\n",
       "      <td>2023-08-30 ~ 2023-09-01</td>\n",
       "    </tr>\n",
       "    <tr>\n",
       "      <th>5</th>\n",
       "      <td>2023 스마트 워크 엑스포 코리아</td>\n",
       "      <td>aT센터 (aT Center) 3층 제2전시장</td>\n",
       "      <td>2023-09-06 ~ 2023-09-08</td>\n",
       "    </tr>\n",
       "    <tr>\n",
       "      <th>6</th>\n",
       "      <td>대한민국 소프트웨어 대전, 소프트웨이브 2023</td>\n",
       "      <td>코엑스 (COEX) A홀 전관</td>\n",
       "      <td>2023-11-29 ~ 2023-12-01</td>\n",
       "    </tr>\n",
       "    <tr>\n",
       "      <th>7</th>\n",
       "      <td>ICT CYBER WORLD 2020(ICT 온라인 가상 전시회)</td>\n",
       "      <td>온라인</td>\n",
       "      <td>2020-11-04 ~ 2020-12-31</td>\n",
       "    </tr>\n",
       "    <tr>\n",
       "      <th>8</th>\n",
       "      <td>제13회 국제환경장비 및 자원순환산업전</td>\n",
       "      <td>킨텍스 (KINTEX) 제2전시장 7홀</td>\n",
       "      <td>2020-11-26 ~ 2020-11-28</td>\n",
       "    </tr>\n",
       "    <tr>\n",
       "      <th>9</th>\n",
       "      <td>2021 국제인공지능대전</td>\n",
       "      <td>코엑스 (COEX) Hall B</td>\n",
       "      <td>2021-03-24 ~ 2021-03-26</td>\n",
       "    </tr>\n",
       "  </tbody>\n",
       "</table>\n",
       "</div>"
      ],
      "text/plain": [
       "                                    전시명                              장소  \\\n",
       "0  2023 서울모빌리티쇼 자동차 이동체 소재부품장비 및 용품서비스전  킨텍스 (KINTEX) 제 1전시장 1층 Hall1~5   \n",
       "1                         2023 국제인공지능대전               코엑스 (COEX) Hall D   \n",
       "2        제31회 국제 방송·미디어·음향·조명 전시회(KOBA)      코엑스 (COEX) A,C,D홀 및 컨퍼런스센터   \n",
       "3                     2023 자율생산 월드 콩그레스            코엑스 (COEX) 그랜드볼룸(1F)   \n",
       "4                         AI TECH+ 2023          김대중컨벤션센터 (KDJ Center)    \n",
       "5                   2023 스마트 워크 엑스포 코리아       aT센터 (aT Center) 3층 제2전시장   \n",
       "6            대한민국 소프트웨어 대전, 소프트웨이브 2023                코엑스 (COEX) A홀 전관   \n",
       "7  ICT CYBER WORLD 2020(ICT 온라인 가상 전시회)                            온라인    \n",
       "8                 제13회 국제환경장비 및 자원순환산업전           킨텍스 (KINTEX) 제2전시장 7홀   \n",
       "9                         2021 국제인공지능대전               코엑스 (COEX) Hall B   \n",
       "\n",
       "                        일정  \n",
       "0  2023-04-03 ~ 2023-04-06  \n",
       "1  2023-05-10 ~ 2023-05-12  \n",
       "2  2023-05-16 ~ 2023-05-19  \n",
       "3  2023-06-20 ~ 2023-06-21  \n",
       "4  2023-08-30 ~ 2023-09-01  \n",
       "5  2023-09-06 ~ 2023-09-08  \n",
       "6  2023-11-29 ~ 2023-12-01  \n",
       "7  2020-11-04 ~ 2020-12-31  \n",
       "8  2020-11-26 ~ 2020-11-28  \n",
       "9  2021-03-24 ~ 2021-03-26  "
      ]
     },
     "execution_count": 19,
     "metadata": {},
     "output_type": "execute_result"
    }
   ],
   "source": [
    "df2 = pd.read_csv('D:\\EXAM_WEBCRAWLING\\korea_ai_fair.csv')\n",
    "df2"
   ]
  },
  {
   "cell_type": "code",
   "execution_count": 20,
   "metadata": {},
   "outputs": [
    {
     "data": {
      "text/html": [
       "<div>\n",
       "<style scoped>\n",
       "    .dataframe tbody tr th:only-of-type {\n",
       "        vertical-align: middle;\n",
       "    }\n",
       "\n",
       "    .dataframe tbody tr th {\n",
       "        vertical-align: top;\n",
       "    }\n",
       "\n",
       "    .dataframe thead th {\n",
       "        text-align: right;\n",
       "    }\n",
       "</style>\n",
       "<table border=\"1\" class=\"dataframe\">\n",
       "  <thead>\n",
       "    <tr style=\"text-align: right;\">\n",
       "      <th></th>\n",
       "      <th>전시명</th>\n",
       "      <th>장소</th>\n",
       "      <th>일정</th>\n",
       "    </tr>\n",
       "  </thead>\n",
       "  <tbody>\n",
       "    <tr>\n",
       "      <th>0</th>\n",
       "      <td>인도 뉴델리 디지털 컨버전스 정보 통신 박람회 2023</td>\n",
       "      <td>인도 뉴델리 (Pragati Maidan)</td>\n",
       "      <td>2023년 03월 27일(월) - 29일(수)</td>\n",
       "    </tr>\n",
       "    <tr>\n",
       "      <th>1</th>\n",
       "      <td>케냐 ICT 박람회 2023</td>\n",
       "      <td>케냐 나이로비 (Sarit Expo Centre)</td>\n",
       "      <td>2023년 04월 26일(수) - 27일(목)</td>\n",
       "    </tr>\n",
       "    <tr>\n",
       "      <th>2</th>\n",
       "      <td>CHANNEL PARTNERS CONFERENCE &amp; EXPO 2023</td>\n",
       "      <td>미국 라스베가스 (The Venetian Resort and Hotel)</td>\n",
       "      <td>2023년 05월 01일(월) - 04일(목)</td>\n",
       "    </tr>\n",
       "    <tr>\n",
       "      <th>3</th>\n",
       "      <td>미국 산타클라라 엣지 컴퓨팅 박람회 2023</td>\n",
       "      <td>미국 산타클라라 (Santa Clara Convention Center)</td>\n",
       "      <td>2023년 05월 17일(수) - 18일(목)</td>\n",
       "    </tr>\n",
       "    <tr>\n",
       "      <th>4</th>\n",
       "      <td>ISC - HIGH PERFORMANCE 2023</td>\n",
       "      <td>독일 프랑크푸르트 (Messe Frankfurt)</td>\n",
       "      <td>2023년 05월 21일(일) - 25일(목)</td>\n",
       "    </tr>\n",
       "  </tbody>\n",
       "</table>\n",
       "</div>"
      ],
      "text/plain": [
       "                                       전시명  \\\n",
       "0           인도 뉴델리 디지털 컨버전스 정보 통신 박람회 2023   \n",
       "1                          케냐 ICT 박람회 2023   \n",
       "2  CHANNEL PARTNERS CONFERENCE & EXPO 2023   \n",
       "3                 미국 산타클라라 엣지 컴퓨팅 박람회 2023   \n",
       "4              ISC - HIGH PERFORMANCE 2023   \n",
       "\n",
       "                                         장소                         일정  \n",
       "0                   인도 뉴델리 (Pragati Maidan)  2023년 03월 27일(월) - 29일(수)  \n",
       "1               케냐 나이로비 (Sarit Expo Centre)  2023년 04월 26일(수) - 27일(목)  \n",
       "2  미국 라스베가스 (The Venetian Resort and Hotel)  2023년 05월 01일(월) - 04일(목)  \n",
       "3  미국 산타클라라 (Santa Clara Convention Center)  2023년 05월 17일(수) - 18일(목)  \n",
       "4               독일 프랑크푸르트 (Messe Frankfurt)  2023년 05월 21일(일) - 25일(목)  "
      ]
     },
     "execution_count": 20,
     "metadata": {},
     "output_type": "execute_result"
    }
   ],
   "source": [
    "df3 = pd.read_csv('D:\\EXAM_WEBCRAWLING\\global_data_fair.csv')\n",
    "df3.head()"
   ]
  },
  {
   "cell_type": "code",
   "execution_count": 21,
   "metadata": {},
   "outputs": [],
   "source": [
    "import matplotlib\n",
    "import platform\n",
    "\n",
    "if platform.system() == 'Windows':\n",
    "    matplotlib.rc('font', family='Malgun Gothic')"
   ]
  },
  {
   "cell_type": "code",
   "execution_count": 62,
   "metadata": {},
   "outputs": [],
   "source": [
    "country = []\n",
    "for i in range(len(df3)):\n",
    "    country.append(df3['장소'][i].split(' ')[0])\n",
    "df3['country'] = country"
   ]
  },
  {
   "cell_type": "code",
   "execution_count": 64,
   "metadata": {},
   "outputs": [
    {
     "data": {
      "image/png": "[encoded data removed]",
      "text/plain": [
       "<Figure size 640x480 with 1 Axes>"
      ]
     },
     "metadata": {},
     "output_type": "display_data"
    }
   ],
   "source": [
    "df3.groupby('country')['전시명'].count().sort_values(ascending = True).plot(kind='barh')\n",
    "plt.xticks(list(range(0,4)))\n",
    "plt.xlabel('count')\n",
    "plt.grid(True, axis='x', linestyle='--')"
   ]
  },
  {
   "cell_type": "code",
   "execution_count": 27,
   "metadata": {},
   "outputs": [],
   "source": [
    "df4 = pd.read_csv('D:\\EXAM_WEBCRAWLING\\global_ai_fair.csv')"
   ]
  },
  {
   "cell_type": "code",
   "execution_count": 59,
   "metadata": {},
   "outputs": [],
   "source": [
    "country = []\n",
    "for i in range(len(df4)):\n",
    "    country.append(df4['장소'][i].split(' ')[0])\n",
    "df4['country'] = country"
   ]
  },
  {
   "cell_type": "code",
   "execution_count": 60,
   "metadata": {},
   "outputs": [
    {
     "data": {
      "image/png": "[encoded data removed]",
      "text/plain": [
       "<Figure size 640x480 with 1 Axes>"
      ]
     },
     "metadata": {},
     "output_type": "display_data"
    }
   ],
   "source": [
    "df4.groupby('country')['전시명'].count().sort_values(ascending = True).plot(kind='barh')\n",
    "plt.xticks(list(range(0, 25)))\n",
    "plt.grid(True, axis='x', linestyle='--')\n",
    "plt.xlabel('count')\n",
    "plt.show()"
   ]
  },
  {
   "cell_type": "code",
   "execution_count": null,
   "metadata": {},
   "outputs": [],
   "source": []
  }
 ],
 "metadata": {
  "kernelspec": {
   "display_name": "base",
   "language": "python",
   "name": "python3"
  },
  "language_info": {
   "codemirror_mode": {
    "name": "ipython",
    "version": 3
   },
   "file_extension": ".py",
   "mimetype": "text/x-python",
   "name": "python",
   "nbconvert_exporter": "python",
   "pygments_lexer": "ipython3",
   "version": "3.9.15 (main, Nov 24 2022, 14:39:17) [MSC v.1916 64 bit (AMD64)]"
  },
  "orig_nbformat": 4,
  "vscode": {
   "interpreter": {
    "hash": "ad2bdc8ecc057115af97d19610ffacc2b4e99fae6737bb82f5d7fb13d2f2c186"
   }
  }
 },
 "nbformat": 4,
 "nbformat_minor": 2
}
