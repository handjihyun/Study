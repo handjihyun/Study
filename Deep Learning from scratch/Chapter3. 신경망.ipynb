{
 "cells": [
  {
   "attachments": {},
   "cell_type": "markdown",
   "metadata": {},
   "source": [
    "#### Chapter3 신경망\n",
    "#### 3.1 퍼셉트론에서 신경망으로\n",
    "- 입력층, 은닉층, 출력층 존재\n",
    "##### 3.1.2 퍼셉트론 복습\n",
    "- b(편향), w(가중치)\n",
    "##### 3.1.3  활성화 함수의 등장\n",
    "- 활성화 함수 : 입력 신호의 총합을 출력 신호로 변환하는 함수\n",
    "\n",
    "ex) a = b + w1x1 + w2x2\n",
    "\n",
    "y = h(a)\n",
    "\n",
    "#### 3.2 활성화 함수\n",
    "- 계단 함수 : 임계값을 경계로 출력이 바뀌는 함수\n",
    "##### 3.2.1 시그모이드 함수\n",
    "- $ h(x)$ = $\\frac{1}{1 + exp^(-x)}$\n",
    "##### 3.2.2 계단 함수 구현하기"
   ]
  },
  {
   "cell_type": "code",
   "execution_count": 2,
   "metadata": {},
   "outputs": [],
   "source": [
    "import numpy as np"
   ]
  },
  {
   "cell_type": "code",
   "execution_count": 3,
   "metadata": {},
   "outputs": [],
   "source": [
    "def step_function(x):\n",
    "    if x > 0:\n",
    "        return 1\n",
    "    else:\n",
    "        return 0\n",
    "\n",
    "# 인수 x는 실수(부동소수점)만 받아들임\n",
    "# 넘파이 배열을 인수로 넣을 수 없음"
   ]
  },
  {
   "cell_type": "code",
   "execution_count": 4,
   "metadata": {},
   "outputs": [],
   "source": [
    "# 수정\n",
    "def step_function(x):\n",
    "    y = x > 0\n",
    "    return y.astype(np.int)"
   ]
  },
  {
   "cell_type": "code",
   "execution_count": 5,
   "metadata": {},
   "outputs": [
    {
     "data": {
      "text/plain": [
       "array([-1.,  1.,  2.])"
      ]
     },
     "execution_count": 5,
     "metadata": {},
     "output_type": "execute_result"
    }
   ],
   "source": [
    "x = np.array([-1.0, 1.0, 2.0])\n",
    "x"
   ]
  },
  {
   "cell_type": "code",
   "execution_count": 6,
   "metadata": {},
   "outputs": [
    {
     "data": {
      "text/plain": [
       "array([False,  True,  True])"
      ]
     },
     "execution_count": 6,
     "metadata": {},
     "output_type": "execute_result"
    }
   ],
   "source": [
    "y = x > 0\n",
    "y"
   ]
  },
  {
   "cell_type": "code",
   "execution_count": 7,
   "metadata": {},
   "outputs": [
    {
     "name": "stderr",
     "output_type": "stream",
     "text": [
      "<ipython-input-7-9f962d9dbdc0>:1: DeprecationWarning: `np.int` is a deprecated alias for the builtin `int`. To silence this warning, use `int` by itself. Doing this will not modify any behavior and is safe. When replacing `np.int`, you may wish to use e.g. `np.int64` or `np.int32` to specify the precision. If you wish to review your current use, check the release note link for additional information.\n",
      "Deprecated in NumPy 1.20; for more details and guidance: https://numpy.org/devdocs/release/1.20.0-notes.html#deprecations\n",
      "  y = y.astype(np.int)\n"
     ]
    },
    {
     "data": {
      "text/plain": [
       "array([0, 1, 1])"
      ]
     },
     "execution_count": 7,
     "metadata": {},
     "output_type": "execute_result"
    }
   ],
   "source": [
    "y = y.astype(np.int)\n",
    "y"
   ]
  },
  {
   "attachments": {},
   "cell_type": "markdown",
   "metadata": {},
   "source": [
    "##### 3.2.3 계단 함수의 그래프"
   ]
  },
  {
   "cell_type": "code",
   "execution_count": 8,
   "metadata": {},
   "outputs": [],
   "source": [
    "import matplotlib.pylab as plt"
   ]
  },
  {
   "cell_type": "code",
   "execution_count": 9,
   "metadata": {},
   "outputs": [],
   "source": [
    "def step_function(x):\n",
    "    return np.array(x > 0, dtype = np.int)"
   ]
  },
  {
   "cell_type": "code",
   "execution_count": 10,
   "metadata": {},
   "outputs": [
    {
     "data": {
      "text/plain": [
       "array([-5.00000000e+00, -4.90000000e+00, -4.80000000e+00, -4.70000000e+00,\n",
       "       -4.60000000e+00, -4.50000000e+00, -4.40000000e+00, -4.30000000e+00,\n",
       "       -4.20000000e+00, -4.10000000e+00, -4.00000000e+00, -3.90000000e+00,\n",
       "       -3.80000000e+00, -3.70000000e+00, -3.60000000e+00, -3.50000000e+00,\n",
       "       -3.40000000e+00, -3.30000000e+00, -3.20000000e+00, -3.10000000e+00,\n",
       "       -3.00000000e+00, -2.90000000e+00, -2.80000000e+00, -2.70000000e+00,\n",
       "       -2.60000000e+00, -2.50000000e+00, -2.40000000e+00, -2.30000000e+00,\n",
       "       -2.20000000e+00, -2.10000000e+00, -2.00000000e+00, -1.90000000e+00,\n",
       "       -1.80000000e+00, -1.70000000e+00, -1.60000000e+00, -1.50000000e+00,\n",
       "       -1.40000000e+00, -1.30000000e+00, -1.20000000e+00, -1.10000000e+00,\n",
       "       -1.00000000e+00, -9.00000000e-01, -8.00000000e-01, -7.00000000e-01,\n",
       "       -6.00000000e-01, -5.00000000e-01, -4.00000000e-01, -3.00000000e-01,\n",
       "       -2.00000000e-01, -1.00000000e-01, -1.77635684e-14,  1.00000000e-01,\n",
       "        2.00000000e-01,  3.00000000e-01,  4.00000000e-01,  5.00000000e-01,\n",
       "        6.00000000e-01,  7.00000000e-01,  8.00000000e-01,  9.00000000e-01,\n",
       "        1.00000000e+00,  1.10000000e+00,  1.20000000e+00,  1.30000000e+00,\n",
       "        1.40000000e+00,  1.50000000e+00,  1.60000000e+00,  1.70000000e+00,\n",
       "        1.80000000e+00,  1.90000000e+00,  2.00000000e+00,  2.10000000e+00,\n",
       "        2.20000000e+00,  2.30000000e+00,  2.40000000e+00,  2.50000000e+00,\n",
       "        2.60000000e+00,  2.70000000e+00,  2.80000000e+00,  2.90000000e+00,\n",
       "        3.00000000e+00,  3.10000000e+00,  3.20000000e+00,  3.30000000e+00,\n",
       "        3.40000000e+00,  3.50000000e+00,  3.60000000e+00,  3.70000000e+00,\n",
       "        3.80000000e+00,  3.90000000e+00,  4.00000000e+00,  4.10000000e+00,\n",
       "        4.20000000e+00,  4.30000000e+00,  4.40000000e+00,  4.50000000e+00,\n",
       "        4.60000000e+00,  4.70000000e+00,  4.80000000e+00,  4.90000000e+00])"
      ]
     },
     "execution_count": 10,
     "metadata": {},
     "output_type": "execute_result"
    }
   ],
   "source": [
    "#             start, end, step\n",
    "x = np.arange(-5.0, 5.0, 0.1)\n",
    "x"
   ]
  },
  {
   "cell_type": "code",
   "execution_count": 11,
   "metadata": {},
   "outputs": [
    {
     "name": "stderr",
     "output_type": "stream",
     "text": [
      "<ipython-input-9-bb3af30ac512>:2: DeprecationWarning: `np.int` is a deprecated alias for the builtin `int`. To silence this warning, use `int` by itself. Doing this will not modify any behavior and is safe. When replacing `np.int`, you may wish to use e.g. `np.int64` or `np.int32` to specify the precision. If you wish to review your current use, check the release note link for additional information.\n",
      "Deprecated in NumPy 1.20; for more details and guidance: https://numpy.org/devdocs/release/1.20.0-notes.html#deprecations\n",
      "  return np.array(x > 0, dtype = np.int)\n"
     ]
    }
   ],
   "source": [
    "y1 = step_function(x)"
   ]
  },
  {
   "cell_type": "code",
   "execution_count": 12,
   "metadata": {},
   "outputs": [
    {
     "data": {
      "image/png": "[encoded data removed]",
      "text/plain": [
       "<Figure size 432x288 with 1 Axes>"
      ]
     },
     "metadata": {
      "needs_background": "light"
     },
     "output_type": "display_data"
    }
   ],
   "source": [
    "plt.plot(x, y1)\n",
    "plt.ylim(-0.1, 1.1)     # y축의 범위 지정\n",
    "plt.show()"
   ]
  },
  {
   "attachments": {},
   "cell_type": "markdown",
   "metadata": {},
   "source": [
    "☑️ 0을 경계로 출력이 0에서 1로 바뀜\n",
    "\n",
    "##### 3.2.4 시그모이드 함수 구현하기"
   ]
  },
  {
   "cell_type": "code",
   "execution_count": 13,
   "metadata": {},
   "outputs": [],
   "source": [
    "def sigmoid(x):\n",
    "    return 1 / ( 1 + np.exp(-x))"
   ]
  },
  {
   "cell_type": "code",
   "execution_count": 14,
   "metadata": {},
   "outputs": [
    {
     "data": {
      "text/plain": [
       "array([0.26894142, 0.73105858, 0.88079708])"
      ]
     },
     "execution_count": 14,
     "metadata": {},
     "output_type": "execute_result"
    }
   ],
   "source": [
    "x = np.array([-1.0, 1.0, 2.0])\n",
    "sigmoid(x)"
   ]
  },
  {
   "cell_type": "code",
   "execution_count": 15,
   "metadata": {},
   "outputs": [],
   "source": [
    "x = np.arange(-5.0, 5.0, 0.1)\n",
    "y2 = sigmoid(x)"
   ]
  },
  {
   "cell_type": "code",
   "execution_count": 16,
   "metadata": {},
   "outputs": [
    {
     "data": {
      "image/png": "[encoded data removed]",
      "text/plain": [
       "<Figure size 432x288 with 1 Axes>"
      ]
     },
     "metadata": {
      "needs_background": "light"
     },
     "output_type": "display_data"
    }
   ],
   "source": [
    "plt.plot(x, y2)\n",
    "plt.ylim(-0.1, 1.1)     # y축 범위 지정\n",
    "plt.show()"
   ]
  },
  {
   "attachments": {},
   "cell_type": "markdown",
   "metadata": {},
   "source": [
    "##### 3.2.5 시그모이드 함수와 계단 함수 비교"
   ]
  },
  {
   "cell_type": "code",
   "execution_count": 17,
   "metadata": {},
   "outputs": [
    {
     "data": {
      "image/png": "[encoded data removed]",
      "text/plain": [
       "<Figure size 432x288 with 1 Axes>"
      ]
     },
     "metadata": {
      "needs_background": "light"
     },
     "output_type": "display_data"
    }
   ],
   "source": [
    "plt.plot(x, y1, linestyle = '--', label = 'step')\n",
    "plt.plot(x, y2, label = 'sigmoid')\n",
    "plt.ylim(-0.1, 1.1)     # y축 범위 지정\n",
    "plt.legend()\n",
    "plt.show()"
   ]
  },
  {
   "attachments": {},
   "cell_type": "markdown",
   "metadata": {},
   "source": [
    "☑️ 두 함수의 차이점\n",
    "|계단 함수|시그모이드 함수|\n",
    "|---|---|\n",
    "|`0을 경계`로 출력이 갑자기 바뀜|부드러운 `곡선`, 출력이 `연속적`으로 변화|\n",
    "|`0`과 `1` 중 하나의 값만 돌려줌|`실수`를 돌려줌|\n",
    "\n",
    "☑️ 두 함수의 공통점\n",
    "\n",
    "1. 입력이 작을 때의 출력은 0에 가깝고 입력이 커지면 1에 가까워지는 구조\n",
    "2. 입력이 아무리 작거나 커도 출력은 0에서 1 사이\n",
    "\n",
    "##### 3.2.6 비선형 함수\n",
    "☑️ 비선형 함수 : 시그모이드 함수는 곡선, 계단 함수는 계단처럼 구부러진 직선으로 나타나며, 동시에 비선형 함수로 분류됨\n",
    "\n",
    "##### 3.2.7 ReLU 함수\n",
    "☑️ ReLU 함수 : 입력이 0을 넘으면 그 입력을 그대로 출력하고, 0 이하이면 0을 출력하는 함수\n",
    "\n",
    "☑️ $y=\n",
    "\\begin{cases}\n",
    "x,\\;x>0\\\\\n",
    "0,\\;x\\leqslant0\n",
    "\\end{cases}$"
   ]
  },
  {
   "cell_type": "code",
   "execution_count": 18,
   "metadata": {},
   "outputs": [],
   "source": [
    "def relu(x):\n",
    "    return np.maximum(0, x)"
   ]
  },
  {
   "attachments": {},
   "cell_type": "markdown",
   "metadata": {},
   "source": [
    "#### 3.3 다차원 배열의 계산\n",
    "##### 3.3.1 다차원 배열"
   ]
  },
  {
   "cell_type": "code",
   "execution_count": 19,
   "metadata": {},
   "outputs": [
    {
     "name": "stdout",
     "output_type": "stream",
     "text": [
      "[1 2 3 4]\n"
     ]
    }
   ],
   "source": [
    "# 1차원 배열\n",
    "A = np.array([1, 2, 3, 4])\n",
    "print(A)"
   ]
  },
  {
   "cell_type": "code",
   "execution_count": 20,
   "metadata": {},
   "outputs": [
    {
     "data": {
      "text/plain": [
       "1"
      ]
     },
     "execution_count": 20,
     "metadata": {},
     "output_type": "execute_result"
    }
   ],
   "source": [
    "# 배열의 차원\n",
    "np.ndim(A)"
   ]
  },
  {
   "cell_type": "code",
   "execution_count": 21,
   "metadata": {},
   "outputs": [
    {
     "data": {
      "text/plain": [
       "(4,)"
      ]
     },
     "execution_count": 21,
     "metadata": {},
     "output_type": "execute_result"
    }
   ],
   "source": [
    "# 배열의 형상\n",
    "# 튜플 반환!\n",
    "A.shape"
   ]
  },
  {
   "cell_type": "code",
   "execution_count": 22,
   "metadata": {},
   "outputs": [
    {
     "data": {
      "text/plain": [
       "4"
      ]
     },
     "execution_count": 22,
     "metadata": {},
     "output_type": "execute_result"
    }
   ],
   "source": [
    "# 원소 갯수\n",
    "A.shape[0]"
   ]
  },
  {
   "cell_type": "code",
   "execution_count": 23,
   "metadata": {},
   "outputs": [
    {
     "name": "stdout",
     "output_type": "stream",
     "text": [
      "[[1 2]\n",
      " [3 4]\n",
      " [5 6]]\n"
     ]
    }
   ],
   "source": [
    "# 2차원 배열( =행렬 )\n",
    "# 가로 = 행, 세로 = 열\n",
    "B = np.array([[1, 2], [3, 4], [5, 6]])\n",
    "print(B)"
   ]
  },
  {
   "cell_type": "code",
   "execution_count": 24,
   "metadata": {},
   "outputs": [
    {
     "data": {
      "text/plain": [
       "2"
      ]
     },
     "execution_count": 24,
     "metadata": {},
     "output_type": "execute_result"
    }
   ],
   "source": [
    "np.ndim(B)"
   ]
  },
  {
   "cell_type": "code",
   "execution_count": 25,
   "metadata": {},
   "outputs": [
    {
     "data": {
      "text/plain": [
       "(3, 2)"
      ]
     },
     "execution_count": 25,
     "metadata": {},
     "output_type": "execute_result"
    }
   ],
   "source": [
    "B.shape"
   ]
  },
  {
   "attachments": {},
   "cell_type": "markdown",
   "metadata": {},
   "source": [
    "##### 3.2.2 행렬의 곱"
   ]
  },
  {
   "cell_type": "code",
   "execution_count": 26,
   "metadata": {},
   "outputs": [
    {
     "data": {
      "text/plain": [
       "(2, 2)"
      ]
     },
     "execution_count": 26,
     "metadata": {},
     "output_type": "execute_result"
    }
   ],
   "source": [
    "A = np.array([[1, 2], [3, 4]])\n",
    "A.shape"
   ]
  },
  {
   "cell_type": "code",
   "execution_count": 27,
   "metadata": {},
   "outputs": [
    {
     "data": {
      "text/plain": [
       "(2, 2)"
      ]
     },
     "execution_count": 27,
     "metadata": {},
     "output_type": "execute_result"
    }
   ],
   "source": [
    "B = np.array([[5, 6], [7, 8]])\n",
    "B.shape"
   ]
  },
  {
   "cell_type": "code",
   "execution_count": 28,
   "metadata": {},
   "outputs": [
    {
     "data": {
      "text/plain": [
       "array([[19, 22],\n",
       "       [43, 50]])"
      ]
     },
     "execution_count": 28,
     "metadata": {},
     "output_type": "execute_result"
    }
   ],
   "source": [
    "# 두 행렬의 곱 - np.dot() 함수\n",
    "# np.dot(A, B)와 np.dot(B, A)의 결과는 다를 수 있음\n",
    "# 2 X 2 행렬의 곱\n",
    "np.dot(A, B)"
   ]
  },
  {
   "cell_type": "code",
   "execution_count": 29,
   "metadata": {},
   "outputs": [
    {
     "data": {
      "text/plain": [
       "(2, 3)"
      ]
     },
     "execution_count": 29,
     "metadata": {},
     "output_type": "execute_result"
    }
   ],
   "source": [
    "A = np.array([[1, 2, 3], [4, 5, 6]])\n",
    "A.shape"
   ]
  },
  {
   "cell_type": "code",
   "execution_count": 30,
   "metadata": {},
   "outputs": [
    {
     "data": {
      "text/plain": [
       "(3, 2)"
      ]
     },
     "execution_count": 30,
     "metadata": {},
     "output_type": "execute_result"
    }
   ],
   "source": [
    "B = np.array([[1, 2], [3, 4], [5, 6]])\n",
    "B.shape"
   ]
  },
  {
   "cell_type": "code",
   "execution_count": 31,
   "metadata": {},
   "outputs": [
    {
     "data": {
      "text/plain": [
       "array([[22, 28],\n",
       "       [49, 64]])"
      ]
     },
     "execution_count": 31,
     "metadata": {},
     "output_type": "execute_result"
    }
   ],
   "source": [
    "# 2 X 3 행렬과 3 X 2 행렬의 곱\n",
    "np.dot(A, B)"
   ]
  },
  {
   "attachments": {},
   "cell_type": "markdown",
   "metadata": {},
   "source": [
    "☑️ 행렬 A의 1번째 차원의 원소 수(열 수)와 행렬 B의 0번째 차원의 원소 수(행 수)가 같아야 함"
   ]
  },
  {
   "cell_type": "code",
   "execution_count": 32,
   "metadata": {},
   "outputs": [
    {
     "data": {
      "text/plain": [
       "(2, 2)"
      ]
     },
     "execution_count": 32,
     "metadata": {},
     "output_type": "execute_result"
    }
   ],
   "source": [
    "# 2 X 3 행렬 A와 2 X 2 행렬 C를 곱할 경우\n",
    "C = np.array([[1, 2], [3, 4]])\n",
    "C.shape"
   ]
  },
  {
   "cell_type": "code",
   "execution_count": 33,
   "metadata": {},
   "outputs": [
    {
     "data": {
      "text/plain": [
       "(2, 3)"
      ]
     },
     "execution_count": 33,
     "metadata": {},
     "output_type": "execute_result"
    }
   ],
   "source": [
    "A.shape"
   ]
  },
  {
   "cell_type": "code",
   "execution_count": 34,
   "metadata": {},
   "outputs": [],
   "source": [
    "# np.dot(A, C)    # Error 발생!"
   ]
  },
  {
   "attachments": {},
   "cell_type": "markdown",
   "metadata": {},
   "source": [
    "☑️ A가 2차원 행렬, B가 1차원 배열일 때도 대응하는 차원의 원소 수 일치시키기"
   ]
  },
  {
   "cell_type": "code",
   "execution_count": 35,
   "metadata": {},
   "outputs": [
    {
     "data": {
      "text/plain": [
       "(3, 2)"
      ]
     },
     "execution_count": 35,
     "metadata": {},
     "output_type": "execute_result"
    }
   ],
   "source": [
    "A = np.array([[1, 2], [3, 4], [5, 6]])\n",
    "A.shape"
   ]
  },
  {
   "cell_type": "code",
   "execution_count": 36,
   "metadata": {},
   "outputs": [
    {
     "data": {
      "text/plain": [
       "(2,)"
      ]
     },
     "execution_count": 36,
     "metadata": {},
     "output_type": "execute_result"
    }
   ],
   "source": [
    "B = np.array([7, 8])\n",
    "B.shape"
   ]
  },
  {
   "cell_type": "code",
   "execution_count": 37,
   "metadata": {},
   "outputs": [
    {
     "data": {
      "text/plain": [
       "array([23, 53, 83])"
      ]
     },
     "execution_count": 37,
     "metadata": {},
     "output_type": "execute_result"
    }
   ],
   "source": [
    "np.dot(A, B)"
   ]
  },
  {
   "attachments": {},
   "cell_type": "markdown",
   "metadata": {},
   "source": [
    "##### 3.3.3 신경망에서의 행렬 곱"
   ]
  },
  {
   "cell_type": "code",
   "execution_count": 38,
   "metadata": {},
   "outputs": [
    {
     "data": {
      "text/plain": [
       "(2,)"
      ]
     },
     "execution_count": 38,
     "metadata": {},
     "output_type": "execute_result"
    }
   ],
   "source": [
    "X = np.array([1, 2])\n",
    "X.shape"
   ]
  },
  {
   "cell_type": "code",
   "execution_count": 39,
   "metadata": {},
   "outputs": [
    {
     "name": "stdout",
     "output_type": "stream",
     "text": [
      "[[1 3 5]\n",
      " [2 4 6]]\n"
     ]
    },
    {
     "data": {
      "text/plain": [
       "(2, 3)"
      ]
     },
     "execution_count": 39,
     "metadata": {},
     "output_type": "execute_result"
    }
   ],
   "source": [
    "W = np.array([[1, 3, 5], [2, 4, 6]])\n",
    "print(W)\n",
    "W.shape"
   ]
  },
  {
   "cell_type": "code",
   "execution_count": 40,
   "metadata": {},
   "outputs": [
    {
     "name": "stdout",
     "output_type": "stream",
     "text": [
      "[ 5 11 17]\n"
     ]
    }
   ],
   "source": [
    "Y = np.dot(X, W)\n",
    "print(Y)"
   ]
  },
  {
   "attachments": {},
   "cell_type": "markdown",
   "metadata": {},
   "source": [
    "#### 3.4 3층 신경망 구현하기\n",
    "##### 3.4.1 표기법 설명\n",
    "$ w_{12} ^ {(1)} $\n",
    "- (1) : 1층의 가중치\n",
    "- 1 : 다음 층의 1번째 뉴런\n",
    "- 2 : 앞 층의 2번째 뉴런\n",
    "##### 3.4.2 각 층의 신호 전달 구현하기\n",
    "$ A^{(1)} = XW^{(1)} + B^{(1)} $\n",
    "\n",
    "$$ A^{(1)} = \\begin{pmatrix}\n",
    "a_1^{(1)} & a_2^{(1)} & a_3^{(1)}\n",
    "\\end{pmatrix}$$\n",
    "\n",
    "$$ X = \\begin{pmatrix}\n",
    "x_1 & x_2\n",
    "\\end{pmatrix}$$\n",
    "\n",
    "$$ B^{(1)} = \\begin{pmatrix}\n",
    "b_1^{(1)} & b_2^{(1)} & b_3^{(1)}\n",
    "\\end{pmatrix}$$\n",
    "\n",
    "$$ W^{(1)} = \\begin{pmatrix}\n",
    "w_{11}^{(1)} & w_{21}^{(1)} & w_{31}^{(1)}\\\\\n",
    "w_{12}^{(1)} & w_{22}^{(1)} & w_{32}^{(1)}\n",
    "\\end{pmatrix}$$"
   ]
  },
  {
   "cell_type": "code",
   "execution_count": 41,
   "metadata": {},
   "outputs": [
    {
     "name": "stdout",
     "output_type": "stream",
     "text": [
      "(2, 3)\n",
      "(2,)\n",
      "(3,)\n"
     ]
    }
   ],
   "source": [
    "X = np.array([1.0, 0.5])\n",
    "W1 = np.array([[0.1, 0.3, 0.5], [0.2, 0.4, 0.6]])\n",
    "B1 = np.array([0.1, 0.2, 0.3])\n",
    "\n",
    "print(W1.shape)\n",
    "print(X.shape)\n",
    "print(B1.shape)"
   ]
  },
  {
   "attachments": {},
   "cell_type": "markdown",
   "metadata": {},
   "source": [
    "☑️ 입력층에서 1층으로의 신호 전달"
   ]
  },
  {
   "cell_type": "code",
   "execution_count": 42,
   "metadata": {},
   "outputs": [],
   "source": [
    "A1 = np.dot(X, W1) + B1"
   ]
  },
  {
   "cell_type": "code",
   "execution_count": 43,
   "metadata": {},
   "outputs": [],
   "source": [
    "Z1 = sigmoid(A1)"
   ]
  },
  {
   "cell_type": "code",
   "execution_count": 44,
   "metadata": {},
   "outputs": [
    {
     "name": "stdout",
     "output_type": "stream",
     "text": [
      "[0.3 0.7 1.1]\n",
      "[0.57444252 0.66818777 0.75026011]\n"
     ]
    }
   ],
   "source": [
    "print(A1)\n",
    "print(Z1)"
   ]
  },
  {
   "attachments": {},
   "cell_type": "markdown",
   "metadata": {},
   "source": [
    "☑️ 1층에서 2층으로의 신호 전달"
   ]
  },
  {
   "cell_type": "code",
   "execution_count": 45,
   "metadata": {},
   "outputs": [
    {
     "name": "stdout",
     "output_type": "stream",
     "text": [
      "(3,)\n",
      "(3, 2)\n",
      "(2,)\n"
     ]
    }
   ],
   "source": [
    "W2 = np.array([[0.1, 0.4], [0.2, 0.5], [0.3, 0.6]])\n",
    "B2 = np.array([0.1, 0.2])\n",
    "\n",
    "print(Z1.shape)\n",
    "print(W2.shape)\n",
    "print(B2.shape)"
   ]
  },
  {
   "cell_type": "code",
   "execution_count": 46,
   "metadata": {},
   "outputs": [],
   "source": [
    "A2 = np.dot(Z1, W2) + B2\n",
    "Z2 = sigmoid(A2)"
   ]
  },
  {
   "attachments": {},
   "cell_type": "markdown",
   "metadata": {},
   "source": [
    "☑️ 2층에서 출력층으로의 신호 전달"
   ]
  },
  {
   "cell_type": "code",
   "execution_count": 47,
   "metadata": {},
   "outputs": [],
   "source": [
    "# 항등함수 정의\n",
    "# 출력층의 활성화 함수로 이용\n",
    "def identify_function(x):\n",
    "    return x"
   ]
  },
  {
   "cell_type": "code",
   "execution_count": 48,
   "metadata": {},
   "outputs": [],
   "source": [
    "W3 = np.array([[0.1, 0.3], [0.2, 0.4]])\n",
    "B3 = np.array([0.1, 0.2])"
   ]
  },
  {
   "cell_type": "code",
   "execution_count": 49,
   "metadata": {},
   "outputs": [],
   "source": [
    "A3 = np.dot(Z2, W3) + B3\n",
    "Y = identify_function(A3)       # 혹은 Y = A3"
   ]
  },
  {
   "attachments": {},
   "cell_type": "markdown",
   "metadata": {},
   "source": [
    "##### 3.4.3 구현 정리"
   ]
  },
  {
   "cell_type": "code",
   "execution_count": 50,
   "metadata": {},
   "outputs": [],
   "source": [
    "def init_network():\n",
    "    # 딕셔너리에 각 층에 필요한 매개변수 (가중치와 편향) 저장\n",
    "    network = {}\n",
    "    network['W1'] = np.array([[0.1, 0.3, 0.5], [0.2, 0.4, 0.6]])\n",
    "    network['b1'] = np.array([0.1, 0.2, 0.3])\n",
    "    network['W2'] = np.array([[0.1, 0.4], [0.2, 0.5], [0.3, 0.6]])\n",
    "    network['b2'] = np.array([0.1, 0.2])\n",
    "    network['W3'] = np.array([[0.1, 0.3], [0.2, 0.4]])\n",
    "    network['b3'] = np.array([0.1, 0.2])\n",
    "\n",
    "    return network\n",
    "\n",
    "# 입력 신호를 출력으로 변환하는 처리 과정\n",
    "def forward(network, x):\n",
    "    W1, W2, W3 = network['W1'], network['W2'], network['W3']\n",
    "    b1, b2, b3 = network['b1'], network['b2'], network['b3']\n",
    "\n",
    "    a1 = np.dot(x, W1) + b1\n",
    "    z1 = sigmoid(a1)\n",
    "    a2 = np.dot(z1, W2) + b2\n",
    "    z2 = sigmoid(a2)\n",
    "    a3 = np.dot(z2, W3) + b3\n",
    "    y = identify_function(a3)\n",
    "\n",
    "    return y"
   ]
  },
  {
   "cell_type": "code",
   "execution_count": 51,
   "metadata": {},
   "outputs": [
    {
     "name": "stdout",
     "output_type": "stream",
     "text": [
      "[0.31682708 0.69627909]\n"
     ]
    }
   ],
   "source": [
    "network = init_network()\n",
    "x = np.array([1.0, 0.5])\n",
    "y = forward(network, x)\n",
    "print(y)"
   ]
  },
  {
   "attachments": {},
   "cell_type": "markdown",
   "metadata": {},
   "source": [
    "#### 3.5 출력층 설계하기"
   ]
  },
  {
   "attachments": {},
   "cell_type": "markdown",
   "metadata": {},
   "source": [
    "##### 3.5.1 항등 함수와 소프트맥스 함수 구현하기\n",
    "☑️ 항등함수 : 입력을 그대로 출력(입력 == 출력)\n",
    "\n",
    "☑️ 소프트맥스 함수\n",
    "- $$ y_k = \\frac{exp(a_k)}{\\displaystyle\\sum_{i=1}^{n} exp(a_i)}$$\n",
    "- $ exp(x) $ 는 $ e^x $을 뜻하는 지수 함수\n",
    "- $ n $은 출력층의 뉴런 수\n",
    "- $ y_k $는 그중 k번째 출력"
   ]
  },
  {
   "cell_type": "code",
   "execution_count": 52,
   "metadata": {},
   "outputs": [],
   "source": [
    "a = np.array([0.3, 2.9, 4.0])"
   ]
  },
  {
   "cell_type": "code",
   "execution_count": 53,
   "metadata": {},
   "outputs": [
    {
     "name": "stdout",
     "output_type": "stream",
     "text": [
      "[ 1.34985881 18.17414537 54.59815003]\n"
     ]
    }
   ],
   "source": [
    "exp_a = np.exp(a)\n",
    "print(exp_a)"
   ]
  },
  {
   "cell_type": "code",
   "execution_count": 54,
   "metadata": {},
   "outputs": [
    {
     "name": "stdout",
     "output_type": "stream",
     "text": [
      "74.1221542101633\n"
     ]
    }
   ],
   "source": [
    "sum_exp_a = np.sum(exp_a)\n",
    "print(sum_exp_a)"
   ]
  },
  {
   "cell_type": "code",
   "execution_count": 55,
   "metadata": {},
   "outputs": [
    {
     "name": "stdout",
     "output_type": "stream",
     "text": [
      "[0.01821127 0.24519181 0.73659691]\n"
     ]
    }
   ],
   "source": [
    "y = exp_a / sum_exp_a\n",
    "print(y)"
   ]
  },
  {
   "cell_type": "code",
   "execution_count": 56,
   "metadata": {},
   "outputs": [],
   "source": [
    "def softmax(a):\n",
    "    exp_a = np.exp(a)\n",
    "    sum_exp_a = sum(exp_a)\n",
    "    y = exp_a / sum_exp_a\n",
    "\n",
    "    return y"
   ]
  },
  {
   "attachments": {},
   "cell_type": "markdown",
   "metadata": {},
   "source": [
    "##### 3.5.2 소프트맥스 함수 구현 시 주의점\n",
    "- 오버플로 문제 : 지수 함수는 쉽게 아주 큰 값을 내뱉기 때문에, 이런 큰 값끼리 나눗셈을 하면 결과 수치가 `불안정`해짐\n",
    "- $$ y_k = \\frac{exp(a_k)}{\\displaystyle\\sum_{i=1}^{n} exp(a_i)} = \\frac{Cexp(a_k)}{C \\displaystyle\\sum_{i=1}^{n} exp(a_i)} \\\\= \\frac{exp(a_k + logC)}{\\displaystyle\\sum_{i=1}^{n} exp(a_i + logC)} \\\\ = \\frac{exp(a_k + C^{'})}{\\displaystyle\\sum_{i=1}^{n} exp(a_i + C^{'})}$$"
   ]
  },
  {
   "cell_type": "code",
   "execution_count": 57,
   "metadata": {},
   "outputs": [],
   "source": [
    "a = np.array([1010, 1000, 990])"
   ]
  },
  {
   "cell_type": "code",
   "execution_count": 58,
   "metadata": {},
   "outputs": [
    {
     "name": "stderr",
     "output_type": "stream",
     "text": [
      "<ipython-input-58-465cd0a655b6>:1: RuntimeWarning: overflow encountered in exp\n",
      "  np.exp(a) / np.sum(np.exp(a))\n",
      "<ipython-input-58-465cd0a655b6>:1: RuntimeWarning: invalid value encountered in true_divide\n",
      "  np.exp(a) / np.sum(np.exp(a))\n"
     ]
    },
    {
     "data": {
      "text/plain": [
       "array([nan, nan, nan])"
      ]
     },
     "execution_count": 58,
     "metadata": {},
     "output_type": "execute_result"
    }
   ],
   "source": [
    "np.exp(a) / np.sum(np.exp(a))"
   ]
  },
  {
   "cell_type": "code",
   "execution_count": 59,
   "metadata": {},
   "outputs": [
    {
     "data": {
      "text/plain": [
       "array([  0, -10, -20])"
      ]
     },
     "execution_count": 59,
     "metadata": {},
     "output_type": "execute_result"
    }
   ],
   "source": [
    "c = np.max(a)\n",
    "a - c"
   ]
  },
  {
   "cell_type": "code",
   "execution_count": 60,
   "metadata": {},
   "outputs": [
    {
     "data": {
      "text/plain": [
       "array([9.99954600e-01, 4.53978686e-05, 2.06106005e-09])"
      ]
     },
     "execution_count": 60,
     "metadata": {},
     "output_type": "execute_result"
    }
   ],
   "source": [
    "np.exp(a - c) / np.sum(np.exp(a - c))"
   ]
  },
  {
   "cell_type": "code",
   "execution_count": 61,
   "metadata": {},
   "outputs": [],
   "source": [
    "def softmax(a):\n",
    "    c = np.max(a)\n",
    "    exp_a = np.exp(a - c)\n",
    "    sum_exp_a = np.sum(exp_a)\n",
    "    y = exp_a / sum_exp_a\n",
    "\n",
    "    return y"
   ]
  },
  {
   "attachments": {},
   "cell_type": "markdown",
   "metadata": {},
   "source": [
    "##### 3.5.3 소프트맥스 함수의 특징"
   ]
  },
  {
   "cell_type": "code",
   "execution_count": 62,
   "metadata": {},
   "outputs": [
    {
     "name": "stdout",
     "output_type": "stream",
     "text": [
      "[0.01821127 0.24519181 0.73659691]\n"
     ]
    }
   ],
   "source": [
    "a = np.array([0.3, 2.9, 4.0])\n",
    "y = softmax(a)\n",
    "print(y)"
   ]
  },
  {
   "cell_type": "code",
   "execution_count": 63,
   "metadata": {},
   "outputs": [
    {
     "data": {
      "text/plain": [
       "1.0"
      ]
     },
     "execution_count": 63,
     "metadata": {},
     "output_type": "execute_result"
    }
   ],
   "source": [
    "np.sum(y)"
   ]
  },
  {
   "attachments": {},
   "cell_type": "markdown",
   "metadata": {},
   "source": [
    "☑️ 출력은 0에서 1.0 사이의 실수\n",
    "\n",
    "☑️ 소프트맥스 함수 출력의 총합은 `1`\n",
    "\n",
    "☑️ -> 앞의 예에서 y[0]의 확률은 0.018, y[1]의 확률은 0.245, y[2]의 확률은 0.737로 해석할 수 있음\n",
    "\n",
    "☑️ 소프트맥스 함수를 적용해도 각 원소의 대소 관계는 변하지 않음\n",
    "##### 3.5.4 출력층의 뉴런 수 정하기\n",
    "☑️ 예) 입력 이미지를 숫자 0부터 9 중 하나로 분류하는 문제라면 출력층의 뉴런을 10개로 설정\n",
    "#### 3.6 손글씨 숫자 인식\n",
    "☑️ 순전파 : 매개변수를 사용하여 학습 과정은 생략하고, 추론 과정만 구현\n",
    "##### 3.6.1 MNIST 데이터셋"
   ]
  },
  {
   "cell_type": "code",
   "execution_count": 64,
   "metadata": {},
   "outputs": [],
   "source": [
    "import sys, os\n",
    "sys.path.append(os.pardir)\n",
    "from dataset.mnist import load_mnist"
   ]
  },
  {
   "cell_type": "code",
   "execution_count": 65,
   "metadata": {},
   "outputs": [],
   "source": [
    "(x_train, t_train), (x_test, t_test) = \\\n",
    "load_mnist(flatten = True, normalize=False)\n",
    "#           1차원 배열 저장  0.0 ~ 0.1 사이의 값으로 정규화"
   ]
  },
  {
   "cell_type": "code",
   "execution_count": 66,
   "metadata": {},
   "outputs": [
    {
     "name": "stdout",
     "output_type": "stream",
     "text": [
      "(60000, 784)\n",
      "(60000,)\n",
      "(10000, 784)\n",
      "(10000,)\n"
     ]
    }
   ],
   "source": [
    "# 각 데이터의 형상 출력\n",
    "print(x_train.shape)\n",
    "print(t_train.shape)\n",
    "print(x_test.shape)\n",
    "print(t_test.shape)"
   ]
  },
  {
   "cell_type": "code",
   "execution_count": 67,
   "metadata": {},
   "outputs": [],
   "source": [
    "# 이미지 표시 모듈\n",
    "from PIL import Image"
   ]
  },
  {
   "cell_type": "code",
   "execution_count": 68,
   "metadata": {},
   "outputs": [],
   "source": [
    "def img_show(img):\n",
    "    pil_img = Image.fromarray(np.uint8(img))\n",
    "    pil_img.show()"
   ]
  },
  {
   "cell_type": "code",
   "execution_count": 69,
   "metadata": {},
   "outputs": [
    {
     "name": "stdout",
     "output_type": "stream",
     "text": [
      "5\n"
     ]
    }
   ],
   "source": [
    "img = x_train[0]\n",
    "label = t_train[0]\n",
    "print(label)"
   ]
  },
  {
   "cell_type": "code",
   "execution_count": 70,
   "metadata": {},
   "outputs": [
    {
     "name": "stdout",
     "output_type": "stream",
     "text": [
      "(784,)\n",
      "(28, 28)\n"
     ]
    }
   ],
   "source": [
    "print(img.shape)\n",
    "img = img.reshape(28, 28)   # 원래 이미지의 모양으로 변형\n",
    "print(img.shape)"
   ]
  },
  {
   "cell_type": "code",
   "execution_count": 71,
   "metadata": {},
   "outputs": [],
   "source": [
    "img_show(img)"
   ]
  },
  {
   "attachments": {},
   "cell_type": "markdown",
   "metadata": {},
   "source": [
    "##### 3.6.2 신경망의 추론 처리\n",
    "☑️ 입력층 784개 (이미지 크기 = 28 X 28 = 784)\n",
    "\n",
    "☑️ 출력층 10개 (0에서 9까지의 숫자 구분)"
   ]
  },
  {
   "cell_type": "code",
   "execution_count": 72,
   "metadata": {},
   "outputs": [],
   "source": [
    "import pickle"
   ]
  },
  {
   "cell_type": "code",
   "execution_count": 73,
   "metadata": {},
   "outputs": [],
   "source": [
    "def get_data():\n",
    "    (x_train, t_train), (x_test, t_test) = \\\n",
    "    load_mnist(normalize=True, flatten=True, one_hot_label=False)\n",
    "    #           정규화 0~255 -> 0.0~1.0\n",
    "    return x_test, t_test\n",
    "\n",
    "def init_network():\n",
    "    with open('sample_weight.pkl', 'rb') as f:\n",
    "        network = pickle.load(f)\n",
    "\n",
    "    return network\n",
    "\n",
    "def predict(network, x):\n",
    "    W1, W2, W3 = network['W1'], network['W2'], network['W3']\n",
    "    b1, b2, b3 = network['b1'], network['b2'], network['b3']\n",
    "\n",
    "    a1 = np.dot(x, W1) + b1\n",
    "    z1 = sigmoid(a1)\n",
    "    a2 = np.dot(z1, W2) + b2\n",
    "    z2 = sigmoid(a2)\n",
    "    a3 = np.dot(z2, W3) + b3\n",
    "    y = softmax(a3)\n",
    "\n",
    "    return y"
   ]
  },
  {
   "cell_type": "code",
   "execution_count": 74,
   "metadata": {},
   "outputs": [
    {
     "name": "stdout",
     "output_type": "stream",
     "text": [
      "Accuracy:0.9352\n"
     ]
    }
   ],
   "source": [
    "x, t = get_data()\n",
    "network = init_network()\n",
    "\n",
    "accuracy_cnt = 0\n",
    "for i in range(len(x)):\n",
    "    y = predict(network, x[i])\n",
    "    p = np.argmax(y)    # 확률이 가장 높은 원소의 인덱스를 얻음\n",
    "    if p == t[i]:\n",
    "        accuracy_cnt += 1\n",
    "    \n",
    "print(\"Accuracy:\" + str(float(accuracy_cnt) / len(x)))"
   ]
  },
  {
   "attachments": {},
   "cell_type": "markdown",
   "metadata": {},
   "source": [
    "#### 3.6.3 배치 처리\n",
    "📌 신경망 각 층의 가중치 형상 출력"
   ]
  },
  {
   "cell_type": "code",
   "execution_count": 75,
   "metadata": {},
   "outputs": [],
   "source": [
    "x, _ = get_data()\n",
    "network = init_network()\n",
    "W1, W2, W3 = network['W1'], network['W2'], network['W3']"
   ]
  },
  {
   "cell_type": "code",
   "execution_count": 76,
   "metadata": {},
   "outputs": [
    {
     "data": {
      "text/plain": [
       "(10000, 784)"
      ]
     },
     "execution_count": 76,
     "metadata": {},
     "output_type": "execute_result"
    }
   ],
   "source": [
    "x.shape"
   ]
  },
  {
   "cell_type": "code",
   "execution_count": 77,
   "metadata": {},
   "outputs": [
    {
     "data": {
      "text/plain": [
       "(784,)"
      ]
     },
     "execution_count": 77,
     "metadata": {},
     "output_type": "execute_result"
    }
   ],
   "source": [
    "x[0].shape"
   ]
  },
  {
   "cell_type": "code",
   "execution_count": 78,
   "metadata": {},
   "outputs": [
    {
     "data": {
      "text/plain": [
       "(784, 50)"
      ]
     },
     "execution_count": 78,
     "metadata": {},
     "output_type": "execute_result"
    }
   ],
   "source": [
    "W1.shape"
   ]
  },
  {
   "cell_type": "code",
   "execution_count": 79,
   "metadata": {},
   "outputs": [
    {
     "data": {
      "text/plain": [
       "(50, 100)"
      ]
     },
     "execution_count": 79,
     "metadata": {},
     "output_type": "execute_result"
    }
   ],
   "source": [
    "W2.shape"
   ]
  },
  {
   "cell_type": "code",
   "execution_count": 80,
   "metadata": {},
   "outputs": [
    {
     "data": {
      "text/plain": [
       "(100, 10)"
      ]
     },
     "execution_count": 80,
     "metadata": {},
     "output_type": "execute_result"
    }
   ],
   "source": [
    "W3.shape"
   ]
  },
  {
   "attachments": {},
   "cell_type": "markdown",
   "metadata": {},
   "source": [
    "✔️ 배치(batch) : 하나로 묶은 입력 데이터, 이미지가 다발로 묶여 있다고 생각"
   ]
  },
  {
   "cell_type": "code",
   "execution_count": 81,
   "metadata": {},
   "outputs": [
    {
     "name": "stdout",
     "output_type": "stream",
     "text": [
      "Accuracy : 0.0096\n"
     ]
    }
   ],
   "source": [
    "x, t = get_data()\n",
    "network = init_network()\n",
    "\n",
    "batch_size = 100\n",
    "accuracy_cnt = 0\n",
    "\n",
    "for i in range(0, len(x), batch_size):\n",
    "    x_batch = x[i:i+batch_size]\n",
    "    y_batch = predict(network, x_batch)\n",
    "    p = np.argmax(y_batch, axis = 1)\n",
    "    accuracy_cnt += np.sum(p == t[i:i+batch_size])\n",
    "    break\n",
    "\n",
    "print('Accuracy : ' + str(float(accuracy_cnt) / len(x)))"
   ]
  },
  {
   "cell_type": "code",
   "execution_count": 82,
   "metadata": {},
   "outputs": [
    {
     "data": {
      "text/plain": [
       "(array([[0., 0., 0., ..., 0., 0., 0.],\n",
       "        [0., 0., 0., ..., 0., 0., 0.],\n",
       "        [0., 0., 0., ..., 0., 0., 0.],\n",
       "        ...,\n",
       "        [0., 0., 0., ..., 0., 0., 0.],\n",
       "        [0., 0., 0., ..., 0., 0., 0.],\n",
       "        [0., 0., 0., ..., 0., 0., 0.]], dtype=float32),\n",
       " (100, 784))"
      ]
     },
     "execution_count": 82,
     "metadata": {},
     "output_type": "execute_result"
    }
   ],
   "source": [
    "x_batch, x_batch.shape"
   ]
  },
  {
   "cell_type": "code",
   "execution_count": 83,
   "metadata": {},
   "outputs": [
    {
     "data": {
      "text/plain": [
       "(array([[3.29137492e-06, 1.02745318e-07, 2.78982498e-05, 4.90758030e-05,\n",
       "         4.57291733e-08, 1.75426192e-06, 6.34366726e-10, 3.88770849e-02,\n",
       "         3.65525608e-07, 3.19072315e-05],\n",
       "        [2.38913290e-05, 5.45662306e-06, 4.66457615e-03, 7.06866776e-05,\n",
       "         2.81526580e-09, 3.29794675e-05, 1.36014045e-04, 6.27792573e-09,\n",
       "         6.35489414e-06, 2.36450359e-10],\n",
       "        [4.35422531e-10, 4.15725308e-03, 1.80313345e-05, 7.49590527e-06,\n",
       "         5.53756138e-07, 3.19225251e-06, 1.97111353e-06, 9.54207371e-06,\n",
       "         5.20351932e-06, 3.64513994e-07],\n",
       "        [1.26392124e-02, 1.04401243e-09, 2.02235478e-05, 2.41281191e-06,\n",
       "         5.49403545e-08, 4.28640742e-05, 5.16990349e-06, 2.94927509e-06,\n",
       "         6.14853775e-07, 5.34488777e-07],\n",
       "        [3.63746892e-07, 1.15563354e-08, 5.08723269e-06, 5.85677036e-08,\n",
       "         1.68065727e-03, 8.47779916e-07, 3.58964235e-06, 9.65850359e-06,\n",
       "         2.52930931e-06, 5.74644655e-05],\n",
       "        [1.77338214e-10, 5.78272762e-03, 1.01278083e-05, 1.30993103e-05,\n",
       "         4.94069582e-07, 1.74704780e-06, 2.03225738e-07, 2.79188080e-05,\n",
       "         1.11904556e-05, 2.48993479e-06],\n",
       "        [1.27649731e-08, 1.51145571e-07, 6.71478162e-08, 4.82207270e-07,\n",
       "         3.26883234e-03, 2.91611486e-05, 1.93623418e-06, 2.30161208e-06,\n",
       "         1.79236486e-05, 3.32021045e-05],\n",
       "        [1.72827297e-09, 3.12960128e-06, 1.77080594e-07, 1.01454507e-05,\n",
       "         3.54232980e-05, 4.35375659e-06, 4.63748080e-08, 1.17300242e-05,\n",
       "         2.44608091e-05, 1.69550662e-03],\n",
       "        [4.91043329e-06, 9.10229687e-08, 1.50787810e-05, 1.73398114e-08,\n",
       "         8.80592997e-05, 1.92122952e-05, 2.47422676e-03, 2.21390515e-08,\n",
       "         2.61243190e-06, 2.45566156e-07],\n",
       "        [7.04341616e-08, 4.18853219e-08, 3.89061398e-07, 2.29578632e-07,\n",
       "         1.62963464e-04, 1.06156995e-06, 3.69954058e-08, 1.65866921e-04,\n",
       "         1.75588975e-05, 3.91407683e-03],\n",
       "        [1.61609892e-02, 1.88375315e-09, 2.72403322e-05, 2.12436817e-06,\n",
       "         3.78518550e-08, 2.26091797e-04, 3.20431877e-06, 3.24027724e-07,\n",
       "         3.69868008e-06, 1.08044112e-07],\n",
       "        [2.47748039e-06, 4.13764440e-07, 5.32521044e-05, 6.96201198e-07,\n",
       "         4.67933432e-06, 8.32042770e-06, 8.40852910e-04, 1.81453839e-08,\n",
       "         1.12640455e-05, 3.18156026e-08],\n",
       "        [9.27119004e-08, 4.75135522e-08, 3.04708692e-07, 2.49133836e-06,\n",
       "         8.46065304e-05, 1.68668873e-06, 2.90120052e-08, 7.24070487e-05,\n",
       "         4.73578893e-06, 4.61263582e-03],\n",
       "        [1.09771797e-02, 6.33757213e-10, 4.20282504e-06, 1.33675667e-06,\n",
       "         9.82437456e-08, 1.23670645e-04, 1.61313523e-07, 3.81278937e-06,\n",
       "         3.76650064e-06, 8.97366590e-06],\n",
       "        [7.69010758e-11, 2.06102226e-02, 5.54460303e-06, 4.94892302e-05,\n",
       "         2.11686213e-07, 4.00957606e-06, 6.65053904e-07, 3.44009027e-06,\n",
       "         2.51408565e-05, 1.17557647e-06],\n",
       "        [1.29136322e-06, 7.71129521e-07, 7.13391159e-07, 7.38218732e-05,\n",
       "         1.45390914e-07, 8.94238590e-04, 2.19872518e-07, 1.05713480e-06,\n",
       "         3.05349567e-05, 3.13471674e-07],\n",
       "        [5.22207927e-07, 7.41906270e-09, 1.67379437e-06, 4.97904296e-07,\n",
       "         1.21521938e-04, 5.19018442e-07, 6.91371511e-08, 7.26888757e-05,\n",
       "         4.78430684e-06, 3.47406021e-03],\n",
       "        [9.24313372e-06, 5.78927128e-08, 3.27286834e-05, 1.36320697e-04,\n",
       "         3.44799922e-08, 1.48891786e-06, 1.32751354e-09, 3.49323153e-02,\n",
       "         1.00270896e-07, 1.84889923e-05],\n",
       "        [2.35618757e-07, 1.93850678e-06, 3.33993557e-05, 4.02844889e-04,\n",
       "         1.57464484e-07, 1.19530314e-05, 3.67499933e-06, 2.84483548e-07,\n",
       "         1.32352916e-05, 7.28376079e-08],\n",
       "        [4.78001532e-08, 6.41244284e-08, 3.00763219e-07, 5.12655788e-07,\n",
       "         5.73401479e-03, 5.62898595e-06, 5.79845482e-06, 4.82471978e-06,\n",
       "         6.11661676e-07, 4.59837174e-05],\n",
       "        [2.14081943e-08, 4.54031522e-07, 1.43460781e-08, 1.03046477e-05,\n",
       "         3.39880135e-05, 1.07861279e-05, 2.15028795e-09, 5.03338641e-04,\n",
       "         6.67283530e-06, 8.72983132e-03],\n",
       "        [1.33833316e-06, 3.93042825e-07, 6.11694668e-06, 4.89312981e-07,\n",
       "         2.39001947e-05, 7.49973406e-05, 7.33448658e-03, 6.42285647e-09,\n",
       "         1.87262026e-06, 4.15984260e-08],\n",
       "        [4.37691980e-08, 3.27133785e-06, 4.89291124e-05, 1.51354442e-07,\n",
       "         6.99690354e-05, 8.58677708e-07, 7.44939782e-04, 4.69011547e-06,\n",
       "         3.15445220e-07, 1.14091101e-07],\n",
       "        [1.50302967e-05, 5.97754450e-08, 1.22934992e-07, 3.56829310e-06,\n",
       "         5.56748319e-06, 3.67278722e-03, 2.32045040e-05, 5.46338619e-08,\n",
       "         2.83871213e-06, 5.37200265e-07],\n",
       "        [7.22839530e-08, 7.14771176e-08, 9.78204639e-07, 4.83837482e-07,\n",
       "         1.34059635e-03, 2.42638248e-06, 2.24366681e-06, 7.01276294e-05,\n",
       "         1.67138964e-07, 5.66605449e-05],\n",
       "        [8.08220543e-03, 5.63402269e-10, 5.85330918e-06, 1.23258403e-07,\n",
       "         1.68781196e-06, 8.77686180e-05, 2.68856784e-05, 4.00142596e-07,\n",
       "         2.66482402e-06, 5.05127218e-07],\n",
       "        [3.77581546e-06, 5.96432770e-08, 1.20471532e-06, 1.73249937e-05,\n",
       "         2.53117605e-07, 7.57815451e-06, 1.47893009e-09, 2.30865609e-02,\n",
       "         2.37294927e-07, 2.45832838e-04],\n",
       "        [1.18055070e-07, 2.27322516e-08, 4.73343874e-07, 1.25809748e-07,\n",
       "         5.46670426e-03, 5.44588738e-06, 3.48004028e-06, 3.69841905e-06,\n",
       "         2.06693699e-06, 8.42039735e-05],\n",
       "        [2.51985025e-02, 9.58584323e-10, 2.93687663e-05, 8.36931486e-06,\n",
       "         1.56267319e-08, 6.57787386e-05, 3.78161559e-07, 1.73468084e-06,\n",
       "         1.94879613e-06, 9.08879599e-07],\n",
       "        [4.37120062e-10, 2.59802933e-03, 2.55997361e-06, 1.05941426e-05,\n",
       "         8.00338171e-07, 3.79015837e-05, 5.30151101e-06, 6.23572760e-07,\n",
       "         3.35277109e-05, 2.01296842e-07],\n",
       "        [8.34054248e-08, 1.58303089e-06, 1.52340476e-07, 6.63580652e-03,\n",
       "         1.38135178e-07, 7.50831459e-05, 3.58258467e-09, 2.54422539e-05,\n",
       "         5.42849057e-06, 5.52737911e-05],\n",
       "        [1.56291605e-10, 2.31028581e-03, 8.80287246e-07, 4.59544790e-05,\n",
       "         1.17724483e-06, 1.06394618e-05, 2.91795061e-07, 1.14442437e-05,\n",
       "         9.38734956e-06, 4.68720418e-06],\n",
       "        [1.77557453e-07, 1.05028744e-06, 5.88207968e-07, 6.84572523e-03,\n",
       "         2.60119606e-07, 1.87855519e-04, 2.47648337e-08, 5.02143564e-07,\n",
       "         1.65635647e-05, 3.23108952e-06],\n",
       "        [2.05732431e-04, 5.44132606e-09, 9.32182320e-06, 6.77845646e-09,\n",
       "         4.19972203e-05, 7.59553441e-05, 5.99867781e-04, 2.32494713e-07,\n",
       "         1.27194164e-06, 1.60442085e-07],\n",
       "        [2.33814148e-07, 7.03973342e-07, 1.17341930e-04, 8.62125598e-05,\n",
       "         4.18923527e-08, 5.84277018e-07, 3.97823968e-10, 1.31966444e-02,\n",
       "         1.46010143e-06, 3.51356830e-05],\n",
       "        [4.04837920e-06, 7.68577866e-06, 1.87371187e-02, 5.24833122e-05,\n",
       "         1.90948768e-09, 9.30054739e-06, 3.37700681e-06, 4.92159870e-07,\n",
       "         1.08641534e-05, 4.19679652e-10],\n",
       "        [2.06302184e-06, 8.28395841e-08, 2.20107504e-05, 7.51892658e-05,\n",
       "         6.45587974e-08, 2.25566851e-06, 2.50828980e-09, 5.00907237e-03,\n",
       "         7.05096738e-07, 3.74059127e-05],\n",
       "        [7.68582489e-11, 1.05557945e-02, 1.62573531e-06, 1.21210869e-05,\n",
       "         6.29045758e-07, 1.09955818e-05, 6.54048620e-07, 5.22785740e-06,\n",
       "         3.63445397e-05, 1.87487183e-06],\n",
       "        [1.27545754e-05, 6.35627612e-06, 8.93887714e-04, 3.34722194e-04,\n",
       "         5.20626819e-10, 2.65795115e-05, 2.50509243e-06, 1.36899914e-07,\n",
       "         1.04536757e-05, 7.73222375e-09],\n",
       "        [2.73807366e-10, 6.85493648e-03, 3.53322525e-06, 1.44250262e-05,\n",
       "         2.77353109e-07, 6.90639445e-06, 1.19927950e-06, 6.30059219e-07,\n",
       "         1.05058607e-04, 1.89717480e-06],\n",
       "        [6.33538499e-10, 4.02555708e-03, 9.63547609e-06, 1.53956244e-05,\n",
       "         2.04764376e-07, 6.50410766e-06, 8.26926566e-07, 1.15003813e-05,\n",
       "         6.00227895e-06, 6.42610985e-07],\n",
       "        [5.77685398e-07, 1.35416784e-07, 8.55990584e-06, 2.76069422e-05,\n",
       "         2.72318772e-07, 2.31848526e-06, 3.37217743e-09, 6.26344560e-03,\n",
       "         5.21423146e-07, 1.25642560e-04],\n",
       "        [7.70543906e-10, 1.17336208e-06, 4.00052528e-07, 6.28928774e-07,\n",
       "         2.83031468e-03, 1.01663466e-06, 3.57520236e-07, 1.61189291e-05,\n",
       "         1.44519454e-05, 3.21622239e-04],\n",
       "        [1.37571845e-07, 2.00232516e-05, 1.72317296e-03, 1.09278099e-05,\n",
       "         2.07092540e-07, 1.08449979e-06, 9.44646854e-06, 1.42188142e-07,\n",
       "         1.43431453e-05, 3.53654883e-08],\n",
       "        [9.84990152e-08, 5.21302081e-06, 4.50026528e-06, 6.58304838e-04,\n",
       "         2.85814167e-07, 5.38314671e-05, 3.35373829e-06, 1.79716935e-07,\n",
       "         6.86902513e-06, 2.05172725e-07],\n",
       "        [9.87534440e-06, 6.63894468e-08, 5.76310555e-08, 3.95660209e-05,\n",
       "         1.52503640e-06, 1.87766610e-03, 1.13589579e-06, 6.09552799e-08,\n",
       "         1.88605609e-05, 4.19600065e-06],\n",
       "        [1.08561715e-10, 8.17526481e-04, 3.41798386e-06, 2.95621518e-04,\n",
       "         1.55676662e-06, 7.84258646e-06, 2.97136779e-07, 2.22521066e-06,\n",
       "         2.23483112e-05, 1.54682027e-06],\n",
       "        [3.87776026e-07, 3.33662274e-06, 3.90761718e-03, 1.08963413e-05,\n",
       "         1.09455152e-06, 9.99743747e-07, 1.34186572e-04, 1.37834760e-07,\n",
       "         7.45532134e-07, 5.70226488e-09],\n",
       "        [1.70613799e-08, 7.06466707e-08, 8.27027051e-08, 2.97387942e-07,\n",
       "         8.20088573e-03, 1.09160401e-05, 1.60314437e-06, 1.09122243e-06,\n",
       "         1.95244302e-05, 1.66814440e-04],\n",
       "        [1.26956081e-07, 1.46804044e-08, 4.77831099e-06, 7.05521472e-08,\n",
       "         5.23551879e-03, 3.41143988e-07, 4.51366714e-06, 1.03085504e-05,\n",
       "         1.85422925e-06, 9.28787704e-05],\n",
       "        [4.03907761e-05, 6.96718914e-08, 3.35554432e-05, 2.17886895e-06,\n",
       "         3.14024464e-06, 3.05937210e-05, 6.48126611e-03, 2.21305871e-08,\n",
       "         2.23787637e-07, 1.42560372e-08],\n",
       "        [1.40408156e-06, 7.42425868e-07, 1.26829264e-05, 1.90090779e-02,\n",
       "         2.08644249e-08, 2.86276409e-05, 7.76531905e-08, 2.01316902e-06,\n",
       "         1.83795805e-06, 3.31180786e-07],\n",
       "        [2.31686845e-05, 2.44128131e-08, 7.69041151e-08, 1.86867942e-06,\n",
       "         9.08029233e-06, 8.38338688e-04, 1.67927999e-06, 1.44701835e-06,\n",
       "         1.33599065e-06, 7.40394125e-06],\n",
       "        [8.36059144e-07, 1.86312121e-07, 8.22127149e-08, 2.74688700e-05,\n",
       "         5.35554364e-06, 8.41909263e-04, 5.09163726e-07, 8.31519571e-07,\n",
       "         9.56013628e-06, 2.84175098e-06],\n",
       "        [8.48888305e-07, 9.78908361e-07, 1.91860658e-04, 3.44133866e-07,\n",
       "         6.65644302e-06, 5.51650646e-06, 3.74144246e-03, 1.36366385e-08,\n",
       "         8.95765879e-06, 7.92977772e-09],\n",
       "        [6.18536677e-03, 1.12802223e-09, 5.09110578e-06, 1.42933652e-06,\n",
       "         9.74156436e-08, 1.51208093e-04, 1.24274607e-06, 5.60940236e-07,\n",
       "         1.00267262e-05, 1.96432984e-06],\n",
       "        [2.64992394e-07, 1.19164323e-08, 9.69552389e-07, 1.12970284e-07,\n",
       "         5.20648062e-03, 5.28972350e-06, 8.60405271e-06, 2.09339851e-06,\n",
       "         2.84838779e-06, 1.74630732e-05],\n",
       "        [3.64116653e-10, 3.52054671e-03, 9.16498630e-06, 2.52968694e-05,\n",
       "         2.12709992e-07, 2.14734246e-06, 1.01775854e-07, 3.08202616e-05,\n",
       "         1.10043839e-05, 4.35161019e-06],\n",
       "        [3.87895852e-07, 1.43958001e-08, 3.19877245e-07, 7.88115756e-07,\n",
       "         1.41322875e-04, 9.92216314e-07, 5.90556617e-08, 1.23215345e-04,\n",
       "         1.99469832e-06, 7.14898109e-03],\n",
       "        [7.76323850e-06, 3.80143405e-07, 3.06276405e-07, 2.93596059e-07,\n",
       "         1.25615588e-06, 5.15049673e-04, 2.85871920e-07, 6.14536621e-05,\n",
       "         3.07390542e-06, 1.16758667e-06],\n",
       "        [4.51695428e-07, 2.04761250e-07, 2.53680309e-06, 1.17920448e-04,\n",
       "         2.35032118e-07, 2.58680734e-06, 1.92155891e-09, 1.92252640e-02,\n",
       "         3.67351532e-07, 7.22585610e-05],\n",
       "        [4.05031415e-06, 1.78603443e-07, 7.87100289e-05, 2.58950138e-07,\n",
       "         3.13469258e-07, 1.48157160e-05, 2.79121264e-06, 3.63713752e-08,\n",
       "         1.59964722e-03, 9.23609775e-07],\n",
       "        [7.44881490e-08, 8.29772375e-08, 6.09904930e-07, 5.06356628e-07,\n",
       "         1.85067489e-04, 8.12693270e-06, 7.47754427e-07, 5.98698080e-06,\n",
       "         6.25364510e-06, 2.19537309e-04],\n",
       "        [9.18735381e-08, 6.19905813e-06, 2.56408966e-04, 8.62066867e-04,\n",
       "         2.22606090e-07, 2.92926370e-06, 8.15289582e-07, 2.64641713e-08,\n",
       "         3.50560222e-05, 1.80095597e-07],\n",
       "        [1.40578649e-07, 2.61083187e-07, 1.10975227e-04, 8.66884802e-05,\n",
       "         3.45412246e-07, 2.47441648e-07, 1.13219312e-09, 1.06190732e-02,\n",
       "         7.70059557e-07, 3.39420476e-05],\n",
       "        [1.99525960e-08, 5.19755019e-07, 7.87133558e-08, 8.41055316e-06,\n",
       "         5.65838418e-04, 3.66509303e-05, 4.74908575e-06, 3.84841286e-07,\n",
       "         3.25858400e-06, 2.59473236e-05],\n",
       "        [2.86318851e-07, 1.73100716e-06, 1.12674999e-04, 3.34631341e-06,\n",
       "         4.11397559e-06, 2.10314761e-06, 3.55773736e-05, 1.64881367e-05,\n",
       "         2.59693792e-07, 2.44824552e-08],\n",
       "        [1.95433202e-07, 1.49412802e-08, 3.76185176e-06, 1.97303187e-08,\n",
       "         7.90832285e-03, 6.48693231e-07, 1.12905454e-05, 7.47502418e-06,\n",
       "         1.88789068e-06, 4.59489092e-05],\n",
       "        [1.00476612e-07, 1.84123530e-06, 1.61608330e-06, 1.11644631e-02,\n",
       "         1.96885253e-07, 4.54619512e-05, 1.62696985e-08, 3.29172479e-07,\n",
       "         4.06188410e-05, 3.27532734e-06],\n",
       "        [3.87487188e-02, 4.54309523e-09, 3.04232217e-05, 3.21052221e-06,\n",
       "         3.00552450e-09, 8.09382531e-04, 3.48373919e-06, 7.16609634e-07,\n",
       "         1.25068721e-06, 4.82109961e-08],\n",
       "        [5.49447077e-06, 5.94444707e-08, 1.41976898e-05, 3.17275517e-05,\n",
       "         8.26394739e-08, 1.58545731e-06, 1.94462135e-09, 5.78349456e-02,\n",
       "         1.60853432e-07, 3.28137539e-05],\n",
       "        [4.50914130e-02, 1.02411823e-09, 3.00218744e-05, 1.63419634e-06,\n",
       "         2.53190375e-08, 2.15789449e-04, 4.46082549e-06, 2.65656581e-07,\n",
       "         3.28025385e-06, 1.29562466e-07],\n",
       "        [1.36279952e-04, 4.69679094e-07, 8.43490474e-03, 1.99998161e-04,\n",
       "         1.27115873e-09, 1.18690077e-05, 4.60436377e-06, 2.82257560e-07,\n",
       "         2.67586643e-06, 7.35895123e-10],\n",
       "        [3.08097370e-09, 1.08445374e-05, 5.41726024e-07, 1.96778437e-05,\n",
       "         1.00298109e-06, 1.51235622e-06, 1.15763277e-09, 4.31913621e-04,\n",
       "         5.18746820e-05, 2.41988339e-03],\n",
       "        [1.87327556e-10, 5.92199573e-03, 1.70685894e-06, 7.27466750e-06,\n",
       "         4.73812662e-07, 1.38619507e-05, 9.59515091e-07, 1.66661232e-06,\n",
       "         9.02790198e-05, 2.08480378e-06],\n",
       "        [4.81862417e-09, 3.15071975e-06, 6.02692671e-06, 2.14988313e-06,\n",
       "         7.75955323e-06, 7.35059473e-07, 1.19907133e-08, 7.81465694e-03,\n",
       "         2.08447773e-06, 5.99261039e-05],\n",
       "        [1.48892425e-07, 5.75708509e-06, 1.41897237e-06, 4.43937955e-03,\n",
       "         9.48853440e-08, 1.09721652e-04, 4.59645761e-08, 2.00612675e-07,\n",
       "         3.47529276e-05, 1.25242138e-06],\n",
       "        [3.57849757e-07, 1.15481839e-06, 3.93038528e-04, 3.47402192e-06,\n",
       "         1.20711718e-07, 1.28781267e-06, 3.42626493e-07, 1.75705223e-04,\n",
       "         2.43112822e-06, 6.28752503e-07],\n",
       "        [1.59882729e-09, 1.04350202e-05, 4.04473610e-08, 1.94189743e-05,\n",
       "         1.91532763e-05, 1.11281133e-05, 2.70895555e-08, 7.12503515e-06,\n",
       "         7.39193783e-05, 1.04216242e-03],\n",
       "        [2.42455371e-07, 2.62586383e-07, 4.47382854e-06, 2.91095648e-06,\n",
       "         2.99408129e-07, 1.95284429e-06, 8.39265268e-10, 5.12969084e-02,\n",
       "         3.26394297e-06, 2.25666139e-04],\n",
       "        [1.10591384e-06, 3.46396121e-08, 9.78152883e-08, 1.44358291e-05,\n",
       "         5.35194431e-06, 2.41340003e-05, 6.58151889e-09, 3.49961687e-03,\n",
       "         1.64364366e-07, 8.18260887e-04],\n",
       "        [1.52036700e-05, 3.14998658e-08, 3.01082073e-05, 1.36295213e-07,\n",
       "         1.43461275e-05, 2.65758226e-05, 2.83187139e-03, 1.18845236e-07,\n",
       "         5.69506994e-07, 5.29487139e-08],\n",
       "        [3.94538438e-06, 1.04126570e-06, 7.31353238e-02, 1.70591939e-05,\n",
       "         3.36651098e-08, 4.95623169e-07, 1.67072521e-05, 1.31284366e-07,\n",
       "         7.82147072e-06, 3.12865045e-09],\n",
       "        [1.98694261e-06, 3.51505598e-08, 6.36508105e-07, 1.16902675e-05,\n",
       "         1.24848486e-06, 7.70936549e-06, 2.32992559e-09, 2.41636299e-02,\n",
       "         1.75732026e-07, 3.44230910e-04],\n",
       "        [8.00773705e-08, 7.28583530e-07, 1.22328424e-06, 3.56381918e-07,\n",
       "         1.66063655e-05, 8.29588535e-05, 1.46087302e-06, 4.19207282e-08,\n",
       "         1.35711371e-03, 4.36633900e-06],\n",
       "        [2.90520425e-08, 5.29690674e-08, 2.01068147e-07, 2.01108421e-07,\n",
       "         1.59851275e-02, 4.99806538e-06, 1.13415799e-05, 6.21719551e-07,\n",
       "         6.66552705e-06, 4.95480708e-05],\n",
       "        [6.70887417e-08, 1.14657485e-06, 2.89139116e-05, 6.51036908e-06,\n",
       "         1.57083065e-07, 7.08970447e-07, 1.48114621e-09, 3.03013641e-02,\n",
       "         2.95294512e-06, 5.99627201e-05],\n",
       "        [1.71391707e-06, 1.96164436e-07, 1.34115623e-07, 7.97918590e-04,\n",
       "         1.04071171e-06, 5.18002606e-04, 1.22724782e-06, 1.83361965e-06,\n",
       "         5.04153149e-07, 9.29840496e-07],\n",
       "        [2.06956429e-06, 8.73479635e-08, 7.14243506e-05, 4.19913064e-08,\n",
       "         1.32032845e-04, 4.37740846e-06, 2.59077270e-02, 1.18516105e-07,\n",
       "         1.99361921e-07, 3.23603579e-08],\n",
       "        [1.37414816e-10, 9.33941174e-03, 1.60578929e-05, 5.42191492e-06,\n",
       "         1.44769058e-06, 3.39394433e-06, 5.72326553e-06, 1.45771673e-06,\n",
       "         1.63614641e-05, 2.12228954e-07],\n",
       "        [5.07484458e-07, 1.74614161e-06, 1.92553171e-06, 2.07268521e-02,\n",
       "         1.84271425e-08, 4.18453383e-05, 1.05378339e-09, 5.68427504e-06,\n",
       "         1.59488009e-05, 8.61354329e-06],\n",
       "        [2.17123457e-07, 2.13013800e-06, 3.42494386e-05, 1.60380125e-07,\n",
       "         3.50224582e-05, 9.80303594e-06, 2.65649930e-02, 1.33213307e-08,\n",
       "         1.04553351e-06, 2.64678555e-08],\n",
       "        [8.81356588e-09, 1.37454811e-06, 7.36038032e-07, 1.71099043e-06,\n",
       "         1.08004977e-04, 4.37921199e-06, 3.15045071e-07, 8.38169490e-06,\n",
       "         1.00520892e-05, 8.73008830e-05],\n",
       "        [1.60088561e-07, 1.82509552e-06, 3.71838496e-07, 6.26826193e-03,\n",
       "         4.49522517e-08, 8.50221913e-05, 2.83412827e-09, 5.13440818e-06,\n",
       "         3.06144393e-05, 2.78855332e-05],\n",
       "        [5.11490537e-11, 4.57842927e-03, 4.94645519e-06, 7.58082933e-06,\n",
       "         2.83563554e-06, 7.17166449e-06, 5.46838010e-06, 3.17047295e-07,\n",
       "         1.42164077e-04, 5.46048227e-07],\n",
       "        [8.73348966e-08, 5.38819229e-08, 2.93915014e-06, 1.83542515e-08,\n",
       "         4.87477006e-03, 1.03412458e-06, 4.51800151e-05, 2.24042742e-06,\n",
       "         2.92436516e-06, 2.48139022e-05],\n",
       "        [2.22900393e-10, 5.14712825e-04, 2.59140108e-07, 4.12527297e-05,\n",
       "         2.63857987e-06, 2.29703037e-05, 1.24597449e-07, 1.11986865e-05,\n",
       "         2.06012501e-05, 1.42762210e-05],\n",
       "        [7.54443885e-09, 5.17529497e-06, 7.65699042e-06, 1.50081387e-05,\n",
       "         6.83188773e-07, 1.41012151e-06, 2.80426491e-08, 4.76955873e-04,\n",
       "         9.01242220e-06, 3.60362865e-05],\n",
       "        [3.93232185e-05, 2.38269564e-07, 8.04926385e-05, 1.06060305e-07,\n",
       "         1.54242014e-06, 1.23060687e-04, 6.93002809e-03, 1.28097533e-08,\n",
       "         1.44829960e-06, 3.18487969e-09],\n",
       "        [3.65674637e-08, 4.20046042e-08, 1.40140730e-06, 1.68402562e-06,\n",
       "         8.92749886e-05, 1.79509684e-07, 1.52245683e-08, 9.87718595e-05,\n",
       "         1.07097039e-05, 2.42005289e-02]], dtype=float32),\n",
       " (100, 10))"
      ]
     },
     "execution_count": 83,
     "metadata": {},
     "output_type": "execute_result"
    }
   ],
   "source": [
    "y_batch, y_batch.shape"
   ]
  },
  {
   "cell_type": "code",
   "execution_count": 84,
   "metadata": {},
   "outputs": [
    {
     "data": {
      "text/plain": [
       "array([7, 2, 1, 0, 4, 1, 4, 9, 6, 9, 0, 6, 9, 0, 1, 5, 9, 7, 3, 4, 9, 6,\n",
       "       6, 5, 4, 0, 7, 4, 0, 1, 3, 1, 3, 6, 7, 2, 7, 1, 2, 1, 1, 7, 4, 2,\n",
       "       3, 5, 1, 2, 4, 4, 6, 3, 5, 5, 6, 0, 4, 1, 9, 5, 7, 8, 9, 3, 7, 4,\n",
       "       2, 4, 3, 0, 7, 0, 2, 9, 1, 7, 3, 2, 9, 7, 7, 6, 2, 7, 8, 4, 7, 3,\n",
       "       6, 1, 3, 6, 4, 3, 1, 4, 1, 7, 6, 9], dtype=int64)"
      ]
     },
     "execution_count": 84,
     "metadata": {},
     "output_type": "execute_result"
    }
   ],
   "source": [
    "p"
   ]
  },
  {
   "cell_type": "code",
   "execution_count": 85,
   "metadata": {},
   "outputs": [
    {
     "data": {
      "text/plain": [
       "96"
      ]
     },
     "execution_count": 85,
     "metadata": {},
     "output_type": "execute_result"
    }
   ],
   "source": [
    "accuracy_cnt"
   ]
  },
  {
   "cell_type": "code",
   "execution_count": null,
   "metadata": {},
   "outputs": [],
   "source": []
  }
 ],
 "metadata": {
  "kernelspec": {
   "display_name": "base",
   "language": "python",
   "name": "python3"
  },
  "language_info": {
   "codemirror_mode": {
    "name": "ipython",
    "version": 3
   },
   "file_extension": ".py",
   "mimetype": "text/x-python",
   "name": "python",
   "nbconvert_exporter": "python",
   "pygments_lexer": "ipython3",
   "version": "3.8.8"
  },
  "orig_nbformat": 4
 },
 "nbformat": 4,
 "nbformat_minor": 2
}
