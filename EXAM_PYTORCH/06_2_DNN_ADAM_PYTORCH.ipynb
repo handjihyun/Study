{
 "cells": [
  {
   "cell_type": "markdown",
   "id": "0bd33f32",
   "metadata": {},
   "source": [
    "### ✨Adam optimizer 테스트"
   ]
  },
  {
   "cell_type": "code",
   "execution_count": 1,
   "id": "84024625",
   "metadata": {},
   "outputs": [],
   "source": [
    "import torch\n",
    "import torch.nn as nn"
   ]
  },
  {
   "cell_type": "code",
   "execution_count": 2,
   "id": "bc6ce8e9",
   "metadata": {},
   "outputs": [],
   "source": [
    "x = torch.ones(5000, 10)\n",
    "y = torch.zeros(5000, 1)\n",
    "learning_rate = 0.01\n",
    "nb_epochs = 1000\n",
    "minibatch_size = 256"
   ]
  },
  {
   "cell_type": "code",
   "execution_count": 3,
   "id": "c4eaff1a",
   "metadata": {},
   "outputs": [],
   "source": [
    "input_dim = x.size(-1)\n",
    "output_dim = y.size(-1)"
   ]
  },
  {
   "cell_type": "code",
   "execution_count": 4,
   "id": "e351a58c",
   "metadata": {},
   "outputs": [],
   "source": [
    "model = nn.Sequential(\n",
    "nn.Linear(input_dim, 10),\n",
    "nn.LeakyReLU(0.1),\n",
    "nn.Linear(10, 8),\n",
    "nn.LeakyReLU(0.1),\n",
    "nn.Linear(8, 6),\n",
    "nn.LeakyReLU(0.1),\n",
    "nn.Linear(6, output_dim)\n",
    ")\n",
    "\n",
    "loss_function = nn.MSELoss()\n",
    "optimizer = torch.optim.Adam(model.parameters())"
   ]
  },
  {
   "cell_type": "markdown",
   "id": "f3b341a6",
   "metadata": {},
   "source": [
    "> - optimizer = torch.optim.SGD(model.parameters(), lr=learning_rate)\n",
    "> - optimizer = torch.optim.Adagrad(model.parameters()) <br>\n",
    "> - optimizer = torch.optim.RMSprop(model.parameters()) <br>\n",
    "> - optimizer = torch.optim.SGD(model.parameters(), lr=learning_rate, momentum=0.9, nesterov=True)"
   ]
  },
  {
   "cell_type": "code",
   "execution_count": 5,
   "id": "a97c8bc1",
   "metadata": {},
   "outputs": [
    {
     "name": "stdout",
     "output_type": "stream",
     "text": [
      "tensor([2592, 2225, 1077,  ..., 1480,  524, 3060])\n"
     ]
    }
   ],
   "source": [
    "indices = torch.randperm(x.size(0))\n",
    "print(indices)"
   ]
  },
  {
   "cell_type": "code",
   "execution_count": 6,
   "id": "92ac9d26",
   "metadata": {},
   "outputs": [],
   "source": [
    "x_batch_list = torch.index_select(x, 0, indices)\n",
    "y_batch_list = torch.index_select(y, 0, indices)"
   ]
  },
  {
   "cell_type": "code",
   "execution_count": 7,
   "id": "1e6f2e22",
   "metadata": {},
   "outputs": [
    {
     "name": "stdout",
     "output_type": "stream",
     "text": [
      "20 20\n"
     ]
    }
   ],
   "source": [
    "x_batch_list = x_batch_list.split(minibatch_size, 0)\n",
    "y_batch_list = y_batch_list.split(minibatch_size, 0)\n",
    "print(len(x_batch_list), len(y_batch_list))"
   ]
  },
  {
   "cell_type": "code",
   "execution_count": 8,
   "id": "89f627e7",
   "metadata": {},
   "outputs": [
    {
     "name": "stdout",
     "output_type": "stream",
     "text": [
      "tensor(0., grad_fn=<MseLossBackward0>)\n",
      "Parameter containing:\n",
      "tensor([[-0.2259, -0.1376,  0.1410,  0.0918, -0.0248, -0.0593, -0.1406,  0.2044,\n",
      "          0.1005,  0.0241],\n",
      "        [ 0.2351,  0.2549,  0.0482, -0.1397, -0.1682,  0.2851,  0.3165,  0.1858,\n",
      "          0.3021, -0.1649],\n",
      "        [-0.1423,  0.1071,  0.2271,  0.0567,  0.2284, -0.1434, -0.0058, -0.1817,\n",
      "          0.2964, -0.1325],\n",
      "        [-0.2406,  0.0315, -0.0664,  0.3076, -0.2410,  0.0127,  0.0341,  0.0531,\n",
      "          0.1572,  0.1056],\n",
      "        [ 0.0946,  0.0849, -0.1560, -0.3039, -0.1131,  0.2328, -0.1591,  0.0389,\n",
      "          0.2021, -0.1312],\n",
      "        [ 0.1266,  0.1920,  0.3001, -0.2500,  0.1194,  0.1028, -0.2774, -0.1596,\n",
      "         -0.1235, -0.0507],\n",
      "        [ 0.0297,  0.2958, -0.1864,  0.1128, -0.2505, -0.2514,  0.2405,  0.2035,\n",
      "         -0.1833, -0.2565],\n",
      "        [ 0.2987, -0.0104, -0.1142,  0.2765, -0.1588,  0.1021, -0.0442, -0.2873,\n",
      "         -0.0969,  0.1741],\n",
      "        [-0.1145, -0.0345, -0.2387, -0.2188, -0.1305,  0.3190, -0.1830,  0.2805,\n",
      "          0.1566,  0.1291],\n",
      "        [ 0.0154, -0.1309,  0.2535,  0.1715,  0.3100, -0.2550,  0.2713,  0.0231,\n",
      "          0.0175,  0.2115]], requires_grad=True)\n",
      "Parameter containing:\n",
      "tensor([-0.2213, -0.1948, -0.2696,  0.1540, -0.0808,  0.1845, -0.1314, -0.1982,\n",
      "        -0.3130,  0.1211], requires_grad=True)\n",
      "Parameter containing:\n",
      "tensor([[ 0.2479,  0.0878, -0.1398,  0.2946, -0.1514,  0.2524,  0.2817, -0.2188,\n",
      "         -0.0765,  0.0281],\n",
      "        [ 0.0330,  0.2381,  0.0721,  0.1699,  0.1900, -0.0805,  0.2203,  0.0464,\n",
      "         -0.1577,  0.1777],\n",
      "        [ 0.0046, -0.3002, -0.0394,  0.1248,  0.2499,  0.2502, -0.1412,  0.2195,\n",
      "         -0.0251, -0.2653],\n",
      "        [-0.2855, -0.2159, -0.1380, -0.2897, -0.1984,  0.2301, -0.0913, -0.2200,\n",
      "         -0.1830, -0.3029],\n",
      "        [-0.2881, -0.2907,  0.0054,  0.0558,  0.2216, -0.0137,  0.1668, -0.2398,\n",
      "          0.0483,  0.1357],\n",
      "        [-0.2557, -0.2477,  0.1643, -0.2376,  0.1162,  0.2123, -0.0341,  0.1012,\n",
      "         -0.1076,  0.0951],\n",
      "        [ 0.2845,  0.0124,  0.2408,  0.0570, -0.0661,  0.2653,  0.2789,  0.0366,\n",
      "         -0.1912,  0.1335],\n",
      "        [-0.2044, -0.0891,  0.1892, -0.0919, -0.0381,  0.0126,  0.0765,  0.2890,\n",
      "         -0.0135, -0.2284]], requires_grad=True)\n",
      "Parameter containing:\n",
      "tensor([ 0.0092, -0.1175,  0.1457,  0.1366,  0.1768, -0.0637, -0.1276,  0.2606],\n",
      "       requires_grad=True)\n",
      "Parameter containing:\n",
      "tensor([[-0.2887, -0.0439,  0.1719,  0.3271, -0.1967, -0.1223,  0.1378,  0.2317],\n",
      "        [-0.0983, -0.2904, -0.0334,  0.2469,  0.3402, -0.2985,  0.0051,  0.0386],\n",
      "        [ 0.0643,  0.2981,  0.2653, -0.0786,  0.2036,  0.1608,  0.0934,  0.3297],\n",
      "        [ 0.3446, -0.0621, -0.2519,  0.1018, -0.3202, -0.0850,  0.3051,  0.2487],\n",
      "        [ 0.2071, -0.2485, -0.0423,  0.2660, -0.3213,  0.1772, -0.1774, -0.3125],\n",
      "        [-0.2291, -0.1799, -0.0997, -0.2803, -0.1468, -0.1928, -0.2988,  0.0465]],\n",
      "       requires_grad=True)\n",
      "Parameter containing:\n",
      "tensor([ 0.2929, -0.2480,  0.2583, -0.1029,  0.0972, -0.3160],\n",
      "       requires_grad=True)\n",
      "Parameter containing:\n",
      "tensor([[-0.3466,  0.1533, -0.3475,  0.3350,  0.3345, -0.2645]],\n",
      "       requires_grad=True)\n",
      "Parameter containing:\n",
      "tensor([0.1830], requires_grad=True)\n"
     ]
    }
   ],
   "source": [
    "for epoch in range(nb_epochs):\n",
    "    indices = torch.randperm(x.size(0))\n",
    "    \n",
    "    x_batch_list = torch.index_select(x, 0, indices)\n",
    "    y_batch_list = torch.index_select(y, 0, indices)\n",
    "    x_batch_list = x_batch_list.split(minibatch_size, 0)\n",
    "    y_batch_list = y_batch_list.split(minibatch_size, 0)\n",
    "    \n",
    "    for x_minibatch, y_minibatch in zip(x_batch_list, y_batch_list):\n",
    "        y_minibatch_pred = model(x_minibatch)\n",
    "        loss = loss_function(y_minibatch_pred, y_minibatch)\n",
    "        \n",
    "        optimizer.zero_grad()\n",
    "        loss.backward()\n",
    "        optimizer.step()\n",
    "        \n",
    "print(loss)\n",
    "for param in model.parameters():\n",
    "    print(param)"
   ]
  },
  {
   "cell_type": "code",
   "execution_count": null,
   "id": "1299a9e5",
   "metadata": {},
   "outputs": [],
   "source": []
  }
 ],
 "metadata": {
  "kernelspec": {
   "display_name": "Python 3 (ipykernel)",
   "language": "python",
   "name": "python3"
  },
  "language_info": {
   "codemirror_mode": {
    "name": "ipython",
    "version": 3
   },
   "file_extension": ".py",
   "mimetype": "text/x-python",
   "name": "python",
   "nbconvert_exporter": "python",
   "pygments_lexer": "ipython3",
   "version": "3.9.15"
  }
 },
 "nbformat": 4,
 "nbformat_minor": 5
}
