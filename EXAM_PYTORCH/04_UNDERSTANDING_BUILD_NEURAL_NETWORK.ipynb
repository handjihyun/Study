{
 "cells": [
  {
   "cell_type": "markdown",
   "id": "1fc98b0f",
   "metadata": {},
   "source": [
    "### ✨Raw-level Linear Layer 구현"
   ]
  },
  {
   "cell_type": "code",
   "execution_count": 1,
   "id": "0fa2205c",
   "metadata": {},
   "outputs": [],
   "source": [
    "import torch\n",
    "\n",
    "x = torch.FloatTensor(4)   # 입력\n",
    "W = torch.FloatTensor(4,3) # 가중치\n",
    "b = torch.FloatTensor(3)   # 편향"
   ]
  },
  {
   "cell_type": "code",
   "execution_count": 2,
   "id": "010ab65b",
   "metadata": {},
   "outputs": [],
   "source": [
    "# Linear Layer\n",
    "def linearfunction(x,W,b):\n",
    "    y = torch.matmul(x, W) + b\n",
    "    return y"
   ]
  },
  {
   "cell_type": "code",
   "execution_count": 3,
   "id": "ff37eb2f",
   "metadata": {},
   "outputs": [
    {
     "name": "stdout",
     "output_type": "stream",
     "text": [
      "W torch.Size([4, 3]) x torch.Size([4]) b torch.Size([3])\n"
     ]
    }
   ],
   "source": [
    "print('W', W.shape, 'x', x.shape, 'b', b.shape)"
   ]
  },
  {
   "cell_type": "code",
   "execution_count": 4,
   "id": "87a3f935",
   "metadata": {},
   "outputs": [
    {
     "data": {
      "text/plain": [
       "torch.Size([3])"
      ]
     },
     "execution_count": 4,
     "metadata": {},
     "output_type": "execute_result"
    }
   ],
   "source": [
    "y = linearfunction(x, W, b)\n",
    "y.shape"
   ]
  },
  {
   "cell_type": "markdown",
   "id": "22982d2b",
   "metadata": {},
   "source": [
    "### ✨nn.Module 기반, Linear Layer 구현\n",
    "- 신경망 모델 클래스를 만들고, nn.Module을 상속받음\n",
    "- _  _init_ _ 에서 신경망 계층 초기화 선언\n",
    "- forward()메서드에서 입력 데이터에 대한 연산 정의"
   ]
  },
  {
   "cell_type": "code",
   "execution_count": 5,
   "id": "89c12ad3",
   "metadata": {},
   "outputs": [],
   "source": [
    "import torch\n",
    "import torch.nn as nn"
   ]
  },
  {
   "cell_type": "code",
   "execution_count": 6,
   "id": "2b5cb4c5",
   "metadata": {},
   "outputs": [],
   "source": [
    "class NeuralNetwork(nn.Module):\n",
    "    def __init__(self):\n",
    "        super().__init__()\n",
    "        self.W = torch.FloatTensor(4,3)\n",
    "        self.b = torch.FloatTensor(3)\n",
    "        \n",
    "    def forward(self, x):\n",
    "        y = torch.matmul(x, self.W) + self.b\n",
    "        return y"
   ]
  },
  {
   "cell_type": "code",
   "execution_count": 7,
   "id": "9d3d961d",
   "metadata": {},
   "outputs": [],
   "source": [
    "x = torch.FloatTensor(4)  # input\n",
    "mylinear = NeuralNetwork()\n",
    "y = mylinear(x)"
   ]
  },
  {
   "cell_type": "code",
   "execution_count": 8,
   "id": "15d787ab",
   "metadata": {},
   "outputs": [
    {
     "name": "stdout",
     "output_type": "stream",
     "text": [
      "tensor([0., 0., 0.]) torch.Size([3])\n"
     ]
    }
   ],
   "source": [
    "print(y, y.shape)"
   ]
  },
  {
   "cell_type": "code",
   "execution_count": 12,
   "id": "8ae2621c",
   "metadata": {},
   "outputs": [],
   "source": [
    "import torch\n",
    "import torch.nn as nn\n",
    "\n",
    "class NeuralNetwork(nn.Module):\n",
    "    def __init__(self, input_dim, output_dim):\n",
    "        super().__init__()\n",
    "        self.W = torch.FloatTensor(input_dim, output_dim)\n",
    "        self.b = torch.FloatTensor(output_dim)\n",
    "        \n",
    "    def forward(self, x):\n",
    "        y = torch.matmul(x, self.W) + self.b\n",
    "        return y"
   ]
  },
  {
   "cell_type": "code",
   "execution_count": 14,
   "id": "e7c30a77",
   "metadata": {},
   "outputs": [
    {
     "name": "stdout",
     "output_type": "stream",
     "text": [
      "tensor([7.4063e-04, 3.8943e-10, 1.7263e-04]) torch.Size([3])\n"
     ]
    }
   ],
   "source": [
    "x = torch.FloatTensor(15)\n",
    "mylinear = NeuralNetwork(15, 3)\n",
    "y = mylinear(x)\n",
    "print(y, y.shape)"
   ]
  },
  {
   "cell_type": "code",
   "execution_count": 15,
   "id": "1b985bb9",
   "metadata": {},
   "outputs": [],
   "source": [
    "# 파라미터 등록이 되어있지 않음\n",
    "for param in mylinear.parameters():\n",
    "    print(param)"
   ]
  },
  {
   "cell_type": "markdown",
   "id": "2a0657be",
   "metadata": {},
   "source": [
    "### ✨nn.Module 기반, nn.Parameter 등록하기"
   ]
  },
  {
   "cell_type": "code",
   "execution_count": 16,
   "id": "f3c85e81",
   "metadata": {},
   "outputs": [],
   "source": [
    "import torch\n",
    "import torch.nn as nn\n",
    "\n",
    "class NeuralNetwork(nn.Module):\n",
    "    def __init__(self, input_dim, output_dim):\n",
    "        super().__init__()\n",
    "        self.W = nn.Parameter(torch.FloatTensor(input_dim, output_dim))\n",
    "        self.b = nn.Parameter(torch.FloatTensor(output_dim))\n",
    "        \n",
    "    def forward(self, x):\n",
    "        y = torch.matmul(x, self.W) + self.b\n",
    "        return y"
   ]
  },
  {
   "cell_type": "code",
   "execution_count": 17,
   "id": "07fa9d8a",
   "metadata": {},
   "outputs": [
    {
     "name": "stdout",
     "output_type": "stream",
     "text": [
      "tensor([1.0286e-38, 1.0653e-38, 1.0469e-38], grad_fn=<AddBackward0>) torch.Size([3])\n"
     ]
    }
   ],
   "source": [
    "x = torch.FloatTensor(4)\n",
    "mylinear = NeuralNetwork(4, 3)\n",
    "y = mylinear(x)\n",
    "print(y, y.shape)"
   ]
  },
  {
   "cell_type": "code",
   "execution_count": 18,
   "id": "97546e74",
   "metadata": {},
   "outputs": [
    {
     "name": "stdout",
     "output_type": "stream",
     "text": [
      "Parameter containing:\n",
      "tensor([[0., 0., 0.],\n",
      "        [0., 0., 0.],\n",
      "        [0., 0., 0.],\n",
      "        [0., 0., 0.]], requires_grad=True)\n",
      "Parameter containing:\n",
      "tensor([1.0286e-38, 1.0653e-38, 1.0469e-38], requires_grad=True)\n"
     ]
    }
   ],
   "source": [
    "for param in mylinear.parameters():\n",
    "    print(param)"
   ]
  },
  {
   "cell_type": "markdown",
   "id": "5425246d",
   "metadata": {},
   "source": [
    "### ✨nn.Linear() 클래스"
   ]
  },
  {
   "cell_type": "code",
   "execution_count": 19,
   "id": "edac0240",
   "metadata": {},
   "outputs": [
    {
     "name": "stdout",
     "output_type": "stream",
     "text": [
      "tensor([ 0.0981,  0.0134, -0.0143], grad_fn=<AddBackward0>) torch.Size([3])\n"
     ]
    }
   ],
   "source": [
    "mylinear = nn.Linear(4,3)\n",
    "y = mylinear(x)\n",
    "print(y, y.shape)"
   ]
  },
  {
   "cell_type": "code",
   "execution_count": 20,
   "id": "6db8ca72",
   "metadata": {},
   "outputs": [
    {
     "name": "stdout",
     "output_type": "stream",
     "text": [
      "Parameter containing:\n",
      "tensor([[-0.4560,  0.0498,  0.4587,  0.0359],\n",
      "        [ 0.3003,  0.4133,  0.0492,  0.2462],\n",
      "        [ 0.2936, -0.2134, -0.4071,  0.4041]], requires_grad=True)\n",
      "Parameter containing:\n",
      "tensor([ 0.0981,  0.0134, -0.0143], requires_grad=True)\n"
     ]
    }
   ],
   "source": [
    "for param in mylinear.parameters():\n",
    "    print(param)"
   ]
  },
  {
   "cell_type": "markdown",
   "id": "2e184aba",
   "metadata": {},
   "source": [
    "### ✨Pytorch 신경망 모델과 nn.Linear"
   ]
  },
  {
   "cell_type": "code",
   "execution_count": 21,
   "id": "791f9ec3",
   "metadata": {},
   "outputs": [],
   "source": [
    "import torch\n",
    "import torch.nn as nn\n",
    "\n",
    "class NeuralNetwork(nn.Module):\n",
    "    def __init__(self, input_dim, output_dim):\n",
    "        super().__init__()\n",
    "        self.linear = nn.Linear(input_dim, output_dim)\n",
    "        \n",
    "    def forward(self, x):\n",
    "        y = self.linear(x)\n",
    "        return y"
   ]
  },
  {
   "cell_type": "code",
   "execution_count": 22,
   "id": "e8eb9995",
   "metadata": {},
   "outputs": [
    {
     "name": "stdout",
     "output_type": "stream",
     "text": [
      "tensor([-0.0957, -0.3781,  0.1692], grad_fn=<AddBackward0>) torch.Size([3])\n"
     ]
    }
   ],
   "source": [
    "mylinear = NeuralNetwork(4,3)\n",
    "y = mylinear(x)\n",
    "print(y, y.shape)"
   ]
  },
  {
   "cell_type": "code",
   "execution_count": 23,
   "id": "8f514756",
   "metadata": {},
   "outputs": [
    {
     "name": "stdout",
     "output_type": "stream",
     "text": [
      "Parameter containing:\n",
      "tensor([[-0.3840,  0.3968,  0.2699, -0.3201],\n",
      "        [-0.2326,  0.3688, -0.1214,  0.1142],\n",
      "        [ 0.1392, -0.0338, -0.4593,  0.3743]], requires_grad=True)\n",
      "Parameter containing:\n",
      "tensor([-0.0957, -0.3781,  0.1692], requires_grad=True)\n"
     ]
    }
   ],
   "source": [
    "for param in mylinear.parameters():\n",
    "    print(param)"
   ]
  },
  {
   "cell_type": "code",
   "execution_count": null,
   "id": "14fe1125",
   "metadata": {},
   "outputs": [],
   "source": []
  }
 ],
 "metadata": {
  "kernelspec": {
   "display_name": "Python 3 (ipykernel)",
   "language": "python",
   "name": "python3"
  },
  "language_info": {
   "codemirror_mode": {
    "name": "ipython",
    "version": 3
   },
   "file_extension": ".py",
   "mimetype": "text/x-python",
   "name": "python",
   "nbconvert_exporter": "python",
   "pygments_lexer": "ipython3",
   "version": "3.9.15"
  }
 },
 "nbformat": 4,
 "nbformat_minor": 5
}
