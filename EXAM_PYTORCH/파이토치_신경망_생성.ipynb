{
  "cells": [
    {
      "cell_type": "markdown",
      "metadata": {
        "id": "cNIhNfg44knT"
      },
      "source": [
        "# 신경망 생성\n",
        "- `torch.nn` 패키지 사용\n",
        "\n",
        "- `nn.Module`을 상속받고, 해당 모듈은 계층과 `output`을 반환하는 `forward`메소드를 포함\n",
        "\n",
        "- 파이토치에서 신경망 생성을 위한 기본 틀\n",
        "\n",
        "      1. class Net(nn.Module):\n",
        "\n",
        "           def __init__(self):\n",
        "               super(Net, self).__init__()\n",
        "\n",
        "      2. class MyModel(nn.Module):\n",
        "\n",
        "            def __init__(self):\n",
        "                super(MyModel, self).__init__()\n",
        "\n",
        "- `conv2d` 레이어를 쌓을 때, 필터의 갯수를 계산하고 `in_channels`에 넣어줘야함\n",
        "\n",
        "        "
      ]
    },
    {
      "cell_type": "markdown",
      "metadata": {
        "id": "vVP0IKPG5XCl"
      },
      "source": [
        "## 신경망 정의"
      ]
    },
    {
      "cell_type": "code",
      "execution_count": 57,
      "metadata": {
        "id": "EtObfSjK4gzu"
      },
      "outputs": [],
      "source": [
        "import torch\n",
        "import torch.nn as nn\n",
        "import torch.nn.functional as F"
      ]
    },
    {
      "cell_type": "code",
      "execution_count": 58,
      "metadata": {
        "id": "TrkSO0qj5aWu"
      },
      "outputs": [
        {
          "name": "stdout",
          "output_type": "stream",
          "text": [
            "Net(\n",
            "  (conv1): Conv2d(1, 6, kernel_size=(3, 3), stride=(1, 1))\n",
            "  (conv2): Conv2d(6, 16, kernel_size=(3, 3), stride=(1, 1))\n",
            "  (fc1): Linear(in_features=576, out_features=120, bias=True)\n",
            "  (fc2): Linear(in_features=120, out_features=84, bias=True)\n",
            "  (fc3): Linear(in_features=84, out_features=10, bias=True)\n",
            ")\n"
          ]
        }
      ],
      "source": [
        "class Net(nn.Module):\n",
        "    def __init__(self):\n",
        "        super(Net, self).__init__()\n",
        "\n",
        "        self.conv1 = nn.Conv2d(1, 6, 3)\n",
        "        self.conv2 = nn.Conv2d(6, 16, 3)\n",
        "        self.fc1 = nn.Linear(16 * 6 * 6, 120)\n",
        "        self.fc2 = nn.Linear(120, 84)\n",
        "        self.fc3 = nn.Linear(84, 10)\n",
        "\n",
        "    def forward(self, x):\n",
        "        x = F.max_pool2d(F.relu(self.conv1(x)), (2, 2))\n",
        "        x = F.max_pool2d(F.relu(self.conv2(x)), 2)\n",
        "        x = x.view(-1, self.num_flat_features(x))\n",
        "        x = F.relu(self.fc1(x))\n",
        "        x = F.relu(self.fc2(x))\n",
        "        x = self.fc3(x)\n",
        "        \n",
        "        return x\n",
        "    \n",
        "    def num_flat_features(self, x):\n",
        "        size = x.size()[1:]\n",
        "        num_features = 1\n",
        "        for s in size:\n",
        "            num_features *= s\n",
        "        \n",
        "        return num_features\n",
        "    \n",
        "net = Net()\n",
        "print(net)"
      ]
    },
    {
      "cell_type": "markdown",
      "metadata": {
        "id": "D_pSqGTjN4Ey"
      },
      "source": [
        "# 선형회귀(Linear Regression) 모델 생성\n",
        "- 코드 출처 : https://yceffort.kr/2019/02/19/pytorch-02-linear-regression/"
      ]
    },
    {
      "cell_type": "markdown",
      "metadata": {
        "id": "yFV6Qz3wSqOY"
      },
      "source": [
        "## modules import"
      ]
    },
    {
      "cell_type": "code",
      "execution_count": 59,
      "metadata": {
        "id": "9Pp_ZXMgN48N"
      },
      "outputs": [
        {
          "name": "stderr",
          "output_type": "stream",
          "text": [
            "C:\\Users\\user\\AppData\\Local\\Temp\\ipykernel_14748\\3143011814.py:7: MatplotlibDeprecationWarning: The seaborn styles shipped by Matplotlib are deprecated since 3.6, as they no longer correspond to the styles shipped by seaborn. However, they will remain available as 'seaborn-v0_8-<style>'. Alternatively, directly use the seaborn API instead.\n",
            "  plt.style.use('seaborn-white')\n"
          ]
        }
      ],
      "source": [
        "import torch\n",
        "import torch.nn as nn\n",
        "import torch.optim as optim\n",
        "\n",
        "import numpy as np\n",
        "import matplotlib.pyplot as plt\n",
        "plt.style.use('seaborn-white')"
      ]
    },
    {
      "cell_type": "markdown",
      "metadata": {
        "id": "JApiW41-TQbA"
      },
      "source": [
        "## 데이터 생성 및 회귀식 설정"
      ]
    },
    {
      "cell_type": "code",
      "execution_count": 60,
      "metadata": {
        "id": "DReJzgyCXGxq"
      },
      "outputs": [
        {
          "data": {
            "image/png": "[encoded data removed]",
            "text/plain": [
              "<Figure size 640x480 with 1 Axes>"
            ]
          },
          "metadata": {},
          "output_type": "display_data"
        }
      ],
      "source": [
        "X = torch.randn(100, 1)*10\n",
        "y = X + 3 * torch.randn(100, 1)\n",
        "plt.plot(X.numpy(), y.numpy(), 'o')\n",
        "plt.ylabel('y')\n",
        "plt.xlabel('x')\n",
        "plt.grid()\n",
        "plt.show()"
      ]
    },
    {
      "cell_type": "markdown",
      "metadata": {
        "id": "GaEsvoUHSM9p"
      },
      "source": [
        "## 신경망 구성"
      ]
    },
    {
      "cell_type": "code",
      "execution_count": 61,
      "metadata": {
        "id": "v8K_nLImN43l"
      },
      "outputs": [],
      "source": [
        "class LinearRegressionModel(nn.Module):\n",
        "    def __init__(self):\n",
        "        super(LinearRegressionModel, self).__init__()\n",
        "        self.linear = nn.Linear(1, 1)\n",
        "\n",
        "    def forward(self, x):\n",
        "        pred = self.linear(x)\n",
        "        return pred"
      ]
    },
    {
      "cell_type": "markdown",
      "metadata": {
        "id": "gWHJoDoOSPKD"
      },
      "source": [
        "## 모델 생성 및 파라미터 확인"
      ]
    },
    {
      "cell_type": "code",
      "execution_count": 62,
      "metadata": {
        "id": "lFWWRmfkN405"
      },
      "outputs": [
        {
          "name": "stdout",
          "output_type": "stream",
          "text": [
            "LinearRegressionModel(\n",
            "  (linear): Linear(in_features=1, out_features=1, bias=True)\n",
            ")\n"
          ]
        }
      ],
      "source": [
        "torch.manual_seed(111)\n",
        "\n",
        "model = LinearRegressionModel()\n",
        "print(model)"
      ]
    },
    {
      "cell_type": "code",
      "execution_count": 63,
      "metadata": {
        "id": "-7vBaKDhQWGO"
      },
      "outputs": [
        {
          "name": "stdout",
          "output_type": "stream",
          "text": [
            "[Parameter containing:\n",
            "tensor([[0.4311]], requires_grad=True), Parameter containing:\n",
            "tensor([0.8280], requires_grad=True)]\n"
          ]
        }
      ],
      "source": [
        "print(list(model.parameters()))"
      ]
    },
    {
      "cell_type": "code",
      "execution_count": 64,
      "metadata": {
        "id": "wpvOJTwXPaqg"
      },
      "outputs": [
        {
          "data": {
            "image/png": "[encoded data removed]",
            "text/plain": [
              "<Figure size 640x480 with 1 Axes>"
            ]
          },
          "metadata": {},
          "output_type": "display_data"
        }
      ],
      "source": [
        "w, b = model.parameters()\n",
        "\n",
        "def get_params():\n",
        "    return w[0][0].item(), b[0].item()\n",
        "\n",
        "def plot_fit(title):\n",
        "    plt.title = title\n",
        "    w1, b1 = get_params()\n",
        "    x1 = np.array([-30, 30])\n",
        "    y1 = w1 * x1 + b1\n",
        "    plt.plot(x1, y1, 'r')\n",
        "    plt.scatter(X, y)\n",
        "    plt.show()\n",
        "\n",
        "plot_fit('Initial Model')"
      ]
    },
    {
      "cell_type": "markdown",
      "metadata": {
        "id": "Z9H7zLFWSGhX"
      },
      "source": [
        "## 손실함수와 옵티마이저"
      ]
    },
    {
      "cell_type": "code",
      "execution_count": 65,
      "metadata": {
        "id": "iW4WHvMOPgtX"
      },
      "outputs": [],
      "source": [
        "criterion = nn.MSELoss()\n",
        "optimizer = optim.SGD(model.parameters(), lr=0.001)"
      ]
    },
    {
      "cell_type": "markdown",
      "metadata": {
        "id": "ogojTAwDSRrW"
      },
      "source": [
        "## 모델 학습"
      ]
    },
    {
      "cell_type": "code",
      "execution_count": 66,
      "metadata": {
        "id": "UkDTmErfQdiU"
      },
      "outputs": [
        {
          "name": "stdout",
          "output_type": "stream",
          "text": [
            "Epoch :   1\tloss : 44.3919\n",
            "Epoch :  11\tloss : 9.1550\n",
            "Epoch :  21\tloss : 8.7126\n",
            "Epoch :  31\tloss : 8.6847\n",
            "Epoch :  41\tloss : 8.6626\n",
            "Epoch :  51\tloss : 8.6415\n",
            "Epoch :  61\tloss : 8.6212\n",
            "Epoch :  71\tloss : 8.6017\n",
            "Epoch :  81\tloss : 8.5829\n",
            "Epoch :  91\tloss : 8.5649\n"
          ]
        }
      ],
      "source": [
        "epochs = 100\n",
        "losses = []\n",
        "\n",
        "for epoch in range(epochs):\n",
        "    optimizer.zero_grad()\n",
        "\n",
        "    y_pred = model(X)\n",
        "    loss = criterion(y_pred, y)\n",
        "    losses.append(loss.item())\n",
        "    loss.backward()\n",
        "\n",
        "    optimizer.step()\n",
        "\n",
        "    if epoch % 10 == 0:\n",
        "        print('Epoch : {:3d}\\tloss : {:.4f}'.format(epoch+1, loss))"
      ]
    },
    {
      "cell_type": "code",
      "execution_count": 67,
      "metadata": {},
      "outputs": [
        {
          "data": {
            "text/plain": [
              "[44.3918571472168,\n",
              " 31.63016128540039,\n",
              " 23.436838150024414,\n",
              " 18.17620277404785,\n",
              " 14.798223495483398,\n",
              " 12.628829002380371,\n",
              " 11.235296249389648,\n",
              " 10.339832305908203,\n",
              " 9.764115333557129,\n",
              " 9.393657684326172,\n",
              " 9.154976844787598,\n",
              " 9.000889778137207,\n",
              " 8.901114463806152,\n",
              " 8.836207389831543,\n",
              " 8.793686866760254,\n",
              " 8.765541076660156,\n",
              " 8.746626853942871,\n",
              " 8.733643531799316,\n",
              " 8.724468231201172,\n",
              " 8.717742919921875,\n",
              " 8.712594032287598,\n",
              " 8.708459854125977,\n",
              " 8.704978942871094,\n",
              " 8.701922416687012,\n",
              " 8.699141502380371,\n",
              " 8.696540832519531,\n",
              " 8.694058418273926,\n",
              " 8.691654205322266,\n",
              " 8.68930435180664,\n",
              " 8.686995506286621,\n",
              " 8.684711456298828,\n",
              " 8.682448387145996,\n",
              " 8.680203437805176,\n",
              " 8.677971839904785,\n",
              " 8.675751686096191,\n",
              " 8.673542022705078,\n",
              " 8.671344757080078,\n",
              " 8.66915512084961,\n",
              " 8.666975021362305,\n",
              " 8.664804458618164,\n",
              " 8.662642478942871,\n",
              " 8.66048812866211,\n",
              " 8.658343315124512,\n",
              " 8.656208038330078,\n",
              " 8.654080390930176,\n",
              " 8.651963233947754,\n",
              " 8.64985179901123,\n",
              " 8.647749900817871,\n",
              " 8.64565658569336,\n",
              " 8.643568992614746,\n",
              " 8.641493797302246,\n",
              " 8.639425277709961,\n",
              " 8.637365341186523,\n",
              " 8.635313034057617,\n",
              " 8.633268356323242,\n",
              " 8.631233215332031,\n",
              " 8.629205703735352,\n",
              " 8.627184867858887,\n",
              " 8.625174522399902,\n",
              " 8.623170852661133,\n",
              " 8.621173858642578,\n",
              " 8.619187355041504,\n",
              " 8.617207527160645,\n",
              " 8.615235328674316,\n",
              " 8.613272666931152,\n",
              " 8.611315727233887,\n",
              " 8.609367370605469,\n",
              " 8.607426643371582,\n",
              " 8.605494499206543,\n",
              " 8.603569030761719,\n",
              " 8.601651191711426,\n",
              " 8.59974193572998,\n",
              " 8.597840309143066,\n",
              " 8.595945358276367,\n",
              " 8.5940580368042,\n",
              " 8.592179298400879,\n",
              " 8.59030818939209,\n",
              " 8.588441848754883,\n",
              " 8.586585998535156,\n",
              " 8.584735870361328,\n",
              " 8.582893371582031,\n",
              " 8.581058502197266,\n",
              " 8.579231262207031,\n",
              " 8.577411651611328,\n",
              " 8.57559871673584,\n",
              " 8.573792457580566,\n",
              " 8.57199478149414,\n",
              " 8.570202827453613,\n",
              " 8.5684175491333,\n",
              " 8.566640853881836,\n",
              " 8.564870834350586,\n",
              " 8.56310749053955,\n",
              " 8.561352729797363,\n",
              " 8.559603691101074,\n",
              " 8.557861328125,\n",
              " 8.55612564086914,\n",
              " 8.554398536682129,\n",
              " 8.5526762008667,\n",
              " 8.550963401794434,\n",
              " 8.549254417419434]"
            ]
          },
          "execution_count": 67,
          "metadata": {},
          "output_type": "execute_result"
        }
      ],
      "source": [
        "losses"
      ]
    },
    {
      "cell_type": "markdown",
      "metadata": {
        "id": "1aYA45MxSeux"
      },
      "source": [
        "## 시각화"
      ]
    },
    {
      "cell_type": "code",
      "execution_count": 68,
      "metadata": {
        "id": "2tihOUtGQdl0"
      },
      "outputs": [
        {
          "data": {
            "image/png": "[encoded data removed]",
            "text/plain": [
              "<Figure size 640x480 with 1 Axes>"
            ]
          },
          "metadata": {},
          "output_type": "display_data"
        }
      ],
      "source": [
        "plt.plot(range(epochs), losses)\n",
        "plt.ylabel('Loss')\n",
        "plt.xlabel('Epoch')\n",
        "plt.show()"
      ]
    },
    {
      "cell_type": "code",
      "execution_count": 69,
      "metadata": {
        "id": "8TofKjJDQdx7"
      },
      "outputs": [
        {
          "data": {
            "image/png": "[encoded data removed]",
            "text/plain": [
              "<Figure size 640x480 with 1 Axes>"
            ]
          },
          "metadata": {},
          "output_type": "display_data"
        }
      ],
      "source": [
        "plot_fit('Trained Model')"
      ]
    },
    {
      "cell_type": "code",
      "execution_count": null,
      "metadata": {},
      "outputs": [],
      "source": []
    }
  ],
  "metadata": {
    "colab": {
      "provenance": []
    },
    "kernelspec": {
      "display_name": "Python 3",
      "name": "python3"
    },
    "language_info": {
      "codemirror_mode": {
        "name": "ipython",
        "version": 3
      },
      "file_extension": ".py",
      "mimetype": "text/x-python",
      "name": "python",
      "nbconvert_exporter": "python",
      "pygments_lexer": "ipython3",
      "version": "3.10.10"
    }
  },
  "nbformat": 4,
  "nbformat_minor": 0
}
