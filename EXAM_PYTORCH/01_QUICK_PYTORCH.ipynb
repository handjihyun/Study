{
 "cells": [
  {
   "cell_type": "markdown",
   "id": "a8391639",
   "metadata": {},
   "source": [
    "### Pytorch"
   ]
  },
  {
   "cell_type": "markdown",
   "id": "1f975ee6",
   "metadata": {},
   "source": [
    "#### pytorch의 일반적인 import 형태"
   ]
  },
  {
   "cell_type": "code",
   "execution_count": 1,
   "id": "ee03405a",
   "metadata": {},
   "outputs": [],
   "source": [
    "import torch"
   ]
  },
  {
   "cell_type": "markdown",
   "id": "12d52d51",
   "metadata": {},
   "source": [
    "#### ✨scala (0D tensor)\n",
    ": 하나의 텐서를 가지는 0차원 텐서"
   ]
  },
  {
   "cell_type": "code",
   "execution_count": 2,
   "id": "7d7d561b",
   "metadata": {},
   "outputs": [
    {
     "name": "stdout",
     "output_type": "stream",
     "text": [
      "10 0 ()\n"
     ]
    }
   ],
   "source": [
    "import numpy as np\n",
    "data1 = np.array(10)\n",
    "print(data1, data1.ndim, data1.shape) # ndim : axis 축, shape : 행렬의 차원"
   ]
  },
  {
   "cell_type": "markdown",
   "id": "a8fa49ca",
   "metadata": {},
   "source": [
    "#### ✨vector (1D tensor)"
   ]
  },
  {
   "cell_type": "code",
   "execution_count": 3,
   "id": "05c0f0db",
   "metadata": {},
   "outputs": [
    {
     "name": "stdout",
     "output_type": "stream",
     "text": [
      "tensor([1., 2.]) 1 torch.Size([2])\n",
      "tensor([ 0.0000e+00,  4.4766e+00, -3.2190e-34]) 1 torch.Size([3])\n"
     ]
    }
   ],
   "source": [
    "data1 = torch.FloatTensor([1, 2])\n",
    "print(data1, data1.dim(), data1.shape)\n",
    "\n",
    "data2 = torch.FloatTensor(3) # 임의의 3개의 원소를 가진 1D 텐서\n",
    "print(data2, data2.dim(), data2.shape)"
   ]
  },
  {
   "cell_type": "code",
   "execution_count": 4,
   "id": "2bd99239",
   "metadata": {},
   "outputs": [
    {
     "name": "stdout",
     "output_type": "stream",
     "text": [
      "tensor([[2.5961e+20, 1.0082e-08],\n",
      "        [6.4836e-10, 5.2592e+22],\n",
      "        [5.1891e-11, 7.1450e+31]]) 2 torch.Size([3, 2])\n",
      "tensor([[1., 2.],\n",
      "        [3., 4.],\n",
      "        [5., 6.]]) 2 torch.Size([3, 2])\n"
     ]
    }
   ],
   "source": [
    "# matrix (2D tensor)\n",
    "data3 = torch.FloatTensor(3, 2)\n",
    "print(data3, data3.dim(), data3.shape)\n",
    "\n",
    "data4 = torch.FloatTensor([ [1,2], [3,4], [5,6] ])\n",
    "print(data4, data4.dim(), data4.shape)"
   ]
  },
  {
   "cell_type": "code",
   "execution_count": 5,
   "id": "757d9b8b",
   "metadata": {},
   "outputs": [
    {
     "name": "stdout",
     "output_type": "stream",
     "text": [
      "tensor([[[0.0000e+00],\n",
      "         [0.0000e+00]],\n",
      "\n",
      "        [[0.0000e+00],\n",
      "         [0.0000e+00]],\n",
      "\n",
      "        [[0.0000e+00],\n",
      "         [7.4269e-44]]]) 3 torch.Size([3, 2, 1])\n",
      "tensor([[[1.],\n",
      "         [2.]],\n",
      "\n",
      "        [[3.],\n",
      "         [4.]],\n",
      "\n",
      "        [[5.],\n",
      "         [6.]]]) 3 torch.Size([3, 2, 1])\n"
     ]
    }
   ],
   "source": [
    "# 3D tensor\n",
    "data5 = torch.FloatTensor(3, 2, 1)\n",
    "print(data5, data5.dim(), data5.shape)\n",
    "\n",
    "data6 = torch.FloatTensor([ [[1],[2]], [[3],[4]], [[5],[6]] ])\n",
    "print(data6, data6.dim(), data6.shape)"
   ]
  },
  {
   "cell_type": "code",
   "execution_count": 6,
   "id": "f44c98c7",
   "metadata": {},
   "outputs": [
    {
     "name": "stdout",
     "output_type": "stream",
     "text": [
      "tensor([[1.],\n",
      "        [2.],\n",
      "        [3.]]) 2 torch.Size([3, 1])\n",
      "tensor([[1., 2., 3.]]) 2 torch.Size([1, 3])\n"
     ]
    }
   ],
   "source": [
    "# 밖에서부터 안쪽으로 텐서 선언 이해\n",
    "data7 = torch.FloatTensor([ [1], [2], [3] ])\n",
    "print(data7, data7.dim(), data7.shape)\n",
    "\n",
    "data8 = torch.FloatTensor([ [1,2,3] ])\n",
    "print(data8, data8.dim(), data8.shape)"
   ]
  },
  {
   "cell_type": "markdown",
   "id": "1ff87a05",
   "metadata": {},
   "source": [
    "### Tensor 생성 주요 메서드\n",
    "- torch.zeros(x, y, z): 0 값으로 shape 모양의 텐서 생성\n",
    "- torch.ones(x, y, z): 1 값으로 shape 모양의 텐서 생성\n",
    "- torch.rand(x, y, z): 0 부터 1 사이에 균일한 확률 분포로 랜덤한 값을 가진 (x, y) shape 의 텐서 생성\n",
    "- torch.randn(x, y, z): 기댓값이 0이고, 표준편차가 1인 가우시안 표준 정규 분포를 따르는 랜덤값을 가진 (x, y) shape 의 텐서 생성\n",
    "- torch.full((x, y, z), a): a 값으로, shape 모양의 텐서 생성\n",
    "<br><br>\n",
    "- torch.zeros_like(tensor): 인자로 들어간 tensor 객체와 동일 shape 를 가지되, 각 원소값은 0 으로 이루어진 텐서 생성\n",
    "- torch.ones_like(tensor): 인자로 들어간 tensor 객체와 동일 shape 를 가지되, 각 원소값은 0 으로 이루어진 텐서 생성\n",
    "- torch.rand_like(tensor): 0 부터 1 사이에 균일한 확률 분포로 랜덤한 값을 가진 (x, y) shape 의 텐서 생성\n",
    "- torch.randn_like(tensor): 인자로 들어간 tensor 객체와 동일 shape 를 가지되, 각 원소값은 randn() 의 랜덤값으로 채워진 텐서 생성\n",
    "- torch.full_like(tensor, a): 인자로 들어간 tensor 객체와 동일 shape 를 가지되, 각 원소값은 a 값으로 이루어진 텐서 생성\n",
    "<br><br>\n",
    "- torch.empty(x, y, z): 특정 의도로 초기화 되지 않은 값을 가진 (x, y) shape 의 행렬 생성\n",
    "\n",
    "> shape 은 여러 차원이 될 수 있음 \n",
    "> 각 메서드에 dtype=type 인자를 넣어, 데이터 타입 명시 가능"
   ]
  },
  {
   "cell_type": "markdown",
   "id": "8f651937",
   "metadata": {},
   "source": [
    "#### ✨Tensor 데이터 타입\n",
    "\n",
    "<img src=\"https://www.fun-coding.org/00_Images/pytorch-type.png\">"
   ]
  },
  {
   "cell_type": "code",
   "execution_count": 7,
   "id": "71aefe62",
   "metadata": {},
   "outputs": [],
   "source": [
    "import torch\n",
    "\n",
    "data1 = torch.zeros(2, dtype=torch.float)\n",
    "data2 = torch.zeros(2, 2, dtype=torch.double)\n",
    "data3 = torch.zeros(2, 2, 3, dtype=torch.half)\n",
    "data4 = torch.zeros(2, 2, 3, 4)\n",
    "data5 = torch.full((2,4), 10)"
   ]
  },
  {
   "cell_type": "code",
   "execution_count": 8,
   "id": "73d80748",
   "metadata": {},
   "outputs": [
    {
     "data": {
      "text/plain": [
       "tensor([[10, 10, 10, 10],\n",
       "        [10, 10, 10, 10]])"
      ]
     },
     "execution_count": 8,
     "metadata": {},
     "output_type": "execute_result"
    }
   ],
   "source": [
    "data5"
   ]
  },
  {
   "cell_type": "code",
   "execution_count": 9,
   "id": "0c4b5697",
   "metadata": {},
   "outputs": [
    {
     "name": "stdout",
     "output_type": "stream",
     "text": [
      "torch.Size([2]) torch.Size([2, 2]) torch.Size([2, 2, 3]) torch.Size([2, 2, 3, 4]) torch.Size([2, 4])\n"
     ]
    }
   ],
   "source": [
    "# check shape\n",
    "print(data1.shape, data2.shape, data3.shape, data4.shape, data5.shape)"
   ]
  },
  {
   "cell_type": "code",
   "execution_count": 10,
   "id": "ecaa1981",
   "metadata": {},
   "outputs": [
    {
     "name": "stdout",
     "output_type": "stream",
     "text": [
      "1 2 3 4 2\n",
      "1 2 3 4 2\n"
     ]
    }
   ],
   "source": [
    "# dimension of array\n",
    "print(data1.ndim, data2.ndim, data3.ndim, data4.ndim, data5.ndim)\n",
    "print(data1.dim(), data2.dim(), data3.dim(), data4.dim(), data5.dim())"
   ]
  },
  {
   "cell_type": "code",
   "execution_count": 11,
   "id": "a35f27b7",
   "metadata": {},
   "outputs": [
    {
     "name": "stdout",
     "output_type": "stream",
     "text": [
      "torch.float32 torch.float64 torch.float16 torch.float32 torch.int64\n"
     ]
    }
   ],
   "source": [
    "# check datatype\n",
    "print(data1.dtype, data2.dtype, data3.dtype, data4.dtype, data5.dtype)"
   ]
  },
  {
   "cell_type": "code",
   "execution_count": 12,
   "id": "0a6c9016",
   "metadata": {},
   "outputs": [
    {
     "name": "stdout",
     "output_type": "stream",
     "text": [
      "torch.Size([2]) torch.Size([2, 2]) torch.Size([2, 2, 3]) torch.Size([2, 2, 3, 4]) torch.Size([2, 4])\n"
     ]
    }
   ],
   "source": [
    "# check data size\n",
    "print(data1.size(), data2.size(), data3.size(), data4.size(), data5.size())"
   ]
  },
  {
   "cell_type": "code",
   "execution_count": 13,
   "id": "07483f62",
   "metadata": {},
   "outputs": [],
   "source": [
    "# 각 원소값으로 직접 대입하여 tensor 선언\n",
    "data6 = torch.FloatTensor([ [1,2], [3,4] ])\n",
    "data7 = torch.FloatTensor([ [1,2,3], [4,5,6] ])\n",
    "data8 = torch.FloatTensor([ [1,2,3], [4,5,6], [7,8,9] ])\n",
    "\n",
    "# shape을 기반으로 tensor 선언\n",
    "data9 = torch.FloatTensor(2, 3, 5)\n",
    "data10 = torch.DoubleTensor(3, 3, 2, 4)\n",
    "data11 = torch.LongTensor(4, 4)"
   ]
  },
  {
   "cell_type": "code",
   "execution_count": 14,
   "id": "980eb55f",
   "metadata": {},
   "outputs": [
    {
     "data": {
      "text/plain": [
       "tensor([[[1.4542e+00, 7.0625e-43, 1.1421e-03, 7.0625e-43, 4.2878e+00],\n",
       "         [7.0625e-43, 0.0000e+00, 0.0000e+00, 0.0000e+00, 0.0000e+00],\n",
       "         [0.0000e+00, 0.0000e+00, 0.0000e+00, 0.0000e+00, 0.0000e+00]],\n",
       "\n",
       "        [[0.0000e+00, 0.0000e+00, 0.0000e+00, 1.4013e-45, 0.0000e+00],\n",
       "         [0.0000e+00, 0.0000e+00, 0.0000e+00, 0.0000e+00, 0.0000e+00],\n",
       "         [0.0000e+00, 0.0000e+00, 0.0000e+00, 9.8091e-45, 0.0000e+00]]])"
      ]
     },
     "execution_count": 14,
     "metadata": {},
     "output_type": "execute_result"
    }
   ],
   "source": [
    "data9"
   ]
  },
  {
   "cell_type": "code",
   "execution_count": 15,
   "id": "94f21abd",
   "metadata": {},
   "outputs": [],
   "source": [
    "# _like()로 tensor 생성\n",
    "data12 = torch.full_like(data5, 20)"
   ]
  },
  {
   "cell_type": "code",
   "execution_count": 16,
   "id": "04a31842",
   "metadata": {},
   "outputs": [
    {
     "name": "stdout",
     "output_type": "stream",
     "text": [
      "tensor([[10, 10, 10, 10],\n",
      "        [10, 10, 10, 10]])\n",
      "tensor([[20, 20, 20, 20],\n",
      "        [20, 20, 20, 20]])\n"
     ]
    }
   ],
   "source": [
    "print(data5)\n",
    "print(data12)"
   ]
  },
  {
   "cell_type": "markdown",
   "id": "b1802263",
   "metadata": {},
   "source": [
    "#### ✨reshape()\n",
    "- 배열 구조 변경\n",
    "- 원소 수를 유지하면서 텐서의 크기 변경할 때 많이 사용하며, 매우 중요함!"
   ]
  },
  {
   "cell_type": "code",
   "execution_count": 17,
   "id": "97936fd2",
   "metadata": {},
   "outputs": [
    {
     "name": "stdout",
     "output_type": "stream",
     "text": [
      "tensor([[1., 2., 3.],\n",
      "        [4., 5., 6.]], dtype=torch.float64) torch.Size([2, 3])\n",
      "tensor([[1., 2.],\n",
      "        [3., 4.],\n",
      "        [5., 6.]], dtype=torch.float64) torch.Size([3, 2])\n",
      "tensor([[1., 2., 3., 4., 5., 6.]], dtype=torch.float64) torch.Size([1, 6])\n"
     ]
    }
   ],
   "source": [
    "import torch\n",
    "\n",
    "data1 = torch.DoubleTensor([ [1,2,3], [4,5,6] ])\n",
    "print(data1, data1.shape)\n",
    "\n",
    "data1 = data1.reshape(3, 2)\n",
    "print(data1, data1.shape)\n",
    "\n",
    "data1 = data1.reshape(1, -1)\n",
    "print(data1, data1.shape)"
   ]
  },
  {
   "cell_type": "markdown",
   "id": "0e7747b8",
   "metadata": {},
   "source": [
    "#### ✨view()\n",
    ": 텐서 구조 변경"
   ]
  },
  {
   "cell_type": "code",
   "execution_count": 18,
   "id": "0cb6ffe3",
   "metadata": {},
   "outputs": [
    {
     "name": "stdout",
     "output_type": "stream",
     "text": [
      "torch.Size([2, 2, 3]) 높이(k): 2 너비(n): 2 깊이(m): 3\n"
     ]
    }
   ],
   "source": [
    "import torch\n",
    "\n",
    "data1 = torch.DoubleTensor([\n",
    "    [[1,2,3],\n",
    "    [4,5,6]],\n",
    "    [[7,8,9],\n",
    "    [10,11,12]]\n",
    "])\n",
    "print(data1.shape, \"높이(k):\", data1.size(0), \"너비(n):\", data1.size(1), \"깊이(m):\", data1.size(2))"
   ]
  },
  {
   "cell_type": "code",
   "execution_count": 19,
   "id": "9ab6eeb0",
   "metadata": {},
   "outputs": [
    {
     "name": "stdout",
     "output_type": "stream",
     "text": [
      "tensor([[ 1.,  2.,  3.,  4.,  5.,  6.],\n",
      "        [ 7.,  8.,  9., 10., 11., 12.]], dtype=torch.float64) torch.Size([2, 6])\n",
      "tensor([[ 1.,  2.,  3.],\n",
      "        [ 4.,  5.,  6.],\n",
      "        [ 7.,  8.,  9.],\n",
      "        [10., 11., 12.]], dtype=torch.float64) torch.Size([4, 3])\n",
      "tensor([[[ 1.,  2.],\n",
      "         [ 3.,  4.]],\n",
      "\n",
      "        [[ 5.,  6.],\n",
      "         [ 7.,  8.]],\n",
      "\n",
      "        [[ 9., 10.],\n",
      "         [11., 12.]]], dtype=torch.float64) torch.Size([3, 2, 2])\n"
     ]
    }
   ],
   "source": [
    "data1 = data1.view(2, -1)\n",
    "print(data1, data1.shape)\n",
    "\n",
    "data1 = data1.view(-1, 3)\n",
    "print(data1, data1.shape)\n",
    "\n",
    "data1 = data1.view(3, 2, -1)\n",
    "print(data1, data1.shape)"
   ]
  },
  {
   "cell_type": "markdown",
   "id": "b9961868",
   "metadata": {},
   "source": [
    "#### ✨squeeze() : 텐서 차원 압축"
   ]
  },
  {
   "cell_type": "code",
   "execution_count": 20,
   "id": "badbd0bc",
   "metadata": {},
   "outputs": [
    {
     "name": "stdout",
     "output_type": "stream",
     "text": [
      "tensor([[1.],\n",
      "        [2.],\n",
      "        [3.]]) 2 torch.Size([3, 1])\n",
      "tensor([1., 2., 3.]) 1 torch.Size([3])\n"
     ]
    }
   ],
   "source": [
    "data1 = torch.FloatTensor([ [1], [2], [3] ])\n",
    "data2 = data1.squeeze()\n",
    "print(data1, data1.dim(), data1.shape)\n",
    "print(data2, data2.dim(), data2.shape)"
   ]
  },
  {
   "cell_type": "code",
   "execution_count": 21,
   "id": "fbf3c7c7",
   "metadata": {},
   "outputs": [
    {
     "data": {
      "text/plain": [
       "torch.Size([2, 3, 4])"
      ]
     },
     "execution_count": 21,
     "metadata": {},
     "output_type": "execute_result"
    }
   ],
   "source": [
    "data4 = torch.randn(2, 1, 3, 4)\n",
    "data4.squeeze().shape"
   ]
  },
  {
   "cell_type": "markdown",
   "id": "6fafcdf8",
   "metadata": {},
   "source": [
    "#### ✨unsqueeze() : 특정 위치에 1인 차원을 추가"
   ]
  },
  {
   "cell_type": "code",
   "execution_count": 22,
   "id": "834198ef",
   "metadata": {},
   "outputs": [
    {
     "name": "stdout",
     "output_type": "stream",
     "text": [
      "tensor([[1., 2., 3.],\n",
      "        [4., 5., 6.]]) 2 torch.Size([2, 3])\n"
     ]
    }
   ],
   "source": [
    "data1 = torch.FloatTensor([[1,2,3], [4,5,6]])\n",
    "print(data1, data1.dim(), data1.shape)"
   ]
  },
  {
   "cell_type": "code",
   "execution_count": 23,
   "id": "65d2b932",
   "metadata": {},
   "outputs": [
    {
     "name": "stdout",
     "output_type": "stream",
     "text": [
      "tensor([[[1., 2., 3.],\n",
      "         [4., 5., 6.]]]) 3 torch.Size([1, 2, 3])\n",
      "tensor([[[[1., 2., 3.],\n",
      "          [4., 5., 6.]]]]) 4 torch.Size([1, 1, 2, 3])\n"
     ]
    }
   ],
   "source": [
    "data2 = data1.unsqueeze(0)\n",
    "data3 = data2.unsqueeze(1)\n",
    "print(data2, data2.dim(), data2.shape)\n",
    "print(data3, data3.dim(), data3.shape)"
   ]
  },
  {
   "cell_type": "markdown",
   "id": "0e41ec5d",
   "metadata": {},
   "source": [
    "#### ✨데이터 타입 변환 (type)"
   ]
  },
  {
   "cell_type": "code",
   "execution_count": 24,
   "id": "62bb006f",
   "metadata": {},
   "outputs": [
    {
     "name": "stdout",
     "output_type": "stream",
     "text": [
      "torch.float32 torch.float64 torch.float16\n",
      "torch.float32 torch.int32 torch.float64\n"
     ]
    }
   ],
   "source": [
    "import torch\n",
    "\n",
    "data1 = torch.zeros(2, dtype=torch.float)\n",
    "data2 = torch.ones(2, 4, dtype=torch.double)\n",
    "data3 = torch.rand(2, 2, 3, dtype=torch.half)\n",
    "print(data1.dtype, data2.dtype, data3.dtype)\n",
    "\n",
    "data1 = data1.type(torch.float32)\n",
    "data2 = data2.type(torch.int)\n",
    "data3 = data3.type(torch.double)\n",
    "print(data1.dtype, data2.dtype, data3.dtype)"
   ]
  },
  {
   "cell_type": "markdown",
   "id": "7250ef5d",
   "metadata": {},
   "source": [
    "#### ✨T : 전치(transpose) 행렬\n",
    "- 행과 열을 교환하여 얻는 행렬을 의미, $A^T$로 표현"
   ]
  },
  {
   "cell_type": "code",
   "execution_count": 25,
   "id": "8bca923b",
   "metadata": {},
   "outputs": [
    {
     "name": "stdout",
     "output_type": "stream",
     "text": [
      "tensor([[1, 1, 1, 1],\n",
      "        [1, 1, 1, 1]], dtype=torch.int32)\n",
      "tensor([[1, 1],\n",
      "        [1, 1],\n",
      "        [1, 1],\n",
      "        [1, 1]], dtype=torch.int32)\n"
     ]
    }
   ],
   "source": [
    "print(data2)\n",
    "data2 = data2.T\n",
    "print(data2)"
   ]
  },
  {
   "cell_type": "markdown",
   "id": "64a4eb5a",
   "metadata": {},
   "source": [
    "#### ✨numpy 와 pytorch\n",
    "- PyTorch의 tensor와 numpy의 ndarray는 서로 변환 가능\n",
    "    - 텐서객체.numpy() : tensor 객체를 ndarray 객체로 변환\n",
    "    - torch.from_numpy(ndarray) : ndarray를 tensor 객체로 변환"
   ]
  },
  {
   "cell_type": "code",
   "execution_count": 26,
   "id": "3a522b9a",
   "metadata": {},
   "outputs": [
    {
     "name": "stdout",
     "output_type": "stream",
     "text": [
      "[[1 2]\n",
      " [3 4]] <class 'numpy.ndarray'>\n",
      "tensor([[1, 2],\n",
      "        [3, 4]], dtype=torch.int32) <class 'torch.Tensor'>\n",
      "[[1 2]\n",
      " [3 4]] <class 'numpy.ndarray'>\n"
     ]
    }
   ],
   "source": [
    "import numpy as np\n",
    "\n",
    "data1 = np.array([ [1,2], [3,4] ])\n",
    "print(data1, type(data1))\n",
    "data2 = torch.from_numpy(data1)\n",
    "print(data2, type(data2))\n",
    "data3 = data2.numpy()\n",
    "print(data3, type(data3))"
   ]
  },
  {
   "cell_type": "markdown",
   "id": "281d6329",
   "metadata": {},
   "source": [
    "#### ✨arange() : 1차원 tensor 생성"
   ]
  },
  {
   "cell_type": "code",
   "execution_count": 27,
   "id": "52c01332",
   "metadata": {},
   "outputs": [
    {
     "data": {
      "text/plain": [
       "tensor([0, 1, 2, 3, 4])"
      ]
     },
     "execution_count": 27,
     "metadata": {},
     "output_type": "execute_result"
    }
   ],
   "source": [
    "torch.arange(5)"
   ]
  },
  {
   "cell_type": "code",
   "execution_count": 28,
   "id": "12a36b92",
   "metadata": {},
   "outputs": [
    {
     "data": {
      "text/plain": [
       "tensor([1, 2, 3, 4])"
      ]
     },
     "execution_count": 28,
     "metadata": {},
     "output_type": "execute_result"
    }
   ],
   "source": [
    "torch.arange(1, 5)"
   ]
  },
  {
   "cell_type": "code",
   "execution_count": 29,
   "id": "65ed2ec1",
   "metadata": {},
   "outputs": [
    {
     "data": {
      "text/plain": [
       "tensor([1, 3])"
      ]
     },
     "execution_count": 29,
     "metadata": {},
     "output_type": "execute_result"
    }
   ],
   "source": [
    "torch.arange(1, 5, 2)"
   ]
  },
  {
   "cell_type": "markdown",
   "id": "4521b857",
   "metadata": {},
   "source": [
    "#### ✨linspace() : 범위 내 1차원 tensor 균등 생성"
   ]
  },
  {
   "cell_type": "code",
   "execution_count": 30,
   "id": "f078d6bd",
   "metadata": {},
   "outputs": [
    {
     "data": {
      "text/plain": [
       "tensor([1.0000, 2.3333, 3.6667, 5.0000])"
      ]
     },
     "execution_count": 30,
     "metadata": {},
     "output_type": "execute_result"
    }
   ],
   "source": [
    "torch.linspace(1, 5, 4)"
   ]
  },
  {
   "cell_type": "code",
   "execution_count": 31,
   "id": "231acdb7",
   "metadata": {},
   "outputs": [
    {
     "data": {
      "text/plain": [
       "tensor([1.0000, 1.4444, 1.8889, 2.3333, 2.7778, 3.2222, 3.6667, 4.1111, 4.5556,\n",
       "        5.0000])"
      ]
     },
     "execution_count": 31,
     "metadata": {},
     "output_type": "execute_result"
    }
   ],
   "source": [
    "torch.linspace(1, 5, 10)"
   ]
  },
  {
   "cell_type": "markdown",
   "id": "83e6c6cf",
   "metadata": {},
   "source": [
    "#### ✨tensor 연산\n",
    "- shape이 동일해야 하고, 행과 열이 같은 값끼리 연산"
   ]
  },
  {
   "cell_type": "code",
   "execution_count": 32,
   "id": "f7f3fadd",
   "metadata": {},
   "outputs": [],
   "source": [
    "data1 = torch.full((2,2), 2)\n",
    "data2 = torch.full((2,2), 3)"
   ]
  },
  {
   "cell_type": "code",
   "execution_count": 33,
   "id": "194da5dc",
   "metadata": {},
   "outputs": [
    {
     "name": "stdout",
     "output_type": "stream",
     "text": [
      "tensor([[2, 2],\n",
      "        [2, 2]])\n",
      "tensor([[3, 3],\n",
      "        [3, 3]])\n"
     ]
    }
   ],
   "source": [
    "print(data1)\n",
    "print(data2)"
   ]
  },
  {
   "cell_type": "code",
   "execution_count": 34,
   "id": "f0587954",
   "metadata": {},
   "outputs": [
    {
     "name": "stdout",
     "output_type": "stream",
     "text": [
      "tensor([[5, 5],\n",
      "        [5, 5]])\n",
      "tensor([[-1, -1],\n",
      "        [-1, -1]])\n",
      "tensor([[6, 6],\n",
      "        [6, 6]])\n",
      "tensor([[0.6667, 0.6667],\n",
      "        [0.6667, 0.6667]])\n"
     ]
    }
   ],
   "source": [
    "print(data1 + data2)\n",
    "print(data1 - data2)\n",
    "print(data1 * data2)\n",
    "print(data1 / data2)"
   ]
  },
  {
   "cell_type": "code",
   "execution_count": 35,
   "id": "7ae162a3",
   "metadata": {},
   "outputs": [
    {
     "data": {
      "text/plain": [
       "tensor([[4, 4, 4],\n",
       "        [4, 4, 4],\n",
       "        [4, 4, 4]])"
      ]
     },
     "execution_count": 35,
     "metadata": {},
     "output_type": "execute_result"
    }
   ],
   "source": [
    "data1 = torch.full((3,2), 2)\n",
    "data2 = torch.full((2,3), 1)\n",
    "torch.matmul(data1, data2)"
   ]
  },
  {
   "cell_type": "markdown",
   "id": "11d07ff9",
   "metadata": {},
   "source": [
    "#### ✨Tensor 연산 (브로드캐스팅)\n",
    "- Tensor 간 연산이 broadcasting을 지원하면, Tensor는 동일한 차원으로 자동 확장됨\n",
    "- shape이 다른 텐서끼리 연산할 때 shape을 맞춰줌 (데이터 확대)"
   ]
  },
  {
   "cell_type": "code",
   "execution_count": 37,
   "id": "4639773e",
   "metadata": {},
   "outputs": [
    {
     "name": "stdout",
     "output_type": "stream",
     "text": [
      "torch.Size([3, 1]) torch.Size([3]) torch.Size([3, 3])\n",
      "tensor([[2., 2., 2.],\n",
      "        [3., 3., 3.],\n",
      "        [4., 4., 4.]])\n"
     ]
    }
   ],
   "source": [
    "data1 = torch.FloatTensor([ [1],[2],[3] ])\n",
    "data2 = torch.FloatTensor([1,1,1])\n",
    "data3 = data1 + data2\n",
    "\n",
    "print(data1.shape, data2.shape, data3.shape)\n",
    "print(data3)"
   ]
  },
  {
   "cell_type": "code",
   "execution_count": 38,
   "id": "a6042b86",
   "metadata": {},
   "outputs": [
    {
     "name": "stdout",
     "output_type": "stream",
     "text": [
      "torch.Size([10, 20, 4]) torch.Size([20, 4]) torch.Size([10, 20, 4])\n"
     ]
    }
   ],
   "source": [
    "data1 = torch.FloatTensor(10,20,4)\n",
    "data2 = torch.FloatTensor(20,4)\n",
    "data3 = data1 + data2\n",
    "\n",
    "print(data1.shape, data2.shape, data3.shape)"
   ]
  },
  {
   "cell_type": "code",
   "execution_count": 39,
   "id": "b306e607",
   "metadata": {},
   "outputs": [
    {
     "name": "stdout",
     "output_type": "stream",
     "text": [
      "torch.Size([10, 2, 5]) torch.Size([10, 2, 1]) torch.Size([10, 2, 5])\n"
     ]
    }
   ],
   "source": [
    "data1 = torch.FloatTensor(10,2,5)\n",
    "data2 = torch.FloatTensor(10,2,1)\n",
    "data3 = data1 + data2\n",
    "\n",
    "print(data1.shape, data2.shape, data3.shape)"
   ]
  },
  {
   "cell_type": "code",
   "execution_count": 40,
   "id": "3a0a86a9",
   "metadata": {},
   "outputs": [
    {
     "name": "stdout",
     "output_type": "stream",
     "text": [
      "torch.Size([5]) torch.Size([10, 10, 1]) torch.Size([10, 10, 5])\n"
     ]
    }
   ],
   "source": [
    "data1 = torch.FloatTensor(5)\n",
    "data2 = torch.FloatTensor(10,10,1)\n",
    "data3 = data1 + data2\n",
    "\n",
    "print(data1.shape, data2.shape, data3.shape)"
   ]
  },
  {
   "cell_type": "markdown",
   "id": "c4bbda44",
   "metadata": {},
   "source": [
    "#### ✨Tensor의 원소 접근 방법 (Indexing)"
   ]
  },
  {
   "cell_type": "code",
   "execution_count": 41,
   "id": "bcd8b083",
   "metadata": {},
   "outputs": [
    {
     "name": "stdout",
     "output_type": "stream",
     "text": [
      "tensor([[1., 2., 3.],\n",
      "        [4., 5., 6.]])\n",
      "tensor(5.)\n",
      "tensor([2., 5.])\n",
      "tensor([[1., 2., 3.],\n",
      "        [4., 5., 6.]])\n",
      "tensor([[1., 2.]])\n"
     ]
    }
   ],
   "source": [
    "data3 = torch.FloatTensor([ [1,2,3], [4,5,6] ])\n",
    "print(data3)\n",
    "print(data3[1, 1])\n",
    "print(data3[:, 1])\n",
    "print(data3[:, :])\n",
    "print(data3[:1, :2])"
   ]
  },
  {
   "cell_type": "markdown",
   "id": "ce84dcd8",
   "metadata": {},
   "source": [
    "#### ✨boolean indexting\n",
    "- 조건 필터링과 검색을 동시에 할 수 있음"
   ]
  },
  {
   "cell_type": "code",
   "execution_count": 42,
   "id": "da80af82",
   "metadata": {},
   "outputs": [
    {
     "name": "stdout",
     "output_type": "stream",
     "text": [
      "tensor([[False, False, False],\n",
      "        [ True,  True,  True]])\n",
      "tensor([5., 5., 5.])\n",
      "tensor([])\n"
     ]
    }
   ],
   "source": [
    "data1 = torch.FloatTensor([ [1,2,3],[5,5,5] ])\n",
    "data2 = data1 > 3\n",
    "print(data2)\n",
    "print(data1[data2])\n",
    "print(data1[(data1 > 3) & (data1 < 5)])"
   ]
  },
  {
   "cell_type": "markdown",
   "id": "d771ff8e",
   "metadata": {},
   "source": [
    "#### ✨fancy indexing\n",
    "- 다른 배열로 배열을 인덱싱할 수 있는 기능"
   ]
  },
  {
   "cell_type": "code",
   "execution_count": 43,
   "id": "cef0f098",
   "metadata": {},
   "outputs": [
    {
     "name": "stdout",
     "output_type": "stream",
     "text": [
      "tensor([[ 0.5730, -0.8958, -1.3144],\n",
      "        [ 0.6169, -0.3903, -0.4328],\n",
      "        [-1.2925, -1.3561,  0.0466],\n",
      "        [-0.1641, -0.1002,  1.3041]])\n"
     ]
    }
   ],
   "source": [
    "data1 = torch.randn(4, 3)\n",
    "print(data1)"
   ]
  },
  {
   "cell_type": "code",
   "execution_count": 45,
   "id": "89643ee7",
   "metadata": {},
   "outputs": [
    {
     "name": "stdout",
     "output_type": "stream",
     "text": [
      "tensor([[ 0.6169, -0.3903, -0.4328],\n",
      "        [-1.2925, -1.3561,  0.0466],\n",
      "        [ 0.5730, -0.8958, -1.3144]])\n",
      "tensor([[ 0.6169, -0.3903, -0.4328],\n",
      "        [-0.1641, -0.1002,  1.3041]])\n"
     ]
    }
   ],
   "source": [
    "# 특정 행 배열 추출하기\n",
    "print(data1[[1,2,0]])\n",
    "print(data1[ [1,-1] ])"
   ]
  },
  {
   "cell_type": "code",
   "execution_count": 49,
   "id": "30eeaec4",
   "metadata": {},
   "outputs": [
    {
     "name": "stdout",
     "output_type": "stream",
     "text": [
      "tensor([[ 0.6169, -0.4328],\n",
      "        [-1.2925,  0.0466]])\n",
      "tensor([[ 0.6169],\n",
      "        [-0.1641]])\n"
     ]
    }
   ],
   "source": [
    "# 특정 행과 열 추출하기\n",
    "print(data1[ [1,2] ][:, [0,2] ])\n",
    "print(data1[ [1,-1]][:, [0] ])"
   ]
  },
  {
   "cell_type": "markdown",
   "id": "864930bc",
   "metadata": {},
   "source": [
    "#### ✨텐서 복사 : 텐서객체.clone().detach()\n",
    "- clone() : 기존 텐서객체의 내용을 복사한 텐서 생성\n",
    "- detach() : 기존 텐서객체 그래프에서 분리된 텐서로 구성"
   ]
  },
  {
   "cell_type": "code",
   "execution_count": 50,
   "id": "2948f0f4",
   "metadata": {},
   "outputs": [
    {
     "name": "stdout",
     "output_type": "stream",
     "text": [
      "tensor([[1., 2., 3.],\n",
      "        [4., 5., 6.]])\n",
      "tensor([[1., 2.],\n",
      "        [4., 5.]])\n"
     ]
    }
   ],
   "source": [
    "data1 = torch.FloatTensor([ [1,2,3], [4,5,6] ])\n",
    "print(data1)\n",
    "\n",
    "data2 = data1[:2, :2]\n",
    "print(data2)"
   ]
  },
  {
   "cell_type": "code",
   "execution_count": 52,
   "id": "de469eae",
   "metadata": {},
   "outputs": [
    {
     "name": "stdout",
     "output_type": "stream",
     "text": [
      "tensor([[1., 2.],\n",
      "        [4., 4.]])\n",
      "tensor([[1., 2., 3.],\n",
      "        [4., 4., 6.]])\n"
     ]
    }
   ],
   "source": [
    "# Shallow Copy (얕은 복사)\n",
    "data2[1,1] = 4\n",
    "print(data2)\n",
    "print(data1)"
   ]
  },
  {
   "cell_type": "code",
   "execution_count": 53,
   "id": "42bee30a",
   "metadata": {},
   "outputs": [
    {
     "name": "stdout",
     "output_type": "stream",
     "text": [
      "tensor([[1., 2., 3.],\n",
      "        [4., 5., 6.]])\n",
      "tensor([[1., 2.],\n",
      "        [4., 5.]])\n",
      "tensor([[1., 2.],\n",
      "        [4., 4.]])\n",
      "tensor([[1., 2., 3.],\n",
      "        [4., 5., 6.]])\n"
     ]
    }
   ],
   "source": [
    "# Deep Copy (깊은 복사)\n",
    "data1 = torch.FloatTensor([ [1,2,3], [4,5,6] ])\n",
    "print(data1)\n",
    "\n",
    "data2 = data1[:2,:2].clone().detach()\n",
    "print(data2)\n",
    "\n",
    "data2[1,1] = 4\n",
    "print(data2)\n",
    "print(data1)"
   ]
  },
  {
   "cell_type": "markdown",
   "id": "587ca27d",
   "metadata": {},
   "source": [
    "#### ✨tensor 조건 연산 : where()"
   ]
  },
  {
   "cell_type": "code",
   "execution_count": 54,
   "id": "dc9305b3",
   "metadata": {},
   "outputs": [
    {
     "name": "stdout",
     "output_type": "stream",
     "text": [
      "(tensor([1, 2, 4]),)\n",
      "tensor([2., 0., 1.])\n"
     ]
    }
   ],
   "source": [
    "# 조건에 맞는 값 indexing\n",
    "data1 = torch.FloatTensor([7,2,0,4,1])\n",
    "index = torch.where(data1 < 3)\n",
    "\n",
    "print(index) # 조건에 맞는 인덱스 번호 리턴\n",
    "print(data1[index])"
   ]
  },
  {
   "cell_type": "code",
   "execution_count": 55,
   "id": "ddeb9807",
   "metadata": {},
   "outputs": [
    {
     "name": "stdout",
     "output_type": "stream",
     "text": [
      "tensor([7., 2., 0., 4., 1.])\n",
      "tensor([ 1, -1, -1,  1, -1])\n"
     ]
    }
   ],
   "source": [
    "# 조건에 맞는 값 특정 다른 값으로 변환\n",
    "print(data1)\n",
    "data2 = torch.where(data1 < 3, -1, 1) # 조건에 맞으면 -1, 틀리면 1\n",
    "print(data2)"
   ]
  },
  {
   "cell_type": "code",
   "execution_count": 56,
   "id": "4f188bfd",
   "metadata": {},
   "outputs": [
    {
     "name": "stdout",
     "output_type": "stream",
     "text": [
      "tensor([[-1, -1,  1],\n",
      "        [ 1,  1,  1]])\n"
     ]
    }
   ],
   "source": [
    "# 다차원 배열에도 적용 가능\n",
    "data1 = torch.FloatTensor([ [1,2,3], [4,5,6] ])\n",
    "data2 = torch.where(data1 < 3, -1, 1)\n",
    "print(data2)"
   ]
  },
  {
   "cell_type": "markdown",
   "id": "c85da8bd",
   "metadata": {},
   "source": [
    "#### ✨tensor 데이터 분석"
   ]
  },
  {
   "cell_type": "code",
   "execution_count": 57,
   "id": "76c8aca0",
   "metadata": {},
   "outputs": [
    {
     "name": "stdout",
     "output_type": "stream",
     "text": [
      "tensor(1.)\n",
      "tensor(6.)\n",
      "tensor(21.)\n",
      "tensor(3.5000)\n",
      "tensor(3.5000)\n",
      "tensor(1.8708)\n",
      "tensor(0)\n",
      "tensor(5)\n"
     ]
    }
   ],
   "source": [
    "data1 = torch.FloatTensor([ [1,2,3], [4,5,6] ])\n",
    "print(data1.min())\n",
    "print(data1.max())\n",
    "print(data1.sum())\n",
    "print(data1.mean())\n",
    "print(data1.var())\n",
    "print(data1.std())\n",
    "print(data1.argmin())\n",
    "print(data1.argmax())"
   ]
  },
  {
   "cell_type": "markdown",
   "id": "b1fefecd",
   "metadata": {},
   "source": [
    "#### ✨텐서를 파일로 저장하고 불러오기\n",
    "- 한 개의 텐서 저장\n",
    "    - save() : 파일로 저장 가능"
   ]
  },
  {
   "cell_type": "code",
   "execution_count": 58,
   "id": "cf46622b",
   "metadata": {},
   "outputs": [
    {
     "name": "stdout",
     "output_type": "stream",
     "text": [
      "tensor([1.0000, 2.3333, 3.6667, 5.0000])\n"
     ]
    }
   ],
   "source": [
    "data1 = torch.linspace(1,5,4)\n",
    "print(data1)\n",
    "torch.save(data1, 'mydata1.pt')"
   ]
  },
  {
   "cell_type": "markdown",
   "id": "167833f4",
   "metadata": {},
   "source": [
    "- 한 개의 텐서 읽어오기\n",
    "    - load() : 파일로 저장된 1차원 배열 읽어오기"
   ]
  },
  {
   "cell_type": "code",
   "execution_count": 59,
   "id": "dfea3bd2",
   "metadata": {},
   "outputs": [
    {
     "name": "stdout",
     "output_type": "stream",
     "text": [
      "tensor([1.0000, 2.3333, 3.6667, 5.0000])\n"
     ]
    }
   ],
   "source": [
    "data2 = torch.load('mydata1.pt')\n",
    "print(data2)"
   ]
  },
  {
   "cell_type": "markdown",
   "id": "ed536b7a",
   "metadata": {},
   "source": [
    "- 한개 이상의 텐서 저장\n",
    "    - 각 배열을 key=배열로 key값을 지정할 수 있음"
   ]
  },
  {
   "cell_type": "code",
   "execution_count": 60,
   "id": "47ebfe4c",
   "metadata": {},
   "outputs": [
    {
     "name": "stdout",
     "output_type": "stream",
     "text": [
      "tensor([1.0000, 2.3333, 3.6667, 5.0000])\n",
      "tensor([ 1.,  4.,  7., 10.])\n",
      "tensor([  1.,  34.,  67., 100.])\n"
     ]
    }
   ],
   "source": [
    "data1 = torch.linspace(1,5,4)\n",
    "data2 = torch.linspace(1,10,4)\n",
    "data3 = torch.linspace(1,100,4)\n",
    "print(data1)\n",
    "print(data2)\n",
    "print(data3)\n",
    "datas = {'data1':data1, 'data2':data2, 'data3':data3}\n",
    "torch.save(datas, 'mydata1.pt')"
   ]
  },
  {
   "cell_type": "code",
   "execution_count": 61,
   "id": "94364252",
   "metadata": {},
   "outputs": [
    {
     "name": "stdout",
     "output_type": "stream",
     "text": [
      "tensor([1.0000, 2.3333, 3.6667, 5.0000])\n",
      "tensor([ 1.,  4.,  7., 10.])\n",
      "tensor([  1.,  34.,  67., 100.])\n"
     ]
    }
   ],
   "source": [
    "datas = torch.load('mydata1.pt')\n",
    "print(datas['data1'])\n",
    "print(datas['data2'])\n",
    "print(datas['data3'])"
   ]
  },
  {
   "cell_type": "code",
   "execution_count": 62,
   "id": "36ea6879",
   "metadata": {},
   "outputs": [
    {
     "data": {
      "text/plain": [
       "dict"
      ]
     },
     "execution_count": 62,
     "metadata": {},
     "output_type": "execute_result"
    }
   ],
   "source": [
    "type(datas)"
   ]
  },
  {
   "cell_type": "code",
   "execution_count": null,
   "id": "c547f25d",
   "metadata": {},
   "outputs": [],
   "source": []
  }
 ],
 "metadata": {
  "kernelspec": {
   "display_name": "Python 3 (ipykernel)",
   "language": "python",
   "name": "python3"
  },
  "language_info": {
   "codemirror_mode": {
    "name": "ipython",
    "version": 3
   },
   "file_extension": ".py",
   "mimetype": "text/x-python",
   "name": "python",
   "nbconvert_exporter": "python",
   "pygments_lexer": "ipython3",
   "version": "3.9.15"
  }
 },
 "nbformat": 4,
 "nbformat_minor": 5
}
